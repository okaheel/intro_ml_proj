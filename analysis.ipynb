{
 "cells": [
  {
   "cell_type": "code",
   "execution_count": 20,
   "id": "7e96625d",
   "metadata": {},
   "outputs": [],
   "source": [
    "import pandas as pd\n",
    "import numpy as np\n",
    "import matplotlib.pyplot as plt\n",
    "import seaborn as sns\n",
    "import warnings\n",
    "from sklearn.metrics import mean_squared_error\n",
    "from scipy.stats import pearsonr\n",
    "from sklearn.model_selection import cross_val_score, cross_val_predict\n",
    "from sklearn import metrics\n",
    "import plotly.express as px"
   ]
  },
  {
   "cell_type": "code",
   "execution_count": 21,
   "id": "7301d68f",
   "metadata": {},
   "outputs": [
    {
     "data": {
      "text/html": [
       "<div>\n",
       "<style scoped>\n",
       "    .dataframe tbody tr th:only-of-type {\n",
       "        vertical-align: middle;\n",
       "    }\n",
       "\n",
       "    .dataframe tbody tr th {\n",
       "        vertical-align: top;\n",
       "    }\n",
       "\n",
       "    .dataframe thead th {\n",
       "        text-align: right;\n",
       "    }\n",
       "</style>\n",
       "<table border=\"1\" class=\"dataframe\">\n",
       "  <thead>\n",
       "    <tr style=\"text-align: right;\">\n",
       "      <th></th>\n",
       "      <th>State</th>\n",
       "      <th>Year</th>\n",
       "      <th>Nitrogen (%)</th>\n",
       "      <th>Nitrogen (Pounds/Acre)</th>\n",
       "      <th>Phosphorous (%)</th>\n",
       "      <th>Phosphorous (Pounds/Acre)</th>\n",
       "      <th>Potash (%)</th>\n",
       "      <th>Potash (Pounds/Acre)</th>\n",
       "      <th>Area Planted (acres)</th>\n",
       "      <th>Harvested Area (acres)</th>\n",
       "      <th>Lint Yield (Pounds/Harvested Acre)</th>\n",
       "    </tr>\n",
       "  </thead>\n",
       "  <tbody>\n",
       "    <tr>\n",
       "      <th>0</th>\n",
       "      <td>Alabama</td>\n",
       "      <td>1964</td>\n",
       "      <td>99.0</td>\n",
       "      <td>72.0</td>\n",
       "      <td>100.0</td>\n",
       "      <td>62.0</td>\n",
       "      <td>99.0</td>\n",
       "      <td>63.0</td>\n",
       "      <td>NaN</td>\n",
       "      <td>NaN</td>\n",
       "      <td>NaN</td>\n",
       "    </tr>\n",
       "    <tr>\n",
       "      <th>1</th>\n",
       "      <td>Alabama</td>\n",
       "      <td>1965</td>\n",
       "      <td>100.0</td>\n",
       "      <td>81.0</td>\n",
       "      <td>100.0</td>\n",
       "      <td>63.0</td>\n",
       "      <td>100.0</td>\n",
       "      <td>66.0</td>\n",
       "      <td>NaN</td>\n",
       "      <td>NaN</td>\n",
       "      <td>NaN</td>\n",
       "    </tr>\n",
       "    <tr>\n",
       "      <th>2</th>\n",
       "      <td>Alabama</td>\n",
       "      <td>1966</td>\n",
       "      <td>100.0</td>\n",
       "      <td>83.0</td>\n",
       "      <td>100.0</td>\n",
       "      <td>69.0</td>\n",
       "      <td>100.0</td>\n",
       "      <td>70.0</td>\n",
       "      <td>NaN</td>\n",
       "      <td>NaN</td>\n",
       "      <td>NaN</td>\n",
       "    </tr>\n",
       "    <tr>\n",
       "      <th>3</th>\n",
       "      <td>Alabama</td>\n",
       "      <td>1967</td>\n",
       "      <td>100.0</td>\n",
       "      <td>78.0</td>\n",
       "      <td>100.0</td>\n",
       "      <td>71.0</td>\n",
       "      <td>100.0</td>\n",
       "      <td>73.0</td>\n",
       "      <td>NaN</td>\n",
       "      <td>NaN</td>\n",
       "      <td>NaN</td>\n",
       "    </tr>\n",
       "    <tr>\n",
       "      <th>4</th>\n",
       "      <td>Alabama</td>\n",
       "      <td>1968</td>\n",
       "      <td>100.0</td>\n",
       "      <td>71.0</td>\n",
       "      <td>99.0</td>\n",
       "      <td>71.0</td>\n",
       "      <td>99.0</td>\n",
       "      <td>73.0</td>\n",
       "      <td>NaN</td>\n",
       "      <td>NaN</td>\n",
       "      <td>NaN</td>\n",
       "    </tr>\n",
       "    <tr>\n",
       "      <th>...</th>\n",
       "      <td>...</td>\n",
       "      <td>...</td>\n",
       "      <td>...</td>\n",
       "      <td>...</td>\n",
       "      <td>...</td>\n",
       "      <td>...</td>\n",
       "      <td>...</td>\n",
       "      <td>...</td>\n",
       "      <td>...</td>\n",
       "      <td>...</td>\n",
       "      <td>...</td>\n",
       "    </tr>\n",
       "    <tr>\n",
       "      <th>751</th>\n",
       "      <td>Texas</td>\n",
       "      <td>2013</td>\n",
       "      <td>NaN</td>\n",
       "      <td>NaN</td>\n",
       "      <td>NaN</td>\n",
       "      <td>NaN</td>\n",
       "      <td>NaN</td>\n",
       "      <td>NaN</td>\n",
       "      <td>4800.0</td>\n",
       "      <td>4500.0</td>\n",
       "      <td>610.0</td>\n",
       "    </tr>\n",
       "    <tr>\n",
       "      <th>752</th>\n",
       "      <td>Texas</td>\n",
       "      <td>2014</td>\n",
       "      <td>NaN</td>\n",
       "      <td>NaN</td>\n",
       "      <td>NaN</td>\n",
       "      <td>NaN</td>\n",
       "      <td>NaN</td>\n",
       "      <td>NaN</td>\n",
       "      <td>5650.0</td>\n",
       "      <td>5200.0</td>\n",
       "      <td>748.0</td>\n",
       "    </tr>\n",
       "    <tr>\n",
       "      <th>753</th>\n",
       "      <td>Texas</td>\n",
       "      <td>2015</td>\n",
       "      <td>66.0</td>\n",
       "      <td>65.0</td>\n",
       "      <td>46.0</td>\n",
       "      <td>34.0</td>\n",
       "      <td>16.0</td>\n",
       "      <td>14.0</td>\n",
       "      <td>7000.0</td>\n",
       "      <td>5500.0</td>\n",
       "      <td>809.0</td>\n",
       "    </tr>\n",
       "    <tr>\n",
       "      <th>754</th>\n",
       "      <td>Texas</td>\n",
       "      <td>2016</td>\n",
       "      <td>NaN</td>\n",
       "      <td>NaN</td>\n",
       "      <td>NaN</td>\n",
       "      <td>NaN</td>\n",
       "      <td>NaN</td>\n",
       "      <td>NaN</td>\n",
       "      <td>7750.0</td>\n",
       "      <td>4350.0</td>\n",
       "      <td>756.0</td>\n",
       "    </tr>\n",
       "    <tr>\n",
       "      <th>755</th>\n",
       "      <td>Texas</td>\n",
       "      <td>2017</td>\n",
       "      <td>68.0</td>\n",
       "      <td>77.0</td>\n",
       "      <td>52.0</td>\n",
       "      <td>37.0</td>\n",
       "      <td>25.0</td>\n",
       "      <td>20.0</td>\n",
       "      <td>7050.0</td>\n",
       "      <td>6000.0</td>\n",
       "      <td>568.0</td>\n",
       "    </tr>\n",
       "  </tbody>\n",
       "</table>\n",
       "<p>756 rows × 11 columns</p>\n",
       "</div>"
      ],
      "text/plain": [
       "       State  Year  Nitrogen (%)  Nitrogen (Pounds/Acre)  Phosphorous (%)  \\\n",
       "0    Alabama  1964          99.0                    72.0            100.0   \n",
       "1    Alabama  1965         100.0                    81.0            100.0   \n",
       "2    Alabama  1966         100.0                    83.0            100.0   \n",
       "3    Alabama  1967         100.0                    78.0            100.0   \n",
       "4    Alabama  1968         100.0                    71.0             99.0   \n",
       "..       ...   ...           ...                     ...              ...   \n",
       "751    Texas  2013           NaN                     NaN              NaN   \n",
       "752    Texas  2014           NaN                     NaN              NaN   \n",
       "753    Texas  2015          66.0                    65.0             46.0   \n",
       "754    Texas  2016           NaN                     NaN              NaN   \n",
       "755    Texas  2017          68.0                    77.0             52.0   \n",
       "\n",
       "     Phosphorous (Pounds/Acre)  Potash (%)  Potash (Pounds/Acre)  \\\n",
       "0                         62.0        99.0                  63.0   \n",
       "1                         63.0       100.0                  66.0   \n",
       "2                         69.0       100.0                  70.0   \n",
       "3                         71.0       100.0                  73.0   \n",
       "4                         71.0        99.0                  73.0   \n",
       "..                         ...         ...                   ...   \n",
       "751                        NaN         NaN                   NaN   \n",
       "752                        NaN         NaN                   NaN   \n",
       "753                       34.0        16.0                  14.0   \n",
       "754                        NaN         NaN                   NaN   \n",
       "755                       37.0        25.0                  20.0   \n",
       "\n",
       "     Area Planted (acres)  Harvested Area (acres)  \\\n",
       "0                     NaN                     NaN   \n",
       "1                     NaN                     NaN   \n",
       "2                     NaN                     NaN   \n",
       "3                     NaN                     NaN   \n",
       "4                     NaN                     NaN   \n",
       "..                    ...                     ...   \n",
       "751                4800.0                  4500.0   \n",
       "752                5650.0                  5200.0   \n",
       "753                7000.0                  5500.0   \n",
       "754                7750.0                  4350.0   \n",
       "755                7050.0                  6000.0   \n",
       "\n",
       "     Lint Yield (Pounds/Harvested Acre)  \n",
       "0                                   NaN  \n",
       "1                                   NaN  \n",
       "2                                   NaN  \n",
       "3                                   NaN  \n",
       "4                                   NaN  \n",
       "..                                  ...  \n",
       "751                               610.0  \n",
       "752                               748.0  \n",
       "753                               809.0  \n",
       "754                               756.0  \n",
       "755                               568.0  \n",
       "\n",
       "[756 rows x 11 columns]"
      ]
     },
     "execution_count": 21,
     "metadata": {},
     "output_type": "execute_result"
    }
   ],
   "source": [
    "df_cotton = pd.read_csv('dataset.csv')\n",
    "df_cotton"
   ]
  },
  {
   "cell_type": "code",
   "execution_count": 22,
   "id": "639336a7",
   "metadata": {},
   "outputs": [
    {
     "data": {
      "text/plain": [
       "State                                   0\n",
       "Year                                    0\n",
       "Nitrogen (%)                          288\n",
       "Nitrogen (Pounds/Acre)                288\n",
       "Phosphorous (%)                       288\n",
       "Phosphorous (Pounds/Acre)             288\n",
       "Potash (%)                            294\n",
       "Potash (Pounds/Acre)                  298\n",
       "Area Planted (acres)                  126\n",
       "Harvested Area (acres)                126\n",
       "Lint Yield (Pounds/Harvested Acre)    126\n",
       "dtype: int64"
      ]
     },
     "execution_count": 22,
     "metadata": {},
     "output_type": "execute_result"
    }
   ],
   "source": [
    "df_cotton.isna().sum()"
   ]
  },
  {
   "cell_type": "code",
   "execution_count": 23,
   "id": "402f8026",
   "metadata": {},
   "outputs": [
    {
     "data": {
      "text/html": [
       "<div>\n",
       "<style scoped>\n",
       "    .dataframe tbody tr th:only-of-type {\n",
       "        vertical-align: middle;\n",
       "    }\n",
       "\n",
       "    .dataframe tbody tr th {\n",
       "        vertical-align: top;\n",
       "    }\n",
       "\n",
       "    .dataframe thead th {\n",
       "        text-align: right;\n",
       "    }\n",
       "</style>\n",
       "<table border=\"1\" class=\"dataframe\">\n",
       "  <thead>\n",
       "    <tr style=\"text-align: right;\">\n",
       "      <th></th>\n",
       "      <th>Year</th>\n",
       "      <th>Nitrogen (%)</th>\n",
       "      <th>Nitrogen (Pounds/Acre)</th>\n",
       "      <th>Phosphorous (%)</th>\n",
       "      <th>Phosphorous (Pounds/Acre)</th>\n",
       "      <th>Potash (%)</th>\n",
       "      <th>Potash (Pounds/Acre)</th>\n",
       "      <th>Area Planted (acres)</th>\n",
       "      <th>Harvested Area (acres)</th>\n",
       "      <th>Lint Yield (Pounds/Harvested Acre)</th>\n",
       "    </tr>\n",
       "    <tr>\n",
       "      <th>State</th>\n",
       "      <th></th>\n",
       "      <th></th>\n",
       "      <th></th>\n",
       "      <th></th>\n",
       "      <th></th>\n",
       "      <th></th>\n",
       "      <th></th>\n",
       "      <th></th>\n",
       "      <th></th>\n",
       "      <th></th>\n",
       "    </tr>\n",
       "  </thead>\n",
       "  <tbody>\n",
       "    <tr>\n",
       "      <th>Alabama</th>\n",
       "      <td>1990.5</td>\n",
       "      <td>99.032258</td>\n",
       "      <td>82.806452</td>\n",
       "      <td>92.774194</td>\n",
       "      <td>64.806452</td>\n",
       "      <td>92.903226</td>\n",
       "      <td>74.258065</td>\n",
       "      <td>419.355556</td>\n",
       "      <td>407.822222</td>\n",
       "      <td>644.688889</td>\n",
       "    </tr>\n",
       "    <tr>\n",
       "      <th>Arizona</th>\n",
       "      <td>1990.5</td>\n",
       "      <td>93.564103</td>\n",
       "      <td>144.410256</td>\n",
       "      <td>43.205128</td>\n",
       "      <td>60.846154</td>\n",
       "      <td>6.054054</td>\n",
       "      <td>23.411765</td>\n",
       "      <td>289.488889</td>\n",
       "      <td>287.800000</td>\n",
       "      <td>1290.288889</td>\n",
       "    </tr>\n",
       "    <tr>\n",
       "      <th>Arkansas</th>\n",
       "      <td>1990.5</td>\n",
       "      <td>97.139535</td>\n",
       "      <td>80.883721</td>\n",
       "      <td>72.697674</td>\n",
       "      <td>41.813953</td>\n",
       "      <td>76.348837</td>\n",
       "      <td>62.069767</td>\n",
       "      <td>733.666667</td>\n",
       "      <td>710.888889</td>\n",
       "      <td>805.911111</td>\n",
       "    </tr>\n",
       "    <tr>\n",
       "      <th>California</th>\n",
       "      <td>1990.5</td>\n",
       "      <td>93.975000</td>\n",
       "      <td>131.175000</td>\n",
       "      <td>35.625000</td>\n",
       "      <td>67.750000</td>\n",
       "      <td>10.236842</td>\n",
       "      <td>52.432432</td>\n",
       "      <td>751.577778</td>\n",
       "      <td>744.711111</td>\n",
       "      <td>1299.088889</td>\n",
       "    </tr>\n",
       "    <tr>\n",
       "      <th>Georgia</th>\n",
       "      <td>1990.5</td>\n",
       "      <td>98.441176</td>\n",
       "      <td>90.529412</td>\n",
       "      <td>95.117647</td>\n",
       "      <td>58.117647</td>\n",
       "      <td>97.000000</td>\n",
       "      <td>91.558824</td>\n",
       "      <td>865.622222</td>\n",
       "      <td>837.977778</td>\n",
       "      <td>684.311111</td>\n",
       "    </tr>\n",
       "    <tr>\n",
       "      <th>Louisiana</th>\n",
       "      <td>1990.5</td>\n",
       "      <td>96.325000</td>\n",
       "      <td>79.600000</td>\n",
       "      <td>62.200000</td>\n",
       "      <td>46.900000</td>\n",
       "      <td>63.875000</td>\n",
       "      <td>57.700000</td>\n",
       "      <td>532.888889</td>\n",
       "      <td>519.866667</td>\n",
       "      <td>751.666667</td>\n",
       "    </tr>\n",
       "    <tr>\n",
       "      <th>Mississippi</th>\n",
       "      <td>1990.5</td>\n",
       "      <td>98.953488</td>\n",
       "      <td>101.720930</td>\n",
       "      <td>44.767442</td>\n",
       "      <td>55.372093</td>\n",
       "      <td>54.790698</td>\n",
       "      <td>74.697674</td>\n",
       "      <td>978.155556</td>\n",
       "      <td>961.200000</td>\n",
       "      <td>809.400000</td>\n",
       "    </tr>\n",
       "    <tr>\n",
       "      <th>Missouri</th>\n",
       "      <td>1990.5</td>\n",
       "      <td>96.933333</td>\n",
       "      <td>67.300000</td>\n",
       "      <td>86.366667</td>\n",
       "      <td>43.933333</td>\n",
       "      <td>92.433333</td>\n",
       "      <td>64.200000</td>\n",
       "      <td>301.133333</td>\n",
       "      <td>290.955556</td>\n",
       "      <td>769.911111</td>\n",
       "    </tr>\n",
       "    <tr>\n",
       "      <th>New Mexico</th>\n",
       "      <td>1990.5</td>\n",
       "      <td>58.190476</td>\n",
       "      <td>68.190476</td>\n",
       "      <td>43.571429</td>\n",
       "      <td>61.857143</td>\n",
       "      <td>8.842105</td>\n",
       "      <td>20.210526</td>\n",
       "      <td>69.533333</td>\n",
       "      <td>60.088889</td>\n",
       "      <td>777.777778</td>\n",
       "    </tr>\n",
       "    <tr>\n",
       "      <th>North Carolina</th>\n",
       "      <td>1990.5</td>\n",
       "      <td>98.136364</td>\n",
       "      <td>73.818182</td>\n",
       "      <td>88.090909</td>\n",
       "      <td>50.454545</td>\n",
       "      <td>95.181818</td>\n",
       "      <td>87.000000</td>\n",
       "      <td>425.600000</td>\n",
       "      <td>418.044444</td>\n",
       "      <td>666.333333</td>\n",
       "    </tr>\n",
       "    <tr>\n",
       "      <th>Oklahoma</th>\n",
       "      <td>1990.5</td>\n",
       "      <td>51.625000</td>\n",
       "      <td>34.875000</td>\n",
       "      <td>44.166667</td>\n",
       "      <td>33.791667</td>\n",
       "      <td>29.083333</td>\n",
       "      <td>17.541667</td>\n",
       "      <td>366.222222</td>\n",
       "      <td>312.333333</td>\n",
       "      <td>489.888889</td>\n",
       "    </tr>\n",
       "    <tr>\n",
       "      <th>South Carolina</th>\n",
       "      <td>1990.5</td>\n",
       "      <td>99.346154</td>\n",
       "      <td>91.038462</td>\n",
       "      <td>91.500000</td>\n",
       "      <td>63.115385</td>\n",
       "      <td>97.230769</td>\n",
       "      <td>98.923077</td>\n",
       "      <td>206.000000</td>\n",
       "      <td>197.377778</td>\n",
       "      <td>640.400000</td>\n",
       "    </tr>\n",
       "    <tr>\n",
       "      <th>Tennessee</th>\n",
       "      <td>1990.5</td>\n",
       "      <td>98.437500</td>\n",
       "      <td>78.500000</td>\n",
       "      <td>95.781250</td>\n",
       "      <td>60.312500</td>\n",
       "      <td>94.937500</td>\n",
       "      <td>73.093750</td>\n",
       "      <td>432.666667</td>\n",
       "      <td>420.933333</td>\n",
       "      <td>675.311111</td>\n",
       "    </tr>\n",
       "    <tr>\n",
       "      <th>Texas</th>\n",
       "      <td>1990.5</td>\n",
       "      <td>58.720930</td>\n",
       "      <td>57.232558</td>\n",
       "      <td>44.744186</td>\n",
       "      <td>40.558140</td>\n",
       "      <td>19.000000</td>\n",
       "      <td>17.581395</td>\n",
       "      <td>5868.000000</td>\n",
       "      <td>4730.000000</td>\n",
       "      <td>509.844444</td>\n",
       "    </tr>\n",
       "  </tbody>\n",
       "</table>\n",
       "</div>"
      ],
      "text/plain": [
       "                  Year  Nitrogen (%)  Nitrogen (Pounds/Acre)  Phosphorous (%)  \\\n",
       "State                                                                           \n",
       "Alabama         1990.5     99.032258               82.806452        92.774194   \n",
       "Arizona         1990.5     93.564103              144.410256        43.205128   \n",
       "Arkansas        1990.5     97.139535               80.883721        72.697674   \n",
       "California      1990.5     93.975000              131.175000        35.625000   \n",
       "Georgia         1990.5     98.441176               90.529412        95.117647   \n",
       "Louisiana       1990.5     96.325000               79.600000        62.200000   \n",
       "Mississippi     1990.5     98.953488              101.720930        44.767442   \n",
       "Missouri        1990.5     96.933333               67.300000        86.366667   \n",
       "New Mexico      1990.5     58.190476               68.190476        43.571429   \n",
       "North Carolina  1990.5     98.136364               73.818182        88.090909   \n",
       "Oklahoma        1990.5     51.625000               34.875000        44.166667   \n",
       "South Carolina  1990.5     99.346154               91.038462        91.500000   \n",
       "Tennessee       1990.5     98.437500               78.500000        95.781250   \n",
       "Texas           1990.5     58.720930               57.232558        44.744186   \n",
       "\n",
       "                Phosphorous (Pounds/Acre)  Potash (%)  Potash (Pounds/Acre)  \\\n",
       "State                                                                         \n",
       "Alabama                         64.806452   92.903226             74.258065   \n",
       "Arizona                         60.846154    6.054054             23.411765   \n",
       "Arkansas                        41.813953   76.348837             62.069767   \n",
       "California                      67.750000   10.236842             52.432432   \n",
       "Georgia                         58.117647   97.000000             91.558824   \n",
       "Louisiana                       46.900000   63.875000             57.700000   \n",
       "Mississippi                     55.372093   54.790698             74.697674   \n",
       "Missouri                        43.933333   92.433333             64.200000   \n",
       "New Mexico                      61.857143    8.842105             20.210526   \n",
       "North Carolina                  50.454545   95.181818             87.000000   \n",
       "Oklahoma                        33.791667   29.083333             17.541667   \n",
       "South Carolina                  63.115385   97.230769             98.923077   \n",
       "Tennessee                       60.312500   94.937500             73.093750   \n",
       "Texas                           40.558140   19.000000             17.581395   \n",
       "\n",
       "                Area Planted (acres)  Harvested Area (acres)  \\\n",
       "State                                                          \n",
       "Alabama                   419.355556              407.822222   \n",
       "Arizona                   289.488889              287.800000   \n",
       "Arkansas                  733.666667              710.888889   \n",
       "California                751.577778              744.711111   \n",
       "Georgia                   865.622222              837.977778   \n",
       "Louisiana                 532.888889              519.866667   \n",
       "Mississippi               978.155556              961.200000   \n",
       "Missouri                  301.133333              290.955556   \n",
       "New Mexico                 69.533333               60.088889   \n",
       "North Carolina            425.600000              418.044444   \n",
       "Oklahoma                  366.222222              312.333333   \n",
       "South Carolina            206.000000              197.377778   \n",
       "Tennessee                 432.666667              420.933333   \n",
       "Texas                    5868.000000             4730.000000   \n",
       "\n",
       "                Lint Yield (Pounds/Harvested Acre)  \n",
       "State                                               \n",
       "Alabama                                 644.688889  \n",
       "Arizona                                1290.288889  \n",
       "Arkansas                                805.911111  \n",
       "California                             1299.088889  \n",
       "Georgia                                 684.311111  \n",
       "Louisiana                               751.666667  \n",
       "Mississippi                             809.400000  \n",
       "Missouri                                769.911111  \n",
       "New Mexico                              777.777778  \n",
       "North Carolina                          666.333333  \n",
       "Oklahoma                                489.888889  \n",
       "South Carolina                          640.400000  \n",
       "Tennessee                               675.311111  \n",
       "Texas                                   509.844444  "
      ]
     },
     "execution_count": 23,
     "metadata": {},
     "output_type": "execute_result"
    }
   ],
   "source": [
    "df_cotton.groupby('State').mean()"
   ]
  },
  {
   "cell_type": "code",
   "execution_count": 24,
   "id": "d3fbd356",
   "metadata": {},
   "outputs": [],
   "source": [
    "df_cotton=df_cotton.fillna(df_cotton.groupby('State').transform('mean'))"
   ]
  },
  {
   "cell_type": "code",
   "execution_count": 25,
   "id": "174da718",
   "metadata": {},
   "outputs": [
    {
     "data": {
      "text/html": [
       "<div>\n",
       "<style scoped>\n",
       "    .dataframe tbody tr th:only-of-type {\n",
       "        vertical-align: middle;\n",
       "    }\n",
       "\n",
       "    .dataframe tbody tr th {\n",
       "        vertical-align: top;\n",
       "    }\n",
       "\n",
       "    .dataframe thead th {\n",
       "        text-align: right;\n",
       "    }\n",
       "</style>\n",
       "<table border=\"1\" class=\"dataframe\">\n",
       "  <thead>\n",
       "    <tr style=\"text-align: right;\">\n",
       "      <th></th>\n",
       "      <th>State</th>\n",
       "      <th>Year</th>\n",
       "      <th>Nitrogen (%)</th>\n",
       "      <th>Nitrogen (Pounds/Acre)</th>\n",
       "      <th>Phosphorous (%)</th>\n",
       "      <th>Phosphorous (Pounds/Acre)</th>\n",
       "      <th>Potash (%)</th>\n",
       "      <th>Potash (Pounds/Acre)</th>\n",
       "      <th>Area Planted (acres)</th>\n",
       "      <th>Harvested Area (acres)</th>\n",
       "      <th>Lint Yield (Pounds/Harvested Acre)</th>\n",
       "    </tr>\n",
       "  </thead>\n",
       "  <tbody>\n",
       "    <tr>\n",
       "      <th>0</th>\n",
       "      <td>Alabama</td>\n",
       "      <td>1964</td>\n",
       "      <td>99.00000</td>\n",
       "      <td>72.000000</td>\n",
       "      <td>100.000000</td>\n",
       "      <td>62.00000</td>\n",
       "      <td>99.0</td>\n",
       "      <td>63.000000</td>\n",
       "      <td>419.355556</td>\n",
       "      <td>407.822222</td>\n",
       "      <td>644.688889</td>\n",
       "    </tr>\n",
       "    <tr>\n",
       "      <th>1</th>\n",
       "      <td>Alabama</td>\n",
       "      <td>1965</td>\n",
       "      <td>100.00000</td>\n",
       "      <td>81.000000</td>\n",
       "      <td>100.000000</td>\n",
       "      <td>63.00000</td>\n",
       "      <td>100.0</td>\n",
       "      <td>66.000000</td>\n",
       "      <td>419.355556</td>\n",
       "      <td>407.822222</td>\n",
       "      <td>644.688889</td>\n",
       "    </tr>\n",
       "    <tr>\n",
       "      <th>2</th>\n",
       "      <td>Alabama</td>\n",
       "      <td>1966</td>\n",
       "      <td>100.00000</td>\n",
       "      <td>83.000000</td>\n",
       "      <td>100.000000</td>\n",
       "      <td>69.00000</td>\n",
       "      <td>100.0</td>\n",
       "      <td>70.000000</td>\n",
       "      <td>419.355556</td>\n",
       "      <td>407.822222</td>\n",
       "      <td>644.688889</td>\n",
       "    </tr>\n",
       "    <tr>\n",
       "      <th>3</th>\n",
       "      <td>Alabama</td>\n",
       "      <td>1967</td>\n",
       "      <td>100.00000</td>\n",
       "      <td>78.000000</td>\n",
       "      <td>100.000000</td>\n",
       "      <td>71.00000</td>\n",
       "      <td>100.0</td>\n",
       "      <td>73.000000</td>\n",
       "      <td>419.355556</td>\n",
       "      <td>407.822222</td>\n",
       "      <td>644.688889</td>\n",
       "    </tr>\n",
       "    <tr>\n",
       "      <th>4</th>\n",
       "      <td>Alabama</td>\n",
       "      <td>1968</td>\n",
       "      <td>100.00000</td>\n",
       "      <td>71.000000</td>\n",
       "      <td>99.000000</td>\n",
       "      <td>71.00000</td>\n",
       "      <td>99.0</td>\n",
       "      <td>73.000000</td>\n",
       "      <td>419.355556</td>\n",
       "      <td>407.822222</td>\n",
       "      <td>644.688889</td>\n",
       "    </tr>\n",
       "    <tr>\n",
       "      <th>...</th>\n",
       "      <td>...</td>\n",
       "      <td>...</td>\n",
       "      <td>...</td>\n",
       "      <td>...</td>\n",
       "      <td>...</td>\n",
       "      <td>...</td>\n",
       "      <td>...</td>\n",
       "      <td>...</td>\n",
       "      <td>...</td>\n",
       "      <td>...</td>\n",
       "      <td>...</td>\n",
       "    </tr>\n",
       "    <tr>\n",
       "      <th>751</th>\n",
       "      <td>Texas</td>\n",
       "      <td>2013</td>\n",
       "      <td>58.72093</td>\n",
       "      <td>57.232558</td>\n",
       "      <td>44.744186</td>\n",
       "      <td>40.55814</td>\n",
       "      <td>19.0</td>\n",
       "      <td>17.581395</td>\n",
       "      <td>4800.000000</td>\n",
       "      <td>4500.000000</td>\n",
       "      <td>610.000000</td>\n",
       "    </tr>\n",
       "    <tr>\n",
       "      <th>752</th>\n",
       "      <td>Texas</td>\n",
       "      <td>2014</td>\n",
       "      <td>58.72093</td>\n",
       "      <td>57.232558</td>\n",
       "      <td>44.744186</td>\n",
       "      <td>40.55814</td>\n",
       "      <td>19.0</td>\n",
       "      <td>17.581395</td>\n",
       "      <td>5650.000000</td>\n",
       "      <td>5200.000000</td>\n",
       "      <td>748.000000</td>\n",
       "    </tr>\n",
       "    <tr>\n",
       "      <th>753</th>\n",
       "      <td>Texas</td>\n",
       "      <td>2015</td>\n",
       "      <td>66.00000</td>\n",
       "      <td>65.000000</td>\n",
       "      <td>46.000000</td>\n",
       "      <td>34.00000</td>\n",
       "      <td>16.0</td>\n",
       "      <td>14.000000</td>\n",
       "      <td>7000.000000</td>\n",
       "      <td>5500.000000</td>\n",
       "      <td>809.000000</td>\n",
       "    </tr>\n",
       "    <tr>\n",
       "      <th>754</th>\n",
       "      <td>Texas</td>\n",
       "      <td>2016</td>\n",
       "      <td>58.72093</td>\n",
       "      <td>57.232558</td>\n",
       "      <td>44.744186</td>\n",
       "      <td>40.55814</td>\n",
       "      <td>19.0</td>\n",
       "      <td>17.581395</td>\n",
       "      <td>7750.000000</td>\n",
       "      <td>4350.000000</td>\n",
       "      <td>756.000000</td>\n",
       "    </tr>\n",
       "    <tr>\n",
       "      <th>755</th>\n",
       "      <td>Texas</td>\n",
       "      <td>2017</td>\n",
       "      <td>68.00000</td>\n",
       "      <td>77.000000</td>\n",
       "      <td>52.000000</td>\n",
       "      <td>37.00000</td>\n",
       "      <td>25.0</td>\n",
       "      <td>20.000000</td>\n",
       "      <td>7050.000000</td>\n",
       "      <td>6000.000000</td>\n",
       "      <td>568.000000</td>\n",
       "    </tr>\n",
       "  </tbody>\n",
       "</table>\n",
       "<p>756 rows × 11 columns</p>\n",
       "</div>"
      ],
      "text/plain": [
       "       State  Year  Nitrogen (%)  Nitrogen (Pounds/Acre)  Phosphorous (%)  \\\n",
       "0    Alabama  1964      99.00000               72.000000       100.000000   \n",
       "1    Alabama  1965     100.00000               81.000000       100.000000   \n",
       "2    Alabama  1966     100.00000               83.000000       100.000000   \n",
       "3    Alabama  1967     100.00000               78.000000       100.000000   \n",
       "4    Alabama  1968     100.00000               71.000000        99.000000   \n",
       "..       ...   ...           ...                     ...              ...   \n",
       "751    Texas  2013      58.72093               57.232558        44.744186   \n",
       "752    Texas  2014      58.72093               57.232558        44.744186   \n",
       "753    Texas  2015      66.00000               65.000000        46.000000   \n",
       "754    Texas  2016      58.72093               57.232558        44.744186   \n",
       "755    Texas  2017      68.00000               77.000000        52.000000   \n",
       "\n",
       "     Phosphorous (Pounds/Acre)  Potash (%)  Potash (Pounds/Acre)  \\\n",
       "0                     62.00000        99.0             63.000000   \n",
       "1                     63.00000       100.0             66.000000   \n",
       "2                     69.00000       100.0             70.000000   \n",
       "3                     71.00000       100.0             73.000000   \n",
       "4                     71.00000        99.0             73.000000   \n",
       "..                         ...         ...                   ...   \n",
       "751                   40.55814        19.0             17.581395   \n",
       "752                   40.55814        19.0             17.581395   \n",
       "753                   34.00000        16.0             14.000000   \n",
       "754                   40.55814        19.0             17.581395   \n",
       "755                   37.00000        25.0             20.000000   \n",
       "\n",
       "     Area Planted (acres)  Harvested Area (acres)  \\\n",
       "0              419.355556              407.822222   \n",
       "1              419.355556              407.822222   \n",
       "2              419.355556              407.822222   \n",
       "3              419.355556              407.822222   \n",
       "4              419.355556              407.822222   \n",
       "..                    ...                     ...   \n",
       "751           4800.000000             4500.000000   \n",
       "752           5650.000000             5200.000000   \n",
       "753           7000.000000             5500.000000   \n",
       "754           7750.000000             4350.000000   \n",
       "755           7050.000000             6000.000000   \n",
       "\n",
       "     Lint Yield (Pounds/Harvested Acre)  \n",
       "0                            644.688889  \n",
       "1                            644.688889  \n",
       "2                            644.688889  \n",
       "3                            644.688889  \n",
       "4                            644.688889  \n",
       "..                                  ...  \n",
       "751                          610.000000  \n",
       "752                          748.000000  \n",
       "753                          809.000000  \n",
       "754                          756.000000  \n",
       "755                          568.000000  \n",
       "\n",
       "[756 rows x 11 columns]"
      ]
     },
     "execution_count": 25,
     "metadata": {},
     "output_type": "execute_result"
    }
   ],
   "source": [
    "df_cotton"
   ]
  },
  {
   "cell_type": "code",
   "execution_count": null,
   "id": "07bcf89e",
   "metadata": {},
   "outputs": [
    {
     "data": {
      "application/vnd.plotly.v1+json": {
       "config": {
        "plotlyServerURL": "https://plot.ly"
       },
       "data": [
        {
         "hovertemplate": "State=Alabama<br>Year=%{x}<br>Lint Yield=%{y}<extra></extra>",
         "legendgroup": "Alabama",
         "marker": {
          "color": "#636efa",
          "symbol": "circle"
         },
         "mode": "markers",
         "name": "Alabama",
         "orientation": "v",
         "showlegend": true,
         "type": "scatter",
         "x": {
          "bdata": "rAetB64HrwewB7EHsgezB7QHtQe2B7cHuAe5B7oHuwe8B70Hvge/B8AHwQfCB8MHxAfFB8YHxwfIB8kHygfLB8wHzQfOB88H0AfRB9IH0wfUB9UH1gfXB9gH2QfaB9sH3AfdB94H3wfgB+EH",
          "dtype": "i2"
         },
         "xaxis": "x",
         "y": {
          "bdata": "2IIt2IIlhEDYgi3YgiWEQNiCLdiCJYRA2IIt2IIlhEDYgi3YgiWEQNiCLdiCJYRA2IIt2IIlhEDYgi3YgiWEQNiCLdiCJYRAAAAAAABQeUAAAAAAAPB4QAAAAAAAEHVAAAAAAACwe0AAAAAAAOB/QAAAAAAAsHlAAAAAAAAIgUAAAAAAADiIQAAAAAAAkHlAAAAAAADYhUAAAAAAANiIQAAAAAAAoH9AAAAAAADggUAAAAAAAGB+QAAAAAAA2IFAAAAAAADAfUAAAAAAAHiEQAAAAAAA2IZAAAAAAABggEAAAAAAAPCHQAAAAAAAkHlAAAAAAADwhkAAAAAAAKiCQAAAAAAAeIFAAAAAAAC4gEAAAAAAAMB+QAAAAAAA0IZAAAAAAACwf0AAAAAAACCIQAAAAAAAoIZAAAAAAABYh0AAAAAAABiCQAAAAAAAOIBAAAAAAACYiEAAAAAAALCEQAAAAAAAUIVAAAAAAAAwh0AAAAAAAJCNQAAAAAAAqIhAAAAAAAAojEAAAAAAABCLQAAAAAAA4I5AAAAAAAAwjEAAAAAAANCKQAAAAAAASI5A",
          "dtype": "f8"
         },
         "yaxis": "y"
        },
        {
         "hovertemplate": "State=Arizona<br>Year=%{x}<br>Lint Yield=%{y}<extra></extra>",
         "legendgroup": "Arizona",
         "marker": {
          "color": "#EF553B",
          "symbol": "circle"
         },
         "mode": "markers",
         "name": "Arizona",
         "orientation": "v",
         "showlegend": true,
         "type": "scatter",
         "x": {
          "bdata": "rAetB64HrwewB7EHsgezB7QHtQe2B7cHuAe5B7oHuwe8B70Hvge/B8AHwQfCB8MHxAfFB8YHxwfIB8kHygfLB8wHzQfOB88H0AfRB9IH0wfUB9UH1gfXB9gH2QfaB9sH3AfdB94H3wfgB+EH",
          "dtype": "i2"
         },
         "xaxis": "x",
         "y": {
          "bdata": "0id90icplEDSJ33SJymUQNInfdInKZRA0id90icplEDSJ33SJymUQNInfdInKZRA0id90icplEDSJ33SJymUQNInfdInKZRAAAAAAAAMkEAAAAAAAGiSQAAAAAAAKI9AAAAAAADIjUAAAAAAALSQQAAAAAAAgJJAAAAAAAB8k0AAAAAAAHiRQAAAAAAAJJNAAAAAAAAsk0AAAAAAAGSTQAAAAAAAVJRAAAAAAAAIlkAAAAAAAJiSQAAAAAAAXJRAAAAAAAB8kUAAAAAAAMSSQAAAAAAA1JBAAAAAAADQkkAAAAAAAMySQAAAAAAAWJBAAAAAAACUkkAAAAAAAJyTQAAAAAAAZJJAAAAAAAD4k0AAAAAAAFiVQAAAAAAA2JFAAAAAAACUlUAAAAAAAFyTQAAAAAAAyJZAAAAAAAAklEAAAAAAADCWQAAAAAAA9JZAAAAAAADYlkAAAAAAABSXQAAAAAAAtJdAAAAAAAAwmEAAAAAAAAiXQAAAAAAApJZAAAAAAACsmEAAAAAAAJyXQAAAAAAA1JdAAAAAAADglkAAAAAAAJyUQAAAAAAATJhA",
          "dtype": "f8"
         },
         "yaxis": "y"
        },
        {
         "hovertemplate": "State=Arkansas<br>Year=%{x}<br>Lint Yield=%{y}<extra></extra>",
         "legendgroup": "Arkansas",
         "marker": {
          "color": "#00cc96",
          "symbol": "circle"
         },
         "mode": "markers",
         "name": "Arkansas",
         "orientation": "v",
         "showlegend": true,
         "type": "scatter",
         "x": {
          "bdata": "rAetB64HrwewB7EHsgezB7QHtQe2B7cHuAe5B7oHuwe8B70Hvge/B8AHwQfCB8MHxAfFB8YHxwfIB8kHygfLB8wHzQfOB88H0AfRB9IH0wfUB9UH1gfXB9gH2QfaB9sH3AfdB94H3wfgB+EH",
          "dtype": "i2"
         },
         "xaxis": "x",
         "y": {
          "bdata": "9Umf9EkviUD1SZ/0SS+JQPVJn/RJL4lA9Umf9EkviUD1SZ/0SS+JQPVJn/RJL4lA9Umf9EkviUD1SZ/0SS+JQPVJn/RJL4lAAAAAAABQfkAAAAAAAIB4QAAAAAAAsIBAAAAAAAAQekAAAAAAACiBQAAAAAAAoHRAAAAAAAAwgEAAAAAAAIiEQAAAAAAAuIBAAAAAAADAg0AAAAAAAPiHQAAAAAAA0IJAAAAAAACQiEAAAAAAADCHQAAAAAAAeIVAAAAAAACghUAAAAAAACCIQAAAAAAAuIlAAAAAAADogEAAAAAAAGiLQAAAAAAA2INAAAAAAADIiEAAAAAAACiKQAAAAAAAKIRAAAAAAABQhkAAAAAAAICGQAAAAAAA0IlAAAAAAAA4i0AAAAAAAKCMQAAAAAAAaJFAAAAAAADAj0AAAAAAAFSQQAAAAAAAvJBAAAAAAACgj0AAAAAAAJCJQAAAAAAAVJBAAAAAAAAIjUAAAAAAAKCQQAAAAAAAtJFAAAAAAADkkUAAAAAAABCRQAAAAAAAzJBAAAAAAABkkkAAAAAAALSRQAAAAAAAOJFA",
          "dtype": "f8"
         },
         "yaxis": "y"
        },
        {
         "hovertemplate": "State=California<br>Year=%{x}<br>Lint Yield=%{y}<extra></extra>",
         "legendgroup": "California",
         "marker": {
          "color": "#ab63fa",
          "symbol": "circle"
         },
         "mode": "markers",
         "name": "California",
         "orientation": "v",
         "showlegend": true,
         "type": "scatter",
         "x": {
          "bdata": "rAetB64HrwewB7EHsgezB7QHtQe2B7cHuAe5B7oHuwe8B70Hvge/B8AHwQfCB8MHxAfFB8YHxwfIB8kHygfLB8wHzQfOB88H0AfRB9IH0wfUB9UH1gfXB9gH2QfaB9sH3AfdB94H3wfgB+EH",
          "dtype": "i2"
         },
         "xaxis": "x",
         "y": {
          "bdata": "BluwBVtMlEAGW7AFW0yUQAZbsAVbTJRABluwBVtMlEAGW7AFW0yUQAZbsAVbTJRABluwBVtMlEAGW7AFW0yUQAZbsAVbTJRAAAAAAADAkEAAAAAAAKCQQAAAAAAAII5AAAAAAAAAhEAAAAAAAECPQAAAAAAASI5AAAAAAABUkUAAAAAAANSQQAAAAAAAII9AAAAAAAA4j0AAAAAAALCRQAAAAAAAAJFAAAAAAACsk0AAAAAAALiPQAAAAAAAMJNAAAAAAADQkkAAAAAAAJCTQAAAAAAAPJVAAAAAAADwlEAAAAAAAJySQAAAAAAAyI1AAAAAAAAEkkAAAAAAAMiSQAAAAAAAuItAAAAAAACYk0AAAAAAAIiVQAAAAAAAPJVAAAAAAAD0lkAAAAAAAJSUQAAAAAAAHJhAAAAAAACokkAAAAAAAKSUQAAAAAAAIJlAAAAAAACIl0AAAAAAALiZQAAAAAAALJdAAAAAAAAIl0AAAAAAAASbQAAAAAAAJJtAAAAAAABQmkAAAAAAAOiaQAAAAAAApJ1AAAAAAABElEAAAAAAANidQAAAAAAAyJtA",
          "dtype": "f8"
         },
         "yaxis": "y"
        },
        {
         "hovertemplate": "State=Georgia<br>Year=%{x}<br>Lint Yield=%{y}<extra></extra>",
         "legendgroup": "Georgia",
         "marker": {
          "color": "#FFA15A",
          "symbol": "circle"
         },
         "mode": "markers",
         "name": "Georgia",
         "orientation": "v",
         "showlegend": true,
         "type": "scatter",
         "x": {
          "bdata": "rAetB64HrwewB7EHsgezB7QHtQe2B7cHuAe5B7oHuwe8B70Hvge/B8AHwQfCB8MHxAfFB8YHxwfIB8kHygfLB8wHzQfOB88H0AfRB9IH0wfUB9UH1gfXB9gH2QfaB9sH3AfdB94H3wfgB+EH",
          "dtype": "i2"
         },
         "xaxis": "x",
         "y": {
          "bdata": "KH3SJ31ihUAofdInfWKFQCh90id9YoVAKH3SJ31ihUAofdInfWKFQCh90id9YoVAKH3SJ31ihUAofdInfWKFQCh90id9YoVAAAAAAACwe0AAAAAAAOB4QAAAAAAAAG1AAAAAAADwfEAAAAAAAGB+QAAAAAAAIHBAAAAAAABAe0AAAAAAAFCGQAAAAAAAMH1AAAAAAACAiEAAAAAAAKiGQAAAAAAAcHxAAAAAAACwhEAAAAAAAKCBQAAAAAAAuINAAAAAAABYgUAAAAAAAGCJQAAAAAAAeIhAAAAAAABQgkAAAAAAAFiKQAAAAAAAiINAAAAAAABYh0AAAAAAADCEQAAAAAAAEIJAAAAAAAAYgkAAAAAAAHiCQAAAAAAAgIZAAAAAAABogUAAAAAAAIiIQAAAAAAAEIVAAAAAAACIikAAAAAAAJCJQAAAAAAACIlAAAAAAAAYikAAAAAAADCMQAAAAAAAqIlAAAAAAAC4iEAAAAAAAAyRQAAAAAAA+IlAAAAAAAAgjEAAAAAAADCOQAAAAAAAEIxAAAAAAABIikAAAAAAAHiGQAAAAAAAII1A",
          "dtype": "f8"
         },
         "yaxis": "y"
        },
        {
         "hovertemplate": "State=Louisiana<br>Year=%{x}<br>Lint Yield=%{y}<extra></extra>",
         "legendgroup": "Louisiana",
         "marker": {
          "color": "#19d3f3",
          "symbol": "circle"
         },
         "mode": "markers",
         "name": "Louisiana",
         "orientation": "v",
         "showlegend": true,
         "type": "scatter",
         "x": {
          "bdata": "rAetB64HrwewB7EHsgezB7QHtQe2B7cHuAe5B7oHuwe8B70Hvge/B8AHwQfCB8MHxAfFB8YHxwfIB8kHygfLB8wHzQfOB88H0AfRB9IH0wfUB9UH1gfXB9gH2QfaB9sH3AfdB94H3wfgB+EH",
          "dtype": "i2"
         },
         "xaxis": "x",
         "y": {
          "bdata": "VVVVVVV9h0BVVVVVVX2HQFVVVVVVfYdAVVVVVVV9h0BVVVVVVX2HQFVVVVVVfYdAVVVVVVV9h0BVVVVVVX2HQFVVVVVVfYdAAAAAAAC4gEAAAAAAAKB9QAAAAAAAOIJAAAAAAAAgfEAAAAAAAECGQAAAAAAAoHhAAAAAAAAAgEAAAAAAAPCFQAAAAAAAeINAAAAAAACQiEAAAAAAAKiBQAAAAAAAuIFAAAAAAABwiEAAAAAAAAiGQAAAAAAAAIVAAAAAAABYhkAAAAAAAOCJQAAAAAAAaIZAAAAAAADwgkAAAAAAAHiJQAAAAAAAMINAAAAAAADIhUAAAAAAAMCGQAAAAAAAUIJAAAAAAAAohkAAAAAAAKiDQAAAAAAAIIJAAAAAAABohkAAAAAAADiOQAAAAAAAGItAAAAAAABwi0AAAAAAAJCNQAAAAAAAyI9AAAAAAAAAgkAAAAAAAEiHQAAAAAAAUIpAAAAAAABwikAAAAAAAOCPQAAAAAAAHJNAAAAAAAAIkkAAAAAAAFCJQAAAAAAAWI1AAAAAAADwi0AAAAAAAKyQQAAAAAAAHJBA",
          "dtype": "f8"
         },
         "yaxis": "y"
        },
        {
         "hovertemplate": "State=Mississippi<br>Year=%{x}<br>Lint Yield=%{y}<extra></extra>",
         "legendgroup": "Mississippi",
         "marker": {
          "color": "#FF6692",
          "symbol": "circle"
         },
         "mode": "markers",
         "name": "Mississippi",
         "orientation": "v",
         "showlegend": true,
         "type": "scatter",
         "x": {
          "bdata": "rAetB64HrwewB7EHsgezB7QHtQe2B7cHuAe5B7oHuwe8B70Hvge/B8AHwQfCB8MHxAfFB8YHxwfIB8kHygfLB8wHzQfOB88H0AfRB9IH0wfUB9UH1gfXB9gH2QfaB9sH3AfdB94H3wfgB+EH",
          "dtype": "i2"
         },
         "xaxis": "x",
         "y": {
          "bdata": "MzMzMzNLiUAzMzMzM0uJQDMzMzMzS4lAMzMzMzNLiUAzMzMzM0uJQDMzMzMzS4lAMzMzMzNLiUAzMzMzM0uJQDMzMzMzS4lAAAAAAABgfEAAAAAAAIB3QAAAAAAAKIJAAAAAAACIgUAAAAAAAIiEQAAAAAAAgH5AAAAAAACQg0AAAAAAAKiKQAAAAAAAAIRAAAAAAAD4h0AAAAAAAOCHQAAAAAAA2IFAAAAAAADoiUAAAAAAAACHQAAAAAAA4IZAAAAAAADAhkAAAAAAAMCLQAAAAAAAyIdAAAAAAADggUAAAAAAADCJQAAAAAAAcINAAAAAAACYiUAAAAAAACiMQAAAAAAACIdAAAAAAAAAhkAAAAAAABCEQAAAAAAAeIZAAAAAAABAiUAAAAAAADCNQAAAAAAAAJBAAAAAAADYikAAAAAAAOiJQAAAAAAAMI5AAAAAAAB4jEAAAAAAAACFQAAAAAAACI9AAAAAAADAjUAAAAAAALCPQAAAAAAAzJJAAAAAAABAk0AAAAAAAACQQAAAAAAA3JJAAAAAAAA4kEAAAAAAANSRQAAAAAAA6JBA",
          "dtype": "f8"
         },
         "yaxis": "y"
        },
        {
         "hovertemplate": "State=Missouri<br>Year=%{x}<br>Lint Yield=%{y}<extra></extra>",
         "legendgroup": "Missouri",
         "marker": {
          "color": "#B6E880",
          "symbol": "circle"
         },
         "mode": "markers",
         "name": "Missouri",
         "orientation": "v",
         "showlegend": true,
         "type": "scatter",
         "x": {
          "bdata": "rAetB64HrwewB7EHsgezB7QHtQe2B7cHuAe5B7oHuwe8B70Hvge/B8AHwQfCB8MHxAfFB8YHxwfIB8kHygfLB8wHzQfOB88H0AfRB9IH0wfUB9UH1gfXB9gH2QfaB9sH3AfdB94H3wfgB+EH",
          "dtype": "i2"
         },
         "xaxis": "x",
         "y": {
          "bdata": "9Umf9EkPiED1SZ/0SQ+IQPVJn/RJD4hA9Umf9EkPiED1SZ/0SQ+IQPVJn/RJD4hA9Umf9EkPiED1SZ/0SQ+IQPVJn/RJD4hAAAAAAAAQfEAAAAAAABBzQAAAAAAAUHtAAAAAAAAAf0AAAAAAADCBQAAAAAAAEHZAAAAAAACQe0AAAAAAAECEQAAAAAAAkHdAAAAAAABQgUAAAAAAAGiEQAAAAAAAYIJAAAAAAADgiEAAAAAAAPiCQAAAAAAAUINAAAAAAAAIhEAAAAAAALCDQAAAAAAAwIhAAAAAAADYgEAAAAAAAMCKQAAAAAAAAIFAAAAAAAAIh0AAAAAAALiFQAAAAAAAcH1AAAAAAADIgkAAAAAAAOCEQAAAAAAAEIpAAAAAAADgiEAAAAAAAPCKQAAAAAAAeJBAAAAAAACYjUAAAAAAAMiNQAAAAAAAQI5AAAAAAABIkUAAAAAAAPiMQAAAAAAAsJBAAAAAAABIjkAAAAAAAJyQQAAAAAAAQI5AAAAAAAB0kUAAAAAAACSRQAAAAAAA6I9AAAAAAADwkkAAAAAAAHSVQAAAAAAAxJNA",
          "dtype": "f8"
         },
         "yaxis": "y"
        },
        {
         "hovertemplate": "State=New Mexico<br>Year=%{x}<br>Lint Yield=%{y}<extra></extra>",
         "legendgroup": "New Mexico",
         "marker": {
          "color": "#FF97FF",
          "symbol": "circle"
         },
         "mode": "markers",
         "name": "New Mexico",
         "orientation": "v",
         "showlegend": true,
         "type": "scatter",
         "x": {
          "bdata": "rAetB64HrwewB7EHsgezB7QHtQe2B7cHuAe5B7oHuwe8B70Hvge/B8AHwQfCB8MHxAfFB8YHxwfIB8kHygfLB8wHzQfOB88H0AfRB9IH0wfUB9UH1gfXB9gH2QfaB9sH3AfdB94H3wfgB+EH",
          "dtype": "i2"
         },
         "xaxis": "x",
         "y": {
          "bdata": "5DiO4zhOiEDkOI7jOE6IQOQ4juM4TohA5DiO4zhOiEDkOI7jOE6IQOQ4juM4TohA5DiO4zhOiEDkOI7jOE6IQOQ4juM4TohAAAAAAADgd0AAAAAAAFiAQAAAAAAA2IJAAAAAAACwe0AAAAAAAMB4QAAAAAAAwHpAAAAAAADQgkAAAAAAADiBQAAAAAAAWIZAAAAAAADogkAAAAAAALiDQAAAAAAAmIJAAAAAAACIhUAAAAAAADCGQAAAAAAA0IVAAAAAAAD4hkAAAAAAABB9QAAAAAAAQINAAAAAAAAIiEAAAAAAAICGQAAAAAAACINAAAAAAADohkAAAAAAACCFQAAAAAAAAIRAAAAAAACwhEAAAAAAAKCGQAAAAAAAoIxAAAAAAACAiUAAAAAAAKCLQAAAAAAAgIpAAAAAAADAj0AAAAAAABCNQAAAAAAAHJFAAAAAAABwjkAAAAAAAFCSQAAAAAAAWJJAAAAAAACMkEAAAAAAAGCQQAAAAAAACI1AAAAAAAAYjUAAAAAAAAiNQAAAAAAAGJBAAAAAAABskkAAAAAAAIiOQAAAAAAAVJJA",
          "dtype": "f8"
         },
         "yaxis": "y"
        },
        {
         "hovertemplate": "State=North Carolina<br>Year=%{x}<br>Lint Yield=%{y}<extra></extra>",
         "legendgroup": "North Carolina",
         "marker": {
          "color": "#FECB52",
          "symbol": "circle"
         },
         "mode": "markers",
         "name": "North Carolina",
         "orientation": "v",
         "showlegend": true,
         "type": "scatter",
         "x": {
          "bdata": "rAetB64HrwewB7EHsgezB7QHtQe2B7cHuAe5B7oHuwe8B70Hvge/B8AHwQfCB8MHxAfFB8YHxwfIB8kHygfLB8wHzQfOB88H0AfRB9IH0wfUB9UH1gfXB9gH2QfaB9sH3AfdB94H3wfgB+EH",
          "dtype": "i2"
         },
         "xaxis": "x",
         "y": {
          "bdata": "q6qqqqrShECrqqqqqtKEQKuqqqqq0oRAq6qqqqrShECrqqqqqtKEQKuqqqqq0oRAq6qqqqrShECrqqqqqtKEQKuqqqqq0oRAAAAAAADAeUAAAAAAAJB+QAAAAAAAEHNAAAAAAAAYgEAAAAAAAHB8QAAAAAAA0HdAAAAAAABwgUAAAAAAANiFQAAAAAAA4HVAAAAAAADAgkAAAAAAADCEQAAAAAAAMIRAAAAAAADwfkAAAAAAABiAQAAAAAAAOINAAAAAAAC4g0AAAAAAAACFQAAAAAAAoIJAAAAAAAC4gEAAAAAAAKCJQAAAAAAA8H1AAAAAAACYhEAAAAAAAGCEQAAAAAAA2IVAAAAAAACwfUAAAAAAADCHQAAAAAAAAIpAAAAAAABQekAAAAAAADCEQAAAAAAAIIxAAAAAAACgikAAAAAAAEiGQAAAAAAA+IdAAAAAAAB4ikAAAAAAAPCOQAAAAAAAMIpAAAAAAABAg0AAAAAAALCPQAAAAAAA+IhAAAAAAAA4kEAAAAAAAEiGQAAAAAAAMIRAAAAAAABIjkAAAAAAAGCJQAAAAAAAGI1A",
          "dtype": "f8"
         },
         "yaxis": "y"
        },
        {
         "hovertemplate": "State=Oklahoma<br>Year=%{x}<br>Lint Yield=%{y}<extra></extra>",
         "legendgroup": "Oklahoma",
         "marker": {
          "color": "#636efa",
          "symbol": "circle"
         },
         "mode": "markers",
         "name": "Oklahoma",
         "orientation": "v",
         "showlegend": true,
         "type": "scatter",
         "x": {
          "bdata": "rAetB64HrwewB7EHsgezB7QHtQe2B7cHuAe5B7oHuwe8B70Hvge/B8AHwQfCB8MHxAfFB8YHxwfIB8kHygfLB8wHzQfOB88H0AfRB9IH0wfUB9UH1gfXB9gH2QfaB9sH3AfdB94H3wfgB+EH",
          "dtype": "i2"
         },
         "xaxis": "x",
         "y": {
          "bdata": "5DiO4ziefkDkOI7jOJ5+QOQ4juM4nn5A5DiO4ziefkDkOI7jOJ5+QOQ4juM4nn5A5DiO4ziefkDkOI7jOJ5+QOQ4juM4nn5AAAAAAABQcUAAAAAAAGBvQAAAAAAAIHlAAAAAAABAckAAAAAAAAB7QAAAAAAAwGVAAAAAAACgdEAAAAAAAMBvQAAAAAAAAG1AAAAAAABAbUAAAAAAAMB3QAAAAAAAAHJAAAAAAADwekAAAAAAAOB0QAAAAAAAgG5AAAAAAAAAf0AAAAAAAPByQAAAAAAAAHRAAAAAAAAgd0AAAAAAANB1QAAAAAAAYGdAAAAAAAAgc0AAAAAAAOB8QAAAAAAAgIFAAAAAAADQfEAAAAAAAHB/QAAAAAAA8H9AAAAAAABogUAAAAAAAECDQAAAAAAAuIZAAAAAAABghkAAAAAAAOiAQAAAAAAAiIlAAAAAAABYiUAAAAAAAIiIQAAAAAAAcIdAAAAAAACogkAAAAAAAJiAQAAAAAAAQINAAAAAAAA4g0AAAAAAAGCLQAAAAAAA6I9AAAAAAACQi0AAAAAAAJiCQAAAAAAACINA",
          "dtype": "f8"
         },
         "yaxis": "y"
        },
        {
         "hovertemplate": "State=South Carolina<br>Year=%{x}<br>Lint Yield=%{y}<extra></extra>",
         "legendgroup": "South Carolina",
         "marker": {
          "color": "#EF553B",
          "symbol": "circle"
         },
         "mode": "markers",
         "name": "South Carolina",
         "orientation": "v",
         "showlegend": true,
         "type": "scatter",
         "x": {
          "bdata": "rAetB64HrwewB7EHsgezB7QHtQe2B7cHuAe5B7oHuwe8B70Hvge/B8AHwQfCB8MHxAfFB8YHxwfIB8kHygfLB8wHzQfOB88H0AfRB9IH0wfUB9UH1gfXB9gH2QfaB9sH3AfdB94H3wfgB+EH",
          "dtype": "i2"
         },
         "xaxis": "x",
         "y": {
          "bdata": "MzMzMzMDhEAzMzMzMwOEQDMzMzMzA4RAMzMzMzMDhEAzMzMzMwOEQDMzMzMzA4RAMzMzMzMDhEAzMzMzMwOEQDMzMzMzA4RAAAAAAABgfEAAAAAAAGB7QAAAAAAAYHVAAAAAAACQgUAAAAAAAOB/QAAAAAAAUHNAAAAAAADYhEAAAAAAAHiIQAAAAAAAEHdAAAAAAACIiEAAAAAAACCGQAAAAAAAIHdAAAAAAADAekAAAAAAAJB9QAAAAAAAkINAAAAAAABAfEAAAAAAAJCIQAAAAAAAqIFAAAAAAADwfkAAAAAAAHCKQAAAAAAAgIBAAAAAAAAwiEAAAAAAAICFQAAAAAAAWIJAAAAAAADAekAAAAAAAJiDQAAAAAAAcIVAAAAAAACgc0AAAAAAAHCGQAAAAAAAWItAAAAAAAA4h0AAAAAAAMiFQAAAAAAAYH5AAAAAAACIi0AAAAAAAECLQAAAAAAAEIxAAAAAAADgiUAAAAAAANiNQAAAAAAAmIVAAAAAAACAjEAAAAAAABiBQAAAAAAAgIRAAAAAAACAjEAAAAAAAOiGQAAAAAAAcIlA",
          "dtype": "f8"
         },
         "yaxis": "y"
        },
        {
         "hovertemplate": "State=Tennessee<br>Year=%{x}<br>Lint Yield=%{y}<extra></extra>",
         "legendgroup": "Tennessee",
         "marker": {
          "color": "#00cc96",
          "symbol": "circle"
         },
         "mode": "markers",
         "name": "Tennessee",
         "orientation": "v",
         "showlegend": true,
         "type": "scatter",
         "x": {
          "bdata": "rAetB64HrwewB7EHsgezB7QHtQe2B7cHuAe5B7oHuwe8B70Hvge/B8AHwQfCB8MHxAfFB8YHxwfIB8kHygfLB8wHzQfOB88H0AfRB9IH0wfUB9UH1gfXB9gH2QfaB9sH3AfdB94H3wfgB+EH",
          "dtype": "i2"
         },
         "xaxis": "x",
         "y": {
          "bdata": "KH3SJ30ahUAofdInfRqFQCh90id9GoVAKH3SJ30ahUAofdInfRqFQCh90id9GoVAKH3SJ30ahUAofdInfRqFQCh90id9GoVAAAAAAAAwdUAAAAAAAHByQAAAAAAAcHlAAAAAAACgfkAAAAAAAFB2QAAAAAAA0HVAAAAAAAAAf0AAAAAAAPCDQAAAAAAAEHVAAAAAAAAgf0AAAAAAAMCCQAAAAAAAuIFAAAAAAADghUAAAAAAAIiAQAAAAAAAEH9AAAAAAADQfEAAAAAAAECBQAAAAAAAWIRAAAAAAACQekAAAAAAALCGQAAAAAAAeIBAAAAAAAAYg0AAAAAAALCEQAAAAAAAaIJAAAAAAACQf0AAAAAAANiCQAAAAAAA2IdAAAAAAAAoh0AAAAAAADCJQAAAAAAAIIxAAAAAAACAikAAAAAAAIiNQAAAAAAAqIFAAAAAAABojEAAAAAAAFiKQAAAAAAAaIpAAAAAAADgiEAAAAAAAJCNQAAAAAAAqIpAAAAAAABwi0AAAAAAAFiQQAAAAAAAQJFAAAAAAAAkkEAAAAAAAESQQAAAAAAAcJFA",
          "dtype": "f8"
         },
         "yaxis": "y"
        },
        {
         "hovertemplate": "State=Texas<br>Year=%{x}<br>Lint Yield=%{y}<extra></extra>",
         "legendgroup": "Texas",
         "marker": {
          "color": "#ab63fa",
          "symbol": "circle"
         },
         "mode": "markers",
         "name": "Texas",
         "orientation": "v",
         "showlegend": true,
         "type": "scatter",
         "x": {
          "bdata": "rAetB64HrwewB7EHsgezB7QHtQe2B7cHuAe5B7oHuwe8B70Hvge/B8AHwQfCB8MHxAfFB8YHxwfIB8kHygfLB8wHzQfOB88H0AfRB9IH0wfUB9UH1gfXB9gH2QfaB9sH3AfdB94H3wfgB+EH",
          "dtype": "i2"
         },
         "xaxis": "x",
         "y": {
          "bdata": "2IIt2ILdf0DYgi3Ygt1/QNiCLdiC3X9A2IIt2ILdf0DYgi3Ygt1/QNiCLdiC3X9A2IIt2ILdf0DYgi3Ygt1/QNiCLdiC3X9AAAAAAABQckAAAAAAABB2QAAAAAAAcHlAAAAAAABgckAAAAAAAFB4QAAAAAAAIG1AAAAAAACAd0AAAAAAANByQAAAAAAAIHRAAAAAAACAd0AAAAAAAEB5QAAAAAAAEHZAAAAAAACgf0AAAAAAAIB9QAAAAAAA8HZAAAAAAADQfUAAAAAAADB6QAAAAAAAkHtAAAAAAABAfkAAAAAAAKB8QAAAAAAAQHdAAAAAAADQf0AAAAAAAKB9QAAAAAAAYIBAAAAAAACwfUAAAAAAAOB6QAAAAAAAEH5AAAAAAADQgEAAAAAAAOB9QAAAAAAAsIVAAAAAAACYhkAAAAAAADiFQAAAAAAAWIpAAAAAAACYhEAAAAAAANCDQAAAAAAA+IVAAAAAAABogkAAAAAAAMCDQAAAAAAAMIRAAAAAAAAghEAAAAAAABCDQAAAAAAAYIdAAAAAAABIiUAAAAAAAKCHQAAAAAAAwIFA",
          "dtype": "f8"
         },
         "yaxis": "y"
        }
       ],
       "layout": {
        "legend": {
         "title": {
          "text": "State"
         },
         "tracegroupgap": 0
        },
        "template": {
         "data": {
          "bar": [
           {
            "error_x": {
             "color": "#2a3f5f"
            },
            "error_y": {
             "color": "#2a3f5f"
            },
            "marker": {
             "line": {
              "color": "#E5ECF6",
              "width": 0.5
             },
             "pattern": {
              "fillmode": "overlay",
              "size": 10,
              "solidity": 0.2
             }
            },
            "type": "bar"
           }
          ],
          "barpolar": [
           {
            "marker": {
             "line": {
              "color": "#E5ECF6",
              "width": 0.5
             },
             "pattern": {
              "fillmode": "overlay",
              "size": 10,
              "solidity": 0.2
             }
            },
            "type": "barpolar"
           }
          ],
          "carpet": [
           {
            "aaxis": {
             "endlinecolor": "#2a3f5f",
             "gridcolor": "white",
             "linecolor": "white",
             "minorgridcolor": "white",
             "startlinecolor": "#2a3f5f"
            },
            "baxis": {
             "endlinecolor": "#2a3f5f",
             "gridcolor": "white",
             "linecolor": "white",
             "minorgridcolor": "white",
             "startlinecolor": "#2a3f5f"
            },
            "type": "carpet"
           }
          ],
          "choropleth": [
           {
            "colorbar": {
             "outlinewidth": 0,
             "ticks": ""
            },
            "type": "choropleth"
           }
          ],
          "contour": [
           {
            "colorbar": {
             "outlinewidth": 0,
             "ticks": ""
            },
            "colorscale": [
             [
              0,
              "#0d0887"
             ],
             [
              0.1111111111111111,
              "#46039f"
             ],
             [
              0.2222222222222222,
              "#7201a8"
             ],
             [
              0.3333333333333333,
              "#9c179e"
             ],
             [
              0.4444444444444444,
              "#bd3786"
             ],
             [
              0.5555555555555556,
              "#d8576b"
             ],
             [
              0.6666666666666666,
              "#ed7953"
             ],
             [
              0.7777777777777778,
              "#fb9f3a"
             ],
             [
              0.8888888888888888,
              "#fdca26"
             ],
             [
              1,
              "#f0f921"
             ]
            ],
            "type": "contour"
           }
          ],
          "contourcarpet": [
           {
            "colorbar": {
             "outlinewidth": 0,
             "ticks": ""
            },
            "type": "contourcarpet"
           }
          ],
          "heatmap": [
           {
            "colorbar": {
             "outlinewidth": 0,
             "ticks": ""
            },
            "colorscale": [
             [
              0,
              "#0d0887"
             ],
             [
              0.1111111111111111,
              "#46039f"
             ],
             [
              0.2222222222222222,
              "#7201a8"
             ],
             [
              0.3333333333333333,
              "#9c179e"
             ],
             [
              0.4444444444444444,
              "#bd3786"
             ],
             [
              0.5555555555555556,
              "#d8576b"
             ],
             [
              0.6666666666666666,
              "#ed7953"
             ],
             [
              0.7777777777777778,
              "#fb9f3a"
             ],
             [
              0.8888888888888888,
              "#fdca26"
             ],
             [
              1,
              "#f0f921"
             ]
            ],
            "type": "heatmap"
           }
          ],
          "histogram": [
           {
            "marker": {
             "pattern": {
              "fillmode": "overlay",
              "size": 10,
              "solidity": 0.2
             }
            },
            "type": "histogram"
           }
          ],
          "histogram2d": [
           {
            "colorbar": {
             "outlinewidth": 0,
             "ticks": ""
            },
            "colorscale": [
             [
              0,
              "#0d0887"
             ],
             [
              0.1111111111111111,
              "#46039f"
             ],
             [
              0.2222222222222222,
              "#7201a8"
             ],
             [
              0.3333333333333333,
              "#9c179e"
             ],
             [
              0.4444444444444444,
              "#bd3786"
             ],
             [
              0.5555555555555556,
              "#d8576b"
             ],
             [
              0.6666666666666666,
              "#ed7953"
             ],
             [
              0.7777777777777778,
              "#fb9f3a"
             ],
             [
              0.8888888888888888,
              "#fdca26"
             ],
             [
              1,
              "#f0f921"
             ]
            ],
            "type": "histogram2d"
           }
          ],
          "histogram2dcontour": [
           {
            "colorbar": {
             "outlinewidth": 0,
             "ticks": ""
            },
            "colorscale": [
             [
              0,
              "#0d0887"
             ],
             [
              0.1111111111111111,
              "#46039f"
             ],
             [
              0.2222222222222222,
              "#7201a8"
             ],
             [
              0.3333333333333333,
              "#9c179e"
             ],
             [
              0.4444444444444444,
              "#bd3786"
             ],
             [
              0.5555555555555556,
              "#d8576b"
             ],
             [
              0.6666666666666666,
              "#ed7953"
             ],
             [
              0.7777777777777778,
              "#fb9f3a"
             ],
             [
              0.8888888888888888,
              "#fdca26"
             ],
             [
              1,
              "#f0f921"
             ]
            ],
            "type": "histogram2dcontour"
           }
          ],
          "mesh3d": [
           {
            "colorbar": {
             "outlinewidth": 0,
             "ticks": ""
            },
            "type": "mesh3d"
           }
          ],
          "parcoords": [
           {
            "line": {
             "colorbar": {
              "outlinewidth": 0,
              "ticks": ""
             }
            },
            "type": "parcoords"
           }
          ],
          "pie": [
           {
            "automargin": true,
            "type": "pie"
           }
          ],
          "scatter": [
           {
            "fillpattern": {
             "fillmode": "overlay",
             "size": 10,
             "solidity": 0.2
            },
            "type": "scatter"
           }
          ],
          "scatter3d": [
           {
            "line": {
             "colorbar": {
              "outlinewidth": 0,
              "ticks": ""
             }
            },
            "marker": {
             "colorbar": {
              "outlinewidth": 0,
              "ticks": ""
             }
            },
            "type": "scatter3d"
           }
          ],
          "scattercarpet": [
           {
            "marker": {
             "colorbar": {
              "outlinewidth": 0,
              "ticks": ""
             }
            },
            "type": "scattercarpet"
           }
          ],
          "scattergeo": [
           {
            "marker": {
             "colorbar": {
              "outlinewidth": 0,
              "ticks": ""
             }
            },
            "type": "scattergeo"
           }
          ],
          "scattergl": [
           {
            "marker": {
             "colorbar": {
              "outlinewidth": 0,
              "ticks": ""
             }
            },
            "type": "scattergl"
           }
          ],
          "scattermap": [
           {
            "marker": {
             "colorbar": {
              "outlinewidth": 0,
              "ticks": ""
             }
            },
            "type": "scattermap"
           }
          ],
          "scattermapbox": [
           {
            "marker": {
             "colorbar": {
              "outlinewidth": 0,
              "ticks": ""
             }
            },
            "type": "scattermapbox"
           }
          ],
          "scatterpolar": [
           {
            "marker": {
             "colorbar": {
              "outlinewidth": 0,
              "ticks": ""
             }
            },
            "type": "scatterpolar"
           }
          ],
          "scatterpolargl": [
           {
            "marker": {
             "colorbar": {
              "outlinewidth": 0,
              "ticks": ""
             }
            },
            "type": "scatterpolargl"
           }
          ],
          "scatterternary": [
           {
            "marker": {
             "colorbar": {
              "outlinewidth": 0,
              "ticks": ""
             }
            },
            "type": "scatterternary"
           }
          ],
          "surface": [
           {
            "colorbar": {
             "outlinewidth": 0,
             "ticks": ""
            },
            "colorscale": [
             [
              0,
              "#0d0887"
             ],
             [
              0.1111111111111111,
              "#46039f"
             ],
             [
              0.2222222222222222,
              "#7201a8"
             ],
             [
              0.3333333333333333,
              "#9c179e"
             ],
             [
              0.4444444444444444,
              "#bd3786"
             ],
             [
              0.5555555555555556,
              "#d8576b"
             ],
             [
              0.6666666666666666,
              "#ed7953"
             ],
             [
              0.7777777777777778,
              "#fb9f3a"
             ],
             [
              0.8888888888888888,
              "#fdca26"
             ],
             [
              1,
              "#f0f921"
             ]
            ],
            "type": "surface"
           }
          ],
          "table": [
           {
            "cells": {
             "fill": {
              "color": "#EBF0F8"
             },
             "line": {
              "color": "white"
             }
            },
            "header": {
             "fill": {
              "color": "#C8D4E3"
             },
             "line": {
              "color": "white"
             }
            },
            "type": "table"
           }
          ]
         },
         "layout": {
          "annotationdefaults": {
           "arrowcolor": "#2a3f5f",
           "arrowhead": 0,
           "arrowwidth": 1
          },
          "autotypenumbers": "strict",
          "coloraxis": {
           "colorbar": {
            "outlinewidth": 0,
            "ticks": ""
           }
          },
          "colorscale": {
           "diverging": [
            [
             0,
             "#8e0152"
            ],
            [
             0.1,
             "#c51b7d"
            ],
            [
             0.2,
             "#de77ae"
            ],
            [
             0.3,
             "#f1b6da"
            ],
            [
             0.4,
             "#fde0ef"
            ],
            [
             0.5,
             "#f7f7f7"
            ],
            [
             0.6,
             "#e6f5d0"
            ],
            [
             0.7,
             "#b8e186"
            ],
            [
             0.8,
             "#7fbc41"
            ],
            [
             0.9,
             "#4d9221"
            ],
            [
             1,
             "#276419"
            ]
           ],
           "sequential": [
            [
             0,
             "#0d0887"
            ],
            [
             0.1111111111111111,
             "#46039f"
            ],
            [
             0.2222222222222222,
             "#7201a8"
            ],
            [
             0.3333333333333333,
             "#9c179e"
            ],
            [
             0.4444444444444444,
             "#bd3786"
            ],
            [
             0.5555555555555556,
             "#d8576b"
            ],
            [
             0.6666666666666666,
             "#ed7953"
            ],
            [
             0.7777777777777778,
             "#fb9f3a"
            ],
            [
             0.8888888888888888,
             "#fdca26"
            ],
            [
             1,
             "#f0f921"
            ]
           ],
           "sequentialminus": [
            [
             0,
             "#0d0887"
            ],
            [
             0.1111111111111111,
             "#46039f"
            ],
            [
             0.2222222222222222,
             "#7201a8"
            ],
            [
             0.3333333333333333,
             "#9c179e"
            ],
            [
             0.4444444444444444,
             "#bd3786"
            ],
            [
             0.5555555555555556,
             "#d8576b"
            ],
            [
             0.6666666666666666,
             "#ed7953"
            ],
            [
             0.7777777777777778,
             "#fb9f3a"
            ],
            [
             0.8888888888888888,
             "#fdca26"
            ],
            [
             1,
             "#f0f921"
            ]
           ]
          },
          "colorway": [
           "#636efa",
           "#EF553B",
           "#00cc96",
           "#ab63fa",
           "#FFA15A",
           "#19d3f3",
           "#FF6692",
           "#B6E880",
           "#FF97FF",
           "#FECB52"
          ],
          "font": {
           "color": "#2a3f5f"
          },
          "geo": {
           "bgcolor": "white",
           "lakecolor": "white",
           "landcolor": "#E5ECF6",
           "showlakes": true,
           "showland": true,
           "subunitcolor": "white"
          },
          "hoverlabel": {
           "align": "left"
          },
          "hovermode": "closest",
          "mapbox": {
           "style": "light"
          },
          "paper_bgcolor": "white",
          "plot_bgcolor": "#E5ECF6",
          "polar": {
           "angularaxis": {
            "gridcolor": "white",
            "linecolor": "white",
            "ticks": ""
           },
           "bgcolor": "#E5ECF6",
           "radialaxis": {
            "gridcolor": "white",
            "linecolor": "white",
            "ticks": ""
           }
          },
          "scene": {
           "xaxis": {
            "backgroundcolor": "#E5ECF6",
            "gridcolor": "white",
            "gridwidth": 2,
            "linecolor": "white",
            "showbackground": true,
            "ticks": "",
            "zerolinecolor": "white"
           },
           "yaxis": {
            "backgroundcolor": "#E5ECF6",
            "gridcolor": "white",
            "gridwidth": 2,
            "linecolor": "white",
            "showbackground": true,
            "ticks": "",
            "zerolinecolor": "white"
           },
           "zaxis": {
            "backgroundcolor": "#E5ECF6",
            "gridcolor": "white",
            "gridwidth": 2,
            "linecolor": "white",
            "showbackground": true,
            "ticks": "",
            "zerolinecolor": "white"
           }
          },
          "shapedefaults": {
           "line": {
            "color": "#2a3f5f"
           }
          },
          "ternary": {
           "aaxis": {
            "gridcolor": "white",
            "linecolor": "white",
            "ticks": ""
           },
           "baxis": {
            "gridcolor": "white",
            "linecolor": "white",
            "ticks": ""
           },
           "bgcolor": "#E5ECF6",
           "caxis": {
            "gridcolor": "white",
            "linecolor": "white",
            "ticks": ""
           }
          },
          "title": {
           "x": 0.05
          },
          "xaxis": {
           "automargin": true,
           "gridcolor": "white",
           "linecolor": "white",
           "ticks": "",
           "title": {
            "standoff": 15
           },
           "zerolinecolor": "white",
           "zerolinewidth": 2
          },
          "yaxis": {
           "automargin": true,
           "gridcolor": "white",
           "linecolor": "white",
           "ticks": "",
           "title": {
            "standoff": 15
           },
           "zerolinecolor": "white",
           "zerolinewidth": 2
          }
         }
        },
        "title": {
         "text": "Lint Yield Over Years by State"
        },
        "xaxis": {
         "anchor": "y",
         "domain": [
          0,
          1
         ],
         "title": {
          "text": "Year"
         }
        },
        "yaxis": {
         "anchor": "x",
         "domain": [
          0,
          1
         ],
         "title": {
          "text": "Lint Yield"
         }
        }
       }
      }
     },
     "metadata": {},
     "output_type": "display_data"
    }
   ],
   "source": [
    "fig = px.scatter(df_cotton, x='Year', y='Lint Yield (Pounds/Harvested Acre)', color='State', \n",
    "                 title='Lint Yield Over Years by State', labels={'Lint Yield (Pounds/Harvested Acre)': 'Lint Yield'})\n",
    "fig"
   ]
  },
  {
   "cell_type": "code",
   "execution_count": null,
   "id": "b2d034a4",
   "metadata": {},
   "outputs": [
    {
     "data": {
      "application/vnd.plotly.v1+json": {
       "config": {
        "plotlyServerURL": "https://plot.ly"
       },
       "data": [
        {
         "customdata": [
          [
           "Alabama"
          ],
          [
           "Alabama"
          ],
          [
           "Alabama"
          ],
          [
           "Alabama"
          ],
          [
           "Alabama"
          ],
          [
           "Alabama"
          ],
          [
           "Alabama"
          ],
          [
           "Alabama"
          ],
          [
           "Alabama"
          ],
          [
           "Alabama"
          ],
          [
           "Alabama"
          ],
          [
           "Alabama"
          ],
          [
           "Alabama"
          ],
          [
           "Alabama"
          ],
          [
           "Alabama"
          ],
          [
           "Alabama"
          ],
          [
           "Alabama"
          ],
          [
           "Alabama"
          ],
          [
           "Alabama"
          ],
          [
           "Alabama"
          ],
          [
           "Alabama"
          ],
          [
           "Alabama"
          ],
          [
           "Alabama"
          ],
          [
           "Alabama"
          ],
          [
           "Alabama"
          ],
          [
           "Alabama"
          ],
          [
           "Alabama"
          ],
          [
           "Alabama"
          ],
          [
           "Alabama"
          ],
          [
           "Alabama"
          ],
          [
           "Alabama"
          ],
          [
           "Alabama"
          ],
          [
           "Alabama"
          ],
          [
           "Alabama"
          ],
          [
           "Alabama"
          ],
          [
           "Alabama"
          ],
          [
           "Alabama"
          ],
          [
           "Alabama"
          ],
          [
           "Alabama"
          ],
          [
           "Alabama"
          ],
          [
           "Alabama"
          ],
          [
           "Alabama"
          ],
          [
           "Alabama"
          ],
          [
           "Alabama"
          ],
          [
           "Alabama"
          ],
          [
           "Alabama"
          ],
          [
           "Alabama"
          ],
          [
           "Alabama"
          ],
          [
           "Alabama"
          ],
          [
           "Alabama"
          ],
          [
           "Alabama"
          ],
          [
           "Alabama"
          ],
          [
           "Alabama"
          ],
          [
           "Alabama"
          ]
         ],
         "hovertemplate": "State=%{customdata[0]}<br>Year=%{x}<br>Lint Yield (lbs/acre)=%{y}<extra></extra>",
         "legendgroup": "Alabama",
         "marker": {
          "color": "#636efa",
          "symbol": "circle"
         },
         "mode": "markers",
         "name": "Alabama",
         "orientation": "v",
         "showlegend": true,
         "type": "scatter",
         "x": {
          "bdata": "rAetB64HrwewB7EHsgezB7QHtQe2B7cHuAe5B7oHuwe8B70Hvge/B8AHwQfCB8MHxAfFB8YHxwfIB8kHygfLB8wHzQfOB88H0AfRB9IH0wfUB9UH1gfXB9gH2QfaB9sH3AfdB94H3wfgB+EH",
          "dtype": "i2"
         },
         "xaxis": "x",
         "y": {
          "bdata": "2IIt2IIlhEDYgi3YgiWEQNiCLdiCJYRA2IIt2IIlhEDYgi3YgiWEQNiCLdiCJYRA2IIt2IIlhEDYgi3YgiWEQNiCLdiCJYRAAAAAAABQeUAAAAAAAPB4QAAAAAAAEHVAAAAAAACwe0AAAAAAAOB/QAAAAAAAsHlAAAAAAAAIgUAAAAAAADiIQAAAAAAAkHlAAAAAAADYhUAAAAAAANiIQAAAAAAAoH9AAAAAAADggUAAAAAAAGB+QAAAAAAA2IFAAAAAAADAfUAAAAAAAHiEQAAAAAAA2IZAAAAAAABggEAAAAAAAPCHQAAAAAAAkHlAAAAAAADwhkAAAAAAAKiCQAAAAAAAeIFAAAAAAAC4gEAAAAAAAMB+QAAAAAAA0IZAAAAAAACwf0AAAAAAACCIQAAAAAAAoIZAAAAAAABYh0AAAAAAABiCQAAAAAAAOIBAAAAAAACYiEAAAAAAALCEQAAAAAAAUIVAAAAAAAAwh0AAAAAAAJCNQAAAAAAAqIhAAAAAAAAojEAAAAAAABCLQAAAAAAA4I5AAAAAAAAwjEAAAAAAANCKQAAAAAAASI5A",
          "dtype": "f8"
         },
         "yaxis": "y"
        },
        {
         "hovertemplate": "<b>OLS trendline</b><br>Lint Yield (Pounds/Harvested Acre) = 5.63804 * Year + -10577.8<br>R<sup>2</sup>=0.312431<br><br>State=Alabama<br>Year=%{x}<br>Lint Yield (lbs/acre)=%{y} <b>(trend)</b><extra></extra>",
         "legendgroup": "Alabama",
         "marker": {
          "color": "#636efa",
          "symbol": "circle"
         },
         "mode": "lines",
         "name": "Alabama",
         "showlegend": false,
         "type": "scatter",
         "x": {
          "bdata": "rAetB64HrwewB7EHsgezB7QHtQe2B7cHuAe5B7oHuwe8B70Hvge/B8AHwQfCB8MHxAfFB8YHxwfIB8kHygfLB8wHzQfOB88H0AfRB9IH0wfUB9UH1gfXB9gH2QfaB9sH3AfdB94H3wfgB+EH",
          "dtype": "i2"
         },
         "xaxis": "x",
         "y": {
          "bdata": "4DidMH70fkDAWN6as05/QKB4HwXpqH9AQEywN48BgEAw3NDsqS6AQDBs8aHEW4BAIPwRV9+IgEAQjDIM+rWAQAAcU8EU44BA8Ktzdi8QgUDwO5QrSj2BQODLtOBkaoFA0FvVlX+XgUDA6/VKmsSBQLB7FgC18YFAsAs3tc8egkCgm1dq6kuCQJAreB8FeYJAgLuY1B+mgkBwS7mJOtOCQHDb2T5VAINAYGv6828tg0BQ+xqpilqDQECLO16lh4NAMBtcE8C0g0Awq3zI2uGDQCA7nX31DoRAEMu9MhA8hEAAW97nKmmEQPDq/pxFloRA8HofUmDDhEDgCkAHe/CEQNCaYLyVHYVAwCqBcbBKhUCwuqEmy3eFQLBKwtvlpIVAoNrikADShUCQagNGG/+FQID6I/s1LIZAcIpEsFBZhkBgGmVla4aGQGCqhRqGs4ZAUDqmz6DghkBAysaEuw2HQDBa5znWOodAIOoH7/Bnh0AgeiikC5WHQBAKSVkmwodAAJppDkHvh0DwKYrDWxyIQOC5qnh2SYhA4EnLLZF2iEDQ2eviq6OIQMBpDJjG0IhA",
          "dtype": "f8"
         },
         "yaxis": "y"
        },
        {
         "customdata": [
          [
           "Arizona"
          ],
          [
           "Arizona"
          ],
          [
           "Arizona"
          ],
          [
           "Arizona"
          ],
          [
           "Arizona"
          ],
          [
           "Arizona"
          ],
          [
           "Arizona"
          ],
          [
           "Arizona"
          ],
          [
           "Arizona"
          ],
          [
           "Arizona"
          ],
          [
           "Arizona"
          ],
          [
           "Arizona"
          ],
          [
           "Arizona"
          ],
          [
           "Arizona"
          ],
          [
           "Arizona"
          ],
          [
           "Arizona"
          ],
          [
           "Arizona"
          ],
          [
           "Arizona"
          ],
          [
           "Arizona"
          ],
          [
           "Arizona"
          ],
          [
           "Arizona"
          ],
          [
           "Arizona"
          ],
          [
           "Arizona"
          ],
          [
           "Arizona"
          ],
          [
           "Arizona"
          ],
          [
           "Arizona"
          ],
          [
           "Arizona"
          ],
          [
           "Arizona"
          ],
          [
           "Arizona"
          ],
          [
           "Arizona"
          ],
          [
           "Arizona"
          ],
          [
           "Arizona"
          ],
          [
           "Arizona"
          ],
          [
           "Arizona"
          ],
          [
           "Arizona"
          ],
          [
           "Arizona"
          ],
          [
           "Arizona"
          ],
          [
           "Arizona"
          ],
          [
           "Arizona"
          ],
          [
           "Arizona"
          ],
          [
           "Arizona"
          ],
          [
           "Arizona"
          ],
          [
           "Arizona"
          ],
          [
           "Arizona"
          ],
          [
           "Arizona"
          ],
          [
           "Arizona"
          ],
          [
           "Arizona"
          ],
          [
           "Arizona"
          ],
          [
           "Arizona"
          ],
          [
           "Arizona"
          ],
          [
           "Arizona"
          ],
          [
           "Arizona"
          ],
          [
           "Arizona"
          ],
          [
           "Arizona"
          ]
         ],
         "hovertemplate": "State=%{customdata[0]}<br>Year=%{x}<br>Lint Yield (lbs/acre)=%{y}<extra></extra>",
         "legendgroup": "Arizona",
         "marker": {
          "color": "#EF553B",
          "symbol": "circle"
         },
         "mode": "markers",
         "name": "Arizona",
         "orientation": "v",
         "showlegend": true,
         "type": "scatter",
         "x": {
          "bdata": "rAetB64HrwewB7EHsgezB7QHtQe2B7cHuAe5B7oHuwe8B70Hvge/B8AHwQfCB8MHxAfFB8YHxwfIB8kHygfLB8wHzQfOB88H0AfRB9IH0wfUB9UH1gfXB9gH2QfaB9sH3AfdB94H3wfgB+EH",
          "dtype": "i2"
         },
         "xaxis": "x",
         "y": {
          "bdata": "0id90icplEDSJ33SJymUQNInfdInKZRA0id90icplEDSJ33SJymUQNInfdInKZRA0id90icplEDSJ33SJymUQNInfdInKZRAAAAAAAAMkEAAAAAAAGiSQAAAAAAAKI9AAAAAAADIjUAAAAAAALSQQAAAAAAAgJJAAAAAAAB8k0AAAAAAAHiRQAAAAAAAJJNAAAAAAAAsk0AAAAAAAGSTQAAAAAAAVJRAAAAAAAAIlkAAAAAAAJiSQAAAAAAAXJRAAAAAAAB8kUAAAAAAAMSSQAAAAAAA1JBAAAAAAADQkkAAAAAAAMySQAAAAAAAWJBAAAAAAACUkkAAAAAAAJyTQAAAAAAAZJJAAAAAAAD4k0AAAAAAAFiVQAAAAAAA2JFAAAAAAACUlUAAAAAAAFyTQAAAAAAAyJZAAAAAAAAklEAAAAAAADCWQAAAAAAA9JZAAAAAAADYlkAAAAAAABSXQAAAAAAAtJdAAAAAAAAwmEAAAAAAAAiXQAAAAAAApJZAAAAAAACsmEAAAAAAAJyXQAAAAAAA1JdAAAAAAADglkAAAAAAAJyUQAAAAAAATJhA",
          "dtype": "f8"
         },
         "yaxis": "y"
        },
        {
         "hovertemplate": "<b>OLS trendline</b><br>Lint Yield (Pounds/Harvested Acre) = 5.96798 * Year + -10589<br>R<sup>2</sup>=0.378078<br><br>State=Arizona<br>Year=%{x}<br>Lint Yield (lbs/acre)=%{y} <b>(trend)</b><extra></extra>",
         "legendgroup": "Arizona",
         "marker": {
          "color": "#EF553B",
          "symbol": "circle"
         },
         "mode": "lines",
         "name": "Arizona",
         "showlegend": false,
         "type": "scatter",
         "x": {
          "bdata": "rAetB64HrwewB7EHsgezB7QHtQe2B7cHuAe5B7oHuwe8B70Hvge/B8AHwQfCB8MHxAfFB8YHxwfIB8kHygfLB8wHzQfOB88H0AfRB9IH0wfUB9UH1gfXB9gH2QfaB9sH3AfdB94H3wfgB+EH",
          "dtype": "i2"
         },
         "xaxis": "x",
         "y": {
          "bdata": "UHWzq4ywkUCo+Uvia8iRQPh95BhL4JFASAJ9Tyr4kUCYhhWGCRCSQOgKrrzoJ5JAOI9G88c/kkCQE98pp1eSQOCXd2CGb5JAMBwQl2WHkkCAoKjNRJ+SQNAkQQQkt5JAKKnZOgPPkkB4LXJx4uaSQMixCqjB/pJAGDaj3qAWk0BoujsVgC6TQLg+1EtfRpNAEMNsgj5ek0BgRwW5HXaTQLDLne/8jZNAAFA2Jtylk0BQ1M5cu72TQKBYZ5Oa1ZNA+Nz/yXntk0BIYZgAWQWUQJjlMDc4HZRA6GnJbRc1lEA47mGk9kyUQIhy+trVZJRA4PaSEbV8lEAweytIlJSUQID/w35zrJRA0INctVLElEAgCPXrMdyUQHiMjSIR9JRAyBAmWfALlUAYlb6PzyOVQGgZV8auO5VAuJ3v/I1TlUAIIogzbWuVQGCmIGpMg5VAsCq5oCublUAAr1HXCrOVQFAz6g3qypVAoLeCRMnilUDwOxt7qPqVQEjAs7GHEpZAmERM6GYqlkDoyOQeRkKWQDhNfVUlWpZAiNEVjARylkDYVa7C44mWQDDaRvnCoZZA",
          "dtype": "f8"
         },
         "yaxis": "y"
        },
        {
         "customdata": [
          [
           "Arkansas"
          ],
          [
           "Arkansas"
          ],
          [
           "Arkansas"
          ],
          [
           "Arkansas"
          ],
          [
           "Arkansas"
          ],
          [
           "Arkansas"
          ],
          [
           "Arkansas"
          ],
          [
           "Arkansas"
          ],
          [
           "Arkansas"
          ],
          [
           "Arkansas"
          ],
          [
           "Arkansas"
          ],
          [
           "Arkansas"
          ],
          [
           "Arkansas"
          ],
          [
           "Arkansas"
          ],
          [
           "Arkansas"
          ],
          [
           "Arkansas"
          ],
          [
           "Arkansas"
          ],
          [
           "Arkansas"
          ],
          [
           "Arkansas"
          ],
          [
           "Arkansas"
          ],
          [
           "Arkansas"
          ],
          [
           "Arkansas"
          ],
          [
           "Arkansas"
          ],
          [
           "Arkansas"
          ],
          [
           "Arkansas"
          ],
          [
           "Arkansas"
          ],
          [
           "Arkansas"
          ],
          [
           "Arkansas"
          ],
          [
           "Arkansas"
          ],
          [
           "Arkansas"
          ],
          [
           "Arkansas"
          ],
          [
           "Arkansas"
          ],
          [
           "Arkansas"
          ],
          [
           "Arkansas"
          ],
          [
           "Arkansas"
          ],
          [
           "Arkansas"
          ],
          [
           "Arkansas"
          ],
          [
           "Arkansas"
          ],
          [
           "Arkansas"
          ],
          [
           "Arkansas"
          ],
          [
           "Arkansas"
          ],
          [
           "Arkansas"
          ],
          [
           "Arkansas"
          ],
          [
           "Arkansas"
          ],
          [
           "Arkansas"
          ],
          [
           "Arkansas"
          ],
          [
           "Arkansas"
          ],
          [
           "Arkansas"
          ],
          [
           "Arkansas"
          ],
          [
           "Arkansas"
          ],
          [
           "Arkansas"
          ],
          [
           "Arkansas"
          ],
          [
           "Arkansas"
          ],
          [
           "Arkansas"
          ]
         ],
         "hovertemplate": "State=%{customdata[0]}<br>Year=%{x}<br>Lint Yield (lbs/acre)=%{y}<extra></extra>",
         "legendgroup": "Arkansas",
         "marker": {
          "color": "#00cc96",
          "symbol": "circle"
         },
         "mode": "markers",
         "name": "Arkansas",
         "orientation": "v",
         "showlegend": true,
         "type": "scatter",
         "x": {
          "bdata": "rAetB64HrwewB7EHsgezB7QHtQe2B7cHuAe5B7oHuwe8B70Hvge/B8AHwQfCB8MHxAfFB8YHxwfIB8kHygfLB8wHzQfOB88H0AfRB9IH0wfUB9UH1gfXB9gH2QfaB9sH3AfdB94H3wfgB+EH",
          "dtype": "i2"
         },
         "xaxis": "x",
         "y": {
          "bdata": "9Umf9EkviUD1SZ/0SS+JQPVJn/RJL4lA9Umf9EkviUD1SZ/0SS+JQPVJn/RJL4lA9Umf9EkviUD1SZ/0SS+JQPVJn/RJL4lAAAAAAABQfkAAAAAAAIB4QAAAAAAAsIBAAAAAAAAQekAAAAAAACiBQAAAAAAAoHRAAAAAAAAwgEAAAAAAAIiEQAAAAAAAuIBAAAAAAADAg0AAAAAAAPiHQAAAAAAA0IJAAAAAAACQiEAAAAAAADCHQAAAAAAAeIVAAAAAAACghUAAAAAAACCIQAAAAAAAuIlAAAAAAADogEAAAAAAAGiLQAAAAAAA2INAAAAAAADIiEAAAAAAACiKQAAAAAAAKIRAAAAAAABQhkAAAAAAAICGQAAAAAAA0IlAAAAAAAA4i0AAAAAAAKCMQAAAAAAAaJFAAAAAAADAj0AAAAAAAFSQQAAAAAAAvJBAAAAAAACgj0AAAAAAAJCJQAAAAAAAVJBAAAAAAAAIjUAAAAAAAKCQQAAAAAAAtJFAAAAAAADkkUAAAAAAABCRQAAAAAAAzJBAAAAAAABkkkAAAAAAALSRQAAAAAAAOJFA",
          "dtype": "f8"
         },
         "yaxis": "y"
        },
        {
         "hovertemplate": "<b>OLS trendline</b><br>Lint Yield (Pounds/Harvested Acre) = 9.37862 * Year + -17862.2<br>R<sup>2</sup>=0.481248<br><br>State=Arkansas<br>Year=%{x}<br>Lint Yield (lbs/acre)=%{y} <b>(trend)</b><extra></extra>",
         "legendgroup": "Arkansas",
         "marker": {
          "color": "#00cc96",
          "symbol": "circle"
         },
         "mode": "lines",
         "name": "Arkansas",
         "showlegend": false,
         "type": "scatter",
         "x": {
          "bdata": "rAetB64HrwewB7EHsgezB7QHtQe2B7cHuAe5B7oHuwe8B70Hvge/B8AHwQfCB8MHxAfFB8YHxwfIB8kHygfLB8wHzQfOB88H0AfRB9IH0wfUB9UH1gfXB9gH2QfaB9sH3AfdB94H3wfgB+EH",
          "dtype": "i2"
         },
         "xaxis": "x",
         "y": {
          "bdata": "wAVbsAVrgUBAmV0YDbaBQMAsYIAUAYJAQMBi6BtMgkDAU2VQI5eCQCDnZ7gq4oJAoHpqIDItg0AgDm2IOXiDQKChb/BAw4NAIDVyWEgOhECgyHTAT1mEQCBcdyhXpIRAgO95kF7vhEAAg3z4ZTqFQIAWf2BthYVAAKqByHTQhUCAPYQwfBuGQADRhpiDZoZAgGSJAIuxhkDg94tokvyGQGCLjtCZR4dA4B6ROKGSh0BgspOgqN2HQOBFlgiwKIhAYNmYcLdziEDgbJvYvr6IQEAAnkDGCYlAwJOgqM1UiUBAJ6MQ1Z+JQMC6pXjc6olAQE6o4OM1ikDA4apI64CKQEB1rbDyy4pAoAiwGPoWi0AgnLKAAWKLQKAvtegIrYtAIMO3UBD4i0CgVrq4F0OMQCDqvCAfjoxAoH2/iCbZjEAAEcLwLSSNQICkxFg1b41AADjHwDy6jUCAy8koRAWOQABfzJBLUI5AgPLO+FKbjkAAhtFgWuaOQGAZ1MhhMY9A4KzWMGl8j0BgQNmYcMePQPDpbQA8CZBAsDNvtL8ukEBwfXBoQ1SQQCDHcRzHeZBA",
          "dtype": "f8"
         },
         "yaxis": "y"
        },
        {
         "customdata": [
          [
           "California"
          ],
          [
           "California"
          ],
          [
           "California"
          ],
          [
           "California"
          ],
          [
           "California"
          ],
          [
           "California"
          ],
          [
           "California"
          ],
          [
           "California"
          ],
          [
           "California"
          ],
          [
           "California"
          ],
          [
           "California"
          ],
          [
           "California"
          ],
          [
           "California"
          ],
          [
           "California"
          ],
          [
           "California"
          ],
          [
           "California"
          ],
          [
           "California"
          ],
          [
           "California"
          ],
          [
           "California"
          ],
          [
           "California"
          ],
          [
           "California"
          ],
          [
           "California"
          ],
          [
           "California"
          ],
          [
           "California"
          ],
          [
           "California"
          ],
          [
           "California"
          ],
          [
           "California"
          ],
          [
           "California"
          ],
          [
           "California"
          ],
          [
           "California"
          ],
          [
           "California"
          ],
          [
           "California"
          ],
          [
           "California"
          ],
          [
           "California"
          ],
          [
           "California"
          ],
          [
           "California"
          ],
          [
           "California"
          ],
          [
           "California"
          ],
          [
           "California"
          ],
          [
           "California"
          ],
          [
           "California"
          ],
          [
           "California"
          ],
          [
           "California"
          ],
          [
           "California"
          ],
          [
           "California"
          ],
          [
           "California"
          ],
          [
           "California"
          ],
          [
           "California"
          ],
          [
           "California"
          ],
          [
           "California"
          ],
          [
           "California"
          ],
          [
           "California"
          ],
          [
           "California"
          ],
          [
           "California"
          ]
         ],
         "hovertemplate": "State=%{customdata[0]}<br>Year=%{x}<br>Lint Yield (lbs/acre)=%{y}<extra></extra>",
         "legendgroup": "California",
         "marker": {
          "color": "#ab63fa",
          "symbol": "circle"
         },
         "mode": "markers",
         "name": "California",
         "orientation": "v",
         "showlegend": true,
         "type": "scatter",
         "x": {
          "bdata": "rAetB64HrwewB7EHsgezB7QHtQe2B7cHuAe5B7oHuwe8B70Hvge/B8AHwQfCB8MHxAfFB8YHxwfIB8kHygfLB8wHzQfOB88H0AfRB9IH0wfUB9UH1gfXB9gH2QfaB9sH3AfdB94H3wfgB+EH",
          "dtype": "i2"
         },
         "xaxis": "x",
         "y": {
          "bdata": "BluwBVtMlEAGW7AFW0yUQAZbsAVbTJRABluwBVtMlEAGW7AFW0yUQAZbsAVbTJRABluwBVtMlEAGW7AFW0yUQAZbsAVbTJRAAAAAAADAkEAAAAAAAKCQQAAAAAAAII5AAAAAAAAAhEAAAAAAAECPQAAAAAAASI5AAAAAAABUkUAAAAAAANSQQAAAAAAAII9AAAAAAAA4j0AAAAAAALCRQAAAAAAAAJFAAAAAAACsk0AAAAAAALiPQAAAAAAAMJNAAAAAAADQkkAAAAAAAJCTQAAAAAAAPJVAAAAAAADwlEAAAAAAAJySQAAAAAAAyI1AAAAAAAAEkkAAAAAAAMiSQAAAAAAAuItAAAAAAACYk0AAAAAAAIiVQAAAAAAAPJVAAAAAAAD0lkAAAAAAAJSUQAAAAAAAHJhAAAAAAACokkAAAAAAAKSUQAAAAAAAIJlAAAAAAACIl0AAAAAAALiZQAAAAAAALJdAAAAAAAAIl0AAAAAAAASbQAAAAAAAJJtAAAAAAABQmkAAAAAAAOiaQAAAAAAApJ1AAAAAAABElEAAAAAAANidQAAAAAAAyJtA",
          "dtype": "f8"
         },
         "yaxis": "y"
        },
        {
         "hovertemplate": "<b>OLS trendline</b><br>Lint Yield (Pounds/Harvested Acre) = 10.8884 * Year + -20374.2<br>R<sup>2</sup>=0.417331<br><br>State=California<br>Year=%{x}<br>Lint Yield (lbs/acre)=%{y} <b>(trend)</b><extra></extra>",
         "legendgroup": "California",
         "marker": {
          "color": "#ab63fa",
          "symbol": "circle"
         },
         "mode": "lines",
         "name": "California",
         "showlegend": false,
         "type": "scatter",
         "x": {
          "bdata": "rAetB64HrwewB7EHsgezB7QHtQe2B7cHuAe5B7oHuwe8B70Hvge/B8AHwQfCB8MHxAfFB8YHxwfIB8kHygfLB8wHzQfOB88H0AfRB9IH0wfUB9UH1gfXB9gH2QfaB9sH3AfdB94H3wfgB+EH",
          "dtype": "i2"
         },
         "xaxis": "x",
         "y": {
          "bdata": "AL5wOmGUj0AgI3CUfOuPQCDEN/dLIZBAsHY3pNlMkEBAKTdRZ3iQQNDbNv70o5BAYI42q4LPkEDwQDZYEPuQQIDzNQWeJpFAEKY1sitSkUCgWDVfuX2RQDALNQxHqZFAwL00udTUkUBQcDRmYgCSQOAiNBPwK5JAcNUzwH1XkkAAiDNtC4OSQJA6MxqZrpJAIO0yxybakkCwnzJ0tAWTQEBSMiFCMZNA0AQyzs9ck0BgtzF7XYiTQPBpMSjrs5NAgBwx1Xjfk0AQzzCCBguUQKCBMC+UNpRAMDQw3CFilEDA5i+Jr42UQECZLzY9uZRA0Esv48rklEBg/i6QWBCVQPCwLj3mO5VAgGMu6nNnlUAQFi6XAZOVQKDILUSPvpVAMHst8RzqlUDALS2eqhWWQFDgLEs4QZZA4JIs+MVslkBwRSylU5iWQAD4K1Lhw5ZAkKor/27vlkAgXSus/BqXQLAPK1mKRpdAQMIqBhhyl0DQdCqzpZ2XQGAnKmAzyZdA8NkpDcH0l0CAjCm6TiCYQBA/KWfcS5hAoPEoFGp3mEAwpCjB96KYQMBWKG6FzphA",
          "dtype": "f8"
         },
         "yaxis": "y"
        },
        {
         "customdata": [
          [
           "Georgia"
          ],
          [
           "Georgia"
          ],
          [
           "Georgia"
          ],
          [
           "Georgia"
          ],
          [
           "Georgia"
          ],
          [
           "Georgia"
          ],
          [
           "Georgia"
          ],
          [
           "Georgia"
          ],
          [
           "Georgia"
          ],
          [
           "Georgia"
          ],
          [
           "Georgia"
          ],
          [
           "Georgia"
          ],
          [
           "Georgia"
          ],
          [
           "Georgia"
          ],
          [
           "Georgia"
          ],
          [
           "Georgia"
          ],
          [
           "Georgia"
          ],
          [
           "Georgia"
          ],
          [
           "Georgia"
          ],
          [
           "Georgia"
          ],
          [
           "Georgia"
          ],
          [
           "Georgia"
          ],
          [
           "Georgia"
          ],
          [
           "Georgia"
          ],
          [
           "Georgia"
          ],
          [
           "Georgia"
          ],
          [
           "Georgia"
          ],
          [
           "Georgia"
          ],
          [
           "Georgia"
          ],
          [
           "Georgia"
          ],
          [
           "Georgia"
          ],
          [
           "Georgia"
          ],
          [
           "Georgia"
          ],
          [
           "Georgia"
          ],
          [
           "Georgia"
          ],
          [
           "Georgia"
          ],
          [
           "Georgia"
          ],
          [
           "Georgia"
          ],
          [
           "Georgia"
          ],
          [
           "Georgia"
          ],
          [
           "Georgia"
          ],
          [
           "Georgia"
          ],
          [
           "Georgia"
          ],
          [
           "Georgia"
          ],
          [
           "Georgia"
          ],
          [
           "Georgia"
          ],
          [
           "Georgia"
          ],
          [
           "Georgia"
          ],
          [
           "Georgia"
          ],
          [
           "Georgia"
          ],
          [
           "Georgia"
          ],
          [
           "Georgia"
          ],
          [
           "Georgia"
          ],
          [
           "Georgia"
          ]
         ],
         "hovertemplate": "State=%{customdata[0]}<br>Year=%{x}<br>Lint Yield (lbs/acre)=%{y}<extra></extra>",
         "legendgroup": "Georgia",
         "marker": {
          "color": "#FFA15A",
          "symbol": "circle"
         },
         "mode": "markers",
         "name": "Georgia",
         "orientation": "v",
         "showlegend": true,
         "type": "scatter",
         "x": {
          "bdata": "rAetB64HrwewB7EHsgezB7QHtQe2B7cHuAe5B7oHuwe8B70Hvge/B8AHwQfCB8MHxAfFB8YHxwfIB8kHygfLB8wHzQfOB88H0AfRB9IH0wfUB9UH1gfXB9gH2QfaB9sH3AfdB94H3wfgB+EH",
          "dtype": "i2"
         },
         "xaxis": "x",
         "y": {
          "bdata": "KH3SJ31ihUAofdInfWKFQCh90id9YoVAKH3SJ31ihUAofdInfWKFQCh90id9YoVAKH3SJ31ihUAofdInfWKFQCh90id9YoVAAAAAAACwe0AAAAAAAOB4QAAAAAAAAG1AAAAAAADwfEAAAAAAAGB+QAAAAAAAIHBAAAAAAABAe0AAAAAAAFCGQAAAAAAAMH1AAAAAAACAiEAAAAAAAKiGQAAAAAAAcHxAAAAAAACwhEAAAAAAAKCBQAAAAAAAuINAAAAAAABYgUAAAAAAAGCJQAAAAAAAeIhAAAAAAABQgkAAAAAAAFiKQAAAAAAAiINAAAAAAABYh0AAAAAAADCEQAAAAAAAEIJAAAAAAAAYgkAAAAAAAHiCQAAAAAAAgIZAAAAAAABogUAAAAAAAIiIQAAAAAAAEIVAAAAAAACIikAAAAAAAJCJQAAAAAAACIlAAAAAAAAYikAAAAAAADCMQAAAAAAAqIlAAAAAAAC4iEAAAAAAAAyRQAAAAAAA+IlAAAAAAAAgjEAAAAAAADCOQAAAAAAAEIxAAAAAAABIikAAAAAAAHiGQAAAAAAAII1A",
          "dtype": "f8"
         },
         "yaxis": "y"
        },
        {
         "hovertemplate": "<b>OLS trendline</b><br>Lint Yield (Pounds/Harvested Acre) = 6.50078 * Year + -12255.5<br>R<sup>2</sup>=0.356202<br><br>State=Georgia<br>Year=%{x}<br>Lint Yield (lbs/acre)=%{y} <b>(trend)</b><extra></extra>",
         "legendgroup": "Georgia",
         "marker": {
          "color": "#FFA15A",
          "symbol": "circle"
         },
         "mode": "lines",
         "name": "Georgia",
         "showlegend": false,
         "type": "scatter",
         "x": {
          "bdata": "rAetB64HrwewB7EHsgezB7QHtQe2B7cHuAe5B7oHuwe8B70Hvge/B8AHwQfCB8MHxAfFB8YHxwfIB8kHygfLB8wHzQfOB88H0AfRB9IH0wfUB9UH1gfXB9gH2QfaB9sH3AfdB94H3wfgB+EH",
          "dtype": "i2"
         },
         "xaxis": "x",
         "y": {
          "bdata": "EIFav1IAgECgFghZVDSAQDCstfJVaIBA0EFjjFecgEBg1xAmWdCAQPBsvr9aBIFAkAJsWVw4gUAgmBnzXWyBQLAtx4xfoIFAQMN0JmHUgUDgWCLAYgiCQHDuz1lkPIJAAIR982VwgkCgGSuNZ6SCQDCv2CZp2IJAwESGwGoMg0BQ2jNabECDQPBv4fNtdINAgAWPjW+og0AQmzwncdyDQKAw6sByEIRAQMaXWnREhEDQW0X0dXiEQGDx8o13rIRAAIegJ3nghECQHE7BehSFQCCy+1p8SIVAsEep9H18hUBQ3VaOf7CFQOByBCiB5IVAcAiywYIYhkAAnl9bhEyGQKAzDfWFgIZAMMm6joe0hkDAXmgoieiGQGD0FcKKHIdA8InDW4xQh0CAH3H1jYSHQBC1Ho+PuIdAsErMKJHsh0BA4HnCkiCIQNB1J1yUVIhAYAvV9ZWIiEAAoYKPl7yIQJA2MCmZ8IhAIMzdwpokiUDAYYtcnFiJQFD3OPadjIlA4Izmj5/AiUBwIpQpofSJQBC4QcOiKIpAoE3vXKRcikAw45z2pZCKQMB4SpCnxIpA",
          "dtype": "f8"
         },
         "yaxis": "y"
        },
        {
         "customdata": [
          [
           "Louisiana"
          ],
          [
           "Louisiana"
          ],
          [
           "Louisiana"
          ],
          [
           "Louisiana"
          ],
          [
           "Louisiana"
          ],
          [
           "Louisiana"
          ],
          [
           "Louisiana"
          ],
          [
           "Louisiana"
          ],
          [
           "Louisiana"
          ],
          [
           "Louisiana"
          ],
          [
           "Louisiana"
          ],
          [
           "Louisiana"
          ],
          [
           "Louisiana"
          ],
          [
           "Louisiana"
          ],
          [
           "Louisiana"
          ],
          [
           "Louisiana"
          ],
          [
           "Louisiana"
          ],
          [
           "Louisiana"
          ],
          [
           "Louisiana"
          ],
          [
           "Louisiana"
          ],
          [
           "Louisiana"
          ],
          [
           "Louisiana"
          ],
          [
           "Louisiana"
          ],
          [
           "Louisiana"
          ],
          [
           "Louisiana"
          ],
          [
           "Louisiana"
          ],
          [
           "Louisiana"
          ],
          [
           "Louisiana"
          ],
          [
           "Louisiana"
          ],
          [
           "Louisiana"
          ],
          [
           "Louisiana"
          ],
          [
           "Louisiana"
          ],
          [
           "Louisiana"
          ],
          [
           "Louisiana"
          ],
          [
           "Louisiana"
          ],
          [
           "Louisiana"
          ],
          [
           "Louisiana"
          ],
          [
           "Louisiana"
          ],
          [
           "Louisiana"
          ],
          [
           "Louisiana"
          ],
          [
           "Louisiana"
          ],
          [
           "Louisiana"
          ],
          [
           "Louisiana"
          ],
          [
           "Louisiana"
          ],
          [
           "Louisiana"
          ],
          [
           "Louisiana"
          ],
          [
           "Louisiana"
          ],
          [
           "Louisiana"
          ],
          [
           "Louisiana"
          ],
          [
           "Louisiana"
          ],
          [
           "Louisiana"
          ],
          [
           "Louisiana"
          ],
          [
           "Louisiana"
          ],
          [
           "Louisiana"
          ]
         ],
         "hovertemplate": "State=%{customdata[0]}<br>Year=%{x}<br>Lint Yield (lbs/acre)=%{y}<extra></extra>",
         "legendgroup": "Louisiana",
         "marker": {
          "color": "#19d3f3",
          "symbol": "circle"
         },
         "mode": "markers",
         "name": "Louisiana",
         "orientation": "v",
         "showlegend": true,
         "type": "scatter",
         "x": {
          "bdata": "rAetB64HrwewB7EHsgezB7QHtQe2B7cHuAe5B7oHuwe8B70Hvge/B8AHwQfCB8MHxAfFB8YHxwfIB8kHygfLB8wHzQfOB88H0AfRB9IH0wfUB9UH1gfXB9gH2QfaB9sH3AfdB94H3wfgB+EH",
          "dtype": "i2"
         },
         "xaxis": "x",
         "y": {
          "bdata": "VVVVVVV9h0BVVVVVVX2HQFVVVVVVfYdAVVVVVVV9h0BVVVVVVX2HQFVVVVVVfYdAVVVVVVV9h0BVVVVVVX2HQFVVVVVVfYdAAAAAAAC4gEAAAAAAAKB9QAAAAAAAOIJAAAAAAAAgfEAAAAAAAECGQAAAAAAAoHhAAAAAAAAAgEAAAAAAAPCFQAAAAAAAeINAAAAAAACQiEAAAAAAAKiBQAAAAAAAuIFAAAAAAABwiEAAAAAAAAiGQAAAAAAAAIVAAAAAAABYhkAAAAAAAOCJQAAAAAAAaIZAAAAAAADwgkAAAAAAAHiJQAAAAAAAMINAAAAAAADIhUAAAAAAAMCGQAAAAAAAUIJAAAAAAAAohkAAAAAAAKiDQAAAAAAAIIJAAAAAAABohkAAAAAAADiOQAAAAAAAGItAAAAAAABwi0AAAAAAAJCNQAAAAAAAyI9AAAAAAAAAgkAAAAAAAEiHQAAAAAAAUIpAAAAAAABwikAAAAAAAOCPQAAAAAAAHJNAAAAAAAAIkkAAAAAAAFCJQAAAAAAAWI1AAAAAAADwi0AAAAAAAKyQQAAAAAAAHJBA",
          "dtype": "f8"
         },
         "yaxis": "y"
        },
        {
         "hovertemplate": "<b>OLS trendline</b><br>Lint Yield (Pounds/Harvested Acre) = 6.35007 * Year + -11888.1<br>R<sup>2</sup>=0.333902<br><br>State=Louisiana<br>Year=%{x}<br>Lint Yield (lbs/acre)=%{y} <b>(trend)</b><extra></extra>",
         "legendgroup": "Louisiana",
         "marker": {
          "color": "#19d3f3",
          "symbol": "circle"
         },
         "mode": "lines",
         "name": "Louisiana",
         "showlegend": false,
         "type": "scatter",
         "x": {
          "bdata": "rAetB64HrwewB7EHsgezB7QHtQe2B7cHuAe5B7oHuwe8B70Hvge/B8AHwQfCB8MHxAfFB8YHxwfIB8kHygfLB8wHzQfOB88H0AfRB9IH0wfUB9UH1gfXB9gH2QfaB9sH3AfdB94H3wfgB+EH",
          "dtype": "i2"
         },
         "xaxis": "x",
         "y": {
          "bdata": "EJNcgx47gkDAViJz622CQHAa6GK4oIJAMN6tUoXTgkDgoXNCUgaDQKBlOTIfOYNAUCn/Iexrg0AQ7cQRuZ6DQMCwigGG0YNAgHRQ8VIEhEAwOBbhHzeEQOD729DsaYRAoL+hwLmchEBQg2ewhs+EQBBHLaBTAoVAwArzjyA1hUCAzrh/7WeFQDCSfm+6moVA8FVEX4fNhUCgGQpPVACGQGDdzz4hM4ZAEKGVLu5lhkDAZFseu5iGQIAoIQ6Iy4ZAMOzm/VT+hkDwr6ztITGHQKBzct3uY4dAYDc4zbuWh0AQ+/28iMmHQNC+w6xV/IdAgIKJnCIviEAwRk+M72GIQPAJFXy8lIhAoM3aa4nHiEBgkaBbVvqIQBBVZksjLYlA0BgsO/BfiUCA3PEqvZKJQECgtxqKxYlA8GN9Clf4iUCgJ0P6IyuKQGDrCOrwXYpAEK/O2b2QikDQcpTJisOKQIA2WrlX9opAQPofqSQpi0DwveWY8VuLQLCBq4i+jotAYEVxeIvBi0AQCTdoWPSLQNDM/FclJ4xAgJDCR/JZjEBAVIg3v4yMQPAXTieMv4xA",
          "dtype": "f8"
         },
         "yaxis": "y"
        },
        {
         "customdata": [
          [
           "Mississippi"
          ],
          [
           "Mississippi"
          ],
          [
           "Mississippi"
          ],
          [
           "Mississippi"
          ],
          [
           "Mississippi"
          ],
          [
           "Mississippi"
          ],
          [
           "Mississippi"
          ],
          [
           "Mississippi"
          ],
          [
           "Mississippi"
          ],
          [
           "Mississippi"
          ],
          [
           "Mississippi"
          ],
          [
           "Mississippi"
          ],
          [
           "Mississippi"
          ],
          [
           "Mississippi"
          ],
          [
           "Mississippi"
          ],
          [
           "Mississippi"
          ],
          [
           "Mississippi"
          ],
          [
           "Mississippi"
          ],
          [
           "Mississippi"
          ],
          [
           "Mississippi"
          ],
          [
           "Mississippi"
          ],
          [
           "Mississippi"
          ],
          [
           "Mississippi"
          ],
          [
           "Mississippi"
          ],
          [
           "Mississippi"
          ],
          [
           "Mississippi"
          ],
          [
           "Mississippi"
          ],
          [
           "Mississippi"
          ],
          [
           "Mississippi"
          ],
          [
           "Mississippi"
          ],
          [
           "Mississippi"
          ],
          [
           "Mississippi"
          ],
          [
           "Mississippi"
          ],
          [
           "Mississippi"
          ],
          [
           "Mississippi"
          ],
          [
           "Mississippi"
          ],
          [
           "Mississippi"
          ],
          [
           "Mississippi"
          ],
          [
           "Mississippi"
          ],
          [
           "Mississippi"
          ],
          [
           "Mississippi"
          ],
          [
           "Mississippi"
          ],
          [
           "Mississippi"
          ],
          [
           "Mississippi"
          ],
          [
           "Mississippi"
          ],
          [
           "Mississippi"
          ],
          [
           "Mississippi"
          ],
          [
           "Mississippi"
          ],
          [
           "Mississippi"
          ],
          [
           "Mississippi"
          ],
          [
           "Mississippi"
          ],
          [
           "Mississippi"
          ],
          [
           "Mississippi"
          ],
          [
           "Mississippi"
          ]
         ],
         "hovertemplate": "State=%{customdata[0]}<br>Year=%{x}<br>Lint Yield (lbs/acre)=%{y}<extra></extra>",
         "legendgroup": "Mississippi",
         "marker": {
          "color": "#FF6692",
          "symbol": "circle"
         },
         "mode": "markers",
         "name": "Mississippi",
         "orientation": "v",
         "showlegend": true,
         "type": "scatter",
         "x": {
          "bdata": "rAetB64HrwewB7EHsgezB7QHtQe2B7cHuAe5B7oHuwe8B70Hvge/B8AHwQfCB8MHxAfFB8YHxwfIB8kHygfLB8wHzQfOB88H0AfRB9IH0wfUB9UH1gfXB9gH2QfaB9sH3AfdB94H3wfgB+EH",
          "dtype": "i2"
         },
         "xaxis": "x",
         "y": {
          "bdata": "MzMzMzNLiUAzMzMzM0uJQDMzMzMzS4lAMzMzMzNLiUAzMzMzM0uJQDMzMzMzS4lAMzMzMzNLiUAzMzMzM0uJQDMzMzMzS4lAAAAAAABgfEAAAAAAAIB3QAAAAAAAKIJAAAAAAACIgUAAAAAAAIiEQAAAAAAAgH5AAAAAAACQg0AAAAAAAKiKQAAAAAAAAIRAAAAAAAD4h0AAAAAAAOCHQAAAAAAA2IFAAAAAAADoiUAAAAAAAACHQAAAAAAA4IZAAAAAAADAhkAAAAAAAMCLQAAAAAAAyIdAAAAAAADggUAAAAAAADCJQAAAAAAAcINAAAAAAACYiUAAAAAAACiMQAAAAAAACIdAAAAAAAAAhkAAAAAAABCEQAAAAAAAeIZAAAAAAABAiUAAAAAAADCNQAAAAAAAAJBAAAAAAADYikAAAAAAAOiJQAAAAAAAMI5AAAAAAAB4jEAAAAAAAACFQAAAAAAACI9AAAAAAADAjUAAAAAAALCPQAAAAAAAzJJAAAAAAABAk0AAAAAAAACQQAAAAAAA3JJAAAAAAAA4kEAAAAAAANSRQAAAAAAA6JBA",
          "dtype": "f8"
         },
         "yaxis": "y"
        },
        {
         "hovertemplate": "<b>OLS trendline</b><br>Lint Yield (Pounds/Harvested Acre) = 7.48024 * Year + -14080<br>R<sup>2</sup>=0.397362<br><br>State=Mississippi<br>Year=%{x}<br>Lint Yield (lbs/acre)=%{y} <b>(trend)</b><extra></extra>",
         "legendgroup": "Mississippi",
         "marker": {
          "color": "#FF6692",
          "symbol": "circle"
         },
         "mode": "lines",
         "name": "Mississippi",
         "showlegend": false,
         "type": "scatter",
         "x": {
          "bdata": "rAetB64HrwewB7EHsgezB7QHtQe2B7cHuAe5B7oHuwe8B70Hvge/B8AHwQfCB8MHxAfFB8YHxwfIB8kHygfLB8wHzQfOB88H0AfRB9IH0wfUB9UH1gfXB9gH2QfaB9sH3AfdB94H3wfgB+EH",
          "dtype": "i2"
         },
         "xaxis": "x",
         "y": {
          "bdata": "sJJr0GMZg0BgFpBWO1WDQACatNwSkYNAsB3ZYurMg0BQof3owQiEQAAlIm+ZRIRAoKhG9XCAhEBQLGt7SLyEQPCvjwEg+IRAoDO0h/czhUBAt9gNz2+FQPA6/ZOmq4VAkL4hGn7nhUBAQkagVSOGQODFaiYtX4ZAgEmPrASbhkAwzbMy3NaGQNBQ2LizEodAgNT8PotOh0AgWCHFYoqHQNDbRUs6xodAcF9q0RECiEAg445X6T2IQMBms93AeYhAcOrXY5i1iEAQbvzpb/GIQMDxIHBHLYlAYHVF9h5piUAQ+Wl89qSJQLB8jgLO4IlAYACziKUcikAAhNcOfViKQKAH/JRUlIpAUIsgGyzQikDwDkWhAwyLQKCSaSfbR4tAQBaOrbKDi0DwmbIzir+LQJAd17lh+4tAQKH7Pzk3jEDgJCDGEHOMQJCoREzoroxAMCxp0r/qjEDgr41YlyaNQIAzst5uYo1AMLfWZEaejUDQOvvqHdqNQIC+H3H1FY5AIEJE98xRjkDQxWh9pI2OQHBJjQN8yY5AEM2xiVMFj0DAUNYPK0GPQGDU+pUCfY9A",
          "dtype": "f8"
         },
         "yaxis": "y"
        },
        {
         "customdata": [
          [
           "Missouri"
          ],
          [
           "Missouri"
          ],
          [
           "Missouri"
          ],
          [
           "Missouri"
          ],
          [
           "Missouri"
          ],
          [
           "Missouri"
          ],
          [
           "Missouri"
          ],
          [
           "Missouri"
          ],
          [
           "Missouri"
          ],
          [
           "Missouri"
          ],
          [
           "Missouri"
          ],
          [
           "Missouri"
          ],
          [
           "Missouri"
          ],
          [
           "Missouri"
          ],
          [
           "Missouri"
          ],
          [
           "Missouri"
          ],
          [
           "Missouri"
          ],
          [
           "Missouri"
          ],
          [
           "Missouri"
          ],
          [
           "Missouri"
          ],
          [
           "Missouri"
          ],
          [
           "Missouri"
          ],
          [
           "Missouri"
          ],
          [
           "Missouri"
          ],
          [
           "Missouri"
          ],
          [
           "Missouri"
          ],
          [
           "Missouri"
          ],
          [
           "Missouri"
          ],
          [
           "Missouri"
          ],
          [
           "Missouri"
          ],
          [
           "Missouri"
          ],
          [
           "Missouri"
          ],
          [
           "Missouri"
          ],
          [
           "Missouri"
          ],
          [
           "Missouri"
          ],
          [
           "Missouri"
          ],
          [
           "Missouri"
          ],
          [
           "Missouri"
          ],
          [
           "Missouri"
          ],
          [
           "Missouri"
          ],
          [
           "Missouri"
          ],
          [
           "Missouri"
          ],
          [
           "Missouri"
          ],
          [
           "Missouri"
          ],
          [
           "Missouri"
          ],
          [
           "Missouri"
          ],
          [
           "Missouri"
          ],
          [
           "Missouri"
          ],
          [
           "Missouri"
          ],
          [
           "Missouri"
          ],
          [
           "Missouri"
          ],
          [
           "Missouri"
          ],
          [
           "Missouri"
          ],
          [
           "Missouri"
          ]
         ],
         "hovertemplate": "State=%{customdata[0]}<br>Year=%{x}<br>Lint Yield (lbs/acre)=%{y}<extra></extra>",
         "legendgroup": "Missouri",
         "marker": {
          "color": "#B6E880",
          "symbol": "circle"
         },
         "mode": "markers",
         "name": "Missouri",
         "orientation": "v",
         "showlegend": true,
         "type": "scatter",
         "x": {
          "bdata": "rAetB64HrwewB7EHsgezB7QHtQe2B7cHuAe5B7oHuwe8B70Hvge/B8AHwQfCB8MHxAfFB8YHxwfIB8kHygfLB8wHzQfOB88H0AfRB9IH0wfUB9UH1gfXB9gH2QfaB9sH3AfdB94H3wfgB+EH",
          "dtype": "i2"
         },
         "xaxis": "x",
         "y": {
          "bdata": "9Umf9EkPiED1SZ/0SQ+IQPVJn/RJD4hA9Umf9EkPiED1SZ/0SQ+IQPVJn/RJD4hA9Umf9EkPiED1SZ/0SQ+IQPVJn/RJD4hAAAAAAAAQfEAAAAAAABBzQAAAAAAAUHtAAAAAAAAAf0AAAAAAADCBQAAAAAAAEHZAAAAAAACQe0AAAAAAAECEQAAAAAAAkHdAAAAAAABQgUAAAAAAAGiEQAAAAAAAYIJAAAAAAADgiEAAAAAAAPiCQAAAAAAAUINAAAAAAAAIhEAAAAAAALCDQAAAAAAAwIhAAAAAAADYgEAAAAAAAMCKQAAAAAAAAIFAAAAAAAAIh0AAAAAAALiFQAAAAAAAcH1AAAAAAADIgkAAAAAAAOCEQAAAAAAAEIpAAAAAAADgiEAAAAAAAPCKQAAAAAAAeJBAAAAAAACYjUAAAAAAAMiNQAAAAAAAQI5AAAAAAABIkUAAAAAAAPiMQAAAAAAAsJBAAAAAAABIjkAAAAAAAJyQQAAAAAAAQI5AAAAAAAB0kUAAAAAAACSRQAAAAAAA6I9AAAAAAADwkkAAAAAAAHSVQAAAAAAAxJNA",
          "dtype": "f8"
         },
         "yaxis": "y"
        },
        {
         "hovertemplate": "<b>OLS trendline</b><br>Lint Yield (Pounds/Harvested Acre) = 10.6373 * Year + -20403.7<br>R<sup>2</sup>=0.476371<br><br>State=Missouri<br>Year=%{x}<br>Lint Yield (lbs/acre)=%{y} <b>(trend)</b><extra></extra>",
         "legendgroup": "Missouri",
         "marker": {
          "color": "#B6E880",
          "symbol": "circle"
         },
         "mode": "lines",
         "name": "Missouri",
         "showlegend": false,
         "type": "scatter",
         "x": {
          "bdata": "rAetB64HrwewB7EHsgezB7QHtQe2B7cHuAe5B7oHuwe8B70Hvge/B8AHwQfCB8MHxAfFB8YHxwfIB8kHygfLB8wHzQfOB88H0AfRB9IH0wfUB9UH1gfXB9gH2QfaB9sH3AfdB94H3wfgB+EH",
          "dtype": "i2"
         },
         "xaxis": "x",
         "y": {
          "bdata": "AFuwBVuAfkBAQIp4jSp/QIAlZOu/1H9AQAUfL3k/gEDg94tokpSAQIDq+KGr6YBAAN1l28Q+gUCgz9IU3pOBQEDCP0736IFAwLSshxA+gkBgpxnBKZOCQACahvpC6IJAgIzzM1w9g0Agf2BtdZKDQMBxzaaO54NAQGQ64Kc8hEDgVqcZwZGEQIBJFFPa5oRAADyBjPM7hUCgLu7FDJGFQEAhW/8l5oVAwBPIOD87hkBgBjVyWJCGQAD5oatx5YZAgOsO5Yo6h0Ag3nsepI+HQMDQ6Fe95IdAQMNVkdY5iEDgtcLK746IQICoLwQJ5IhAAJucPSI5iUCgjQl3O46JQECAdrBU44lAwHLj6W04ikBgZVAjh42KQABYvVyg4opAgEoqlrk3i0AgPZfP0oyLQKAvBAns4YtAQCJxQgU3jEDgFN57HoyMQGAHS7U34YxAAPq37lA2jUCg7CQoaouNQCDfkWGD4I1AwNH+mpw1jkBgxGvUtYqOQOC22A3P345AgKlFR+g0j0AgnLKAAYqPQKCOH7oa349AoEDG+RkakEDwuXyWpkSQQDAzMzMzb5BA",
          "dtype": "f8"
         },
         "yaxis": "y"
        },
        {
         "customdata": [
          [
           "New Mexico"
          ],
          [
           "New Mexico"
          ],
          [
           "New Mexico"
          ],
          [
           "New Mexico"
          ],
          [
           "New Mexico"
          ],
          [
           "New Mexico"
          ],
          [
           "New Mexico"
          ],
          [
           "New Mexico"
          ],
          [
           "New Mexico"
          ],
          [
           "New Mexico"
          ],
          [
           "New Mexico"
          ],
          [
           "New Mexico"
          ],
          [
           "New Mexico"
          ],
          [
           "New Mexico"
          ],
          [
           "New Mexico"
          ],
          [
           "New Mexico"
          ],
          [
           "New Mexico"
          ],
          [
           "New Mexico"
          ],
          [
           "New Mexico"
          ],
          [
           "New Mexico"
          ],
          [
           "New Mexico"
          ],
          [
           "New Mexico"
          ],
          [
           "New Mexico"
          ],
          [
           "New Mexico"
          ],
          [
           "New Mexico"
          ],
          [
           "New Mexico"
          ],
          [
           "New Mexico"
          ],
          [
           "New Mexico"
          ],
          [
           "New Mexico"
          ],
          [
           "New Mexico"
          ],
          [
           "New Mexico"
          ],
          [
           "New Mexico"
          ],
          [
           "New Mexico"
          ],
          [
           "New Mexico"
          ],
          [
           "New Mexico"
          ],
          [
           "New Mexico"
          ],
          [
           "New Mexico"
          ],
          [
           "New Mexico"
          ],
          [
           "New Mexico"
          ],
          [
           "New Mexico"
          ],
          [
           "New Mexico"
          ],
          [
           "New Mexico"
          ],
          [
           "New Mexico"
          ],
          [
           "New Mexico"
          ],
          [
           "New Mexico"
          ],
          [
           "New Mexico"
          ],
          [
           "New Mexico"
          ],
          [
           "New Mexico"
          ],
          [
           "New Mexico"
          ],
          [
           "New Mexico"
          ],
          [
           "New Mexico"
          ],
          [
           "New Mexico"
          ],
          [
           "New Mexico"
          ],
          [
           "New Mexico"
          ]
         ],
         "hovertemplate": "State=%{customdata[0]}<br>Year=%{x}<br>Lint Yield (lbs/acre)=%{y}<extra></extra>",
         "legendgroup": "New Mexico",
         "marker": {
          "color": "#FF97FF",
          "symbol": "circle"
         },
         "mode": "markers",
         "name": "New Mexico",
         "orientation": "v",
         "showlegend": true,
         "type": "scatter",
         "x": {
          "bdata": "rAetB64HrwewB7EHsgezB7QHtQe2B7cHuAe5B7oHuwe8B70Hvge/B8AHwQfCB8MHxAfFB8YHxwfIB8kHygfLB8wHzQfOB88H0AfRB9IH0wfUB9UH1gfXB9gH2QfaB9sH3AfdB94H3wfgB+EH",
          "dtype": "i2"
         },
         "xaxis": "x",
         "y": {
          "bdata": "5DiO4zhOiEDkOI7jOE6IQOQ4juM4TohA5DiO4zhOiEDkOI7jOE6IQOQ4juM4TohA5DiO4zhOiEDkOI7jOE6IQOQ4juM4TohAAAAAAADgd0AAAAAAAFiAQAAAAAAA2IJAAAAAAACwe0AAAAAAAMB4QAAAAAAAwHpAAAAAAADQgkAAAAAAADiBQAAAAAAAWIZAAAAAAADogkAAAAAAALiDQAAAAAAAmIJAAAAAAACIhUAAAAAAADCGQAAAAAAA0IVAAAAAAAD4hkAAAAAAABB9QAAAAAAAQINAAAAAAAAIiEAAAAAAAICGQAAAAAAACINAAAAAAADohkAAAAAAACCFQAAAAAAAAIRAAAAAAACwhEAAAAAAAKCGQAAAAAAAoIxAAAAAAACAiUAAAAAAAKCLQAAAAAAAgIpAAAAAAADAj0AAAAAAABCNQAAAAAAAHJFAAAAAAABwjkAAAAAAAFCSQAAAAAAAWJJAAAAAAACMkEAAAAAAAGCQQAAAAAAACI1AAAAAAAAYjUAAAAAAAAiNQAAAAAAAGJBAAAAAAABskkAAAAAAAIiOQAAAAAAAVJJA",
          "dtype": "f8"
         },
         "yaxis": "y"
        },
        {
         "hovertemplate": "<b>OLS trendline</b><br>Lint Yield (Pounds/Harvested Acre) = 8.90543 * Year + -16948.5<br>R<sup>2</sup>=0.464920<br><br>State=New Mexico<br>Year=%{x}<br>Lint Yield (lbs/acre)=%{y} <b>(trend)</b><extra></extra>",
         "legendgroup": "New Mexico",
         "marker": {
          "color": "#FF97FF",
          "symbol": "circle"
         },
         "mode": "lines",
         "name": "New Mexico",
         "showlegend": false,
         "type": "scatter",
         "x": {
          "bdata": "rAetB64HrwewB7EHsgezB7QHtQe2B7cHuAe5B7oHuwe8B70Hvge/B8AHwQfCB8MHxAfFB8YHxwfIB8kHygfLB8wHzQfOB88H0AfRB9IH0wfUB9UH1gfXB9gH2QfaB9sH3AfdB94H3wfgB+EH",
          "dtype": "i2"
         },
         "xaxis": "x",
         "y": {
          "bdata": "gP8OTUXugEAATwWggzWBQGCe+/LBfIFA4O3xRQDEgUBAPeiYPguCQMCM3ut8UoJAQNzUPruZgkCgK8uR+eCCQCB7weQ3KINAgMq3N3Zvg0AAGq6KtLaDQIBppN3y/YNA4LiaMDFFhEBgCJGDb4yEQMBXh9at04RAQKd9KewahUDA9nN8KmKFQCBGas9oqYVAoJVgIqfwhUAA5VZ15TeGQIA0Tcgjf4ZAAIRDG2LGhkBg0zluoA2HQOAiMMHeVIdAQHImFB2ch0DAwRxnW+OHQEARE7qZKohAoGAJDdhxiEAgsP9fFrmIQID/9bJUAIlAAE/sBZNHiUCAnuJY0Y6JQODt2KsP1olAYD3P/k0dikDAjMVRjGSKQEDcu6TKq4pAwCuy9wjzikAge6hKRzqLQKDKnp2FgYtAABqV8MPIi0CAaYtDAhCMQOC4gZZAV4xAYAh46X6ejEDgV248veWMQECnZI/7LI1AwPZa4jl0jUAgRlE1eLuNQKCVR4i2Ao5AIOU92/RJjkCANDQuM5GOQACEKoFx2I5AYNMg1K8fj0DgIhcn7maPQGByDXosro9A",
          "dtype": "f8"
         },
         "yaxis": "y"
        },
        {
         "customdata": [
          [
           "North Carolina"
          ],
          [
           "North Carolina"
          ],
          [
           "North Carolina"
          ],
          [
           "North Carolina"
          ],
          [
           "North Carolina"
          ],
          [
           "North Carolina"
          ],
          [
           "North Carolina"
          ],
          [
           "North Carolina"
          ],
          [
           "North Carolina"
          ],
          [
           "North Carolina"
          ],
          [
           "North Carolina"
          ],
          [
           "North Carolina"
          ],
          [
           "North Carolina"
          ],
          [
           "North Carolina"
          ],
          [
           "North Carolina"
          ],
          [
           "North Carolina"
          ],
          [
           "North Carolina"
          ],
          [
           "North Carolina"
          ],
          [
           "North Carolina"
          ],
          [
           "North Carolina"
          ],
          [
           "North Carolina"
          ],
          [
           "North Carolina"
          ],
          [
           "North Carolina"
          ],
          [
           "North Carolina"
          ],
          [
           "North Carolina"
          ],
          [
           "North Carolina"
          ],
          [
           "North Carolina"
          ],
          [
           "North Carolina"
          ],
          [
           "North Carolina"
          ],
          [
           "North Carolina"
          ],
          [
           "North Carolina"
          ],
          [
           "North Carolina"
          ],
          [
           "North Carolina"
          ],
          [
           "North Carolina"
          ],
          [
           "North Carolina"
          ],
          [
           "North Carolina"
          ],
          [
           "North Carolina"
          ],
          [
           "North Carolina"
          ],
          [
           "North Carolina"
          ],
          [
           "North Carolina"
          ],
          [
           "North Carolina"
          ],
          [
           "North Carolina"
          ],
          [
           "North Carolina"
          ],
          [
           "North Carolina"
          ],
          [
           "North Carolina"
          ],
          [
           "North Carolina"
          ],
          [
           "North Carolina"
          ],
          [
           "North Carolina"
          ],
          [
           "North Carolina"
          ],
          [
           "North Carolina"
          ],
          [
           "North Carolina"
          ],
          [
           "North Carolina"
          ],
          [
           "North Carolina"
          ],
          [
           "North Carolina"
          ]
         ],
         "hovertemplate": "State=%{customdata[0]}<br>Year=%{x}<br>Lint Yield (lbs/acre)=%{y}<extra></extra>",
         "legendgroup": "North Carolina",
         "marker": {
          "color": "#FECB52",
          "symbol": "circle"
         },
         "mode": "markers",
         "name": "North Carolina",
         "orientation": "v",
         "showlegend": true,
         "type": "scatter",
         "x": {
          "bdata": "rAetB64HrwewB7EHsgezB7QHtQe2B7cHuAe5B7oHuwe8B70Hvge/B8AHwQfCB8MHxAfFB8YHxwfIB8kHygfLB8wHzQfOB88H0AfRB9IH0wfUB9UH1gfXB9gH2QfaB9sH3AfdB94H3wfgB+EH",
          "dtype": "i2"
         },
         "xaxis": "x",
         "y": {
          "bdata": "q6qqqqrShECrqqqqqtKEQKuqqqqq0oRAq6qqqqrShECrqqqqqtKEQKuqqqqq0oRAq6qqqqrShECrqqqqqtKEQKuqqqqq0oRAAAAAAADAeUAAAAAAAJB+QAAAAAAAEHNAAAAAAAAYgEAAAAAAAHB8QAAAAAAA0HdAAAAAAABwgUAAAAAAANiFQAAAAAAA4HVAAAAAAADAgkAAAAAAADCEQAAAAAAAMIRAAAAAAADwfkAAAAAAABiAQAAAAAAAOINAAAAAAAC4g0AAAAAAAACFQAAAAAAAoIJAAAAAAAC4gEAAAAAAAKCJQAAAAAAA8H1AAAAAAACYhEAAAAAAAGCEQAAAAAAA2IVAAAAAAACwfUAAAAAAADCHQAAAAAAAAIpAAAAAAABQekAAAAAAADCEQAAAAAAAIIxAAAAAAACgikAAAAAAAEiGQAAAAAAA+IdAAAAAAAB4ikAAAAAAAPCOQAAAAAAAMIpAAAAAAABAg0AAAAAAALCPQAAAAAAA+IhAAAAAAAA4kEAAAAAAAEiGQAAAAAAAMIRAAAAAAABIjkAAAAAAAGCJQAAAAAAAGI1A",
          "dtype": "f8"
         },
         "yaxis": "y"
        },
        {
         "hovertemplate": "<b>OLS trendline</b><br>Lint Yield (Pounds/Harvested Acre) = 6.0802 * Year + -11436.3<br>R<sup>2</sup>=0.324284<br><br>State=North Carolina<br>Year=%{x}<br>Lint Yield (lbs/acre)=%{y} <b>(trend)</b><extra></extra>",
         "legendgroup": "North Carolina",
         "marker": {
          "color": "#FECB52",
          "symbol": "circle"
         },
         "mode": "lines",
         "name": "North Carolina",
         "showlegend": false,
         "type": "scatter",
         "x": {
          "bdata": "rAetB64HrwewB7EHsgezB7QHtQe2B7cHuAe5B7oHuwe8B70Hvge/B8AHwQfCB8MHxAfFB8YHxwfIB8kHygfLB8wHzQfOB88H0AfRB9IH0wfUB9UH1gfXB9gH2QfaB9sH3AfdB94H3wfgB+EH",
          "dtype": "i2"
         },
         "xaxis": "x",
         "y": {
          "bdata": "YJqKTFSTf0DARXXKnPR/QID4L6TyKoBAIE4l45ZbgEDQoxoiO4yAQHD5D2HfvIBAEE8FoIPtgEDApPreJx6BQGD67x3MToFAAFDlXHB/gUCwpdqbFLCBQFD7z9q44IFA8FDFGV0RgkCgprpYAUKCQED8r5elcoJA4FGl1kmjgkCQp5oV7tOCQDD9j1SSBINA0FKFkzY1g0CAqHrS2mWDQCD+bxF/loNAwFNlUCPHg0BwqVqPx/eDQBD/T85rKIRAsFRFDRBZhEBgqjpMtImEQAAAMItYuoRAoFUlyvzqhEBQqxoJoRuFQPAAEEhFTIVAkFYFh+l8hUBArPrFja2FQOAB8AQy3oVAgFflQ9YOhkAwrdqCej+GQNAC0MEecIZAcFjFAMOghkAgrro/Z9GGQMADsH4LAodAYFmlva8yh0AQr5r8U2OHQLAEkDv4k4dAUFqFepzEh0AAsHq5QPWHQKAFcPjkJYhAQFtlN4lWiEDwsFp2LYeIQJAGULXRt4hAMFxF9HXoiEDQsTozGhmJQIAHMHK+SYlAIF0lsWJ6iUDAshrwBquJQHAIEC+r24lA",
          "dtype": "f8"
         },
         "yaxis": "y"
        },
        {
         "customdata": [
          [
           "Oklahoma"
          ],
          [
           "Oklahoma"
          ],
          [
           "Oklahoma"
          ],
          [
           "Oklahoma"
          ],
          [
           "Oklahoma"
          ],
          [
           "Oklahoma"
          ],
          [
           "Oklahoma"
          ],
          [
           "Oklahoma"
          ],
          [
           "Oklahoma"
          ],
          [
           "Oklahoma"
          ],
          [
           "Oklahoma"
          ],
          [
           "Oklahoma"
          ],
          [
           "Oklahoma"
          ],
          [
           "Oklahoma"
          ],
          [
           "Oklahoma"
          ],
          [
           "Oklahoma"
          ],
          [
           "Oklahoma"
          ],
          [
           "Oklahoma"
          ],
          [
           "Oklahoma"
          ],
          [
           "Oklahoma"
          ],
          [
           "Oklahoma"
          ],
          [
           "Oklahoma"
          ],
          [
           "Oklahoma"
          ],
          [
           "Oklahoma"
          ],
          [
           "Oklahoma"
          ],
          [
           "Oklahoma"
          ],
          [
           "Oklahoma"
          ],
          [
           "Oklahoma"
          ],
          [
           "Oklahoma"
          ],
          [
           "Oklahoma"
          ],
          [
           "Oklahoma"
          ],
          [
           "Oklahoma"
          ],
          [
           "Oklahoma"
          ],
          [
           "Oklahoma"
          ],
          [
           "Oklahoma"
          ],
          [
           "Oklahoma"
          ],
          [
           "Oklahoma"
          ],
          [
           "Oklahoma"
          ],
          [
           "Oklahoma"
          ],
          [
           "Oklahoma"
          ],
          [
           "Oklahoma"
          ],
          [
           "Oklahoma"
          ],
          [
           "Oklahoma"
          ],
          [
           "Oklahoma"
          ],
          [
           "Oklahoma"
          ],
          [
           "Oklahoma"
          ],
          [
           "Oklahoma"
          ],
          [
           "Oklahoma"
          ],
          [
           "Oklahoma"
          ],
          [
           "Oklahoma"
          ],
          [
           "Oklahoma"
          ],
          [
           "Oklahoma"
          ],
          [
           "Oklahoma"
          ],
          [
           "Oklahoma"
          ]
         ],
         "hovertemplate": "State=%{customdata[0]}<br>Year=%{x}<br>Lint Yield (lbs/acre)=%{y}<extra></extra>",
         "legendgroup": "Oklahoma",
         "marker": {
          "color": "#636efa",
          "symbol": "circle"
         },
         "mode": "markers",
         "name": "Oklahoma",
         "orientation": "v",
         "showlegend": true,
         "type": "scatter",
         "x": {
          "bdata": "rAetB64HrwewB7EHsgezB7QHtQe2B7cHuAe5B7oHuwe8B70Hvge/B8AHwQfCB8MHxAfFB8YHxwfIB8kHygfLB8wHzQfOB88H0AfRB9IH0wfUB9UH1gfXB9gH2QfaB9sH3AfdB94H3wfgB+EH",
          "dtype": "i2"
         },
         "xaxis": "x",
         "y": {
          "bdata": "5DiO4ziefkDkOI7jOJ5+QOQ4juM4nn5A5DiO4ziefkDkOI7jOJ5+QOQ4juM4nn5A5DiO4ziefkDkOI7jOJ5+QOQ4juM4nn5AAAAAAABQcUAAAAAAAGBvQAAAAAAAIHlAAAAAAABAckAAAAAAAAB7QAAAAAAAwGVAAAAAAACgdEAAAAAAAMBvQAAAAAAAAG1AAAAAAABAbUAAAAAAAMB3QAAAAAAAAHJAAAAAAADwekAAAAAAAOB0QAAAAAAAgG5AAAAAAAAAf0AAAAAAAPByQAAAAAAAAHRAAAAAAAAgd0AAAAAAANB1QAAAAAAAYGdAAAAAAAAgc0AAAAAAAOB8QAAAAAAAgIFAAAAAAADQfEAAAAAAAHB/QAAAAAAA8H9AAAAAAABogUAAAAAAAECDQAAAAAAAuIZAAAAAAABghkAAAAAAAOiAQAAAAAAAiIlAAAAAAABYiUAAAAAAAIiIQAAAAAAAcIdAAAAAAACogkAAAAAAAJiAQAAAAAAAQINAAAAAAAA4g0AAAAAAAGCLQAAAAAAA6I9AAAAAAACQi0AAAAAAAJiCQAAAAAAACINA",
          "dtype": "f8"
         },
         "yaxis": "y"
        },
        {
         "hovertemplate": "<b>OLS trendline</b><br>Lint Yield (Pounds/Harvested Acre) = 7.67196 * Year + -14781.2<br>R<sup>2</sup>=0.388466<br><br>State=Oklahoma<br>Year=%{x}<br>Lint Yield (lbs/acre)=%{y} <b>(trend)</b><extra></extra>",
         "legendgroup": "Oklahoma",
         "marker": {
          "color": "#636efa",
          "symbol": "circle"
         },
         "mode": "lines",
         "name": "Oklahoma",
         "showlegend": false,
         "type": "scatter",
         "x": {
          "bdata": "rAetB64HrwewB7EHsgezB7QHtQe2B7cHuAe5B7oHuwe8B70Hvge/B8AHwQfCB8MHxAfFB8YHxwfIB8kHygfLB8wHzQfOB88H0AfRB9IH0wfUB9UH1gfXB9gH2QfaB9sH3AfdB94H3wfgB+EH",
          "dtype": "i2"
         },
         "xaxis": "x",
         "y": {
          "bdata": "YPKUIE/pcUDg+eF+D2RyQIABL93P3nJAAAl8O5BZc0CAEMmZUNRzQAAYFvgQT3RAgB9jVtHJdEAAJ7C0kUR1QIAu/RJSv3VAADZKcRI6dkCAPZfP0rR2QABF5C2TL3dAgEwxjFOqd0AAVH7qEyV4QIBby0jUn3hAAGMYp5QaeUCAamUFVZV5QABysmMVEHpAgHn/wdWKekAAgUwglgV7QICImX5WgHtAAJDm3Bb7e0CAlzM713V8QACfgJmX8HxAgKbN91drfUAArhpWGOZ9QIC1Z7TYYH5AAL20EpnbfkCAxAFxWVZ/QADMTs8Z0X9AwOnNFu0lgECAbfRFTWOAQEDxGnWtoIBAAHVBpA3egEDA+GfTbRuBQJB8jgLOWIFAUAC1MS6WgUAQhNtgjtOBQNAHApDuEIJAkIsov05OgkBQD0/urouCQBCTdR0PyYJA0BacTG8Gg0CQmsJ7z0ODQFAe6aovgYNAEKIP2o++g0DQJTYJ8PuDQJCpXDhQOYRAUC2DZ7B2hEAQsamWELSEQNA00MVw8YRAkLj29NAuhUBQPB0kMWyFQBDAQ1ORqYVA",
          "dtype": "f8"
         },
         "yaxis": "y"
        },
        {
         "customdata": [
          [
           "South Carolina"
          ],
          [
           "South Carolina"
          ],
          [
           "South Carolina"
          ],
          [
           "South Carolina"
          ],
          [
           "South Carolina"
          ],
          [
           "South Carolina"
          ],
          [
           "South Carolina"
          ],
          [
           "South Carolina"
          ],
          [
           "South Carolina"
          ],
          [
           "South Carolina"
          ],
          [
           "South Carolina"
          ],
          [
           "South Carolina"
          ],
          [
           "South Carolina"
          ],
          [
           "South Carolina"
          ],
          [
           "South Carolina"
          ],
          [
           "South Carolina"
          ],
          [
           "South Carolina"
          ],
          [
           "South Carolina"
          ],
          [
           "South Carolina"
          ],
          [
           "South Carolina"
          ],
          [
           "South Carolina"
          ],
          [
           "South Carolina"
          ],
          [
           "South Carolina"
          ],
          [
           "South Carolina"
          ],
          [
           "South Carolina"
          ],
          [
           "South Carolina"
          ],
          [
           "South Carolina"
          ],
          [
           "South Carolina"
          ],
          [
           "South Carolina"
          ],
          [
           "South Carolina"
          ],
          [
           "South Carolina"
          ],
          [
           "South Carolina"
          ],
          [
           "South Carolina"
          ],
          [
           "South Carolina"
          ],
          [
           "South Carolina"
          ],
          [
           "South Carolina"
          ],
          [
           "South Carolina"
          ],
          [
           "South Carolina"
          ],
          [
           "South Carolina"
          ],
          [
           "South Carolina"
          ],
          [
           "South Carolina"
          ],
          [
           "South Carolina"
          ],
          [
           "South Carolina"
          ],
          [
           "South Carolina"
          ],
          [
           "South Carolina"
          ],
          [
           "South Carolina"
          ],
          [
           "South Carolina"
          ],
          [
           "South Carolina"
          ],
          [
           "South Carolina"
          ],
          [
           "South Carolina"
          ],
          [
           "South Carolina"
          ],
          [
           "South Carolina"
          ],
          [
           "South Carolina"
          ],
          [
           "South Carolina"
          ]
         ],
         "hovertemplate": "State=%{customdata[0]}<br>Year=%{x}<br>Lint Yield (lbs/acre)=%{y}<extra></extra>",
         "legendgroup": "South Carolina",
         "marker": {
          "color": "#EF553B",
          "symbol": "circle"
         },
         "mode": "markers",
         "name": "South Carolina",
         "orientation": "v",
         "showlegend": true,
         "type": "scatter",
         "x": {
          "bdata": "rAetB64HrwewB7EHsgezB7QHtQe2B7cHuAe5B7oHuwe8B70Hvge/B8AHwQfCB8MHxAfFB8YHxwfIB8kHygfLB8wHzQfOB88H0AfRB9IH0wfUB9UH1gfXB9gH2QfaB9sH3AfdB94H3wfgB+EH",
          "dtype": "i2"
         },
         "xaxis": "x",
         "y": {
          "bdata": "MzMzMzMDhEAzMzMzMwOEQDMzMzMzA4RAMzMzMzMDhEAzMzMzMwOEQDMzMzMzA4RAMzMzMzMDhEAzMzMzMwOEQDMzMzMzA4RAAAAAAABgfEAAAAAAAGB7QAAAAAAAYHVAAAAAAACQgUAAAAAAAOB/QAAAAAAAUHNAAAAAAADYhEAAAAAAAHiIQAAAAAAAEHdAAAAAAACIiEAAAAAAACCGQAAAAAAAIHdAAAAAAADAekAAAAAAAJB9QAAAAAAAkINAAAAAAABAfEAAAAAAAJCIQAAAAAAAqIFAAAAAAADwfkAAAAAAAHCKQAAAAAAAgIBAAAAAAAAwiEAAAAAAAICFQAAAAAAAWIJAAAAAAADAekAAAAAAAJiDQAAAAAAAcIVAAAAAAACgc0AAAAAAAHCGQAAAAAAAWItAAAAAAAA4h0AAAAAAAMiFQAAAAAAAYH5AAAAAAACIi0AAAAAAAECLQAAAAAAAEIxAAAAAAADgiUAAAAAAANiNQAAAAAAAmIVAAAAAAACAjEAAAAAAABiBQAAAAAAAgIRAAAAAAACAjEAAAAAAAOiGQAAAAAAAcIlA",
          "dtype": "f8"
         },
         "yaxis": "y"
        },
        {
         "hovertemplate": "<b>OLS trendline</b><br>Lint Yield (Pounds/Harvested Acre) = 4.66674 * Year + -8648.75<br>R<sup>2</sup>=0.191973<br><br>State=South Carolina<br>Year=%{x}<br>Lint Yield (lbs/acre)=%{y} <b>(trend)</b><extra></extra>",
         "legendgroup": "South Carolina",
         "marker": {
          "color": "#EF553B",
          "symbol": "circle"
         },
         "mode": "lines",
         "name": "South Carolina",
         "showlegend": false,
         "type": "scatter",
         "x": {
          "bdata": "rAetB64HrwewB7EHsgezB7QHtQe2B7cHuAe5B7oHuwe8B70Hvge/B8AHwQfCB8MHxAfFB8YHxwfIB8kHygfLB8wHzQfOB88H0AfRB9IH0wfUB9UH1gfXB9gH2QfaB9sH3AfdB94H3wfgB+EH",
          "dtype": "i2"
         },
         "xaxis": "x",
         "y": {
          "bdata": "0PCyutklgEDAOwA4L0uAQMCGTbWEcIBAsNGaMtqVgECgHOivL7uAQJBnNS2F4IBAgLKCqtoFgUCA/c8nMCuBQHBIHaWFUIFAYJNqItt1gUBQ3refMJuBQEApBR2GwIFAQHRSmtvlgUAwv58XMQuCQCAK7ZSGMIJAEFU6EtxVgkAQoIePMXuCQADr1AyHoIJA8DUiitzFgkDggG8HMuuCQNDLvISHEINA0BYKAt01g0DAYVd/MluDQLCspPyHgINAoPfxed2lg0CQQj/3MsuDQJCNjHSI8INAgNjZ8d0VhEBwIydvMzuEQGBudOyIYIRAYLnBad6FhEBQBA/nM6uEQEBPXGSJ0IRAMJqp4d71hEAg5fZeNBuFQCAwRNyJQIVAEHuRWd9lhUAAxt7WNIuFQPAQLFSKsIVA4Ft50d/VhUDgpsZONfuFQNDxE8yKIIZAwDxhSeBFhkCwh67GNWuGQLDS+0OLkIZAoB1JweC1hkCQaJY+NtuGQICz47uLAIdAcP4wOeElh0BwSX62NkuHQGCUyzOMcIdAUN8YseGVh0BAKmYuN7uHQDB1s6uM4IdA",
          "dtype": "f8"
         },
         "yaxis": "y"
        },
        {
         "customdata": [
          [
           "Tennessee"
          ],
          [
           "Tennessee"
          ],
          [
           "Tennessee"
          ],
          [
           "Tennessee"
          ],
          [
           "Tennessee"
          ],
          [
           "Tennessee"
          ],
          [
           "Tennessee"
          ],
          [
           "Tennessee"
          ],
          [
           "Tennessee"
          ],
          [
           "Tennessee"
          ],
          [
           "Tennessee"
          ],
          [
           "Tennessee"
          ],
          [
           "Tennessee"
          ],
          [
           "Tennessee"
          ],
          [
           "Tennessee"
          ],
          [
           "Tennessee"
          ],
          [
           "Tennessee"
          ],
          [
           "Tennessee"
          ],
          [
           "Tennessee"
          ],
          [
           "Tennessee"
          ],
          [
           "Tennessee"
          ],
          [
           "Tennessee"
          ],
          [
           "Tennessee"
          ],
          [
           "Tennessee"
          ],
          [
           "Tennessee"
          ],
          [
           "Tennessee"
          ],
          [
           "Tennessee"
          ],
          [
           "Tennessee"
          ],
          [
           "Tennessee"
          ],
          [
           "Tennessee"
          ],
          [
           "Tennessee"
          ],
          [
           "Tennessee"
          ],
          [
           "Tennessee"
          ],
          [
           "Tennessee"
          ],
          [
           "Tennessee"
          ],
          [
           "Tennessee"
          ],
          [
           "Tennessee"
          ],
          [
           "Tennessee"
          ],
          [
           "Tennessee"
          ],
          [
           "Tennessee"
          ],
          [
           "Tennessee"
          ],
          [
           "Tennessee"
          ],
          [
           "Tennessee"
          ],
          [
           "Tennessee"
          ],
          [
           "Tennessee"
          ],
          [
           "Tennessee"
          ],
          [
           "Tennessee"
          ],
          [
           "Tennessee"
          ],
          [
           "Tennessee"
          ],
          [
           "Tennessee"
          ],
          [
           "Tennessee"
          ],
          [
           "Tennessee"
          ],
          [
           "Tennessee"
          ],
          [
           "Tennessee"
          ]
         ],
         "hovertemplate": "State=%{customdata[0]}<br>Year=%{x}<br>Lint Yield (lbs/acre)=%{y}<extra></extra>",
         "legendgroup": "Tennessee",
         "marker": {
          "color": "#00cc96",
          "symbol": "circle"
         },
         "mode": "markers",
         "name": "Tennessee",
         "orientation": "v",
         "showlegend": true,
         "type": "scatter",
         "x": {
          "bdata": "rAetB64HrwewB7EHsgezB7QHtQe2B7cHuAe5B7oHuwe8B70Hvge/B8AHwQfCB8MHxAfFB8YHxwfIB8kHygfLB8wHzQfOB88H0AfRB9IH0wfUB9UH1gfXB9gH2QfaB9sH3AfdB94H3wfgB+EH",
          "dtype": "i2"
         },
         "xaxis": "x",
         "y": {
          "bdata": "KH3SJ30ahUAofdInfRqFQCh90id9GoVAKH3SJ30ahUAofdInfRqFQCh90id9GoVAKH3SJ30ahUAofdInfRqFQCh90id9GoVAAAAAAAAwdUAAAAAAAHByQAAAAAAAcHlAAAAAAACgfkAAAAAAAFB2QAAAAAAA0HVAAAAAAAAAf0AAAAAAAPCDQAAAAAAAEHVAAAAAAAAgf0AAAAAAAMCCQAAAAAAAuIFAAAAAAADghUAAAAAAAIiAQAAAAAAAEH9AAAAAAADQfEAAAAAAAECBQAAAAAAAWIRAAAAAAACQekAAAAAAALCGQAAAAAAAeIBAAAAAAAAYg0AAAAAAALCEQAAAAAAAaIJAAAAAAACQf0AAAAAAANiCQAAAAAAA2IdAAAAAAAAoh0AAAAAAADCJQAAAAAAAIIxAAAAAAACAikAAAAAAAIiNQAAAAAAAqIFAAAAAAABojEAAAAAAAFiKQAAAAAAAaIpAAAAAAADgiEAAAAAAAJCNQAAAAAAAqIpAAAAAAABwi0AAAAAAAFiQQAAAAAAAQJFAAAAAAAAkkEAAAAAAAESQQAAAAAAAcJFA",
          "dtype": "f8"
         },
         "yaxis": "y"
        },
        {
         "hovertemplate": "<b>OLS trendline</b><br>Lint Yield (Pounds/Harvested Acre) = 8.95399 * Year + -17147.6<br>R<sup>2</sup>=0.465173<br><br>State=Tennessee<br>Year=%{x}<br>Lint Yield (lbs/acre)=%{y} <b>(trend)</b><extra></extra>",
         "legendgroup": "Tennessee",
         "marker": {
          "color": "#00cc96",
          "symbol": "circle"
         },
         "mode": "lines",
         "name": "Tennessee",
         "showlegend": false,
         "type": "scatter",
         "x": {
          "bdata": "rAetB64HrwewB7EHsgezB7QHtQe2B7cHuAe5B7oHuwe8B70Hvge/B8AHwQfCB8MHxAfFB8YHxwfIB8kHygfLB8wHzQfOB88H0AfRB9IH0wfUB9UH1gfXB9gH2QfaB9sH3AfdB94H3wfgB+EH",
          "dtype": "i2"
         },
         "xaxis": "x",
         "y": {
          "bdata": "AMEHH3xge0DAtPCsv+97QECo2ToDf3xAAJzCyEYOfUCAj6tWip19QECDlOTNLH5AwHZ9chG8fkCAamYAVUt/QEBeT46Y2n9A4CgcDu40gEDAohDVj3yAQIAcBZwxxIBAYJb5YtMLgUAgEO4pdVOBQACK4vAWm4FAwAPXt7jigUCgfct+WiqCQGD3v0X8cYJAQHG0DJ65gkAg66jTPwGDQOBknZrhSINAwN6RYYOQg0CAWIYoJdiDQGDSeu/GH4RAIExvtmhnhEAAxmN9Cq+EQMA/WESs9oRAoLlMC04+hUBgM0HS74WFQECtNZmRzYVAICcqYDMVhkDgoB4n1VyGQMAaE+52pIZAgJQHtRjshkBgDvx7ujOHQCCI8EJce4dAAALlCf7Ch0DAe9nQnwqIQKD1zZdBUohAYG/CXuOZiEBA6bYlheGIQCBjq+wmKYlA4Nyfs8hwiUDAVpR6ariJQIDQiEEMAIpAYEp9CK5HikAgxHHPT4+KQAA+Zpbx1opAwLdaXZMei0CgMU8kNWaLQGCrQ+vWrYtAQCU4snj1i0Agnyx5Gj2MQOAYIUC8hIxA",
          "dtype": "f8"
         },
         "yaxis": "y"
        },
        {
         "customdata": [
          [
           "Texas"
          ],
          [
           "Texas"
          ],
          [
           "Texas"
          ],
          [
           "Texas"
          ],
          [
           "Texas"
          ],
          [
           "Texas"
          ],
          [
           "Texas"
          ],
          [
           "Texas"
          ],
          [
           "Texas"
          ],
          [
           "Texas"
          ],
          [
           "Texas"
          ],
          [
           "Texas"
          ],
          [
           "Texas"
          ],
          [
           "Texas"
          ],
          [
           "Texas"
          ],
          [
           "Texas"
          ],
          [
           "Texas"
          ],
          [
           "Texas"
          ],
          [
           "Texas"
          ],
          [
           "Texas"
          ],
          [
           "Texas"
          ],
          [
           "Texas"
          ],
          [
           "Texas"
          ],
          [
           "Texas"
          ],
          [
           "Texas"
          ],
          [
           "Texas"
          ],
          [
           "Texas"
          ],
          [
           "Texas"
          ],
          [
           "Texas"
          ],
          [
           "Texas"
          ],
          [
           "Texas"
          ],
          [
           "Texas"
          ],
          [
           "Texas"
          ],
          [
           "Texas"
          ],
          [
           "Texas"
          ],
          [
           "Texas"
          ],
          [
           "Texas"
          ],
          [
           "Texas"
          ],
          [
           "Texas"
          ],
          [
           "Texas"
          ],
          [
           "Texas"
          ],
          [
           "Texas"
          ],
          [
           "Texas"
          ],
          [
           "Texas"
          ],
          [
           "Texas"
          ],
          [
           "Texas"
          ],
          [
           "Texas"
          ],
          [
           "Texas"
          ],
          [
           "Texas"
          ],
          [
           "Texas"
          ],
          [
           "Texas"
          ],
          [
           "Texas"
          ],
          [
           "Texas"
          ],
          [
           "Texas"
          ]
         ],
         "hovertemplate": "State=%{customdata[0]}<br>Year=%{x}<br>Lint Yield (lbs/acre)=%{y}<extra></extra>",
         "legendgroup": "Texas",
         "marker": {
          "color": "#ab63fa",
          "symbol": "circle"
         },
         "mode": "markers",
         "name": "Texas",
         "orientation": "v",
         "showlegend": true,
         "type": "scatter",
         "x": {
          "bdata": "rAetB64HrwewB7EHsgezB7QHtQe2B7cHuAe5B7oHuwe8B70Hvge/B8AHwQfCB8MHxAfFB8YHxwfIB8kHygfLB8wHzQfOB88H0AfRB9IH0wfUB9UH1gfXB9gH2QfaB9sH3AfdB94H3wfgB+EH",
          "dtype": "i2"
         },
         "xaxis": "x",
         "y": {
          "bdata": "2IIt2ILdf0DYgi3Ygt1/QNiCLdiC3X9A2IIt2ILdf0DYgi3Ygt1/QNiCLdiC3X9A2IIt2ILdf0DYgi3Ygt1/QNiCLdiC3X9AAAAAAABQckAAAAAAABB2QAAAAAAAcHlAAAAAAABgckAAAAAAAFB4QAAAAAAAIG1AAAAAAACAd0AAAAAAANByQAAAAAAAIHRAAAAAAACAd0AAAAAAAEB5QAAAAAAAEHZAAAAAAACgf0AAAAAAAIB9QAAAAAAA8HZAAAAAAADQfUAAAAAAADB6QAAAAAAAkHtAAAAAAABAfkAAAAAAAKB8QAAAAAAAQHdAAAAAAADQf0AAAAAAAKB9QAAAAAAAYIBAAAAAAACwfUAAAAAAAOB6QAAAAAAAEH5AAAAAAADQgEAAAAAAAOB9QAAAAAAAsIVAAAAAAACYhkAAAAAAADiFQAAAAAAAWIpAAAAAAACYhEAAAAAAANCDQAAAAAAA+IVAAAAAAABogkAAAAAAAMCDQAAAAAAAMIRAAAAAAAAghEAAAAAAABCDQAAAAAAAYIdAAAAAAABIiUAAAAAAAKCHQAAAAAAAwIFA",
          "dtype": "f8"
         },
         "yaxis": "y"
        },
        {
         "hovertemplate": "<b>OLS trendline</b><br>Lint Yield (Pounds/Harvested Acre) = 5.80202 * Year + -11039.1<br>R<sup>2</sup>=0.436160<br><br>State=Texas<br>Year=%{x}<br>Lint Yield (lbs/acre)=%{y} <b>(trend)</b><extra></extra>",
         "legendgroup": "Texas",
         "marker": {
          "color": "#ab63fa",
          "symbol": "circle"
         },
         "mode": "lines",
         "name": "Texas",
         "showlegend": false,
         "type": "scatter",
         "x": {
          "bdata": "rAetB64HrwewB7EHsgezB7QHtQe2B7cHuAe5B7oHuwe8B70Hvge/B8AHwQfCB8MHxAfFB8YHxwfIB8kHygfLB8wHzQfOB88H0AfRB9IH0wfUB9UH1gfXB9gH2QfaB9sH3AfdB94H3wfgB+EH",
          "dtype": "i2"
         },
         "xaxis": "x",
         "y": {
          "bdata": "AEYXXXRBdkCg7DlwSZ52QCCTXIMe+3ZAoDl/lvNXd0Ag4KGpyLR3QKCGxLydEXhAQC3nz3JueEDA0wnjR8t4QEB6LPYcKHlAwCBPCfKEeUBgx3Ecx+F5QOBtlC+cPnpAYBS3QnGbekDgutlVRvh6QIBh/GgbVXtAAAgffPCxe0CArkGPxQ58QABVZKKaa3xAoPuGtW/IfEAgoqnIRCV9QKBIzNsZgn1AIO/u7u7efUCglRECxDt+QEA8NBWZmH5AwOJWKG71fkBAiXk7Q1J/QMAvnE4Yr39AMGvfsPYFgEBwvnA6YTSAQLARAsTLYoBA8GSTTTaRgEBAuCTXoL+AQIALtmAL7oBAwF5H6nUcgUAAsthz4EqBQFAFav1KeYFAkFj7hrWngUDQq4wQINaBQBD/HZqKBIJAUFKvI/UygkCgpUCtX2GCQOD40TbKj4JAIExjwDS+gkBgn/RJn+yCQLDyhdMJG4NA8EUXXXRJg0Awmajm3neDQHDsOXBJpoNAwD/L+bPUg0AAk1yDHgOEQEDm7QyJMYRAgDl/lvNfhEDAjBAgXo6EQBDgoanIvIRA",
          "dtype": "f8"
         },
         "yaxis": "y"
        }
       ],
       "layout": {
        "height": 600,
        "legend": {
         "title": {
          "font": {
           "size": 12
          },
          "text": "State"
         },
         "tracegroupgap": 0
        },
        "template": {
         "data": {
          "bar": [
           {
            "error_x": {
             "color": "#2a3f5f"
            },
            "error_y": {
             "color": "#2a3f5f"
            },
            "marker": {
             "line": {
              "color": "white",
              "width": 0.5
             },
             "pattern": {
              "fillmode": "overlay",
              "size": 10,
              "solidity": 0.2
             }
            },
            "type": "bar"
           }
          ],
          "barpolar": [
           {
            "marker": {
             "line": {
              "color": "white",
              "width": 0.5
             },
             "pattern": {
              "fillmode": "overlay",
              "size": 10,
              "solidity": 0.2
             }
            },
            "type": "barpolar"
           }
          ],
          "carpet": [
           {
            "aaxis": {
             "endlinecolor": "#2a3f5f",
             "gridcolor": "#C8D4E3",
             "linecolor": "#C8D4E3",
             "minorgridcolor": "#C8D4E3",
             "startlinecolor": "#2a3f5f"
            },
            "baxis": {
             "endlinecolor": "#2a3f5f",
             "gridcolor": "#C8D4E3",
             "linecolor": "#C8D4E3",
             "minorgridcolor": "#C8D4E3",
             "startlinecolor": "#2a3f5f"
            },
            "type": "carpet"
           }
          ],
          "choropleth": [
           {
            "colorbar": {
             "outlinewidth": 0,
             "ticks": ""
            },
            "type": "choropleth"
           }
          ],
          "contour": [
           {
            "colorbar": {
             "outlinewidth": 0,
             "ticks": ""
            },
            "colorscale": [
             [
              0,
              "#0d0887"
             ],
             [
              0.1111111111111111,
              "#46039f"
             ],
             [
              0.2222222222222222,
              "#7201a8"
             ],
             [
              0.3333333333333333,
              "#9c179e"
             ],
             [
              0.4444444444444444,
              "#bd3786"
             ],
             [
              0.5555555555555556,
              "#d8576b"
             ],
             [
              0.6666666666666666,
              "#ed7953"
             ],
             [
              0.7777777777777778,
              "#fb9f3a"
             ],
             [
              0.8888888888888888,
              "#fdca26"
             ],
             [
              1,
              "#f0f921"
             ]
            ],
            "type": "contour"
           }
          ],
          "contourcarpet": [
           {
            "colorbar": {
             "outlinewidth": 0,
             "ticks": ""
            },
            "type": "contourcarpet"
           }
          ],
          "heatmap": [
           {
            "colorbar": {
             "outlinewidth": 0,
             "ticks": ""
            },
            "colorscale": [
             [
              0,
              "#0d0887"
             ],
             [
              0.1111111111111111,
              "#46039f"
             ],
             [
              0.2222222222222222,
              "#7201a8"
             ],
             [
              0.3333333333333333,
              "#9c179e"
             ],
             [
              0.4444444444444444,
              "#bd3786"
             ],
             [
              0.5555555555555556,
              "#d8576b"
             ],
             [
              0.6666666666666666,
              "#ed7953"
             ],
             [
              0.7777777777777778,
              "#fb9f3a"
             ],
             [
              0.8888888888888888,
              "#fdca26"
             ],
             [
              1,
              "#f0f921"
             ]
            ],
            "type": "heatmap"
           }
          ],
          "histogram": [
           {
            "marker": {
             "pattern": {
              "fillmode": "overlay",
              "size": 10,
              "solidity": 0.2
             }
            },
            "type": "histogram"
           }
          ],
          "histogram2d": [
           {
            "colorbar": {
             "outlinewidth": 0,
             "ticks": ""
            },
            "colorscale": [
             [
              0,
              "#0d0887"
             ],
             [
              0.1111111111111111,
              "#46039f"
             ],
             [
              0.2222222222222222,
              "#7201a8"
             ],
             [
              0.3333333333333333,
              "#9c179e"
             ],
             [
              0.4444444444444444,
              "#bd3786"
             ],
             [
              0.5555555555555556,
              "#d8576b"
             ],
             [
              0.6666666666666666,
              "#ed7953"
             ],
             [
              0.7777777777777778,
              "#fb9f3a"
             ],
             [
              0.8888888888888888,
              "#fdca26"
             ],
             [
              1,
              "#f0f921"
             ]
            ],
            "type": "histogram2d"
           }
          ],
          "histogram2dcontour": [
           {
            "colorbar": {
             "outlinewidth": 0,
             "ticks": ""
            },
            "colorscale": [
             [
              0,
              "#0d0887"
             ],
             [
              0.1111111111111111,
              "#46039f"
             ],
             [
              0.2222222222222222,
              "#7201a8"
             ],
             [
              0.3333333333333333,
              "#9c179e"
             ],
             [
              0.4444444444444444,
              "#bd3786"
             ],
             [
              0.5555555555555556,
              "#d8576b"
             ],
             [
              0.6666666666666666,
              "#ed7953"
             ],
             [
              0.7777777777777778,
              "#fb9f3a"
             ],
             [
              0.8888888888888888,
              "#fdca26"
             ],
             [
              1,
              "#f0f921"
             ]
            ],
            "type": "histogram2dcontour"
           }
          ],
          "mesh3d": [
           {
            "colorbar": {
             "outlinewidth": 0,
             "ticks": ""
            },
            "type": "mesh3d"
           }
          ],
          "parcoords": [
           {
            "line": {
             "colorbar": {
              "outlinewidth": 0,
              "ticks": ""
             }
            },
            "type": "parcoords"
           }
          ],
          "pie": [
           {
            "automargin": true,
            "type": "pie"
           }
          ],
          "scatter": [
           {
            "fillpattern": {
             "fillmode": "overlay",
             "size": 10,
             "solidity": 0.2
            },
            "type": "scatter"
           }
          ],
          "scatter3d": [
           {
            "line": {
             "colorbar": {
              "outlinewidth": 0,
              "ticks": ""
             }
            },
            "marker": {
             "colorbar": {
              "outlinewidth": 0,
              "ticks": ""
             }
            },
            "type": "scatter3d"
           }
          ],
          "scattercarpet": [
           {
            "marker": {
             "colorbar": {
              "outlinewidth": 0,
              "ticks": ""
             }
            },
            "type": "scattercarpet"
           }
          ],
          "scattergeo": [
           {
            "marker": {
             "colorbar": {
              "outlinewidth": 0,
              "ticks": ""
             }
            },
            "type": "scattergeo"
           }
          ],
          "scattergl": [
           {
            "marker": {
             "colorbar": {
              "outlinewidth": 0,
              "ticks": ""
             }
            },
            "type": "scattergl"
           }
          ],
          "scattermap": [
           {
            "marker": {
             "colorbar": {
              "outlinewidth": 0,
              "ticks": ""
             }
            },
            "type": "scattermap"
           }
          ],
          "scattermapbox": [
           {
            "marker": {
             "colorbar": {
              "outlinewidth": 0,
              "ticks": ""
             }
            },
            "type": "scattermapbox"
           }
          ],
          "scatterpolar": [
           {
            "marker": {
             "colorbar": {
              "outlinewidth": 0,
              "ticks": ""
             }
            },
            "type": "scatterpolar"
           }
          ],
          "scatterpolargl": [
           {
            "marker": {
             "colorbar": {
              "outlinewidth": 0,
              "ticks": ""
             }
            },
            "type": "scatterpolargl"
           }
          ],
          "scatterternary": [
           {
            "marker": {
             "colorbar": {
              "outlinewidth": 0,
              "ticks": ""
             }
            },
            "type": "scatterternary"
           }
          ],
          "surface": [
           {
            "colorbar": {
             "outlinewidth": 0,
             "ticks": ""
            },
            "colorscale": [
             [
              0,
              "#0d0887"
             ],
             [
              0.1111111111111111,
              "#46039f"
             ],
             [
              0.2222222222222222,
              "#7201a8"
             ],
             [
              0.3333333333333333,
              "#9c179e"
             ],
             [
              0.4444444444444444,
              "#bd3786"
             ],
             [
              0.5555555555555556,
              "#d8576b"
             ],
             [
              0.6666666666666666,
              "#ed7953"
             ],
             [
              0.7777777777777778,
              "#fb9f3a"
             ],
             [
              0.8888888888888888,
              "#fdca26"
             ],
             [
              1,
              "#f0f921"
             ]
            ],
            "type": "surface"
           }
          ],
          "table": [
           {
            "cells": {
             "fill": {
              "color": "#EBF0F8"
             },
             "line": {
              "color": "white"
             }
            },
            "header": {
             "fill": {
              "color": "#C8D4E3"
             },
             "line": {
              "color": "white"
             }
            },
            "type": "table"
           }
          ]
         },
         "layout": {
          "annotationdefaults": {
           "arrowcolor": "#2a3f5f",
           "arrowhead": 0,
           "arrowwidth": 1
          },
          "autotypenumbers": "strict",
          "coloraxis": {
           "colorbar": {
            "outlinewidth": 0,
            "ticks": ""
           }
          },
          "colorscale": {
           "diverging": [
            [
             0,
             "#8e0152"
            ],
            [
             0.1,
             "#c51b7d"
            ],
            [
             0.2,
             "#de77ae"
            ],
            [
             0.3,
             "#f1b6da"
            ],
            [
             0.4,
             "#fde0ef"
            ],
            [
             0.5,
             "#f7f7f7"
            ],
            [
             0.6,
             "#e6f5d0"
            ],
            [
             0.7,
             "#b8e186"
            ],
            [
             0.8,
             "#7fbc41"
            ],
            [
             0.9,
             "#4d9221"
            ],
            [
             1,
             "#276419"
            ]
           ],
           "sequential": [
            [
             0,
             "#0d0887"
            ],
            [
             0.1111111111111111,
             "#46039f"
            ],
            [
             0.2222222222222222,
             "#7201a8"
            ],
            [
             0.3333333333333333,
             "#9c179e"
            ],
            [
             0.4444444444444444,
             "#bd3786"
            ],
            [
             0.5555555555555556,
             "#d8576b"
            ],
            [
             0.6666666666666666,
             "#ed7953"
            ],
            [
             0.7777777777777778,
             "#fb9f3a"
            ],
            [
             0.8888888888888888,
             "#fdca26"
            ],
            [
             1,
             "#f0f921"
            ]
           ],
           "sequentialminus": [
            [
             0,
             "#0d0887"
            ],
            [
             0.1111111111111111,
             "#46039f"
            ],
            [
             0.2222222222222222,
             "#7201a8"
            ],
            [
             0.3333333333333333,
             "#9c179e"
            ],
            [
             0.4444444444444444,
             "#bd3786"
            ],
            [
             0.5555555555555556,
             "#d8576b"
            ],
            [
             0.6666666666666666,
             "#ed7953"
            ],
            [
             0.7777777777777778,
             "#fb9f3a"
            ],
            [
             0.8888888888888888,
             "#fdca26"
            ],
            [
             1,
             "#f0f921"
            ]
           ]
          },
          "colorway": [
           "#636efa",
           "#EF553B",
           "#00cc96",
           "#ab63fa",
           "#FFA15A",
           "#19d3f3",
           "#FF6692",
           "#B6E880",
           "#FF97FF",
           "#FECB52"
          ],
          "font": {
           "color": "#2a3f5f"
          },
          "geo": {
           "bgcolor": "white",
           "lakecolor": "white",
           "landcolor": "white",
           "showlakes": true,
           "showland": true,
           "subunitcolor": "#C8D4E3"
          },
          "hoverlabel": {
           "align": "left"
          },
          "hovermode": "closest",
          "mapbox": {
           "style": "light"
          },
          "paper_bgcolor": "white",
          "plot_bgcolor": "white",
          "polar": {
           "angularaxis": {
            "gridcolor": "#EBF0F8",
            "linecolor": "#EBF0F8",
            "ticks": ""
           },
           "bgcolor": "white",
           "radialaxis": {
            "gridcolor": "#EBF0F8",
            "linecolor": "#EBF0F8",
            "ticks": ""
           }
          },
          "scene": {
           "xaxis": {
            "backgroundcolor": "white",
            "gridcolor": "#DFE8F3",
            "gridwidth": 2,
            "linecolor": "#EBF0F8",
            "showbackground": true,
            "ticks": "",
            "zerolinecolor": "#EBF0F8"
           },
           "yaxis": {
            "backgroundcolor": "white",
            "gridcolor": "#DFE8F3",
            "gridwidth": 2,
            "linecolor": "#EBF0F8",
            "showbackground": true,
            "ticks": "",
            "zerolinecolor": "#EBF0F8"
           },
           "zaxis": {
            "backgroundcolor": "white",
            "gridcolor": "#DFE8F3",
            "gridwidth": 2,
            "linecolor": "#EBF0F8",
            "showbackground": true,
            "ticks": "",
            "zerolinecolor": "#EBF0F8"
           }
          },
          "shapedefaults": {
           "line": {
            "color": "#2a3f5f"
           }
          },
          "ternary": {
           "aaxis": {
            "gridcolor": "#DFE8F3",
            "linecolor": "#A2B1C6",
            "ticks": ""
           },
           "baxis": {
            "gridcolor": "#DFE8F3",
            "linecolor": "#A2B1C6",
            "ticks": ""
           },
           "bgcolor": "white",
           "caxis": {
            "gridcolor": "#DFE8F3",
            "linecolor": "#A2B1C6",
            "ticks": ""
           }
          },
          "title": {
           "x": 0.05
          },
          "xaxis": {
           "automargin": true,
           "gridcolor": "#EBF0F8",
           "linecolor": "#EBF0F8",
           "ticks": "",
           "title": {
            "standoff": 15
           },
           "zerolinecolor": "#EBF0F8",
           "zerolinewidth": 2
          },
          "yaxis": {
           "automargin": true,
           "gridcolor": "#EBF0F8",
           "linecolor": "#EBF0F8",
           "ticks": "",
           "title": {
            "standoff": 15
           },
           "zerolinecolor": "#EBF0F8",
           "zerolinewidth": 2
          }
         }
        },
        "title": {
         "font": {
          "size": 16
         },
         "text": "Cotton Lint Yield Trends by State Over Time"
        },
        "xaxis": {
         "anchor": "y",
         "domain": [
          0,
          1
         ],
         "title": {
          "font": {
           "size": 14
          },
          "text": "Year"
         }
        },
        "yaxis": {
         "anchor": "x",
         "domain": [
          0,
          1
         ],
         "title": {
          "font": {
           "size": 14
          },
          "text": "Lint Yield (lbs/acre)"
         }
        }
       }
      }
     },
     "metadata": {},
     "output_type": "display_data"
    }
   ],
   "source": [
    "fig_enhanced = px.scatter(df_cotton, x='Year', y='Lint Yield (Pounds/Harvested Acre)', \n",
    "                         color='State', size_max=10,\n",
    "                         title='Cotton Lint Yield Trends by State Over Time',\n",
    "                         labels={'Lint Yield (Pounds/Harvested Acre)': 'Lint Yield (lbs/acre)',\n",
    "                                'Year': 'Year'},\n",
    "                         hover_data=['State'],\n",
    "                         trendline=\"ols\")\n",
    "\n",
    "fig_enhanced.update_layout(\n",
    "    title_font_size=16,\n",
    "    xaxis_title_font_size=14,\n",
    "    yaxis_title_font_size=14,\n",
    "    legend_title_font_size=12,\n",
    "    height=600,\n",
    "    template='plotly_white'\n",
    ")\n",
    "\n",
    "fig_enhanced.show()"
   ]
  },
  {
   "cell_type": "code",
   "execution_count": null,
   "id": "6afb8053",
   "metadata": {},
   "outputs": [
    {
     "name": "stdout",
     "output_type": "stream",
     "text": [
      "Summary Statistics by State:\n",
      "                   mean   median     std    min     max\n",
      "State                                                  \n",
      "Alabama          644.69   644.69  158.69  337.0   988.0\n",
      "Arizona         1290.29  1290.29  152.69  953.0  1579.0\n",
      "Arkansas         805.91   805.91  212.69  330.0  1177.0\n",
      "California      1299.09  1299.09  265.16  640.0  1910.0\n",
      "Georgia          684.31   684.31  171.36  232.0  1091.0\n",
      "Louisiana        751.67   751.67  172.88  394.0  1223.0\n",
      "Mississippi      809.40   809.40  186.69  376.0  1232.0\n",
      "Missouri         769.91   769.91  242.46  305.0  1373.0\n",
      "New Mexico       777.78   777.78  205.47  382.0  1179.0\n",
      "North Carolina   666.33   666.33  167.97  305.0  1038.0\n",
      "Oklahoma         489.89   489.89  193.65  174.0  1021.0\n",
      "South Carolina   640.40   640.40  167.56  309.0   955.0\n",
      "Tennessee        675.31   675.31  206.54  295.0  1116.0\n",
      "Texas            509.84   509.42  138.21  233.0   843.0\n"
     ]
    }
   ],
   "source": [
    "summary_stats = df_cotton.groupby('State')['Lint Yield (Pounds/Harvested Acre)'].agg([\n",
    "    'mean', 'median', 'std', 'min', 'max'\n",
    "]).round(2)\n",
    "\n",
    "print(\"Summary Statistics by State:\")\n",
    "print(summary_stats)"
   ]
  },
  {
   "cell_type": "code",
   "execution_count": null,
   "id": "47212ec6",
   "metadata": {
    "vscode": {
     "languageId": "lua"
    }
   },
   "outputs": [
    {
     "name": "stdout",
     "output_type": "stream",
     "text": [
      "=== NITROGEN ANALYSIS ===\n"
     ]
    },
    {
     "data": {
      "application/vnd.plotly.v1+json": {
       "config": {
        "plotlyServerURL": "https://plot.ly"
       },
       "data": [
        {
         "customdata": [
          [
           "Alabama",
           99
          ],
          [
           "Alabama",
           100
          ],
          [
           "Alabama",
           100
          ],
          [
           "Alabama",
           100
          ],
          [
           "Alabama",
           100
          ],
          [
           "Alabama",
           100
          ],
          [
           "Alabama",
           100
          ],
          [
           "Alabama",
           99
          ],
          [
           "Alabama",
           100
          ],
          [
           "Alabama",
           99
          ],
          [
           "Alabama",
           100
          ],
          [
           "Alabama",
           100
          ],
          [
           "Alabama",
           98
          ],
          [
           "Alabama",
           99
          ],
          [
           "Alabama",
           100
          ],
          [
           "Alabama",
           100
          ],
          [
           "Alabama",
           100
          ],
          [
           "Alabama",
           99
          ],
          [
           "Alabama",
           100
          ],
          [
           "Alabama",
           100
          ],
          [
           "Alabama",
           98
          ],
          [
           "Alabama",
           98
          ],
          [
           "Alabama",
           99
          ],
          [
           "Alabama",
           99.03225806451613
          ],
          [
           "Alabama",
           99.03225806451613
          ],
          [
           "Alabama",
           99.03225806451613
          ],
          [
           "Alabama",
           99.03225806451613
          ],
          [
           "Alabama",
           99.03225806451613
          ],
          [
           "Alabama",
           99.03225806451613
          ],
          [
           "Alabama",
           99.03225806451613
          ],
          [
           "Alabama",
           99.03225806451613
          ],
          [
           "Alabama",
           99.03225806451613
          ],
          [
           "Alabama",
           99.03225806451613
          ],
          [
           "Alabama",
           100
          ],
          [
           "Alabama",
           99
          ],
          [
           "Alabama",
           97
          ],
          [
           "Alabama",
           100
          ],
          [
           "Alabama",
           99.03225806451613
          ],
          [
           "Alabama",
           99.03225806451613
          ],
          [
           "Alabama",
           97
          ],
          [
           "Alabama",
           99.03225806451613
          ],
          [
           "Alabama",
           99.03225806451613
          ],
          [
           "Alabama",
           99.03225806451613
          ],
          [
           "Alabama",
           97
          ],
          [
           "Alabama",
           99.03225806451613
          ],
          [
           "Alabama",
           99.03225806451613
          ],
          [
           "Alabama",
           99.03225806451613
          ],
          [
           "Alabama",
           99.03225806451613
          ],
          [
           "Alabama",
           99.03225806451613
          ],
          [
           "Alabama",
           99.03225806451613
          ],
          [
           "Alabama",
           99.03225806451613
          ],
          [
           "Alabama",
           99
          ],
          [
           "Alabama",
           99.03225806451613
          ],
          [
           "Alabama",
           93
          ]
         ],
         "hovertemplate": "State=%{customdata[0]}<br>Year=%{x}<br>Nitrogen (lbs/acre)=%{y}<br>Nitrogen (%)=%{customdata[1]}<extra></extra>",
         "legendgroup": "Alabama",
         "marker": {
          "color": "#636efa",
          "symbol": "circle"
         },
         "mode": "markers",
         "name": "Alabama",
         "orientation": "v",
         "showlegend": true,
         "type": "scatter",
         "x": {
          "bdata": "rAetB64HrwewB7EHsgezB7QHtQe2B7cHuAe5B7oHuwe8B70Hvge/B8AHwQfCB8MHxAfFB8YHxwfIB8kHygfLB8wHzQfOB88H0AfRB9IH0wfUB9UH1gfXB9gH2QfaB9sH3AfdB94H3wfgB+EH",
          "dtype": "i2"
         },
         "xaxis": "x",
         "y": {
          "bdata": "AAAAAAAAUkAAAAAAAEBUQAAAAAAAwFRAAAAAAACAU0AAAAAAAMBRQAAAAAAAAFRAAAAAAACAU0AAAAAAAABVQAAAAAAAQFZAAAAAAACAVEAAAAAAAABZQAAAAAAAgFJAAAAAAAAAUkAAAAAAAIBSQAAAAAAAgFBAAAAAAACAUUAAAAAAAEBSQAAAAAAAQFJAAAAAAABAWUAAAAAAAMBTQAAAAAAAgFNAAAAAAAAAVkAAAAAAAIBUQHTOOeecs1RAdM4555yzVEB0zjnnnLNUQHTOOeecs1RAdM4555yzVEB0zjnnnLNUQHTOOeecs1RAdM4555yzVEB0zjnnnLNUQHTOOeecs1RAAAAAAABAVkAAAAAAAIBTQAAAAAAAAFVAAAAAAADAWUB0zjnnnLNUQHTOOeecs1RAAAAAAACAWUB0zjnnnLNUQHTOOeecs1RAdM4555yzVEAAAAAAAABWQHTOOeecs1RAdM4555yzVEB0zjnnnLNUQHTOOeecs1RAdM4555yzVEB0zjnnnLNUQHTOOeecs1RAAAAAAADAVkB0zjnnnLNUQAAAAAAAAFpA",
          "dtype": "f8"
         },
         "yaxis": "y"
        },
        {
         "hovertemplate": "<b>OLS trendline</b><br>Nitrogen (Pounds/Acre) = 0.198031 * Year + -311.375<br>R<sup>2</sup>=0.154072<br><br>State=Alabama<br>Year=%{x}<br>Nitrogen (lbs/acre)=%{y} <b>(trend)</b><extra></extra>",
         "legendgroup": "Alabama",
         "marker": {
          "color": "#636efa",
          "symbol": "circle"
         },
         "mode": "lines",
         "name": "Alabama",
         "showlegend": false,
         "type": "scatter",
         "x": {
          "bdata": "rAetB64HrwewB7EHsgezB7QHtQe2B7cHuAe5B7oHuwe8B70Hvge/B8AHwQfCB8MHxAfFB8YHxwfIB8kHygfLB8wHzQfOB88H0AfRB9IH0wfUB9UH1gfXB9gH2QfaB9sH3AfdB94H3wfgB+EH",
          "dtype": "i2"
         },
         "xaxis": "x",
         "y": {
          "bdata": "/FuRZ8BjU0BQYKHzbHBTQKRksX8ZfVNA+GjBC8aJU0BMbdGXcpZTQJxx4SMfo1NA8HXxr8uvU0BEegE8eLxTQJh+EcgkyVNA7IIhVNHVU0BAhzHgfeJTQJSLQWwq71NA6I9R+Nb7U0A4lGGEgwhUQIyYcRAwFVRA4JyBnNwhVEA0oZEoiS5UQIilobQ1O1RA3KmxQOJHVEAwrsHMjlRUQISy0Vg7YVRA2Lbh5OdtVEAou/FwlHpUQHy/Af1Ah1RA0MMRie2TVEAkyCEVmqBUQHjMMaFGrVRAzNBBLfO5VEAg1VG5n8ZUQHTZYUVM01RAxN1x0fjfVEAY4oFdpexUQGzmkelR+VRAwOqhdf4FVUAU77EBqxJVQGjzwY1XH1VAvPfRGQQsVUAQ/OGlsDhVQGQA8jFdRVVAtAQCvglSVUAICRJKtl5VQFwNItZia1VAsBEyYg94VUAEFkLuu4RVQFgaUnpokVVArB5iBhWeVUAAI3KSwapVQFAngh5ut1VApCuSqhrEVUD4L6I2x9BVQEw0ssJz3VVAoDjCTiDqVUD0PNLazPZVQEhB4mZ5A1ZA",
          "dtype": "f8"
         },
         "yaxis": "y"
        },
        {
         "customdata": [
          [
           "Arizona",
           94
          ],
          [
           "Arizona",
           92
          ],
          [
           "Arizona",
           96
          ],
          [
           "Arizona",
           89
          ],
          [
           "Arizona",
           95
          ],
          [
           "Arizona",
           97
          ],
          [
           "Arizona",
           90
          ],
          [
           "Arizona",
           91
          ],
          [
           "Arizona",
           82
          ],
          [
           "Arizona",
           88
          ],
          [
           "Arizona",
           97
          ],
          [
           "Arizona",
           82
          ],
          [
           "Arizona",
           88
          ],
          [
           "Arizona",
           92
          ],
          [
           "Arizona",
           89
          ],
          [
           "Arizona",
           93
          ],
          [
           "Arizona",
           90
          ],
          [
           "Arizona",
           92
          ],
          [
           "Arizona",
           94
          ],
          [
           "Arizona",
           90
          ],
          [
           "Arizona",
           98
          ],
          [
           "Arizona",
           95
          ],
          [
           "Arizona",
           93
          ],
          [
           "Arizona",
           95
          ],
          [
           "Arizona",
           90
          ],
          [
           "Arizona",
           95
          ],
          [
           "Arizona",
           94
          ],
          [
           "Arizona",
           99
          ],
          [
           "Arizona",
           94
          ],
          [
           "Arizona",
           98
          ],
          [
           "Arizona",
           99
          ],
          [
           "Arizona",
           95
          ],
          [
           "Arizona",
           98
          ],
          [
           "Arizona",
           99
          ],
          [
           "Arizona",
           98
          ],
          [
           "Arizona",
           99
          ],
          [
           "Arizona",
           98
          ],
          [
           "Arizona",
           93.56410256410257
          ],
          [
           "Arizona",
           93.56410256410257
          ],
          [
           "Arizona",
           93
          ],
          [
           "Arizona",
           93.56410256410257
          ],
          [
           "Arizona",
           93.56410256410257
          ],
          [
           "Arizona",
           93.56410256410257
          ],
          [
           "Arizona",
           93.56410256410257
          ],
          [
           "Arizona",
           93.56410256410257
          ],
          [
           "Arizona",
           93.56410256410257
          ],
          [
           "Arizona",
           93.56410256410257
          ],
          [
           "Arizona",
           93.56410256410257
          ],
          [
           "Arizona",
           93.56410256410257
          ],
          [
           "Arizona",
           93.56410256410257
          ],
          [
           "Arizona",
           93.56410256410257
          ],
          [
           "Arizona",
           98
          ],
          [
           "Arizona",
           93.56410256410257
          ],
          [
           "Arizona",
           93.56410256410257
          ]
         ],
         "hovertemplate": "State=%{customdata[0]}<br>Year=%{x}<br>Nitrogen (lbs/acre)=%{y}<br>Nitrogen (%)=%{customdata[1]}<extra></extra>",
         "legendgroup": "Arizona",
         "marker": {
          "color": "#EF553B",
          "symbol": "circle"
         },
         "mode": "markers",
         "name": "Arizona",
         "orientation": "v",
         "showlegend": true,
         "type": "scatter",
         "x": {
          "bdata": "rAetB64HrwewB7EHsgezB7QHtQe2B7cHuAe5B7oHuwe8B70Hvge/B8AHwQfCB8MHxAfFB8YHxwfIB8kHygfLB8wHzQfOB88H0AfRB9IH0wfUB9UH1gfXB9gH2QfaB9sH3AfdB94H3wfgB+EH",
          "dtype": "i2"
         },
         "xaxis": "x",
         "y": {
          "bdata": "AAAAAABAYEAAAAAAAGBgQAAAAAAAoGFAAAAAAACgYUAAAAAAAMBhQAAAAAAAIGJAAAAAAADgYEAAAAAAAMBeQAAAAAAAQF1AAAAAAAAAXkAAAAAAAMBeQAAAAAAAQF1AAAAAAABgY0AAAAAAAIBiQAAAAAAA4GBAAAAAAADAYUAAAAAAACBkQAAAAAAA4GNAAAAAAACAX0AAAAAAAEBcQAAAAAAAwGJAAAAAAACgY0AAAAAAAIBeQAAAAAAA4GNAAAAAAAAAYkAAAAAAAEBmQAAAAAAAYGNAAAAAAABAZUAAAAAAAIBgQAAAAAAAoGJAAAAAAADga0AAAAAAAEBoQAAAAAAAgGJAAAAAAABAYEAAAAAAAKBhQAAAAAAAoGJAAAAAAAAgYEDSIA3SIA1iQNIgDdIgDWJAAAAAAABAZkDSIA3SIA1iQNIgDdIgDWJA0iAN0iANYkDSIA3SIA1iQNIgDdIgDWJA0iAN0iANYkDSIA3SIA1iQNIgDdIgDWJA0iAN0iANYkDSIA3SIA1iQNIgDdIgDWJAAAAAAAAAXkDSIA3SIA1iQNIgDdIgDWJA",
          "dtype": "f8"
         },
         "yaxis": "y"
        },
        {
         "hovertemplate": "<b>OLS trendline</b><br>Nitrogen (Pounds/Acre) = 0.250265 * Year + -353.741<br>R<sup>2</sup>=0.042394<br><br>State=Arizona<br>Year=%{x}<br>Nitrogen (lbs/acre)=%{y} <b>(trend)</b><extra></extra>",
         "legendgroup": "Arizona",
         "marker": {
          "color": "#EF553B",
          "symbol": "circle"
         },
         "mode": "lines",
         "name": "Arizona",
         "showlegend": false,
         "type": "scatter",
         "x": {
          "bdata": "rAetB64HrwewB7EHsgezB7QHtQe2B7cHuAe5B7oHuwe8B70Hvge/B8AHwQfCB8MHxAfFB8YHxwfIB8kHygfLB8wHzQfOB88H0AfRB9IH0wfUB9UH1gfXB9gH2QfaB9sH3AfdB94H3wfgB+EH",
          "dtype": "i2"
         },
         "xaxis": "x",
         "y": {
          "bdata": "0lvqX+c4YUAgLt2K6UBhQG4A0LXrSGFAvNLC4O1QYUAKpbUL8FhhQFh3qDbyYGFApkmbYfRoYUD0G46M9nBhQELugLf4eGFAkMBz4vqAYUDekmYN/YhhQCxlWTj/kGFAejdMYwGZYUDICT+OA6FhQBbcMbkFqWFAZK4k5AexYUCygBcPCrlhQABTCjoMwWFATiX9ZA7JYUCc9++PENFhQOrJ4roS2WFAOJzV5RThYUCGbsgQF+lhQNRAuzsZ8WFAJBOuZhv5YUBy5aCRHQFiQMC3k7wfCWJADoqG5yERYkBcXHkSJBliQKoubD0mIWJA+ABfaCgpYkBG01GTKjFiQJSlRL4sOWJA4nc36S5BYkAwSioUMUliQH4cHT8zUWJAzO4PajVZYkAawQKVN2FiQGiT9b85aWJAtmXo6jtxYkAEONsVPnliQFIKzkBAgWJAoNzAa0KJYkDurrOWRJFiQDyBpsFGmWJAilOZ7EihYkDYJYwXS6liQCb4fkJNsWJAdspxbU+5YkDEnGSYUcFiQBJvV8NTyWJAYEFK7lXRYkCuEz0ZWNliQPzlL0Ra4WJA",
          "dtype": "f8"
         },
         "yaxis": "y"
        },
        {
         "customdata": [
          [
           "Arkansas",
           97
          ],
          [
           "Arkansas",
           99
          ],
          [
           "Arkansas",
           97
          ],
          [
           "Arkansas",
           98
          ],
          [
           "Arkansas",
           99
          ],
          [
           "Arkansas",
           96
          ],
          [
           "Arkansas",
           95
          ],
          [
           "Arkansas",
           98
          ],
          [
           "Arkansas",
           99
          ],
          [
           "Arkansas",
           97
          ],
          [
           "Arkansas",
           98
          ],
          [
           "Arkansas",
           98
          ],
          [
           "Arkansas",
           97
          ],
          [
           "Arkansas",
           95
          ],
          [
           "Arkansas",
           93
          ],
          [
           "Arkansas",
           98
          ],
          [
           "Arkansas",
           98
          ],
          [
           "Arkansas",
           97
          ],
          [
           "Arkansas",
           97
          ],
          [
           "Arkansas",
           97
          ],
          [
           "Arkansas",
           97
          ],
          [
           "Arkansas",
           100
          ],
          [
           "Arkansas",
           99
          ],
          [
           "Arkansas",
           99
          ],
          [
           "Arkansas",
           99
          ],
          [
           "Arkansas",
           94
          ],
          [
           "Arkansas",
           99
          ],
          [
           "Arkansas",
           96
          ],
          [
           "Arkansas",
           98
          ],
          [
           "Arkansas",
           96
          ],
          [
           "Arkansas",
           93
          ],
          [
           "Arkansas",
           97
          ],
          [
           "Arkansas",
           97
          ],
          [
           "Arkansas",
           92
          ],
          [
           "Arkansas",
           98
          ],
          [
           "Arkansas",
           97
          ],
          [
           "Arkansas",
           100
          ],
          [
           "Arkansas",
           93
          ],
          [
           "Arkansas",
           97.13953488372093
          ],
          [
           "Arkansas",
           97
          ],
          [
           "Arkansas",
           97.13953488372093
          ],
          [
           "Arkansas",
           97.13953488372093
          ],
          [
           "Arkansas",
           97.13953488372093
          ],
          [
           "Arkansas",
           98
          ],
          [
           "Arkansas",
           97.13953488372093
          ],
          [
           "Arkansas",
           97.13953488372093
          ],
          [
           "Arkansas",
           98
          ],
          [
           "Arkansas",
           97.13953488372093
          ],
          [
           "Arkansas",
           97.13953488372093
          ],
          [
           "Arkansas",
           97.13953488372093
          ],
          [
           "Arkansas",
           97.13953488372093
          ],
          [
           "Arkansas",
           100
          ],
          [
           "Arkansas",
           97.13953488372093
          ],
          [
           "Arkansas",
           97
          ]
         ],
         "hovertemplate": "State=%{customdata[0]}<br>Year=%{x}<br>Nitrogen (lbs/acre)=%{y}<br>Nitrogen (%)=%{customdata[1]}<extra></extra>",
         "legendgroup": "Arkansas",
         "marker": {
          "color": "#00cc96",
          "symbol": "circle"
         },
         "mode": "markers",
         "name": "Arkansas",
         "orientation": "v",
         "showlegend": true,
         "type": "scatter",
         "x": {
          "bdata": "rAetB64HrwewB7EHsgezB7QHtQe2B7cHuAe5B7oHuwe8B70Hvge/B8AHwQfCB8MHxAfFB8YHxwfIB8kHygfLB8wHzQfOB88H0AfRB9IH0wfUB9UH1gfXB9gH2QfaB9sH3AfdB94H3wfgB+EH",
          "dtype": "i2"
         },
         "xaxis": "x",
         "y": {
          "bdata": "AAAAAAAAUUAAAAAAAABSQAAAAAAAgFFAAAAAAAAAUUAAAAAAAIBPQAAAAAAAQFBAAAAAAADAUEAAAAAAAIBPQAAAAAAAAE9AAAAAAABAUUAAAAAAAABRQAAAAAAAgExAAAAAAABAUEAAAAAAAIBQQAAAAAAAAFBAAAAAAAAAT0AAAAAAAIBNQAAAAAAAAFBAAAAAAADAUEAAAAAAAEBRQAAAAAAAwFJAAAAAAACAUUAAAAAAAABVQAAAAAAAQFRAAAAAAADAU0AAAAAAAABUQAAAAAAAQFVAAAAAAACAVUAAAAAAAABWQAAAAAAAwFlAAAAAAACAW0AAAAAAAEBZQAAAAAAAQFhAAAAAAABAU0AAAAAAAMBWQAAAAAAAQFdAAAAAAAAAVkAAAAAAAABUQO6IO+KOOFRAAAAAAACAV0DuiDvijjhUQO6IO+KOOFRA7og74o44VEAAAAAAAMBbQO6IO+KOOFRA7og74o44VEAAAAAAAABbQO6IO+KOOFRA7og74o44VEDuiDvijjhUQO6IO+KOOFRAAAAAAAAgYEDuiDvijjhUQAAAAAAAAGRA",
          "dtype": "f8"
         },
         "yaxis": "y"
        },
        {
         "hovertemplate": "<b>OLS trendline</b><br>Nitrogen (Pounds/Acre) = 0.779548 * Year + -1470.81<br>R<sup>2</sup>=0.442160<br><br>State=Arkansas<br>Year=%{x}<br>Nitrogen (lbs/acre)=%{y} <b>(trend)</b><extra></extra>",
         "legendgroup": "Arkansas",
         "marker": {
          "color": "#00cc96",
          "symbol": "circle"
         },
         "mode": "lines",
         "name": "Arkansas",
         "showlegend": false,
         "type": "scatter",
         "x": {
          "bdata": "rAetB64HrwewB7EHsgezB7QHtQe2B7cHuAe5B7oHuwe8B70Hvge/B8AHwQfCB8MHxAfFB8YHxwfIB8kHygfLB8wHzQfOB88H0AfRB9IH0wfUB9UH1gfXB9gH2QfaB9sH3AfdB94H3wfgB+EH",
          "dtype": "i2"
         },
         "xaxis": "x",
         "y": {
          "bdata": "4IArs+McTkDg68jtq4BOQMBWZih05E5AoMEDYzxIT0CgLKGdBKxPQMBLH2zmB1BAMAFuico5UECgtrymrmtQQCBsC8SSnVBAkCFa4XbPUEAA16j+WgFRQICM9xs/M1FA8EFGOSNlUUBg95RWB5dRQOCs43PryFFAUGIykc/6UUDAF4GusyxSQDDNz8uXXlJAsIIe6XuQUkAgOG0GYMJSQJDtuyNE9FJAEKMKQSgmU0CAWFleDFhTQPANqHvwiVNAcMP2mNS7U0DgeEW2uO1TQFAulNOcH1RA0OPi8IBRVEBAmTEOZYNUQLBOgCtJtVRAIATPSC3nVECguR1mERlVQBBvbIP1SlVAgCS7oNl8VUAA2gm+va5VQHCPWNuh4FVA4ESn+IUSVkBg+vUVakRWQNCvRDNOdlZAQGWTUDKoVkDAGuJtFtpWQDDQMIv6C1dAoIV/qN49V0AQO87Fwm9XQJDwHOOmoVdAAKZrAIvTV0BwW7odbwVYQPAQCTtTN1hAYMZXWDdpWEDQe6Z1G5tYQFAx9ZL/zFhAwOZDsOP+WEAwnJLNxzBZQLBR4eqrYllA",
          "dtype": "f8"
         },
         "yaxis": "y"
        },
        {
         "customdata": [
          [
           "California",
           95
          ],
          [
           "California",
           96
          ],
          [
           "California",
           94
          ],
          [
           "California",
           91
          ],
          [
           "California",
           94
          ],
          [
           "California",
           93
          ],
          [
           "California",
           92
          ],
          [
           "California",
           90
          ],
          [
           "California",
           92
          ],
          [
           "California",
           88
          ],
          [
           "California",
           84
          ],
          [
           "California",
           86
          ],
          [
           "California",
           94
          ],
          [
           "California",
           95
          ],
          [
           "California",
           96
          ],
          [
           "California",
           94
          ],
          [
           "California",
           95
          ],
          [
           "California",
           97
          ],
          [
           "California",
           95
          ],
          [
           "California",
           95
          ],
          [
           "California",
           91
          ],
          [
           "California",
           87
          ],
          [
           "California",
           92
          ],
          [
           "California",
           93
          ],
          [
           "California",
           93
          ],
          [
           "California",
           97
          ],
          [
           "California",
           94
          ],
          [
           "California",
           95
          ],
          [
           "California",
           97
          ],
          [
           "California",
           98
          ],
          [
           "California",
           96
          ],
          [
           "California",
           99
          ],
          [
           "California",
           96
          ],
          [
           "California",
           96
          ],
          [
           "California",
           98
          ],
          [
           "California",
           99
          ],
          [
           "California",
           98
          ],
          [
           "California",
           93.975
          ],
          [
           "California",
           93.975
          ],
          [
           "California",
           94
          ],
          [
           "California",
           93.975
          ],
          [
           "California",
           93.975
          ],
          [
           "California",
           93.975
          ],
          [
           "California",
           96
          ],
          [
           "California",
           93.975
          ],
          [
           "California",
           93.975
          ],
          [
           "California",
           93.975
          ],
          [
           "California",
           93.975
          ],
          [
           "California",
           93.975
          ],
          [
           "California",
           93.975
          ],
          [
           "California",
           93.975
          ],
          [
           "California",
           94
          ],
          [
           "California",
           93.975
          ],
          [
           "California",
           93.975
          ]
         ],
         "hovertemplate": "State=%{customdata[0]}<br>Year=%{x}<br>Nitrogen (lbs/acre)=%{y}<br>Nitrogen (%)=%{customdata[1]}<extra></extra>",
         "legendgroup": "California",
         "marker": {
          "color": "#ab63fa",
          "symbol": "circle"
         },
         "mode": "markers",
         "name": "California",
         "orientation": "v",
         "showlegend": true,
         "type": "scatter",
         "x": {
          "bdata": "rAetB64HrwewB7EHsgezB7QHtQe2B7cHuAe5B7oHuwe8B70Hvge/B8AHwQfCB8MHxAfFB8YHxwfIB8kHygfLB8wHzQfOB88H0AfRB9IH0wfUB9UH1gfXB9gH2QfaB9sH3AfdB94H3wfgB+EH",
          "dtype": "i2"
         },
         "xaxis": "x",
         "y": {
          "bdata": "AAAAAADAW0AAAAAAAMBiQAAAAAAAQGFAAAAAAAAgYkAAAAAAAKBjQAAAAAAA4GBAAAAAAAAgYEAAAAAAAABfQAAAAAAAQF5AAAAAAABAX0AAAAAAAABaQAAAAAAAIGFAAAAAAABAYkAAAAAAAMBhQAAAAAAAAF5AAAAAAACAWkAAAAAAAABbQAAAAAAAgFtAAAAAAABAXUAAAAAAAEBdQAAAAAAAAF1AAAAAAACAXUAAAAAAAABaQAAAAAAAwFxAAAAAAAAAX0AAAAAAAMBeQAAAAAAAgGFAAAAAAABAYUAAAAAAAGBgQAAAAAAAYGFAAAAAAACAZ0AAAAAAAOBkQAAAAAAA4GVAAAAAAAAgYkAAAAAAAABgQAAAAAAAQGNAAAAAAABgYUCamZmZmWVgQJqZmZmZZWBAAAAAAACgYUCamZmZmWVgQJqZmZmZZWBAmpmZmZllYEAAAAAAAMBeQJqZmZmZZWBAmpmZmZllYECamZmZmWVgQJqZmZmZZWBAmpmZmZllYECamZmZmWVgQJqZmZmZZWBAAAAAAABAWECamZmZmWVgQJqZmZmZZWBA",
          "dtype": "f8"
         },
         "yaxis": "y"
        },
        {
         "hovertemplate": "<b>OLS trendline</b><br>Nitrogen (Pounds/Acre) = 0.0733505 * Year + -14.8291<br>R<sup>2</sup>=0.004586<br><br>State=California<br>Year=%{x}<br>Nitrogen (lbs/acre)=%{y} <b>(trend)</b><extra></extra>",
         "legendgroup": "California",
         "marker": {
          "color": "#ab63fa",
          "symbol": "circle"
         },
         "mode": "lines",
         "name": "California",
         "showlegend": false,
         "type": "scatter",
         "x": {
          "bdata": "rAetB64HrwewB7EHsgezB7QHtQe2B7cHuAe5B7oHuwe8B70Hvge/B8AHwQfCB8MHxAfFB8YHxwfIB8kHygfLB8wHzQfOB88H0AfRB9IH0wfUB9UH1gfXB9gH2QfaB9sH3AfdB94H3wfgB+EH",
          "dtype": "i2"
         },
         "xaxis": "x",
         "y": {
          "bdata": "eWH2FmYnYEDgsBT6vilgQEcAM90XLGBArk9RwHAuYEAWn2+jyTBgQH3ujYYiM2BA5D2saXs1YEBLjcpM1DdgQLLc6C8tOmBAGSwHE4Y8YECAeyX23j5gQOfKQ9k3QWBAThpivJBDYEC1aYCf6UVgQBy5noJCSGBAgwi9ZZtKYEDqV9tI9ExgQFGn+StNT2BAuPYXD6ZRYEAfRjby/lNgQIaVVNVXVmBA7eRyuLBYYEBUNJGbCVtgQLuDr35iXWBAItPNYbtfYECJIuxEFGJgQPBxCihtZGBAV8EoC8ZmYEC+EEfuHmlgQCVgZdF3a2BAjK+DtNBtYEDz/qGXKXBgQFpOwHqCcmBAwZ3eXdt0YEAo7fxANHdgQI88GySNeWBA9os5B+Z7YEBe21fqPn5gQMUqds2XgGBALHqUsPCCYECTybKTSYVgQPoY0Xaih2BAYWjvWfuJYEDItw09VIxgQC8HLCCtjmBAllZKAwaRYED9pWjmXpNgQGT1hsm3lWBAy0SlrBCYYEAylMOPaZpgQJnj4XLCnGBAADMAVhufYEBngh45dKFgQM7RPBzNo2BA",
          "dtype": "f8"
         },
         "yaxis": "y"
        },
        {
         "customdata": [
          [
           "Georgia",
           100
          ],
          [
           "Georgia",
           99
          ],
          [
           "Georgia",
           100
          ],
          [
           "Georgia",
           100
          ],
          [
           "Georgia",
           100
          ],
          [
           "Georgia",
           100
          ],
          [
           "Georgia",
           100
          ],
          [
           "Georgia",
           100
          ],
          [
           "Georgia",
           100
          ],
          [
           "Georgia",
           100
          ],
          [
           "Georgia",
           100
          ],
          [
           "Georgia",
           100
          ],
          [
           "Georgia",
           100
          ],
          [
           "Georgia",
           100
          ],
          [
           "Georgia",
           100
          ],
          [
           "Georgia",
           86
          ],
          [
           "Georgia",
           93
          ],
          [
           "Georgia",
           100
          ],
          [
           "Georgia",
           100
          ],
          [
           "Georgia",
           100
          ],
          [
           "Georgia",
           100
          ],
          [
           "Georgia",
           100
          ],
          [
           "Georgia",
           92
          ],
          [
           "Georgia",
           98.44117647058823
          ],
          [
           "Georgia",
           98.44117647058823
          ],
          [
           "Georgia",
           98.44117647058823
          ],
          [
           "Georgia",
           98.44117647058823
          ],
          [
           "Georgia",
           98.44117647058823
          ],
          [
           "Georgia",
           98.44117647058823
          ],
          [
           "Georgia",
           98.44117647058823
          ],
          [
           "Georgia",
           98.44117647058823
          ],
          [
           "Georgia",
           98.44117647058823
          ],
          [
           "Georgia",
           99
          ],
          [
           "Georgia",
           95
          ],
          [
           "Georgia",
           96
          ],
          [
           "Georgia",
           100
          ],
          [
           "Georgia",
           96
          ],
          [
           "Georgia",
           99
          ],
          [
           "Georgia",
           98.44117647058823
          ],
          [
           "Georgia",
           100
          ],
          [
           "Georgia",
           98.44117647058823
          ],
          [
           "Georgia",
           98.44117647058823
          ],
          [
           "Georgia",
           98.44117647058823
          ],
          [
           "Georgia",
           98
          ],
          [
           "Georgia",
           98.44117647058823
          ],
          [
           "Georgia",
           98.44117647058823
          ],
          [
           "Georgia",
           95
          ],
          [
           "Georgia",
           98.44117647058823
          ],
          [
           "Georgia",
           98.44117647058823
          ],
          [
           "Georgia",
           98.44117647058823
          ],
          [
           "Georgia",
           98.44117647058823
          ],
          [
           "Georgia",
           99
          ],
          [
           "Georgia",
           98.44117647058823
          ],
          [
           "Georgia",
           100
          ]
         ],
         "hovertemplate": "State=%{customdata[0]}<br>Year=%{x}<br>Nitrogen (lbs/acre)=%{y}<br>Nitrogen (%)=%{customdata[1]}<extra></extra>",
         "legendgroup": "Georgia",
         "marker": {
          "color": "#FFA15A",
          "symbol": "circle"
         },
         "mode": "markers",
         "name": "Georgia",
         "orientation": "v",
         "showlegend": true,
         "type": "scatter",
         "x": {
          "bdata": "rAetB64HrwewB7EHsgezB7QHtQe2B7cHuAe5B7oHuwe8B70Hvge/B8AHwQfCB8MHxAfFB8YHxwfIB8kHygfLB8wHzQfOB88H0AfRB9IH0wfUB9UH1gfXB9gH2QfaB9sH3AfdB94H3wfgB+EH",
          "dtype": "i2"
         },
         "xaxis": "x",
         "y": {
          "bdata": "AAAAAAAAVEAAAAAAAIBVQAAAAAAAAFpAAAAAAACAWUAAAAAAAEBYQAAAAAAAQFpAAAAAAAAAV0AAAAAAAIBXQAAAAAAAgFRAAAAAAADAV0AAAAAAAMBdQAAAAAAAQGBAAAAAAAAAV0AAAAAAAEBbQAAAAAAAgFNAAAAAAABAUUAAAAAAAABUQAAAAAAAgE9AAAAAAADAU0AAAAAAAABSQAAAAAAAQFFAAAAAAACAU0AAAAAAAABUQOLh4eHhoVZA4uHh4eGhVkDi4eHh4aFWQOLh4eHhoVZA4uHh4eGhVkDi4eHh4aFWQOLh4eHhoVZA4uHh4eGhVkDi4eHh4aFWQAAAAAAAAFpAAAAAAAAAV0AAAAAAAMBWQAAAAAAAwFVAAAAAAADAVUAAAAAAAMBTQOLh4eHhoVZAAAAAAAAAWEDi4eHh4aFWQOLh4eHhoVZA4uHh4eGhVkAAAAAAAIBWQOLh4eHhoVZA4uHh4eGhVkAAAAAAAMBXQOLh4eHhoVZA4uHh4eGhVkDi4eHh4aFWQOLh4eHhoVZAAAAAAACAVkDi4eHh4aFWQAAAAAAAAFxA",
          "dtype": "f8"
         },
         "yaxis": "y"
        },
        {
         "hovertemplate": "<b>OLS trendline</b><br>Nitrogen (Pounds/Acre) = -0.0119957 * Year + 114.407<br>R<sup>2</sup>=0.000267<br><br>State=Georgia<br>Year=%{x}<br>Nitrogen (lbs/acre)=%{y} <b>(trend)</b><extra></extra>",
         "legendgroup": "Georgia",
         "marker": {
          "color": "#FFA15A",
          "symbol": "circle"
         },
         "mode": "lines",
         "name": "Georgia",
         "showlegend": false,
         "type": "scatter",
         "x": {
          "bdata": "rAetB64HrwewB7EHsgezB7QHtQe2B7cHuAe5B7oHuwe8B70Hvge/B8AHwQfCB8MHxAfFB8YHxwfIB8kHygfLB8wHzQfOB88H0AfRB9IH0wfUB9UH1gfXB9gH2QfaB9sH3AfdB94H3wfgB+EH",
          "dtype": "i2"
         },
         "xaxis": "x",
         "y": {
          "bdata": "IVETGzq2VkB4BKyRdbVWQM+3RAixtFZAJmvdfuyzVkB9Hnb1J7NWQNTRDmxjslZAKoWn4p6xVkCCOEBZ2rBWQNjr2M8VsFZAMJ9xRlGvVkCGUgq9jK5WQN0FozPIrVZANLk7qgOtVkCLbNQgP6xWQOIfbZd6q1ZAOdMFDraqVkCQhp6E8alWQOc5N/ssqVZAPu3PcWioVkCVoGjoo6dWQOxTAV/fplZAQwea1RqmVkCaujJMVqVWQPBty8KRpFZASCFkOc2jVkCe1PyvCKNWQPaHlSZEolZATDsunX+hVkCj7sYTu6BWQPqhX4r2n1ZAUVX4ADKfVkCoCJF3bZ5WQP+7Ke6onVZAVm/CZOScVkCtIlvbH5xWQATW81Fbm1ZAW4mMyJaaVkCyPCU/0plWQAnwvbUNmVZAYKNWLEmYVkC2Vu+ihJdWQA4KiBnAllZAZL0gkPuVVkC8cLkGN5VWQBIkUn1ylFZAadfq862TVkDAioNq6ZJWQBc+HOEkklZAbvG0V2CRVkDFpE3Om5BWQBxY5kTXj1ZAcwt/uxKPVkDKvhcyTo5WQCFysKiJjVZA",
          "dtype": "f8"
         },
         "yaxis": "y"
        },
        {
         "customdata": [
          [
           "Louisiana",
           97
          ],
          [
           "Louisiana",
           93
          ],
          [
           "Louisiana",
           90
          ],
          [
           "Louisiana",
           91
          ],
          [
           "Louisiana",
           92
          ],
          [
           "Louisiana",
           97
          ],
          [
           "Louisiana",
           95
          ],
          [
           "Louisiana",
           98
          ],
          [
           "Louisiana",
           98
          ],
          [
           "Louisiana",
           91
          ],
          [
           "Louisiana",
           98
          ],
          [
           "Louisiana",
           98
          ],
          [
           "Louisiana",
           98
          ],
          [
           "Louisiana",
           98
          ],
          [
           "Louisiana",
           99
          ],
          [
           "Louisiana",
           100
          ],
          [
           "Louisiana",
           96
          ],
          [
           "Louisiana",
           98
          ],
          [
           "Louisiana",
           98
          ],
          [
           "Louisiana",
           100
          ],
          [
           "Louisiana",
           99
          ],
          [
           "Louisiana",
           100
          ],
          [
           "Louisiana",
           100
          ],
          [
           "Louisiana",
           100
          ],
          [
           "Louisiana",
           94
          ],
          [
           "Louisiana",
           100
          ],
          [
           "Louisiana",
           99
          ],
          [
           "Louisiana",
           90
          ],
          [
           "Louisiana",
           98
          ],
          [
           "Louisiana",
           86
          ],
          [
           "Louisiana",
           92
          ],
          [
           "Louisiana",
           88
          ],
          [
           "Louisiana",
           91
          ],
          [
           "Louisiana",
           98
          ],
          [
           "Louisiana",
           99
          ],
          [
           "Louisiana",
           100
          ],
          [
           "Louisiana",
           100
          ],
          [
           "Louisiana",
           95
          ],
          [
           "Louisiana",
           96.325
          ],
          [
           "Louisiana",
           99
          ],
          [
           "Louisiana",
           96.325
          ],
          [
           "Louisiana",
           96.325
          ],
          [
           "Louisiana",
           96.325
          ],
          [
           "Louisiana",
           100
          ],
          [
           "Louisiana",
           96.325
          ],
          [
           "Louisiana",
           96.325
          ],
          [
           "Louisiana",
           96.325
          ],
          [
           "Louisiana",
           96.325
          ],
          [
           "Louisiana",
           96.325
          ],
          [
           "Louisiana",
           96.325
          ],
          [
           "Louisiana",
           96.325
          ],
          [
           "Louisiana",
           96.325
          ],
          [
           "Louisiana",
           96.325
          ],
          [
           "Louisiana",
           96.325
          ]
         ],
         "hovertemplate": "State=%{customdata[0]}<br>Year=%{x}<br>Nitrogen (lbs/acre)=%{y}<br>Nitrogen (%)=%{customdata[1]}<extra></extra>",
         "legendgroup": "Louisiana",
         "marker": {
          "color": "#19d3f3",
          "symbol": "circle"
         },
         "mode": "markers",
         "name": "Louisiana",
         "orientation": "v",
         "showlegend": true,
         "type": "scatter",
         "x": {
          "bdata": "rAetB64HrwewB7EHsgezB7QHtQe2B7cHuAe5B7oHuwe8B70Hvge/B8AHwQfCB8MHxAfFB8YHxwfIB8kHygfLB8wHzQfOB88H0AfRB9IH0wfUB9UH1gfXB9gH2QfaB9sH3AfdB94H3wfgB+EH",
          "dtype": "i2"
         },
         "xaxis": "x",
         "y": {
          "bdata": "AAAAAAAAS0AAAAAAAABMQAAAAAAAQFFAAAAAAABAUUAAAAAAAABTQAAAAAAAgE9AAAAAAABAVEAAAAAAAEBRQAAAAAAAQFJAAAAAAADAUUAAAAAAAEBRQAAAAAAAQFFAAAAAAAAAUkAAAAAAAIBRQAAAAAAAgFNAAAAAAAAAUUAAAAAAAEBRQAAAAAAAQFJAAAAAAACAUkAAAAAAAEBRQAAAAAAAQFRAAAAAAAAAVEAAAAAAAMBXQAAAAAAAgFJAAAAAAAAAVkAAAAAAAIBVQAAAAAAAQFNAAAAAAAAAWUAAAAAAAIBTQAAAAAAAQFVAAAAAAACgY0AAAAAAAEBdQAAAAAAAgFJAAAAAAADAU0AAAAAAAIBWQAAAAAAAQFVAAAAAAACAVUAAAAAAAIBVQGZmZmZm5lNAAAAAAADAVUBmZmZmZuZTQGZmZmZm5lNAZmZmZmbmU0AAAAAAAMBVQGZmZmZm5lNAZmZmZmbmU0BmZmZmZuZTQGZmZmZm5lNAZmZmZmbmU0BmZmZmZuZTQGZmZmZm5lNAZmZmZmbmU0BmZmZmZuZTQGZmZmZm5lNA",
          "dtype": "f8"
         },
         "yaxis": "y"
        },
        {
         "hovertemplate": "<b>OLS trendline</b><br>Nitrogen (Pounds/Acre) = 0.344044 * Year + -605.22<br>R<sup>2</sup>=0.136732<br><br>State=Louisiana<br>Year=%{x}<br>Nitrogen (lbs/acre)=%{y} <b>(trend)</b><extra></extra>",
         "legendgroup": "Louisiana",
         "marker": {
          "color": "#19d3f3",
          "symbol": "circle"
         },
         "mode": "lines",
         "name": "Louisiana",
         "showlegend": false,
         "type": "scatter",
         "x": {
          "bdata": "rAetB64HrwewB7EHsgezB7QHtQe2B7cHuAe5B7oHuwe8B70Hvge/B8AHwQfCB8MHxAfFB8YHxwfIB8kHygfLB8wHzQfOB88H0AfRB9IH0wfUB9UH1gfXB9gH2QfaB9sH3AfdB94H3wfgB+EH",
          "dtype": "i2"
         },
         "xaxis": "x",
         "y": {
          "bdata": "MBWZqOaeUUCg1KB667RRQBCUqEzwylFAgFOwHvXgUUD4Erjw+fZRQGjSv8L+DFJA2JHHlAMjUkBIUc9mCDlSQLgQ1zgNT1JAKNDeChJlUkCYj+bcFntSQAhP7q4bkVJAeA72gCCnUkDwzf1SJb1SQGCNBSUq01JA0EwN9y7pUkBADBXJM/9SQLDLHJs4FVNAIIskbT0rU0CQSiw/QkFTQAAKNBFHV1NAeMk740ttU0DoiEO1UINTQFhIS4dVmVNAyAdTWVqvU0A4x1orX8VTQKiGYv1j21NAGEZqz2jxU0CIBXKhbQdUQADFeXNyHVRAcISBRXczVEDgQ4kXfElUQFADkemAX1RAwMKYu4V1VEAwgqCNiotUQKBBqF+PoVRAEAGwMZS3VECAwLcDmc1UQPh/v9Wd41RAaD/Hp6L5VEDY/s55pw9VQEi+1kusJVVAuH3eHbE7VUAoPebvtVFVQJj87cG6Z1VACLz1k799VUCAe/1lxJNVQPA6BTjJqVVAYPoMCs6/VUDQuRTc0tVVQEB5HK7X61VAsDgkgNwBVkAg+CtS4RdWQJC3MyTmLVZA",
          "dtype": "f8"
         },
         "yaxis": "y"
        },
        {
         "customdata": [
          [
           "Mississippi",
           99
          ],
          [
           "Mississippi",
           100
          ],
          [
           "Mississippi",
           98
          ],
          [
           "Mississippi",
           97
          ],
          [
           "Mississippi",
           100
          ],
          [
           "Mississippi",
           100
          ],
          [
           "Mississippi",
           99
          ],
          [
           "Mississippi",
           100
          ],
          [
           "Mississippi",
           100
          ],
          [
           "Mississippi",
           100
          ],
          [
           "Mississippi",
           100
          ],
          [
           "Mississippi",
           100
          ],
          [
           "Mississippi",
           100
          ],
          [
           "Mississippi",
           99
          ],
          [
           "Mississippi",
           99
          ],
          [
           "Mississippi",
           100
          ],
          [
           "Mississippi",
           99
          ],
          [
           "Mississippi",
           99
          ],
          [
           "Mississippi",
           100
          ],
          [
           "Mississippi",
           99
          ],
          [
           "Mississippi",
           98
          ],
          [
           "Mississippi",
           98
          ],
          [
           "Mississippi",
           96
          ],
          [
           "Mississippi",
           100
          ],
          [
           "Mississippi",
           98
          ],
          [
           "Mississippi",
           100
          ],
          [
           "Mississippi",
           99
          ],
          [
           "Mississippi",
           100
          ],
          [
           "Mississippi",
           100
          ],
          [
           "Mississippi",
           95
          ],
          [
           "Mississippi",
           100
          ],
          [
           "Mississippi",
           100
          ],
          [
           "Mississippi",
           98
          ],
          [
           "Mississippi",
           100
          ],
          [
           "Mississippi",
           97
          ],
          [
           "Mississippi",
           100
          ],
          [
           "Mississippi",
           100
          ],
          [
           "Mississippi",
           99
          ],
          [
           "Mississippi",
           98.95348837209302
          ],
          [
           "Mississippi",
           99
          ],
          [
           "Mississippi",
           98.95348837209302
          ],
          [
           "Mississippi",
           98.95348837209302
          ],
          [
           "Mississippi",
           98.95348837209302
          ],
          [
           "Mississippi",
           100
          ],
          [
           "Mississippi",
           98.95348837209302
          ],
          [
           "Mississippi",
           98.95348837209302
          ],
          [
           "Mississippi",
           95
          ],
          [
           "Mississippi",
           98.95348837209302
          ],
          [
           "Mississippi",
           98.95348837209302
          ],
          [
           "Mississippi",
           98.95348837209302
          ],
          [
           "Mississippi",
           98.95348837209302
          ],
          [
           "Mississippi",
           96
          ],
          [
           "Mississippi",
           98.95348837209302
          ],
          [
           "Mississippi",
           99
          ]
         ],
         "hovertemplate": "State=%{customdata[0]}<br>Year=%{x}<br>Nitrogen (lbs/acre)=%{y}<br>Nitrogen (%)=%{customdata[1]}<extra></extra>",
         "legendgroup": "Mississippi",
         "marker": {
          "color": "#FF6692",
          "symbol": "circle"
         },
         "mode": "markers",
         "name": "Mississippi",
         "orientation": "v",
         "showlegend": true,
         "type": "scatter",
         "x": {
          "bdata": "rAetB64HrwewB7EHsgezB7QHtQe2B7cHuAe5B7oHuwe8B70Hvge/B8AHwQfCB8MHxAfFB8YHxwfIB8kHygfLB8wHzQfOB88H0AfRB9IH0wfUB9UH1gfXB9gH2QfaB9sH3AfdB94H3wfgB+EH",
          "dtype": "i2"
         },
         "xaxis": "x",
         "y": {
          "bdata": "AAAAAABAU0AAAAAAAABaQAAAAAAAgFhAAAAAAACAWEAAAAAAAMBWQAAAAAAAQFdAAAAAAAAAWEAAAAAAAEBXQAAAAAAAAFdAAAAAAACAVkAAAAAAAMBZQAAAAAAAAFdAAAAAAACAVkAAAAAAAIBYQAAAAAAAAFdAAAAAAADAVUAAAAAAAABXQAAAAAAAwFZAAAAAAACAV0AAAAAAAIBYQAAAAAAAwFlAAAAAAAAAWkAAAAAAAIBZQAAAAAAAgFpAAAAAAACAW0AAAAAAAMBZQAAAAAAAQFtAAAAAAABAW0AAAAAAAABcQAAAAAAAwFtAAAAAAACAXkAAAAAAAABcQAAAAAAAAFlAAAAAAABAW0AAAAAAAMBaQAAAAAAAwFtAAAAAAACAXEAAAAAAAABcQDzijrgjbllAAAAAAABAW0A84o64I25ZQDzijrgjbllAPOKOuCNuWUAAAAAAAEBdQDzijrgjbllAPOKOuCNuWUAAAAAAAABZQDzijrgjbllAPOKOuCNuWUA84o64I25ZQDzijrgjbllAAAAAAADAWkA84o64I25ZQAAAAAAAAF1A",
          "dtype": "f8"
         },
         "yaxis": "y"
        },
        {
         "hovertemplate": "<b>OLS trendline</b><br>Nitrogen (Pounds/Acre) = 0.31324 * Year + -521.784<br>R<sup>2</sup>=0.332180<br><br>State=Mississippi<br>Year=%{x}<br>Nitrogen (lbs/acre)=%{y} <b>(trend)</b><extra></extra>",
         "legendgroup": "Mississippi",
         "marker": {
          "color": "#FF6692",
          "symbol": "circle"
         },
         "mode": "lines",
         "name": "Mississippi",
         "showlegend": false,
         "type": "scatter",
         "x": {
          "bdata": "rAetB64HrwewB7EHsgezB7QHtQe2B7cHuAe5B7oHuwe8B70Hvge/B8AHwQfCB8MHxAfFB8YHxwfIB8kHygfLB8wHzQfOB88H0AfRB9IH0wfUB9UH1gfXB9gH2QfaB9sH3AfdB94H3wfgB+EH",
          "dtype": "i2"
         },
         "xaxis": "x",
         "y": {
          "bdata": "CM3ZR+JaV0AwxBVp7m5XQFC7UYr6gldAcLKNqwaXV0CQqcnMEqtXQLigBe4ev1dA2JdBDyvTV0D4jn0wN+dXQCCGuVFD+1dAQH31ck8PWEBgdDGUWyNYQIhrbbVnN1hAqGKp1nNLWEDIWeX3f19YQOhQIRmMc1hAEEhdOpiHWEAwP5lbpJtYQFA21Xywr1hAeC0RnrzDWECYJE2/yNdYQLgbieDU61hA2BLFAeH/WEAACgEj7RNZQCABPUT5J1lAQPh4ZQU8WUBo77SGEVBZQIjm8KcdZFlAqN0sySl4WUDQ1GjqNYxZQPDLpAtCoFlAEMPgLE60WUAwuhxOWshZQFixWG9m3FlAeKiUkHLwWUCYn9CxfgRaQMCWDNOKGFpA4I1I9JYsWkAAhYQVo0BaQCB8wDavVFpASHP8V7toWkBoajh5x3xaQIhhdJrTkFpAsFiwu9+kWkDQT+zc67haQPBGKP73zFpAGD5kHwThWkA4NaBAEPVaQFgs3GEcCVtAeCMYgygdW0CgGlSkNDFbQMARkMVARVtA4AjM5kxZW0AIAAgIWW1bQCj3QyllgVtA",
          "dtype": "f8"
         },
         "yaxis": "y"
        },
        {
         "customdata": [
          [
           "Missouri",
           100
          ],
          [
           "Missouri",
           99
          ],
          [
           "Missouri",
           94
          ],
          [
           "Missouri",
           99
          ],
          [
           "Missouri",
           93
          ],
          [
           "Missouri",
           94
          ],
          [
           "Missouri",
           90
          ],
          [
           "Missouri",
           99
          ],
          [
           "Missouri",
           100
          ],
          [
           "Missouri",
           88
          ],
          [
           "Missouri",
           97
          ],
          [
           "Missouri",
           96
          ],
          [
           "Missouri",
           90
          ],
          [
           "Missouri",
           96
          ],
          [
           "Missouri",
           91
          ],
          [
           "Missouri",
           96
          ],
          [
           "Missouri",
           100
          ],
          [
           "Missouri",
           92
          ],
          [
           "Missouri",
           100
          ],
          [
           "Missouri",
           100
          ],
          [
           "Missouri",
           100
          ],
          [
           "Missouri",
           98
          ],
          [
           "Missouri",
           100
          ],
          [
           "Missouri",
           96.93333333333334
          ],
          [
           "Missouri",
           96.93333333333334
          ],
          [
           "Missouri",
           96.93333333333334
          ],
          [
           "Missouri",
           96.93333333333334
          ],
          [
           "Missouri",
           96.93333333333334
          ],
          [
           "Missouri",
           96.93333333333334
          ],
          [
           "Missouri",
           96.93333333333334
          ],
          [
           "Missouri",
           96.93333333333334
          ],
          [
           "Missouri",
           96.93333333333334
          ],
          [
           "Missouri",
           96.93333333333334
          ],
          [
           "Missouri",
           100
          ],
          [
           "Missouri",
           96.93333333333334
          ],
          [
           "Missouri",
           96.93333333333334
          ],
          [
           "Missouri",
           100
          ],
          [
           "Missouri",
           96.93333333333334
          ],
          [
           "Missouri",
           96.93333333333334
          ],
          [
           "Missouri",
           100
          ],
          [
           "Missouri",
           96.93333333333334
          ],
          [
           "Missouri",
           96.93333333333334
          ],
          [
           "Missouri",
           96.93333333333334
          ],
          [
           "Missouri",
           98
          ],
          [
           "Missouri",
           96.93333333333334
          ],
          [
           "Missouri",
           96.93333333333334
          ],
          [
           "Missouri",
           100
          ],
          [
           "Missouri",
           96.93333333333334
          ],
          [
           "Missouri",
           96.93333333333334
          ],
          [
           "Missouri",
           96.93333333333334
          ],
          [
           "Missouri",
           96.93333333333334
          ],
          [
           "Missouri",
           100
          ],
          [
           "Missouri",
           96.93333333333334
          ],
          [
           "Missouri",
           98
          ]
         ],
         "hovertemplate": "State=%{customdata[0]}<br>Year=%{x}<br>Nitrogen (lbs/acre)=%{y}<br>Nitrogen (%)=%{customdata[1]}<extra></extra>",
         "legendgroup": "Missouri",
         "marker": {
          "color": "#B6E880",
          "symbol": "circle"
         },
         "mode": "markers",
         "name": "Missouri",
         "orientation": "v",
         "showlegend": true,
         "type": "scatter",
         "x": {
          "bdata": "rAetB64HrwewB7EHsgezB7QHtQe2B7cHuAe5B7oHuwe8B70Hvge/B8AHwQfCB8MHxAfFB8YHxwfIB8kHygfLB8wHzQfOB88H0AfRB9IH0wfUB9UH1gfXB9gH2QfaB9sH3AfdB94H3wfgB+EH",
          "dtype": "i2"
         },
         "xaxis": "x",
         "y": {
          "bdata": "AAAAAABAVUAAAAAAAABQQAAAAAAAwFFAAAAAAAAASUAAAAAAAABLQAAAAAAAAExAAAAAAACATEAAAAAAAIBLQAAAAAAAgE9AAAAAAACAR0AAAAAAAABOQAAAAAAAAExAAAAAAAAAQkAAAAAAAIBIQAAAAAAAAEZAAAAAAAAASkAAAAAAAIBLQAAAAAAAgEdAAAAAAAAAS0AAAAAAAABGQAAAAAAAgFFAAAAAAAAATEAAAAAAAIBMQDMzMzMz01BAMzMzMzPTUEAzMzMzM9NQQDMzMzMz01BAMzMzMzPTUEAzMzMzM9NQQDMzMzMz01BAMzMzMzPTUEAzMzMzM9NQQDMzMzMz01BAAAAAAAAAXEAzMzMzM9NQQDMzMzMz01BAAAAAAABAWUAzMzMzM9NQQDMzMzMz01BAAAAAAABAVkAzMzMzM9NQQDMzMzMz01BAMzMzMzPTUEAAAAAAAEBYQDMzMzMz01BAMzMzMzPTUEAAAAAAAEBgQDMzMzMz01BAMzMzMzPTUEAzMzMzM9NQQDMzMzMz01BAAAAAAAAAWEAzMzMzM9NQQAAAAAAAAFxA",
          "dtype": "f8"
         },
         "yaxis": "y"
        },
        {
         "hovertemplate": "<b>OLS trendline</b><br>Nitrogen (Pounds/Acre) = 0.610314 * Year + -1147.53<br>R<sup>2</sup>=0.293170<br><br>State=Missouri<br>Year=%{x}<br>Nitrogen (lbs/acre)=%{y} <b>(trend)</b><extra></extra>",
         "legendgroup": "Missouri",
         "marker": {
          "color": "#B6E880",
          "symbol": "circle"
         },
         "mode": "lines",
         "name": "Missouri",
         "showlegend": false,
         "type": "scatter",
         "x": {
          "bdata": "rAetB64HrwewB7EHsgezB7QHtQe2B7cHuAe5B7oHuwe8B70Hvge/B8AHwQfCB8MHxAfFB8YHxwfIB8kHygfLB8wHzQfOB88H0AfRB9IH0wfUB9UH1gfXB9gH2QfaB9sH3AfdB94H3wfgB+EH",
          "dtype": "i2"
         },
         "xaxis": "x",
         "y": {
          "bdata": "gGkDnTaQSUAABNJlVd5JQGCeoC50LEpA4Dhv95J6SkBA0z3AschKQMBtDInQFktAIAjbUe9kS0CgoqkaDrNLQAA9eOMsAUxAgNdGrEtPTEDgcRV1ap1MQGAM5D2J60xAwKayBqg5TUBAQYHPxodNQKDbT5jl1U1AIHYeYQQkTkCAEO0pI3JOQACru/JBwE5AYEWKu2AOT0Dg31iEf1xPQEB6J02eqk9AwBT2Fb34T0CQV2LvbSNQQNCkyVN9SlBAAPIwuIxxUEBAP5gcnJhQQHCM/4Crv1BAsNlm5brmUEDgJs5Jyg1RQCB0Na7ZNFFAUMGcEulbUUCQDgR3+IJRQMBba9sHqlFAAKnSPxfRUUAw9jmkJvhRQHBDoQg2H1JAoJAIbUVGUkDg3W/RVG1SQBAr1zVklFJAUHg+mnO7UkCAxaX+guJSQMASDWOSCVNA8F90x6EwU0AwrdsrsVdTQGD6QpDAflNAoEeq9M+lU0DQlBFZ38xTQBDieL3u81NAQC/gIf4aVECAfEeGDUJUQLDJruocaVRA8BYWTyyQVEAgZH2zO7dUQGCx5BdL3lRA",
          "dtype": "f8"
         },
         "yaxis": "y"
        },
        {
         "customdata": [
          [
           "New Mexico",
           63
          ],
          [
           "New Mexico",
           71
          ],
          [
           "New Mexico",
           52
          ],
          [
           "New Mexico",
           67
          ],
          [
           "New Mexico",
           67
          ],
          [
           "New Mexico",
           57
          ],
          [
           "New Mexico",
           61
          ],
          [
           "New Mexico",
           56
          ],
          [
           "New Mexico",
           61
          ],
          [
           "New Mexico",
           64
          ],
          [
           "New Mexico",
           52
          ],
          [
           "New Mexico",
           45
          ],
          [
           "New Mexico",
           56
          ],
          [
           "New Mexico",
           58.19047619047619
          ],
          [
           "New Mexico",
           58.19047619047619
          ],
          [
           "New Mexico",
           70
          ],
          [
           "New Mexico",
           40
          ],
          [
           "New Mexico",
           65
          ],
          [
           "New Mexico",
           47
          ],
          [
           "New Mexico",
           54
          ],
          [
           "New Mexico",
           66
          ],
          [
           "New Mexico",
           59
          ],
          [
           "New Mexico",
           49
          ],
          [
           "New Mexico",
           58.19047619047619
          ],
          [
           "New Mexico",
           58.19047619047619
          ],
          [
           "New Mexico",
           58.19047619047619
          ],
          [
           "New Mexico",
           58.19047619047619
          ],
          [
           "New Mexico",
           58.19047619047619
          ],
          [
           "New Mexico",
           58.19047619047619
          ],
          [
           "New Mexico",
           58.19047619047619
          ],
          [
           "New Mexico",
           58.19047619047619
          ],
          [
           "New Mexico",
           58.19047619047619
          ],
          [
           "New Mexico",
           58.19047619047619
          ],
          [
           "New Mexico",
           58.19047619047619
          ],
          [
           "New Mexico",
           58.19047619047619
          ],
          [
           "New Mexico",
           58.19047619047619
          ],
          [
           "New Mexico",
           58.19047619047619
          ],
          [
           "New Mexico",
           58.19047619047619
          ],
          [
           "New Mexico",
           58.19047619047619
          ],
          [
           "New Mexico",
           58.19047619047619
          ],
          [
           "New Mexico",
           58.19047619047619
          ],
          [
           "New Mexico",
           58.19047619047619
          ],
          [
           "New Mexico",
           58.19047619047619
          ],
          [
           "New Mexico",
           58.19047619047619
          ],
          [
           "New Mexico",
           58.19047619047619
          ],
          [
           "New Mexico",
           58.19047619047619
          ],
          [
           "New Mexico",
           58.19047619047619
          ],
          [
           "New Mexico",
           58.19047619047619
          ],
          [
           "New Mexico",
           58.19047619047619
          ],
          [
           "New Mexico",
           58.19047619047619
          ],
          [
           "New Mexico",
           58.19047619047619
          ],
          [
           "New Mexico",
           58.19047619047619
          ],
          [
           "New Mexico",
           58.19047619047619
          ],
          [
           "New Mexico",
           58.19047619047619
          ]
         ],
         "hovertemplate": "State=%{customdata[0]}<br>Year=%{x}<br>Nitrogen (lbs/acre)=%{y}<br>Nitrogen (%)=%{customdata[1]}<extra></extra>",
         "legendgroup": "New Mexico",
         "marker": {
          "color": "#FF97FF",
          "symbol": "circle"
         },
         "mode": "markers",
         "name": "New Mexico",
         "orientation": "v",
         "showlegend": true,
         "type": "scatter",
         "x": {
          "bdata": "rAetB64HrwewB7EHsgezB7QHtQe2B7cHuAe5B7oHuwe8B70Hvge/B8AHwQfCB8MHxAfFB8YHxwfIB8kHygfLB8wHzQfOB88H0AfRB9IH0wfUB9UH1gfXB9gH2QfaB9sH3AfdB94H3wfgB+EH",
          "dtype": "i2"
         },
         "xaxis": "x",
         "y": {
          "bdata": "AAAAAABAVUAAAAAAAEBUQAAAAAAAQFJAAAAAAADAUEAAAAAAAMBUQAAAAAAAAFdAAAAAAAAAUkAAAAAAAIBRQAAAAAAAQFFAAAAAAAAATkAAAAAAAIBIQAAAAAAAAEtAAAAAAACATUDDMAzDMAxRQMMwDMMwDFFAAAAAAACATkAAAAAAAABQQAAAAAAAAE1AAAAAAAAAUEAAAAAAAABWQAAAAAAAwFFAAAAAAAAATUAAAAAAAABLQMMwDMMwDFFAwzAMwzAMUUDDMAzDMAxRQMMwDMMwDFFAwzAMwzAMUUDDMAzDMAxRQMMwDMMwDFFAwzAMwzAMUUDDMAzDMAxRQMMwDMMwDFFAwzAMwzAMUUDDMAzDMAxRQMMwDMMwDFFAwzAMwzAMUUDDMAzDMAxRQMMwDMMwDFFAwzAMwzAMUUDDMAzDMAxRQMMwDMMwDFFAwzAMwzAMUUDDMAzDMAxRQMMwDMMwDFFAwzAMwzAMUUDDMAzDMAxRQMMwDMMwDFFAwzAMwzAMUUDDMAzDMAxRQMMwDMMwDFFAwzAMwzAMUUDDMAzDMAxRQMMwDMMwDFFA",
          "dtype": "f8"
         },
         "yaxis": "y"
        },
        {
         "hovertemplate": "<b>OLS trendline</b><br>Nitrogen (Pounds/Acre) = -0.0617532 * Year + 191.11<br>R<sup>2</sup>=0.017290<br><br>State=New Mexico<br>Year=%{x}<br>Nitrogen (lbs/acre)=%{y} <b>(trend)</b><extra></extra>",
         "legendgroup": "New Mexico",
         "marker": {
          "color": "#FF97FF",
          "symbol": "circle"
         },
         "mode": "lines",
         "name": "New Mexico",
         "showlegend": false,
         "type": "scatter",
         "x": {
          "bdata": "rAetB64HrwewB7EHsgezB7QHtQe2B7cHuAe5B7oHuwe8B70Hvge/B8AHwQfCB8MHxAfFB8YHxwfIB8kHygfLB8wHzQfOB88H0AfRB9IH0wfUB9UH1gfXB9gH2QfaB9sH3AfdB94H3wfgB+EH",
          "dtype": "i2"
         },
         "xaxis": "x",
         "y": {
          "bdata": "qOQVhex0UUBfz2LB+HBRQBe6r/0EbVFAzqT8ORFpUUCGj0l2HWVRQD16lrIpYVFA9WTj7jVdUUCsTzArQllRQGQ6fWdOVVFAGyXKo1pRUUDTDxfgZk1RQIv6YxxzSVFAQuWwWH9FUUD6z/2Ui0FRQLG6StGXPVFAaaWXDaQ5UUAgkORJsDVRQNh6MYa8MVFAj2V+wsgtUUBHUMv+1ClRQP46GDvhJVFAtiVld+0hUUBtELKz+R1RQCX7/u8FGlFA3OVLLBIWUUCU0JhoHhJRQEu75aQqDlFAA6Yy4TYKUUC6kH8dQwZRQHJ7zFlPAlFAKmYZllv+UEDhUGbSZ/pQQJk7sw509lBAUCYAS4DyUEAIEU2HjO5QQL/7mcOY6lBAd+bm/6TmUEAu0TM8seJQQOa7gHi93lBAnabNtMnaUEBVkRrx1dZQQAx8Zy3i0lBAxGa0ae7OUEB7UQGm+spQQDM8TuIGx1BA6iabHhPDUECiEehaH79QQFn8NJcru1BAEeeB0ze3UEDJ0c4PRLNQQIC8G0xQr1BAOKdoiFyrUEDvkbXEaKdQQKd8AgF1o1BA",
          "dtype": "f8"
         },
         "yaxis": "y"
        },
        {
         "customdata": [
          [
           "North Carolina",
           100
          ],
          [
           "North Carolina",
           100
          ],
          [
           "North Carolina",
           98
          ],
          [
           "North Carolina",
           100
          ],
          [
           "North Carolina",
           100
          ],
          [
           "North Carolina",
           99
          ],
          [
           "North Carolina",
           100
          ],
          [
           "North Carolina",
           100
          ],
          [
           "North Carolina",
           100
          ],
          [
           "North Carolina",
           98
          ],
          [
           "North Carolina",
           100
          ],
          [
           "North Carolina",
           100
          ],
          [
           "North Carolina",
           100
          ],
          [
           "North Carolina",
           98.13636363636364
          ],
          [
           "North Carolina",
           98.13636363636364
          ],
          [
           "North Carolina",
           98.13636363636364
          ],
          [
           "North Carolina",
           98.13636363636364
          ],
          [
           "North Carolina",
           98.13636363636364
          ],
          [
           "North Carolina",
           98.13636363636364
          ],
          [
           "North Carolina",
           98.13636363636364
          ],
          [
           "North Carolina",
           98.13636363636364
          ],
          [
           "North Carolina",
           98.13636363636364
          ],
          [
           "North Carolina",
           98.13636363636364
          ],
          [
           "North Carolina",
           98.13636363636364
          ],
          [
           "North Carolina",
           98.13636363636364
          ],
          [
           "North Carolina",
           98.13636363636364
          ],
          [
           "North Carolina",
           98.13636363636364
          ],
          [
           "North Carolina",
           98.13636363636364
          ],
          [
           "North Carolina",
           98.13636363636364
          ],
          [
           "North Carolina",
           98.13636363636364
          ],
          [
           "North Carolina",
           98.13636363636364
          ],
          [
           "North Carolina",
           98.13636363636364
          ],
          [
           "North Carolina",
           98.13636363636364
          ],
          [
           "North Carolina",
           92
          ],
          [
           "North Carolina",
           98
          ],
          [
           "North Carolina",
           96
          ],
          [
           "North Carolina",
           96
          ],
          [
           "North Carolina",
           98.13636363636364
          ],
          [
           "North Carolina",
           98.13636363636364
          ],
          [
           "North Carolina",
           97
          ],
          [
           "North Carolina",
           98.13636363636364
          ],
          [
           "North Carolina",
           98.13636363636364
          ],
          [
           "North Carolina",
           98.13636363636364
          ],
          [
           "North Carolina",
           92
          ],
          [
           "North Carolina",
           98.13636363636364
          ],
          [
           "North Carolina",
           98.13636363636364
          ],
          [
           "North Carolina",
           98
          ],
          [
           "North Carolina",
           98.13636363636364
          ],
          [
           "North Carolina",
           98.13636363636364
          ],
          [
           "North Carolina",
           98.13636363636364
          ],
          [
           "North Carolina",
           98.13636363636364
          ],
          [
           "North Carolina",
           99
          ],
          [
           "North Carolina",
           98.13636363636364
          ],
          [
           "North Carolina",
           96
          ]
         ],
         "hovertemplate": "State=%{customdata[0]}<br>Year=%{x}<br>Nitrogen (lbs/acre)=%{y}<br>Nitrogen (%)=%{customdata[1]}<extra></extra>",
         "legendgroup": "North Carolina",
         "marker": {
          "color": "#FECB52",
          "symbol": "circle"
         },
         "mode": "markers",
         "name": "North Carolina",
         "orientation": "v",
         "showlegend": true,
         "type": "scatter",
         "x": {
          "bdata": "rAetB64HrwewB7EHsgezB7QHtQe2B7cHuAe5B7oHuwe8B70Hvge/B8AHwQfCB8MHxAfFB8YHxwfIB8kHygfLB8wHzQfOB88H0AfRB9IH0wfUB9UH1gfXB9gH2QfaB9sH3AfdB94H3wfgB+EH",
          "dtype": "i2"
         },
         "xaxis": "x",
         "y": {
          "bdata": "AAAAAABAUEAAAAAAAIBWQAAAAAAAgE9AAAAAAABAUUAAAAAAAIBSQAAAAAAAAE9AAAAAAADAUEAAAAAAAIBKQAAAAAAAgFBAAAAAAACAVUAAAAAAAIBRQAAAAAAAAFVAAAAAAACAWUB00UUXXXRSQHTRRRdddFJAdNFFF110UkB00UUXXXRSQHTRRRdddFJAdNFFF110UkB00UUXXXRSQHTRRRdddFJAdNFFF110UkB00UUXXXRSQHTRRRdddFJAdNFFF110UkB00UUXXXRSQHTRRRdddFJAdNFFF110UkB00UUXXXRSQHTRRRdddFJAdNFFF110UkB00UUXXXRSQHTRRRdddFJAAAAAAAAAT0AAAAAAAMBVQAAAAAAAgFNAAAAAAABAVUB00UUXXXRSQHTRRRdddFJAAAAAAAAAU0B00UUXXXRSQHTRRRdddFJAdNFFF110UkAAAAAAAABRQHTRRRdddFJAdNFFF110UkAAAAAAAIBQQHTRRRdddFJAdNFFF110UkB00UUXXXRSQHTRRRdddFJAAAAAAACAUEB00UUXXXRSQAAAAAAAQFVA",
          "dtype": "f8"
         },
         "yaxis": "y"
        },
        {
         "hovertemplate": "<b>OLS trendline</b><br>Nitrogen (Pounds/Acre) = 0.0358646 * Year + 2.4296<br>R<sup>2</sup>=0.005694<br><br>State=North Carolina<br>Year=%{x}<br>Nitrogen (lbs/acre)=%{y} <b>(trend)</b><extra></extra>",
         "legendgroup": "North Carolina",
         "marker": {
          "color": "#FECB52",
          "symbol": "circle"
         },
         "mode": "lines",
         "name": "North Carolina",
         "showlegend": false,
         "type": "scatter",
         "x": {
          "bdata": "rAetB64HrwewB7EHsgezB7QHtQe2B7cHuAe5B7oHuwe8B70Hvge/B8AHwQfCB8MHxAfFB8YHxwfIB8kHygfLB8wHzQfOB88H0AfRB9IH0wfUB9UH1gfXB9gH2QfaB9sH3AfdB94H3wfgB+EH",
          "dtype": "i2"
         },
         "xaxis": "x",
         "y": {
          "bdata": "sgxKhYk3UkCwrogg1TlSQK1Qx7sgPFJAq/IFV2w+UkCplETyt0BSQKY2g40DQ1JApNjBKE9FUkCiegDEmkdSQJ8cP1/mSVJAnb59+jFMUkCbYLyVfU5SQJkC+zDJUFJAlqQ5zBRTUkCURnhnYFVSQJLotgKsV1JAj4r1nfdZUkCNLDQ5Q1xSQIvOctSOXlJAiHCxb9pgUkCGEvAKJmNSQIS0LqZxZVJAgVZtQb1nUkB/+KvcCGpSQH2a6ndUbFJAezwpE6BuUkB43meu63BSQHaApkk3c1JAdCLl5IJ1UkBxxCOAzndSQG9mYhsaelJAbQihtmV8UkBqqt9RsX5SQGhMHu38gFJAZu5ciEiDUkBjkJsjlIVSQGEy2r7fh1JAX9QYWiuKUkBddlf1doxSQFoYlpDCjlJAWLrUKw6RUkBWXBPHWZNSQFP+UWKllVJAUaCQ/fCXUkBPQs+YPJpSQEzkDTSInFJASoZMz9OeUkBIKItqH6FSQEXKyQVro1JAQ2wIobalUkBBDkc8AqhSQD6whddNqlJAPFLEcpmsUkA69AIO5a5SQDiWQakwsVJA",
          "dtype": "f8"
         },
         "yaxis": "y"
        },
        {
         "customdata": [
          [
           "Oklahoma",
           51
          ],
          [
           "Oklahoma",
           55
          ],
          [
           "Oklahoma",
           50
          ],
          [
           "Oklahoma",
           51
          ],
          [
           "Oklahoma",
           41
          ],
          [
           "Oklahoma",
           53
          ],
          [
           "Oklahoma",
           50
          ],
          [
           "Oklahoma",
           44
          ],
          [
           "Oklahoma",
           46
          ],
          [
           "Oklahoma",
           50
          ],
          [
           "Oklahoma",
           47
          ],
          [
           "Oklahoma",
           29
          ],
          [
           "Oklahoma",
           61
          ],
          [
           "Oklahoma",
           60
          ],
          [
           "Oklahoma",
           61
          ],
          [
           "Oklahoma",
           55
          ],
          [
           "Oklahoma",
           67
          ],
          [
           "Oklahoma",
           43
          ],
          [
           "Oklahoma",
           43
          ],
          [
           "Oklahoma",
           57
          ],
          [
           "Oklahoma",
           66
          ],
          [
           "Oklahoma",
           59
          ],
          [
           "Oklahoma",
           46
          ],
          [
           "Oklahoma",
           51.625
          ],
          [
           "Oklahoma",
           51.625
          ],
          [
           "Oklahoma",
           51.625
          ],
          [
           "Oklahoma",
           51.625
          ],
          [
           "Oklahoma",
           51.625
          ],
          [
           "Oklahoma",
           51.625
          ],
          [
           "Oklahoma",
           51.625
          ],
          [
           "Oklahoma",
           51.625
          ],
          [
           "Oklahoma",
           51.625
          ],
          [
           "Oklahoma",
           51.625
          ],
          [
           "Oklahoma",
           51.625
          ],
          [
           "Oklahoma",
           51.625
          ],
          [
           "Oklahoma",
           51.625
          ],
          [
           "Oklahoma",
           51.625
          ],
          [
           "Oklahoma",
           51.625
          ],
          [
           "Oklahoma",
           51.625
          ],
          [
           "Oklahoma",
           51.625
          ],
          [
           "Oklahoma",
           51.625
          ],
          [
           "Oklahoma",
           51.625
          ],
          [
           "Oklahoma",
           51.625
          ],
          [
           "Oklahoma",
           51.625
          ],
          [
           "Oklahoma",
           51.625
          ],
          [
           "Oklahoma",
           51.625
          ],
          [
           "Oklahoma",
           51.625
          ],
          [
           "Oklahoma",
           51.625
          ],
          [
           "Oklahoma",
           51.625
          ],
          [
           "Oklahoma",
           51.625
          ],
          [
           "Oklahoma",
           51.625
          ],
          [
           "Oklahoma",
           51.625
          ],
          [
           "Oklahoma",
           51.625
          ],
          [
           "Oklahoma",
           54
          ]
         ],
         "hovertemplate": "State=%{customdata[0]}<br>Year=%{x}<br>Nitrogen (lbs/acre)=%{y}<br>Nitrogen (%)=%{customdata[1]}<extra></extra>",
         "legendgroup": "Oklahoma",
         "marker": {
          "color": "#636efa",
          "symbol": "circle"
         },
         "mode": "markers",
         "name": "Oklahoma",
         "orientation": "v",
         "showlegend": true,
         "type": "scatter",
         "x": {
          "bdata": "rAetB64HrwewB7EHsgezB7QHtQe2B7cHuAe5B7oHuwe8B70Hvge/B8AHwQfCB8MHxAfFB8YHxwfIB8kHygfLB8wHzQfOB88H0AfRB9IH0wfUB9UH1gfXB9gH2QfaB9sH3AfdB94H3wfgB+EH",
          "dtype": "i2"
         },
         "xaxis": "x",
         "y": {
          "bdata": "AAAAAAAAPEAAAAAAAAA+QAAAAAAAADxAAAAAAAAAM0AAAAAAAAA8QAAAAAAAADtAAAAAAAAAOUAAAAAAAAA/QAAAAAAAAEBAAAAAAAAAQUAAAAAAAAA1QAAAAAAAADxAAAAAAAAAQUAAAAAAAAA7QAAAAAAAAEFAAAAAAAAAQEAAAAAAAABAQAAAAAAAAElAAAAAAAAAQUAAAAAAAIBGQAAAAAAAgEpAAAAAAAAAQUAAAAAAAAA9QAAAAAAAcEFAAAAAAABwQUAAAAAAAHBBQAAAAAAAcEFAAAAAAABwQUAAAAAAAHBBQAAAAAAAcEFAAAAAAABwQUAAAAAAAHBBQAAAAAAAcEFAAAAAAABwQUAAAAAAAHBBQAAAAAAAcEFAAAAAAABwQUAAAAAAAHBBQAAAAAAAcEFAAAAAAABwQUAAAAAAAHBBQAAAAAAAcEFAAAAAAABwQUAAAAAAAHBBQAAAAAAAcEFAAAAAAABwQUAAAAAAAHBBQAAAAAAAcEFAAAAAAABwQUAAAAAAAHBBQAAAAAAAcEFAAAAAAABwQUAAAAAAAHBBQAAAAAAAgFlA",
          "dtype": "f8"
         },
         "yaxis": "y"
        },
        {
         "hovertemplate": "<b>OLS trendline</b><br>Nitrogen (Pounds/Acre) = 0.268897 * Year + -500.364<br>R<sup>2</sup>=0.154912<br><br>State=Oklahoma<br>Year=%{x}<br>Nitrogen (lbs/acre)=%{y} <b>(trend)</b><extra></extra>",
         "legendgroup": "Oklahoma",
         "marker": {
          "color": "#636efa",
          "symbol": "circle"
         },
         "mode": "lines",
         "name": "Oklahoma",
         "showlegend": false,
         "type": "scatter",
         "x": {
          "bdata": "rAetB64HrwewB7EHsgezB7QHtQe2B7cHuAe5B7oHuwe8B70Hvge/B8AHwQfCB8MHxAfFB8YHxwfIB8kHygfLB8wHzQfOB88H0AfRB9IH0wfUB9UH1gfXB9gH2QfaB9sH3AfdB94H3wfgB+EH",
          "dtype": "i2"
         },
         "xaxis": "x",
         "y": {
          "bdata": "kOX8Wc6/O0DQM9vApAQ8QDCCuSd7STxAcNCXjlGOPECwHnb1J9M8QPBsVFz+Fz1AMLsyw9RcPUCQCREqq6E9QNBX75CB5j1AEKbN91crPkBQ9KteLnA+QLBCisUEtT5A8JBoLNv5PkAw30aTsT4/QHAtJfqHgz9AsHsDYV7IP0AI5fBjmgZAQCgMYJcFKUBASDPPynBLQEBoWj7+221AQJiBrTFHkEBAuKgcZbKyQEDYz4uYHdVAQPj2+suI90BAGB5q//MZQUBIRdkyXzxBQGhsSGbKXkFAiJO3mTWBQUCouibNoKNBQNjhlQAMxkFA+AgFNHfoQUAYMHRn4gpCQDhX45pNLUJAWH5SzrhPQkCIpcEBJHJCQKjMMDWPlEJAyPOfaPq2QkDoGg+cZdlCQBhCfs/Q+0JAOGntAjweQ0BYkFw2p0BDQHi3y2kSY0NAqN46nX2FQ0DIBarQ6KdDQOgsGQRUykNACFSIN7/sQ0Aoe/dqKg9EQFiiZp6VMURAeMnV0QBURECY8EQFbHZEQLgXtDjXmERA6D4jbEK7REAIZpKfrd1EQCiNAdMYAEVA",
          "dtype": "f8"
         },
         "yaxis": "y"
        },
        {
         "customdata": [
          [
           "South Carolina",
           100
          ],
          [
           "South Carolina",
           100
          ],
          [
           "South Carolina",
           100
          ],
          [
           "South Carolina",
           100
          ],
          [
           "South Carolina",
           100
          ],
          [
           "South Carolina",
           99
          ],
          [
           "South Carolina",
           100
          ],
          [
           "South Carolina",
           99
          ],
          [
           "South Carolina",
           99
          ],
          [
           "South Carolina",
           100
          ],
          [
           "South Carolina",
           100
          ],
          [
           "South Carolina",
           99
          ],
          [
           "South Carolina",
           100
          ],
          [
           "South Carolina",
           100
          ],
          [
           "South Carolina",
           99.34615384615384
          ],
          [
           "South Carolina",
           100
          ],
          [
           "South Carolina",
           100
          ],
          [
           "South Carolina",
           100
          ],
          [
           "South Carolina",
           100
          ],
          [
           "South Carolina",
           100
          ],
          [
           "South Carolina",
           98
          ],
          [
           "South Carolina",
           100
          ],
          [
           "South Carolina",
           96
          ],
          [
           "South Carolina",
           99.34615384615384
          ],
          [
           "South Carolina",
           99.34615384615384
          ],
          [
           "South Carolina",
           99.34615384615384
          ],
          [
           "South Carolina",
           99.34615384615384
          ],
          [
           "South Carolina",
           99.34615384615384
          ],
          [
           "South Carolina",
           99.34615384615384
          ],
          [
           "South Carolina",
           99.34615384615384
          ],
          [
           "South Carolina",
           99.34615384615384
          ],
          [
           "South Carolina",
           99.34615384615384
          ],
          [
           "South Carolina",
           99.34615384615384
          ],
          [
           "South Carolina",
           100
          ],
          [
           "South Carolina",
           99.34615384615384
          ],
          [
           "South Carolina",
           99.34615384615384
          ],
          [
           "South Carolina",
           99.34615384615384
          ],
          [
           "South Carolina",
           99.34615384615384
          ],
          [
           "South Carolina",
           99.34615384615384
          ],
          [
           "South Carolina",
           95
          ],
          [
           "South Carolina",
           99.34615384615384
          ],
          [
           "South Carolina",
           99.34615384615384
          ],
          [
           "South Carolina",
           99.34615384615384
          ],
          [
           "South Carolina",
           99
          ],
          [
           "South Carolina",
           99.34615384615384
          ],
          [
           "South Carolina",
           99.34615384615384
          ],
          [
           "South Carolina",
           99.34615384615384
          ],
          [
           "South Carolina",
           99.34615384615384
          ],
          [
           "South Carolina",
           99.34615384615384
          ],
          [
           "South Carolina",
           99.34615384615384
          ],
          [
           "South Carolina",
           99.34615384615384
          ],
          [
           "South Carolina",
           99
          ],
          [
           "South Carolina",
           99.34615384615384
          ],
          [
           "South Carolina",
           99.34615384615384
          ]
         ],
         "hovertemplate": "State=%{customdata[0]}<br>Year=%{x}<br>Nitrogen (lbs/acre)=%{y}<br>Nitrogen (%)=%{customdata[1]}<extra></extra>",
         "legendgroup": "South Carolina",
         "marker": {
          "color": "#EF553B",
          "symbol": "circle"
         },
         "mode": "markers",
         "name": "South Carolina",
         "orientation": "v",
         "showlegend": true,
         "type": "scatter",
         "x": {
          "bdata": "rAetB64HrwewB7EHsgezB7QHtQe2B7cHuAe5B7oHuwe8B70Hvge/B8AHwQfCB8MHxAfFB8YHxwfIB8kHygfLB8wHzQfOB88H0AfRB9IH0wfUB9UH1gfXB9gH2QfaB9sH3AfdB94H3wfgB+EH",
          "dtype": "i2"
         },
         "xaxis": "x",
         "y": {
          "bdata": "AAAAAAAAUUAAAAAAAIBTQAAAAAAAQFlAAAAAAADAVkAAAAAAAEBZQAAAAAAAAFZAAAAAAAAAVEAAAAAAAABWQAAAAAAAwFdAAAAAAADAWEAAAAAAAEBZQAAAAAAAQFtAAAAAAAAAV0AAAAAAAEBfQCd2Yid2wlZAAAAAAAAAVUAAAAAAAIBTQAAAAAAAQFRAAAAAAAAAVUAAAAAAAMBaQAAAAAAAwFdAAAAAAAAAV0AAAAAAAABVQCd2Yid2wlZAJ3ZiJ3bCVkAndmIndsJWQCd2Yid2wlZAJ3ZiJ3bCVkAndmIndsJWQCd2Yid2wlZAJ3ZiJ3bCVkAndmIndsJWQCd2Yid2wlZAAAAAAAAAV0AndmIndsJWQCd2Yid2wlZAJ3ZiJ3bCVkAndmIndsJWQCd2Yid2wlZAAAAAAABAU0AndmIndsJWQCd2Yid2wlZAJ3ZiJ3bCVkAAAAAAAMBWQCd2Yid2wlZAJ3ZiJ3bCVkAndmIndsJWQCd2Yid2wlZAJ3ZiJ3bCVkAndmIndsJWQCd2Yid2wlZAAAAAAACAVUAndmIndsJWQCd2Yid2wlZA",
          "dtype": "f8"
         },
         "yaxis": "y"
        },
        {
         "hovertemplate": "<b>OLS trendline</b><br>Nitrogen (Pounds/Acre) = -0.0259636 * Year + 142.719<br>R<sup>2</sup>=0.002450<br><br>State=South Carolina<br>Year=%{x}<br>Nitrogen (lbs/acre)=%{y} <b>(trend)</b><extra></extra>",
         "legendgroup": "South Carolina",
         "marker": {
          "color": "#EF553B",
          "symbol": "circle"
         },
         "mode": "lines",
         "name": "South Carolina",
         "showlegend": false,
         "type": "scatter",
         "x": {
          "bdata": "rAetB64HrwewB7EHsgezB7QHtQe2B7cHuAe5B7oHuwe8B70Hvge/B8AHwQfCB8MHxAfFB8YHxwfIB8kHygfLB8wHzQfOB88H0AfRB9IH0wfUB9UH1gfXB9gH2QfaB9sH3AfdB94H3wfgB+EH",
          "dtype": "i2"
         },
         "xaxis": "x",
         "y": {
          "bdata": "MX/u537uVkDiYeSE1exWQJJE2iEs61ZAQifQvoLpVkDyCcZb2edWQKLsu/gv5lZAUs+xlYbkVkADsqcy3eJWQLOUnc8z4VZAZHeTbIrfVkAUWokJ4d1WQMQ8f6Y33FZAdB91Q47aVkAkAmvg5NhWQNXkYH0711ZAhcdWGpLVVkA2qky36NNWQOaMQlQ/0lZAlm848ZXQVkBGUi6O7M5WQPY0JCtDzVZApxcayJnLVkBX+g9l8MlWQAjdBQJHyFZAuL/7np3GVkBoovE79MRWQBiF59hKw1ZAyGfddaHBVkB4StMS+L9WQCktya9OvlZA2Q+/TKW8VkCK8rTp+7pWQDrVqoZSuVZA6regI6m3VkCampbA/7VWQEp9jF1WtFZA+1+C+qyyVkCrQniXA7FWQFwlbjRar1ZADAhk0bCtVkC86lluB6xWQGzNTwteqlZAHLBFqLSoVkDNkjtFC6dWQH11MeJhpVZALlgnf7ijVkDeOh0cD6JWQI4dE7lloFZAPgAJVryeVkDu4v7yEp1WQJ7F9I9pm1ZAT6jqLMCZVkD/iuDJFphWQLBt1mZtllZA",
          "dtype": "f8"
         },
         "yaxis": "y"
        },
        {
         "customdata": [
          [
           "Tennessee",
           98
          ],
          [
           "Tennessee",
           100
          ],
          [
           "Tennessee",
           92
          ],
          [
           "Tennessee",
           97
          ],
          [
           "Tennessee",
           99
          ],
          [
           "Tennessee",
           100
          ],
          [
           "Tennessee",
           96
          ],
          [
           "Tennessee",
           99
          ],
          [
           "Tennessee",
           95
          ],
          [
           "Tennessee",
           100
          ],
          [
           "Tennessee",
           100
          ],
          [
           "Tennessee",
           100
          ],
          [
           "Tennessee",
           91
          ],
          [
           "Tennessee",
           96
          ],
          [
           "Tennessee",
           97
          ],
          [
           "Tennessee",
           99
          ],
          [
           "Tennessee",
           100
          ],
          [
           "Tennessee",
           98.4375
          ],
          [
           "Tennessee",
           97
          ],
          [
           "Tennessee",
           100
          ],
          [
           "Tennessee",
           100
          ],
          [
           "Tennessee",
           99
          ],
          [
           "Tennessee",
           100
          ],
          [
           "Tennessee",
           98.4375
          ],
          [
           "Tennessee",
           98.4375
          ],
          [
           "Tennessee",
           98.4375
          ],
          [
           "Tennessee",
           98.4375
          ],
          [
           "Tennessee",
           98.4375
          ],
          [
           "Tennessee",
           98.4375
          ],
          [
           "Tennessee",
           98.4375
          ],
          [
           "Tennessee",
           98.4375
          ],
          [
           "Tennessee",
           98.4375
          ],
          [
           "Tennessee",
           100
          ],
          [
           "Tennessee",
           100
          ],
          [
           "Tennessee",
           99
          ],
          [
           "Tennessee",
           100
          ],
          [
           "Tennessee",
           99
          ],
          [
           "Tennessee",
           98.4375
          ],
          [
           "Tennessee",
           98.4375
          ],
          [
           "Tennessee",
           97
          ],
          [
           "Tennessee",
           98.4375
          ],
          [
           "Tennessee",
           98.4375
          ],
          [
           "Tennessee",
           98.4375
          ],
          [
           "Tennessee",
           100
          ],
          [
           "Tennessee",
           98.4375
          ],
          [
           "Tennessee",
           98.4375
          ],
          [
           "Tennessee",
           100
          ],
          [
           "Tennessee",
           98.4375
          ],
          [
           "Tennessee",
           98.4375
          ],
          [
           "Tennessee",
           98.4375
          ],
          [
           "Tennessee",
           98.4375
          ],
          [
           "Tennessee",
           100
          ],
          [
           "Tennessee",
           98.4375
          ],
          [
           "Tennessee",
           100
          ]
         ],
         "hovertemplate": "State=%{customdata[0]}<br>Year=%{x}<br>Nitrogen (lbs/acre)=%{y}<br>Nitrogen (%)=%{customdata[1]}<extra></extra>",
         "legendgroup": "Tennessee",
         "marker": {
          "color": "#00cc96",
          "symbol": "circle"
         },
         "mode": "markers",
         "name": "Tennessee",
         "orientation": "v",
         "showlegend": true,
         "type": "scatter",
         "x": {
          "bdata": "rAetB64HrwewB7EHsgezB7QHtQe2B7cHuAe5B7oHuwe8B70Hvge/B8AHwQfCB8MHxAfFB8YHxwfIB8kHygfLB8wHzQfOB88H0AfRB9IH0wfUB9UH1gfXB9gH2QfaB9sH3AfdB94H3wfgB+EH",
          "dtype": "i2"
         },
         "xaxis": "x",
         "y": {
          "bdata": "AAAAAADAUEAAAAAAAMBRQAAAAAAAQFVAAAAAAACATkAAAAAAAIBJQAAAAAAAwFBAAAAAAACATkAAAAAAAABSQAAAAAAAQFFAAAAAAADAUEAAAAAAAIBQQAAAAAAAQFFAAAAAAADAUUAAAAAAAABRQAAAAAAAgFJAAAAAAAAAU0AAAAAAAEBSQAAAAAAAoFNAAAAAAADAUEAAAAAAAMBWQAAAAAAAgFRAAAAAAACAU0AAAAAAAMBSQAAAAAAAoFNAAAAAAACgU0AAAAAAAKBTQAAAAAAAoFNAAAAAAACgU0AAAAAAAKBTQAAAAAAAoFNAAAAAAACgU0AAAAAAAKBTQAAAAAAAQFZAAAAAAAAAV0AAAAAAAMBXQAAAAAAAgFZAAAAAAAAAVUAAAAAAAKBTQAAAAAAAoFNAAAAAAAAAV0AAAAAAAKBTQAAAAAAAoFNAAAAAAACgU0AAAAAAAIBZQAAAAAAAoFNAAAAAAACgU0AAAAAAAMBXQAAAAAAAoFNAAAAAAACgU0AAAAAAAKBTQAAAAAAAoFNAAAAAAADAW0AAAAAAAKBTQAAAAAAAQFlA",
          "dtype": "f8"
         },
         "yaxis": "y"
        },
        {
         "hovertemplate": "<b>OLS trendline</b><br>Nitrogen (Pounds/Acre) = 0.450772 * Year + -818.761<br>R<sup>2</sup>=0.438679<br><br>State=Tennessee<br>Year=%{x}<br>Nitrogen (lbs/acre)=%{y} <b>(trend)</b><extra></extra>",
         "legendgroup": "Tennessee",
         "marker": {
          "color": "#00cc96",
          "symbol": "circle"
         },
         "mode": "lines",
         "name": "Tennessee",
         "showlegend": false,
         "type": "scatter",
         "x": {
          "bdata": "rAetB64HrwewB7EHsgezB7QHtQe2B7cHuAe5B7oHuwe8B70Hvge/B8AHwQfCB8MHxAfFB8YHxwfIB8kHygfLB8wHzQfOB88H0AfRB9IH0wfUB9UH1gfXB9gH2QfaB9sH3AfdB94H3wfgB+EH",
          "dtype": "i2"
         },
         "xaxis": "x",
         "y": {
          "bdata": "ANs3rH2jUEDQXnkeV8BQQKjiupAw3VBAeGb8Agr6UEBI6j114xZRQBhuf+e8M1FA8PHAWZZQUUDAdQLMb21RQJD5Qz5JilFAYH2FsCKnUUA4Acci/MNRQAiFCJXV4FFA2AhKB6/9UUCojIt5iBpSQIAQzethN1JAUJQOXjtUUkAgGFDQFHFSQPCbkULujVJAyB/TtMeqUkCYoxQnocdSQGgnVpl65FJAOKuXC1QBU0AQL9l9LR5TQOCyGvAGO1NAsDZcYuBXU0CAup3UuXRTQFg+30aTkVNAKMIguWyuU0D4RWIrRstTQMjJo50f6FNAoE3lD/kEVEBw0SaC0iFUQEBVaPSrPlRAENmpZoVbVEDoXOvYXnhUQLjgLEs4lVRAiGRuvRGyVEBY6K8v685UQDBs8aHE61RAAPAyFJ4IVUDQc3SGdyVVQKD3tfhQQlVAeHv3aipfVUBI/zjdA3xVQBiDek/dmFVA6Aa8wba1VUDAiv0zkNJVQJAOP6Zp71VAYJKAGEMMVkAwFsKKHClWQAiaA/31RVZA2B1Fb89iVkCooYbhqH9WQHglyFOCnFZA",
          "dtype": "f8"
         },
         "yaxis": "y"
        },
        {
         "customdata": [
          [
           "Texas",
           50
          ],
          [
           "Texas",
           55
          ],
          [
           "Texas",
           51
          ],
          [
           "Texas",
           47
          ],
          [
           "Texas",
           45
          ],
          [
           "Texas",
           48
          ],
          [
           "Texas",
           48
          ],
          [
           "Texas",
           50
          ],
          [
           "Texas",
           51
          ],
          [
           "Texas",
           53
          ],
          [
           "Texas",
           55
          ],
          [
           "Texas",
           32
          ],
          [
           "Texas",
           49
          ],
          [
           "Texas",
           59
          ],
          [
           "Texas",
           41
          ],
          [
           "Texas",
           53
          ],
          [
           "Texas",
           50
          ],
          [
           "Texas",
           60
          ],
          [
           "Texas",
           39
          ],
          [
           "Texas",
           41
          ],
          [
           "Texas",
           55
          ],
          [
           "Texas",
           57
          ],
          [
           "Texas",
           56
          ],
          [
           "Texas",
           57
          ],
          [
           "Texas",
           68
          ],
          [
           "Texas",
           63
          ],
          [
           "Texas",
           66
          ],
          [
           "Texas",
           70
          ],
          [
           "Texas",
           65
          ],
          [
           "Texas",
           77
          ],
          [
           "Texas",
           78
          ],
          [
           "Texas",
           79
          ],
          [
           "Texas",
           55
          ],
          [
           "Texas",
           82
          ],
          [
           "Texas",
           68
          ],
          [
           "Texas",
           71
          ],
          [
           "Texas",
           63
          ],
          [
           "Texas",
           52
          ],
          [
           "Texas",
           58.72093023255814
          ],
          [
           "Texas",
           61
          ],
          [
           "Texas",
           58.72093023255814
          ],
          [
           "Texas",
           58.72093023255814
          ],
          [
           "Texas",
           58.72093023255814
          ],
          [
           "Texas",
           86
          ],
          [
           "Texas",
           58.72093023255814
          ],
          [
           "Texas",
           58.72093023255814
          ],
          [
           "Texas",
           85
          ],
          [
           "Texas",
           58.72093023255814
          ],
          [
           "Texas",
           58.72093023255814
          ],
          [
           "Texas",
           58.72093023255814
          ],
          [
           "Texas",
           58.72093023255814
          ],
          [
           "Texas",
           66
          ],
          [
           "Texas",
           58.72093023255814
          ],
          [
           "Texas",
           68
          ]
         ],
         "hovertemplate": "State=%{customdata[0]}<br>Year=%{x}<br>Nitrogen (lbs/acre)=%{y}<br>Nitrogen (%)=%{customdata[1]}<extra></extra>",
         "legendgroup": "Texas",
         "marker": {
          "color": "#ab63fa",
          "symbol": "circle"
         },
         "mode": "markers",
         "name": "Texas",
         "orientation": "v",
         "showlegend": true,
         "type": "scatter",
         "x": {
          "bdata": "rAetB64HrwewB7EHsgezB7QHtQe2B7cHuAe5B7oHuwe8B70Hvge/B8AHwQfCB8MHxAfFB8YHxwfIB8kHygfLB8wHzQfOB88H0AfRB9IH0wfUB9UH1gfXB9gH2QfaB9sH3AfdB94H3wfgB+EH",
          "dtype": "i2"
         },
         "xaxis": "x",
         "y": {
          "bdata": "AAAAAACATUAAAAAAAABPQAAAAAAAAE9AAAAAAACAS0AAAAAAAIBJQAAAAAAAgE5AAAAAAACATEAAAAAAAIBMQAAAAAAAgEpAAAAAAAAAR0AAAAAAAABIQAAAAAAAgENAAAAAAAAASkAAAAAAAIBGQAAAAAAAAElAAAAAAACARkAAAAAAAIBFQAAAAAAAAEZAAAAAAACAREAAAAAAAABKQAAAAAAAgEdAAAAAAACASEAAAAAAAIBGQAAAAAAAgElAAAAAAACARkAAAAAAAABIQAAAAAAAgE1AAAAAAABAUUAAAAAAAIBQQAAAAAAAAFBAAAAAAADAUUAAAAAAAABPQAAAAAAAAFRAAAAAAACAT0AAAAAAAABPQAAAAAAAAFBAAAAAAAAAUUAAAAAAAIBPQEfcEXfEnUxAAAAAAAAAU0BH3BF3xJ1MQEfcEXfEnUxAR9wRd8SdTEAAAAAAAIBUQEfcEXfEnUxAR9wRd8SdTEAAAAAAAIBPQEfcEXfEnUxAR9wRd8SdTEBH3BF3xJ1MQEfcEXfEnUxAAAAAAABAUEBH3BF3xJ1MQAAAAAAAQFNA",
          "dtype": "f8"
         },
         "yaxis": "y"
        },
        {
         "hovertemplate": "<b>OLS trendline</b><br>Nitrogen (Pounds/Acre) = 0.281804 * Year + -503.697<br>R<sup>2</sup>=0.208021<br><br>State=Texas<br>Year=%{x}<br>Nitrogen (lbs/acre)=%{y} <b>(trend)</b><extra></extra>",
         "legendgroup": "Texas",
         "marker": {
          "color": "#ab63fa",
          "symbol": "circle"
         },
         "mode": "lines",
         "name": "Texas",
         "showlegend": false,
         "type": "scatter",
         "x": {
          "bdata": "rAetB64HrwewB7EHsgezB7QHtQe2B7cHuAe5B7oHuwe8B70Hvge/B8AHwQfCB8MHxAfFB8YHxwfIB8kHygfLB8wHzQfOB88H0AfRB9IH0wfUB9UH1gfXB9gH2QfaB9sH3AfdB94H3wfgB+EH",
          "dtype": "i2"
         },
         "xaxis": "x",
         "y": {
          "bdata": "EAe5yOPhSECQdEjs9QVJQBDi1w8IKklAgE9nMxpOSUAAvfZWLHJJQIAqhno+lklAAJgVnlC6SUBwBaXBYt5JQPByNOV0AkpAcODDCIcmSkDgTVMsmUpKQGC74k+rbkpA4Chyc72SSkBglgGXz7ZKQNADkbrh2kpAUHEg3vP+SkDQ3q8BBiNLQFBMPyUYR0tAwLnOSCprS0BAJ15sPI9LQMCU7Y9Os0tAQAJ9s2DXS0CwbwzXcvtLQDDdm/qEH0xAsEorHpdDTEAwuLpBqWdMQKAlSmW7i0xAIJPZiM2vTECgAGms39NMQBBu+M/x90xAkNuH8wMcTUAQSRcXFkBNQJC2pjooZE1AACQ2XjqITUCAkcWBTKxNQAD/VKVe0E1AgGzkyHD0TUDw2XPsghhOQHBHAxCVPE5A8LSSM6dgTkBwIiJXuYROQOCPsXrLqE5AYP1Ant3MTkDgatDB7/BOQGDYX+UBFU9A0EXvCBQ5T0BQs34sJl1PQNAgDlA4gU9AQI6dc0qlT0DA+yyXXMlPQEBpvLpu7U9AYOslb8AIUEAYou2AyRpQQNhYtZLSLFBA",
          "dtype": "f8"
         },
         "yaxis": "y"
        }
       ],
       "layout": {
        "height": 600,
        "legend": {
         "title": {
          "text": "State"
         },
         "tracegroupgap": 0
        },
        "template": {
         "data": {
          "bar": [
           {
            "error_x": {
             "color": "#2a3f5f"
            },
            "error_y": {
             "color": "#2a3f5f"
            },
            "marker": {
             "line": {
              "color": "white",
              "width": 0.5
             },
             "pattern": {
              "fillmode": "overlay",
              "size": 10,
              "solidity": 0.2
             }
            },
            "type": "bar"
           }
          ],
          "barpolar": [
           {
            "marker": {
             "line": {
              "color": "white",
              "width": 0.5
             },
             "pattern": {
              "fillmode": "overlay",
              "size": 10,
              "solidity": 0.2
             }
            },
            "type": "barpolar"
           }
          ],
          "carpet": [
           {
            "aaxis": {
             "endlinecolor": "#2a3f5f",
             "gridcolor": "#C8D4E3",
             "linecolor": "#C8D4E3",
             "minorgridcolor": "#C8D4E3",
             "startlinecolor": "#2a3f5f"
            },
            "baxis": {
             "endlinecolor": "#2a3f5f",
             "gridcolor": "#C8D4E3",
             "linecolor": "#C8D4E3",
             "minorgridcolor": "#C8D4E3",
             "startlinecolor": "#2a3f5f"
            },
            "type": "carpet"
           }
          ],
          "choropleth": [
           {
            "colorbar": {
             "outlinewidth": 0,
             "ticks": ""
            },
            "type": "choropleth"
           }
          ],
          "contour": [
           {
            "colorbar": {
             "outlinewidth": 0,
             "ticks": ""
            },
            "colorscale": [
             [
              0,
              "#0d0887"
             ],
             [
              0.1111111111111111,
              "#46039f"
             ],
             [
              0.2222222222222222,
              "#7201a8"
             ],
             [
              0.3333333333333333,
              "#9c179e"
             ],
             [
              0.4444444444444444,
              "#bd3786"
             ],
             [
              0.5555555555555556,
              "#d8576b"
             ],
             [
              0.6666666666666666,
              "#ed7953"
             ],
             [
              0.7777777777777778,
              "#fb9f3a"
             ],
             [
              0.8888888888888888,
              "#fdca26"
             ],
             [
              1,
              "#f0f921"
             ]
            ],
            "type": "contour"
           }
          ],
          "contourcarpet": [
           {
            "colorbar": {
             "outlinewidth": 0,
             "ticks": ""
            },
            "type": "contourcarpet"
           }
          ],
          "heatmap": [
           {
            "colorbar": {
             "outlinewidth": 0,
             "ticks": ""
            },
            "colorscale": [
             [
              0,
              "#0d0887"
             ],
             [
              0.1111111111111111,
              "#46039f"
             ],
             [
              0.2222222222222222,
              "#7201a8"
             ],
             [
              0.3333333333333333,
              "#9c179e"
             ],
             [
              0.4444444444444444,
              "#bd3786"
             ],
             [
              0.5555555555555556,
              "#d8576b"
             ],
             [
              0.6666666666666666,
              "#ed7953"
             ],
             [
              0.7777777777777778,
              "#fb9f3a"
             ],
             [
              0.8888888888888888,
              "#fdca26"
             ],
             [
              1,
              "#f0f921"
             ]
            ],
            "type": "heatmap"
           }
          ],
          "histogram": [
           {
            "marker": {
             "pattern": {
              "fillmode": "overlay",
              "size": 10,
              "solidity": 0.2
             }
            },
            "type": "histogram"
           }
          ],
          "histogram2d": [
           {
            "colorbar": {
             "outlinewidth": 0,
             "ticks": ""
            },
            "colorscale": [
             [
              0,
              "#0d0887"
             ],
             [
              0.1111111111111111,
              "#46039f"
             ],
             [
              0.2222222222222222,
              "#7201a8"
             ],
             [
              0.3333333333333333,
              "#9c179e"
             ],
             [
              0.4444444444444444,
              "#bd3786"
             ],
             [
              0.5555555555555556,
              "#d8576b"
             ],
             [
              0.6666666666666666,
              "#ed7953"
             ],
             [
              0.7777777777777778,
              "#fb9f3a"
             ],
             [
              0.8888888888888888,
              "#fdca26"
             ],
             [
              1,
              "#f0f921"
             ]
            ],
            "type": "histogram2d"
           }
          ],
          "histogram2dcontour": [
           {
            "colorbar": {
             "outlinewidth": 0,
             "ticks": ""
            },
            "colorscale": [
             [
              0,
              "#0d0887"
             ],
             [
              0.1111111111111111,
              "#46039f"
             ],
             [
              0.2222222222222222,
              "#7201a8"
             ],
             [
              0.3333333333333333,
              "#9c179e"
             ],
             [
              0.4444444444444444,
              "#bd3786"
             ],
             [
              0.5555555555555556,
              "#d8576b"
             ],
             [
              0.6666666666666666,
              "#ed7953"
             ],
             [
              0.7777777777777778,
              "#fb9f3a"
             ],
             [
              0.8888888888888888,
              "#fdca26"
             ],
             [
              1,
              "#f0f921"
             ]
            ],
            "type": "histogram2dcontour"
           }
          ],
          "mesh3d": [
           {
            "colorbar": {
             "outlinewidth": 0,
             "ticks": ""
            },
            "type": "mesh3d"
           }
          ],
          "parcoords": [
           {
            "line": {
             "colorbar": {
              "outlinewidth": 0,
              "ticks": ""
             }
            },
            "type": "parcoords"
           }
          ],
          "pie": [
           {
            "automargin": true,
            "type": "pie"
           }
          ],
          "scatter": [
           {
            "fillpattern": {
             "fillmode": "overlay",
             "size": 10,
             "solidity": 0.2
            },
            "type": "scatter"
           }
          ],
          "scatter3d": [
           {
            "line": {
             "colorbar": {
              "outlinewidth": 0,
              "ticks": ""
             }
            },
            "marker": {
             "colorbar": {
              "outlinewidth": 0,
              "ticks": ""
             }
            },
            "type": "scatter3d"
           }
          ],
          "scattercarpet": [
           {
            "marker": {
             "colorbar": {
              "outlinewidth": 0,
              "ticks": ""
             }
            },
            "type": "scattercarpet"
           }
          ],
          "scattergeo": [
           {
            "marker": {
             "colorbar": {
              "outlinewidth": 0,
              "ticks": ""
             }
            },
            "type": "scattergeo"
           }
          ],
          "scattergl": [
           {
            "marker": {
             "colorbar": {
              "outlinewidth": 0,
              "ticks": ""
             }
            },
            "type": "scattergl"
           }
          ],
          "scattermap": [
           {
            "marker": {
             "colorbar": {
              "outlinewidth": 0,
              "ticks": ""
             }
            },
            "type": "scattermap"
           }
          ],
          "scattermapbox": [
           {
            "marker": {
             "colorbar": {
              "outlinewidth": 0,
              "ticks": ""
             }
            },
            "type": "scattermapbox"
           }
          ],
          "scatterpolar": [
           {
            "marker": {
             "colorbar": {
              "outlinewidth": 0,
              "ticks": ""
             }
            },
            "type": "scatterpolar"
           }
          ],
          "scatterpolargl": [
           {
            "marker": {
             "colorbar": {
              "outlinewidth": 0,
              "ticks": ""
             }
            },
            "type": "scatterpolargl"
           }
          ],
          "scatterternary": [
           {
            "marker": {
             "colorbar": {
              "outlinewidth": 0,
              "ticks": ""
             }
            },
            "type": "scatterternary"
           }
          ],
          "surface": [
           {
            "colorbar": {
             "outlinewidth": 0,
             "ticks": ""
            },
            "colorscale": [
             [
              0,
              "#0d0887"
             ],
             [
              0.1111111111111111,
              "#46039f"
             ],
             [
              0.2222222222222222,
              "#7201a8"
             ],
             [
              0.3333333333333333,
              "#9c179e"
             ],
             [
              0.4444444444444444,
              "#bd3786"
             ],
             [
              0.5555555555555556,
              "#d8576b"
             ],
             [
              0.6666666666666666,
              "#ed7953"
             ],
             [
              0.7777777777777778,
              "#fb9f3a"
             ],
             [
              0.8888888888888888,
              "#fdca26"
             ],
             [
              1,
              "#f0f921"
             ]
            ],
            "type": "surface"
           }
          ],
          "table": [
           {
            "cells": {
             "fill": {
              "color": "#EBF0F8"
             },
             "line": {
              "color": "white"
             }
            },
            "header": {
             "fill": {
              "color": "#C8D4E3"
             },
             "line": {
              "color": "white"
             }
            },
            "type": "table"
           }
          ]
         },
         "layout": {
          "annotationdefaults": {
           "arrowcolor": "#2a3f5f",
           "arrowhead": 0,
           "arrowwidth": 1
          },
          "autotypenumbers": "strict",
          "coloraxis": {
           "colorbar": {
            "outlinewidth": 0,
            "ticks": ""
           }
          },
          "colorscale": {
           "diverging": [
            [
             0,
             "#8e0152"
            ],
            [
             0.1,
             "#c51b7d"
            ],
            [
             0.2,
             "#de77ae"
            ],
            [
             0.3,
             "#f1b6da"
            ],
            [
             0.4,
             "#fde0ef"
            ],
            [
             0.5,
             "#f7f7f7"
            ],
            [
             0.6,
             "#e6f5d0"
            ],
            [
             0.7,
             "#b8e186"
            ],
            [
             0.8,
             "#7fbc41"
            ],
            [
             0.9,
             "#4d9221"
            ],
            [
             1,
             "#276419"
            ]
           ],
           "sequential": [
            [
             0,
             "#0d0887"
            ],
            [
             0.1111111111111111,
             "#46039f"
            ],
            [
             0.2222222222222222,
             "#7201a8"
            ],
            [
             0.3333333333333333,
             "#9c179e"
            ],
            [
             0.4444444444444444,
             "#bd3786"
            ],
            [
             0.5555555555555556,
             "#d8576b"
            ],
            [
             0.6666666666666666,
             "#ed7953"
            ],
            [
             0.7777777777777778,
             "#fb9f3a"
            ],
            [
             0.8888888888888888,
             "#fdca26"
            ],
            [
             1,
             "#f0f921"
            ]
           ],
           "sequentialminus": [
            [
             0,
             "#0d0887"
            ],
            [
             0.1111111111111111,
             "#46039f"
            ],
            [
             0.2222222222222222,
             "#7201a8"
            ],
            [
             0.3333333333333333,
             "#9c179e"
            ],
            [
             0.4444444444444444,
             "#bd3786"
            ],
            [
             0.5555555555555556,
             "#d8576b"
            ],
            [
             0.6666666666666666,
             "#ed7953"
            ],
            [
             0.7777777777777778,
             "#fb9f3a"
            ],
            [
             0.8888888888888888,
             "#fdca26"
            ],
            [
             1,
             "#f0f921"
            ]
           ]
          },
          "colorway": [
           "#636efa",
           "#EF553B",
           "#00cc96",
           "#ab63fa",
           "#FFA15A",
           "#19d3f3",
           "#FF6692",
           "#B6E880",
           "#FF97FF",
           "#FECB52"
          ],
          "font": {
           "color": "#2a3f5f"
          },
          "geo": {
           "bgcolor": "white",
           "lakecolor": "white",
           "landcolor": "white",
           "showlakes": true,
           "showland": true,
           "subunitcolor": "#C8D4E3"
          },
          "hoverlabel": {
           "align": "left"
          },
          "hovermode": "closest",
          "mapbox": {
           "style": "light"
          },
          "paper_bgcolor": "white",
          "plot_bgcolor": "white",
          "polar": {
           "angularaxis": {
            "gridcolor": "#EBF0F8",
            "linecolor": "#EBF0F8",
            "ticks": ""
           },
           "bgcolor": "white",
           "radialaxis": {
            "gridcolor": "#EBF0F8",
            "linecolor": "#EBF0F8",
            "ticks": ""
           }
          },
          "scene": {
           "xaxis": {
            "backgroundcolor": "white",
            "gridcolor": "#DFE8F3",
            "gridwidth": 2,
            "linecolor": "#EBF0F8",
            "showbackground": true,
            "ticks": "",
            "zerolinecolor": "#EBF0F8"
           },
           "yaxis": {
            "backgroundcolor": "white",
            "gridcolor": "#DFE8F3",
            "gridwidth": 2,
            "linecolor": "#EBF0F8",
            "showbackground": true,
            "ticks": "",
            "zerolinecolor": "#EBF0F8"
           },
           "zaxis": {
            "backgroundcolor": "white",
            "gridcolor": "#DFE8F3",
            "gridwidth": 2,
            "linecolor": "#EBF0F8",
            "showbackground": true,
            "ticks": "",
            "zerolinecolor": "#EBF0F8"
           }
          },
          "shapedefaults": {
           "line": {
            "color": "#2a3f5f"
           }
          },
          "ternary": {
           "aaxis": {
            "gridcolor": "#DFE8F3",
            "linecolor": "#A2B1C6",
            "ticks": ""
           },
           "baxis": {
            "gridcolor": "#DFE8F3",
            "linecolor": "#A2B1C6",
            "ticks": ""
           },
           "bgcolor": "white",
           "caxis": {
            "gridcolor": "#DFE8F3",
            "linecolor": "#A2B1C6",
            "ticks": ""
           }
          },
          "title": {
           "x": 0.05
          },
          "xaxis": {
           "automargin": true,
           "gridcolor": "#EBF0F8",
           "linecolor": "#EBF0F8",
           "ticks": "",
           "title": {
            "standoff": 15
           },
           "zerolinecolor": "#EBF0F8",
           "zerolinewidth": 2
          },
          "yaxis": {
           "automargin": true,
           "gridcolor": "#EBF0F8",
           "linecolor": "#EBF0F8",
           "ticks": "",
           "title": {
            "standoff": 15
           },
           "zerolinecolor": "#EBF0F8",
           "zerolinewidth": 2
          }
         }
        },
        "title": {
         "font": {
          "size": 16
         },
         "text": "Nitrogen Usage Over Time by State"
        },
        "xaxis": {
         "anchor": "y",
         "domain": [
          0,
          1
         ],
         "title": {
          "font": {
           "size": 14
          },
          "text": "Year"
         }
        },
        "yaxis": {
         "anchor": "x",
         "domain": [
          0,
          1
         ],
         "title": {
          "font": {
           "size": 14
          },
          "text": "Nitrogen (lbs/acre)"
         }
        }
       }
      }
     },
     "metadata": {},
     "output_type": "display_data"
    },
    {
     "data": {
      "application/vnd.plotly.v1+json": {
       "config": {
        "plotlyServerURL": "https://plot.ly"
       },
       "data": [
        {
         "customdata": [
          [
           "Alabama",
           72
          ],
          [
           "Alabama",
           81
          ],
          [
           "Alabama",
           83
          ],
          [
           "Alabama",
           78
          ],
          [
           "Alabama",
           71
          ],
          [
           "Alabama",
           80
          ],
          [
           "Alabama",
           78
          ],
          [
           "Alabama",
           84
          ],
          [
           "Alabama",
           89
          ],
          [
           "Alabama",
           82
          ],
          [
           "Alabama",
           100
          ],
          [
           "Alabama",
           74
          ],
          [
           "Alabama",
           72
          ],
          [
           "Alabama",
           74
          ],
          [
           "Alabama",
           66
          ],
          [
           "Alabama",
           70
          ],
          [
           "Alabama",
           73
          ],
          [
           "Alabama",
           73
          ],
          [
           "Alabama",
           101
          ],
          [
           "Alabama",
           79
          ],
          [
           "Alabama",
           78
          ],
          [
           "Alabama",
           88
          ],
          [
           "Alabama",
           82
          ],
          [
           "Alabama",
           82.80645161290323
          ],
          [
           "Alabama",
           82.80645161290323
          ],
          [
           "Alabama",
           82.80645161290323
          ],
          [
           "Alabama",
           82.80645161290323
          ],
          [
           "Alabama",
           82.80645161290323
          ],
          [
           "Alabama",
           82.80645161290323
          ],
          [
           "Alabama",
           82.80645161290323
          ],
          [
           "Alabama",
           82.80645161290323
          ],
          [
           "Alabama",
           82.80645161290323
          ],
          [
           "Alabama",
           82.80645161290323
          ],
          [
           "Alabama",
           89
          ],
          [
           "Alabama",
           78
          ],
          [
           "Alabama",
           84
          ],
          [
           "Alabama",
           103
          ],
          [
           "Alabama",
           82.80645161290323
          ],
          [
           "Alabama",
           82.80645161290323
          ],
          [
           "Alabama",
           102
          ],
          [
           "Alabama",
           82.80645161290323
          ],
          [
           "Alabama",
           82.80645161290323
          ],
          [
           "Alabama",
           82.80645161290323
          ],
          [
           "Alabama",
           88
          ],
          [
           "Alabama",
           82.80645161290323
          ],
          [
           "Alabama",
           82.80645161290323
          ],
          [
           "Alabama",
           82.80645161290323
          ],
          [
           "Alabama",
           82.80645161290323
          ],
          [
           "Alabama",
           82.80645161290323
          ],
          [
           "Alabama",
           82.80645161290323
          ],
          [
           "Alabama",
           82.80645161290323
          ],
          [
           "Alabama",
           91
          ],
          [
           "Alabama",
           82.80645161290323
          ],
          [
           "Alabama",
           104
          ]
         ],
         "hovertemplate": "State=%{customdata[0]}<br>Year=%{x}<br>Nitrogen Usage (%)=%{y}<br>Nitrogen (Pounds/Acre)=%{customdata[1]}<extra></extra>",
         "legendgroup": "Alabama",
         "marker": {
          "color": "#636efa",
          "symbol": "circle"
         },
         "mode": "markers",
         "name": "Alabama",
         "orientation": "v",
         "showlegend": true,
         "type": "scatter",
         "x": {
          "bdata": "rAetB64HrwewB7EHsgezB7QHtQe2B7cHuAe5B7oHuwe8B70Hvge/B8AHwQfCB8MHxAfFB8YHxwfIB8kHygfLB8wHzQfOB88H0AfRB9IH0wfUB9UH1gfXB9gH2QfaB9sH3AfdB94H3wfgB+EH",
          "dtype": "i2"
         },
         "xaxis": "x",
         "y": {
          "bdata": "AAAAAADAWEAAAAAAAABZQAAAAAAAAFlAAAAAAAAAWUAAAAAAAABZQAAAAAAAAFlAAAAAAAAAWUAAAAAAAMBYQAAAAAAAAFlAAAAAAADAWEAAAAAAAABZQAAAAAAAAFlAAAAAAACAWEAAAAAAAMBYQAAAAAAAAFlAAAAAAAAAWUAAAAAAAABZQAAAAAAAwFhAAAAAAAAAWUAAAAAAAABZQAAAAAAAgFhAAAAAAACAWEAAAAAAAMBYQEIIIYQQwlhAQgghhBDCWEBCCCGEEMJYQEIIIYQQwlhAQgghhBDCWEBCCCGEEMJYQEIIIYQQwlhAQgghhBDCWEBCCCGEEMJYQEIIIYQQwlhAAAAAAAAAWUAAAAAAAMBYQAAAAAAAQFhAAAAAAAAAWUBCCCGEEMJYQEIIIYQQwlhAAAAAAABAWEBCCCGEEMJYQEIIIYQQwlhAQgghhBDCWEAAAAAAAEBYQEIIIYQQwlhAQgghhBDCWEBCCCGEEMJYQEIIIYQQwlhAQgghhBDCWEBCCCGEEMJYQEIIIYQQwlhAAAAAAADAWEBCCCGEEMJYQAAAAAAAQFdA",
          "dtype": "f8"
         },
         "yaxis": "y"
        },
        {
         "hovertemplate": "<b>OLS trendline</b><br>Nitrogen (%) = -0.0322175 * Year + 163.161<br>R<sup>2</sup>=0.203315<br><br>State=Alabama<br>Year=%{x}<br>Nitrogen Usage (%)=%{y} <b>(trend)</b><extra></extra>",
         "legendgroup": "Alabama",
         "marker": {
          "color": "#636efa",
          "symbol": "circle"
         },
         "mode": "lines",
         "name": "Alabama",
         "showlegend": false,
         "type": "scatter",
         "x": {
          "bdata": "rAetB64HrwewB7EHsgezB7QHtQe2B7cHuAe5B7oHuwe8B70Hvge/B8AHwQfCB8MHxAfFB8YHxwfIB8kHygfLB8wHzQfOB88H0AfRB9IH0wfUB9UH1gfXB9gH2QfaB9sH3AfdB94H3wfgB+EH",
          "dtype": "i2"
         },
         "xaxis": "x",
         "y": {
          "bdata": "X0mLk7T4WEAImZq5pPZYQLLoqd+U9FhAXDi5BYXyWEAFiMgrdfBYQK7X11Fl7lhAWCfnd1XsWEACd/adRepYQKvGBcQ16FhAVBYV6iXmWED+ZSQQFuRYQKe1MzYG4lhAUAVDXPbfWED6VFKC5t1YQKSkYajW21hATfRwzsbZWED2Q4D0ttdYQKCTjxqn1VhASeOeQJfTWEDyMq5mh9FYQJyCvYx3z1hARtLMsmfNWEDvIdzYV8tYQJhx6/5HyVhAQsH6JDjHWEDrEApLKMVYQJVgGXEYw1hAPrAolwjBWEDo/ze9+L5YQJFPR+PovFhAOp9WCdm6WEDk7mUvybhYQI0+dVW5tlhAN46Ee6m0WEDg3ZOhmbJYQIoto8eJsFhAM32y7XmuWEDczMETaqxYQIYc0TlaqlhAL2zgX0qoWEDZu++FOqZYQIIL/6sqpFhALFsO0hqiWEDVqh34CqBYQH76LB77nVhAKEo8ROubWEDRmUtq25lYQHvpWpDLl1hAJDlqtruVWEDOiHncq5NYQHfYiAKckVhAISiYKIyPWEDKd6dOfI1YQHPHtnRsi1hA",
          "dtype": "f8"
         },
         "yaxis": "y"
        },
        {
         "customdata": [
          [
           "Arizona",
           130
          ],
          [
           "Arizona",
           131
          ],
          [
           "Arizona",
           141
          ],
          [
           "Arizona",
           141
          ],
          [
           "Arizona",
           142
          ],
          [
           "Arizona",
           145
          ],
          [
           "Arizona",
           135
          ],
          [
           "Arizona",
           123
          ],
          [
           "Arizona",
           117
          ],
          [
           "Arizona",
           120
          ],
          [
           "Arizona",
           123
          ],
          [
           "Arizona",
           117
          ],
          [
           "Arizona",
           155
          ],
          [
           "Arizona",
           148
          ],
          [
           "Arizona",
           135
          ],
          [
           "Arizona",
           142
          ],
          [
           "Arizona",
           161
          ],
          [
           "Arizona",
           159
          ],
          [
           "Arizona",
           126
          ],
          [
           "Arizona",
           113
          ],
          [
           "Arizona",
           150
          ],
          [
           "Arizona",
           157
          ],
          [
           "Arizona",
           122
          ],
          [
           "Arizona",
           159
          ],
          [
           "Arizona",
           144
          ],
          [
           "Arizona",
           178
          ],
          [
           "Arizona",
           155
          ],
          [
           "Arizona",
           170
          ],
          [
           "Arizona",
           132
          ],
          [
           "Arizona",
           149
          ],
          [
           "Arizona",
           223
          ],
          [
           "Arizona",
           194
          ],
          [
           "Arizona",
           148
          ],
          [
           "Arizona",
           130
          ],
          [
           "Arizona",
           141
          ],
          [
           "Arizona",
           149
          ],
          [
           "Arizona",
           129
          ],
          [
           "Arizona",
           144.4102564102564
          ],
          [
           "Arizona",
           144.4102564102564
          ],
          [
           "Arizona",
           178
          ],
          [
           "Arizona",
           144.4102564102564
          ],
          [
           "Arizona",
           144.4102564102564
          ],
          [
           "Arizona",
           144.4102564102564
          ],
          [
           "Arizona",
           144.4102564102564
          ],
          [
           "Arizona",
           144.4102564102564
          ],
          [
           "Arizona",
           144.4102564102564
          ],
          [
           "Arizona",
           144.4102564102564
          ],
          [
           "Arizona",
           144.4102564102564
          ],
          [
           "Arizona",
           144.4102564102564
          ],
          [
           "Arizona",
           144.4102564102564
          ],
          [
           "Arizona",
           144.4102564102564
          ],
          [
           "Arizona",
           120
          ],
          [
           "Arizona",
           144.4102564102564
          ],
          [
           "Arizona",
           144.4102564102564
          ]
         ],
         "hovertemplate": "State=%{customdata[0]}<br>Year=%{x}<br>Nitrogen Usage (%)=%{y}<br>Nitrogen (Pounds/Acre)=%{customdata[1]}<extra></extra>",
         "legendgroup": "Arizona",
         "marker": {
          "color": "#EF553B",
          "symbol": "circle"
         },
         "mode": "markers",
         "name": "Arizona",
         "orientation": "v",
         "showlegend": true,
         "type": "scatter",
         "x": {
          "bdata": "rAetB64HrwewB7EHsgezB7QHtQe2B7cHuAe5B7oHuwe8B70Hvge/B8AHwQfCB8MHxAfFB8YHxwfIB8kHygfLB8wHzQfOB88H0AfRB9IH0wfUB9UH1gfXB9gH2QfaB9sH3AfdB94H3wfgB+EH",
          "dtype": "i2"
         },
         "xaxis": "x",
         "y": {
          "bdata": "AAAAAACAV0AAAAAAAABXQAAAAAAAAFhAAAAAAABAVkAAAAAAAMBXQAAAAAAAQFhAAAAAAACAVkAAAAAAAMBWQAAAAAAAgFRAAAAAAAAAVkAAAAAAAEBYQAAAAAAAgFRAAAAAAAAAVkAAAAAAAABXQAAAAAAAQFZAAAAAAABAV0AAAAAAAIBWQAAAAAAAAFdAAAAAAACAV0AAAAAAAIBWQAAAAAAAgFhAAAAAAADAV0AAAAAAAEBXQAAAAAAAwFdAAAAAAACAVkAAAAAAAMBXQAAAAAAAgFdAAAAAAADAWEAAAAAAAIBXQAAAAAAAgFhAAAAAAADAWEAAAAAAAMBXQAAAAAAAgFhAAAAAAADAWEAAAAAAAIBYQAAAAAAAwFhAAAAAAACAWEBCGqRBGmRXQEIapEEaZFdAAAAAAABAV0BCGqRBGmRXQEIapEEaZFdAQhqkQRpkV0BCGqRBGmRXQEIapEEaZFdAQhqkQRpkV0BCGqRBGmRXQEIapEEaZFdAQhqkQRpkV0BCGqRBGmRXQEIapEEaZFdAAAAAAACAWEBCGqRBGmRXQEIapEEaZFdA",
          "dtype": "f8"
         },
         "yaxis": "y"
        },
        {
         "hovertemplate": "<b>OLS trendline</b><br>Nitrogen (%) = 0.0806204 * Year + -66.9109<br>R<sup>2</sup>=0.119479<br><br>State=Arizona<br>Year=%{x}<br>Nitrogen Usage (%)=%{y} <b>(trend)</b><extra></extra>",
         "legendgroup": "Arizona",
         "marker": {
          "color": "#EF553B",
          "symbol": "circle"
         },
         "mode": "lines",
         "name": "Arizona",
         "showlegend": false,
         "type": "scatter",
         "x": {
          "bdata": "rAetB64HrwewB7EHsgezB7QHtQe2B7cHuAe5B7oHuwe8B70Hvge/B8AHwQfCB8MHxAfFB8YHxwfIB8kHygfLB8wHzQfOB88H0AfRB9IH0wfUB9UH1gfXB9gH2QfaB9sH3AfdB94H3wfgB+EH",
          "dtype": "i2"
         },
         "xaxis": "x",
         "y": {
          "bdata": "ZqQyzV7bVkBQ1Mevh+BWQDgEXZKw5VZAIjTydNnqVkAKZIdXAvBWQPSTHDor9VZA3sOxHFT6VkDG80b/fP9WQLAj3OGlBFdAmFNxxM4JV0CCgwan9w5XQGyzm4kgFFdAVOMwbEkZV0A+E8ZOch5XQCZDWzGbI1dAEHPwE8QoV0D4ooX27C1XQOLSGtkVM1dAzAKwuz44V0C0MkWeZz1XQJ5i2oCQQldAhpJvY7lHV0BwwgRG4kxXQFjymSgLUldAQiIvCzRXV0AsUsTtXFxXQBSCWdCFYVdA/rHusq5mV0Dm4YOV12tXQNARGXgAcVdAukGuWil2V0CicUM9UntXQIyh2B97gFdAdNFtAqSFV0BeAQPlzIpXQEYxmMf1j1dAMGEtqh6VV0AakcKMR5pXQALBV29wn1dA7PDsUZmkV0DUIII0wqlXQL5QFxfrrldAqICs+RO0V0CQsEHcPLlXQHrg1r5lvldAYhBsoY7DV0BMQAGEt8hXQDRwlmbgzVdAHqArSQnTV0AI0MArMthXQPD/VQ5b3VdA2i/r8IPiV0DCX4DTrOdXQKyPFbbV7FdA",
          "dtype": "f8"
         },
         "yaxis": "y"
        },
        {
         "customdata": [
          [
           "Arkansas",
           68
          ],
          [
           "Arkansas",
           72
          ],
          [
           "Arkansas",
           70
          ],
          [
           "Arkansas",
           68
          ],
          [
           "Arkansas",
           63
          ],
          [
           "Arkansas",
           65
          ],
          [
           "Arkansas",
           67
          ],
          [
           "Arkansas",
           63
          ],
          [
           "Arkansas",
           62
          ],
          [
           "Arkansas",
           69
          ],
          [
           "Arkansas",
           68
          ],
          [
           "Arkansas",
           57
          ],
          [
           "Arkansas",
           65
          ],
          [
           "Arkansas",
           66
          ],
          [
           "Arkansas",
           64
          ],
          [
           "Arkansas",
           62
          ],
          [
           "Arkansas",
           59
          ],
          [
           "Arkansas",
           64
          ],
          [
           "Arkansas",
           67
          ],
          [
           "Arkansas",
           69
          ],
          [
           "Arkansas",
           75
          ],
          [
           "Arkansas",
           70
          ],
          [
           "Arkansas",
           84
          ],
          [
           "Arkansas",
           81
          ],
          [
           "Arkansas",
           79
          ],
          [
           "Arkansas",
           80
          ],
          [
           "Arkansas",
           85
          ],
          [
           "Arkansas",
           86
          ],
          [
           "Arkansas",
           88
          ],
          [
           "Arkansas",
           103
          ],
          [
           "Arkansas",
           110
          ],
          [
           "Arkansas",
           101
          ],
          [
           "Arkansas",
           97
          ],
          [
           "Arkansas",
           77
          ],
          [
           "Arkansas",
           91
          ],
          [
           "Arkansas",
           93
          ],
          [
           "Arkansas",
           88
          ],
          [
           "Arkansas",
           80
          ],
          [
           "Arkansas",
           80.88372093023256
          ],
          [
           "Arkansas",
           94
          ],
          [
           "Arkansas",
           80.88372093023256
          ],
          [
           "Arkansas",
           80.88372093023256
          ],
          [
           "Arkansas",
           80.88372093023256
          ],
          [
           "Arkansas",
           111
          ],
          [
           "Arkansas",
           80.88372093023256
          ],
          [
           "Arkansas",
           80.88372093023256
          ],
          [
           "Arkansas",
           108
          ],
          [
           "Arkansas",
           80.88372093023256
          ],
          [
           "Arkansas",
           80.88372093023256
          ],
          [
           "Arkansas",
           80.88372093023256
          ],
          [
           "Arkansas",
           80.88372093023256
          ],
          [
           "Arkansas",
           129
          ],
          [
           "Arkansas",
           80.88372093023256
          ],
          [
           "Arkansas",
           160
          ]
         ],
         "hovertemplate": "State=%{customdata[0]}<br>Year=%{x}<br>Nitrogen Usage (%)=%{y}<br>Nitrogen (Pounds/Acre)=%{customdata[1]}<extra></extra>",
         "legendgroup": "Arkansas",
         "marker": {
          "color": "#00cc96",
          "symbol": "circle"
         },
         "mode": "markers",
         "name": "Arkansas",
         "orientation": "v",
         "showlegend": true,
         "type": "scatter",
         "x": {
          "bdata": "rAetB64HrwewB7EHsgezB7QHtQe2B7cHuAe5B7oHuwe8B70Hvge/B8AHwQfCB8MHxAfFB8YHxwfIB8kHygfLB8wHzQfOB88H0AfRB9IH0wfUB9UH1gfXB9gH2QfaB9sH3AfdB94H3wfgB+EH",
          "dtype": "i2"
         },
         "xaxis": "x",
         "y": {
          "bdata": "AAAAAABAWEAAAAAAAMBYQAAAAAAAQFhAAAAAAACAWEAAAAAAAMBYQAAAAAAAAFhAAAAAAADAV0AAAAAAAIBYQAAAAAAAwFhAAAAAAABAWEAAAAAAAIBYQAAAAAAAgFhAAAAAAABAWEAAAAAAAMBXQAAAAAAAQFdAAAAAAACAWEAAAAAAAIBYQAAAAAAAQFhAAAAAAABAWEAAAAAAAEBYQAAAAAAAQFhAAAAAAAAAWUAAAAAAAMBYQAAAAAAAwFhAAAAAAADAWEAAAAAAAIBXQAAAAAAAwFhAAAAAAAAAWEAAAAAAAIBYQAAAAAAAAFhAAAAAAABAV0AAAAAAAEBYQAAAAAAAQFhAAAAAAAAAV0AAAAAAAIBYQAAAAAAAQFhAAAAAAAAAWUAAAAAAAEBXQOKOuCPuSFhAAAAAAABAWEDijrgj7khYQOKOuCPuSFhA4o64I+5IWEAAAAAAAIBYQOKOuCPuSFhA4o64I+5IWEAAAAAAAIBYQOKOuCPuSFhA4o64I+5IWEDijrgj7khYQOKOuCPuSFhAAAAAAAAAWUDijrgj7khYQAAAAAAAQFhA",
          "dtype": "f8"
         },
         "yaxis": "y"
        },
        {
         "hovertemplate": "<b>OLS trendline</b><br>Nitrogen (%) = -0.00308482 * Year + 103.28<br>R<sup>2</sup>=0.000794<br><br>State=Arkansas<br>Year=%{x}<br>Nitrogen Usage (%)=%{y} <b>(trend)</b><extra></extra>",
         "legendgroup": "Arkansas",
         "marker": {
          "color": "#00cc96",
          "symbol": "circle"
         },
         "mode": "lines",
         "name": "Arkansas",
         "showlegend": false,
         "type": "scatter",
         "x": {
          "bdata": "rAetB64HrwewB7EHsgezB7QHtQe2B7cHuAe5B7oHuwe8B70Hvge/B8AHwQfCB8MHxAfFB8YHxwfIB8kHygfLB8wHzQfOB88H0AfRB9IH0wfUB9UH1gfXB9gH2QfaB9sH3AfdB94H3wfgB+EH",
          "dtype": "i2"
         },
         "xaxis": "x",
         "y": {
          "bdata": "Km53filOWEBOAMzz9k1YQHGSIGnETVhAlCR13pFNWEC4tslTX01YQNtIHsksTVhA/tpyPvpMWEAibcezx0xYQEX/GymVTFhAaJFwnmJMWECLI8UTMExYQK+1GYn9S1hA0kdu/spLWED12cJzmEtYQBlsF+llS1hAPP5rXjNLWEBfkMDTAEtYQIMiFUnOSlhAprRpvptKWEDJRr4zaUpYQOzYEqk2SlhAEGtnHgRKWEAz/buT0UlYQFaPEAmfSVhAeiFlfmxJWECds7nzOUlYQMBFDmkHSVhA5Ndi3tRIWEAHardTokhYQCr8C8lvSFhATo5gPj1IWEBxILWzCkhYQJSyCSnYR1hAt0RenqVHWEDb1rITc0dYQP5oB4lAR1hAIftb/g1HWEBFjbBz20ZYQGgfBemoRlhAi7FZXnZGWECvQ67TQ0ZYQNLVAkkRRlhA9WdXvt5FWEAY+qszrEVYQDyMAKl5RVhAXx5VHkdFWECCsKmTFEVYQKZC/gjiRFhAydRSfq9EWEDsZqfzfERYQBD5+2hKRFhAM4tQ3hdEWEBWHaVT5UNYQHqv+ciyQ1hA",
          "dtype": "f8"
         },
         "yaxis": "y"
        },
        {
         "customdata": [
          [
           "California",
           111
          ],
          [
           "California",
           150
          ],
          [
           "California",
           138
          ],
          [
           "California",
           145
          ],
          [
           "California",
           157
          ],
          [
           "California",
           135
          ],
          [
           "California",
           129
          ],
          [
           "California",
           124
          ],
          [
           "California",
           121
          ],
          [
           "California",
           125
          ],
          [
           "California",
           104
          ],
          [
           "California",
           137
          ],
          [
           "California",
           146
          ],
          [
           "California",
           142
          ],
          [
           "California",
           120
          ],
          [
           "California",
           106
          ],
          [
           "California",
           108
          ],
          [
           "California",
           110
          ],
          [
           "California",
           117
          ],
          [
           "California",
           117
          ],
          [
           "California",
           116
          ],
          [
           "California",
           118
          ],
          [
           "California",
           104
          ],
          [
           "California",
           115
          ],
          [
           "California",
           124
          ],
          [
           "California",
           123
          ],
          [
           "California",
           140
          ],
          [
           "California",
           138
          ],
          [
           "California",
           131
          ],
          [
           "California",
           139
          ],
          [
           "California",
           188
          ],
          [
           "California",
           167
          ],
          [
           "California",
           175
          ],
          [
           "California",
           145
          ],
          [
           "California",
           128
          ],
          [
           "California",
           154
          ],
          [
           "California",
           139
          ],
          [
           "California",
           131.175
          ],
          [
           "California",
           131.175
          ],
          [
           "California",
           141
          ],
          [
           "California",
           131.175
          ],
          [
           "California",
           131.175
          ],
          [
           "California",
           131.175
          ],
          [
           "California",
           123
          ],
          [
           "California",
           131.175
          ],
          [
           "California",
           131.175
          ],
          [
           "California",
           131.175
          ],
          [
           "California",
           131.175
          ],
          [
           "California",
           131.175
          ],
          [
           "California",
           131.175
          ],
          [
           "California",
           131.175
          ],
          [
           "California",
           97
          ],
          [
           "California",
           131.175
          ],
          [
           "California",
           131.175
          ]
         ],
         "hovertemplate": "State=%{customdata[0]}<br>Year=%{x}<br>Nitrogen Usage (%)=%{y}<br>Nitrogen (Pounds/Acre)=%{customdata[1]}<extra></extra>",
         "legendgroup": "California",
         "marker": {
          "color": "#ab63fa",
          "symbol": "circle"
         },
         "mode": "markers",
         "name": "California",
         "orientation": "v",
         "showlegend": true,
         "type": "scatter",
         "x": {
          "bdata": "rAetB64HrwewB7EHsgezB7QHtQe2B7cHuAe5B7oHuwe8B70Hvge/B8AHwQfCB8MHxAfFB8YHxwfIB8kHygfLB8wHzQfOB88H0AfRB9IH0wfUB9UH1gfXB9gH2QfaB9sH3AfdB94H3wfgB+EH",
          "dtype": "i2"
         },
         "xaxis": "x",
         "y": {
          "bdata": "AAAAAADAV0AAAAAAAABYQAAAAAAAgFdAAAAAAADAVkAAAAAAAIBXQAAAAAAAQFdAAAAAAAAAV0AAAAAAAIBWQAAAAAAAAFdAAAAAAAAAVkAAAAAAAABVQAAAAAAAgFVAAAAAAACAV0AAAAAAAMBXQAAAAAAAAFhAAAAAAACAV0AAAAAAAMBXQAAAAAAAQFhAAAAAAADAV0AAAAAAAMBXQAAAAAAAwFZAAAAAAADAVUAAAAAAAABXQAAAAAAAQFdAAAAAAABAV0AAAAAAAEBYQAAAAAAAgFdAAAAAAADAV0AAAAAAAEBYQAAAAAAAgFhAAAAAAAAAWEAAAAAAAMBYQAAAAAAAAFhAAAAAAAAAWEAAAAAAAIBYQAAAAAAAwFhAAAAAAACAWEBmZmZmZn5XQGZmZmZmfldAAAAAAACAV0BmZmZmZn5XQGZmZmZmfldAZmZmZmZ+V0AAAAAAAABYQGZmZmZmfldAZmZmZmZ+V0BmZmZmZn5XQGZmZmZmfldAZmZmZmZ+V0BmZmZmZn5XQGZmZmZmfldAAAAAAACAV0BmZmZmZn5XQGZmZmZmfldA",
          "dtype": "f8"
         },
         "yaxis": "y"
        },
        {
         "hovertemplate": "<b>OLS trendline</b><br>Nitrogen (%) = 0.0567925 * Year + -19.0704<br>R<sup>2</sup>=0.093402<br><br>State=California<br>Year=%{x}<br>Nitrogen Usage (%)=%{y} <b>(trend)</b><extra></extra>",
         "legendgroup": "California",
         "marker": {
          "color": "#ab63fa",
          "symbol": "circle"
         },
         "mode": "lines",
         "name": "California",
         "showlegend": false,
         "type": "scatter",
         "x": {
          "bdata": "rAetB64HrwewB7EHsgezB7QHtQe2B7cHuAe5B7oHuwe8B70Hvge/B8AHwQfCB8MHxAfFB8YHxwfIB8kHygfLB8wHzQfOB88H0AfRB9IH0wfUB9UH1gfXB9gH2QfaB9sH3AfdB94H3wfgB+EH",
          "dtype": "i2"
         },
         "xaxis": "x",
         "y": {
          "bdata": "60fhehQeV0AYLLH3tiFXQEYQgXRZJVdAdPRQ8fsoV0Ch2CBunixXQM+88OpAMFdA/KDAZ+MzV0AqhZDkhTdXQFdpYGEoO1dAhU0w3so+V0CzMQBbbUJXQOAV0NcPRldADvqfVLJJV0A73m/RVE1XQGnCP073UFdAl6YPy5lUV0DEit9HPFhXQPJur8TeW1dAH1N/QYFfV0BNN0++I2NXQHobHzvGZldAqP/ut2hqV0DW4740C25XQAPIjrGtcVdAMaxeLlB1V0BekC6r8nhXQIx0/ieVfFdAuljOpDeAV0DnPJ4h2oNXQBUhbp58h1dAQgU+Gx+LV0Bw6Q2YwY5XQJ7N3RRkkldAy7GtkQaWV0D5lX0OqZlXQCZ6TYtLnVdAVF4dCO6gV0CBQu2EkKRXQK8mvQEzqFdA3QqNftWrV0AK71z7d69XQDjTLHgas1dAZbf89Ly2V0CTm8xxX7pXQMF/nO4BvldA7mNsa6TBV0AcSDzoRsVXQEksDGXpyFdAdxDc4YvMV0Ck9KteLtBXQNLYe9vQ01dAAL1LWHPXV0AtoRvVFdtXQFuF61G43ldA",
          "dtype": "f8"
         },
         "yaxis": "y"
        },
        {
         "customdata": [
          [
           "Georgia",
           80
          ],
          [
           "Georgia",
           86
          ],
          [
           "Georgia",
           104
          ],
          [
           "Georgia",
           102
          ],
          [
           "Georgia",
           97
          ],
          [
           "Georgia",
           105
          ],
          [
           "Georgia",
           92
          ],
          [
           "Georgia",
           94
          ],
          [
           "Georgia",
           82
          ],
          [
           "Georgia",
           95
          ],
          [
           "Georgia",
           119
          ],
          [
           "Georgia",
           130
          ],
          [
           "Georgia",
           92
          ],
          [
           "Georgia",
           109
          ],
          [
           "Georgia",
           78
          ],
          [
           "Georgia",
           69
          ],
          [
           "Georgia",
           80
          ],
          [
           "Georgia",
           63
          ],
          [
           "Georgia",
           79
          ],
          [
           "Georgia",
           72
          ],
          [
           "Georgia",
           69
          ],
          [
           "Georgia",
           78
          ],
          [
           "Georgia",
           80
          ],
          [
           "Georgia",
           90.52941176470588
          ],
          [
           "Georgia",
           90.52941176470588
          ],
          [
           "Georgia",
           90.52941176470588
          ],
          [
           "Georgia",
           90.52941176470588
          ],
          [
           "Georgia",
           90.52941176470588
          ],
          [
           "Georgia",
           90.52941176470588
          ],
          [
           "Georgia",
           90.52941176470588
          ],
          [
           "Georgia",
           90.52941176470588
          ],
          [
           "Georgia",
           90.52941176470588
          ],
          [
           "Georgia",
           104
          ],
          [
           "Georgia",
           92
          ],
          [
           "Georgia",
           91
          ],
          [
           "Georgia",
           87
          ],
          [
           "Georgia",
           87
          ],
          [
           "Georgia",
           79
          ],
          [
           "Georgia",
           90.52941176470588
          ],
          [
           "Georgia",
           96
          ],
          [
           "Georgia",
           90.52941176470588
          ],
          [
           "Georgia",
           90.52941176470588
          ],
          [
           "Georgia",
           90.52941176470588
          ],
          [
           "Georgia",
           90
          ],
          [
           "Georgia",
           90.52941176470588
          ],
          [
           "Georgia",
           90.52941176470588
          ],
          [
           "Georgia",
           95
          ],
          [
           "Georgia",
           90.52941176470588
          ],
          [
           "Georgia",
           90.52941176470588
          ],
          [
           "Georgia",
           90.52941176470588
          ],
          [
           "Georgia",
           90.52941176470588
          ],
          [
           "Georgia",
           90
          ],
          [
           "Georgia",
           90.52941176470588
          ],
          [
           "Georgia",
           112
          ]
         ],
         "hovertemplate": "State=%{customdata[0]}<br>Year=%{x}<br>Nitrogen Usage (%)=%{y}<br>Nitrogen (Pounds/Acre)=%{customdata[1]}<extra></extra>",
         "legendgroup": "Georgia",
         "marker": {
          "color": "#FFA15A",
          "symbol": "circle"
         },
         "mode": "markers",
         "name": "Georgia",
         "orientation": "v",
         "showlegend": true,
         "type": "scatter",
         "x": {
          "bdata": "rAetB64HrwewB7EHsgezB7QHtQe2B7cHuAe5B7oHuwe8B70Hvge/B8AHwQfCB8MHxAfFB8YHxwfIB8kHygfLB8wHzQfOB88H0AfRB9IH0wfUB9UH1gfXB9gH2QfaB9sH3AfdB94H3wfgB+EH",
          "dtype": "i2"
         },
         "xaxis": "x",
         "y": {
          "bdata": "AAAAAAAAWUAAAAAAAMBYQAAAAAAAAFlAAAAAAAAAWUAAAAAAAABZQAAAAAAAAFlAAAAAAAAAWUAAAAAAAABZQAAAAAAAAFlAAAAAAAAAWUAAAAAAAABZQAAAAAAAAFlAAAAAAAAAWUAAAAAAAABZQAAAAAAAAFlAAAAAAACAVUAAAAAAAEBXQAAAAAAAAFlAAAAAAAAAWUAAAAAAAABZQAAAAAAAAFlAAAAAAAAAWUAAAAAAAABXQDw8PDw8nFhAPDw8PDycWEA8PDw8PJxYQDw8PDw8nFhAPDw8PDycWEA8PDw8PJxYQDw8PDw8nFhAPDw8PDycWEA8PDw8PJxYQAAAAAAAwFhAAAAAAADAV0AAAAAAAABYQAAAAAAAAFlAAAAAAAAAWEAAAAAAAMBYQDw8PDw8nFhAAAAAAAAAWUA8PDw8PJxYQDw8PDw8nFhAPDw8PDycWEAAAAAAAIBYQDw8PDw8nFhAPDw8PDycWEAAAAAAAMBXQDw8PDw8nFhAPDw8PDycWEA8PDw8PJxYQDw8PDw8nFhAAAAAAADAWEA8PDw8PJxYQAAAAAAAAFlA",
          "dtype": "f8"
         },
         "yaxis": "y"
        },
        {
         "hovertemplate": "<b>OLS trendline</b><br>Nitrogen (%) = -0.0229689 * Year + 144.161<br>R<sup>2</sup>=0.021873<br><br>State=Georgia<br>Year=%{x}<br>Nitrogen Usage (%)=%{y} <b>(trend)</b><extra></extra>",
         "legendgroup": "Georgia",
         "marker": {
          "color": "#FFA15A",
          "symbol": "circle"
         },
         "mode": "lines",
         "name": "Georgia",
         "showlegend": false,
         "type": "scatter",
         "x": {
          "bdata": "rAetB64HrwewB7EHsgezB7QHtQe2B7cHuAe5B7oHuwe8B70Hvge/B8AHwQfCB8MHxAfFB8YHxwfIB8kHygfLB8wHzQfOB88H0AfRB9IH0wfUB9UH1gfXB9gH2QfaB9sH3AfdB94H3wfgB+EH",
          "dtype": "i2"
         },
         "xaxis": "x",
         "y": {
          "bdata": "OQIpxDDDWEBWeL9xuMFYQHPuVR9AwFhAkGTszMe+WECu2oJ6T71YQMpQGSjXu1hA6Mav1V66WEAFPUaD5rhYQCKz3DBut1hAPylz3vW1WEBcnwmMfbRYQHoVoDkFs1hAlos254yxWEC0Ac2UFLBYQNB3Y0KcrlhA7u357yOtWEALZJCdq6tYQCjaJkszqlhARVC9+LqoWEBixlOmQqdYQIA86lPKpVhAnLKAAVKkWEC6KBev2aJYQNeerVxhoVhA9BRECumfWEARi9q3cJ5YQC4BcWX4nFhATHcHE4CbWEBo7Z3AB5pYQIZjNG6PmFhAo9nKGxeXWEDAT2HJnpVYQN3F93YmlFhA+juOJK6SWEAYsiTSNZFYQDQou3+9j1hAUp5RLUWOWEBvFOjazIxYQIyKfohUi1hAqQAVNtyJWEDGdqvjY4hYQOTsQZHrhlhAAGPYPnOFWEAe2W7s+oNYQDpPBZqCglhAWMWbRwqBWEB1OzL1kX9YQJKxyKIZflhArydfUKF8WEDMnfX9KHtYQOoTjKuweVhABooiWTh4WEAkALkGwHZYQEF2T7RHdVhA",
          "dtype": "f8"
         },
         "yaxis": "y"
        },
        {
         "customdata": [
          [
           "Louisiana",
           54
          ],
          [
           "Louisiana",
           56
          ],
          [
           "Louisiana",
           69
          ],
          [
           "Louisiana",
           69
          ],
          [
           "Louisiana",
           76
          ],
          [
           "Louisiana",
           63
          ],
          [
           "Louisiana",
           81
          ],
          [
           "Louisiana",
           69
          ],
          [
           "Louisiana",
           73
          ],
          [
           "Louisiana",
           71
          ],
          [
           "Louisiana",
           69
          ],
          [
           "Louisiana",
           69
          ],
          [
           "Louisiana",
           72
          ],
          [
           "Louisiana",
           70
          ],
          [
           "Louisiana",
           78
          ],
          [
           "Louisiana",
           68
          ],
          [
           "Louisiana",
           69
          ],
          [
           "Louisiana",
           73
          ],
          [
           "Louisiana",
           74
          ],
          [
           "Louisiana",
           69
          ],
          [
           "Louisiana",
           81
          ],
          [
           "Louisiana",
           80
          ],
          [
           "Louisiana",
           95
          ],
          [
           "Louisiana",
           74
          ],
          [
           "Louisiana",
           88
          ],
          [
           "Louisiana",
           86
          ],
          [
           "Louisiana",
           77
          ],
          [
           "Louisiana",
           100
          ],
          [
           "Louisiana",
           78
          ],
          [
           "Louisiana",
           85
          ],
          [
           "Louisiana",
           157
          ],
          [
           "Louisiana",
           117
          ],
          [
           "Louisiana",
           74
          ],
          [
           "Louisiana",
           79
          ],
          [
           "Louisiana",
           90
          ],
          [
           "Louisiana",
           85
          ],
          [
           "Louisiana",
           86
          ],
          [
           "Louisiana",
           86
          ],
          [
           "Louisiana",
           79.6
          ],
          [
           "Louisiana",
           87
          ],
          [
           "Louisiana",
           79.6
          ],
          [
           "Louisiana",
           79.6
          ],
          [
           "Louisiana",
           79.6
          ],
          [
           "Louisiana",
           87
          ],
          [
           "Louisiana",
           79.6
          ],
          [
           "Louisiana",
           79.6
          ],
          [
           "Louisiana",
           79.6
          ],
          [
           "Louisiana",
           79.6
          ],
          [
           "Louisiana",
           79.6
          ],
          [
           "Louisiana",
           79.6
          ],
          [
           "Louisiana",
           79.6
          ],
          [
           "Louisiana",
           79.6
          ],
          [
           "Louisiana",
           79.6
          ],
          [
           "Louisiana",
           79.6
          ]
         ],
         "hovertemplate": "State=%{customdata[0]}<br>Year=%{x}<br>Nitrogen Usage (%)=%{y}<br>Nitrogen (Pounds/Acre)=%{customdata[1]}<extra></extra>",
         "legendgroup": "Louisiana",
         "marker": {
          "color": "#19d3f3",
          "symbol": "circle"
         },
         "mode": "markers",
         "name": "Louisiana",
         "orientation": "v",
         "showlegend": true,
         "type": "scatter",
         "x": {
          "bdata": "rAetB64HrwewB7EHsgezB7QHtQe2B7cHuAe5B7oHuwe8B70Hvge/B8AHwQfCB8MHxAfFB8YHxwfIB8kHygfLB8wHzQfOB88H0AfRB9IH0wfUB9UH1gfXB9gH2QfaB9sH3AfdB94H3wfgB+EH",
          "dtype": "i2"
         },
         "xaxis": "x",
         "y": {
          "bdata": "AAAAAABAWEAAAAAAAEBXQAAAAAAAgFZAAAAAAADAVkAAAAAAAABXQAAAAAAAQFhAAAAAAADAV0AAAAAAAIBYQAAAAAAAgFhAAAAAAADAVkAAAAAAAIBYQAAAAAAAgFhAAAAAAACAWEAAAAAAAIBYQAAAAAAAwFhAAAAAAAAAWUAAAAAAAABYQAAAAAAAgFhAAAAAAACAWEAAAAAAAABZQAAAAAAAwFhAAAAAAAAAWUAAAAAAAABZQAAAAAAAAFlAAAAAAACAV0AAAAAAAABZQAAAAAAAwFhAAAAAAACAVkAAAAAAAIBYQAAAAAAAgFVAAAAAAAAAV0AAAAAAAABWQAAAAAAAwFZAAAAAAACAWEAAAAAAAMBYQAAAAAAAAFlAAAAAAAAAWUAAAAAAAMBXQM3MzMzMFFhAAAAAAADAWEDNzMzMzBRYQM3MzMzMFFhAzczMzMwUWEAAAAAAAABZQM3MzMzMFFhAzczMzMwUWEDNzMzMzBRYQM3MzMzMFFhAzczMzMwUWEDNzMzMzBRYQM3MzMzMFFhAzczMzMwUWEDNzMzMzBRYQM3MzMzMFFhA",
          "dtype": "f8"
         },
         "yaxis": "y"
        },
        {
         "hovertemplate": "<b>OLS trendline</b><br>Nitrogen (%) = 0.0195826 * Year + 57.3458<br>R<sup>2</sup>=0.008602<br><br>State=Louisiana<br>Year=%{x}<br>Nitrogen Usage (%)=%{y} <b>(trend)</b><extra></extra>",
         "legendgroup": "Louisiana",
         "marker": {
          "color": "#19d3f3",
          "symbol": "circle"
         },
         "mode": "lines",
         "name": "Louisiana",
         "showlegend": false,
         "type": "scatter",
         "x": {
          "bdata": "rAetB64HrwewB7EHsgezB7QHtQe2B7cHuAe5B7oHuwe8B70Hvge/B8AHwQfCB8MHxAfFB8YHxwfIB8kHygfLB8wHzQfOB88H0AfRB9IH0wfUB9UH1gfXB9gH2QfaB9sH3AfdB94H3wfgB+EH",
          "dtype": "i2"
         },
         "xaxis": "x",
         "y": {
          "bdata": "1mc5f5bzV0DeD65W1/RXQOa3Ii4Y9ldA7l+XBVn3V0D3BwzdmfhXQP+vgLTa+VdAB1j1ixv7V0AQAGpjXPxXQBio3jqd/VdAIFBTEt7+V0Ao+MfpHgBYQDCgPMFfAVhAOEixmKACWEBA8CVw4QNYQEmYmkciBVhAUUAPH2MGWEBa6IP2owdYQGKQ+M3kCFhAajhtpSUKWEBy4OF8ZgtYQHqIVlSnDFhAgjDLK+gNWECK2D8DKQ9YQJOAtNppEFhAmygpsqoRWECk0J2J6xJYQKx4EmEsFFhAtCCHOG0VWEC8yPsPrhZYQMRwcOfuF1hAzBjlvi8ZWEDUwFmWcBpYQN1ozm2xG1hA5RBDRfIcWEDuuLccMx5YQPZgLPRzH1hA/gihy7QgWEAGsRWj9SFYQA5Zino2I1hAFgH/UXckWEAeqXMpuCVYQCdR6AD5JlhAL/lc2DkoWEA3odGveilYQEBJRoe7KlhASPG6XvwrWEBQmS82PS1YQFhBpA1+LlhAYOkY5b4vWEBokY28/zBYQHA5ApRAMlhAeeF2a4EzWECBietCwjRYQIoxYBoDNlhA",
          "dtype": "f8"
         },
         "yaxis": "y"
        },
        {
         "customdata": [
          [
           "Mississippi",
           77
          ],
          [
           "Mississippi",
           104
          ],
          [
           "Mississippi",
           98
          ],
          [
           "Mississippi",
           98
          ],
          [
           "Mississippi",
           91
          ],
          [
           "Mississippi",
           93
          ],
          [
           "Mississippi",
           96
          ],
          [
           "Mississippi",
           93
          ],
          [
           "Mississippi",
           92
          ],
          [
           "Mississippi",
           90
          ],
          [
           "Mississippi",
           103
          ],
          [
           "Mississippi",
           92
          ],
          [
           "Mississippi",
           90
          ],
          [
           "Mississippi",
           98
          ],
          [
           "Mississippi",
           92
          ],
          [
           "Mississippi",
           87
          ],
          [
           "Mississippi",
           92
          ],
          [
           "Mississippi",
           91
          ],
          [
           "Mississippi",
           94
          ],
          [
           "Mississippi",
           98
          ],
          [
           "Mississippi",
           103
          ],
          [
           "Mississippi",
           104
          ],
          [
           "Mississippi",
           102
          ],
          [
           "Mississippi",
           106
          ],
          [
           "Mississippi",
           110
          ],
          [
           "Mississippi",
           103
          ],
          [
           "Mississippi",
           109
          ],
          [
           "Mississippi",
           109
          ],
          [
           "Mississippi",
           112
          ],
          [
           "Mississippi",
           111
          ],
          [
           "Mississippi",
           122
          ],
          [
           "Mississippi",
           112
          ],
          [
           "Mississippi",
           100
          ],
          [
           "Mississippi",
           109
          ],
          [
           "Mississippi",
           107
          ],
          [
           "Mississippi",
           111
          ],
          [
           "Mississippi",
           114
          ],
          [
           "Mississippi",
           112
          ],
          [
           "Mississippi",
           101.72093023255815
          ],
          [
           "Mississippi",
           109
          ],
          [
           "Mississippi",
           101.72093023255815
          ],
          [
           "Mississippi",
           101.72093023255815
          ],
          [
           "Mississippi",
           101.72093023255815
          ],
          [
           "Mississippi",
           117
          ],
          [
           "Mississippi",
           101.72093023255815
          ],
          [
           "Mississippi",
           101.72093023255815
          ],
          [
           "Mississippi",
           100
          ],
          [
           "Mississippi",
           101.72093023255815
          ],
          [
           "Mississippi",
           101.72093023255815
          ],
          [
           "Mississippi",
           101.72093023255815
          ],
          [
           "Mississippi",
           101.72093023255815
          ],
          [
           "Mississippi",
           107
          ],
          [
           "Mississippi",
           101.72093023255815
          ],
          [
           "Mississippi",
           116
          ]
         ],
         "hovertemplate": "State=%{customdata[0]}<br>Year=%{x}<br>Nitrogen Usage (%)=%{y}<br>Nitrogen (Pounds/Acre)=%{customdata[1]}<extra></extra>",
         "legendgroup": "Mississippi",
         "marker": {
          "color": "#FF6692",
          "symbol": "circle"
         },
         "mode": "markers",
         "name": "Mississippi",
         "orientation": "v",
         "showlegend": true,
         "type": "scatter",
         "x": {
          "bdata": "rAetB64HrwewB7EHsgezB7QHtQe2B7cHuAe5B7oHuwe8B70Hvge/B8AHwQfCB8MHxAfFB8YHxwfIB8kHygfLB8wHzQfOB88H0AfRB9IH0wfUB9UH1gfXB9gH2QfaB9sH3AfdB94H3wfgB+EH",
          "dtype": "i2"
         },
         "xaxis": "x",
         "y": {
          "bdata": "AAAAAADAWEAAAAAAAABZQAAAAAAAgFhAAAAAAABAWEAAAAAAAABZQAAAAAAAAFlAAAAAAADAWEAAAAAAAABZQAAAAAAAAFlAAAAAAAAAWUAAAAAAAABZQAAAAAAAAFlAAAAAAAAAWUAAAAAAAMBYQAAAAAAAwFhAAAAAAAAAWUAAAAAAAMBYQAAAAAAAwFhAAAAAAAAAWUAAAAAAAMBYQAAAAAAAgFhAAAAAAACAWEAAAAAAAABYQAAAAAAAAFlAAAAAAACAWEAAAAAAAABZQAAAAAAAwFhAAAAAAAAAWUAAAAAAAABZQAAAAAAAwFdAAAAAAAAAWUAAAAAAAABZQAAAAAAAgFhAAAAAAAAAWUAAAAAAAEBYQAAAAAAAAFlAAAAAAAAAWUAAAAAAAMBYQF/QF/QFvVhAAAAAAADAWEBf0Bf0Bb1YQF/QF/QFvVhAX9AX9AW9WEAAAAAAAABZQF/QF/QFvVhAX9AX9AW9WEAAAAAAAMBXQF/QF/QFvVhAX9AX9AW9WEBf0Bf0Bb1YQF/QF/QFvVhAAAAAAAAAWEBf0Bf0Bb1YQAAAAAAAwFhA",
          "dtype": "f8"
         },
         "yaxis": "y"
        },
        {
         "hovertemplate": "<b>OLS trendline</b><br>Nitrogen (%) = -0.0181065 * Year + 134.994<br>R<sup>2</sup>=0.051253<br><br>State=Mississippi<br>Year=%{x}<br>Nitrogen Usage (%)=%{y} <b>(trend)</b><extra></extra>",
         "legendgroup": "Mississippi",
         "marker": {
          "color": "#FF6692",
          "symbol": "circle"
         },
         "mode": "lines",
         "name": "Mississippi",
         "showlegend": false,
         "type": "scatter",
         "x": {
          "bdata": "rAetB64HrwewB7EHsgezB7QHtQe2B7cHuAe5B7oHuwe8B70Hvge/B8AHwQfCB8MHxAfFB8YHxwfIB8kHygfLB8wHzQfOB88H0AfRB9IH0wfUB9UH1gfXB9gH2QfaB9sH3AfdB94H3wfgB+EH",
          "dtype": "i2"
         },
         "xaxis": "x",
         "y": {
          "bdata": "jMM0WbvbWEDTAiqxktpYQBpCHwlq2VhAYoEUYUHYWECqwAm5GNdYQPL//hDw1VhAOT/0aMfUWECAfunAntNYQMi93hh20lhAEP3TcE3RWEBXPMnIJNBYQJ97viD8zlhA5rqzeNPNWEAu+qjQqsxYQHY5niiCy1hAvXiTgFnKWEAEuIjYMMlYQEz3fTAIyFhAlDZziN/GWEDcdWjgtsVYQCO1XTiOxFhAavRSkGXDWECyM0joPMJYQPpyPUAUwVhAQrIymOu/WECJ8Sfwwr5YQNAwHUiavVhAGHASoHG8WEBgrwf4SLtYQKfu/E8gulhA7y3yp/e4WEA2bef/zrdYQH6s3FemtlhAxuvRr321WEANK8cHVbRYQFRqvF8ss1hAnKmxtwOyWEDk6KYP27BYQCwonGeyr1hAc2eRv4muWEC6poYXYa1YQALme284rFhASiVxxw+rWECSZGYf56lYQNmjW3e+qFhAIONQz5WnWEBoIkYnbaZYQLBhO39EpVhA96Aw1xukWEA/4CUv86JYQIYfG4fKoVhAzl4Q36GgWEAWngU3eZ9YQF3d+o5QnlhA",
          "dtype": "f8"
         },
         "yaxis": "y"
        },
        {
         "customdata": [
          [
           "Missouri",
           85
          ],
          [
           "Missouri",
           64
          ],
          [
           "Missouri",
           71
          ],
          [
           "Missouri",
           50
          ],
          [
           "Missouri",
           54
          ],
          [
           "Missouri",
           56
          ],
          [
           "Missouri",
           57
          ],
          [
           "Missouri",
           55
          ],
          [
           "Missouri",
           63
          ],
          [
           "Missouri",
           47
          ],
          [
           "Missouri",
           60
          ],
          [
           "Missouri",
           56
          ],
          [
           "Missouri",
           36
          ],
          [
           "Missouri",
           49
          ],
          [
           "Missouri",
           44
          ],
          [
           "Missouri",
           52
          ],
          [
           "Missouri",
           55
          ],
          [
           "Missouri",
           47
          ],
          [
           "Missouri",
           54
          ],
          [
           "Missouri",
           44
          ],
          [
           "Missouri",
           70
          ],
          [
           "Missouri",
           56
          ],
          [
           "Missouri",
           57
          ],
          [
           "Missouri",
           67.3
          ],
          [
           "Missouri",
           67.3
          ],
          [
           "Missouri",
           67.3
          ],
          [
           "Missouri",
           67.3
          ],
          [
           "Missouri",
           67.3
          ],
          [
           "Missouri",
           67.3
          ],
          [
           "Missouri",
           67.3
          ],
          [
           "Missouri",
           67.3
          ],
          [
           "Missouri",
           67.3
          ],
          [
           "Missouri",
           67.3
          ],
          [
           "Missouri",
           112
          ],
          [
           "Missouri",
           67.3
          ],
          [
           "Missouri",
           67.3
          ],
          [
           "Missouri",
           101
          ],
          [
           "Missouri",
           67.3
          ],
          [
           "Missouri",
           67.3
          ],
          [
           "Missouri",
           89
          ],
          [
           "Missouri",
           67.3
          ],
          [
           "Missouri",
           67.3
          ],
          [
           "Missouri",
           67.3
          ],
          [
           "Missouri",
           97
          ],
          [
           "Missouri",
           67.3
          ],
          [
           "Missouri",
           67.3
          ],
          [
           "Missouri",
           130
          ],
          [
           "Missouri",
           67.3
          ],
          [
           "Missouri",
           67.3
          ],
          [
           "Missouri",
           67.3
          ],
          [
           "Missouri",
           67.3
          ],
          [
           "Missouri",
           96
          ],
          [
           "Missouri",
           67.3
          ],
          [
           "Missouri",
           112
          ]
         ],
         "hovertemplate": "State=%{customdata[0]}<br>Year=%{x}<br>Nitrogen Usage (%)=%{y}<br>Nitrogen (Pounds/Acre)=%{customdata[1]}<extra></extra>",
         "legendgroup": "Missouri",
         "marker": {
          "color": "#B6E880",
          "symbol": "circle"
         },
         "mode": "markers",
         "name": "Missouri",
         "orientation": "v",
         "showlegend": true,
         "type": "scatter",
         "x": {
          "bdata": "rAetB64HrwewB7EHsgezB7QHtQe2B7cHuAe5B7oHuwe8B70Hvge/B8AHwQfCB8MHxAfFB8YHxwfIB8kHygfLB8wHzQfOB88H0AfRB9IH0wfUB9UH1gfXB9gH2QfaB9sH3AfdB94H3wfgB+EH",
          "dtype": "i2"
         },
         "xaxis": "x",
         "y": {
          "bdata": "AAAAAAAAWUAAAAAAAMBYQAAAAAAAgFdAAAAAAADAWEAAAAAAAEBXQAAAAAAAgFdAAAAAAACAVkAAAAAAAMBYQAAAAAAAAFlAAAAAAAAAVkAAAAAAAEBYQAAAAAAAAFhAAAAAAACAVkAAAAAAAABYQAAAAAAAwFZAAAAAAAAAWEAAAAAAAABZQAAAAAAAAFdAAAAAAAAAWUAAAAAAAABZQAAAAAAAAFlAAAAAAACAWEAAAAAAAABZQLy7u7u7O1hAvLu7u7s7WEC8u7u7uztYQLy7u7u7O1hAvLu7u7s7WEC8u7u7uztYQLy7u7u7O1hAvLu7u7s7WEC8u7u7uztYQLy7u7u7O1hAAAAAAAAAWUC8u7u7uztYQLy7u7u7O1hAAAAAAAAAWUC8u7u7uztYQLy7u7u7O1hAAAAAAAAAWUC8u7u7uztYQLy7u7u7O1hAvLu7u7s7WEAAAAAAAIBYQLy7u7u7O1hAvLu7u7s7WEAAAAAAAABZQLy7u7u7O1hAvLu7u7s7WEC8u7u7uztYQLy7u7u7O1hAAAAAAAAAWUC8u7u7uztYQAAAAAAAgFhA",
          "dtype": "f8"
         },
         "yaxis": "y"
        },
        {
         "hovertemplate": "<b>OLS trendline</b><br>Nitrogen (%) = 0.0493946 * Year + -1.38657<br>R<sup>2</sup>=0.080038<br><br>State=Missouri<br>Year=%{x}<br>Nitrogen Usage (%)=%{y} <b>(trend)</b><extra></extra>",
         "legendgroup": "Missouri",
         "marker": {
          "color": "#B6E880",
          "symbol": "circle"
         },
         "mode": "lines",
         "name": "Missouri",
         "showlegend": false,
         "type": "scatter",
         "x": {
          "bdata": "rAetB64HrwewB7EHsgezB7QHtQe2B7cHuAe5B7oHuwe8B70Hvge/B8AHwQfCB8MHxAfFB8YHxwfIB8kHygfLB8wHzQfOB88H0AfRB9IH0wfUB9UH1gfXB9gH2QfaB9sH3AfdB94H3wfgB+EH",
          "dtype": "i2"
         },
         "xaxis": "x",
         "y": {
          "bdata": "Jetiy/XnV0DpoD8TH+tXQK1WHFtI7ldAcQz5onHxV0A1wtXqmvRXQPl3sjLE91dAvS2Peu36V0CB42vCFv5XQEaZSApAAVhACk8lUmkEWEDOBAKakgdYQJK63uG7ClhAVnC7KeUNWEAaJphxDhFYQN7bdLk3FFhAo5FRAWEXWEBnRy5JihpYQCv9CpGzHVhA77Ln2NwgWECzaMQgBiRYQHceoWgvJ1hAO9R9sFgqWEAAilr4gS1YQMQ/N0CrMFhAiPUTiNQzWEBMq/DP/TZYQBBhzRcnOlhA1BaqX1A9WECYzIaneUBYQFyCY++iQ1hAIThAN8xGWEDl7Rx/9UlYQKmj+cYeTVhAbVnWDkhQWEAxD7NWcVNYQPXEj56aVlhAuXps5sNZWEB+MEku7VxYQELmJXYWYFhABpwCvj9jWEDKUd8FaWZYQI4HvE2SaVhAUr2YlbtsWEAWc3Xd5G9YQNsoUiUOc1hAn94ubTd2WEBjlAu1YHlYQCdK6PyJfFhA6//ERLN/WECvtaGM3IJYQHNrftQFhlhANyFbHC+JWED81jdkWIxYQMCMFKyBj1hA",
          "dtype": "f8"
         },
         "yaxis": "y"
        },
        {
         "customdata": [
          [
           "New Mexico",
           85
          ],
          [
           "New Mexico",
           81
          ],
          [
           "New Mexico",
           73
          ],
          [
           "New Mexico",
           67
          ],
          [
           "New Mexico",
           83
          ],
          [
           "New Mexico",
           92
          ],
          [
           "New Mexico",
           72
          ],
          [
           "New Mexico",
           70
          ],
          [
           "New Mexico",
           69
          ],
          [
           "New Mexico",
           60
          ],
          [
           "New Mexico",
           49
          ],
          [
           "New Mexico",
           54
          ],
          [
           "New Mexico",
           59
          ],
          [
           "New Mexico",
           68.19047619047619
          ],
          [
           "New Mexico",
           68.19047619047619
          ],
          [
           "New Mexico",
           61
          ],
          [
           "New Mexico",
           64
          ],
          [
           "New Mexico",
           58
          ],
          [
           "New Mexico",
           64
          ],
          [
           "New Mexico",
           88
          ],
          [
           "New Mexico",
           71
          ],
          [
           "New Mexico",
           58
          ],
          [
           "New Mexico",
           54
          ],
          [
           "New Mexico",
           68.19047619047619
          ],
          [
           "New Mexico",
           68.19047619047619
          ],
          [
           "New Mexico",
           68.19047619047619
          ],
          [
           "New Mexico",
           68.19047619047619
          ],
          [
           "New Mexico",
           68.19047619047619
          ],
          [
           "New Mexico",
           68.19047619047619
          ],
          [
           "New Mexico",
           68.19047619047619
          ],
          [
           "New Mexico",
           68.19047619047619
          ],
          [
           "New Mexico",
           68.19047619047619
          ],
          [
           "New Mexico",
           68.19047619047619
          ],
          [
           "New Mexico",
           68.19047619047619
          ],
          [
           "New Mexico",
           68.19047619047619
          ],
          [
           "New Mexico",
           68.19047619047619
          ],
          [
           "New Mexico",
           68.19047619047619
          ],
          [
           "New Mexico",
           68.19047619047619
          ],
          [
           "New Mexico",
           68.19047619047619
          ],
          [
           "New Mexico",
           68.19047619047619
          ],
          [
           "New Mexico",
           68.19047619047619
          ],
          [
           "New Mexico",
           68.19047619047619
          ],
          [
           "New Mexico",
           68.19047619047619
          ],
          [
           "New Mexico",
           68.19047619047619
          ],
          [
           "New Mexico",
           68.19047619047619
          ],
          [
           "New Mexico",
           68.19047619047619
          ],
          [
           "New Mexico",
           68.19047619047619
          ],
          [
           "New Mexico",
           68.19047619047619
          ],
          [
           "New Mexico",
           68.19047619047619
          ],
          [
           "New Mexico",
           68.19047619047619
          ],
          [
           "New Mexico",
           68.19047619047619
          ],
          [
           "New Mexico",
           68.19047619047619
          ],
          [
           "New Mexico",
           68.19047619047619
          ],
          [
           "New Mexico",
           68.19047619047619
          ]
         ],
         "hovertemplate": "State=%{customdata[0]}<br>Year=%{x}<br>Nitrogen Usage (%)=%{y}<br>Nitrogen (Pounds/Acre)=%{customdata[1]}<extra></extra>",
         "legendgroup": "New Mexico",
         "marker": {
          "color": "#FF97FF",
          "symbol": "circle"
         },
         "mode": "markers",
         "name": "New Mexico",
         "orientation": "v",
         "showlegend": true,
         "type": "scatter",
         "x": {
          "bdata": "rAetB64HrwewB7EHsgezB7QHtQe2B7cHuAe5B7oHuwe8B70Hvge/B8AHwQfCB8MHxAfFB8YHxwfIB8kHygfLB8wHzQfOB88H0AfRB9IH0wfUB9UH1gfXB9gH2QfaB9sH3AfdB94H3wfgB+EH",
          "dtype": "i2"
         },
         "xaxis": "x",
         "y": {
          "bdata": "AAAAAACAT0AAAAAAAMBRQAAAAAAAAEpAAAAAAADAUEAAAAAAAMBQQAAAAAAAgExAAAAAAACATkAAAAAAAABMQAAAAAAAgE5AAAAAAAAAUEAAAAAAAABKQAAAAAAAgEZAAAAAAAAATECGYRiGYRhNQIZhGIZhGE1AAAAAAACAUUAAAAAAAABEQAAAAAAAQFBAAAAAAACAR0AAAAAAAABLQAAAAAAAgFBAAAAAAACATUAAAAAAAIBIQIZhGIZhGE1AhmEYhmEYTUCGYRiGYRhNQIZhGIZhGE1AhmEYhmEYTUCGYRiGYRhNQIZhGIZhGE1AhmEYhmEYTUCGYRiGYRhNQIZhGIZhGE1AhmEYhmEYTUCGYRiGYRhNQIZhGIZhGE1AhmEYhmEYTUCGYRiGYRhNQIZhGIZhGE1AhmEYhmEYTUCGYRiGYRhNQIZhGIZhGE1AhmEYhmEYTUCGYRiGYRhNQIZhGIZhGE1AhmEYhmEYTUCGYRiGYRhNQIZhGIZhGE1AhmEYhmEYTUCGYRiGYRhNQIZhGIZhGE1AhmEYhmEYTUCGYRiGYRhNQIZhGIZhGE1A",
          "dtype": "f8"
         },
         "yaxis": "y"
        },
        {
         "hovertemplate": "<b>OLS trendline</b><br>Nitrogen (%) = -0.0311834 * Year + 120.261<br>R<sup>2</sup>=0.008741<br><br>State=New Mexico<br>Year=%{x}<br>Nitrogen Usage (%)=%{y} <b>(trend)</b><extra></extra>",
         "legendgroup": "New Mexico",
         "marker": {
          "color": "#FF97FF",
          "symbol": "circle"
         },
         "mode": "lines",
         "name": "New Mexico",
         "showlegend": false,
         "type": "scatter",
         "x": {
          "bdata": "rAetB64HrwewB7EHsgezB7QHtQe2B7cHuAe5B7oHuwe8B70Hvge/B8AHwQfCB8MHxAfFB8YHxwfIB8kHygfLB8wHzQfOB88H0AfRB9IH0wfUB9UH1gfXB9gH2QfaB9sH3AfdB94H3wfgB+EH",
          "dtype": "i2"
         },
         "xaxis": "x",
         "y": {
          "bdata": "il1bpieCTUAS/XDVKX5NQJqchgQsek1AITycMy52TUCp27FiMHJNQDF7x5Eybk1AuRrdwDRqTUBBuvLvNmZNQMlZCB85Yk1AUfkdTjteTUDZmDN9PVpNQGE4Saw/Vk1A6Nde20FSTUBwd3QKRE5NQPgWijlGSk1AgLafaEhGTUAIVrWXSkJNQJD1ysZMPk1AGJXg9U46TUCgNPYkUTZNQCjUC1RTMk1Ar3Mhg1UuTUA3EzeyVypNQL+yTOFZJk1AR1JiEFwiTUDP8Xc/Xh5NQFeRjW5gGk1A3zCjnWIWTUBn0LjMZBJNQO5vzvtmDk1Adg/kKmkKTUD+rvlZawZNQIZOD4ltAk1ADu4kuG/+TECWjTrncfpMQB4tUBZ09kxApsxlRXbyTEAubHt0eO5MQLULkaN66kxAPaum0nzmTEDFSrwBf+JMQE3q0TCB3kxA1YnnX4PaTEBdKf2OhdZMQOXIEr6H0kxAbWgo7YnOTED0Bz4cjMpMQHynU0uOxkxABEdpepDCTECM5n6pkr5MQBSGlNiUukxAnCWqB5e2TEAkxb82mbJMQKxk1WWbrkxA",
          "dtype": "f8"
         },
         "yaxis": "y"
        },
        {
         "customdata": [
          [
           "North Carolina",
           65
          ],
          [
           "North Carolina",
           90
          ],
          [
           "North Carolina",
           63
          ],
          [
           "North Carolina",
           69
          ],
          [
           "North Carolina",
           74
          ],
          [
           "North Carolina",
           62
          ],
          [
           "North Carolina",
           67
          ],
          [
           "North Carolina",
           53
          ],
          [
           "North Carolina",
           66
          ],
          [
           "North Carolina",
           86
          ],
          [
           "North Carolina",
           70
          ],
          [
           "North Carolina",
           84
          ],
          [
           "North Carolina",
           102
          ],
          [
           "North Carolina",
           73.81818181818181
          ],
          [
           "North Carolina",
           73.81818181818181
          ],
          [
           "North Carolina",
           73.81818181818181
          ],
          [
           "North Carolina",
           73.81818181818181
          ],
          [
           "North Carolina",
           73.81818181818181
          ],
          [
           "North Carolina",
           73.81818181818181
          ],
          [
           "North Carolina",
           73.81818181818181
          ],
          [
           "North Carolina",
           73.81818181818181
          ],
          [
           "North Carolina",
           73.81818181818181
          ],
          [
           "North Carolina",
           73.81818181818181
          ],
          [
           "North Carolina",
           73.81818181818181
          ],
          [
           "North Carolina",
           73.81818181818181
          ],
          [
           "North Carolina",
           73.81818181818181
          ],
          [
           "North Carolina",
           73.81818181818181
          ],
          [
           "North Carolina",
           73.81818181818181
          ],
          [
           "North Carolina",
           73.81818181818181
          ],
          [
           "North Carolina",
           73.81818181818181
          ],
          [
           "North Carolina",
           73.81818181818181
          ],
          [
           "North Carolina",
           73.81818181818181
          ],
          [
           "North Carolina",
           73.81818181818181
          ],
          [
           "North Carolina",
           62
          ],
          [
           "North Carolina",
           87
          ],
          [
           "North Carolina",
           78
          ],
          [
           "North Carolina",
           85
          ],
          [
           "North Carolina",
           73.81818181818181
          ],
          [
           "North Carolina",
           73.81818181818181
          ],
          [
           "North Carolina",
           76
          ],
          [
           "North Carolina",
           73.81818181818181
          ],
          [
           "North Carolina",
           73.81818181818181
          ],
          [
           "North Carolina",
           73.81818181818181
          ],
          [
           "North Carolina",
           68
          ],
          [
           "North Carolina",
           73.81818181818181
          ],
          [
           "North Carolina",
           73.81818181818181
          ],
          [
           "North Carolina",
           66
          ],
          [
           "North Carolina",
           73.81818181818181
          ],
          [
           "North Carolina",
           73.81818181818181
          ],
          [
           "North Carolina",
           73.81818181818181
          ],
          [
           "North Carolina",
           73.81818181818181
          ],
          [
           "North Carolina",
           66
          ],
          [
           "North Carolina",
           73.81818181818181
          ],
          [
           "North Carolina",
           85
          ]
         ],
         "hovertemplate": "State=%{customdata[0]}<br>Year=%{x}<br>Nitrogen Usage (%)=%{y}<br>Nitrogen (Pounds/Acre)=%{customdata[1]}<extra></extra>",
         "legendgroup": "North Carolina",
         "marker": {
          "color": "#FECB52",
          "symbol": "circle"
         },
         "mode": "markers",
         "name": "North Carolina",
         "orientation": "v",
         "showlegend": true,
         "type": "scatter",
         "x": {
          "bdata": "rAetB64HrwewB7EHsgezB7QHtQe2B7cHuAe5B7oHuwe8B70Hvge/B8AHwQfCB8MHxAfFB8YHxwfIB8kHygfLB8wHzQfOB88H0AfRB9IH0wfUB9UH1gfXB9gH2QfaB9sH3AfdB94H3wfgB+EH",
          "dtype": "i2"
         },
         "xaxis": "x",
         "y": {
          "bdata": "AAAAAAAAWUAAAAAAAABZQAAAAAAAgFhAAAAAAAAAWUAAAAAAAABZQAAAAAAAwFhAAAAAAAAAWUAAAAAAAABZQAAAAAAAAFlAAAAAAACAWEAAAAAAAABZQAAAAAAAAFlAAAAAAAAAWUDpoosuuohYQOmiiy66iFhA6aKLLrqIWEDpoosuuohYQOmiiy66iFhA6aKLLrqIWEDpoosuuohYQOmiiy66iFhA6aKLLrqIWEDpoosuuohYQOmiiy66iFhA6aKLLrqIWEDpoosuuohYQOmiiy66iFhA6aKLLrqIWEDpoosuuohYQOmiiy66iFhA6aKLLrqIWEDpoosuuohYQOmiiy66iFhAAAAAAAAAV0AAAAAAAIBYQAAAAAAAAFhAAAAAAAAAWEDpoosuuohYQOmiiy66iFhAAAAAAABAWEDpoosuuohYQOmiiy66iFhA6aKLLrqIWEAAAAAAAABXQOmiiy66iFhA6aKLLrqIWEAAAAAAAIBYQOmiiy66iFhA6aKLLrqIWEDpoosuuohYQOmiiy66iFhAAAAAAADAWEDpoosuuohYQAAAAAAAAFhA",
          "dtype": "f8"
         },
         "yaxis": "y"
        },
        {
         "hovertemplate": "<b>OLS trendline</b><br>Nitrogen (%) = -0.047577 * Year + 192.838<br>R<sup>2</sup>=0.234554<br><br>State=North Carolina<br>Year=%{x}<br>Nitrogen Usage (%)=%{y} <b>(trend)</b><extra></extra>",
         "legendgroup": "North Carolina",
         "marker": {
          "color": "#FECB52",
          "symbol": "circle"
         },
         "mode": "lines",
         "name": "North Carolina",
         "showlegend": false,
         "type": "scatter",
         "x": {
          "bdata": "rAetB64HrwewB7EHsgezB7QHtQe2B7cHuAe5B7oHuwe8B70Hvge/B8AHwQfCB8MHxAfFB8YHxwfIB8kHygfLB8wHzQfOB88H0AfRB9IH0wfUB9UH1gfXB9gH2QfaB9sH3AfdB94H3wfgB+EH",
          "dtype": "i2"
         },
         "xaxis": "x",
         "y": {
          "bdata": "vkLk9WrZWEA0S511X9ZYQKlTVvVT01hAH1wPdUjQWECUZMj0PM1YQAltgXQxylhAf3U69CXHWED0ffNzGsRYQGmGrPMOwVhA345lcwO+WEBUlx7z97pYQMmf13Lst1hAP6iQ8uC0WEC0sEly1bFYQCm5AvLJrlhAn8G7cb6rWEAUynTxsqhYQInSLXGnpVhA/9rm8JuiWEB0459wkJ9YQOrrWPCEnFhAX/QRcHmZWEDU/MrvbZZYQEoFhG9ik1hAvw0971aQWEA0FvZuS41YQKoer+4/ilhAHydobjSHWECULyHuKIRYQAo42m0dgVhAf0CT7RF+WED0SExtBntYQGpRBe36d1hA31m+bO90WEBUYnfs43FYQMpqMGzYblhAP3Pp68xrWEC0e6JrwWhYQCqEW+u1ZVhAn4wUa6piWEAVlc3qnl9YQIqdhmqTXFhA/6U/6odZWEB1rvhpfFZYQOq2selwU1hAX79qaWVQWEDVxyPpWU1YQErQ3GhOSlhAv9iV6EJHWEA14U5oN0RYQKrpB+grQVhAH/LAZyA+WECV+nnnFDtYQAoDM2cJOFhA",
          "dtype": "f8"
         },
         "yaxis": "y"
        },
        {
         "customdata": [
          [
           "Oklahoma",
           28
          ],
          [
           "Oklahoma",
           30
          ],
          [
           "Oklahoma",
           28
          ],
          [
           "Oklahoma",
           19
          ],
          [
           "Oklahoma",
           28
          ],
          [
           "Oklahoma",
           27
          ],
          [
           "Oklahoma",
           25
          ],
          [
           "Oklahoma",
           31
          ],
          [
           "Oklahoma",
           32
          ],
          [
           "Oklahoma",
           34
          ],
          [
           "Oklahoma",
           21
          ],
          [
           "Oklahoma",
           28
          ],
          [
           "Oklahoma",
           34
          ],
          [
           "Oklahoma",
           27
          ],
          [
           "Oklahoma",
           34
          ],
          [
           "Oklahoma",
           32
          ],
          [
           "Oklahoma",
           32
          ],
          [
           "Oklahoma",
           50
          ],
          [
           "Oklahoma",
           34
          ],
          [
           "Oklahoma",
           45
          ],
          [
           "Oklahoma",
           53
          ],
          [
           "Oklahoma",
           34
          ],
          [
           "Oklahoma",
           29
          ],
          [
           "Oklahoma",
           34.875
          ],
          [
           "Oklahoma",
           34.875
          ],
          [
           "Oklahoma",
           34.875
          ],
          [
           "Oklahoma",
           34.875
          ],
          [
           "Oklahoma",
           34.875
          ],
          [
           "Oklahoma",
           34.875
          ],
          [
           "Oklahoma",
           34.875
          ],
          [
           "Oklahoma",
           34.875
          ],
          [
           "Oklahoma",
           34.875
          ],
          [
           "Oklahoma",
           34.875
          ],
          [
           "Oklahoma",
           34.875
          ],
          [
           "Oklahoma",
           34.875
          ],
          [
           "Oklahoma",
           34.875
          ],
          [
           "Oklahoma",
           34.875
          ],
          [
           "Oklahoma",
           34.875
          ],
          [
           "Oklahoma",
           34.875
          ],
          [
           "Oklahoma",
           34.875
          ],
          [
           "Oklahoma",
           34.875
          ],
          [
           "Oklahoma",
           34.875
          ],
          [
           "Oklahoma",
           34.875
          ],
          [
           "Oklahoma",
           34.875
          ],
          [
           "Oklahoma",
           34.875
          ],
          [
           "Oklahoma",
           34.875
          ],
          [
           "Oklahoma",
           34.875
          ],
          [
           "Oklahoma",
           34.875
          ],
          [
           "Oklahoma",
           34.875
          ],
          [
           "Oklahoma",
           34.875
          ],
          [
           "Oklahoma",
           34.875
          ],
          [
           "Oklahoma",
           34.875
          ],
          [
           "Oklahoma",
           34.875
          ],
          [
           "Oklahoma",
           102
          ]
         ],
         "hovertemplate": "State=%{customdata[0]}<br>Year=%{x}<br>Nitrogen Usage (%)=%{y}<br>Nitrogen (Pounds/Acre)=%{customdata[1]}<extra></extra>",
         "legendgroup": "Oklahoma",
         "marker": {
          "color": "#636efa",
          "symbol": "circle"
         },
         "mode": "markers",
         "name": "Oklahoma",
         "orientation": "v",
         "showlegend": true,
         "type": "scatter",
         "x": {
          "bdata": "rAetB64HrwewB7EHsgezB7QHtQe2B7cHuAe5B7oHuwe8B70Hvge/B8AHwQfCB8MHxAfFB8YHxwfIB8kHygfLB8wHzQfOB88H0AfRB9IH0wfUB9UH1gfXB9gH2QfaB9sH3AfdB94H3wfgB+EH",
          "dtype": "i2"
         },
         "xaxis": "x",
         "y": {
          "bdata": "AAAAAACASUAAAAAAAIBLQAAAAAAAAElAAAAAAACASUAAAAAAAIBEQAAAAAAAgEpAAAAAAAAASUAAAAAAAABGQAAAAAAAAEdAAAAAAAAASUAAAAAAAIBHQAAAAAAAAD1AAAAAAACATkAAAAAAAABOQAAAAAAAgE5AAAAAAACAS0AAAAAAAMBQQAAAAAAAgEVAAAAAAACARUAAAAAAAIBMQAAAAAAAgFBAAAAAAACATUAAAAAAAABHQAAAAAAA0ElAAAAAAADQSUAAAAAAANBJQAAAAAAA0ElAAAAAAADQSUAAAAAAANBJQAAAAAAA0ElAAAAAAADQSUAAAAAAANBJQAAAAAAA0ElAAAAAAADQSUAAAAAAANBJQAAAAAAA0ElAAAAAAADQSUAAAAAAANBJQAAAAAAA0ElAAAAAAADQSUAAAAAAANBJQAAAAAAA0ElAAAAAAADQSUAAAAAAANBJQAAAAAAA0ElAAAAAAADQSUAAAAAAANBJQAAAAAAA0ElAAAAAAADQSUAAAAAAANBJQAAAAAAA0ElAAAAAAADQSUAAAAAAANBJQAAAAAAAAEtA",
          "dtype": "f8"
         },
         "yaxis": "y"
        },
        {
         "hovertemplate": "<b>OLS trendline</b><br>Nitrogen (%) = 0.0334477 * Year + -14.9526<br>R<sup>2</sup>=0.008494<br><br>State=Oklahoma<br>Year=%{x}<br>Nitrogen Usage (%)=%{y} <b>(trend)</b><extra></extra>",
         "legendgroup": "Oklahoma",
         "marker": {
          "color": "#636efa",
          "symbol": "circle"
         },
         "mode": "lines",
         "name": "Oklahoma",
         "showlegend": false,
         "type": "scatter",
         "x": {
          "bdata": "rAetB64HrwewB7EHsgezB7QHtQe2B7cHuAe5B7oHuwe8B70Hvge/B8AHwQfCB8MHxAfFB8YHxwfIB8kHygfLB8wHzQfOB88H0AfRB9IH0wfUB9UH1gfXB9gH2QfaB9sH3AfdB94H3wfgB+EH",
          "dtype": "i2"
         },
         "xaxis": "x",
         "y": {
          "bdata": "4LnoooteSUD2BGym02JJQA5Q76kbZ0lAJJtyrWNrSUA65vWwq29JQFAxebTzc0lAZnz8tzt4SUB+x3+7g3xJQJQSA7/LgElAql2GwhOFSUDAqAnGW4lJQNbzjMmjjUlA7D4QzeuRSUAEipPQM5ZJQBrVFtR7mklAMCCa18OeSUBGax3bC6NJQFy2oN5Tp0lAdAEk4purSUCKTKfl469JQKCXKukrtElAtuKt7HO4SUDMLTHwu7xJQOR4tPMDwUlA+sM390vFSUAQD7v6k8lJQCZaPv7bzUlAPKXBASTSSUBU8EQFbNZJQGo7yAi02klAgIZLDPzeSUCW0c4PRONJQKwcUhOM50lAwmfVFtTrSUDaslgaHPBJQPD92x1k9ElABklfIaz4SUAclOIk9PxJQDLfZSg8AUpASirpK4QFSkBgdWwvzAlKQHbA7zIUDkpAjAtzNlwSSkCiVvY5pBZKQLiheT3sGkpA0Oz8QDQfSkDmN4BEfCNKQPyCA0jEJ0pAEs6GSwwsSkAoGQpPVDBKQEBkjVKcNEpAVq8QVuQ4SkBs+pNZLD1KQIJFF110QUpA",
          "dtype": "f8"
         },
         "yaxis": "y"
        },
        {
         "customdata": [
          [
           "South Carolina",
           68
          ],
          [
           "South Carolina",
           78
          ],
          [
           "South Carolina",
           101
          ],
          [
           "South Carolina",
           91
          ],
          [
           "South Carolina",
           101
          ],
          [
           "South Carolina",
           88
          ],
          [
           "South Carolina",
           80
          ],
          [
           "South Carolina",
           88
          ],
          [
           "South Carolina",
           95
          ],
          [
           "South Carolina",
           99
          ],
          [
           "South Carolina",
           101
          ],
          [
           "South Carolina",
           109
          ],
          [
           "South Carolina",
           92
          ],
          [
           "South Carolina",
           125
          ],
          [
           "South Carolina",
           91.03846153846153
          ],
          [
           "South Carolina",
           84
          ],
          [
           "South Carolina",
           78
          ],
          [
           "South Carolina",
           81
          ],
          [
           "South Carolina",
           84
          ],
          [
           "South Carolina",
           107
          ],
          [
           "South Carolina",
           95
          ],
          [
           "South Carolina",
           92
          ],
          [
           "South Carolina",
           84
          ],
          [
           "South Carolina",
           91.03846153846153
          ],
          [
           "South Carolina",
           91.03846153846153
          ],
          [
           "South Carolina",
           91.03846153846153
          ],
          [
           "South Carolina",
           91.03846153846153
          ],
          [
           "South Carolina",
           91.03846153846153
          ],
          [
           "South Carolina",
           91.03846153846153
          ],
          [
           "South Carolina",
           91.03846153846153
          ],
          [
           "South Carolina",
           91.03846153846153
          ],
          [
           "South Carolina",
           91.03846153846153
          ],
          [
           "South Carolina",
           91.03846153846153
          ],
          [
           "South Carolina",
           92
          ],
          [
           "South Carolina",
           91.03846153846153
          ],
          [
           "South Carolina",
           91.03846153846153
          ],
          [
           "South Carolina",
           91.03846153846153
          ],
          [
           "South Carolina",
           91.03846153846153
          ],
          [
           "South Carolina",
           91.03846153846153
          ],
          [
           "South Carolina",
           77
          ],
          [
           "South Carolina",
           91.03846153846153
          ],
          [
           "South Carolina",
           91.03846153846153
          ],
          [
           "South Carolina",
           91.03846153846153
          ],
          [
           "South Carolina",
           91
          ],
          [
           "South Carolina",
           91.03846153846153
          ],
          [
           "South Carolina",
           91.03846153846153
          ],
          [
           "South Carolina",
           91.03846153846153
          ],
          [
           "South Carolina",
           91.03846153846153
          ],
          [
           "South Carolina",
           91.03846153846153
          ],
          [
           "South Carolina",
           91.03846153846153
          ],
          [
           "South Carolina",
           91.03846153846153
          ],
          [
           "South Carolina",
           86
          ],
          [
           "South Carolina",
           91.03846153846153
          ],
          [
           "South Carolina",
           91.03846153846153
          ]
         ],
         "hovertemplate": "State=%{customdata[0]}<br>Year=%{x}<br>Nitrogen Usage (%)=%{y}<br>Nitrogen (Pounds/Acre)=%{customdata[1]}<extra></extra>",
         "legendgroup": "South Carolina",
         "marker": {
          "color": "#EF553B",
          "symbol": "circle"
         },
         "mode": "markers",
         "name": "South Carolina",
         "orientation": "v",
         "showlegend": true,
         "type": "scatter",
         "x": {
          "bdata": "rAetB64HrwewB7EHsgezB7QHtQe2B7cHuAe5B7oHuwe8B70Hvge/B8AHwQfCB8MHxAfFB8YHxwfIB8kHygfLB8wHzQfOB88H0AfRB9IH0wfUB9UH1gfXB9gH2QfaB9sH3AfdB94H3wfgB+EH",
          "dtype": "i2"
         },
         "xaxis": "x",
         "y": {
          "bdata": "AAAAAAAAWUAAAAAAAABZQAAAAAAAAFlAAAAAAAAAWUAAAAAAAABZQAAAAAAAwFhAAAAAAAAAWUAAAAAAAMBYQAAAAAAAwFhAAAAAAAAAWUAAAAAAAABZQAAAAAAAwFhAAAAAAAAAWUAAAAAAAABZQGIndmIn1lhAAAAAAAAAWUAAAAAAAABZQAAAAAAAAFlAAAAAAAAAWUAAAAAAAABZQAAAAAAAgFhAAAAAAAAAWUAAAAAAAABYQGIndmIn1lhAYid2YifWWEBiJ3ZiJ9ZYQGIndmIn1lhAYid2YifWWEBiJ3ZiJ9ZYQGIndmIn1lhAYid2YifWWEBiJ3ZiJ9ZYQGIndmIn1lhAAAAAAAAAWUBiJ3ZiJ9ZYQGIndmIn1lhAYid2YifWWEBiJ3ZiJ9ZYQGIndmIn1lhAAAAAAADAV0BiJ3ZiJ9ZYQGIndmIn1lhAYid2YifWWEAAAAAAAMBYQGIndmIn1lhAYid2YifWWEBiJ3ZiJ9ZYQGIndmIn1lhAYid2YifWWEBiJ3ZiJ9ZYQGIndmIn1lhAAAAAAADAWEBiJ3ZiJ9ZYQGIndmIn1lhA",
          "dtype": "f8"
         },
         "yaxis": "y"
        },
        {
         "hovertemplate": "<b>OLS trendline</b><br>Nitrogen (%) = -0.0139655 * Year + 127.144<br>R<sup>2</sup>=0.064144<br><br>State=South Carolina<br>Year=%{x}<br>Nitrogen Usage (%)=%{y} <b>(trend)</b><extra></extra>",
         "legendgroup": "South Carolina",
         "marker": {
          "color": "#EF553B",
          "symbol": "circle"
         },
         "mode": "lines",
         "name": "South Carolina",
         "showlegend": false,
         "type": "scatter",
         "x": {
          "bdata": "rAetB64HrwewB7EHsgezB7QHtQe2B7cHuAe5B7oHuwe8B70Hvge/B8AHwQfCB8MHxAfFB8YHxwfIB8kHygfLB8wHzQfOB88H0AfRB9IH0wfUB9UH1gfXB9gH2QfaB9sH3AfdB94H3wfgB+EH",
          "dtype": "i2"
         },
         "xaxis": "x",
         "y": {
          "bdata": "5NZt3dbtWEDzvOsN8uxYQAKjaT4N7FhAEYnnbijrWEAgb2WfQ+pYQC5V489e6VhAPTthAHroWEBMId8wledYQFoHXWGw5lhAae3akcvlWEB401jC5uRYQIa51vIB5FhAlZ9UIx3jWECkhdJTOOJYQLJrUIRT4VhAwVHOtG7gWEDQN0zlid9YQN8dyhWl3lhA7QNIRsDdWED86cV229xYQAvQQ6f221hAGrbB1xHbWEAonD8ILdpYQDeCvThI2VhARmg7aWPYWEBUTrmZftdYQGM0N8qZ1lhAchq1+rTVWECAADMr0NRYQI/msFvr01hAnswujAbTWECssqy8IdJYQLuYKu080VhAyn6oHVjQWEDZZCZOc89YQOdKpH6OzlhA9jAir6nNWEAFF6DfxMxYQBT9HRDgy1hAIuObQPvKWEAxyRlxFspYQECvl6ExyVhATpUV0kzIWEBde5MCaMdYQGxhETODxlhAekePY57FWECJLQ2UucRYQJgTi8TUw1hApvkI9e/CWEC134YlC8JYQMTFBFYmwVhA06uChkHAWEDikQC3XL9YQPB3fud3vlhA",
          "dtype": "f8"
         },
         "yaxis": "y"
        },
        {
         "customdata": [
          [
           "Tennessee",
           67
          ],
          [
           "Tennessee",
           71
          ],
          [
           "Tennessee",
           85
          ],
          [
           "Tennessee",
           61
          ],
          [
           "Tennessee",
           51
          ],
          [
           "Tennessee",
           67
          ],
          [
           "Tennessee",
           61
          ],
          [
           "Tennessee",
           72
          ],
          [
           "Tennessee",
           69
          ],
          [
           "Tennessee",
           67
          ],
          [
           "Tennessee",
           66
          ],
          [
           "Tennessee",
           69
          ],
          [
           "Tennessee",
           71
          ],
          [
           "Tennessee",
           68
          ],
          [
           "Tennessee",
           74
          ],
          [
           "Tennessee",
           76
          ],
          [
           "Tennessee",
           73
          ],
          [
           "Tennessee",
           78.5
          ],
          [
           "Tennessee",
           67
          ],
          [
           "Tennessee",
           91
          ],
          [
           "Tennessee",
           82
          ],
          [
           "Tennessee",
           78
          ],
          [
           "Tennessee",
           75
          ],
          [
           "Tennessee",
           78.5
          ],
          [
           "Tennessee",
           78.5
          ],
          [
           "Tennessee",
           78.5
          ],
          [
           "Tennessee",
           78.5
          ],
          [
           "Tennessee",
           78.5
          ],
          [
           "Tennessee",
           78.5
          ],
          [
           "Tennessee",
           78.5
          ],
          [
           "Tennessee",
           78.5
          ],
          [
           "Tennessee",
           78.5
          ],
          [
           "Tennessee",
           89
          ],
          [
           "Tennessee",
           92
          ],
          [
           "Tennessee",
           95
          ],
          [
           "Tennessee",
           90
          ],
          [
           "Tennessee",
           84
          ],
          [
           "Tennessee",
           78.5
          ],
          [
           "Tennessee",
           78.5
          ],
          [
           "Tennessee",
           92
          ],
          [
           "Tennessee",
           78.5
          ],
          [
           "Tennessee",
           78.5
          ],
          [
           "Tennessee",
           78.5
          ],
          [
           "Tennessee",
           102
          ],
          [
           "Tennessee",
           78.5
          ],
          [
           "Tennessee",
           78.5
          ],
          [
           "Tennessee",
           95
          ],
          [
           "Tennessee",
           78.5
          ],
          [
           "Tennessee",
           78.5
          ],
          [
           "Tennessee",
           78.5
          ],
          [
           "Tennessee",
           78.5
          ],
          [
           "Tennessee",
           111
          ],
          [
           "Tennessee",
           78.5
          ],
          [
           "Tennessee",
           101
          ]
         ],
         "hovertemplate": "State=%{customdata[0]}<br>Year=%{x}<br>Nitrogen Usage (%)=%{y}<br>Nitrogen (Pounds/Acre)=%{customdata[1]}<extra></extra>",
         "legendgroup": "Tennessee",
         "marker": {
          "color": "#00cc96",
          "symbol": "circle"
         },
         "mode": "markers",
         "name": "Tennessee",
         "orientation": "v",
         "showlegend": true,
         "type": "scatter",
         "x": {
          "bdata": "rAetB64HrwewB7EHsgezB7QHtQe2B7cHuAe5B7oHuwe8B70Hvge/B8AHwQfCB8MHxAfFB8YHxwfIB8kHygfLB8wHzQfOB88H0AfRB9IH0wfUB9UH1gfXB9gH2QfaB9sH3AfdB94H3wfgB+EH",
          "dtype": "i2"
         },
         "xaxis": "x",
         "y": {
          "bdata": "AAAAAACAWEAAAAAAAABZQAAAAAAAAFdAAAAAAABAWEAAAAAAAMBYQAAAAAAAAFlAAAAAAAAAWEAAAAAAAMBYQAAAAAAAwFdAAAAAAAAAWUAAAAAAAABZQAAAAAAAAFlAAAAAAADAVkAAAAAAAABYQAAAAAAAQFhAAAAAAADAWEAAAAAAAABZQAAAAAAAnFhAAAAAAABAWEAAAAAAAABZQAAAAAAAAFlAAAAAAADAWEAAAAAAAABZQAAAAAAAnFhAAAAAAACcWEAAAAAAAJxYQAAAAAAAnFhAAAAAAACcWEAAAAAAAJxYQAAAAAAAnFhAAAAAAACcWEAAAAAAAJxYQAAAAAAAAFlAAAAAAAAAWUAAAAAAAMBYQAAAAAAAAFlAAAAAAADAWEAAAAAAAJxYQAAAAAAAnFhAAAAAAABAWEAAAAAAAJxYQAAAAAAAnFhAAAAAAACcWEAAAAAAAABZQAAAAAAAnFhAAAAAAACcWEAAAAAAAABZQAAAAAAAnFhAAAAAAACcWEAAAAAAAJxYQAAAAAAAnFhAAAAAAAAAWUAAAAAAAJxYQAAAAAAAAFlA",
          "dtype": "f8"
         },
         "yaxis": "y"
        },
        {
         "hovertemplate": "<b>OLS trendline</b><br>Nitrogen (%) = 0.0318563 * Year + 35.0275<br>R<sup>2</sup>=0.078363<br><br>State=Tennessee<br>Year=%{x}<br>Nitrogen Usage (%)=%{y} <b>(trend)</b><extra></extra>",
         "legendgroup": "Tennessee",
         "marker": {
          "color": "#00cc96",
          "symbol": "circle"
         },
         "mode": "lines",
         "name": "Tennessee",
         "showlegend": false,
         "type": "scatter",
         "x": {
          "bdata": "rAetB64HrwewB7EHsgezB7QHtQe2B7cHuAe5B7oHuwe8B70Hvge/B8AHwQfCB8MHxAfFB8YHxwfIB8kHygfLB8wHzQfOB88H0AfRB9IH0wfUB9UH1gfXB9gH2QfaB9sH3AfdB94H3wfgB+EH",
          "dtype": "i2"
         },
         "xaxis": "x",
         "y": {
          "bdata": "deF0wvhlWEDgTHWxAmhYQEq4daAMalhAtCN2jxZsWEAej3Z+IG5YQIn6dm0qcFhA9GV3XDRyWEBe0XdLPnRYQMg8eDpIdlhAMqh4KVJ4WECdE3kYXHpYQAh/eQdmfFhAcup59m9+WEDcVXrleYBYQEbBetSDglhAsSx7w42EWEAcmHuyl4ZYQIYDfKGhiFhA8G58kKuKWEBb2nx/tYxYQMVFfW6/jlhAMLF9XcmQWECaHH5M05JYQASIfjvdlFhAb/N+KueWWEDaXn8Z8ZhYQETKfwj7mlhArjWA9wSdWEAYoYDmDp9YQIMMgdUYoVhA7neBxCKjWEBY44GzLKVYQMJOgqI2p1hALLqCkUCpWECXJYOASqtYQAKRg29UrVhAbPyDXl6vWEDWZ4RNaLFYQEHThDxys1hAqz6FK3y1WEAWqoUahrdYQIAVhgmQuVhA6oCG+Jm7WEBV7Ibno71YQMBXh9atv1hAKsOHxbfBWECULoi0wcNYQP+ZiKPLxVhAaQWJktXHWEDTcImB38lYQD7ciXDpy1hAqEeKX/PNWEATs4pO/c9YQH0eiz0H0lhA",
          "dtype": "f8"
         },
         "yaxis": "y"
        },
        {
         "customdata": [
          [
           "Texas",
           59
          ],
          [
           "Texas",
           62
          ],
          [
           "Texas",
           62
          ],
          [
           "Texas",
           55
          ],
          [
           "Texas",
           51
          ],
          [
           "Texas",
           61
          ],
          [
           "Texas",
           57
          ],
          [
           "Texas",
           57
          ],
          [
           "Texas",
           53
          ],
          [
           "Texas",
           46
          ],
          [
           "Texas",
           48
          ],
          [
           "Texas",
           39
          ],
          [
           "Texas",
           52
          ],
          [
           "Texas",
           45
          ],
          [
           "Texas",
           50
          ],
          [
           "Texas",
           45
          ],
          [
           "Texas",
           43
          ],
          [
           "Texas",
           44
          ],
          [
           "Texas",
           41
          ],
          [
           "Texas",
           52
          ],
          [
           "Texas",
           47
          ],
          [
           "Texas",
           49
          ],
          [
           "Texas",
           45
          ],
          [
           "Texas",
           51
          ],
          [
           "Texas",
           45
          ],
          [
           "Texas",
           48
          ],
          [
           "Texas",
           59
          ],
          [
           "Texas",
           69
          ],
          [
           "Texas",
           66
          ],
          [
           "Texas",
           64
          ],
          [
           "Texas",
           71
          ],
          [
           "Texas",
           62
          ],
          [
           "Texas",
           80
          ],
          [
           "Texas",
           63
          ],
          [
           "Texas",
           62
          ],
          [
           "Texas",
           64
          ],
          [
           "Texas",
           68
          ],
          [
           "Texas",
           63
          ],
          [
           "Texas",
           57.23255813953488
          ],
          [
           "Texas",
           76
          ],
          [
           "Texas",
           57.23255813953488
          ],
          [
           "Texas",
           57.23255813953488
          ],
          [
           "Texas",
           57.23255813953488
          ],
          [
           "Texas",
           82
          ],
          [
           "Texas",
           57.23255813953488
          ],
          [
           "Texas",
           57.23255813953488
          ],
          [
           "Texas",
           63
          ],
          [
           "Texas",
           57.23255813953488
          ],
          [
           "Texas",
           57.23255813953488
          ],
          [
           "Texas",
           57.23255813953488
          ],
          [
           "Texas",
           57.23255813953488
          ],
          [
           "Texas",
           65
          ],
          [
           "Texas",
           57.23255813953488
          ],
          [
           "Texas",
           77
          ]
         ],
         "hovertemplate": "State=%{customdata[0]}<br>Year=%{x}<br>Nitrogen Usage (%)=%{y}<br>Nitrogen (Pounds/Acre)=%{customdata[1]}<extra></extra>",
         "legendgroup": "Texas",
         "marker": {
          "color": "#ab63fa",
          "symbol": "circle"
         },
         "mode": "markers",
         "name": "Texas",
         "orientation": "v",
         "showlegend": true,
         "type": "scatter",
         "x": {
          "bdata": "rAetB64HrwewB7EHsgezB7QHtQe2B7cHuAe5B7oHuwe8B70Hvge/B8AHwQfCB8MHxAfFB8YHxwfIB8kHygfLB8wHzQfOB88H0AfRB9IH0wfUB9UH1gfXB9gH2QfaB9sH3AfdB94H3wfgB+EH",
          "dtype": "i2"
         },
         "xaxis": "x",
         "y": {
          "bdata": "AAAAAAAASUAAAAAAAIBLQAAAAAAAgElAAAAAAACAR0AAAAAAAIBGQAAAAAAAAEhAAAAAAAAASEAAAAAAAABJQAAAAAAAgElAAAAAAACASkAAAAAAAIBLQAAAAAAAAEBAAAAAAACASEAAAAAAAIBNQAAAAAAAgERAAAAAAACASkAAAAAAAABJQAAAAAAAAE5AAAAAAACAQ0AAAAAAAIBEQAAAAAAAgEtAAAAAAACATEAAAAAAAABMQAAAAAAAgExAAAAAAAAAUUAAAAAAAIBPQAAAAAAAgFBAAAAAAACAUUAAAAAAAEBQQAAAAAAAQFNAAAAAAACAU0AAAAAAAMBTQAAAAAAAgEtAAAAAAACAVEAAAAAAAABRQAAAAAAAwFFAAAAAAACAT0AAAAAAAABKQHfEHXFHXE1AAAAAAACATkB3xB1xR1xNQHfEHXFHXE1Ad8QdcUdcTUAAAAAAAIBVQHfEHXFHXE1Ad8QdcUdcTUAAAAAAAEBVQHfEHXFHXE1Ad8QdcUdcTUB3xB1xR1xNQHfEHXFHXE1AAAAAAACAUEB3xB1xR1xNQAAAAAAAAFFA",
          "dtype": "f8"
         },
         "yaxis": "y"
        },
        {
         "hovertemplate": "<b>OLS trendline</b><br>Nitrogen (%) = 0.394201 * Year + -725.936<br>R<sup>2</sup>=0.303031<br><br>State=Texas<br>Year=%{x}<br>Nitrogen Usage (%)=%{y} <b>(trend)</b><extra></extra>",
         "legendgroup": "Texas",
         "marker": {
          "color": "#ab63fa",
          "symbol": "circle"
         },
         "mode": "lines",
         "name": "Texas",
         "showlegend": false,
         "type": "scatter",
         "x": {
          "bdata": "rAetB64HrwewB7EHsgezB7QHtQe2B7cHuAe5B7oHuwe8B70Hvge/B8AHwQfCB8MHxAfFB8YHxwfIB8kHygfLB8wHzQfOB88H0AfRB9IH0wfUB9UH1gfXB9gH2QfaB9sH3AfdB94H3wfgB+EH",
          "dtype": "i2"
         },
         "xaxis": "x",
         "y": {
          "bdata": "gLaJTiYjSEDggVB7m1VIQFBNF6gQiEhAsBje1IW6SEAg5KQB++xIQICvay5wH0lA8HoyW+VRSUBQRvmHWoRJQLARwLTPtklAIN2G4UTpSUCAqE0OuhtKQPBzFDsvTkpAUD/bZ6SASkDACqKUGbNKQCDWaMGO5UpAkKEv7gMYS0DwbPYaeUpLQGA4vUfufEtAwAOEdGOvS0Agz0qh2OFLQJCaEc5NFExA8GXY+sJGTEBgMZ8nOHlMQMD8ZVStq0xAMMgsgSLeTECQk/OtlxBNQABfutoMQ01AYCqBB4J1TUDQ9Uc096dNQDDBDmFs2k1AkIzVjeEMTkAAWJy6Vj9OQGAjY+fLcU5A0O4pFEGkTkAwuvBAttZOQKCFt20rCU9AAFF+mqA7T0BwHEXHFW5PQNDnC/SKoE9AQLPSIADTT0BQv8ymugJQQAAlMD31G1BAuIqT0y81UEBo8PZpak5QQCBWWgClZ1BA0Lu9lt+AUECIISEtGppQQDiHhMNUs1BA8OznWY/MUECgUkvwyeVQQFi4roYE/1BACB4SHT8YUUC4g3WzeTFRQHDp2Em0SlFA",
          "dtype": "f8"
         },
         "yaxis": "y"
        }
       ],
       "layout": {
        "height": 600,
        "legend": {
         "title": {
          "text": "State"
         },
         "tracegroupgap": 0
        },
        "template": {
         "data": {
          "bar": [
           {
            "error_x": {
             "color": "#2a3f5f"
            },
            "error_y": {
             "color": "#2a3f5f"
            },
            "marker": {
             "line": {
              "color": "white",
              "width": 0.5
             },
             "pattern": {
              "fillmode": "overlay",
              "size": 10,
              "solidity": 0.2
             }
            },
            "type": "bar"
           }
          ],
          "barpolar": [
           {
            "marker": {
             "line": {
              "color": "white",
              "width": 0.5
             },
             "pattern": {
              "fillmode": "overlay",
              "size": 10,
              "solidity": 0.2
             }
            },
            "type": "barpolar"
           }
          ],
          "carpet": [
           {
            "aaxis": {
             "endlinecolor": "#2a3f5f",
             "gridcolor": "#C8D4E3",
             "linecolor": "#C8D4E3",
             "minorgridcolor": "#C8D4E3",
             "startlinecolor": "#2a3f5f"
            },
            "baxis": {
             "endlinecolor": "#2a3f5f",
             "gridcolor": "#C8D4E3",
             "linecolor": "#C8D4E3",
             "minorgridcolor": "#C8D4E3",
             "startlinecolor": "#2a3f5f"
            },
            "type": "carpet"
           }
          ],
          "choropleth": [
           {
            "colorbar": {
             "outlinewidth": 0,
             "ticks": ""
            },
            "type": "choropleth"
           }
          ],
          "contour": [
           {
            "colorbar": {
             "outlinewidth": 0,
             "ticks": ""
            },
            "colorscale": [
             [
              0,
              "#0d0887"
             ],
             [
              0.1111111111111111,
              "#46039f"
             ],
             [
              0.2222222222222222,
              "#7201a8"
             ],
             [
              0.3333333333333333,
              "#9c179e"
             ],
             [
              0.4444444444444444,
              "#bd3786"
             ],
             [
              0.5555555555555556,
              "#d8576b"
             ],
             [
              0.6666666666666666,
              "#ed7953"
             ],
             [
              0.7777777777777778,
              "#fb9f3a"
             ],
             [
              0.8888888888888888,
              "#fdca26"
             ],
             [
              1,
              "#f0f921"
             ]
            ],
            "type": "contour"
           }
          ],
          "contourcarpet": [
           {
            "colorbar": {
             "outlinewidth": 0,
             "ticks": ""
            },
            "type": "contourcarpet"
           }
          ],
          "heatmap": [
           {
            "colorbar": {
             "outlinewidth": 0,
             "ticks": ""
            },
            "colorscale": [
             [
              0,
              "#0d0887"
             ],
             [
              0.1111111111111111,
              "#46039f"
             ],
             [
              0.2222222222222222,
              "#7201a8"
             ],
             [
              0.3333333333333333,
              "#9c179e"
             ],
             [
              0.4444444444444444,
              "#bd3786"
             ],
             [
              0.5555555555555556,
              "#d8576b"
             ],
             [
              0.6666666666666666,
              "#ed7953"
             ],
             [
              0.7777777777777778,
              "#fb9f3a"
             ],
             [
              0.8888888888888888,
              "#fdca26"
             ],
             [
              1,
              "#f0f921"
             ]
            ],
            "type": "heatmap"
           }
          ],
          "histogram": [
           {
            "marker": {
             "pattern": {
              "fillmode": "overlay",
              "size": 10,
              "solidity": 0.2
             }
            },
            "type": "histogram"
           }
          ],
          "histogram2d": [
           {
            "colorbar": {
             "outlinewidth": 0,
             "ticks": ""
            },
            "colorscale": [
             [
              0,
              "#0d0887"
             ],
             [
              0.1111111111111111,
              "#46039f"
             ],
             [
              0.2222222222222222,
              "#7201a8"
             ],
             [
              0.3333333333333333,
              "#9c179e"
             ],
             [
              0.4444444444444444,
              "#bd3786"
             ],
             [
              0.5555555555555556,
              "#d8576b"
             ],
             [
              0.6666666666666666,
              "#ed7953"
             ],
             [
              0.7777777777777778,
              "#fb9f3a"
             ],
             [
              0.8888888888888888,
              "#fdca26"
             ],
             [
              1,
              "#f0f921"
             ]
            ],
            "type": "histogram2d"
           }
          ],
          "histogram2dcontour": [
           {
            "colorbar": {
             "outlinewidth": 0,
             "ticks": ""
            },
            "colorscale": [
             [
              0,
              "#0d0887"
             ],
             [
              0.1111111111111111,
              "#46039f"
             ],
             [
              0.2222222222222222,
              "#7201a8"
             ],
             [
              0.3333333333333333,
              "#9c179e"
             ],
             [
              0.4444444444444444,
              "#bd3786"
             ],
             [
              0.5555555555555556,
              "#d8576b"
             ],
             [
              0.6666666666666666,
              "#ed7953"
             ],
             [
              0.7777777777777778,
              "#fb9f3a"
             ],
             [
              0.8888888888888888,
              "#fdca26"
             ],
             [
              1,
              "#f0f921"
             ]
            ],
            "type": "histogram2dcontour"
           }
          ],
          "mesh3d": [
           {
            "colorbar": {
             "outlinewidth": 0,
             "ticks": ""
            },
            "type": "mesh3d"
           }
          ],
          "parcoords": [
           {
            "line": {
             "colorbar": {
              "outlinewidth": 0,
              "ticks": ""
             }
            },
            "type": "parcoords"
           }
          ],
          "pie": [
           {
            "automargin": true,
            "type": "pie"
           }
          ],
          "scatter": [
           {
            "fillpattern": {
             "fillmode": "overlay",
             "size": 10,
             "solidity": 0.2
            },
            "type": "scatter"
           }
          ],
          "scatter3d": [
           {
            "line": {
             "colorbar": {
              "outlinewidth": 0,
              "ticks": ""
             }
            },
            "marker": {
             "colorbar": {
              "outlinewidth": 0,
              "ticks": ""
             }
            },
            "type": "scatter3d"
           }
          ],
          "scattercarpet": [
           {
            "marker": {
             "colorbar": {
              "outlinewidth": 0,
              "ticks": ""
             }
            },
            "type": "scattercarpet"
           }
          ],
          "scattergeo": [
           {
            "marker": {
             "colorbar": {
              "outlinewidth": 0,
              "ticks": ""
             }
            },
            "type": "scattergeo"
           }
          ],
          "scattergl": [
           {
            "marker": {
             "colorbar": {
              "outlinewidth": 0,
              "ticks": ""
             }
            },
            "type": "scattergl"
           }
          ],
          "scattermap": [
           {
            "marker": {
             "colorbar": {
              "outlinewidth": 0,
              "ticks": ""
             }
            },
            "type": "scattermap"
           }
          ],
          "scattermapbox": [
           {
            "marker": {
             "colorbar": {
              "outlinewidth": 0,
              "ticks": ""
             }
            },
            "type": "scattermapbox"
           }
          ],
          "scatterpolar": [
           {
            "marker": {
             "colorbar": {
              "outlinewidth": 0,
              "ticks": ""
             }
            },
            "type": "scatterpolar"
           }
          ],
          "scatterpolargl": [
           {
            "marker": {
             "colorbar": {
              "outlinewidth": 0,
              "ticks": ""
             }
            },
            "type": "scatterpolargl"
           }
          ],
          "scatterternary": [
           {
            "marker": {
             "colorbar": {
              "outlinewidth": 0,
              "ticks": ""
             }
            },
            "type": "scatterternary"
           }
          ],
          "surface": [
           {
            "colorbar": {
             "outlinewidth": 0,
             "ticks": ""
            },
            "colorscale": [
             [
              0,
              "#0d0887"
             ],
             [
              0.1111111111111111,
              "#46039f"
             ],
             [
              0.2222222222222222,
              "#7201a8"
             ],
             [
              0.3333333333333333,
              "#9c179e"
             ],
             [
              0.4444444444444444,
              "#bd3786"
             ],
             [
              0.5555555555555556,
              "#d8576b"
             ],
             [
              0.6666666666666666,
              "#ed7953"
             ],
             [
              0.7777777777777778,
              "#fb9f3a"
             ],
             [
              0.8888888888888888,
              "#fdca26"
             ],
             [
              1,
              "#f0f921"
             ]
            ],
            "type": "surface"
           }
          ],
          "table": [
           {
            "cells": {
             "fill": {
              "color": "#EBF0F8"
             },
             "line": {
              "color": "white"
             }
            },
            "header": {
             "fill": {
              "color": "#C8D4E3"
             },
             "line": {
              "color": "white"
             }
            },
            "type": "table"
           }
          ]
         },
         "layout": {
          "annotationdefaults": {
           "arrowcolor": "#2a3f5f",
           "arrowhead": 0,
           "arrowwidth": 1
          },
          "autotypenumbers": "strict",
          "coloraxis": {
           "colorbar": {
            "outlinewidth": 0,
            "ticks": ""
           }
          },
          "colorscale": {
           "diverging": [
            [
             0,
             "#8e0152"
            ],
            [
             0.1,
             "#c51b7d"
            ],
            [
             0.2,
             "#de77ae"
            ],
            [
             0.3,
             "#f1b6da"
            ],
            [
             0.4,
             "#fde0ef"
            ],
            [
             0.5,
             "#f7f7f7"
            ],
            [
             0.6,
             "#e6f5d0"
            ],
            [
             0.7,
             "#b8e186"
            ],
            [
             0.8,
             "#7fbc41"
            ],
            [
             0.9,
             "#4d9221"
            ],
            [
             1,
             "#276419"
            ]
           ],
           "sequential": [
            [
             0,
             "#0d0887"
            ],
            [
             0.1111111111111111,
             "#46039f"
            ],
            [
             0.2222222222222222,
             "#7201a8"
            ],
            [
             0.3333333333333333,
             "#9c179e"
            ],
            [
             0.4444444444444444,
             "#bd3786"
            ],
            [
             0.5555555555555556,
             "#d8576b"
            ],
            [
             0.6666666666666666,
             "#ed7953"
            ],
            [
             0.7777777777777778,
             "#fb9f3a"
            ],
            [
             0.8888888888888888,
             "#fdca26"
            ],
            [
             1,
             "#f0f921"
            ]
           ],
           "sequentialminus": [
            [
             0,
             "#0d0887"
            ],
            [
             0.1111111111111111,
             "#46039f"
            ],
            [
             0.2222222222222222,
             "#7201a8"
            ],
            [
             0.3333333333333333,
             "#9c179e"
            ],
            [
             0.4444444444444444,
             "#bd3786"
            ],
            [
             0.5555555555555556,
             "#d8576b"
            ],
            [
             0.6666666666666666,
             "#ed7953"
            ],
            [
             0.7777777777777778,
             "#fb9f3a"
            ],
            [
             0.8888888888888888,
             "#fdca26"
            ],
            [
             1,
             "#f0f921"
            ]
           ]
          },
          "colorway": [
           "#636efa",
           "#EF553B",
           "#00cc96",
           "#ab63fa",
           "#FFA15A",
           "#19d3f3",
           "#FF6692",
           "#B6E880",
           "#FF97FF",
           "#FECB52"
          ],
          "font": {
           "color": "#2a3f5f"
          },
          "geo": {
           "bgcolor": "white",
           "lakecolor": "white",
           "landcolor": "white",
           "showlakes": true,
           "showland": true,
           "subunitcolor": "#C8D4E3"
          },
          "hoverlabel": {
           "align": "left"
          },
          "hovermode": "closest",
          "mapbox": {
           "style": "light"
          },
          "paper_bgcolor": "white",
          "plot_bgcolor": "white",
          "polar": {
           "angularaxis": {
            "gridcolor": "#EBF0F8",
            "linecolor": "#EBF0F8",
            "ticks": ""
           },
           "bgcolor": "white",
           "radialaxis": {
            "gridcolor": "#EBF0F8",
            "linecolor": "#EBF0F8",
            "ticks": ""
           }
          },
          "scene": {
           "xaxis": {
            "backgroundcolor": "white",
            "gridcolor": "#DFE8F3",
            "gridwidth": 2,
            "linecolor": "#EBF0F8",
            "showbackground": true,
            "ticks": "",
            "zerolinecolor": "#EBF0F8"
           },
           "yaxis": {
            "backgroundcolor": "white",
            "gridcolor": "#DFE8F3",
            "gridwidth": 2,
            "linecolor": "#EBF0F8",
            "showbackground": true,
            "ticks": "",
            "zerolinecolor": "#EBF0F8"
           },
           "zaxis": {
            "backgroundcolor": "white",
            "gridcolor": "#DFE8F3",
            "gridwidth": 2,
            "linecolor": "#EBF0F8",
            "showbackground": true,
            "ticks": "",
            "zerolinecolor": "#EBF0F8"
           }
          },
          "shapedefaults": {
           "line": {
            "color": "#2a3f5f"
           }
          },
          "ternary": {
           "aaxis": {
            "gridcolor": "#DFE8F3",
            "linecolor": "#A2B1C6",
            "ticks": ""
           },
           "baxis": {
            "gridcolor": "#DFE8F3",
            "linecolor": "#A2B1C6",
            "ticks": ""
           },
           "bgcolor": "white",
           "caxis": {
            "gridcolor": "#DFE8F3",
            "linecolor": "#A2B1C6",
            "ticks": ""
           }
          },
          "title": {
           "x": 0.05
          },
          "xaxis": {
           "automargin": true,
           "gridcolor": "#EBF0F8",
           "linecolor": "#EBF0F8",
           "ticks": "",
           "title": {
            "standoff": 15
           },
           "zerolinecolor": "#EBF0F8",
           "zerolinewidth": 2
          },
          "yaxis": {
           "automargin": true,
           "gridcolor": "#EBF0F8",
           "linecolor": "#EBF0F8",
           "ticks": "",
           "title": {
            "standoff": 15
           },
           "zerolinecolor": "#EBF0F8",
           "zerolinewidth": 2
          }
         }
        },
        "title": {
         "font": {
          "size": 16
         },
         "text": "Nitrogen Percentage Usage Over Time by State"
        },
        "xaxis": {
         "anchor": "y",
         "domain": [
          0,
          1
         ],
         "title": {
          "font": {
           "size": 14
          },
          "text": "Year"
         }
        },
        "yaxis": {
         "anchor": "x",
         "domain": [
          0,
          1
         ],
         "title": {
          "font": {
           "size": 14
          },
          "text": "Nitrogen Usage (%)"
         }
        }
       }
      }
     },
     "metadata": {},
     "output_type": "display_data"
    }
   ],
   "source": [
    "print(\"=== NITROGEN ANALYSIS ===\")\n",
    "\n",
    "fig_nitrogen = px.scatter(df_cotton, x='Year', y='Nitrogen (Pounds/Acre)', \n",
    "                         color='State', size_max=10,\n",
    "                         title='Nitrogen Usage Over Time by State',\n",
    "                         labels={'Nitrogen (Pounds/Acre)': 'Nitrogen (lbs/acre)'},\n",
    "                         hover_data=['State', 'Nitrogen (%)'],\n",
    "                         trendline=\"ols\")\n",
    "\n",
    "fig_nitrogen.update_layout(\n",
    "    title_font_size=16,\n",
    "    xaxis_title_font_size=14,\n",
    "    yaxis_title_font_size=14,\n",
    "    height=600,\n",
    "    template='plotly_white'\n",
    ")\n",
    "\n",
    "fig_nitrogen.show()\n",
    "\n",
    "fig_nitrogen_pct = px.scatter(df_cotton, x='Year', y='Nitrogen (%)', \n",
    "                             color='State', size_max=10,\n",
    "                             title='Nitrogen Percentage Usage Over Time by State',\n",
    "                             labels={'Nitrogen (%)': 'Nitrogen Usage (%)'},\n",
    "                             hover_data=['State', 'Nitrogen (Pounds/Acre)'],\n",
    "                             trendline=\"ols\")\n",
    "\n",
    "fig_nitrogen_pct.update_layout(\n",
    "    title_font_size=16,\n",
    "    xaxis_title_font_size=14,\n",
    "    yaxis_title_font_size=14,\n",
    "    height=600,\n",
    "    template='plotly_white'\n",
    ")\n",
    "\n",
    "fig_nitrogen_pct.show()"
   ]
  },
  {
   "cell_type": "code",
   "execution_count": null,
   "id": "9c2f2127",
   "metadata": {},
   "outputs": [
    {
     "name": "stdout",
     "output_type": "stream",
     "text": [
      "\n",
      "=== PHOSPHOROUS ANALYSIS ===\n"
     ]
    },
    {
     "data": {
      "application/vnd.plotly.v1+json": {
       "config": {
        "plotlyServerURL": "https://plot.ly"
       },
       "data": [
        {
         "customdata": [
          [
           "Alabama",
           100
          ],
          [
           "Alabama",
           100
          ],
          [
           "Alabama",
           100
          ],
          [
           "Alabama",
           100
          ],
          [
           "Alabama",
           99
          ],
          [
           "Alabama",
           98
          ],
          [
           "Alabama",
           100
          ],
          [
           "Alabama",
           100
          ],
          [
           "Alabama",
           98
          ],
          [
           "Alabama",
           95
          ],
          [
           "Alabama",
           99
          ],
          [
           "Alabama",
           92
          ],
          [
           "Alabama",
           93
          ],
          [
           "Alabama",
           91
          ],
          [
           "Alabama",
           95
          ],
          [
           "Alabama",
           84
          ],
          [
           "Alabama",
           93
          ],
          [
           "Alabama",
           97
          ],
          [
           "Alabama",
           93
          ],
          [
           "Alabama",
           86
          ],
          [
           "Alabama",
           91
          ],
          [
           "Alabama",
           88
          ],
          [
           "Alabama",
           87
          ],
          [
           "Alabama",
           92.7741935483871
          ],
          [
           "Alabama",
           92.7741935483871
          ],
          [
           "Alabama",
           92.7741935483871
          ],
          [
           "Alabama",
           92.7741935483871
          ],
          [
           "Alabama",
           92.7741935483871
          ],
          [
           "Alabama",
           92.7741935483871
          ],
          [
           "Alabama",
           92.7741935483871
          ],
          [
           "Alabama",
           92.7741935483871
          ],
          [
           "Alabama",
           92.7741935483871
          ],
          [
           "Alabama",
           92.7741935483871
          ],
          [
           "Alabama",
           93
          ],
          [
           "Alabama",
           94
          ],
          [
           "Alabama",
           94
          ],
          [
           "Alabama",
           95
          ],
          [
           "Alabama",
           92.7741935483871
          ],
          [
           "Alabama",
           92.7741935483871
          ],
          [
           "Alabama",
           84
          ],
          [
           "Alabama",
           92.7741935483871
          ],
          [
           "Alabama",
           92.7741935483871
          ],
          [
           "Alabama",
           92.7741935483871
          ],
          [
           "Alabama",
           87
          ],
          [
           "Alabama",
           92.7741935483871
          ],
          [
           "Alabama",
           92.7741935483871
          ],
          [
           "Alabama",
           92.7741935483871
          ],
          [
           "Alabama",
           92.7741935483871
          ],
          [
           "Alabama",
           92.7741935483871
          ],
          [
           "Alabama",
           92.7741935483871
          ],
          [
           "Alabama",
           92.7741935483871
          ],
          [
           "Alabama",
           78
          ],
          [
           "Alabama",
           92.7741935483871
          ],
          [
           "Alabama",
           72
          ]
         ],
         "hovertemplate": "State=%{customdata[0]}<br>Year=%{x}<br>Phosphorous (lbs/acre)=%{y}<br>Phosphorous (%)=%{customdata[1]}<extra></extra>",
         "legendgroup": "Alabama",
         "marker": {
          "color": "#636efa",
          "symbol": "circle"
         },
         "mode": "markers",
         "name": "Alabama",
         "orientation": "v",
         "showlegend": true,
         "type": "scatter",
         "x": {
          "bdata": "rAetB64HrwewB7EHsgezB7QHtQe2B7cHuAe5B7oHuwe8B70Hvge/B8AHwQfCB8MHxAfFB8YHxwfIB8kHygfLB8wHzQfOB88H0AfRB9IH0wfUB9UH1gfXB9gH2QfaB9sH3AfdB94H3wfgB+EH",
          "dtype": "i2"
         },
         "xaxis": "x",
         "y": {
          "bdata": "AAAAAAAAT0AAAAAAAIBPQAAAAAAAQFFAAAAAAADAUUAAAAAAAMBRQAAAAAAAgFFAAAAAAACAUkAAAAAAAMBRQAAAAAAAQFJAAAAAAABAU0AAAAAAAABTQAAAAAAAgExAAAAAAADAUUAAAAAAAABSQAAAAAAAAFBAAAAAAACAT0AAAAAAAIBPQAAAAAAAgExAAAAAAABAUEAAAAAAAABPQAAAAAAAAE5AAAAAAAAAT0AAAAAAAIBMQHTOOeecM1BAdM4555wzUEB0zjnnnDNQQHTOOeecM1BAdM4555wzUEB0zjnnnDNQQHTOOeecM1BAdM4555wzUEB0zjnnnDNQQHTOOeecM1BAAAAAAAAAS0AAAAAAAIBNQAAAAAAAQFFAAAAAAACAT0B0zjnnnDNQQHTOOeecM1BAAAAAAACAUUB0zjnnnDNQQHTOOeecM1BAdM4555wzUEAAAAAAAIBIQHTOOeecM1BAdM4555wzUEB0zjnnnDNQQHTOOeecM1BAdM4555wzUEB0zjnnnDNQQHTOOeecM1BAAAAAAACASkB0zjnnnDNQQAAAAAAAAE9A",
          "dtype": "f8"
         },
         "yaxis": "y"
        },
        {
         "hovertemplate": "<b>OLS trendline</b><br>Phosphorous (Pounds/Acre) = -0.132138 * Year + 327.827<br>R<sup>2</sup>=0.151597<br><br>State=Alabama<br>Year=%{x}<br>Phosphorous (lbs/acre)=%{y} <b>(trend)</b><extra></extra>",
         "legendgroup": "Alabama",
         "marker": {
          "color": "#636efa",
          "symbol": "circle"
         },
         "mode": "lines",
         "name": "Alabama",
         "showlegend": false,
         "type": "scatter",
         "x": {
          "bdata": "rAetB64HrwewB7EHsgezB7QHtQe2B7cHuAe5B7oHuwe8B70Hvge/B8AHwQfCB8MHxAfFB8YHxwfIB8kHygfLB8wHzQfOB88H0AfRB9IH0wfUB9UH1gfXB9gH2QfaB9sH3AfdB94H3wfgB+EH",
          "dtype": "i2"
         },
         "xaxis": "x",
         "y": {
          "bdata": "TII7IbgTUUBMuogtQwtRQFDy1TnOAlFAVCojRln6UEBYYnBS5PFQQFyavV5v6VBAYNIKa/rgUEBkClh3hdhQQGhCpYMQ0FBAbHryj5vHUEBwsj+cJr9QQHTqjKixtlBAdCLatDyuUEB4WifBx6VQQHySdM1SnVBAgMrB2d2UUECEAg/maIxQQIg6XPLzg1BAjHKp/n57UECQqvYKCnNQQJTiQxeValBAmBqRIyBiUECcUt4vq1lQQJyKKzw2UVBAoMJ4SMFIUECk+sVUTEBQQKgyE2HXN1BArGpgbWIvUECwoq157SZQQLTa+oV4HlBAuBJIkgMWUEC8SpWejg1QQMCC4qoZBVBAiHVfbkn5T0CI5fmGX+hPQJBVlJ91109AmMUuuIvGT0CgNcnQobVPQKilY+m3pE9AsBX+Ac6TT0C4hZga5IJPQMD1MjP6cU9AyGXNSxBhT0DQ1WdkJlBPQNhFAn08P09A4LWclVIuT0DgJTeuaB1PQOiV0cZ+DE9A8AVs35T7TkD4dQb4qupOQADmoBDB2U5ACFY7KdfITkAQxtVB7bdOQBg2cFoDp05A",
          "dtype": "f8"
         },
         "yaxis": "y"
        },
        {
         "customdata": [
          [
           "Arizona",
           50
          ],
          [
           "Arizona",
           42
          ],
          [
           "Arizona",
           45
          ],
          [
           "Arizona",
           47
          ],
          [
           "Arizona",
           46
          ],
          [
           "Arizona",
           39
          ],
          [
           "Arizona",
           36
          ],
          [
           "Arizona",
           46
          ],
          [
           "Arizona",
           49
          ],
          [
           "Arizona",
           53
          ],
          [
           "Arizona",
           51
          ],
          [
           "Arizona",
           34
          ],
          [
           "Arizona",
           47
          ],
          [
           "Arizona",
           58
          ],
          [
           "Arizona",
           38
          ],
          [
           "Arizona",
           46
          ],
          [
           "Arizona",
           34
          ],
          [
           "Arizona",
           36
          ],
          [
           "Arizona",
           35
          ],
          [
           "Arizona",
           45
          ],
          [
           "Arizona",
           48
          ],
          [
           "Arizona",
           51
          ],
          [
           "Arizona",
           39
          ],
          [
           "Arizona",
           39
          ],
          [
           "Arizona",
           58
          ],
          [
           "Arizona",
           51
          ],
          [
           "Arizona",
           47
          ],
          [
           "Arizona",
           62
          ],
          [
           "Arizona",
           43
          ],
          [
           "Arizona",
           44
          ],
          [
           "Arizona",
           45
          ],
          [
           "Arizona",
           34
          ],
          [
           "Arizona",
           43
          ],
          [
           "Arizona",
           29
          ],
          [
           "Arizona",
           38
          ],
          [
           "Arizona",
           22
          ],
          [
           "Arizona",
           30
          ],
          [
           "Arizona",
           43.205128205128204
          ],
          [
           "Arizona",
           43.205128205128204
          ],
          [
           "Arizona",
           35
          ],
          [
           "Arizona",
           43.205128205128204
          ],
          [
           "Arizona",
           43.205128205128204
          ],
          [
           "Arizona",
           43.205128205128204
          ],
          [
           "Arizona",
           43.205128205128204
          ],
          [
           "Arizona",
           43.205128205128204
          ],
          [
           "Arizona",
           43.205128205128204
          ],
          [
           "Arizona",
           43.205128205128204
          ],
          [
           "Arizona",
           43.205128205128204
          ],
          [
           "Arizona",
           43.205128205128204
          ],
          [
           "Arizona",
           43.205128205128204
          ],
          [
           "Arizona",
           43.205128205128204
          ],
          [
           "Arizona",
           50
          ],
          [
           "Arizona",
           43.205128205128204
          ],
          [
           "Arizona",
           43.205128205128204
          ]
         ],
         "hovertemplate": "State=%{customdata[0]}<br>Year=%{x}<br>Phosphorous (lbs/acre)=%{y}<br>Phosphorous (%)=%{customdata[1]}<extra></extra>",
         "legendgroup": "Arizona",
         "marker": {
          "color": "#EF553B",
          "symbol": "circle"
         },
         "mode": "markers",
         "name": "Arizona",
         "orientation": "v",
         "showlegend": true,
         "type": "scatter",
         "x": {
          "bdata": "rAetB64HrwewB7EHsgezB7QHtQe2B7cHuAe5B7oHuwe8B70Hvge/B8AHwQfCB8MHxAfFB8YHxwfIB8kHygfLB8wHzQfOB88H0AfRB9IH0wfUB9UH1gfXB9gH2QfaB9sH3AfdB94H3wfgB+EH",
          "dtype": "i2"
         },
         "xaxis": "x",
         "y": {
          "bdata": "AAAAAACAUEAAAAAAAIBTQAAAAAAAQFFAAAAAAAAAT0AAAAAAAABRQAAAAAAAgFFAAAAAAACATUAAAAAAAABPQAAAAAAAgExAAAAAAACAUEAAAAAAAABNQAAAAAAAgEhAAAAAAAAAT0AAAAAAAIBNQAAAAAAAgEpAAAAAAACATkAAAAAAAABSQAAAAAAAwFBAAAAAAACATUAAAAAAAIBFQAAAAAAAgE1AAAAAAACAS0AAAAAAAIBHQAAAAAAAgFFAAAAAAACATUAAAAAAAABQQAAAAAAAAFFAAAAAAACAUEAAAAAAAIBGQAAAAAAAAFFAAAAAAACASkAAAAAAAEBQQAAAAAAAgEhAAAAAAACAS0AAAAAAAIBPQAAAAAAAAFVAAAAAAACATEDFTuzETmxOQMVO7MRObE5AAAAAAACAT0DFTuzETmxOQMVO7MRObE5AxU7sxE5sTkDFTuzETmxOQMVO7MRObE5AxU7sxE5sTkDFTuzETmxOQMVO7MRObE5AxU7sxE5sTkDFTuzETmxOQMVO7MRObE5AAAAAAACARUDFTuzETmxOQMVO7MRObE5A",
          "dtype": "f8"
         },
         "yaxis": "y"
        },
        {
         "hovertemplate": "<b>OLS trendline</b><br>Phosphorous (Pounds/Acre) = -0.0862735 * Year + 232.574<br>R<sup>2</sup>=0.031423<br><br>State=Arizona<br>Year=%{x}<br>Phosphorous (lbs/acre)=%{y} <b>(trend)</b><extra></extra>",
         "legendgroup": "Arizona",
         "marker": {
          "color": "#EF553B",
          "symbol": "circle"
         },
         "mode": "lines",
         "name": "Arizona",
         "showlegend": false,
         "type": "scatter",
         "x": {
          "bdata": "rAetB64HrwewB7EHsgezB7QHtQe2B7cHuAe5B7oHuwe8B70Hvge/B8AHwQfCB8MHxAfFB8YHxwfIB8kHygfLB8wHzQfOB88H0AfRB9IH0wfUB9UH1gfXB9gH2QfaB9sH3AfdB94H3wfgB+EH",
          "dtype": "i2"
         },
         "xaxis": "x",
         "y": {
          "bdata": "tE+Fg/KQT0AgmCiB54VPQIzgy37cek9A+ChvfNFvT0BkcRJ6xmRPQNC5tXe7WU9APAJZdbBOT0CoSvxypUNPQBSTn3CaOE9AfNtCbo8tT0DoI+ZrhCJPQFRsiWl5F09AwLQsZ24MT0As/c9kYwFPQJhFc2JY9k5ABI4WYE3rTkBw1rldQuBOQNweXVs31U5ASGcAWSzKTkC0r6NWIb9OQCD4RlQWtE5AjEDqUQupTkD4iI1PAJ5OQGTRME31kk5A0BnUSuqHTkA8YndI33xOQKiqGkbUcU5AFPO9Q8lmTkCAO2FBvltOQOyDBD+zUE5AWMynPKhFTkDEFEs6nTpOQDBd7jeSL05AnKWRNYckTkAI7jQzfBlOQHQ22DBxDk5A4H57LmYDTkBMxx4sW/hNQLgPwilQ7U1AIFhlJ0XiTUCMoAglOtdNQPjoqyIvzE1AZDFPICTBTUDQefIdGbZNQDzClRsOq01AqAo5GQOgTUAUU9wW+JRNQICbfxTtiU1A7OMiEuJ+TUBYLMYP13NNQMR0aQ3MaE1AML0MC8FdTUCcBbAItlJNQAhOUwarR01A",
          "dtype": "f8"
         },
         "yaxis": "y"
        },
        {
         "customdata": [
          [
           "Arkansas",
           59
          ],
          [
           "Arkansas",
           72
          ],
          [
           "Arkansas",
           77
          ],
          [
           "Arkansas",
           79
          ],
          [
           "Arkansas",
           66
          ],
          [
           "Arkansas",
           68
          ],
          [
           "Arkansas",
           60
          ],
          [
           "Arkansas",
           64
          ],
          [
           "Arkansas",
           72
          ],
          [
           "Arkansas",
           70
          ],
          [
           "Arkansas",
           72
          ],
          [
           "Arkansas",
           67
          ],
          [
           "Arkansas",
           74
          ],
          [
           "Arkansas",
           75
          ],
          [
           "Arkansas",
           62
          ],
          [
           "Arkansas",
           78
          ],
          [
           "Arkansas",
           76
          ],
          [
           "Arkansas",
           59
          ],
          [
           "Arkansas",
           68
          ],
          [
           "Arkansas",
           68
          ],
          [
           "Arkansas",
           80
          ],
          [
           "Arkansas",
           76
          ],
          [
           "Arkansas",
           68
          ],
          [
           "Arkansas",
           75
          ],
          [
           "Arkansas",
           71
          ],
          [
           "Arkansas",
           70
          ],
          [
           "Arkansas",
           83
          ],
          [
           "Arkansas",
           70
          ],
          [
           "Arkansas",
           64
          ],
          [
           "Arkansas",
           76
          ],
          [
           "Arkansas",
           70
          ],
          [
           "Arkansas",
           74
          ],
          [
           "Arkansas",
           66
          ],
          [
           "Arkansas",
           83
          ],
          [
           "Arkansas",
           88
          ],
          [
           "Arkansas",
           82
          ],
          [
           "Arkansas",
           78
          ],
          [
           "Arkansas",
           63
          ],
          [
           "Arkansas",
           72.69767441860465
          ],
          [
           "Arkansas",
           84
          ],
          [
           "Arkansas",
           72.69767441860465
          ],
          [
           "Arkansas",
           72.69767441860465
          ],
          [
           "Arkansas",
           72.69767441860465
          ],
          [
           "Arkansas",
           83
          ],
          [
           "Arkansas",
           72.69767441860465
          ],
          [
           "Arkansas",
           72.69767441860465
          ],
          [
           "Arkansas",
           83
          ],
          [
           "Arkansas",
           72.69767441860465
          ],
          [
           "Arkansas",
           72.69767441860465
          ],
          [
           "Arkansas",
           72.69767441860465
          ],
          [
           "Arkansas",
           72.69767441860465
          ],
          [
           "Arkansas",
           79
          ],
          [
           "Arkansas",
           72.69767441860465
          ],
          [
           "Arkansas",
           74
          ]
         ],
         "hovertemplate": "State=%{customdata[0]}<br>Year=%{x}<br>Phosphorous (lbs/acre)=%{y}<br>Phosphorous (%)=%{customdata[1]}<extra></extra>",
         "legendgroup": "Arkansas",
         "marker": {
          "color": "#00cc96",
          "symbol": "circle"
         },
         "mode": "markers",
         "name": "Arkansas",
         "orientation": "v",
         "showlegend": true,
         "type": "scatter",
         "x": {
          "bdata": "rAetB64HrwewB7EHsgezB7QHtQe2B7cHuAe5B7oHuwe8B70Hvge/B8AHwQfCB8MHxAfFB8YHxwfIB8kHygfLB8wHzQfOB88H0AfRB9IH0wfUB9UH1gfXB9gH2QfaB9sH3AfdB94H3wfgB+EH",
          "dtype": "i2"
         },
         "xaxis": "x",
         "y": {
          "bdata": "AAAAAACAQ0AAAAAAAABHQAAAAAAAAEZAAAAAAACAREAAAAAAAIBGQAAAAAAAAEdAAAAAAACARUAAAAAAAABEQAAAAAAAAEZAAAAAAACARkAAAAAAAABEQAAAAAAAAERAAAAAAACAREAAAAAAAABIQAAAAAAAAEVAAAAAAACAQkAAAAAAAIBDQAAAAAAAAERAAAAAAAAAQkAAAAAAAABBQAAAAAAAAENAAAAAAACAQkAAAAAAAIBDQAAAAAAAgEVAAAAAAAAARkAAAAAAAIBBQAAAAAAAAEJAAAAAAAAAREAAAAAAAABGQAAAAAAAAEhAAAAAAAAARkAAAAAAAIBGQAAAAAAAAENAAAAAAAAAS0AAAAAAAABFQAAAAAAAAERAAAAAAACAREAAAAAAAABCQPqCvqAv6ERAAAAAAACARED6gr6gL+hEQPqCvqAv6ERA+oK+oC/oREAAAAAAAIBEQPqCvqAv6ERA+oK+oC/oREAAAAAAAABFQPqCvqAv6ERA+oK+oC/oRED6gr6gL+hEQPqCvqAv6ERAAAAAAACAR0D6gr6gL+hEQAAAAAAAgEpA",
          "dtype": "f8"
         },
         "yaxis": "y"
        },
        {
         "hovertemplate": "<b>OLS trendline</b><br>Phosphorous (Pounds/Acre) = 0.0279743 * Year + -13.869<br>R<sup>2</sup>=0.012823<br><br>State=Arkansas<br>Year=%{x}<br>Phosphorous (lbs/acre)=%{y} <b>(trend)</b><extra></extra>",
         "legendgroup": "Arkansas",
         "marker": {
          "color": "#00cc96",
          "symbol": "circle"
         },
         "mode": "lines",
         "name": "Arkansas",
         "showlegend": false,
         "type": "scatter",
         "x": {
          "bdata": "rAetB64HrwewB7EHsgezB7QHtQe2B7cHuAe5B7oHuwe8B70Hvge/B8AHwQfCB8MHxAfFB8YHxwfIB8kHygfLB8wHzQfOB88H0AfRB9IH0wfUB9UH1gfXB9gH2QfaB9sH3AfdB94H3wfgB+EH",
          "dtype": "i2"
         },
         "xaxis": "x",
         "y": {
          "bdata": "KTBdDEyJREARjzC24IxEQPrtA2B1kERA4kzXCQqUREDLq6qznpdEQLQKfl0zm0RAnGlRB8ieRECFyCSxXKJEQG0n+FrxpURAVobLBIapREA+5Z6uGq1EQCdEclivsERAEKNFAkS0RED4ARms2LdEQOFg7FVtu0RAyb+//wG/RECyHpOplsJEQJp9ZlMrxkRAg9w5/b/JREBrOw2nVM1EQFSa4FDp0ERAPfmz+n3UREAlWIekEthEQA63Wk6n20RA9hUu+DvfREDfdAGi0OJEQMfT1Etl5kRAsDKo9fnpRECYkXufju1EQIHwTkkj8URAak8i87f0REBSrvWcTPhEQDsNyUbh+0RAI2yc8HX/REAMy2+aCgNFQPQpQ0SfBkVA3YgW7jMKRUDG5+mXyA1FQK5GvUFdEUVAl6WQ6/EURUB/BGSVhhhFQGhjNz8bHEVAUMIK6a8fRUA5Id6SRCNFQCKAsTzZJkVACt+E5m0qRUDzPViQAi5FQNucKzqXMUVAxPv+4ys1RUCsWtKNwDhFQJW5pTdVPEVAfRh54ek/RUBmd0yLfkNFQE/WHzUTR0VA",
          "dtype": "f8"
         },
         "yaxis": "y"
        },
        {
         "customdata": [
          [
           "California",
           48
          ],
          [
           "California",
           37
          ],
          [
           "California",
           26
          ],
          [
           "California",
           42
          ],
          [
           "California",
           47
          ],
          [
           "California",
           42
          ],
          [
           "California",
           41
          ],
          [
           "California",
           41
          ],
          [
           "California",
           43
          ],
          [
           "California",
           45
          ],
          [
           "California",
           38
          ],
          [
           "California",
           30
          ],
          [
           "California",
           47
          ],
          [
           "California",
           47
          ],
          [
           "California",
           39
          ],
          [
           "California",
           31
          ],
          [
           "California",
           27
          ],
          [
           "California",
           36
          ],
          [
           "California",
           30
          ],
          [
           "California",
           33
          ],
          [
           "California",
           27
          ],
          [
           "California",
           23
          ],
          [
           "California",
           16
          ],
          [
           "California",
           26
          ],
          [
           "California",
           36
          ],
          [
           "California",
           42
          ],
          [
           "California",
           31
          ],
          [
           "California",
           35
          ],
          [
           "California",
           32
          ],
          [
           "California",
           33
          ],
          [
           "California",
           35
          ],
          [
           "California",
           40
          ],
          [
           "California",
           37
          ],
          [
           "California",
           25
          ],
          [
           "California",
           23
          ],
          [
           "California",
           51
          ],
          [
           "California",
           29
          ],
          [
           "California",
           35.625
          ],
          [
           "California",
           35.625
          ],
          [
           "California",
           47
          ],
          [
           "California",
           35.625
          ],
          [
           "California",
           35.625
          ],
          [
           "California",
           35.625
          ],
          [
           "California",
           39
          ],
          [
           "California",
           35.625
          ],
          [
           "California",
           35.625
          ],
          [
           "California",
           35.625
          ],
          [
           "California",
           35.625
          ],
          [
           "California",
           35.625
          ],
          [
           "California",
           35.625
          ],
          [
           "California",
           35.625
          ],
          [
           "California",
           28
          ],
          [
           "California",
           35.625
          ],
          [
           "California",
           35.625
          ]
         ],
         "hovertemplate": "State=%{customdata[0]}<br>Year=%{x}<br>Phosphorous (lbs/acre)=%{y}<br>Phosphorous (%)=%{customdata[1]}<extra></extra>",
         "legendgroup": "California",
         "marker": {
          "color": "#ab63fa",
          "symbol": "circle"
         },
         "mode": "markers",
         "name": "California",
         "orientation": "v",
         "showlegend": true,
         "type": "scatter",
         "x": {
          "bdata": "rAetB64HrwewB7EHsgezB7QHtQe2B7cHuAe5B7oHuwe8B70Hvge/B8AHwQfCB8MHxAfFB8YHxwfIB8kHygfLB8wHzQfOB88H0AfRB9IH0wfUB9UH1gfXB9gH2QfaB9sH3AfdB94H3wfgB+EH",
          "dtype": "i2"
         },
         "xaxis": "x",
         "y": {
          "bdata": "AAAAAAAAT0AAAAAAAEBUQAAAAAAAAFJAAAAAAADAWEAAAAAAAABWQAAAAAAAwFZAAAAAAAAATkAAAAAAAEBSQAAAAAAAgFFAAAAAAAAAVUAAAAAAAIBNQAAAAAAAgFJAAAAAAACAU0AAAAAAAMBSQAAAAAAAQFRAAAAAAABAUEAAAAAAAIBOQAAAAAAAQFJAAAAAAACATkAAAAAAAABKQAAAAAAAgE5AAAAAAAAATEAAAAAAAABPQAAAAAAAAE5AAAAAAACARkAAAAAAAABMQAAAAAAAAFFAAAAAAADAVUAAAAAAAIBVQAAAAAAAgElAAAAAAAAATkAAAAAAAIBPQAAAAAAAwFRAAAAAAAAATkAAAAAAAMBSQAAAAAAAgE5AAAAAAACATEAAAAAAAPBQQAAAAAAA8FBAAAAAAACAS0AAAAAAAPBQQAAAAAAA8FBAAAAAAADwUEAAAAAAAIBSQAAAAAAA8FBAAAAAAADwUEAAAAAAAPBQQAAAAAAA8FBAAAAAAADwUEAAAAAAAPBQQAAAAAAA8FBAAAAAAAAAP0AAAAAAAPBQQAAAAAAA8FBA",
          "dtype": "f8"
         },
         "yaxis": "y"
        },
        {
         "hovertemplate": "<b>OLS trendline</b><br>Phosphorous (Pounds/Acre) = -0.246331 * Year + 558.072<br>R<sup>2</sup>=0.107686<br><br>State=California<br>Year=%{x}<br>Phosphorous (lbs/acre)=%{y} <b>(trend)</b><extra></extra>",
         "legendgroup": "California",
         "marker": {
          "color": "#ab63fa",
          "symbol": "circle"
         },
         "mode": "lines",
         "name": "California",
         "showlegend": false,
         "type": "scatter",
         "x": {
          "bdata": "rAetB64HrwewB7EHsgezB7QHtQe2B7cHuAe5B7oHuwe8B70Hvge/B8AHwQfCB8MHxAfFB8YHxwfIB8kHygfLB8wHzQfOB88H0AfRB9IH0wfUB9UH1gfXB9gH2QfaB9sH3AfdB94H3wfgB+EH",
          "dtype": "i2"
         },
         "xaxis": "x",
         "y": {
          "bdata": "1MZxHMeRUkCUKVo4A4JSQFiMQlQ/clJAGO8qcHtiUkDYUROMt1JSQJi0+6fzQlJAWBfkwy8zUkAYeszfayNSQNjctPunE1JAmD+dF+QDUkBYooUzIPRRQBgFbk9c5FFA2GdWa5jUUUCYyj6H1MRRQFgtJ6MQtVFAGJAPv0ylUUDY8vfaiJVRQJhV4PbEhVFAWLjIEgF2UUAYG7EuPWZRQNh9mUp5VlFAmOCBZrVGUUBYQ2qC8TZRQBimUp4tJ1FA2Ag7umkXUUCYayPWpQdRQFjOC/Lh91BAGDH0DR7oUEDYk9wpWthQQJj2xEWWyFBAWFmtYdK4UEAYvJV9DqlQQNgefplKmVBAmIFmtYaJUEBY5E7RwnlQQBxHN+3+aVBA3KkfCTtaUECcDAgld0pQQFxv8ECzOlBAHNLYXO8qUEDcNMF4KxtQQJyXqZRnC1BAuPQjYUf3T0A4uvSYv9dPQLh/xdA3uE9AOEWWCLCYT0C4CmdAKHlPQDjQN3igWU9AuJUIsBg6T0A4W9nnkBpPQLggqh8J+05AOOZ6V4HbTkC4q0uP+btOQDhxHMdxnE5A",
          "dtype": "f8"
         },
         "yaxis": "y"
        },
        {
         "customdata": [
          [
           "Georgia",
           99
          ],
          [
           "Georgia",
           99
          ],
          [
           "Georgia",
           100
          ],
          [
           "Georgia",
           100
          ],
          [
           "Georgia",
           100
          ],
          [
           "Georgia",
           100
          ],
          [
           "Georgia",
           100
          ],
          [
           "Georgia",
           100
          ],
          [
           "Georgia",
           100
          ],
          [
           "Georgia",
           100
          ],
          [
           "Georgia",
           98
          ],
          [
           "Georgia",
           100
          ],
          [
           "Georgia",
           100
          ],
          [
           "Georgia",
           100
          ],
          [
           "Georgia",
           100
          ],
          [
           "Georgia",
           96
          ],
          [
           "Georgia",
           98
          ],
          [
           "Georgia",
           93
          ],
          [
           "Georgia",
           90
          ],
          [
           "Georgia",
           91
          ],
          [
           "Georgia",
           93
          ],
          [
           "Georgia",
           93
          ],
          [
           "Georgia",
           87
          ],
          [
           "Georgia",
           95.11764705882354
          ],
          [
           "Georgia",
           95.11764705882354
          ],
          [
           "Georgia",
           95.11764705882354
          ],
          [
           "Georgia",
           95.11764705882354
          ],
          [
           "Georgia",
           95.11764705882354
          ],
          [
           "Georgia",
           95.11764705882354
          ],
          [
           "Georgia",
           95.11764705882354
          ],
          [
           "Georgia",
           95.11764705882354
          ],
          [
           "Georgia",
           95.11764705882354
          ],
          [
           "Georgia",
           99
          ],
          [
           "Georgia",
           94
          ],
          [
           "Georgia",
           90
          ],
          [
           "Georgia",
           98
          ],
          [
           "Georgia",
           94
          ],
          [
           "Georgia",
           92
          ],
          [
           "Georgia",
           95.11764705882354
          ],
          [
           "Georgia",
           90
          ],
          [
           "Georgia",
           95.11764705882354
          ],
          [
           "Georgia",
           95.11764705882354
          ],
          [
           "Georgia",
           95.11764705882354
          ],
          [
           "Georgia",
           91
          ],
          [
           "Georgia",
           95.11764705882354
          ],
          [
           "Georgia",
           95.11764705882354
          ],
          [
           "Georgia",
           86
          ],
          [
           "Georgia",
           95.11764705882354
          ],
          [
           "Georgia",
           95.11764705882354
          ],
          [
           "Georgia",
           95.11764705882354
          ],
          [
           "Georgia",
           95.11764705882354
          ],
          [
           "Georgia",
           82
          ],
          [
           "Georgia",
           95.11764705882354
          ],
          [
           "Georgia",
           81
          ]
         ],
         "hovertemplate": "State=%{customdata[0]}<br>Year=%{x}<br>Phosphorous (lbs/acre)=%{y}<br>Phosphorous (%)=%{customdata[1]}<extra></extra>",
         "legendgroup": "Georgia",
         "marker": {
          "color": "#FFA15A",
          "symbol": "circle"
         },
         "mode": "markers",
         "name": "Georgia",
         "orientation": "v",
         "showlegend": true,
         "type": "scatter",
         "x": {
          "bdata": "rAetB64HrwewB7EHsgezB7QHtQe2B7cHuAe5B7oHuwe8B70Hvge/B8AHwQfCB8MHxAfFB8YHxwfIB8kHygfLB8wHzQfOB88H0AfRB9IH0wfUB9UH1gfXB9gH2QfaB9sH3AfdB94H3wfgB+EH",
          "dtype": "i2"
         },
         "xaxis": "x",
         "y": {
          "bdata": "AAAAAAAAUEAAAAAAAEBQQAAAAAAAgFBAAAAAAAAAUEAAAAAAAABPQAAAAAAAQFBAAAAAAACATUAAAAAAAIBOQAAAAAAAAE5AAAAAAABAUEAAAAAAAEBQQAAAAAAAgEpAAAAAAACATkAAAAAAAMBQQAAAAAAAAE5AAAAAAACAR0AAAAAAAABJQAAAAAAAAEhAAAAAAACASkAAAAAAAIBKQAAAAAAAgElAAAAAAAAAT0AAAAAAAIBLQA8PDw8PD01ADw8PDw8PTUAPDw8PDw9NQA8PDw8PD01ADw8PDw8PTUAPDw8PDw9NQA8PDw8PD01ADw8PDw8PTUAPDw8PDw9NQAAAAAAAgExAAAAAAAAATkAAAAAAAABNQAAAAAAAgExAAAAAAACAS0AAAAAAAABKQA8PDw8PD01AAAAAAAAATEAPDw8PDw9NQA8PDw8PD01ADw8PDw8PTUAAAAAAAABOQA8PDw8PD01ADw8PDw8PTUAAAAAAAIBNQA8PDw8PD01ADw8PDw8PTUAPDw8PDw9NQA8PDw8PD01AAAAAAACASUAPDw8PDw9NQAAAAAAAgEtA",
          "dtype": "f8"
         },
         "yaxis": "y"
        },
        {
         "hovertemplate": "<b>OLS trendline</b><br>Phosphorous (Pounds/Acre) = -0.0953239 * Year + 247.86<br>R<sup>2</sup>=0.118303<br><br>State=Georgia<br>Year=%{x}<br>Phosphorous (lbs/acre)=%{y} <b>(trend)</b><extra></extra>",
         "legendgroup": "Georgia",
         "marker": {
          "color": "#FFA15A",
          "symbol": "circle"
         },
         "mode": "lines",
         "name": "Georgia",
         "showlegend": false,
         "type": "scatter",
         "x": {
          "bdata": "rAetB64HrwewB7EHsgezB7QHtQe2B7cHuAe5B7oHuwe8B70Hvge/B8AHwQfCB8MHxAfFB8YHxwfIB8kHygfLB8wHzQfOB88H0AfRB9IH0wfUB9UH1gfXB9gH2QfaB9sH3AfdB94H3wfgB+EH",
          "dtype": "i2"
         },
         "xaxis": "x",
         "y": {
          "bdata": "1NmjymVSTkC4bHw3MkZOQKD/VKT+OU5AiJItEcstTkBwJQZ+lyFOQFS43upjFU5APEu3VzAJTkAk3o/E/PxNQAhxaDHJ8E1A8ANBnpXkTUDYlhkLYthNQMAp8ncuzE1ApLzK5Pq/TUCMT6NRx7NNQHTie76Tp01AXHVUK2CbTUBACC2YLI9NQCibBQX5gk1AEC7eccV2TUD4wLbekWpNQNxTj0teXk1AxOZnuCpSTUCseUAl90VNQJAMGZLDOU1AeJ/x/o8tTUBgMsprXCFNQEjFotgoFU1ALFh7RfUITUAU61OywfxMQPx9LB+O8ExA5BAFjFrkTEDIo934JthMQLA2tmXzy0xAmMmO0r+/TEB8XGc/jLNMQGTvP6xYp0xATIIYGSWbTEA0FfGF8Y5MQBioyfK9gkxAADuiX4p2TEDozXrMVmpMQNBgUzkjXkxAtPMrpu9RTECchgQTvEVMQIQZ3X+IOUxAbKy17FQtTEBQP45ZISFMQDjSZsbtFExAIGU/M7oITEAE+BeghvxLQOyK8AxT8EtA1B3JeR/kS0C8sKHm69dLQKBDelO4y0tA",
          "dtype": "f8"
         },
         "yaxis": "y"
        },
        {
         "customdata": [
          [
           "Louisiana",
           62
          ],
          [
           "Louisiana",
           63
          ],
          [
           "Louisiana",
           58
          ],
          [
           "Louisiana",
           61
          ],
          [
           "Louisiana",
           48
          ],
          [
           "Louisiana",
           62
          ],
          [
           "Louisiana",
           57
          ],
          [
           "Louisiana",
           69
          ],
          [
           "Louisiana",
           70
          ],
          [
           "Louisiana",
           60
          ],
          [
           "Louisiana",
           59
          ],
          [
           "Louisiana",
           50
          ],
          [
           "Louisiana",
           63
          ],
          [
           "Louisiana",
           63
          ],
          [
           "Louisiana",
           81
          ],
          [
           "Louisiana",
           65
          ],
          [
           "Louisiana",
           92
          ],
          [
           "Louisiana",
           80
          ],
          [
           "Louisiana",
           73
          ],
          [
           "Louisiana",
           62
          ],
          [
           "Louisiana",
           77
          ],
          [
           "Louisiana",
           70
          ],
          [
           "Louisiana",
           72
          ],
          [
           "Louisiana",
           68
          ],
          [
           "Louisiana",
           59
          ],
          [
           "Louisiana",
           70
          ],
          [
           "Louisiana",
           62
          ],
          [
           "Louisiana",
           46
          ],
          [
           "Louisiana",
           57
          ],
          [
           "Louisiana",
           51
          ],
          [
           "Louisiana",
           40
          ],
          [
           "Louisiana",
           42
          ],
          [
           "Louisiana",
           64
          ],
          [
           "Louisiana",
           71
          ],
          [
           "Louisiana",
           69
          ],
          [
           "Louisiana",
           43
          ],
          [
           "Louisiana",
           64
          ],
          [
           "Louisiana",
           50
          ],
          [
           "Louisiana",
           62.2
          ],
          [
           "Louisiana",
           45
          ],
          [
           "Louisiana",
           62.2
          ],
          [
           "Louisiana",
           62.2
          ],
          [
           "Louisiana",
           62.2
          ],
          [
           "Louisiana",
           70
          ],
          [
           "Louisiana",
           62.2
          ],
          [
           "Louisiana",
           62.2
          ],
          [
           "Louisiana",
           62.2
          ],
          [
           "Louisiana",
           62.2
          ],
          [
           "Louisiana",
           62.2
          ],
          [
           "Louisiana",
           62.2
          ],
          [
           "Louisiana",
           62.2
          ],
          [
           "Louisiana",
           62.2
          ],
          [
           "Louisiana",
           62.2
          ],
          [
           "Louisiana",
           62.2
          ]
         ],
         "hovertemplate": "State=%{customdata[0]}<br>Year=%{x}<br>Phosphorous (lbs/acre)=%{y}<br>Phosphorous (%)=%{customdata[1]}<extra></extra>",
         "legendgroup": "Louisiana",
         "marker": {
          "color": "#19d3f3",
          "symbol": "circle"
         },
         "mode": "markers",
         "name": "Louisiana",
         "orientation": "v",
         "showlegend": true,
         "type": "scatter",
         "x": {
          "bdata": "rAetB64HrwewB7EHsgezB7QHtQe2B7cHuAe5B7oHuwe8B70Hvge/B8AHwQfCB8MHxAfFB8YHxwfIB8kHygfLB8wHzQfOB88H0AfRB9IH0wfUB9UH1gfXB9gH2QfaB9sH3AfdB94H3wfgB+EH",
          "dtype": "i2"
         },
         "xaxis": "x",
         "y": {
          "bdata": "AAAAAAAAQUAAAAAAAABEQAAAAAAAAEhAAAAAAACASEAAAAAAAIBFQAAAAAAAAEdAAAAAAAAASUAAAAAAAABJQAAAAAAAAEtAAAAAAACATUAAAAAAAABLQAAAAAAAgEZAAAAAAAAASkAAAAAAAIBJQAAAAAAAAEhAAAAAAACASEAAAAAAAABIQAAAAAAAAEdAAAAAAACAR0AAAAAAAABFQAAAAAAAAEpAAAAAAAAASEAAAAAAAIBFQAAAAAAAgEdAAAAAAACASUAAAAAAAIBGQAAAAAAAAEhAAAAAAACAS0AAAAAAAABGQAAAAAAAgEZAAAAAAACARkAAAAAAAIBHQAAAAAAAgEZAAAAAAACASUAAAAAAAABFQAAAAAAAgEtAAAAAAAAARkAAAAAAAABFQDMzMzMzc0dAAAAAAACAQkAzMzMzM3NHQDMzMzMzc0dAMzMzMzNzR0AAAAAAAIBBQDMzMzMzc0dAMzMzMzNzR0AzMzMzM3NHQDMzMzMzc0dAMzMzMzNzR0AzMzMzM3NHQDMzMzMzc0dAMzMzMzNzR0AzMzMzM3NHQDMzMzMzc0dA",
          "dtype": "f8"
         },
         "yaxis": "y"
        },
        {
         "hovertemplate": "<b>OLS trendline</b><br>Phosphorous (Pounds/Acre) = -0.0405946 * Year + 127.704<br>R<sup>2</sup>=0.019517<br><br>State=Louisiana<br>Year=%{x}<br>Phosphorous (lbs/acre)=%{y} <b>(trend)</b><extra></extra>",
         "legendgroup": "Louisiana",
         "marker": {
          "color": "#19d3f3",
          "symbol": "circle"
         },
         "mode": "lines",
         "name": "Louisiana",
         "showlegend": false,
         "type": "scatter",
         "x": {
          "bdata": "rAetB64HrwewB7EHsgezB7QHtQe2B7cHuAe5B7oHuwe8B70Hvge/B8AHwQfCB8MHxAfFB8YHxwfIB8kHygfLB8wHzQfOB88H0AfRB9IH0wfUB9UH1gfXB9gH2QfaB9sH3AfdB94H3wfgB+EH",
          "dtype": "i2"
         },
         "xaxis": "x",
         "y": {
          "bdata": "7lnOn+X8R0CK5Gdrs/dHQChvATeB8kdAxPmaAk/tR0BghDTOHOhHQP4Ozpnq4kdAmplnZbjdR0A2JAExhthHQNKumvxT00dAcDk0yCHOR0AMxM2T78hHQKhOZ1+9w0dARtkAK4u+R0DiY5r2WLlHQH7uM8ImtEdAHHnNjfSuR0C4A2dZwqlHQFSOACWQpEdA8Bia8F2fR0COozO8K5pHQCouzYf5lEdAxrhmU8ePR0BkQwAflYpHQADOmepihUdAnFgztjCAR0A448yB/npHQNZtZk3MdUdAcvj/GJpwR0AOg5nkZ2tHQKwNM7A1ZkdASJjMewNhR0DkImZH0VtHQIKt/xKfVkdAHjiZ3mxRR0C6wjKqOkxHQFZNzHUIR0dA9NdlQdZBR0CQYv8MpDxHQCztmNhxN0dAyncypD8yR0BmAsxvDS1HQAKNZTvbJ0dAoBf/BqkiR0A8opjSdh1HQNgsMp5EGEdAdLfLaRITR0ASQmU14A1HQK7M/gCuCEdASleYzHsDR0Do4TGYSf5GQIRsy2MX+UZAIPdkL+XzRkC8gf76su5GQFoMmMaA6UZA",
          "dtype": "f8"
         },
         "yaxis": "y"
        },
        {
         "customdata": [
          [
           "Mississippi",
           59
          ],
          [
           "Mississippi",
           56
          ],
          [
           "Mississippi",
           71
          ],
          [
           "Mississippi",
           58
          ],
          [
           "Mississippi",
           63
          ],
          [
           "Mississippi",
           59
          ],
          [
           "Mississippi",
           42
          ],
          [
           "Mississippi",
           41
          ],
          [
           "Mississippi",
           48
          ],
          [
           "Mississippi",
           49
          ],
          [
           "Mississippi",
           45
          ],
          [
           "Mississippi",
           47
          ],
          [
           "Mississippi",
           40
          ],
          [
           "Mississippi",
           43
          ],
          [
           "Mississippi",
           36
          ],
          [
           "Mississippi",
           32
          ],
          [
           "Mississippi",
           33
          ],
          [
           "Mississippi",
           41
          ],
          [
           "Mississippi",
           41
          ],
          [
           "Mississippi",
           45
          ],
          [
           "Mississippi",
           44
          ],
          [
           "Mississippi",
           42
          ],
          [
           "Mississippi",
           39
          ],
          [
           "Mississippi",
           48
          ],
          [
           "Mississippi",
           50
          ],
          [
           "Mississippi",
           54
          ],
          [
           "Mississippi",
           42
          ],
          [
           "Mississippi",
           52
          ],
          [
           "Mississippi",
           41
          ],
          [
           "Mississippi",
           43
          ],
          [
           "Mississippi",
           45
          ],
          [
           "Mississippi",
           40
          ],
          [
           "Mississippi",
           27
          ],
          [
           "Mississippi",
           46
          ],
          [
           "Mississippi",
           51
          ],
          [
           "Mississippi",
           36
          ],
          [
           "Mississippi",
           44
          ],
          [
           "Mississippi",
           31
          ],
          [
           "Mississippi",
           44.76744186046512
          ],
          [
           "Mississippi",
           45
          ],
          [
           "Mississippi",
           44.76744186046512
          ],
          [
           "Mississippi",
           44.76744186046512
          ],
          [
           "Mississippi",
           44.76744186046512
          ],
          [
           "Mississippi",
           33
          ],
          [
           "Mississippi",
           44.76744186046512
          ],
          [
           "Mississippi",
           44.76744186046512
          ],
          [
           "Mississippi",
           32
          ],
          [
           "Mississippi",
           44.76744186046512
          ],
          [
           "Mississippi",
           44.76744186046512
          ],
          [
           "Mississippi",
           44.76744186046512
          ],
          [
           "Mississippi",
           44.76744186046512
          ],
          [
           "Mississippi",
           44
          ],
          [
           "Mississippi",
           44.76744186046512
          ],
          [
           "Mississippi",
           47
          ]
         ],
         "hovertemplate": "State=%{customdata[0]}<br>Year=%{x}<br>Phosphorous (lbs/acre)=%{y}<br>Phosphorous (%)=%{customdata[1]}<extra></extra>",
         "legendgroup": "Mississippi",
         "marker": {
          "color": "#FF6692",
          "symbol": "circle"
         },
         "mode": "markers",
         "name": "Mississippi",
         "orientation": "v",
         "showlegend": true,
         "type": "scatter",
         "x": {
          "bdata": "rAetB64HrwewB7EHsgezB7QHtQe2B7cHuAe5B7oHuwe8B70Hvge/B8AHwQfCB8MHxAfFB8YHxwfIB8kHygfLB8wHzQfOB88H0AfRB9IH0wfUB9UH1gfXB9gH2QfaB9sH3AfdB94H3wfgB+EH",
          "dtype": "i2"
         },
         "xaxis": "x",
         "y": {
          "bdata": "AAAAAAAASUAAAAAAAABNQAAAAAAAAEtAAAAAAAAATEAAAAAAAABKQAAAAAAAAExAAAAAAAAATkAAAAAAAIBLQAAAAAAAAFBAAAAAAAAAUEAAAAAAAABQQAAAAAAAgE1AAAAAAACASkAAAAAAAIBMQAAAAAAAAEtAAAAAAACATkAAAAAAAABJQAAAAAAAgEZAAAAAAAAAS0AAAAAAAABJQAAAAAAAgExAAAAAAAAATEAAAAAAAABLQAAAAAAAAEpAAAAAAACASEAAAAAAAIBIQAAAAAAAAElAAAAAAAAASUAAAAAAAIBMQAAAAAAAgExAAAAAAAAAS0AAAAAAAABLQAAAAAAAgEdAAAAAAAAASUAAAAAAAIBMQAAAAAAAAElAAAAAAAAASkAAAAAAAIBJQAz6gr6gr0tAAAAAAAAAR0AM+oK+oK9LQAz6gr6gr0tADPqCvqCvS0AAAAAAAABNQAz6gr6gr0tADPqCvqCvS0AAAAAAAIBHQAz6gr6gr0tADPqCvqCvS0AM+oK+oK9LQAz6gr6gr0tAAAAAAAAAXUAM+oK+oK9LQAAAAAAAAEpA",
          "dtype": "f8"
         },
         "yaxis": "y"
        },
        {
         "hovertemplate": "<b>OLS trendline</b><br>Phosphorous (Pounds/Acre) = 0.0551243 * Year + -54.3528<br>R<sup>2</sup>=0.008492<br><br>State=Mississippi<br>Year=%{x}<br>Phosphorous (lbs/acre)=%{y} <b>(trend)</b><extra></extra>",
         "legendgroup": "Mississippi",
         "marker": {
          "color": "#FF6692",
          "symbol": "circle"
         },
         "mode": "lines",
         "name": "Mississippi",
         "showlegend": false,
         "type": "scatter",
         "x": {
          "bdata": "rAetB64HrwewB7EHsgezB7QHtQe2B7cHuAe5B7oHuwe8B70Hvge/B8AHwQfCB8MHxAfFB8YHxwfIB8kHygfLB8wHzQfOB88H0AfRB9IH0wfUB9UH1gfXB9gH2QfaB9sH3AfdB94H3wfgB+EH",
          "dtype": "i2"
         },
         "xaxis": "x",
         "y": {
          "bdata": "nCNkcqX0SkC+8YvCs/tKQN6/sxLCAktAAI7bYtAJS0AiXAOz3hBLQEQqKwPtF0tAZvhSU/seS0CIxnqjCSZLQKqUovMXLUtAzGLKQyY0S0DuMPKTNDtLQA7/GeRCQktAMM1BNFFJS0BSm2mEX1BLQHRpkdRtV0tAlje5JHxeS0C4BeF0imVLQNrTCMWYbEtA/KEwFadzS0AccFhltXpLQD4+gLXDgUtAYAyoBdKIS0CC2s9V4I9LQKSo96XulktAxnYf9vydS0DoREdGC6VLQAoTb5YZrEtALOGW5iezS0BMr742NrpLQG595oZEwUtAkEsO11LIS0CyGTYnYc9LQNTnXXdv1ktA9rWFx33dS0AYhK0XjORLQDpS1Wea60tAXCD9t6jyS0B87iQIt/lLQJ68TFjFAExAwIp0qNMHTEDiWJz44Q5MQAQnxEjwFUxAJvXrmP4cTEBIwxPpDCRMQGqROzkbK0xAil9jiSkyTECsLYvZNzlMQM77silGQExA8MnaeVRHTEASmALKYk5MQDRmKhpxVUxAVjRSan9cTEB4Anq6jWNMQJrQoQqcakxA",
          "dtype": "f8"
         },
         "yaxis": "y"
        },
        {
         "customdata": [
          [
           "Missouri",
           95
          ],
          [
           "Missouri",
           96
          ],
          [
           "Missouri",
           96
          ],
          [
           "Missouri",
           94
          ],
          [
           "Missouri",
           92
          ],
          [
           "Missouri",
           91
          ],
          [
           "Missouri",
           84
          ],
          [
           "Missouri",
           84
          ],
          [
           "Missouri",
           91
          ],
          [
           "Missouri",
           94
          ],
          [
           "Missouri",
           85
          ],
          [
           "Missouri",
           84
          ],
          [
           "Missouri",
           91
          ],
          [
           "Missouri",
           83
          ],
          [
           "Missouri",
           88
          ],
          [
           "Missouri",
           96
          ],
          [
           "Missouri",
           78
          ],
          [
           "Missouri",
           75
          ],
          [
           "Missouri",
           83
          ],
          [
           "Missouri",
           100
          ],
          [
           "Missouri",
           100
          ],
          [
           "Missouri",
           68
          ],
          [
           "Missouri",
           82
          ],
          [
           "Missouri",
           86.36666666666666
          ],
          [
           "Missouri",
           86.36666666666666
          ],
          [
           "Missouri",
           86.36666666666666
          ],
          [
           "Missouri",
           86.36666666666666
          ],
          [
           "Missouri",
           86.36666666666666
          ],
          [
           "Missouri",
           86.36666666666666
          ],
          [
           "Missouri",
           86.36666666666666
          ],
          [
           "Missouri",
           86.36666666666666
          ],
          [
           "Missouri",
           86.36666666666666
          ],
          [
           "Missouri",
           86.36666666666666
          ],
          [
           "Missouri",
           72
          ],
          [
           "Missouri",
           86.36666666666666
          ],
          [
           "Missouri",
           86.36666666666666
          ],
          [
           "Missouri",
           86
          ],
          [
           "Missouri",
           86.36666666666666
          ],
          [
           "Missouri",
           86.36666666666666
          ],
          [
           "Missouri",
           73
          ],
          [
           "Missouri",
           86.36666666666666
          ],
          [
           "Missouri",
           86.36666666666666
          ],
          [
           "Missouri",
           86.36666666666666
          ],
          [
           "Missouri",
           88
          ],
          [
           "Missouri",
           86.36666666666666
          ],
          [
           "Missouri",
           86.36666666666666
          ],
          [
           "Missouri",
           81
          ],
          [
           "Missouri",
           86.36666666666666
          ],
          [
           "Missouri",
           86.36666666666666
          ],
          [
           "Missouri",
           86.36666666666666
          ],
          [
           "Missouri",
           86.36666666666666
          ],
          [
           "Missouri",
           74
          ],
          [
           "Missouri",
           86.36666666666666
          ],
          [
           "Missouri",
           87
          ]
         ],
         "hovertemplate": "State=%{customdata[0]}<br>Year=%{x}<br>Phosphorous (lbs/acre)=%{y}<br>Phosphorous (%)=%{customdata[1]}<extra></extra>",
         "legendgroup": "Missouri",
         "marker": {
          "color": "#B6E880",
          "symbol": "circle"
         },
         "mode": "markers",
         "name": "Missouri",
         "orientation": "v",
         "showlegend": true,
         "type": "scatter",
         "x": {
          "bdata": "rAetB64HrwewB7EHsgezB7QHtQe2B7cHuAe5B7oHuwe8B70Hvge/B8AHwQfCB8MHxAfFB8YHxwfIB8kHygfLB8wHzQfOB88H0AfRB9IH0wfUB9UH1gfXB9gH2QfaB9sH3AfdB94H3wfgB+EH",
          "dtype": "i2"
         },
         "xaxis": "x",
         "y": {
          "bdata": "AAAAAAAATUAAAAAAAABHQAAAAAAAgExAAAAAAACASkAAAAAAAABIQAAAAAAAgEhAAAAAAAAARUAAAAAAAIBGQAAAAAAAgElAAAAAAAAAS0AAAAAAAIBJQAAAAAAAgEVAAAAAAACAR0AAAAAAAIBDQAAAAAAAAEhAAAAAAAAASUAAAAAAAIBGQAAAAAAAgEJAAAAAAAAAP0AAAAAAAIBDQAAAAAAAAD9AAAAAAACAQUAAAAAAAABIQHd3d3d390VAd3d3d3f3RUB3d3d3d/dFQHd3d3d390VAd3d3d3f3RUB3d3d3d/dFQHd3d3d390VAd3d3d3f3RUB3d3d3d/dFQHd3d3d390VAAAAAAACAQkB3d3d3d/dFQHd3d3d390VAAAAAAAAAQUB3d3d3d/dFQHd3d3d390VAAAAAAAAAREB3d3d3d/dFQHd3d3d390VAd3d3d3f3RUAAAAAAAAA/QHd3d3d390VAd3d3d3f3RUAAAAAAAABIQHd3d3d390VAd3d3d3f3RUB3d3d3d/dFQHd3d3d390VAAAAAAACAQUB3d3d3d/dFQAAAAAAAAEdA",
          "dtype": "f8"
         },
         "yaxis": "y"
        },
        {
         "hovertemplate": "<b>OLS trendline</b><br>Phosphorous (Pounds/Acre) = -0.138599 * Year + 319.814<br>R<sup>2</sup>=0.146003<br><br>State=Missouri<br>Year=%{x}<br>Phosphorous (lbs/acre)=%{y} <b>(trend)</b><extra></extra>",
         "legendgroup": "Missouri",
         "marker": {
          "color": "#B6E880",
          "symbol": "circle"
         },
         "mode": "lines",
         "name": "Missouri",
         "showlegend": false,
         "type": "scatter",
         "x": {
          "bdata": "rAetB64HrwewB7EHsgezB7QHtQe2B7cHuAe5B7oHuwe8B70Hvge/B8AHwQfCB8MHxAfFB8YHxwfIB8kHygfLB8wHzQfOB88H0AfRB9IH0wfUB9UH1gfXB9gH2QfaB9sH3AfdB94H3wfgB+EH",
          "dtype": "i2"
         },
         "xaxis": "x",
         "y": {
          "bdata": "mJmgzpfNR0C4N5o12rtHQNDVk5wcqkdA8HONA1+YR0AQEodqoYZHQDCwgNHjdEdASE56OCZjR0Bo7HOfaFFHQIiKbQarP0dAqChnbe0tR0DAxmDULxxHQOBkWjtyCkdAAANUorT4RkAgoU0J9+ZGQDg/R3A51UZAWN1A13vDRkB4ezo+vrFGQJgZNKUAoEZAsLctDEOORkDQVSdzhXxGQPDzINrHakZAEJIaQQpZRkAoMBSoTEdGQEjODQ+PNUZAaGwHdtEjRkCICgHdExJGQKCo+kNWAEZAwEb0qpjuRUDg5O0R29xFQACD53gdy0VAGCHh31+5RUA4v9pGoqdFQFhd1K3klUVAePvNFCeERUCQmcd7aXJFQLA3weKrYEVA0NW6Se5ORUDwc7SwMD1FQAgSrhdzK0VAKLCnfrUZRUBITqHl9wdFQGjsmkw69kRAgIqUs3zkRECgKI4av9JEQMDGh4EBwURA4GSB6EOvRED4AntPhp1EQBihdLbIi0RAOD9uHQt6REBY3WeETWhEQHB7YeuPVkRAkBlbUtJERECwt1S5FDNEQNBVTiBXIURA",
          "dtype": "f8"
         },
         "yaxis": "y"
        },
        {
         "customdata": [
          [
           "New Mexico",
           58
          ],
          [
           "New Mexico",
           45
          ],
          [
           "New Mexico",
           44
          ],
          [
           "New Mexico",
           57
          ],
          [
           "New Mexico",
           62
          ],
          [
           "New Mexico",
           48
          ],
          [
           "New Mexico",
           50
          ],
          [
           "New Mexico",
           42
          ],
          [
           "New Mexico",
           63
          ],
          [
           "New Mexico",
           38
          ],
          [
           "New Mexico",
           48
          ],
          [
           "New Mexico",
           32
          ],
          [
           "New Mexico",
           38
          ],
          [
           "New Mexico",
           43.57142857142857
          ],
          [
           "New Mexico",
           43.57142857142857
          ],
          [
           "New Mexico",
           51
          ],
          [
           "New Mexico",
           28
          ],
          [
           "New Mexico",
           42
          ],
          [
           "New Mexico",
           30
          ],
          [
           "New Mexico",
           30
          ],
          [
           "New Mexico",
           34
          ],
          [
           "New Mexico",
           47
          ],
          [
           "New Mexico",
           28
          ],
          [
           "New Mexico",
           43.57142857142857
          ],
          [
           "New Mexico",
           43.57142857142857
          ],
          [
           "New Mexico",
           43.57142857142857
          ],
          [
           "New Mexico",
           43.57142857142857
          ],
          [
           "New Mexico",
           43.57142857142857
          ],
          [
           "New Mexico",
           43.57142857142857
          ],
          [
           "New Mexico",
           43.57142857142857
          ],
          [
           "New Mexico",
           43.57142857142857
          ],
          [
           "New Mexico",
           43.57142857142857
          ],
          [
           "New Mexico",
           43.57142857142857
          ],
          [
           "New Mexico",
           43.57142857142857
          ],
          [
           "New Mexico",
           43.57142857142857
          ],
          [
           "New Mexico",
           43.57142857142857
          ],
          [
           "New Mexico",
           43.57142857142857
          ],
          [
           "New Mexico",
           43.57142857142857
          ],
          [
           "New Mexico",
           43.57142857142857
          ],
          [
           "New Mexico",
           43.57142857142857
          ],
          [
           "New Mexico",
           43.57142857142857
          ],
          [
           "New Mexico",
           43.57142857142857
          ],
          [
           "New Mexico",
           43.57142857142857
          ],
          [
           "New Mexico",
           43.57142857142857
          ],
          [
           "New Mexico",
           43.57142857142857
          ],
          [
           "New Mexico",
           43.57142857142857
          ],
          [
           "New Mexico",
           43.57142857142857
          ],
          [
           "New Mexico",
           43.57142857142857
          ],
          [
           "New Mexico",
           43.57142857142857
          ],
          [
           "New Mexico",
           43.57142857142857
          ],
          [
           "New Mexico",
           43.57142857142857
          ],
          [
           "New Mexico",
           43.57142857142857
          ],
          [
           "New Mexico",
           43.57142857142857
          ],
          [
           "New Mexico",
           43.57142857142857
          ]
         ],
         "hovertemplate": "State=%{customdata[0]}<br>Year=%{x}<br>Phosphorous (lbs/acre)=%{y}<br>Phosphorous (%)=%{customdata[1]}<extra></extra>",
         "legendgroup": "New Mexico",
         "marker": {
          "color": "#FF97FF",
          "symbol": "circle"
         },
         "mode": "markers",
         "name": "New Mexico",
         "orientation": "v",
         "showlegend": true,
         "type": "scatter",
         "x": {
          "bdata": "rAetB64HrwewB7EHsgezB7QHtQe2B7cHuAe5B7oHuwe8B70Hvge/B8AHwQfCB8MHxAfFB8YHxwfIB8kHygfLB8wHzQfOB88H0AfRB9IH0wfUB9UH1gfXB9gH2QfaB9sH3AfdB94H3wfgB+EH",
          "dtype": "i2"
         },
         "xaxis": "x",
         "y": {
          "bdata": "AAAAAAAATkAAAAAAAMBTQAAAAAAAAFBAAAAAAACAUUAAAAAAAIBSQAAAAAAAQFNAAAAAAABAVUAAAAAAAABJQAAAAAAAQFFAAAAAAAAAUEAAAAAAAIBMQAAAAAAAAE1AAAAAAACATUDbtm3btu1OQNu2bdu27U5AAAAAAAAAS0AAAAAAAIBJQAAAAAAAAElAAAAAAACATEAAAAAAAIBIQAAAAAAAAFBAAAAAAAAASEAAAAAAAABOQNu2bdu27U5A27Zt27btTkDbtm3btu1OQNu2bdu27U5A27Zt27btTkDbtm3btu1OQNu2bdu27U5A27Zt27btTkDbtm3btu1OQNu2bdu27U5A27Zt27btTkDbtm3btu1OQNu2bdu27U5A27Zt27btTkDbtm3btu1OQNu2bdu27U5A27Zt27btTkDbtm3btu1OQNu2bdu27U5A27Zt27btTkDbtm3btu1OQNu2bdu27U5A27Zt27btTkDbtm3btu1OQNu2bdu27U5A27Zt27btTkDbtm3btu1OQNu2bdu27U5A27Zt27btTkDbtm3btu1OQNu2bdu27U5A",
          "dtype": "f8"
         },
         "yaxis": "y"
        },
        {
         "hovertemplate": "<b>OLS trendline</b><br>Phosphorous (Pounds/Acre) = -0.0714095 * Year + 203.998<br>R<sup>2</sup>=0.029961<br><br>State=New Mexico<br>Year=%{x}<br>Phosphorous (lbs/acre)=%{y} <b>(trend)</b><extra></extra>",
         "legendgroup": "New Mexico",
         "marker": {
          "color": "#FF97FF",
          "symbol": "circle"
         },
         "mode": "lines",
         "name": "New Mexico",
         "showlegend": false,
         "type": "scatter",
         "x": {
          "bdata": "rAetB64HrwewB7EHsgezB7QHtQe2B7cHuAe5B7oHuwe8B70Hvge/B8AHwQfCB8MHxAfFB8YHxwfIB8kHygfLB8wHzQfOB88H0AfRB9IH0wfUB9UH1gfXB9gH2QfaB9sH3AfdB94H3wfgB+EH",
          "dtype": "i2"
         },
         "xaxis": "x",
         "y": {
          "bdata": "LExUc+/fT0AU/uqAy9ZPQPivgY6nzU9A4GEYnIPET0DEE6+pX7tPQKzFRbc7sk9AkHfcxBepT0B4KXPS859PQFzbCeDPlk9ARI2g7auNT0AoPzf7h4RPQBDxzQhke09A9KJkFkByT0DcVPsjHGlPQMAGkjH4X09AqLgoP9RWT0CMar9MsE1PQHQcVlqMRE9AWM7sZ2g7T0BAgIN1RDJPQCQyGoMgKU9ADOSwkPwfT0DwlUee2BZPQNhH3qu0DU9AvPl0uZAET0CkqwvHbPtOQIhdotRI8k5AcA854iTpTkBUwc/vAOBOQDxzZv3c1k5AICX9CrnNTkAI15MYlcROQOyIKiZxu05A1DrBM02yTkC47FdBKalOQKCe7k4FoE5AhFCFXOGWTkBsAhxqvY1OQFC0sneZhE5AOGZJhXV7TkAcGOCSUXJOQATKdqAtaU5A7HsNrglgTkDQLaS75VZOQLjfOsnBTU5AnJHR1p1ETkCEQ2jkeTtOQGj1/vFVMk5AUKeV/zEpTkA0WSwNDiBOQBwLwxrqFk5AAL1ZKMYNTkDobvA1ogROQMwgh0N++01A",
          "dtype": "f8"
         },
         "yaxis": "y"
        },
        {
         "customdata": [
          [
           "North Carolina",
           100
          ],
          [
           "North Carolina",
           100
          ],
          [
           "North Carolina",
           95
          ],
          [
           "North Carolina",
           100
          ],
          [
           "North Carolina",
           100
          ],
          [
           "North Carolina",
           90
          ],
          [
           "North Carolina",
           100
          ],
          [
           "North Carolina",
           98
          ],
          [
           "North Carolina",
           100
          ],
          [
           "North Carolina",
           95
          ],
          [
           "North Carolina",
           100
          ],
          [
           "North Carolina",
           91
          ],
          [
           "North Carolina",
           91
          ],
          [
           "North Carolina",
           88.0909090909091
          ],
          [
           "North Carolina",
           88.0909090909091
          ],
          [
           "North Carolina",
           88.0909090909091
          ],
          [
           "North Carolina",
           88.0909090909091
          ],
          [
           "North Carolina",
           88.0909090909091
          ],
          [
           "North Carolina",
           88.0909090909091
          ],
          [
           "North Carolina",
           88.0909090909091
          ],
          [
           "North Carolina",
           88.0909090909091
          ],
          [
           "North Carolina",
           88.0909090909091
          ],
          [
           "North Carolina",
           88.0909090909091
          ],
          [
           "North Carolina",
           88.0909090909091
          ],
          [
           "North Carolina",
           88.0909090909091
          ],
          [
           "North Carolina",
           88.0909090909091
          ],
          [
           "North Carolina",
           88.0909090909091
          ],
          [
           "North Carolina",
           88.0909090909091
          ],
          [
           "North Carolina",
           88.0909090909091
          ],
          [
           "North Carolina",
           88.0909090909091
          ],
          [
           "North Carolina",
           88.0909090909091
          ],
          [
           "North Carolina",
           88.0909090909091
          ],
          [
           "North Carolina",
           88.0909090909091
          ],
          [
           "North Carolina",
           64
          ],
          [
           "North Carolina",
           90
          ],
          [
           "North Carolina",
           89
          ],
          [
           "North Carolina",
           80
          ],
          [
           "North Carolina",
           88.0909090909091
          ],
          [
           "North Carolina",
           88.0909090909091
          ],
          [
           "North Carolina",
           74
          ],
          [
           "North Carolina",
           88.0909090909091
          ],
          [
           "North Carolina",
           88.0909090909091
          ],
          [
           "North Carolina",
           88.0909090909091
          ],
          [
           "North Carolina",
           71
          ],
          [
           "North Carolina",
           88.0909090909091
          ],
          [
           "North Carolina",
           88.0909090909091
          ],
          [
           "North Carolina",
           68
          ],
          [
           "North Carolina",
           88.0909090909091
          ],
          [
           "North Carolina",
           88.0909090909091
          ],
          [
           "North Carolina",
           88.0909090909091
          ],
          [
           "North Carolina",
           88.0909090909091
          ],
          [
           "North Carolina",
           75
          ],
          [
           "North Carolina",
           88.0909090909091
          ],
          [
           "North Carolina",
           67
          ]
         ],
         "hovertemplate": "State=%{customdata[0]}<br>Year=%{x}<br>Phosphorous (lbs/acre)=%{y}<br>Phosphorous (%)=%{customdata[1]}<extra></extra>",
         "legendgroup": "North Carolina",
         "marker": {
          "color": "#FECB52",
          "symbol": "circle"
         },
         "mode": "markers",
         "name": "North Carolina",
         "orientation": "v",
         "showlegend": true,
         "type": "scatter",
         "x": {
          "bdata": "rAetB64HrwewB7EHsgezB7QHtQe2B7cHuAe5B7oHuwe8B70Hvge/B8AHwQfCB8MHxAfFB8YHxwfIB8kHygfLB8wHzQfOB88H0AfRB9IH0wfUB9UH1gfXB9gH2QfaB9sH3AfdB94H3wfgB+EH",
          "dtype": "i2"
         },
         "xaxis": "x",
         "y": {
          "bdata": "AAAAAAAAS0AAAAAAAABLQAAAAAAAgEpAAAAAAABAUEAAAAAAAABLQAAAAAAAAEtAAAAAAACAS0AAAAAAAIBKQAAAAAAAgExAAAAAAAAAUUAAAAAAAABMQAAAAAAAAEpAAAAAAAAARkC66KKLLjpJQLrooosuOklAuuiiiy46SUC66KKLLjpJQLrooosuOklAuuiiiy46SUC66KKLLjpJQLrooosuOklAuuiiiy46SUC66KKLLjpJQLrooosuOklAuuiiiy46SUC66KKLLjpJQLrooosuOklAuuiiiy46SUC66KKLLjpJQLrooosuOklAuuiiiy46SUC66KKLLjpJQLrooosuOklAAAAAAAAAQ0AAAAAAAIBLQAAAAAAAgEdAAAAAAACAR0C66KKLLjpJQLrooosuOklAAAAAAACAREC66KKLLjpJQLrooosuOklAuuiiiy46SUAAAAAAAAA/QLrooosuOklAuuiiiy46SUAAAAAAAABHQLrooosuOklAuuiiiy46SUC66KKLLjpJQLrooosuOklAAAAAAACAQkC66KKLLjpJQAAAAAAAgEhA",
          "dtype": "f8"
         },
         "yaxis": "y"
        },
        {
         "hovertemplate": "<b>OLS trendline</b><br>Phosphorous (Pounds/Acre) = -0.178436 * Year + 405.632<br>R<sup>2</sup>=0.262436<br><br>State=North Carolina<br>Year=%{x}<br>Phosphorous (lbs/acre)=%{y} <b>(trend)</b><extra></extra>",
         "legendgroup": "North Carolina",
         "marker": {
          "color": "#FECB52",
          "symbol": "circle"
         },
         "mode": "lines",
         "name": "North Carolina",
         "showlegend": false,
         "type": "scatter",
         "x": {
          "bdata": "rAetB64HrwewB7EHsgezB7QHtQe2B7cHuAe5B7oHuwe8B70Hvge/B8AHwQfCB8MHxAfFB8YHxwfIB8kHygfLB8wHzQfOB88H0AfRB9IH0wfUB9UH1gfXB9gH2QfaB9sH3AfdB94H3wfgB+EH",
          "dtype": "i2"
         },
         "xaxis": "x",
         "y": {
          "bdata": "cA618W+XS0CYiq/ymIBLQMAGqvPBaUtA6IKk9OpSS0AQ/571EzxLQDh7mfY8JUtAWPeT92UOS0CAc474jvdKQKjviPm34EpA0GuD+uDJSkD45337CbNKQCBkePwynEpASOBy/VuFSkBwXG3+hG5KQJjYZ/+tV0pAwFRiANdASkDo0FwBACpKQBBNVwIpE0pAOMlRA1L8SUBgRUwEe+VJQIjBRgWkzklAsD1BBs23SUDYuTsH9qBJQAA2NggfiklAKLIwCUhzSUBQLisKcVxJQHiqJQuaRUlAoCYgDMMuSUDAohoN7BdJQOgeFQ4VAUlAEJsPDz7qSEA4FwoQZ9NIQGCTBBGQvEhAiA//EbmlSECwi/kS4o5IQNgH9BMLeEhAAITuFDRhSEAoAOkVXUpIQFB84xaGM0hAePjdF68cSECgdNgY2AVIQMjw0hkB70dA8GzNGirYR0AY6ccbU8FHQEBlwhx8qkdAaOG8HaWTR0CQXbceznxHQLjZsR/3ZUdA4FWsICBPR0AI0qYhSThHQDBOoSJyIUdAUMqbI5sKR0B4RpYkxPNGQKDCkCXt3EZA",
          "dtype": "f8"
         },
         "yaxis": "y"
        },
        {
         "customdata": [
          [
           "Oklahoma",
           49
          ],
          [
           "Oklahoma",
           48
          ],
          [
           "Oklahoma",
           45
          ],
          [
           "Oklahoma",
           45
          ],
          [
           "Oklahoma",
           38
          ],
          [
           "Oklahoma",
           50
          ],
          [
           "Oklahoma",
           43
          ],
          [
           "Oklahoma",
           38
          ],
          [
           "Oklahoma",
           42
          ],
          [
           "Oklahoma",
           45
          ],
          [
           "Oklahoma",
           43
          ],
          [
           "Oklahoma",
           29
          ],
          [
           "Oklahoma",
           55
          ],
          [
           "Oklahoma",
           58
          ],
          [
           "Oklahoma",
           61
          ],
          [
           "Oklahoma",
           51
          ],
          [
           "Oklahoma",
           58
          ],
          [
           "Oklahoma",
           34
          ],
          [
           "Oklahoma",
           19
          ],
          [
           "Oklahoma",
           52
          ],
          [
           "Oklahoma",
           42
          ],
          [
           "Oklahoma",
           32
          ],
          [
           "Oklahoma",
           39
          ],
          [
           "Oklahoma",
           44.166666666666664
          ],
          [
           "Oklahoma",
           44.166666666666664
          ],
          [
           "Oklahoma",
           44.166666666666664
          ],
          [
           "Oklahoma",
           44.166666666666664
          ],
          [
           "Oklahoma",
           44.166666666666664
          ],
          [
           "Oklahoma",
           44.166666666666664
          ],
          [
           "Oklahoma",
           44.166666666666664
          ],
          [
           "Oklahoma",
           44.166666666666664
          ],
          [
           "Oklahoma",
           44.166666666666664
          ],
          [
           "Oklahoma",
           44.166666666666664
          ],
          [
           "Oklahoma",
           44.166666666666664
          ],
          [
           "Oklahoma",
           44.166666666666664
          ],
          [
           "Oklahoma",
           44.166666666666664
          ],
          [
           "Oklahoma",
           44.166666666666664
          ],
          [
           "Oklahoma",
           44.166666666666664
          ],
          [
           "Oklahoma",
           44.166666666666664
          ],
          [
           "Oklahoma",
           44.166666666666664
          ],
          [
           "Oklahoma",
           44.166666666666664
          ],
          [
           "Oklahoma",
           44.166666666666664
          ],
          [
           "Oklahoma",
           44.166666666666664
          ],
          [
           "Oklahoma",
           44.166666666666664
          ],
          [
           "Oklahoma",
           44.166666666666664
          ],
          [
           "Oklahoma",
           44.166666666666664
          ],
          [
           "Oklahoma",
           44.166666666666664
          ],
          [
           "Oklahoma",
           44.166666666666664
          ],
          [
           "Oklahoma",
           44.166666666666664
          ],
          [
           "Oklahoma",
           44.166666666666664
          ],
          [
           "Oklahoma",
           44.166666666666664
          ],
          [
           "Oklahoma",
           44.166666666666664
          ],
          [
           "Oklahoma",
           44.166666666666664
          ],
          [
           "Oklahoma",
           44
          ]
         ],
         "hovertemplate": "State=%{customdata[0]}<br>Year=%{x}<br>Phosphorous (lbs/acre)=%{y}<br>Phosphorous (%)=%{customdata[1]}<extra></extra>",
         "legendgroup": "Oklahoma",
         "marker": {
          "color": "#636efa",
          "symbol": "circle"
         },
         "mode": "markers",
         "name": "Oklahoma",
         "orientation": "v",
         "showlegend": true,
         "type": "scatter",
         "x": {
          "bdata": "rAetB64HrwewB7EHsgezB7QHtQe2B7cHuAe5B7oHuwe8B70Hvge/B8AHwQfCB8MHxAfFB8YHxwfIB8kHygfLB8wHzQfOB88H0AfRB9IH0wfUB9UH1gfXB9gH2QfaB9sH3AfdB94H3wfgB+EH",
          "dtype": "i2"
         },
         "xaxis": "x",
         "y": {
          "bdata": "AAAAAAAAPEAAAAAAAAA7QAAAAAAAgEBAAAAAAAAAN0AAAAAAAAA8QAAAAAAAgEJAAAAAAAAAO0AAAAAAAABCQAAAAAAAAENAAAAAAACAQEAAAAAAAAA+QAAAAAAAAD1AAAAAAAAAP0AAAAAAAABDQAAAAAAAgENAAAAAAACARUAAAAAAAAA+QAAAAAAAAEdAAAAAAAAAPUAAAAAAAABCQAAAAAAAAEVAAAAAAAAAQUAAAAAAAAA9QFVVVVVV5UBAVVVVVVXlQEBVVVVVVeVAQFVVVVVV5UBAVVVVVVXlQEBVVVVVVeVAQFVVVVVV5UBAVVVVVVXlQEBVVVVVVeVAQFVVVVVV5UBAVVVVVVXlQEBVVVVVVeVAQFVVVVVV5UBAVVVVVVXlQEBVVVVVVeVAQFVVVVVV5UBAVVVVVVXlQEBVVVVVVeVAQFVVVVVV5UBAVVVVVVXlQEBVVVVVVeVAQFVVVVVV5UBAVVVVVVXlQEBVVVVVVeVAQFVVVVVV5UBAVVVVVVXlQEBVVVVVVeVAQFVVVVVV5UBAVVVVVVXlQEBVVVVVVeVAQAAAAAAAgEZA",
          "dtype": "f8"
         },
         "yaxis": "y"
        },
        {
         "hovertemplate": "<b>OLS trendline</b><br>Phosphorous (Pounds/Acre) = 0.065161 * Year + -95.9114<br>R<sup>2</sup>=0.062443<br><br>State=Oklahoma<br>Year=%{x}<br>Phosphorous (lbs/acre)=%{y} <b>(trend)</b><extra></extra>",
         "legendgroup": "Oklahoma",
         "marker": {
          "color": "#636efa",
          "symbol": "circle"
         },
         "mode": "lines",
         "name": "Oklahoma",
         "showlegend": false,
         "type": "scatter",
         "x": {
          "bdata": "rAetB64HrwewB7EHsgezB7QHtQe2B7cHuAe5B7oHuwe8B70Hvge/B8AHwQfCB8MHxAfFB8YHxwfIB8kHygfLB8wHzQfOB88H0AfRB9IH0wfUB9UH1gfXB9gH2QfaB9sH3AfdB94H3wfgB+EH",
          "dtype": "i2"
         },
         "xaxis": "x",
         "y": {
          "bdata": "fpQvnE4IQEDg7aTOpRBAQEhHGgH9GEBArKCPM1QhQEAQ+gRmqylAQHRTepgCMkBA2Kzvylk6QEA8BmX9sEJAQKBf2i8IS0BABLlPYl9TQEBsEsWUtltAQNBrOscNZEBANMWv+WRsQECYHiUsvHRAQPx3ml4TfUBAYNEPkWqFQEDEKoXDwY1AQCiE+vUYlkBAkN1vKHCeQED0NuVax6ZAQFiQWo0er0BAvOnPv3W3QEAgQ0XyzL9AQIScuiQkyEBA6PUvV3vQQEBMT6WJ0thAQLSoGrwp4UBAGAKQ7oDpQEB8WwUh2PFAQOC0elMv+kBARA7whYYCQUCoZ2W43QpBQAzB2uo0E0FAcBpQHYwbQUDYc8VP4yNBQDzNOoI6LEFAoCawtJE0QUAEgCXn6DxBQGjZmhlARUFAzDIQTJdNQUAwjIV+7lVBQJTl+rBFXkFA/D5w45xmQUBgmOUV9G5BQMTxWkhLd0FAKEvQeqJ/QUCMpEWt+YdBQPD9ut9QkEFAVFcwEqiYQUC8sKVE/6BBQCAKG3dWqUFAhGOQqa2xQUDovAXcBLpBQEwWew5cwkFA",
          "dtype": "f8"
         },
         "yaxis": "y"
        },
        {
         "customdata": [
          [
           "South Carolina",
           100
          ],
          [
           "South Carolina",
           100
          ],
          [
           "South Carolina",
           100
          ],
          [
           "South Carolina",
           100
          ],
          [
           "South Carolina",
           100
          ],
          [
           "South Carolina",
           97
          ],
          [
           "South Carolina",
           100
          ],
          [
           "South Carolina",
           97
          ],
          [
           "South Carolina",
           97
          ],
          [
           "South Carolina",
           99
          ],
          [
           "South Carolina",
           94
          ],
          [
           "South Carolina",
           91
          ],
          [
           "South Carolina",
           100
          ],
          [
           "South Carolina",
           94
          ],
          [
           "South Carolina",
           91.5
          ],
          [
           "South Carolina",
           87
          ],
          [
           "South Carolina",
           97
          ],
          [
           "South Carolina",
           83
          ],
          [
           "South Carolina",
           83
          ],
          [
           "South Carolina",
           83
          ],
          [
           "South Carolina",
           87
          ],
          [
           "South Carolina",
           83
          ],
          [
           "South Carolina",
           77
          ],
          [
           "South Carolina",
           91.5
          ],
          [
           "South Carolina",
           91.5
          ],
          [
           "South Carolina",
           91.5
          ],
          [
           "South Carolina",
           91.5
          ],
          [
           "South Carolina",
           91.5
          ],
          [
           "South Carolina",
           91.5
          ],
          [
           "South Carolina",
           91.5
          ],
          [
           "South Carolina",
           91.5
          ],
          [
           "South Carolina",
           91.5
          ],
          [
           "South Carolina",
           91.5
          ],
          [
           "South Carolina",
           100
          ],
          [
           "South Carolina",
           91.5
          ],
          [
           "South Carolina",
           91.5
          ],
          [
           "South Carolina",
           91.5
          ],
          [
           "South Carolina",
           91.5
          ],
          [
           "South Carolina",
           91.5
          ],
          [
           "South Carolina",
           78
          ],
          [
           "South Carolina",
           91.5
          ],
          [
           "South Carolina",
           91.5
          ],
          [
           "South Carolina",
           91.5
          ],
          [
           "South Carolina",
           79
          ],
          [
           "South Carolina",
           91.5
          ],
          [
           "South Carolina",
           91.5
          ],
          [
           "South Carolina",
           91.5
          ],
          [
           "South Carolina",
           91.5
          ],
          [
           "South Carolina",
           91.5
          ],
          [
           "South Carolina",
           91.5
          ],
          [
           "South Carolina",
           91.5
          ],
          [
           "South Carolina",
           73
          ],
          [
           "South Carolina",
           91.5
          ],
          [
           "South Carolina",
           91.5
          ]
         ],
         "hovertemplate": "State=%{customdata[0]}<br>Year=%{x}<br>Phosphorous (lbs/acre)=%{y}<br>Phosphorous (%)=%{customdata[1]}<extra></extra>",
         "legendgroup": "South Carolina",
         "marker": {
          "color": "#EF553B",
          "symbol": "circle"
         },
         "mode": "markers",
         "name": "South Carolina",
         "orientation": "v",
         "showlegend": true,
         "type": "scatter",
         "x": {
          "bdata": "rAetB64HrwewB7EHsgezB7QHtQe2B7cHuAe5B7oHuwe8B70Hvge/B8AHwQfCB8MHxAfFB8YHxwfIB8kHygfLB8wHzQfOB88H0AfRB9IH0wfUB9UH1gfXB9gH2QfaB9sH3AfdB94H3wfgB+EH",
          "dtype": "i2"
         },
         "xaxis": "x",
         "y": {
          "bdata": "AAAAAAAAU0AAAAAAAEBUQAAAAAAAQFVAAAAAAABAVUAAAAAAAEBWQAAAAAAAAFVAAAAAAADAUUAAAAAAAIBTQAAAAAAAQFNAAAAAAAAAUkAAAAAAAEBRQAAAAAAAgFBAAAAAAACAT0AAAAAAAEBQQOzETuzEjk9AAAAAAACASUAAAAAAAABOQAAAAAAAAEVAAAAAAAAARkAAAAAAAABFQAAAAAAAgEdAAAAAAACASUAAAAAAAABNQOzETuzEjk9A7MRO7MSOT0DsxE7sxI5PQOzETuzEjk9A7MRO7MSOT0DsxE7sxI5PQOzETuzEjk9A7MRO7MSOT0DsxE7sxI5PQOzETuzEjk9AAAAAAAAAS0DsxE7sxI5PQOzETuzEjk9A7MRO7MSOT0DsxE7sxI5PQOzETuzEjk9AAAAAAAAAR0DsxE7sxI5PQOzETuzEjk9A7MRO7MSOT0AAAAAAAABHQOzETuzEjk9A7MRO7MSOT0DsxE7sxI5PQOzETuzEjk9A7MRO7MSOT0DsxE7sxI5PQOzETuzEjk9AAAAAAACAQ0DsxE7sxI5PQOzETuzEjk9A",
          "dtype": "f8"
         },
         "yaxis": "y"
        },
        {
         "hovertemplate": "<b>OLS trendline</b><br>Phosphorous (Pounds/Acre) = -0.317723 * Year + 695.543<br>R<sup>2</sup>=0.211915<br><br>State=South Carolina<br>Year=%{x}<br>Phosphorous (lbs/acre)=%{y} <b>(trend)</b><extra></extra>",
         "legendgroup": "South Carolina",
         "marker": {
          "color": "#EF553B",
          "symbol": "circle"
         },
         "mode": "lines",
         "name": "South Carolina",
         "showlegend": false,
         "type": "scatter",
         "x": {
          "bdata": "rAetB64HrwewB7EHsgezB7QHtQe2B7cHuAe5B7oHuwe8B70Hvge/B8AHwQfCB8MHxAfFB8YHxwfIB8kHygfLB8wHzQfOB88H0AfRB9IH0wfUB9UH1gfXB9gH2QfaB9sH3AfdB94H3wfgB+EH",
          "dtype": "i2"
         },
         "xaxis": "x",
         "y": {
          "bdata": "ED7iIz7iUUAIoECR6M1RQAACn/6SuVFA+GP9az2lUUDwxVvZ55BRQPAnukaSfFFA6IkYtDxoUUDg63Yh51NRQNhN1Y6RP1FA0K8z/DsrUUDIEZJp5hZRQMhz8NaQAlFAwNVORDvuUEC4N62x5dlQQLCZCx+QxVBAqPtpjDqxUECoXcj55JxQQKC/JmePiFBAmCGF1Dl0UECQg+NB5F9QQIjlQa+OS1BAgEegHDk3UECAqf6J4yJQQHgLXfeNDlBA4Np2yXD0T0DQnjOkxctPQMBi8H4ao09AwCatWW96T0Cw6mk0xFFPQKCuJg8ZKU9AkHLj6W0AT0CANqDEwtdOQHD6XJ8Xr05AcL4ZemyGTkBggtZUwV1OQFBGky8WNU5AQApQCmsMTkAwzgzlv+NNQDCSyb8Uu01AIFaGmmmSTUAQGkN1vmlNQADe/08TQU1A8KG8KmgYTUDgZXkFve9MQOApNuARx0xA0O3yumaeTEDAsa+Vu3VMQLB1bHAQTUxAoDkpS2UkTECg/eUluvtLQJDBogAP00tAgIVf22OqS0BwSRy2uIFLQGAN2ZANWUtA",
          "dtype": "f8"
         },
         "yaxis": "y"
        },
        {
         "customdata": [
          [
           "Tennessee",
           97
          ],
          [
           "Tennessee",
           92
          ],
          [
           "Tennessee",
           89
          ],
          [
           "Tennessee",
           91
          ],
          [
           "Tennessee",
           89
          ],
          [
           "Tennessee",
           97
          ],
          [
           "Tennessee",
           96
          ],
          [
           "Tennessee",
           93
          ],
          [
           "Tennessee",
           94
          ],
          [
           "Tennessee",
           100
          ],
          [
           "Tennessee",
           96
          ],
          [
           "Tennessee",
           98
          ],
          [
           "Tennessee",
           91
          ],
          [
           "Tennessee",
           92
          ],
          [
           "Tennessee",
           95
          ],
          [
           "Tennessee",
           99
          ],
          [
           "Tennessee",
           94
          ],
          [
           "Tennessee",
           95.78125
          ],
          [
           "Tennessee",
           97
          ],
          [
           "Tennessee",
           100
          ],
          [
           "Tennessee",
           100
          ],
          [
           "Tennessee",
           97
          ],
          [
           "Tennessee",
           100
          ],
          [
           "Tennessee",
           95.78125
          ],
          [
           "Tennessee",
           95.78125
          ],
          [
           "Tennessee",
           95.78125
          ],
          [
           "Tennessee",
           95.78125
          ],
          [
           "Tennessee",
           95.78125
          ],
          [
           "Tennessee",
           95.78125
          ],
          [
           "Tennessee",
           95.78125
          ],
          [
           "Tennessee",
           95.78125
          ],
          [
           "Tennessee",
           95.78125
          ],
          [
           "Tennessee",
           99
          ],
          [
           "Tennessee",
           99
          ],
          [
           "Tennessee",
           100
          ],
          [
           "Tennessee",
           99
          ],
          [
           "Tennessee",
           93
          ],
          [
           "Tennessee",
           95.78125
          ],
          [
           "Tennessee",
           95.78125
          ],
          [
           "Tennessee",
           92
          ],
          [
           "Tennessee",
           95.78125
          ],
          [
           "Tennessee",
           95.78125
          ],
          [
           "Tennessee",
           95.78125
          ],
          [
           "Tennessee",
           95
          ],
          [
           "Tennessee",
           95.78125
          ],
          [
           "Tennessee",
           95.78125
          ],
          [
           "Tennessee",
           96
          ],
          [
           "Tennessee",
           95.78125
          ],
          [
           "Tennessee",
           95.78125
          ],
          [
           "Tennessee",
           95.78125
          ],
          [
           "Tennessee",
           95.78125
          ],
          [
           "Tennessee",
           96
          ],
          [
           "Tennessee",
           95.78125
          ],
          [
           "Tennessee",
           99
          ]
         ],
         "hovertemplate": "State=%{customdata[0]}<br>Year=%{x}<br>Phosphorous (lbs/acre)=%{y}<br>Phosphorous (%)=%{customdata[1]}<extra></extra>",
         "legendgroup": "Tennessee",
         "marker": {
          "color": "#00cc96",
          "symbol": "circle"
         },
         "mode": "markers",
         "name": "Tennessee",
         "orientation": "v",
         "showlegend": true,
         "type": "scatter",
         "x": {
          "bdata": "rAetB64HrwewB7EHsgezB7QHtQe2B7cHuAe5B7oHuwe8B70Hvge/B8AHwQfCB8MHxAfFB8YHxwfIB8kHygfLB8wHzQfOB88H0AfRB9IH0wfUB9UH1gfXB9gH2QfaB9sH3AfdB94H3wfgB+EH",
          "dtype": "i2"
         },
         "xaxis": "x",
         "y": {
          "bdata": "AAAAAACASkAAAAAAAIBMQAAAAAAAAFBAAAAAAACATkAAAAAAAABNQAAAAAAAgExAAAAAAAAAT0AAAAAAAIBPQAAAAAAAgE5AAAAAAABAUUAAAAAAAABOQAAAAAAAAEpAAAAAAACATUAAAAAAAMBQQAAAAAAAQFFAAAAAAACAUkAAAAAAAABQQAAAAAAAKE5AAAAAAAAAT0AAAAAAAEBQQAAAAAAAAE9AAAAAAACATkAAAAAAAEBQQAAAAAAAKE5AAAAAAAAoTkAAAAAAAChOQAAAAAAAKE5AAAAAAAAoTkAAAAAAAChOQAAAAAAAKE5AAAAAAAAoTkAAAAAAAChOQAAAAAAAAE5AAAAAAAAATEAAAAAAAIBPQAAAAAAAAEtAAAAAAAAATEAAAAAAAChOQAAAAAAAKE5AAAAAAACASkAAAAAAAChOQAAAAAAAKE5AAAAAAAAoTkAAAAAAAIBJQAAAAAAAKE5AAAAAAAAoTkAAAAAAAIBJQAAAAAAAKE5AAAAAAAAoTkAAAAAAAChOQAAAAAAAKE5AAAAAAACAUEAAAAAAAChOQAAAAAAAgEtA",
          "dtype": "f8"
         },
         "yaxis": "y"
        },
        {
         "hovertemplate": "<b>OLS trendline</b><br>Phosphorous (Pounds/Acre) = -0.0622356 * Year + 184.192<br>R<sup>2</sup>=0.051069<br><br>State=Tennessee<br>Year=%{x}<br>Phosphorous (lbs/acre)=%{y} <b>(trend)</b><extra></extra>",
         "legendgroup": "Tennessee",
         "marker": {
          "color": "#00cc96",
          "symbol": "circle"
         },
         "mode": "lines",
         "name": "Tennessee",
         "showlegend": false,
         "type": "scatter",
         "x": {
          "bdata": "rAetB64HrwewB7EHsgezB7QHtQe2B7cHuAe5B7oHuwe8B70Hvge/B8AHwQfCB8MHxAfFB8YHxwfIB8kHygfLB8wHzQfOB88H0AfRB9IH0wfUB9UH1gfXB9gH2QfaB9sH3AfdB94H3wfgB+EH",
          "dtype": "i2"
         },
         "xaxis": "x",
         "y": {
          "bdata": "PqYxYBr7TkAEZnMKI/NOQMoltbQr605AkOX2XjTjTkBWpTgJPdtOQBxlerNF005A4iS8XU7LTkCo5P0HV8NOQG6kP7Jfu05ANGSBXGizTkD6I8MGcatOQMDjBLF5o05AhqNGW4KbTkBMY4gFi5NOQBIjyq+Ti05A2OILWpyDTkCeok0EpXtOQGRij66tc05AKiLRWLZrTkDw4RIDv2NOQLShVK3HW05AemGWV9BTTkBAIdgB2UtOQAbhGazhQ05AzKBbVuo7TkCSYJ0A8zNOQFgg36r7K05AHuAgVQQkTkDkn2L/DBxOQKpfpKkVFE5AcB/mUx4MTkA23yf+JgROQPyeaagv/E1Awl6rUjj0TUCIHu38QOxNQE7eLqdJ5E1AFJ5wUVLcTUDaXbL7WtRNQKAd9KVjzE1AZt01UGzETUAsnXf6dLxNQPJcuaR9tE1AuBz7ToasTUB+3Dz5jqRNQEScfqOXnE1AClzATaCUTUDOGwL4qIxNQJTbQ6KxhE1AWpuFTLp8TUAgW8f2wnRNQOYaCaHLbE1ArNpKS9RkTUBymoz13FxNQDhazp/lVE1A",
          "dtype": "f8"
         },
         "yaxis": "y"
        },
        {
         "customdata": [
          [
           "Texas",
           38
          ],
          [
           "Texas",
           40
          ],
          [
           "Texas",
           40
          ],
          [
           "Texas",
           39
          ],
          [
           "Texas",
           37
          ],
          [
           "Texas",
           34
          ],
          [
           "Texas",
           30
          ],
          [
           "Texas",
           30
          ],
          [
           "Texas",
           36
          ],
          [
           "Texas",
           41
          ],
          [
           "Texas",
           47
          ],
          [
           "Texas",
           23
          ],
          [
           "Texas",
           40
          ],
          [
           "Texas",
           45
          ],
          [
           "Texas",
           28
          ],
          [
           "Texas",
           45
          ],
          [
           "Texas",
           43
          ],
          [
           "Texas",
           53
          ],
          [
           "Texas",
           28
          ],
          [
           "Texas",
           31
          ],
          [
           "Texas",
           39
          ],
          [
           "Texas",
           47
          ],
          [
           "Texas",
           44
          ],
          [
           "Texas",
           46
          ],
          [
           "Texas",
           56
          ],
          [
           "Texas",
           53
          ],
          [
           "Texas",
           48
          ],
          [
           "Texas",
           53
          ],
          [
           "Texas",
           48
          ],
          [
           "Texas",
           58
          ],
          [
           "Texas",
           60
          ],
          [
           "Texas",
           63
          ],
          [
           "Texas",
           47
          ],
          [
           "Texas",
           62
          ],
          [
           "Texas",
           56
          ],
          [
           "Texas",
           45
          ],
          [
           "Texas",
           54
          ],
          [
           "Texas",
           37
          ],
          [
           "Texas",
           44.74418604651163
          ],
          [
           "Texas",
           50
          ],
          [
           "Texas",
           44.74418604651163
          ],
          [
           "Texas",
           44.74418604651163
          ],
          [
           "Texas",
           44.74418604651163
          ],
          [
           "Texas",
           60
          ],
          [
           "Texas",
           44.74418604651163
          ],
          [
           "Texas",
           44.74418604651163
          ],
          [
           "Texas",
           52
          ],
          [
           "Texas",
           44.74418604651163
          ],
          [
           "Texas",
           44.74418604651163
          ],
          [
           "Texas",
           44.74418604651163
          ],
          [
           "Texas",
           44.74418604651163
          ],
          [
           "Texas",
           46
          ],
          [
           "Texas",
           44.74418604651163
          ],
          [
           "Texas",
           52
          ]
         ],
         "hovertemplate": "State=%{customdata[0]}<br>Year=%{x}<br>Phosphorous (lbs/acre)=%{y}<br>Phosphorous (%)=%{customdata[1]}<extra></extra>",
         "legendgroup": "Texas",
         "marker": {
          "color": "#ab63fa",
          "symbol": "circle"
         },
         "mode": "markers",
         "name": "Texas",
         "orientation": "v",
         "showlegend": true,
         "type": "scatter",
         "x": {
          "bdata": "rAetB64HrwewB7EHsgezB7QHtQe2B7cHuAe5B7oHuwe8B70Hvge/B8AHwQfCB8MHxAfFB8YHxwfIB8kHygfLB8wHzQfOB88H0AfRB9IH0wfUB9UH1gfXB9gH2QfaB9sH3AfdB94H3wfgB+EH",
          "dtype": "i2"
         },
         "xaxis": "x",
         "y": {
          "bdata": "AAAAAAAAR0AAAAAAAABGQAAAAAAAgEZAAAAAAACARUAAAAAAAABGQAAAAAAAAEdAAAAAAACARkAAAAAAAABFQAAAAAAAAEZAAAAAAACARkAAAAAAAIBFQAAAAAAAgENAAAAAAACARUAAAAAAAIBHQAAAAAAAAEVAAAAAAACARkAAAAAAAIBDQAAAAAAAAERAAAAAAAAAPkAAAAAAAABEQAAAAAAAgENAAAAAAACAQ0AAAAAAAIBBQAAAAAAAgEJAAAAAAAAAQ0AAAAAAAIBCQAAAAAAAAERAAAAAAACAREAAAAAAAABGQAAAAAAAgEVAAAAAAAAAQ0AAAAAAAABDQAAAAAAAgENAAAAAAACAQkAAAAAAAABDQAAAAAAAgERAAAAAAAAAREAAAAAAAABDQBJ3xB1xR0RAAAAAAAAASUASd8QdcUdEQBJ3xB1xR0RAEnfEHXFHREAAAAAAAIBCQBJ3xB1xR0RAEnfEHXFHREAAAAAAAABAQBJ3xB1xR0RAEnfEHXFHREASd8QdcUdEQBJ3xB1xR0RAAAAAAAAAQUASd8QdcUdEQAAAAAAAgEJA",
          "dtype": "f8"
         },
         "yaxis": "y"
        },
        {
         "hovertemplate": "<b>OLS trendline</b><br>Phosphorous (Pounds/Acre) = -0.101228 * Year + 242.053<br>R<sup>2</sup>=0.188628<br><br>State=Texas<br>Year=%{x}<br>Phosphorous (lbs/acre)=%{y} <b>(trend)</b><extra></extra>",
         "legendgroup": "Texas",
         "marker": {
          "color": "#ab63fa",
          "symbol": "circle"
         },
         "mode": "lines",
         "name": "Texas",
         "showlegend": false,
         "type": "scatter",
         "x": {
          "bdata": "rAetB64HrwewB7EHsgezB7QHtQe2B7cHuAe5B7oHuwe8B70Hvge/B8AHwQfCB8MHxAfFB8YHxwfIB8kHygfLB8wHzQfOB88H0AfRB9IH0wfUB9UH1gfXB9gH2QfaB9sH3AfdB94H3wfgB+EH",
          "dtype": "i2"
         },
         "xaxis": "x",
         "y": {
          "bdata": "TPToy86eRUCwJILA2ZFFQBRVG7XkhEVAeIW0qe93RUDctU2e+mpFQEDm5pIFXkVApBaAhxBRRUAIRxl8G0RFQGx3snAmN0VA1KdLZTEqRUA42ORZPB1FQJwIfk5HEEVAADkXQ1IDRUBkabA3XfZEQMiZSSxo6URALMriIHPcRECQ+nsVfs9EQPQqFQqJwkRAWFuu/pO1REC8i0fznqhEQCC84Oepm0RAiOx53LSOREDsHBPRv4FEQFBNrMXKdERAtH1FutVnREAYrt6u4FpEQHzed6PrTURA4A4RmPZAREBEP6qMATREQKhvQ4EMJ0RADKDcdRcaREBw0HVqIg1EQNgAD18tAERAPDGoUzjzQ0CgYUFIQ+ZDQASS2jxO2UNAaMJzMVnMQ0DM8gwmZL9DQDAjphpvskNAlFM/D3qlQ0D4g9gDhZhDQFy0cfiPi0NAwOQK7Zp+Q0AkFaThpXFDQIxFPdawZENA8HXWyrtXQ0BUpm+/xkpDQLjWCLTRPUNAHAeiqNwwQ0CANzud5yNDQORn1JHyFkNASJhthv0JQ0CsyAZ7CP1CQBD5n28T8EJA",
          "dtype": "f8"
         },
         "yaxis": "y"
        }
       ],
       "layout": {
        "height": 600,
        "legend": {
         "title": {
          "text": "State"
         },
         "tracegroupgap": 0
        },
        "template": {
         "data": {
          "bar": [
           {
            "error_x": {
             "color": "#2a3f5f"
            },
            "error_y": {
             "color": "#2a3f5f"
            },
            "marker": {
             "line": {
              "color": "white",
              "width": 0.5
             },
             "pattern": {
              "fillmode": "overlay",
              "size": 10,
              "solidity": 0.2
             }
            },
            "type": "bar"
           }
          ],
          "barpolar": [
           {
            "marker": {
             "line": {
              "color": "white",
              "width": 0.5
             },
             "pattern": {
              "fillmode": "overlay",
              "size": 10,
              "solidity": 0.2
             }
            },
            "type": "barpolar"
           }
          ],
          "carpet": [
           {
            "aaxis": {
             "endlinecolor": "#2a3f5f",
             "gridcolor": "#C8D4E3",
             "linecolor": "#C8D4E3",
             "minorgridcolor": "#C8D4E3",
             "startlinecolor": "#2a3f5f"
            },
            "baxis": {
             "endlinecolor": "#2a3f5f",
             "gridcolor": "#C8D4E3",
             "linecolor": "#C8D4E3",
             "minorgridcolor": "#C8D4E3",
             "startlinecolor": "#2a3f5f"
            },
            "type": "carpet"
           }
          ],
          "choropleth": [
           {
            "colorbar": {
             "outlinewidth": 0,
             "ticks": ""
            },
            "type": "choropleth"
           }
          ],
          "contour": [
           {
            "colorbar": {
             "outlinewidth": 0,
             "ticks": ""
            },
            "colorscale": [
             [
              0,
              "#0d0887"
             ],
             [
              0.1111111111111111,
              "#46039f"
             ],
             [
              0.2222222222222222,
              "#7201a8"
             ],
             [
              0.3333333333333333,
              "#9c179e"
             ],
             [
              0.4444444444444444,
              "#bd3786"
             ],
             [
              0.5555555555555556,
              "#d8576b"
             ],
             [
              0.6666666666666666,
              "#ed7953"
             ],
             [
              0.7777777777777778,
              "#fb9f3a"
             ],
             [
              0.8888888888888888,
              "#fdca26"
             ],
             [
              1,
              "#f0f921"
             ]
            ],
            "type": "contour"
           }
          ],
          "contourcarpet": [
           {
            "colorbar": {
             "outlinewidth": 0,
             "ticks": ""
            },
            "type": "contourcarpet"
           }
          ],
          "heatmap": [
           {
            "colorbar": {
             "outlinewidth": 0,
             "ticks": ""
            },
            "colorscale": [
             [
              0,
              "#0d0887"
             ],
             [
              0.1111111111111111,
              "#46039f"
             ],
             [
              0.2222222222222222,
              "#7201a8"
             ],
             [
              0.3333333333333333,
              "#9c179e"
             ],
             [
              0.4444444444444444,
              "#bd3786"
             ],
             [
              0.5555555555555556,
              "#d8576b"
             ],
             [
              0.6666666666666666,
              "#ed7953"
             ],
             [
              0.7777777777777778,
              "#fb9f3a"
             ],
             [
              0.8888888888888888,
              "#fdca26"
             ],
             [
              1,
              "#f0f921"
             ]
            ],
            "type": "heatmap"
           }
          ],
          "histogram": [
           {
            "marker": {
             "pattern": {
              "fillmode": "overlay",
              "size": 10,
              "solidity": 0.2
             }
            },
            "type": "histogram"
           }
          ],
          "histogram2d": [
           {
            "colorbar": {
             "outlinewidth": 0,
             "ticks": ""
            },
            "colorscale": [
             [
              0,
              "#0d0887"
             ],
             [
              0.1111111111111111,
              "#46039f"
             ],
             [
              0.2222222222222222,
              "#7201a8"
             ],
             [
              0.3333333333333333,
              "#9c179e"
             ],
             [
              0.4444444444444444,
              "#bd3786"
             ],
             [
              0.5555555555555556,
              "#d8576b"
             ],
             [
              0.6666666666666666,
              "#ed7953"
             ],
             [
              0.7777777777777778,
              "#fb9f3a"
             ],
             [
              0.8888888888888888,
              "#fdca26"
             ],
             [
              1,
              "#f0f921"
             ]
            ],
            "type": "histogram2d"
           }
          ],
          "histogram2dcontour": [
           {
            "colorbar": {
             "outlinewidth": 0,
             "ticks": ""
            },
            "colorscale": [
             [
              0,
              "#0d0887"
             ],
             [
              0.1111111111111111,
              "#46039f"
             ],
             [
              0.2222222222222222,
              "#7201a8"
             ],
             [
              0.3333333333333333,
              "#9c179e"
             ],
             [
              0.4444444444444444,
              "#bd3786"
             ],
             [
              0.5555555555555556,
              "#d8576b"
             ],
             [
              0.6666666666666666,
              "#ed7953"
             ],
             [
              0.7777777777777778,
              "#fb9f3a"
             ],
             [
              0.8888888888888888,
              "#fdca26"
             ],
             [
              1,
              "#f0f921"
             ]
            ],
            "type": "histogram2dcontour"
           }
          ],
          "mesh3d": [
           {
            "colorbar": {
             "outlinewidth": 0,
             "ticks": ""
            },
            "type": "mesh3d"
           }
          ],
          "parcoords": [
           {
            "line": {
             "colorbar": {
              "outlinewidth": 0,
              "ticks": ""
             }
            },
            "type": "parcoords"
           }
          ],
          "pie": [
           {
            "automargin": true,
            "type": "pie"
           }
          ],
          "scatter": [
           {
            "fillpattern": {
             "fillmode": "overlay",
             "size": 10,
             "solidity": 0.2
            },
            "type": "scatter"
           }
          ],
          "scatter3d": [
           {
            "line": {
             "colorbar": {
              "outlinewidth": 0,
              "ticks": ""
             }
            },
            "marker": {
             "colorbar": {
              "outlinewidth": 0,
              "ticks": ""
             }
            },
            "type": "scatter3d"
           }
          ],
          "scattercarpet": [
           {
            "marker": {
             "colorbar": {
              "outlinewidth": 0,
              "ticks": ""
             }
            },
            "type": "scattercarpet"
           }
          ],
          "scattergeo": [
           {
            "marker": {
             "colorbar": {
              "outlinewidth": 0,
              "ticks": ""
             }
            },
            "type": "scattergeo"
           }
          ],
          "scattergl": [
           {
            "marker": {
             "colorbar": {
              "outlinewidth": 0,
              "ticks": ""
             }
            },
            "type": "scattergl"
           }
          ],
          "scattermap": [
           {
            "marker": {
             "colorbar": {
              "outlinewidth": 0,
              "ticks": ""
             }
            },
            "type": "scattermap"
           }
          ],
          "scattermapbox": [
           {
            "marker": {
             "colorbar": {
              "outlinewidth": 0,
              "ticks": ""
             }
            },
            "type": "scattermapbox"
           }
          ],
          "scatterpolar": [
           {
            "marker": {
             "colorbar": {
              "outlinewidth": 0,
              "ticks": ""
             }
            },
            "type": "scatterpolar"
           }
          ],
          "scatterpolargl": [
           {
            "marker": {
             "colorbar": {
              "outlinewidth": 0,
              "ticks": ""
             }
            },
            "type": "scatterpolargl"
           }
          ],
          "scatterternary": [
           {
            "marker": {
             "colorbar": {
              "outlinewidth": 0,
              "ticks": ""
             }
            },
            "type": "scatterternary"
           }
          ],
          "surface": [
           {
            "colorbar": {
             "outlinewidth": 0,
             "ticks": ""
            },
            "colorscale": [
             [
              0,
              "#0d0887"
             ],
             [
              0.1111111111111111,
              "#46039f"
             ],
             [
              0.2222222222222222,
              "#7201a8"
             ],
             [
              0.3333333333333333,
              "#9c179e"
             ],
             [
              0.4444444444444444,
              "#bd3786"
             ],
             [
              0.5555555555555556,
              "#d8576b"
             ],
             [
              0.6666666666666666,
              "#ed7953"
             ],
             [
              0.7777777777777778,
              "#fb9f3a"
             ],
             [
              0.8888888888888888,
              "#fdca26"
             ],
             [
              1,
              "#f0f921"
             ]
            ],
            "type": "surface"
           }
          ],
          "table": [
           {
            "cells": {
             "fill": {
              "color": "#EBF0F8"
             },
             "line": {
              "color": "white"
             }
            },
            "header": {
             "fill": {
              "color": "#C8D4E3"
             },
             "line": {
              "color": "white"
             }
            },
            "type": "table"
           }
          ]
         },
         "layout": {
          "annotationdefaults": {
           "arrowcolor": "#2a3f5f",
           "arrowhead": 0,
           "arrowwidth": 1
          },
          "autotypenumbers": "strict",
          "coloraxis": {
           "colorbar": {
            "outlinewidth": 0,
            "ticks": ""
           }
          },
          "colorscale": {
           "diverging": [
            [
             0,
             "#8e0152"
            ],
            [
             0.1,
             "#c51b7d"
            ],
            [
             0.2,
             "#de77ae"
            ],
            [
             0.3,
             "#f1b6da"
            ],
            [
             0.4,
             "#fde0ef"
            ],
            [
             0.5,
             "#f7f7f7"
            ],
            [
             0.6,
             "#e6f5d0"
            ],
            [
             0.7,
             "#b8e186"
            ],
            [
             0.8,
             "#7fbc41"
            ],
            [
             0.9,
             "#4d9221"
            ],
            [
             1,
             "#276419"
            ]
           ],
           "sequential": [
            [
             0,
             "#0d0887"
            ],
            [
             0.1111111111111111,
             "#46039f"
            ],
            [
             0.2222222222222222,
             "#7201a8"
            ],
            [
             0.3333333333333333,
             "#9c179e"
            ],
            [
             0.4444444444444444,
             "#bd3786"
            ],
            [
             0.5555555555555556,
             "#d8576b"
            ],
            [
             0.6666666666666666,
             "#ed7953"
            ],
            [
             0.7777777777777778,
             "#fb9f3a"
            ],
            [
             0.8888888888888888,
             "#fdca26"
            ],
            [
             1,
             "#f0f921"
            ]
           ],
           "sequentialminus": [
            [
             0,
             "#0d0887"
            ],
            [
             0.1111111111111111,
             "#46039f"
            ],
            [
             0.2222222222222222,
             "#7201a8"
            ],
            [
             0.3333333333333333,
             "#9c179e"
            ],
            [
             0.4444444444444444,
             "#bd3786"
            ],
            [
             0.5555555555555556,
             "#d8576b"
            ],
            [
             0.6666666666666666,
             "#ed7953"
            ],
            [
             0.7777777777777778,
             "#fb9f3a"
            ],
            [
             0.8888888888888888,
             "#fdca26"
            ],
            [
             1,
             "#f0f921"
            ]
           ]
          },
          "colorway": [
           "#636efa",
           "#EF553B",
           "#00cc96",
           "#ab63fa",
           "#FFA15A",
           "#19d3f3",
           "#FF6692",
           "#B6E880",
           "#FF97FF",
           "#FECB52"
          ],
          "font": {
           "color": "#2a3f5f"
          },
          "geo": {
           "bgcolor": "white",
           "lakecolor": "white",
           "landcolor": "white",
           "showlakes": true,
           "showland": true,
           "subunitcolor": "#C8D4E3"
          },
          "hoverlabel": {
           "align": "left"
          },
          "hovermode": "closest",
          "mapbox": {
           "style": "light"
          },
          "paper_bgcolor": "white",
          "plot_bgcolor": "white",
          "polar": {
           "angularaxis": {
            "gridcolor": "#EBF0F8",
            "linecolor": "#EBF0F8",
            "ticks": ""
           },
           "bgcolor": "white",
           "radialaxis": {
            "gridcolor": "#EBF0F8",
            "linecolor": "#EBF0F8",
            "ticks": ""
           }
          },
          "scene": {
           "xaxis": {
            "backgroundcolor": "white",
            "gridcolor": "#DFE8F3",
            "gridwidth": 2,
            "linecolor": "#EBF0F8",
            "showbackground": true,
            "ticks": "",
            "zerolinecolor": "#EBF0F8"
           },
           "yaxis": {
            "backgroundcolor": "white",
            "gridcolor": "#DFE8F3",
            "gridwidth": 2,
            "linecolor": "#EBF0F8",
            "showbackground": true,
            "ticks": "",
            "zerolinecolor": "#EBF0F8"
           },
           "zaxis": {
            "backgroundcolor": "white",
            "gridcolor": "#DFE8F3",
            "gridwidth": 2,
            "linecolor": "#EBF0F8",
            "showbackground": true,
            "ticks": "",
            "zerolinecolor": "#EBF0F8"
           }
          },
          "shapedefaults": {
           "line": {
            "color": "#2a3f5f"
           }
          },
          "ternary": {
           "aaxis": {
            "gridcolor": "#DFE8F3",
            "linecolor": "#A2B1C6",
            "ticks": ""
           },
           "baxis": {
            "gridcolor": "#DFE8F3",
            "linecolor": "#A2B1C6",
            "ticks": ""
           },
           "bgcolor": "white",
           "caxis": {
            "gridcolor": "#DFE8F3",
            "linecolor": "#A2B1C6",
            "ticks": ""
           }
          },
          "title": {
           "x": 0.05
          },
          "xaxis": {
           "automargin": true,
           "gridcolor": "#EBF0F8",
           "linecolor": "#EBF0F8",
           "ticks": "",
           "title": {
            "standoff": 15
           },
           "zerolinecolor": "#EBF0F8",
           "zerolinewidth": 2
          },
          "yaxis": {
           "automargin": true,
           "gridcolor": "#EBF0F8",
           "linecolor": "#EBF0F8",
           "ticks": "",
           "title": {
            "standoff": 15
           },
           "zerolinecolor": "#EBF0F8",
           "zerolinewidth": 2
          }
         }
        },
        "title": {
         "font": {
          "size": 16
         },
         "text": "Phosphorous Usage Over Time by State"
        },
        "xaxis": {
         "anchor": "y",
         "domain": [
          0,
          1
         ],
         "title": {
          "font": {
           "size": 14
          },
          "text": "Year"
         }
        },
        "yaxis": {
         "anchor": "x",
         "domain": [
          0,
          1
         ],
         "title": {
          "font": {
           "size": 14
          },
          "text": "Phosphorous (lbs/acre)"
         }
        }
       }
      }
     },
     "metadata": {},
     "output_type": "display_data"
    },
    {
     "data": {
      "application/vnd.plotly.v1+json": {
       "config": {
        "plotlyServerURL": "https://plot.ly"
       },
       "data": [
        {
         "customdata": [
          [
           "Alabama",
           62
          ],
          [
           "Alabama",
           63
          ],
          [
           "Alabama",
           69
          ],
          [
           "Alabama",
           71
          ],
          [
           "Alabama",
           71
          ],
          [
           "Alabama",
           70
          ],
          [
           "Alabama",
           74
          ],
          [
           "Alabama",
           71
          ],
          [
           "Alabama",
           73
          ],
          [
           "Alabama",
           77
          ],
          [
           "Alabama",
           76
          ],
          [
           "Alabama",
           57
          ],
          [
           "Alabama",
           71
          ],
          [
           "Alabama",
           72
          ],
          [
           "Alabama",
           64
          ],
          [
           "Alabama",
           63
          ],
          [
           "Alabama",
           63
          ],
          [
           "Alabama",
           57
          ],
          [
           "Alabama",
           65
          ],
          [
           "Alabama",
           62
          ],
          [
           "Alabama",
           60
          ],
          [
           "Alabama",
           62
          ],
          [
           "Alabama",
           57
          ],
          [
           "Alabama",
           64.80645161290323
          ],
          [
           "Alabama",
           64.80645161290323
          ],
          [
           "Alabama",
           64.80645161290323
          ],
          [
           "Alabama",
           64.80645161290323
          ],
          [
           "Alabama",
           64.80645161290323
          ],
          [
           "Alabama",
           64.80645161290323
          ],
          [
           "Alabama",
           64.80645161290323
          ],
          [
           "Alabama",
           64.80645161290323
          ],
          [
           "Alabama",
           64.80645161290323
          ],
          [
           "Alabama",
           64.80645161290323
          ],
          [
           "Alabama",
           54
          ],
          [
           "Alabama",
           59
          ],
          [
           "Alabama",
           69
          ],
          [
           "Alabama",
           63
          ],
          [
           "Alabama",
           64.80645161290323
          ],
          [
           "Alabama",
           64.80645161290323
          ],
          [
           "Alabama",
           70
          ],
          [
           "Alabama",
           64.80645161290323
          ],
          [
           "Alabama",
           64.80645161290323
          ],
          [
           "Alabama",
           64.80645161290323
          ],
          [
           "Alabama",
           49
          ],
          [
           "Alabama",
           64.80645161290323
          ],
          [
           "Alabama",
           64.80645161290323
          ],
          [
           "Alabama",
           64.80645161290323
          ],
          [
           "Alabama",
           64.80645161290323
          ],
          [
           "Alabama",
           64.80645161290323
          ],
          [
           "Alabama",
           64.80645161290323
          ],
          [
           "Alabama",
           64.80645161290323
          ],
          [
           "Alabama",
           53
          ],
          [
           "Alabama",
           64.80645161290323
          ],
          [
           "Alabama",
           62
          ]
         ],
         "hovertemplate": "State=%{customdata[0]}<br>Year=%{x}<br>Phosphorous Usage (%)=%{y}<br>Phosphorous (Pounds/Acre)=%{customdata[1]}<extra></extra>",
         "legendgroup": "Alabama",
         "marker": {
          "color": "#636efa",
          "symbol": "circle"
         },
         "mode": "markers",
         "name": "Alabama",
         "orientation": "v",
         "showlegend": true,
         "type": "scatter",
         "x": {
          "bdata": "rAetB64HrwewB7EHsgezB7QHtQe2B7cHuAe5B7oHuwe8B70Hvge/B8AHwQfCB8MHxAfFB8YHxwfIB8kHygfLB8wHzQfOB88H0AfRB9IH0wfUB9UH1gfXB9gH2QfaB9sH3AfdB94H3wfgB+EH",
          "dtype": "i2"
         },
         "xaxis": "x",
         "y": {
          "bdata": "AAAAAAAAWUAAAAAAAABZQAAAAAAAAFlAAAAAAAAAWUAAAAAAAMBYQAAAAAAAgFhAAAAAAAAAWUAAAAAAAABZQAAAAAAAgFhAAAAAAADAV0AAAAAAAMBYQAAAAAAAAFdAAAAAAABAV0AAAAAAAMBWQAAAAAAAwFdAAAAAAAAAVUAAAAAAAEBXQAAAAAAAQFhAAAAAAABAV0AAAAAAAIBVQAAAAAAAwFZAAAAAAAAAVkAAAAAAAMBVQDLGGGOMMVdAMsYYY4wxV0AyxhhjjDFXQDLGGGOMMVdAMsYYY4wxV0AyxhhjjDFXQDLGGGOMMVdAMsYYY4wxV0AyxhhjjDFXQDLGGGOMMVdAAAAAAABAV0AAAAAAAIBXQAAAAAAAgFdAAAAAAADAV0AyxhhjjDFXQDLGGGOMMVdAAAAAAAAAVUAyxhhjjDFXQDLGGGOMMVdAMsYYY4wxV0AAAAAAAMBVQDLGGGOMMVdAMsYYY4wxV0AyxhhjjDFXQDLGGGOMMVdAMsYYY4wxV0AyxhhjjDFXQDLGGGOMMVdAAAAAAACAU0AyxhhjjDFXQAAAAAAAAFJA",
          "dtype": "f8"
         },
         "yaxis": "y"
        },
        {
         "hovertemplate": "<b>OLS trendline</b><br>Phosphorous (%) = -0.183092 * Year + 457.219<br>R<sup>2</sup>=0.308062<br><br>State=Alabama<br>Year=%{x}<br>Phosphorous Usage (%)=%{y} <b>(trend)</b><extra></extra>",
         "legendgroup": "Alabama",
         "marker": {
          "color": "#636efa",
          "symbol": "circle"
         },
         "mode": "lines",
         "name": "Alabama",
         "showlegend": false,
         "type": "scatter",
         "x": {
          "bdata": "rAetB64HrwewB7EHsgezB7QHtQe2B7cHuAe5B7oHuwe8B70Hvge/B8AHwQfCB8MHxAfFB8YHxwfIB8kHygfLB8wHzQfOB88H0AfRB9IH0wfUB9UH1gfXB9gH2QfaB9sH3AfdB94H3wfgB+EH",
          "dtype": "i2"
         },
         "xaxis": "x",
         "y": {
          "bdata": "RNMrjRJoWEDItYvFWlxYQEyY6/2iUFhA0HpLNutEWEBUXatuMzlYQNg/C6d7LVhAXCJr38MhWEDgBMsXDBZYQGTnKlBUClhA6MmKiJz+V0BsrOrA5PJXQPSOSvks51dAeHGqMXXbV0D8Uwpqvc9XQIA2aqIFxFdABBnK2k24V0CI+ykTlqxXQAzeiUveoFdAkMDpgyaVV0AUo0m8bolXQJiFqfS2fVdAHGgJLf9xV0CgSmllR2ZXQCgtyZ2PWldArA8p1tdOV0Aw8ogOIENXQLTU6EZoN1dAOLdIf7ArV0C8mai3+B9XQEB8CPBAFFdAxF5oKIkIV0BIQchg0fxWQMwjKJkZ8VZAUAaI0WHlVkDY6OcJqtlWQFzLR0LyzVZA4K2nejrCVkBkkAezgrZWQOhyZ+vKqlZAbFXHIxOfVkDwNydcW5NWQHQah5Sjh1ZA+PzmzOt7VkB830YFNHBWQADCpj18ZFZAiKQGdsRYVkAMh2auDE1WQJBpxuZUQVZAFEwmH501VkCYLoZX5SlWQBwR5o8tHlZAoPNFyHUSVkAk1qUAvgZWQKi4BTkG+1VA",
          "dtype": "f8"
         },
         "yaxis": "y"
        },
        {
         "customdata": [
          [
           "Arizona",
           66
          ],
          [
           "Arizona",
           78
          ],
          [
           "Arizona",
           69
          ],
          [
           "Arizona",
           62
          ],
          [
           "Arizona",
           68
          ],
          [
           "Arizona",
           70
          ],
          [
           "Arizona",
           59
          ],
          [
           "Arizona",
           62
          ],
          [
           "Arizona",
           57
          ],
          [
           "Arizona",
           66
          ],
          [
           "Arizona",
           58
          ],
          [
           "Arizona",
           49
          ],
          [
           "Arizona",
           62
          ],
          [
           "Arizona",
           59
          ],
          [
           "Arizona",
           53
          ],
          [
           "Arizona",
           61
          ],
          [
           "Arizona",
           72
          ],
          [
           "Arizona",
           67
          ],
          [
           "Arizona",
           59
          ],
          [
           "Arizona",
           43
          ],
          [
           "Arizona",
           59
          ],
          [
           "Arizona",
           55
          ],
          [
           "Arizona",
           47
          ],
          [
           "Arizona",
           70
          ],
          [
           "Arizona",
           59
          ],
          [
           "Arizona",
           64
          ],
          [
           "Arizona",
           68
          ],
          [
           "Arizona",
           66
          ],
          [
           "Arizona",
           45
          ],
          [
           "Arizona",
           68
          ],
          [
           "Arizona",
           53
          ],
          [
           "Arizona",
           65
          ],
          [
           "Arizona",
           49
          ],
          [
           "Arizona",
           55
          ],
          [
           "Arizona",
           63
          ],
          [
           "Arizona",
           84
          ],
          [
           "Arizona",
           57
          ],
          [
           "Arizona",
           60.84615384615385
          ],
          [
           "Arizona",
           60.84615384615385
          ],
          [
           "Arizona",
           63
          ],
          [
           "Arizona",
           60.84615384615385
          ],
          [
           "Arizona",
           60.84615384615385
          ],
          [
           "Arizona",
           60.84615384615385
          ],
          [
           "Arizona",
           60.84615384615385
          ],
          [
           "Arizona",
           60.84615384615385
          ],
          [
           "Arizona",
           60.84615384615385
          ],
          [
           "Arizona",
           60.84615384615385
          ],
          [
           "Arizona",
           60.84615384615385
          ],
          [
           "Arizona",
           60.84615384615385
          ],
          [
           "Arizona",
           60.84615384615385
          ],
          [
           "Arizona",
           60.84615384615385
          ],
          [
           "Arizona",
           43
          ],
          [
           "Arizona",
           60.84615384615385
          ],
          [
           "Arizona",
           60.84615384615385
          ]
         ],
         "hovertemplate": "State=%{customdata[0]}<br>Year=%{x}<br>Phosphorous Usage (%)=%{y}<br>Phosphorous (Pounds/Acre)=%{customdata[1]}<extra></extra>",
         "legendgroup": "Arizona",
         "marker": {
          "color": "#EF553B",
          "symbol": "circle"
         },
         "mode": "markers",
         "name": "Arizona",
         "orientation": "v",
         "showlegend": true,
         "type": "scatter",
         "x": {
          "bdata": "rAetB64HrwewB7EHsgezB7QHtQe2B7cHuAe5B7oHuwe8B70Hvge/B8AHwQfCB8MHxAfFB8YHxwfIB8kHygfLB8wHzQfOB88H0AfRB9IH0wfUB9UH1gfXB9gH2QfaB9sH3AfdB94H3wfgB+EH",
          "dtype": "i2"
         },
         "xaxis": "x",
         "y": {
          "bdata": "AAAAAAAASUAAAAAAAABFQAAAAAAAgEZAAAAAAACAR0AAAAAAAABHQAAAAAAAgENAAAAAAAAAQkAAAAAAAABHQAAAAAAAgEhAAAAAAACASkAAAAAAAIBJQAAAAAAAAEFAAAAAAACAR0AAAAAAAABNQAAAAAAAAENAAAAAAAAAR0AAAAAAAABBQAAAAAAAAEJAAAAAAACAQUAAAAAAAIBGQAAAAAAAAEhAAAAAAACASUAAAAAAAIBDQAAAAAAAgENAAAAAAAAATUAAAAAAAIBJQAAAAAAAgEdAAAAAAAAAT0AAAAAAAIBFQAAAAAAAAEZAAAAAAACARkAAAAAAAABBQAAAAAAAgEVAAAAAAAAAPUAAAAAAAABDQAAAAAAAADZAAAAAAAAAPkCkQRqkQZpFQKRBGqRBmkVAAAAAAACAQUCkQRqkQZpFQKRBGqRBmkVApEEapEGaRUCkQRqkQZpFQKRBGqRBmkVApEEapEGaRUCkQRqkQZpFQKRBGqRBmkVApEEapEGaRUCkQRqkQZpFQKRBGqRBmkVAAAAAAAAASUCkQRqkQZpFQKRBGqRBmkVA",
          "dtype": "f8"
         },
         "yaxis": "y"
        },
        {
         "hovertemplate": "<b>OLS trendline</b><br>Phosphorous (%) = -0.0698362 * Year + 182.214<br>R<sup>2</sup>=0.023500<br><br>State=Arizona<br>Year=%{x}<br>Phosphorous Usage (%)=%{y} <b>(trend)</b><extra></extra>",
         "legendgroup": "Arizona",
         "marker": {
          "color": "#EF553B",
          "symbol": "circle"
         },
         "mode": "lines",
         "name": "Arizona",
         "showlegend": false,
         "type": "scatter",
         "x": {
          "bdata": "rAetB64HrwewB7EHsgezB7QHtQe2B7cHuAe5B7oHuwe8B70Hvge/B8AHwQfCB8MHxAfFB8YHxwfIB8kHygfLB8wHzQfOB88H0AfRB9IH0wfUB9UH1gfXB9gH2QfaB9sH3AfdB94H3wfgB+EH",
          "dtype": "i2"
         },
         "xaxis": "x",
         "y": {
          "bdata": "0AwqFSSHRkDwQ0uwM35GQBB7bEtDdUZAMLKN5lJsRkBQ6a6BYmNGQHQg0BxyWkZAlFfxt4FRRkC0jhJTkUhGQNTFM+6gP0ZA9PxUibA2RkAUNHYkwC1GQDRrl7/PJEZAVKK4Wt8bRkB02dn17hJGQJQQ+5D+CUZAtEccLA4BRkDUfj3HHfhFQPS1XmIt70VAFO1//TzmRUA0JKGYTN1FQFRbwjNc1EVAdJLjzmvLRUCUyQRqe8JFQLQAJgWLuUVA1DdHoJqwRUD0bmg7qqdFQBSmida5nkVANN2qccmVRUBYFMwM2YxFQHhL7afog0VAmIIOQ/h6RUC4uS/eB3JFQNjwUHkXaUVA+CdyFCdgRUAYX5OvNldFQDiWtEpGTkVAWM3V5VVFRUB4BPeAZTxFQJg7GBx1M0VAuHI5t4QqRUDYqVpSlCFFQPjge+2jGEVAGBidiLMPRUA4T74jwwZFQFiG377S/URAeL0AWuL0RECY9CH18etEQLgrQ5AB40RA2GJkKxHaRED4mYXGINFEQBzRpmEwyERAPAjI/D+/REBcP+mXT7ZEQHx2CjNfrURA",
          "dtype": "f8"
         },
         "yaxis": "y"
        },
        {
         "customdata": [
          [
           "Arkansas",
           39
          ],
          [
           "Arkansas",
           46
          ],
          [
           "Arkansas",
           44
          ],
          [
           "Arkansas",
           41
          ],
          [
           "Arkansas",
           45
          ],
          [
           "Arkansas",
           46
          ],
          [
           "Arkansas",
           43
          ],
          [
           "Arkansas",
           40
          ],
          [
           "Arkansas",
           44
          ],
          [
           "Arkansas",
           45
          ],
          [
           "Arkansas",
           40
          ],
          [
           "Arkansas",
           40
          ],
          [
           "Arkansas",
           41
          ],
          [
           "Arkansas",
           48
          ],
          [
           "Arkansas",
           42
          ],
          [
           "Arkansas",
           37
          ],
          [
           "Arkansas",
           39
          ],
          [
           "Arkansas",
           40
          ],
          [
           "Arkansas",
           36
          ],
          [
           "Arkansas",
           34
          ],
          [
           "Arkansas",
           38
          ],
          [
           "Arkansas",
           37
          ],
          [
           "Arkansas",
           39
          ],
          [
           "Arkansas",
           43
          ],
          [
           "Arkansas",
           44
          ],
          [
           "Arkansas",
           35
          ],
          [
           "Arkansas",
           36
          ],
          [
           "Arkansas",
           40
          ],
          [
           "Arkansas",
           44
          ],
          [
           "Arkansas",
           48
          ],
          [
           "Arkansas",
           44
          ],
          [
           "Arkansas",
           45
          ],
          [
           "Arkansas",
           38
          ],
          [
           "Arkansas",
           54
          ],
          [
           "Arkansas",
           42
          ],
          [
           "Arkansas",
           40
          ],
          [
           "Arkansas",
           41
          ],
          [
           "Arkansas",
           36
          ],
          [
           "Arkansas",
           41.81395348837209
          ],
          [
           "Arkansas",
           41
          ],
          [
           "Arkansas",
           41.81395348837209
          ],
          [
           "Arkansas",
           41.81395348837209
          ],
          [
           "Arkansas",
           41.81395348837209
          ],
          [
           "Arkansas",
           41
          ],
          [
           "Arkansas",
           41.81395348837209
          ],
          [
           "Arkansas",
           41.81395348837209
          ],
          [
           "Arkansas",
           42
          ],
          [
           "Arkansas",
           41.81395348837209
          ],
          [
           "Arkansas",
           41.81395348837209
          ],
          [
           "Arkansas",
           41.81395348837209
          ],
          [
           "Arkansas",
           41.81395348837209
          ],
          [
           "Arkansas",
           47
          ],
          [
           "Arkansas",
           41.81395348837209
          ],
          [
           "Arkansas",
           53
          ]
         ],
         "hovertemplate": "State=%{customdata[0]}<br>Year=%{x}<br>Phosphorous Usage (%)=%{y}<br>Phosphorous (Pounds/Acre)=%{customdata[1]}<extra></extra>",
         "legendgroup": "Arkansas",
         "marker": {
          "color": "#00cc96",
          "symbol": "circle"
         },
         "mode": "markers",
         "name": "Arkansas",
         "orientation": "v",
         "showlegend": true,
         "type": "scatter",
         "x": {
          "bdata": "rAetB64HrwewB7EHsgezB7QHtQe2B7cHuAe5B7oHuwe8B70Hvge/B8AHwQfCB8MHxAfFB8YHxwfIB8kHygfLB8wHzQfOB88H0AfRB9IH0wfUB9UH1gfXB9gH2QfaB9sH3AfdB94H3wfgB+EH",
          "dtype": "i2"
         },
         "xaxis": "x",
         "y": {
          "bdata": "AAAAAACATUAAAAAAAABSQAAAAAAAQFNAAAAAAADAU0AAAAAAAIBQQAAAAAAAAFFAAAAAAAAATkAAAAAAAABQQAAAAAAAAFJAAAAAAACAUUAAAAAAAABSQAAAAAAAwFBAAAAAAACAUkAAAAAAAMBSQAAAAAAAAE9AAAAAAACAU0AAAAAAAABTQAAAAAAAgE1AAAAAAAAAUUAAAAAAAABRQAAAAAAAAFRAAAAAAAAAU0AAAAAAAABRQAAAAAAAwFJAAAAAAADAUUAAAAAAAIBRQAAAAAAAwFRAAAAAAACAUUAAAAAAAABQQAAAAAAAAFNAAAAAAACAUUAAAAAAAIBSQAAAAAAAgFBAAAAAAADAVEAAAAAAAABWQAAAAAAAgFRAAAAAAACAU0AAAAAAAIBPQGvKmrKmLFJAAAAAAAAAVUBrypqypixSQGvKmrKmLFJAa8qasqYsUkAAAAAAAMBUQGvKmrKmLFJAa8qasqYsUkAAAAAAAMBUQGvKmrKmLFJAa8qasqYsUkBrypqypixSQGvKmrKmLFJAAAAAAADAU0BrypqypixSQAAAAAAAgFJA",
          "dtype": "f8"
         },
         "yaxis": "y"
        },
        {
         "hovertemplate": "<b>OLS trendline</b><br>Phosphorous (%) = 0.15069 * Year + -227.251<br>R<sup>2</sup>=0.131272<br><br>State=Arkansas<br>Year=%{x}<br>Phosphorous Usage (%)=%{y} <b>(trend)</b><extra></extra>",
         "legendgroup": "Arkansas",
         "marker": {
          "color": "#00cc96",
          "symbol": "circle"
         },
         "mode": "lines",
         "name": "Arkansas",
         "showlegend": false,
         "type": "scatter",
         "x": {
          "bdata": "rAetB64HrwewB7EHsgezB7QHtQe2B7cHuAe5B7oHuwe8B70Hvge/B8AHwQfCB8MHxAfFB8YHxwfIB8kHygfLB8wHzQfOB88H0AfRB9IH0wfUB9UH1gfXB9gH2QfaB9sH3AfdB94H3wfgB+EH",
          "dtype": "i2"
         },
         "xaxis": "x",
         "y": {
          "bdata": "9CZkxRQtUUB8BoisuTZRQAjmq5NeQFFAkMXPegNKUUAcpfNhqFNRQKSEF0lNXVFAMGQ7MPJmUUC4Q18Xl3BRQEQjg/47elFAzAKn5eCDUUBY4srMhY1RQODB7rMql1FAbKESm8+gUUD0gDaCdKpRQIBgWmkZtFFACEB+UL69UUCUH6I3Y8dRQBz/xR4I0VFAqN7pBa3aUUAwvg3tUeRRQLydMdT27VFARH1Vu5v3UUDQXHmiQAFSQFg8nYnlClJA5BvBcIoUUkBs++RXLx5SQPjaCD/UJ1JAgLosJnkxUkAMmlANHjtSQJR5dPTCRFJAIFmY22dOUkCoOLzCDFhSQDQY4KmxYVJAvPcDkVZrUkBI1yd4+3RSQNC2S1+gflJAXJZvRkWIUkDkdZMt6pFSQHBVtxSPm1JA+DTb+zOlUkCEFP/i2K5SQAz0Isp9uFJAmNNGsSLCUkAgs2qYx8tSQKySjn9s1VJANHKyZhHfUkDAUdZNtuhSQEgx+jRb8lJA1BAeHAD8UkBc8EEDpQVTQOjPZepJD1NAcK+J0e4YU0D8jq24kyJTQIRu0Z84LFNA",
          "dtype": "f8"
         },
         "yaxis": "y"
        },
        {
         "customdata": [
          [
           "California",
           62
          ],
          [
           "California",
           81
          ],
          [
           "California",
           72
          ],
          [
           "California",
           99
          ],
          [
           "California",
           88
          ],
          [
           "California",
           91
          ],
          [
           "California",
           60
          ],
          [
           "California",
           73
          ],
          [
           "California",
           70
          ],
          [
           "California",
           84
          ],
          [
           "California",
           59
          ],
          [
           "California",
           74
          ],
          [
           "California",
           78
          ],
          [
           "California",
           75
          ],
          [
           "California",
           81
          ],
          [
           "California",
           65
          ],
          [
           "California",
           61
          ],
          [
           "California",
           73
          ],
          [
           "California",
           61
          ],
          [
           "California",
           52
          ],
          [
           "California",
           61
          ],
          [
           "California",
           56
          ],
          [
           "California",
           62
          ],
          [
           "California",
           60
          ],
          [
           "California",
           45
          ],
          [
           "California",
           56
          ],
          [
           "California",
           68
          ],
          [
           "California",
           87
          ],
          [
           "California",
           86
          ],
          [
           "California",
           51
          ],
          [
           "California",
           60
          ],
          [
           "California",
           63
          ],
          [
           "California",
           83
          ],
          [
           "California",
           60
          ],
          [
           "California",
           75
          ],
          [
           "California",
           61
          ],
          [
           "California",
           57
          ],
          [
           "California",
           67.75
          ],
          [
           "California",
           67.75
          ],
          [
           "California",
           55
          ],
          [
           "California",
           67.75
          ],
          [
           "California",
           67.75
          ],
          [
           "California",
           67.75
          ],
          [
           "California",
           74
          ],
          [
           "California",
           67.75
          ],
          [
           "California",
           67.75
          ],
          [
           "California",
           67.75
          ],
          [
           "California",
           67.75
          ],
          [
           "California",
           67.75
          ],
          [
           "California",
           67.75
          ],
          [
           "California",
           67.75
          ],
          [
           "California",
           31
          ],
          [
           "California",
           67.75
          ],
          [
           "California",
           67.75
          ]
         ],
         "hovertemplate": "State=%{customdata[0]}<br>Year=%{x}<br>Phosphorous Usage (%)=%{y}<br>Phosphorous (Pounds/Acre)=%{customdata[1]}<extra></extra>",
         "legendgroup": "California",
         "marker": {
          "color": "#ab63fa",
          "symbol": "circle"
         },
         "mode": "markers",
         "name": "California",
         "orientation": "v",
         "showlegend": true,
         "type": "scatter",
         "x": {
          "bdata": "rAetB64HrwewB7EHsgezB7QHtQe2B7cHuAe5B7oHuwe8B70Hvge/B8AHwQfCB8MHxAfFB8YHxwfIB8kHygfLB8wHzQfOB88H0AfRB9IH0wfUB9UH1gfXB9gH2QfaB9sH3AfdB94H3wfgB+EH",
          "dtype": "i2"
         },
         "xaxis": "x",
         "y": {
          "bdata": "AAAAAAAASEAAAAAAAIBCQAAAAAAAADpAAAAAAAAARUAAAAAAAIBHQAAAAAAAAEVAAAAAAACAREAAAAAAAIBEQAAAAAAAgEVAAAAAAACARkAAAAAAAABDQAAAAAAAAD5AAAAAAACAR0AAAAAAAIBHQAAAAAAAgENAAAAAAAAAP0AAAAAAAAA7QAAAAAAAAEJAAAAAAAAAPkAAAAAAAIBAQAAAAAAAADtAAAAAAAAAN0AAAAAAAAAwQAAAAAAAADpAAAAAAAAAQkAAAAAAAABFQAAAAAAAAD9AAAAAAACAQUAAAAAAAABAQAAAAAAAgEBAAAAAAACAQUAAAAAAAABEQAAAAAAAgEJAAAAAAAAAOUAAAAAAAAA3QAAAAAAAgElAAAAAAAAAPUAAAAAAANBBQAAAAAAA0EFAAAAAAACAR0AAAAAAANBBQAAAAAAA0EFAAAAAAADQQUAAAAAAAIBDQAAAAAAA0EFAAAAAAADQQUAAAAAAANBBQAAAAAAA0EFAAAAAAADQQUAAAAAAANBBQAAAAAAA0EFAAAAAAAAAPEAAAAAAANBBQAAAAAAA0EFA",
          "dtype": "f8"
         },
         "yaxis": "y"
        },
        {
         "hovertemplate": "<b>OLS trendline</b><br>Phosphorous (%) = -0.0856394 * Year + 206.09<br>R<sup>2</sup>=0.036067<br><br>State=California<br>Year=%{x}<br>Phosphorous Usage (%)=%{y} <b>(trend)</b><extra></extra>",
         "legendgroup": "California",
         "marker": {
          "color": "#ab63fa",
          "symbol": "circle"
         },
         "mode": "lines",
         "name": "California",
         "showlegend": false,
         "type": "scatter",
         "x": {
          "bdata": "rAetB64HrwewB7EHsgezB7QHtQe2B7cHuAe5B7oHuwe8B70Hvge/B8AHwQfCB8MHxAfFB8YHxwfIB8kHygfLB8wHzQfOB88H0AfRB9IH0wfUB9UH1gfXB9gH2QfaB9sH3AfdB94H3wfgB+EH",
          "dtype": "i2"
         },
         "xaxis": "x",
         "y": {
          "bdata": "LH3SJ33yQkCgc1vshudCQBBq5LCQ3EJAhGBtdZrRQkD0VvY5pMZCQGhNf/6tu0JA3EMIw7ewQkBMOpGHwaVCQMAwGkzLmkJAMCejENWPQkCkHSzV3oRCQBgUtZnoeUJAiAo+XvJuQkD8AMci/GNCQGz3T+cFWUJA4O3Yqw9OQkBU5GFwGUNCQMTa6jQjOEJAONFz+SwtQkCsx/y9NiJCQBy+hYJAF0JAkLQOR0oMQkAAq5cLVAFCQHShINBd9kFA6JeplGfrQUBYjjJZceBBQMyEux171UFAPHtE4oTKQUCwcc2mjr9BQCRoVmuYtEFAlF7fL6KpQUAIVWj0q55BQHhL8bi1k0FA7EF6fb+IQUBgOANCyX1BQNAujAbTckFARCUVy9xnQUC0G56P5lxBQCgSJ1TwUUFAnAiwGPpGQUAM/zjdAzxBQID1waENMUFA8OtKZhcmQUBk4tMqIRtBQNjYXO8qEEFASM/lszQFQUC8xW54PvpAQDC89zxI70BAoLKAAVLkQEAUqQnGW9lAQISfkoplzkBA+JUbT2/DQEBsjKQTebhAQNyCLdiCrUBA",
          "dtype": "f8"
         },
         "yaxis": "y"
        },
        {
         "customdata": [
          [
           "Georgia",
           64
          ],
          [
           "Georgia",
           65
          ],
          [
           "Georgia",
           66
          ],
          [
           "Georgia",
           64
          ],
          [
           "Georgia",
           62
          ],
          [
           "Georgia",
           65
          ],
          [
           "Georgia",
           59
          ],
          [
           "Georgia",
           61
          ],
          [
           "Georgia",
           60
          ],
          [
           "Georgia",
           65
          ],
          [
           "Georgia",
           65
          ],
          [
           "Georgia",
           53
          ],
          [
           "Georgia",
           61
          ],
          [
           "Georgia",
           67
          ],
          [
           "Georgia",
           60
          ],
          [
           "Georgia",
           47
          ],
          [
           "Georgia",
           50
          ],
          [
           "Georgia",
           48
          ],
          [
           "Georgia",
           53
          ],
          [
           "Georgia",
           53
          ],
          [
           "Georgia",
           51
          ],
          [
           "Georgia",
           62
          ],
          [
           "Georgia",
           55
          ],
          [
           "Georgia",
           58.11764705882353
          ],
          [
           "Georgia",
           58.11764705882353
          ],
          [
           "Georgia",
           58.11764705882353
          ],
          [
           "Georgia",
           58.11764705882353
          ],
          [
           "Georgia",
           58.11764705882353
          ],
          [
           "Georgia",
           58.11764705882353
          ],
          [
           "Georgia",
           58.11764705882353
          ],
          [
           "Georgia",
           58.11764705882353
          ],
          [
           "Georgia",
           58.11764705882353
          ],
          [
           "Georgia",
           57
          ],
          [
           "Georgia",
           60
          ],
          [
           "Georgia",
           58
          ],
          [
           "Georgia",
           57
          ],
          [
           "Georgia",
           55
          ],
          [
           "Georgia",
           52
          ],
          [
           "Georgia",
           58.11764705882353
          ],
          [
           "Georgia",
           56
          ],
          [
           "Georgia",
           58.11764705882353
          ],
          [
           "Georgia",
           58.11764705882353
          ],
          [
           "Georgia",
           58.11764705882353
          ],
          [
           "Georgia",
           60
          ],
          [
           "Georgia",
           58.11764705882353
          ],
          [
           "Georgia",
           58.11764705882353
          ],
          [
           "Georgia",
           59
          ],
          [
           "Georgia",
           58.11764705882353
          ],
          [
           "Georgia",
           58.11764705882353
          ],
          [
           "Georgia",
           58.11764705882353
          ],
          [
           "Georgia",
           58.11764705882353
          ],
          [
           "Georgia",
           51
          ],
          [
           "Georgia",
           58.11764705882353
          ],
          [
           "Georgia",
           55
          ]
         ],
         "hovertemplate": "State=%{customdata[0]}<br>Year=%{x}<br>Phosphorous Usage (%)=%{y}<br>Phosphorous (Pounds/Acre)=%{customdata[1]}<extra></extra>",
         "legendgroup": "Georgia",
         "marker": {
          "color": "#FFA15A",
          "symbol": "circle"
         },
         "mode": "markers",
         "name": "Georgia",
         "orientation": "v",
         "showlegend": true,
         "type": "scatter",
         "x": {
          "bdata": "rAetB64HrwewB7EHsgezB7QHtQe2B7cHuAe5B7oHuwe8B70Hvge/B8AHwQfCB8MHxAfFB8YHxwfIB8kHygfLB8wHzQfOB88H0AfRB9IH0wfUB9UH1gfXB9gH2QfaB9sH3AfdB94H3wfgB+EH",
          "dtype": "i2"
         },
         "xaxis": "x",
         "y": {
          "bdata": "AAAAAADAWEAAAAAAAMBYQAAAAAAAAFlAAAAAAAAAWUAAAAAAAABZQAAAAAAAAFlAAAAAAAAAWUAAAAAAAABZQAAAAAAAAFlAAAAAAAAAWUAAAAAAAIBYQAAAAAAAAFlAAAAAAAAAWUAAAAAAAABZQAAAAAAAAFlAAAAAAAAAWEAAAAAAAIBYQAAAAAAAQFdAAAAAAACAVkAAAAAAAMBWQAAAAAAAQFdAAAAAAABAV0AAAAAAAMBVQIiHh4eHx1dAiIeHh4fHV0CIh4eHh8dXQIiHh4eHx1dAiIeHh4fHV0CIh4eHh8dXQIiHh4eHx1dAiIeHh4fHV0CIh4eHh8dXQAAAAAAAwFhAAAAAAACAV0AAAAAAAIBWQAAAAAAAgFhAAAAAAACAV0AAAAAAAABXQIiHh4eHx1dAAAAAAACAVkCIh4eHh8dXQIiHh4eHx1dAiIeHh4fHV0AAAAAAAMBWQIiHh4eHx1dAiIeHh4fHV0AAAAAAAIBVQIiHh4eHx1dAiIeHh4fHV0CIh4eHh8dXQIiHh4eHx1dAAAAAAACAVECIh4eHh8dXQAAAAAAAQFRA",
          "dtype": "f8"
         },
         "yaxis": "y"
        },
        {
         "hovertemplate": "<b>OLS trendline</b><br>Phosphorous (%) = -0.173464 * Year + 440.397<br>R<sup>2</sup>=0.388666<br><br>State=Georgia<br>Year=%{x}<br>Phosphorous Usage (%)=%{y} <b>(trend)</b><extra></extra>",
         "legendgroup": "Georgia",
         "marker": {
          "color": "#FFA15A",
          "symbol": "circle"
         },
         "mode": "lines",
         "name": "Georgia",
         "showlegend": false,
         "type": "scatter",
         "x": {
          "bdata": "rAetB64HrwewB7EHsgezB7QHtQe2B7cHuAe5B7oHuwe8B70Hvge/B8AHwQfCB8MHxAfFB8YHxwfIB8kHygfLB8wHzQfOB88H0AfRB9IH0wfUB9UH1gfXB9gH2QfaB9sH3AfdB94H3wfgB+EH",
          "dtype": "i2"
         },
         "xaxis": "x",
         "y": {
          "bdata": "sP9EXLntWEBc2T1Un+JYQAyzNkyF11hAuIwvRGvMWEBkZig8UcFYQBBAITQ3tlhAvBkaLB2rWEBo8xIkA6BYQBTNCxzplFhAwKYEFM+JWEBsgP0LtX5YQBxa9gObc1hAyDPv+4BoWEB0DejzZl1YQCDn4OtMUlhAzMDZ4zJHWEB4mtLbGDxYQCR0y9P+MFhA0E3Ey+QlWECAJ73DyhpYQCwBtruwD1hA2Nqus5YEWECEtKerfPlXQDCOoKNi7ldA3GeZm0jjV0CIQZKTLthXQDQbi4sUzVdA4PSDg/rBV0CQznx74LZXQDyodXPGq1dA6IFua6ygV0CUW2djkpVXQEA1YFt4ildA7A5ZU15/V0CY6FFLRHRXQETCSkMqaVdA8JtDOxBeV0CgdTwz9lJXQExPNSvcR1dA+CguI8I8V0CkAicbqDFXQFDcHxOOJldA/LUYC3QbV0CojxEDWhBXQFRpCvs/BVdABEMD8yX6VkCwHPzqC+9WQFz29OLx41ZACNDt2tfYVkC0qebSvc1WQGCD38qjwlZADF3Ywom3VkC4NtG6b6xWQGQQyrJVoVZA",
          "dtype": "f8"
         },
         "yaxis": "y"
        },
        {
         "customdata": [
          [
           "Louisiana",
           34
          ],
          [
           "Louisiana",
           40
          ],
          [
           "Louisiana",
           48
          ],
          [
           "Louisiana",
           49
          ],
          [
           "Louisiana",
           43
          ],
          [
           "Louisiana",
           46
          ],
          [
           "Louisiana",
           50
          ],
          [
           "Louisiana",
           50
          ],
          [
           "Louisiana",
           54
          ],
          [
           "Louisiana",
           59
          ],
          [
           "Louisiana",
           54
          ],
          [
           "Louisiana",
           45
          ],
          [
           "Louisiana",
           52
          ],
          [
           "Louisiana",
           51
          ],
          [
           "Louisiana",
           48
          ],
          [
           "Louisiana",
           49
          ],
          [
           "Louisiana",
           48
          ],
          [
           "Louisiana",
           46
          ],
          [
           "Louisiana",
           47
          ],
          [
           "Louisiana",
           42
          ],
          [
           "Louisiana",
           52
          ],
          [
           "Louisiana",
           48
          ],
          [
           "Louisiana",
           43
          ],
          [
           "Louisiana",
           47
          ],
          [
           "Louisiana",
           51
          ],
          [
           "Louisiana",
           45
          ],
          [
           "Louisiana",
           48
          ],
          [
           "Louisiana",
           55
          ],
          [
           "Louisiana",
           44
          ],
          [
           "Louisiana",
           45
          ],
          [
           "Louisiana",
           45
          ],
          [
           "Louisiana",
           47
          ],
          [
           "Louisiana",
           45
          ],
          [
           "Louisiana",
           51
          ],
          [
           "Louisiana",
           42
          ],
          [
           "Louisiana",
           55
          ],
          [
           "Louisiana",
           44
          ],
          [
           "Louisiana",
           42
          ],
          [
           "Louisiana",
           46.9
          ],
          [
           "Louisiana",
           37
          ],
          [
           "Louisiana",
           46.9
          ],
          [
           "Louisiana",
           46.9
          ],
          [
           "Louisiana",
           46.9
          ],
          [
           "Louisiana",
           35
          ],
          [
           "Louisiana",
           46.9
          ],
          [
           "Louisiana",
           46.9
          ],
          [
           "Louisiana",
           46.9
          ],
          [
           "Louisiana",
           46.9
          ],
          [
           "Louisiana",
           46.9
          ],
          [
           "Louisiana",
           46.9
          ],
          [
           "Louisiana",
           46.9
          ],
          [
           "Louisiana",
           46.9
          ],
          [
           "Louisiana",
           46.9
          ],
          [
           "Louisiana",
           46.9
          ]
         ],
         "hovertemplate": "State=%{customdata[0]}<br>Year=%{x}<br>Phosphorous Usage (%)=%{y}<br>Phosphorous (Pounds/Acre)=%{customdata[1]}<extra></extra>",
         "legendgroup": "Louisiana",
         "marker": {
          "color": "#19d3f3",
          "symbol": "circle"
         },
         "mode": "markers",
         "name": "Louisiana",
         "orientation": "v",
         "showlegend": true,
         "type": "scatter",
         "x": {
          "bdata": "rAetB64HrwewB7EHsgezB7QHtQe2B7cHuAe5B7oHuwe8B70Hvge/B8AHwQfCB8MHxAfFB8YHxwfIB8kHygfLB8wHzQfOB88H0AfRB9IH0wfUB9UH1gfXB9gH2QfaB9sH3AfdB94H3wfgB+EH",
          "dtype": "i2"
         },
         "xaxis": "x",
         "y": {
          "bdata": "AAAAAAAAT0AAAAAAAIBPQAAAAAAAAE1AAAAAAACATkAAAAAAAABIQAAAAAAAAE9AAAAAAACATEAAAAAAAEBRQAAAAAAAgFFAAAAAAAAATkAAAAAAAIBNQAAAAAAAAElAAAAAAACAT0AAAAAAAIBPQAAAAAAAQFRAAAAAAABAUEAAAAAAAABXQAAAAAAAAFRAAAAAAABAUkAAAAAAAABPQAAAAAAAQFNAAAAAAACAUUAAAAAAAABSQAAAAAAAAFFAAAAAAACATUAAAAAAAIBRQAAAAAAAAE9AAAAAAAAAR0AAAAAAAIBMQAAAAAAAgElAAAAAAAAAREAAAAAAAABFQAAAAAAAAFBAAAAAAADAUUAAAAAAAEBRQAAAAAAAgEVAAAAAAAAAUEAAAAAAAABJQJqZmZmZGU9AAAAAAACARkCamZmZmRlPQJqZmZmZGU9AmpmZmZkZT0AAAAAAAIBRQJqZmZmZGU9AmpmZmZkZT0CamZmZmRlPQJqZmZmZGU9AmpmZmZkZT0CamZmZmRlPQJqZmZmZGU9AmpmZmZkZT0CamZmZmRlPQJqZmZmZGU9A",
          "dtype": "f8"
         },
         "yaxis": "y"
        },
        {
         "hovertemplate": "<b>OLS trendline</b><br>Phosphorous (%) = -0.074252 * Year + 209.999<br>R<sup>2</sup>=0.014452<br><br>State=Louisiana<br>Year=%{x}<br>Phosphorous Usage (%)=%{y} <b>(trend)</b><extra></extra>",
         "legendgroup": "Louisiana",
         "marker": {
          "color": "#19d3f3",
          "symbol": "circle"
         },
         "mode": "lines",
         "name": "Louisiana",
         "showlegend": false,
         "type": "scatter",
         "x": {
          "bdata": "rAetB64HrwewB7EHsgezB7QHtQe2B7cHuAe5B7oHuwe8B70Hvge/B8AHwQfCB8MHxAfFB8YHxwfIB8kHygfLB8wHzQfOB88H0AfRB9IH0wfUB9UH1gfXB9gH2QfaB9sH3AfdB94H3wfgB+EH",
          "dtype": "i2"
         },
         "xaxis": "x",
         "y": {
          "bdata": "Ul5WN7sKUECAYhKs+gVQQKxmziA6AVBAtNUUK/P4T0AM3owUcu9PQGjmBP7w5U9AwO5852/cT0Ac9/TQ7tJPQHj/bLptyU9A0Aflo+y/T0AsEF2Na7ZPQIQY1XbqrE9A4CBNYGmjT0A8KcVJ6JlPQJQxPTNnkE9A8Dm1HOaGT0BIQi0GZX1PQKRKpe/jc09A/FId2WJqT0BYW5XC4WBPQLRjDaxgV09ADGyFld9NT0BodP1+XkRPQMB8dWjdOk9AHIXtUVwxT0B4jWU72ydPQNCV3SRaHk9ALJ5VDtkUT0CEps33VwtPQOCuReHWAU9AOLe9ylX4TkCUvzW01O5OQPDHrZ1T5U5ASNAlh9LbTkCk2J1wUdJOQPzgFVrQyE5AWOmNQ0+/TkC08QUtzrVOQAz6fRZNrE5AaAL2/8uiTkDACm7pSplOQBwT5tLJj05AdBtevEiGTkDQI9alx3xOQCwsTo9Gc05AhDTGeMVpTkDgPD5iRGBOQDhFtkvDVk5AlE0uNUJNTkDwVaYewUNOQEheHghAOk5ApGaW8b4wTkD8bg7bPSdOQFh3hsS8HU5A",
          "dtype": "f8"
         },
         "yaxis": "y"
        },
        {
         "customdata": [
          [
           "Mississippi",
           50
          ],
          [
           "Mississippi",
           58
          ],
          [
           "Mississippi",
           54
          ],
          [
           "Mississippi",
           56
          ],
          [
           "Mississippi",
           52
          ],
          [
           "Mississippi",
           56
          ],
          [
           "Mississippi",
           60
          ],
          [
           "Mississippi",
           55
          ],
          [
           "Mississippi",
           64
          ],
          [
           "Mississippi",
           64
          ],
          [
           "Mississippi",
           64
          ],
          [
           "Mississippi",
           59
          ],
          [
           "Mississippi",
           53
          ],
          [
           "Mississippi",
           57
          ],
          [
           "Mississippi",
           54
          ],
          [
           "Mississippi",
           61
          ],
          [
           "Mississippi",
           50
          ],
          [
           "Mississippi",
           45
          ],
          [
           "Mississippi",
           54
          ],
          [
           "Mississippi",
           50
          ],
          [
           "Mississippi",
           57
          ],
          [
           "Mississippi",
           56
          ],
          [
           "Mississippi",
           54
          ],
          [
           "Mississippi",
           52
          ],
          [
           "Mississippi",
           49
          ],
          [
           "Mississippi",
           49
          ],
          [
           "Mississippi",
           50
          ],
          [
           "Mississippi",
           50
          ],
          [
           "Mississippi",
           57
          ],
          [
           "Mississippi",
           57
          ],
          [
           "Mississippi",
           54
          ],
          [
           "Mississippi",
           54
          ],
          [
           "Mississippi",
           47
          ],
          [
           "Mississippi",
           50
          ],
          [
           "Mississippi",
           57
          ],
          [
           "Mississippi",
           50
          ],
          [
           "Mississippi",
           52
          ],
          [
           "Mississippi",
           51
          ],
          [
           "Mississippi",
           55.372093023255815
          ],
          [
           "Mississippi",
           46
          ],
          [
           "Mississippi",
           55.372093023255815
          ],
          [
           "Mississippi",
           55.372093023255815
          ],
          [
           "Mississippi",
           55.372093023255815
          ],
          [
           "Mississippi",
           58
          ],
          [
           "Mississippi",
           55.372093023255815
          ],
          [
           "Mississippi",
           55.372093023255815
          ],
          [
           "Mississippi",
           47
          ],
          [
           "Mississippi",
           55.372093023255815
          ],
          [
           "Mississippi",
           55.372093023255815
          ],
          [
           "Mississippi",
           55.372093023255815
          ],
          [
           "Mississippi",
           55.372093023255815
          ],
          [
           "Mississippi",
           116
          ],
          [
           "Mississippi",
           55.372093023255815
          ],
          [
           "Mississippi",
           52
          ]
         ],
         "hovertemplate": "State=%{customdata[0]}<br>Year=%{x}<br>Phosphorous Usage (%)=%{y}<br>Phosphorous (Pounds/Acre)=%{customdata[1]}<extra></extra>",
         "legendgroup": "Mississippi",
         "marker": {
          "color": "#FF6692",
          "symbol": "circle"
         },
         "mode": "markers",
         "name": "Mississippi",
         "orientation": "v",
         "showlegend": true,
         "type": "scatter",
         "x": {
          "bdata": "rAetB64HrwewB7EHsgezB7QHtQe2B7cHuAe5B7oHuwe8B70Hvge/B8AHwQfCB8MHxAfFB8YHxwfIB8kHygfLB8wHzQfOB88H0AfRB9IH0wfUB9UH1gfXB9gH2QfaB9sH3AfdB94H3wfgB+EH",
          "dtype": "i2"
         },
         "xaxis": "x",
         "y": {
          "bdata": "AAAAAACATUAAAAAAAABMQAAAAAAAwFFAAAAAAAAATUAAAAAAAIBPQAAAAAAAgE1AAAAAAAAARUAAAAAAAIBEQAAAAAAAAEhAAAAAAACASEAAAAAAAIBGQAAAAAAAgEdAAAAAAAAAREAAAAAAAIBFQAAAAAAAAEJAAAAAAAAAQEAAAAAAAIBAQAAAAAAAgERAAAAAAACAREAAAAAAAIBGQAAAAAAAAEZAAAAAAAAARUAAAAAAAIBDQAAAAAAAAEhAAAAAAAAASUAAAAAAAABLQAAAAAAAAEVAAAAAAAAASkAAAAAAAIBEQAAAAAAAgEVAAAAAAACARkAAAAAAAABEQAAAAAAAADtAAAAAAAAAR0AAAAAAAIBJQAAAAAAAAEJAAAAAAAAARkAAAAAAAAA/QLkj7og7YkZAAAAAAACARkC5I+6IO2JGQLkj7og7YkZAuSPuiDtiRkAAAAAAAIBAQLkj7og7YkZAuSPuiDtiRkAAAAAAAABAQLkj7og7YkZAuSPuiDtiRkC5I+6IO2JGQLkj7og7YkZAAAAAAAAARkC5I+6IO2JGQAAAAAAAgEdA",
          "dtype": "f8"
         },
         "yaxis": "y"
        },
        {
         "hovertemplate": "<b>OLS trendline</b><br>Phosphorous (%) = -0.192381 * Year + 427.702<br>R<sup>2</sup>=0.142384<br><br>State=Mississippi<br>Year=%{x}<br>Phosphorous Usage (%)=%{y} <b>(trend)</b><extra></extra>",
         "legendgroup": "Mississippi",
         "marker": {
          "color": "#FF6692",
          "symbol": "circle"
         },
         "mode": "lines",
         "name": "Mississippi",
         "showlegend": false,
         "type": "scatter",
         "x": {
          "bdata": "rAetB64HrwewB7EHsgezB7QHtQe2B7cHuAe5B7oHuwe8B70Hvge/B8AHwQfCB8MHxAfFB8YHxwfIB8kHygfLB8wHzQfOB88H0AfRB9IH0wfUB9UH1gfXB9gH2QfaB9sH3AfdB94H3wfgB+EH",
          "dtype": "i2"
         },
         "xaxis": "x",
         "y": {
          "bdata": "oNVR/MnuSEAIPkkLKtZIQGimQBqKvUhA0A44KeqkSEAwdy84SoxIQJjfJkeqc0hA+EceVgpbSEBgsBVlakJIQMAYDXTKKUhAKIEEgyoRSECI6fuRivhHQPBR86Dq30dAULrqr0rHR0C4IuK+qq5HQBiL2c0KlkdAgPPQ3Gp9R0DgW8jrymRHQEjEv/oqTEdAqCy3CYszR0AQla4Y6xpHQHD9pSdLAkdA2GWdNqvpRkBAzpRFC9FGQKA2jFRruEZACJ+DY8ufRkBoB3tyK4dGQNBvcoGLbkZAMNhpkOtVRkCYQGGfSz1GQPioWK6rJEZAYBFQvQsMRkDAeUfMa/NFQCjiPtvL2kVAiEo26ivCRUDwsi35i6lFQFAbJQjskEVAuIMcF0x4RUAY7BMmrF9FQIBUCzUMR0VA4LwCRGwuRUBIJfpSzBVFQKiN8WEs/URAEPbocIzkREB4XuB/7MtEQNjG145Ms0RAQC/PnayaRECgl8asDIJEQAgAvrtsaURAaGi1ysxQREDQ0KzZLDhEQDA5pOiMH0RAmKGb9+wGRED4CZMGTe5DQGByihWt1UNA",
          "dtype": "f8"
         },
         "yaxis": "y"
        },
        {
         "customdata": [
          [
           "Missouri",
           58
          ],
          [
           "Missouri",
           46
          ],
          [
           "Missouri",
           57
          ],
          [
           "Missouri",
           53
          ],
          [
           "Missouri",
           48
          ],
          [
           "Missouri",
           49
          ],
          [
           "Missouri",
           42
          ],
          [
           "Missouri",
           45
          ],
          [
           "Missouri",
           51
          ],
          [
           "Missouri",
           54
          ],
          [
           "Missouri",
           51
          ],
          [
           "Missouri",
           43
          ],
          [
           "Missouri",
           47
          ],
          [
           "Missouri",
           39
          ],
          [
           "Missouri",
           48
          ],
          [
           "Missouri",
           50
          ],
          [
           "Missouri",
           45
          ],
          [
           "Missouri",
           37
          ],
          [
           "Missouri",
           31
          ],
          [
           "Missouri",
           39
          ],
          [
           "Missouri",
           31
          ],
          [
           "Missouri",
           35
          ],
          [
           "Missouri",
           48
          ],
          [
           "Missouri",
           43.93333333333333
          ],
          [
           "Missouri",
           43.93333333333333
          ],
          [
           "Missouri",
           43.93333333333333
          ],
          [
           "Missouri",
           43.93333333333333
          ],
          [
           "Missouri",
           43.93333333333333
          ],
          [
           "Missouri",
           43.93333333333333
          ],
          [
           "Missouri",
           43.93333333333333
          ],
          [
           "Missouri",
           43.93333333333333
          ],
          [
           "Missouri",
           43.93333333333333
          ],
          [
           "Missouri",
           43.93333333333333
          ],
          [
           "Missouri",
           37
          ],
          [
           "Missouri",
           43.93333333333333
          ],
          [
           "Missouri",
           43.93333333333333
          ],
          [
           "Missouri",
           34
          ],
          [
           "Missouri",
           43.93333333333333
          ],
          [
           "Missouri",
           43.93333333333333
          ],
          [
           "Missouri",
           40
          ],
          [
           "Missouri",
           43.93333333333333
          ],
          [
           "Missouri",
           43.93333333333333
          ],
          [
           "Missouri",
           43.93333333333333
          ],
          [
           "Missouri",
           31
          ],
          [
           "Missouri",
           43.93333333333333
          ],
          [
           "Missouri",
           43.93333333333333
          ],
          [
           "Missouri",
           48
          ],
          [
           "Missouri",
           43.93333333333333
          ],
          [
           "Missouri",
           43.93333333333333
          ],
          [
           "Missouri",
           43.93333333333333
          ],
          [
           "Missouri",
           43.93333333333333
          ],
          [
           "Missouri",
           35
          ],
          [
           "Missouri",
           43.93333333333333
          ],
          [
           "Missouri",
           46
          ]
         ],
         "hovertemplate": "State=%{customdata[0]}<br>Year=%{x}<br>Phosphorous Usage (%)=%{y}<br>Phosphorous (Pounds/Acre)=%{customdata[1]}<extra></extra>",
         "legendgroup": "Missouri",
         "marker": {
          "color": "#B6E880",
          "symbol": "circle"
         },
         "mode": "markers",
         "name": "Missouri",
         "orientation": "v",
         "showlegend": true,
         "type": "scatter",
         "x": {
          "bdata": "rAetB64HrwewB7EHsgezB7QHtQe2B7cHuAe5B7oHuwe8B70Hvge/B8AHwQfCB8MHxAfFB8YHxwfIB8kHygfLB8wHzQfOB88H0AfRB9IH0wfUB9UH1gfXB9gH2QfaB9sH3AfdB94H3wfgB+EH",
          "dtype": "i2"
         },
         "xaxis": "x",
         "y": {
          "bdata": "AAAAAADAV0AAAAAAAABYQAAAAAAAAFhAAAAAAACAV0AAAAAAAABXQAAAAAAAwFZAAAAAAAAAVUAAAAAAAABVQAAAAAAAwFZAAAAAAACAV0AAAAAAAEBVQAAAAAAAAFVAAAAAAADAVkAAAAAAAMBUQAAAAAAAAFZAAAAAAAAAWEAAAAAAAIBTQAAAAAAAwFJAAAAAAADAVEAAAAAAAABZQAAAAAAAAFlAAAAAAAAAUUAAAAAAAIBUQHd3d3d3l1VAd3d3d3eXVUB3d3d3d5dVQHd3d3d3l1VAd3d3d3eXVUB3d3d3d5dVQHd3d3d3l1VAd3d3d3eXVUB3d3d3d5dVQHd3d3d3l1VAAAAAAAAAUkB3d3d3d5dVQHd3d3d3l1VAAAAAAACAVUB3d3d3d5dVQHd3d3d3l1VAAAAAAABAUkB3d3d3d5dVQHd3d3d3l1VAd3d3d3eXVUAAAAAAAABWQHd3d3d3l1VAd3d3d3eXVUAAAAAAAEBUQHd3d3d3l1VAd3d3d3eXVUB3d3d3d5dVQHd3d3d3l1VAAAAAAACAUkB3d3d3d5dVQAAAAAAAwFVA",
          "dtype": "f8"
         },
         "yaxis": "y"
        },
        {
         "hovertemplate": "<b>OLS trendline</b><br>Phosphorous (%) = -0.137841 * Year + 360.74<br>R<sup>2</sup>=0.118291<br><br>State=Missouri<br>Year=%{x}<br>Phosphorous Usage (%)=%{y} <b>(trend)</b><extra></extra>",
         "legendgroup": "Missouri",
         "marker": {
          "color": "#B6E880",
          "symbol": "circle"
         },
         "mode": "lines",
         "name": "Missouri",
         "showlegend": false,
         "type": "scatter",
         "x": {
          "bdata": "rAetB64HrwewB7EHsgezB7QHtQe2B7cHuAe5B7oHuwe8B70Hvge/B8AHwQfCB8MHxAfFB8YHxwfIB8kHygfLB8wHzQfOB88H0AfRB9IH0wfUB9UH1gfXB9gH2QfaB9sH3AfdB94H3wfgB+EH",
          "dtype": "i2"
         },
         "xaxis": "x",
         "y": {
          "bdata": "3LSF2j6BVkDMOS52bHhWQLy+1hGab1ZAqEN/rcdmVkCYyCdJ9V1WQIhN0OQiVVZAdNJ4gFBMVkBkVyEcfkNWQFDcyberOlZAQGFyU9kxVkAw5hrvBilWQBxrw4o0IFZADPBrJmIXVkD8dBTCjw5WQOj5vF29BVZA2H5l+er8VUDIAw6VGPRVQLSItjBG61VApA1fzHPiVUCUkgdoodlVQIAXsAPP0FVAcJxYn/zHVUBgIQE7Kr9VQEymqdZXtlVAPCtScoWtVUAssPoNs6RVQBg1o6ngm1VACLpLRQ6TVUD4PvTgO4pVQOTDnHxpgVVA1EhFGJd4VUDAze2zxG9VQLBSlk/yZlVAoNc+6x9eVUCMXOeGTVVVQHzhjyJ7TFVAbGY4vqhDVUBY6+BZ1jpVQEhwifUDMlVAOPUxkTEpVUAketosXyBVQBT/gsiMF1VABIQrZLoOVUDwCNT/5wVVQOCNfJsV/VRA0BIlN0P0VEC8l83ScOtUQKwcdm6e4lRAnKEeCszZVECIJsel+dBUQHirb0EnyFRAaDAY3VS/VEBUtcB4grZUQEQ6aRSwrVRA",
          "dtype": "f8"
         },
         "yaxis": "y"
        },
        {
         "customdata": [
          [
           "New Mexico",
           60
          ],
          [
           "New Mexico",
           79
          ],
          [
           "New Mexico",
           64
          ],
          [
           "New Mexico",
           70
          ],
          [
           "New Mexico",
           74
          ],
          [
           "New Mexico",
           77
          ],
          [
           "New Mexico",
           85
          ],
          [
           "New Mexico",
           50
          ],
          [
           "New Mexico",
           69
          ],
          [
           "New Mexico",
           64
          ],
          [
           "New Mexico",
           57
          ],
          [
           "New Mexico",
           58
          ],
          [
           "New Mexico",
           59
          ],
          [
           "New Mexico",
           61.857142857142854
          ],
          [
           "New Mexico",
           61.857142857142854
          ],
          [
           "New Mexico",
           54
          ],
          [
           "New Mexico",
           51
          ],
          [
           "New Mexico",
           50
          ],
          [
           "New Mexico",
           57
          ],
          [
           "New Mexico",
           49
          ],
          [
           "New Mexico",
           64
          ],
          [
           "New Mexico",
           48
          ],
          [
           "New Mexico",
           60
          ],
          [
           "New Mexico",
           61.857142857142854
          ],
          [
           "New Mexico",
           61.857142857142854
          ],
          [
           "New Mexico",
           61.857142857142854
          ],
          [
           "New Mexico",
           61.857142857142854
          ],
          [
           "New Mexico",
           61.857142857142854
          ],
          [
           "New Mexico",
           61.857142857142854
          ],
          [
           "New Mexico",
           61.857142857142854
          ],
          [
           "New Mexico",
           61.857142857142854
          ],
          [
           "New Mexico",
           61.857142857142854
          ],
          [
           "New Mexico",
           61.857142857142854
          ],
          [
           "New Mexico",
           61.857142857142854
          ],
          [
           "New Mexico",
           61.857142857142854
          ],
          [
           "New Mexico",
           61.857142857142854
          ],
          [
           "New Mexico",
           61.857142857142854
          ],
          [
           "New Mexico",
           61.857142857142854
          ],
          [
           "New Mexico",
           61.857142857142854
          ],
          [
           "New Mexico",
           61.857142857142854
          ],
          [
           "New Mexico",
           61.857142857142854
          ],
          [
           "New Mexico",
           61.857142857142854
          ],
          [
           "New Mexico",
           61.857142857142854
          ],
          [
           "New Mexico",
           61.857142857142854
          ],
          [
           "New Mexico",
           61.857142857142854
          ],
          [
           "New Mexico",
           61.857142857142854
          ],
          [
           "New Mexico",
           61.857142857142854
          ],
          [
           "New Mexico",
           61.857142857142854
          ],
          [
           "New Mexico",
           61.857142857142854
          ],
          [
           "New Mexico",
           61.857142857142854
          ],
          [
           "New Mexico",
           61.857142857142854
          ],
          [
           "New Mexico",
           61.857142857142854
          ],
          [
           "New Mexico",
           61.857142857142854
          ],
          [
           "New Mexico",
           61.857142857142854
          ]
         ],
         "hovertemplate": "State=%{customdata[0]}<br>Year=%{x}<br>Phosphorous Usage (%)=%{y}<br>Phosphorous (Pounds/Acre)=%{customdata[1]}<extra></extra>",
         "legendgroup": "New Mexico",
         "marker": {
          "color": "#FF97FF",
          "symbol": "circle"
         },
         "mode": "markers",
         "name": "New Mexico",
         "orientation": "v",
         "showlegend": true,
         "type": "scatter",
         "x": {
          "bdata": "rAetB64HrwewB7EHsgezB7QHtQe2B7cHuAe5B7oHuwe8B70Hvge/B8AHwQfCB8MHxAfFB8YHxwfIB8kHygfLB8wHzQfOB88H0AfRB9IH0wfUB9UH1gfXB9gH2QfaB9sH3AfdB94H3wfgB+EH",
          "dtype": "i2"
         },
         "xaxis": "x",
         "y": {
          "bdata": "AAAAAAAATUAAAAAAAIBGQAAAAAAAAEZAAAAAAACATEAAAAAAAABPQAAAAAAAAEhAAAAAAAAASUAAAAAAAABFQAAAAAAAgE9AAAAAAAAAQ0AAAAAAAABIQAAAAAAAAEBAAAAAAAAAQ0CSJEmSJMlFQJIkSZIkyUVAAAAAAACASUAAAAAAAAA8QAAAAAAAAEVAAAAAAAAAPkAAAAAAAAA+QAAAAAAAAEFAAAAAAACAR0AAAAAAAAA8QJIkSZIkyUVAkiRJkiTJRUCSJEmSJMlFQJIkSZIkyUVAkiRJkiTJRUCSJEmSJMlFQJIkSZIkyUVAkiRJkiTJRUCSJEmSJMlFQJIkSZIkyUVAkiRJkiTJRUCSJEmSJMlFQJIkSZIkyUVAkiRJkiTJRUCSJEmSJMlFQJIkSZIkyUVAkiRJkiTJRUCSJEmSJMlFQJIkSZIkyUVAkiRJkiTJRUCSJEmSJMlFQJIkSZIkyUVAkiRJkiTJRUCSJEmSJMlFQJIkSZIkyUVAkiRJkiTJRUCSJEmSJMlFQJIkSZIkyUVAkiRJkiTJRUCSJEmSJMlFQJIkSZIkyUVA",
          "dtype": "f8"
         },
         "yaxis": "y"
        },
        {
         "hovertemplate": "<b>OLS trendline</b><br>Phosphorous (%) = -0.0767786 * Year + 196.399<br>R<sup>2</sup>=0.032204<br><br>State=New Mexico<br>Year=%{x}<br>Phosphorous Usage (%)=%{y} <b>(trend)</b><extra></extra>",
         "legendgroup": "New Mexico",
         "marker": {
          "color": "#FF97FF",
          "symbol": "circle"
         },
         "mode": "lines",
         "name": "New Mexico",
         "showlegend": false,
         "type": "scatter",
         "x": {
          "bdata": "rAetB64HrwewB7EHsgezB7QHtQe2B7cHuAe5B7oHuwe8B70Hvge/B8AHwQfCB8MHxAfFB8YHxwfIB8kHygfLB8wHzQfOB88H0AfRB9IH0wfUB9UH1gfXB9gH2QfaB9sH3AfdB94H3wfgB+EH",
          "dtype": "i2"
         },
         "xaxis": "x",
         "y": {
          "bdata": "qDbZZJPNRkD4UouDv8NGQEhvPaLruUZAmIvvwBewRkDop6HfQ6ZGQDjEU/5vnEZAiOAFHZySRkDY/Lc7yIhGQCgZalr0fkZAeDUceSB1RkDIUc6XTGtGQBRugLZ4YUZAZIoy1aRXRkC0puTz0E1GQATDlhL9Q0ZAVN9IMSk6RkCk+/pPVTBGQPQXrW6BJkZARDRfja0cRkCUUBGs2RJGQORsw8oFCUZANIl16TH/RUCEpScIXvVFQNTB2SaK60VAJN6LRbbhRUB0+j1k4tdFQMQW8IIOzkVAFDOioTrERUBkT1TAZrpFQLRrBt+SsEVABIi4/b6mRUBUpGoc65xFQKTAHDsXk0VA9NzOWUOJRUBE+YB4b39FQJQVM5ebdUVA5DHltcdrRUA0TpfU82FFQIRqSfMfWEVA1Ib7EUxORUAko60weERFQHS/X0+kOkVAxNsRbtAwRUAU+MOM/CZFQGQUdqsoHUVAtDAoylQTRUAETdrogAlFQFRpjAet/0RApIU+Jtn1RED0ofBEBexEQES+omMx4kRAlNpUgl3YREDk9gahic5EQDQTub+1xERA",
          "dtype": "f8"
         },
         "yaxis": "y"
        },
        {
         "customdata": [
          [
           "North Carolina",
           54
          ],
          [
           "North Carolina",
           54
          ],
          [
           "North Carolina",
           53
          ],
          [
           "North Carolina",
           65
          ],
          [
           "North Carolina",
           54
          ],
          [
           "North Carolina",
           54
          ],
          [
           "North Carolina",
           55
          ],
          [
           "North Carolina",
           53
          ],
          [
           "North Carolina",
           57
          ],
          [
           "North Carolina",
           68
          ],
          [
           "North Carolina",
           56
          ],
          [
           "North Carolina",
           52
          ],
          [
           "North Carolina",
           44
          ],
          [
           "North Carolina",
           50.45454545454545
          ],
          [
           "North Carolina",
           50.45454545454545
          ],
          [
           "North Carolina",
           50.45454545454545
          ],
          [
           "North Carolina",
           50.45454545454545
          ],
          [
           "North Carolina",
           50.45454545454545
          ],
          [
           "North Carolina",
           50.45454545454545
          ],
          [
           "North Carolina",
           50.45454545454545
          ],
          [
           "North Carolina",
           50.45454545454545
          ],
          [
           "North Carolina",
           50.45454545454545
          ],
          [
           "North Carolina",
           50.45454545454545
          ],
          [
           "North Carolina",
           50.45454545454545
          ],
          [
           "North Carolina",
           50.45454545454545
          ],
          [
           "North Carolina",
           50.45454545454545
          ],
          [
           "North Carolina",
           50.45454545454545
          ],
          [
           "North Carolina",
           50.45454545454545
          ],
          [
           "North Carolina",
           50.45454545454545
          ],
          [
           "North Carolina",
           50.45454545454545
          ],
          [
           "North Carolina",
           50.45454545454545
          ],
          [
           "North Carolina",
           50.45454545454545
          ],
          [
           "North Carolina",
           50.45454545454545
          ],
          [
           "North Carolina",
           38
          ],
          [
           "North Carolina",
           55
          ],
          [
           "North Carolina",
           47
          ],
          [
           "North Carolina",
           47
          ],
          [
           "North Carolina",
           50.45454545454545
          ],
          [
           "North Carolina",
           50.45454545454545
          ],
          [
           "North Carolina",
           41
          ],
          [
           "North Carolina",
           50.45454545454545
          ],
          [
           "North Carolina",
           50.45454545454545
          ],
          [
           "North Carolina",
           50.45454545454545
          ],
          [
           "North Carolina",
           31
          ],
          [
           "North Carolina",
           50.45454545454545
          ],
          [
           "North Carolina",
           50.45454545454545
          ],
          [
           "North Carolina",
           46
          ],
          [
           "North Carolina",
           50.45454545454545
          ],
          [
           "North Carolina",
           50.45454545454545
          ],
          [
           "North Carolina",
           50.45454545454545
          ],
          [
           "North Carolina",
           50.45454545454545
          ],
          [
           "North Carolina",
           37
          ],
          [
           "North Carolina",
           50.45454545454545
          ],
          [
           "North Carolina",
           49
          ]
         ],
         "hovertemplate": "State=%{customdata[0]}<br>Year=%{x}<br>Phosphorous Usage (%)=%{y}<br>Phosphorous (Pounds/Acre)=%{customdata[1]}<extra></extra>",
         "legendgroup": "North Carolina",
         "marker": {
          "color": "#FECB52",
          "symbol": "circle"
         },
         "mode": "markers",
         "name": "North Carolina",
         "orientation": "v",
         "showlegend": true,
         "type": "scatter",
         "x": {
          "bdata": "rAetB64HrwewB7EHsgezB7QHtQe2B7cHuAe5B7oHuwe8B70Hvge/B8AHwQfCB8MHxAfFB8YHxwfIB8kHygfLB8wHzQfOB88H0AfRB9IH0wfUB9UH1gfXB9gH2QfaB9sH3AfdB94H3wfgB+EH",
          "dtype": "i2"
         },
         "xaxis": "x",
         "y": {
          "bdata": "AAAAAAAAWUAAAAAAAABZQAAAAAAAwFdAAAAAAAAAWUAAAAAAAABZQAAAAAAAgFZAAAAAAAAAWUAAAAAAAIBYQAAAAAAAAFlAAAAAAADAV0AAAAAAAABZQAAAAAAAwFZAAAAAAADAVkBGF1100QVWQEYXXXTRBVZARhdddNEFVkBGF1100QVWQEYXXXTRBVZARhdddNEFVkBGF1100QVWQEYXXXTRBVZARhdddNEFVkBGF1100QVWQEYXXXTRBVZARhdddNEFVkBGF1100QVWQEYXXXTRBVZARhdddNEFVkBGF1100QVWQEYXXXTRBVZARhdddNEFVkBGF1100QVWQEYXXXTRBVZAAAAAAAAAUEAAAAAAAIBWQAAAAAAAQFZAAAAAAAAAVEBGF1100QVWQEYXXXTRBVZAAAAAAACAUkBGF1100QVWQEYXXXTRBVZARhdddNEFVkAAAAAAAMBRQEYXXXTRBVZARhdddNEFVkAAAAAAAABRQEYXXXTRBVZARhdddNEFVkBGF1100QVWQEYXXXTRBVZAAAAAAADAUkBGF1100QVWQAAAAAAAwFBA",
          "dtype": "f8"
         },
         "yaxis": "y"
        },
        {
         "hovertemplate": "<b>OLS trendline</b><br>Phosphorous (%) = -0.333961 * Year + 752.839<br>R<sup>2</sup>=0.434403<br><br>State=North Carolina<br>Year=%{x}<br>Phosphorous Usage (%)=%{y} <b>(trend)</b><extra></extra>",
         "legendgroup": "North Carolina",
         "marker": {
          "color": "#FECB52",
          "symbol": "circle"
         },
         "mode": "lines",
         "name": "North Carolina",
         "showlegend": false,
         "type": "scatter",
         "x": {
          "bdata": "rAetB64HrwewB7EHsgezB7QHtQe2B7cHuAe5B7oHuwe8B70Hvge/B8AHwQfCB8MHxAfFB8YHxwfIB8kHygfLB8wHzQfOB88H0AfRB9IH0wfUB9UH1gfXB9gH2QfaB9sH3AfdB94H3wfgB+EH",
          "dtype": "i2"
         },
         "xaxis": "x",
         "y": {
          "bdata": "2AwwGjc8WED4vzF+1yZYQBBzM+J3EVhAMCY1Rhj8V0BI2TaquOZXQGiMOA5Z0VdAiD86cvm7V0Cg8jvWmaZXQMClPTo6kVdA2Fg/ntp7V0D4C0ECe2ZXQBi/QmYbUVdAMHJEyrs7V0BQJUYuXCZXQGjYR5L8EFdAiItJ9pz7VkCoPktaPeZWQMDxTL7d0FZA4KROIn67VkD4V1CGHqZWQBgLUuq+kFZAOL5TTl97VkBQcVWy/2VWQHAkVxagUFZAkNdYekA7VkCoilre4CVWQMg9XEKBEFZA4PBdpiH7VUAApF8KwuVVQCBXYW5i0FVAOApj0gK7VUBYvWQ2o6VVQHBwZppDkFVAkCNo/uN6VUCw1mlihGVVQMiJa8YkUFVA6DxtKsU6VUAA8G6OZSVVQCCjcPIFEFVAQFZyVqb6VEBYCXS6RuVUQHi8dR7nz1RAkG93goe6VECwInnmJ6VUQNDVekrIj1RA6Ih8rmh6VEAIPH4SCWVUQCjvf3apT1RAQKKB2kk6VEBgVYM+6iRUQHgIhaKKD1RAmLuGBiv6U0C4bohqy+RTQNAhis5rz1NA",
          "dtype": "f8"
         },
         "yaxis": "y"
        },
        {
         "customdata": [
          [
           "Oklahoma",
           28
          ],
          [
           "Oklahoma",
           27
          ],
          [
           "Oklahoma",
           33
          ],
          [
           "Oklahoma",
           23
          ],
          [
           "Oklahoma",
           28
          ],
          [
           "Oklahoma",
           37
          ],
          [
           "Oklahoma",
           27
          ],
          [
           "Oklahoma",
           36
          ],
          [
           "Oklahoma",
           38
          ],
          [
           "Oklahoma",
           33
          ],
          [
           "Oklahoma",
           30
          ],
          [
           "Oklahoma",
           29
          ],
          [
           "Oklahoma",
           31
          ],
          [
           "Oklahoma",
           38
          ],
          [
           "Oklahoma",
           39
          ],
          [
           "Oklahoma",
           43
          ],
          [
           "Oklahoma",
           30
          ],
          [
           "Oklahoma",
           46
          ],
          [
           "Oklahoma",
           29
          ],
          [
           "Oklahoma",
           36
          ],
          [
           "Oklahoma",
           42
          ],
          [
           "Oklahoma",
           34
          ],
          [
           "Oklahoma",
           29
          ],
          [
           "Oklahoma",
           33.791666666666664
          ],
          [
           "Oklahoma",
           33.791666666666664
          ],
          [
           "Oklahoma",
           33.791666666666664
          ],
          [
           "Oklahoma",
           33.791666666666664
          ],
          [
           "Oklahoma",
           33.791666666666664
          ],
          [
           "Oklahoma",
           33.791666666666664
          ],
          [
           "Oklahoma",
           33.791666666666664
          ],
          [
           "Oklahoma",
           33.791666666666664
          ],
          [
           "Oklahoma",
           33.791666666666664
          ],
          [
           "Oklahoma",
           33.791666666666664
          ],
          [
           "Oklahoma",
           33.791666666666664
          ],
          [
           "Oklahoma",
           33.791666666666664
          ],
          [
           "Oklahoma",
           33.791666666666664
          ],
          [
           "Oklahoma",
           33.791666666666664
          ],
          [
           "Oklahoma",
           33.791666666666664
          ],
          [
           "Oklahoma",
           33.791666666666664
          ],
          [
           "Oklahoma",
           33.791666666666664
          ],
          [
           "Oklahoma",
           33.791666666666664
          ],
          [
           "Oklahoma",
           33.791666666666664
          ],
          [
           "Oklahoma",
           33.791666666666664
          ],
          [
           "Oklahoma",
           33.791666666666664
          ],
          [
           "Oklahoma",
           33.791666666666664
          ],
          [
           "Oklahoma",
           33.791666666666664
          ],
          [
           "Oklahoma",
           33.791666666666664
          ],
          [
           "Oklahoma",
           33.791666666666664
          ],
          [
           "Oklahoma",
           33.791666666666664
          ],
          [
           "Oklahoma",
           33.791666666666664
          ],
          [
           "Oklahoma",
           33.791666666666664
          ],
          [
           "Oklahoma",
           33.791666666666664
          ],
          [
           "Oklahoma",
           33.791666666666664
          ],
          [
           "Oklahoma",
           45
          ]
         ],
         "hovertemplate": "State=%{customdata[0]}<br>Year=%{x}<br>Phosphorous Usage (%)=%{y}<br>Phosphorous (Pounds/Acre)=%{customdata[1]}<extra></extra>",
         "legendgroup": "Oklahoma",
         "marker": {
          "color": "#636efa",
          "symbol": "circle"
         },
         "mode": "markers",
         "name": "Oklahoma",
         "orientation": "v",
         "showlegend": true,
         "type": "scatter",
         "x": {
          "bdata": "rAetB64HrwewB7EHsgezB7QHtQe2B7cHuAe5B7oHuwe8B70Hvge/B8AHwQfCB8MHxAfFB8YHxwfIB8kHygfLB8wHzQfOB88H0AfRB9IH0wfUB9UH1gfXB9gH2QfaB9sH3AfdB94H3wfgB+EH",
          "dtype": "i2"
         },
         "xaxis": "x",
         "y": {
          "bdata": "AAAAAACASEAAAAAAAABIQAAAAAAAgEZAAAAAAACARkAAAAAAAABDQAAAAAAAAElAAAAAAACARUAAAAAAAABDQAAAAAAAAEVAAAAAAACARkAAAAAAAIBFQAAAAAAAAD1AAAAAAACAS0AAAAAAAABNQAAAAAAAgE5AAAAAAACASUAAAAAAAABNQAAAAAAAAEFAAAAAAAAAM0AAAAAAAABKQAAAAAAAAEVAAAAAAAAAQEAAAAAAAIBDQFVVVVVVFUZAVVVVVVUVRkBVVVVVVRVGQFVVVVVVFUZAVVVVVVUVRkBVVVVVVRVGQFVVVVVVFUZAVVVVVVUVRkBVVVVVVRVGQFVVVVVVFUZAVVVVVVUVRkBVVVVVVRVGQFVVVVVVFUZAVVVVVVUVRkBVVVVVVRVGQFVVVVVVFUZAVVVVVVUVRkBVVVVVVRVGQFVVVVVVFUZAVVVVVVUVRkBVVVVVVRVGQFVVVVVVFUZAVVVVVVUVRkBVVVVVVRVGQFVVVVVVFUZAVVVVVVUVRkBVVVVVVRVGQFVVVVVVFUZAVVVVVVUVRkBVVVVVVRVGQAAAAAAAAEZA",
          "dtype": "f8"
         },
         "yaxis": "y"
        },
        {
         "hovertemplate": "<b>OLS trendline</b><br>Phosphorous (%) = -0.0194397 * Year + 82.8613<br>R<sup>2</sup>=0.002258<br><br>State=Oklahoma<br>Year=%{x}<br>Phosphorous Usage (%)=%{y} <b>(trend)</b><extra></extra>",
         "legendgroup": "Oklahoma",
         "marker": {
          "color": "#636efa",
          "symbol": "circle"
         },
         "mode": "lines",
         "name": "Oklahoma",
         "showlegend": false,
         "type": "scatter",
         "x": {
          "bdata": "rAetB64HrwewB7EHsgezB7QHtQe2B7cHuAe5B7oHuwe8B70Hvge/B8AHwQfCB8MHxAfFB8YHxwfIB8kHygfLB8wHzQfOB88H0AfRB9IH0wfUB9UH1gfXB9gH2QfaB9sH3AfdB94H3wfgB+EH",
          "dtype": "i2"
         },
         "xaxis": "x",
         "y": {
          "bdata": "QV100UVXRkC41ZnRyFRGQC5Ov9FLUkZApMbk0c5PRkAaPwrSUU1GQJG3L9LUSkZABzBV0ldIRkB9qHrS2kVGQPQgoNJdQ0ZAapnF0uBARkDgEevSYz5GQFaKENPmO0ZAzQI202k5RkBDe1vT7DZGQLnzgNNvNEZAL2ym0/IxRkCm5MvTdS9GQBxd8dP4LEZAktUW1HsqRkAITjzU/idGQH/GYdSBJUZA9T6H1AQjRkBrt6zUhyBGQOIv0tQKHkZAWKj31I0bRkDOIB3VEBlGQESZQtWTFkZAuxFo1RYURkAxio3VmRFGQKcCs9UcD0ZAHXvY1Z8MRkCU8/3VIgpGQApsI9alB0ZAgORI1igFRkD3XG7WqwJGQG3Vk9YuAEZA40251rH9RUBZxt7WNPtFQNA+BNe3+EVARrcp1zr2RUC8L0/XvfNFQDKodNdA8UVAqSCa18PuRUAfmb/XRuxFQJUR5dfJ6UVAC4oK2EznRUCCAjDYz+RFQPh6VdhS4kVAbvN62NXfRUDla6DYWN1FQFvkxdjb2kVA0Vzr2F7YRUBH1RDZ4dVFQL5NNtlk00VA",
          "dtype": "f8"
         },
         "yaxis": "y"
        },
        {
         "customdata": [
          [
           "South Carolina",
           76
          ],
          [
           "South Carolina",
           81
          ],
          [
           "South Carolina",
           85
          ],
          [
           "South Carolina",
           85
          ],
          [
           "South Carolina",
           89
          ],
          [
           "South Carolina",
           84
          ],
          [
           "South Carolina",
           71
          ],
          [
           "South Carolina",
           78
          ],
          [
           "South Carolina",
           77
          ],
          [
           "South Carolina",
           72
          ],
          [
           "South Carolina",
           69
          ],
          [
           "South Carolina",
           66
          ],
          [
           "South Carolina",
           63
          ],
          [
           "South Carolina",
           65
          ],
          [
           "South Carolina",
           63.11538461538461
          ],
          [
           "South Carolina",
           51
          ],
          [
           "South Carolina",
           60
          ],
          [
           "South Carolina",
           42
          ],
          [
           "South Carolina",
           44
          ],
          [
           "South Carolina",
           42
          ],
          [
           "South Carolina",
           47
          ],
          [
           "South Carolina",
           51
          ],
          [
           "South Carolina",
           58
          ],
          [
           "South Carolina",
           63.11538461538461
          ],
          [
           "South Carolina",
           63.11538461538461
          ],
          [
           "South Carolina",
           63.11538461538461
          ],
          [
           "South Carolina",
           63.11538461538461
          ],
          [
           "South Carolina",
           63.11538461538461
          ],
          [
           "South Carolina",
           63.11538461538461
          ],
          [
           "South Carolina",
           63.11538461538461
          ],
          [
           "South Carolina",
           63.11538461538461
          ],
          [
           "South Carolina",
           63.11538461538461
          ],
          [
           "South Carolina",
           63.11538461538461
          ],
          [
           "South Carolina",
           54
          ],
          [
           "South Carolina",
           63.11538461538461
          ],
          [
           "South Carolina",
           63.11538461538461
          ],
          [
           "South Carolina",
           63.11538461538461
          ],
          [
           "South Carolina",
           63.11538461538461
          ],
          [
           "South Carolina",
           63.11538461538461
          ],
          [
           "South Carolina",
           46
          ],
          [
           "South Carolina",
           63.11538461538461
          ],
          [
           "South Carolina",
           63.11538461538461
          ],
          [
           "South Carolina",
           63.11538461538461
          ],
          [
           "South Carolina",
           46
          ],
          [
           "South Carolina",
           63.11538461538461
          ],
          [
           "South Carolina",
           63.11538461538461
          ],
          [
           "South Carolina",
           63.11538461538461
          ],
          [
           "South Carolina",
           63.11538461538461
          ],
          [
           "South Carolina",
           63.11538461538461
          ],
          [
           "South Carolina",
           63.11538461538461
          ],
          [
           "South Carolina",
           63.11538461538461
          ],
          [
           "South Carolina",
           39
          ],
          [
           "South Carolina",
           63.11538461538461
          ],
          [
           "South Carolina",
           63.11538461538461
          ]
         ],
         "hovertemplate": "State=%{customdata[0]}<br>Year=%{x}<br>Phosphorous Usage (%)=%{y}<br>Phosphorous (Pounds/Acre)=%{customdata[1]}<extra></extra>",
         "legendgroup": "South Carolina",
         "marker": {
          "color": "#EF553B",
          "symbol": "circle"
         },
         "mode": "markers",
         "name": "South Carolina",
         "orientation": "v",
         "showlegend": true,
         "type": "scatter",
         "x": {
          "bdata": "rAetB64HrwewB7EHsgezB7QHtQe2B7cHuAe5B7oHuwe8B70Hvge/B8AHwQfCB8MHxAfFB8YHxwfIB8kHygfLB8wHzQfOB88H0AfRB9IH0wfUB9UH1gfXB9gH2QfaB9sH3AfdB94H3wfgB+EH",
          "dtype": "i2"
         },
         "xaxis": "x",
         "y": {
          "bdata": "AAAAAAAAWUAAAAAAAABZQAAAAAAAAFlAAAAAAAAAWUAAAAAAAABZQAAAAAAAQFhAAAAAAAAAWUAAAAAAAEBYQAAAAAAAQFhAAAAAAADAWEAAAAAAAIBXQAAAAAAAwFZAAAAAAAAAWUAAAAAAAIBXQAAAAAAA4FZAAAAAAADAVUAAAAAAAEBYQAAAAAAAwFRAAAAAAADAVEAAAAAAAMBUQAAAAAAAwFVAAAAAAADAVEAAAAAAAEBTQAAAAAAA4FZAAAAAAADgVkAAAAAAAOBWQAAAAAAA4FZAAAAAAADgVkAAAAAAAOBWQAAAAAAA4FZAAAAAAADgVkAAAAAAAOBWQAAAAAAA4FZAAAAAAAAAWUAAAAAAAOBWQAAAAAAA4FZAAAAAAADgVkAAAAAAAOBWQAAAAAAA4FZAAAAAAACAU0AAAAAAAOBWQAAAAAAA4FZAAAAAAADgVkAAAAAAAMBTQAAAAAAA4FZAAAAAAADgVkAAAAAAAOBWQAAAAAAA4FZAAAAAAADgVkAAAAAAAOBWQAAAAAAA4FZAAAAAAABAUkAAAAAAAOBWQAAAAAAA4FZA",
          "dtype": "f8"
         },
         "yaxis": "y"
        },
        {
         "hovertemplate": "<b>OLS trendline</b><br>Phosphorous (%) = -0.174233 * Year + 438.311<br>R<sup>2</sup>=0.200256<br><br>State=South Carolina<br>Year=%{x}<br>Phosphorous Usage (%)=%{y} <b>(trend)</b><extra></extra>",
         "legendgroup": "South Carolina",
         "marker": {
          "color": "#EF553B",
          "symbol": "circle"
         },
         "mode": "lines",
         "name": "South Carolina",
         "showlegend": false,
         "type": "scatter",
         "x": {
          "bdata": "rAetB64HrwewB7EHsgezB7QHtQe2B7cHuAe5B7oHuwe8B70Hvge/B8AHwQfCB8MHxAfFB8YHxwfIB8kHygfLB8wHzQfOB88H0AfRB9IH0wfUB9UH1gfXB9gH2QfaB9sH3AfdB94H3wfgB+EH",
          "dtype": "i2"
         },
         "xaxis": "x",
         "y": {
          "bdata": "MFHNvX8HWEA02hIcWfxXQDhjWHoy8VdAPOyd2AvmV0A8deM25dpXQED+KJW+z1dARIdu85fEV0BEELRRcblXQEiZ+a9KrldATCI/DiSjV0BQq4Rs/ZdXQFA0ysrWjFdAVL0PKbCBV0BYRlWHiXZXQFzPmuVia1dAXFjgQzxgV0Bg4SWiFVVXQGRqawDvSVdAaPOwXsg+V0BofPa8oTNXQGwFPBt7KFdAcI6BeVQdV0BwF8fXLRJXQHSgDDYHB1dAeClSlOD7VkB8spfyufBWQHw73VCT5VZAgMQir2zaVkCETWgNRs9WQIjWrWsfxFZAiF/zyfi4VkCM6Dgo0q1WQJBxfoarolZAlPrD5ISXVkCUgwlDXoxWQJgMT6E3gVZAnJWU/xB2VkCcHtpd6mpWQKCnH7zDX1ZApDBlGp1UVkCouap4dklWQKhC8NZPPlZArMs1NSkzVkCwVHuTAihWQLTdwPHbHFZAtGYGULURVkC470uujgZWQLx4kQxo+1VAwAHXakHwVUDAihzJGuVVQMQTYif02VVAyJynhc3OVUDIJe3jpsNVQMyuMkKAuFVA",
          "dtype": "f8"
         },
         "yaxis": "y"
        },
        {
         "customdata": [
          [
           "Tennessee",
           53
          ],
          [
           "Tennessee",
           57
          ],
          [
           "Tennessee",
           64
          ],
          [
           "Tennessee",
           61
          ],
          [
           "Tennessee",
           58
          ],
          [
           "Tennessee",
           57
          ],
          [
           "Tennessee",
           62
          ],
          [
           "Tennessee",
           63
          ],
          [
           "Tennessee",
           61
          ],
          [
           "Tennessee",
           69
          ],
          [
           "Tennessee",
           60
          ],
          [
           "Tennessee",
           52
          ],
          [
           "Tennessee",
           59
          ],
          [
           "Tennessee",
           67
          ],
          [
           "Tennessee",
           69
          ],
          [
           "Tennessee",
           74
          ],
          [
           "Tennessee",
           64
          ],
          [
           "Tennessee",
           60.3125
          ],
          [
           "Tennessee",
           62
          ],
          [
           "Tennessee",
           65
          ],
          [
           "Tennessee",
           62
          ],
          [
           "Tennessee",
           61
          ],
          [
           "Tennessee",
           65
          ],
          [
           "Tennessee",
           60.3125
          ],
          [
           "Tennessee",
           60.3125
          ],
          [
           "Tennessee",
           60.3125
          ],
          [
           "Tennessee",
           60.3125
          ],
          [
           "Tennessee",
           60.3125
          ],
          [
           "Tennessee",
           60.3125
          ],
          [
           "Tennessee",
           60.3125
          ],
          [
           "Tennessee",
           60.3125
          ],
          [
           "Tennessee",
           60.3125
          ],
          [
           "Tennessee",
           60
          ],
          [
           "Tennessee",
           56
          ],
          [
           "Tennessee",
           63
          ],
          [
           "Tennessee",
           54
          ],
          [
           "Tennessee",
           56
          ],
          [
           "Tennessee",
           60.3125
          ],
          [
           "Tennessee",
           60.3125
          ],
          [
           "Tennessee",
           53
          ],
          [
           "Tennessee",
           60.3125
          ],
          [
           "Tennessee",
           60.3125
          ],
          [
           "Tennessee",
           60.3125
          ],
          [
           "Tennessee",
           51
          ],
          [
           "Tennessee",
           60.3125
          ],
          [
           "Tennessee",
           60.3125
          ],
          [
           "Tennessee",
           51
          ],
          [
           "Tennessee",
           60.3125
          ],
          [
           "Tennessee",
           60.3125
          ],
          [
           "Tennessee",
           60.3125
          ],
          [
           "Tennessee",
           60.3125
          ],
          [
           "Tennessee",
           66
          ],
          [
           "Tennessee",
           60.3125
          ],
          [
           "Tennessee",
           55
          ]
         ],
         "hovertemplate": "State=%{customdata[0]}<br>Year=%{x}<br>Phosphorous Usage (%)=%{y}<br>Phosphorous (Pounds/Acre)=%{customdata[1]}<extra></extra>",
         "legendgroup": "Tennessee",
         "marker": {
          "color": "#00cc96",
          "symbol": "circle"
         },
         "mode": "markers",
         "name": "Tennessee",
         "orientation": "v",
         "showlegend": true,
         "type": "scatter",
         "x": {
          "bdata": "rAetB64HrwewB7EHsgezB7QHtQe2B7cHuAe5B7oHuwe8B70Hvge/B8AHwQfCB8MHxAfFB8YHxwfIB8kHygfLB8wHzQfOB88H0AfRB9IH0wfUB9UH1gfXB9gH2QfaB9sH3AfdB94H3wfgB+EH",
          "dtype": "i2"
         },
         "xaxis": "x",
         "y": {
          "bdata": "AAAAAABAWEAAAAAAAABXQAAAAAAAQFZAAAAAAADAVkAAAAAAAEBWQAAAAAAAQFhAAAAAAAAAWEAAAAAAAEBXQAAAAAAAgFdAAAAAAAAAWUAAAAAAAABYQAAAAAAAgFhAAAAAAADAVkAAAAAAAABXQAAAAAAAwFdAAAAAAADAWEAAAAAAAIBXQAAAAAAA8ldAAAAAAABAWEAAAAAAAABZQAAAAAAAAFlAAAAAAABAWEAAAAAAAABZQAAAAAAA8ldAAAAAAADyV0AAAAAAAPJXQAAAAAAA8ldAAAAAAADyV0AAAAAAAPJXQAAAAAAA8ldAAAAAAADyV0AAAAAAAPJXQAAAAAAAwFhAAAAAAADAWEAAAAAAAABZQAAAAAAAwFhAAAAAAABAV0AAAAAAAPJXQAAAAAAA8ldAAAAAAAAAV0AAAAAAAPJXQAAAAAAA8ldAAAAAAADyV0AAAAAAAMBXQAAAAAAA8ldAAAAAAADyV0AAAAAAAABYQAAAAAAA8ldAAAAAAADyV0AAAAAAAPJXQAAAAAAA8ldAAAAAAAAAWEAAAAAAAPJXQAAAAAAAwFhA",
          "dtype": "f8"
         },
         "yaxis": "y"
        },
        {
         "hovertemplate": "<b>OLS trendline</b><br>Phosphorous (%) = 0.0428864 * Year + 10.4158<br>R<sup>2</sup>=0.067872<br><br>State=Tennessee<br>Year=%{x}<br>Phosphorous Usage (%)=%{y} <b>(trend)</b><extra></extra>",
         "legendgroup": "Tennessee",
         "marker": {
          "color": "#00cc96",
          "symbol": "circle"
         },
         "mode": "lines",
         "name": "Tennessee",
         "showlegend": false,
         "type": "scatter",
         "x": {
          "bdata": "rAetB64HrwewB7EHsgezB7QHtQe2B7cHuAe5B7oHuwe8B70Hvge/B8AHwQfCB8MHxAfFB8YHxwfIB8kHygfLB8wHzQfOB88H0AfRB9IH0wfUB9UH1gfXB9gH2QfaB9sH3AfdB94H3wfgB+EH",
          "dtype": "i2"
         },
         "xaxis": "x",
         "y": {
          "bdata": "b+bev0OpV0AlYIRmAqxXQNvZKQ3BrldAkVPPs3+xV0BHzXRaPrRXQP1GGgH9tldAs8C/p7u5V0BpOmVOerxXQB+0CvU4v1dA1S2wm/fBV0CLp1VCtsRXQEEh++h0x1dA95qgjzPKV0CtFEY28sxXQGOO69ywz1dAGQiRg2/SV0DPgTYqLtVXQIX729Ds11dAO3WBd6vaV0Dx7iYeat1XQKhozMQo4FdAXuJxa+fiV0AUXBcSpuVXQMrVvLhk6FdAgE9iXyPrV0A2yQcG4u1XQOxCrayg8FdAorxSU1/zV0BYNvj5HfZXQA6wnaDc+FdAxClDR5v7V0B6o+jtWf5XQDAdjpQYAVhA5pYzO9cDWECcENnhlQZYQFKKfohUCVhACAQkLxMMWEC+fcnV0Q5YQHT3bnyQEVhAKnEUI08UWEDg6rnJDRdYQJZkX3DMGVhATN4EF4scWEACWKq9SR9YQLjRT2QIIlhAbkv1CsckWEAkxZqxhSdYQNo+QFhEKlhAkLjl/gItWEBGMoulwS9YQPyrMEyAMlhAsiXW8j41WEBon3uZ/TdYQB4ZIUC8OlhA",
          "dtype": "f8"
         },
         "yaxis": "y"
        },
        {
         "customdata": [
          [
           "Texas",
           46
          ],
          [
           "Texas",
           44
          ],
          [
           "Texas",
           45
          ],
          [
           "Texas",
           43
          ],
          [
           "Texas",
           44
          ],
          [
           "Texas",
           46
          ],
          [
           "Texas",
           45
          ],
          [
           "Texas",
           42
          ],
          [
           "Texas",
           44
          ],
          [
           "Texas",
           45
          ],
          [
           "Texas",
           43
          ],
          [
           "Texas",
           39
          ],
          [
           "Texas",
           43
          ],
          [
           "Texas",
           47
          ],
          [
           "Texas",
           42
          ],
          [
           "Texas",
           45
          ],
          [
           "Texas",
           39
          ],
          [
           "Texas",
           40
          ],
          [
           "Texas",
           30
          ],
          [
           "Texas",
           40
          ],
          [
           "Texas",
           39
          ],
          [
           "Texas",
           39
          ],
          [
           "Texas",
           35
          ],
          [
           "Texas",
           37
          ],
          [
           "Texas",
           38
          ],
          [
           "Texas",
           37
          ],
          [
           "Texas",
           40
          ],
          [
           "Texas",
           41
          ],
          [
           "Texas",
           44
          ],
          [
           "Texas",
           43
          ],
          [
           "Texas",
           38
          ],
          [
           "Texas",
           38
          ],
          [
           "Texas",
           39
          ],
          [
           "Texas",
           37
          ],
          [
           "Texas",
           38
          ],
          [
           "Texas",
           41
          ],
          [
           "Texas",
           40
          ],
          [
           "Texas",
           38
          ],
          [
           "Texas",
           40.55813953488372
          ],
          [
           "Texas",
           50
          ],
          [
           "Texas",
           40.55813953488372
          ],
          [
           "Texas",
           40.55813953488372
          ],
          [
           "Texas",
           40.55813953488372
          ],
          [
           "Texas",
           37
          ],
          [
           "Texas",
           40.55813953488372
          ],
          [
           "Texas",
           40.55813953488372
          ],
          [
           "Texas",
           32
          ],
          [
           "Texas",
           40.55813953488372
          ],
          [
           "Texas",
           40.55813953488372
          ],
          [
           "Texas",
           40.55813953488372
          ],
          [
           "Texas",
           40.55813953488372
          ],
          [
           "Texas",
           34
          ],
          [
           "Texas",
           40.55813953488372
          ],
          [
           "Texas",
           37
          ]
         ],
         "hovertemplate": "State=%{customdata[0]}<br>Year=%{x}<br>Phosphorous Usage (%)=%{y}<br>Phosphorous (Pounds/Acre)=%{customdata[1]}<extra></extra>",
         "legendgroup": "Texas",
         "marker": {
          "color": "#ab63fa",
          "symbol": "circle"
         },
         "mode": "markers",
         "name": "Texas",
         "orientation": "v",
         "showlegend": true,
         "type": "scatter",
         "x": {
          "bdata": "rAetB64HrwewB7EHsgezB7QHtQe2B7cHuAe5B7oHuwe8B70Hvge/B8AHwQfCB8MHxAfFB8YHxwfIB8kHygfLB8wHzQfOB88H0AfRB9IH0wfUB9UH1gfXB9gH2QfaB9sH3AfdB94H3wfgB+EH",
          "dtype": "i2"
         },
         "xaxis": "x",
         "y": {
          "bdata": "AAAAAAAAQ0AAAAAAAABEQAAAAAAAAERAAAAAAACAQ0AAAAAAAIBCQAAAAAAAAEFAAAAAAAAAPkAAAAAAAAA+QAAAAAAAAEJAAAAAAACAREAAAAAAAIBHQAAAAAAAADdAAAAAAAAAREAAAAAAAIBGQAAAAAAAADxAAAAAAACARkAAAAAAAIBFQAAAAAAAgEpAAAAAAAAAPEAAAAAAAAA/QAAAAAAAgENAAAAAAACAR0AAAAAAAABGQAAAAAAAAEdAAAAAAAAATEAAAAAAAIBKQAAAAAAAAEhAAAAAAACASkAAAAAAAABIQAAAAAAAAE1AAAAAAAAATkAAAAAAAIBPQAAAAAAAgEdAAAAAAAAAT0AAAAAAAABMQAAAAAAAgEZAAAAAAAAAS0AAAAAAAIBCQBj0BX1BX0ZAAAAAAAAASUAY9AV9QV9GQBj0BX1BX0ZAGPQFfUFfRkAAAAAAAABOQBj0BX1BX0ZAGPQFfUFfRkAAAAAAAABKQBj0BX1BX0ZAGPQFfUFfRkAY9AV9QV9GQBj0BX1BX0ZAAAAAAAAAR0AY9AV9QV9GQAAAAAAAAEpA",
          "dtype": "f8"
         },
         "yaxis": "y"
        },
        {
         "hovertemplate": "<b>OLS trendline</b><br>Phosphorous (%) = 0.273618 * Year + -499.893<br>R<sup>2</sup>=0.236404<br><br>State=Texas<br>Year=%{x}<br>Phosphorous Usage (%)=%{y} <b>(trend)</b><extra></extra>",
         "legendgroup": "Texas",
         "marker": {
          "color": "#ab63fa",
          "symbol": "circle"
         },
         "mode": "lines",
         "name": "Texas",
         "showlegend": false,
         "type": "scatter",
         "x": {
          "bdata": "rAetB64HrwewB7EHsgezB7QHtQe2B7cHuAe5B7oHuwe8B70Hvge/B8AHwQfCB8MHxAfFB8YHxwfIB8kHygfLB8wHzQfOB88H0AfRB9IH0wfUB9UH1gfXB9gH2QfaB9sH3AfdB94H3wfgB+EH",
          "dtype": "i2"
         },
         "xaxis": "x",
         "y": {
          "bdata": "mDh7nyS/QkDYOtyKKuJCQBg9PXYwBUNAWD+eYTYoQ0CoQf9MPEtDQOhDYDhCbkNAKEbBI0iRQ0BoSCIPTrRDQKhKg/pT10NA+Ezk5Vn6Q0A4T0XRXx1EQHhRprxlQERAuFMHqGtjREAIVmiTcYZEQEhYyX53qURAiFoqan3MREDIXItVg+9EQAhf7ECJEkVAWGFNLI81RUCYY64XlVhFQNhlDwObe0VAGGhw7qCeRUBYatHZpsFFQKhsMsWs5EVA6G6TsLIHRkAocfSbuCpGQGhzVYe+TUZAuHW2csRwRkD4dxdeypNGQDh6eEnQtkZAeHzZNNbZRkC4fjog3PxGQAiBmwviH0dASIP89udCR0CIhV3i7WVHQMiHvs3ziEdAGIofufmrR0BYjICk/85HQJiO4Y8F8kdA2JBCewsVSEAYk6NmEThIQGiVBFIXW0hAqJdlPR1+SEDomcYoI6FIQCicJxQpxEhAeJ6I/y7nSEC4oOnqNApJQPiiStY6LUlAOKWrwUBQSUB4pwytRnNJQMipbZhMlklACKzOg1K5SUBIri9vWNxJQIiwkFpe/0lA",
          "dtype": "f8"
         },
         "yaxis": "y"
        }
       ],
       "layout": {
        "height": 600,
        "legend": {
         "title": {
          "text": "State"
         },
         "tracegroupgap": 0
        },
        "template": {
         "data": {
          "bar": [
           {
            "error_x": {
             "color": "#2a3f5f"
            },
            "error_y": {
             "color": "#2a3f5f"
            },
            "marker": {
             "line": {
              "color": "white",
              "width": 0.5
             },
             "pattern": {
              "fillmode": "overlay",
              "size": 10,
              "solidity": 0.2
             }
            },
            "type": "bar"
           }
          ],
          "barpolar": [
           {
            "marker": {
             "line": {
              "color": "white",
              "width": 0.5
             },
             "pattern": {
              "fillmode": "overlay",
              "size": 10,
              "solidity": 0.2
             }
            },
            "type": "barpolar"
           }
          ],
          "carpet": [
           {
            "aaxis": {
             "endlinecolor": "#2a3f5f",
             "gridcolor": "#C8D4E3",
             "linecolor": "#C8D4E3",
             "minorgridcolor": "#C8D4E3",
             "startlinecolor": "#2a3f5f"
            },
            "baxis": {
             "endlinecolor": "#2a3f5f",
             "gridcolor": "#C8D4E3",
             "linecolor": "#C8D4E3",
             "minorgridcolor": "#C8D4E3",
             "startlinecolor": "#2a3f5f"
            },
            "type": "carpet"
           }
          ],
          "choropleth": [
           {
            "colorbar": {
             "outlinewidth": 0,
             "ticks": ""
            },
            "type": "choropleth"
           }
          ],
          "contour": [
           {
            "colorbar": {
             "outlinewidth": 0,
             "ticks": ""
            },
            "colorscale": [
             [
              0,
              "#0d0887"
             ],
             [
              0.1111111111111111,
              "#46039f"
             ],
             [
              0.2222222222222222,
              "#7201a8"
             ],
             [
              0.3333333333333333,
              "#9c179e"
             ],
             [
              0.4444444444444444,
              "#bd3786"
             ],
             [
              0.5555555555555556,
              "#d8576b"
             ],
             [
              0.6666666666666666,
              "#ed7953"
             ],
             [
              0.7777777777777778,
              "#fb9f3a"
             ],
             [
              0.8888888888888888,
              "#fdca26"
             ],
             [
              1,
              "#f0f921"
             ]
            ],
            "type": "contour"
           }
          ],
          "contourcarpet": [
           {
            "colorbar": {
             "outlinewidth": 0,
             "ticks": ""
            },
            "type": "contourcarpet"
           }
          ],
          "heatmap": [
           {
            "colorbar": {
             "outlinewidth": 0,
             "ticks": ""
            },
            "colorscale": [
             [
              0,
              "#0d0887"
             ],
             [
              0.1111111111111111,
              "#46039f"
             ],
             [
              0.2222222222222222,
              "#7201a8"
             ],
             [
              0.3333333333333333,
              "#9c179e"
             ],
             [
              0.4444444444444444,
              "#bd3786"
             ],
             [
              0.5555555555555556,
              "#d8576b"
             ],
             [
              0.6666666666666666,
              "#ed7953"
             ],
             [
              0.7777777777777778,
              "#fb9f3a"
             ],
             [
              0.8888888888888888,
              "#fdca26"
             ],
             [
              1,
              "#f0f921"
             ]
            ],
            "type": "heatmap"
           }
          ],
          "histogram": [
           {
            "marker": {
             "pattern": {
              "fillmode": "overlay",
              "size": 10,
              "solidity": 0.2
             }
            },
            "type": "histogram"
           }
          ],
          "histogram2d": [
           {
            "colorbar": {
             "outlinewidth": 0,
             "ticks": ""
            },
            "colorscale": [
             [
              0,
              "#0d0887"
             ],
             [
              0.1111111111111111,
              "#46039f"
             ],
             [
              0.2222222222222222,
              "#7201a8"
             ],
             [
              0.3333333333333333,
              "#9c179e"
             ],
             [
              0.4444444444444444,
              "#bd3786"
             ],
             [
              0.5555555555555556,
              "#d8576b"
             ],
             [
              0.6666666666666666,
              "#ed7953"
             ],
             [
              0.7777777777777778,
              "#fb9f3a"
             ],
             [
              0.8888888888888888,
              "#fdca26"
             ],
             [
              1,
              "#f0f921"
             ]
            ],
            "type": "histogram2d"
           }
          ],
          "histogram2dcontour": [
           {
            "colorbar": {
             "outlinewidth": 0,
             "ticks": ""
            },
            "colorscale": [
             [
              0,
              "#0d0887"
             ],
             [
              0.1111111111111111,
              "#46039f"
             ],
             [
              0.2222222222222222,
              "#7201a8"
             ],
             [
              0.3333333333333333,
              "#9c179e"
             ],
             [
              0.4444444444444444,
              "#bd3786"
             ],
             [
              0.5555555555555556,
              "#d8576b"
             ],
             [
              0.6666666666666666,
              "#ed7953"
             ],
             [
              0.7777777777777778,
              "#fb9f3a"
             ],
             [
              0.8888888888888888,
              "#fdca26"
             ],
             [
              1,
              "#f0f921"
             ]
            ],
            "type": "histogram2dcontour"
           }
          ],
          "mesh3d": [
           {
            "colorbar": {
             "outlinewidth": 0,
             "ticks": ""
            },
            "type": "mesh3d"
           }
          ],
          "parcoords": [
           {
            "line": {
             "colorbar": {
              "outlinewidth": 0,
              "ticks": ""
             }
            },
            "type": "parcoords"
           }
          ],
          "pie": [
           {
            "automargin": true,
            "type": "pie"
           }
          ],
          "scatter": [
           {
            "fillpattern": {
             "fillmode": "overlay",
             "size": 10,
             "solidity": 0.2
            },
            "type": "scatter"
           }
          ],
          "scatter3d": [
           {
            "line": {
             "colorbar": {
              "outlinewidth": 0,
              "ticks": ""
             }
            },
            "marker": {
             "colorbar": {
              "outlinewidth": 0,
              "ticks": ""
             }
            },
            "type": "scatter3d"
           }
          ],
          "scattercarpet": [
           {
            "marker": {
             "colorbar": {
              "outlinewidth": 0,
              "ticks": ""
             }
            },
            "type": "scattercarpet"
           }
          ],
          "scattergeo": [
           {
            "marker": {
             "colorbar": {
              "outlinewidth": 0,
              "ticks": ""
             }
            },
            "type": "scattergeo"
           }
          ],
          "scattergl": [
           {
            "marker": {
             "colorbar": {
              "outlinewidth": 0,
              "ticks": ""
             }
            },
            "type": "scattergl"
           }
          ],
          "scattermap": [
           {
            "marker": {
             "colorbar": {
              "outlinewidth": 0,
              "ticks": ""
             }
            },
            "type": "scattermap"
           }
          ],
          "scattermapbox": [
           {
            "marker": {
             "colorbar": {
              "outlinewidth": 0,
              "ticks": ""
             }
            },
            "type": "scattermapbox"
           }
          ],
          "scatterpolar": [
           {
            "marker": {
             "colorbar": {
              "outlinewidth": 0,
              "ticks": ""
             }
            },
            "type": "scatterpolar"
           }
          ],
          "scatterpolargl": [
           {
            "marker": {
             "colorbar": {
              "outlinewidth": 0,
              "ticks": ""
             }
            },
            "type": "scatterpolargl"
           }
          ],
          "scatterternary": [
           {
            "marker": {
             "colorbar": {
              "outlinewidth": 0,
              "ticks": ""
             }
            },
            "type": "scatterternary"
           }
          ],
          "surface": [
           {
            "colorbar": {
             "outlinewidth": 0,
             "ticks": ""
            },
            "colorscale": [
             [
              0,
              "#0d0887"
             ],
             [
              0.1111111111111111,
              "#46039f"
             ],
             [
              0.2222222222222222,
              "#7201a8"
             ],
             [
              0.3333333333333333,
              "#9c179e"
             ],
             [
              0.4444444444444444,
              "#bd3786"
             ],
             [
              0.5555555555555556,
              "#d8576b"
             ],
             [
              0.6666666666666666,
              "#ed7953"
             ],
             [
              0.7777777777777778,
              "#fb9f3a"
             ],
             [
              0.8888888888888888,
              "#fdca26"
             ],
             [
              1,
              "#f0f921"
             ]
            ],
            "type": "surface"
           }
          ],
          "table": [
           {
            "cells": {
             "fill": {
              "color": "#EBF0F8"
             },
             "line": {
              "color": "white"
             }
            },
            "header": {
             "fill": {
              "color": "#C8D4E3"
             },
             "line": {
              "color": "white"
             }
            },
            "type": "table"
           }
          ]
         },
         "layout": {
          "annotationdefaults": {
           "arrowcolor": "#2a3f5f",
           "arrowhead": 0,
           "arrowwidth": 1
          },
          "autotypenumbers": "strict",
          "coloraxis": {
           "colorbar": {
            "outlinewidth": 0,
            "ticks": ""
           }
          },
          "colorscale": {
           "diverging": [
            [
             0,
             "#8e0152"
            ],
            [
             0.1,
             "#c51b7d"
            ],
            [
             0.2,
             "#de77ae"
            ],
            [
             0.3,
             "#f1b6da"
            ],
            [
             0.4,
             "#fde0ef"
            ],
            [
             0.5,
             "#f7f7f7"
            ],
            [
             0.6,
             "#e6f5d0"
            ],
            [
             0.7,
             "#b8e186"
            ],
            [
             0.8,
             "#7fbc41"
            ],
            [
             0.9,
             "#4d9221"
            ],
            [
             1,
             "#276419"
            ]
           ],
           "sequential": [
            [
             0,
             "#0d0887"
            ],
            [
             0.1111111111111111,
             "#46039f"
            ],
            [
             0.2222222222222222,
             "#7201a8"
            ],
            [
             0.3333333333333333,
             "#9c179e"
            ],
            [
             0.4444444444444444,
             "#bd3786"
            ],
            [
             0.5555555555555556,
             "#d8576b"
            ],
            [
             0.6666666666666666,
             "#ed7953"
            ],
            [
             0.7777777777777778,
             "#fb9f3a"
            ],
            [
             0.8888888888888888,
             "#fdca26"
            ],
            [
             1,
             "#f0f921"
            ]
           ],
           "sequentialminus": [
            [
             0,
             "#0d0887"
            ],
            [
             0.1111111111111111,
             "#46039f"
            ],
            [
             0.2222222222222222,
             "#7201a8"
            ],
            [
             0.3333333333333333,
             "#9c179e"
            ],
            [
             0.4444444444444444,
             "#bd3786"
            ],
            [
             0.5555555555555556,
             "#d8576b"
            ],
            [
             0.6666666666666666,
             "#ed7953"
            ],
            [
             0.7777777777777778,
             "#fb9f3a"
            ],
            [
             0.8888888888888888,
             "#fdca26"
            ],
            [
             1,
             "#f0f921"
            ]
           ]
          },
          "colorway": [
           "#636efa",
           "#EF553B",
           "#00cc96",
           "#ab63fa",
           "#FFA15A",
           "#19d3f3",
           "#FF6692",
           "#B6E880",
           "#FF97FF",
           "#FECB52"
          ],
          "font": {
           "color": "#2a3f5f"
          },
          "geo": {
           "bgcolor": "white",
           "lakecolor": "white",
           "landcolor": "white",
           "showlakes": true,
           "showland": true,
           "subunitcolor": "#C8D4E3"
          },
          "hoverlabel": {
           "align": "left"
          },
          "hovermode": "closest",
          "mapbox": {
           "style": "light"
          },
          "paper_bgcolor": "white",
          "plot_bgcolor": "white",
          "polar": {
           "angularaxis": {
            "gridcolor": "#EBF0F8",
            "linecolor": "#EBF0F8",
            "ticks": ""
           },
           "bgcolor": "white",
           "radialaxis": {
            "gridcolor": "#EBF0F8",
            "linecolor": "#EBF0F8",
            "ticks": ""
           }
          },
          "scene": {
           "xaxis": {
            "backgroundcolor": "white",
            "gridcolor": "#DFE8F3",
            "gridwidth": 2,
            "linecolor": "#EBF0F8",
            "showbackground": true,
            "ticks": "",
            "zerolinecolor": "#EBF0F8"
           },
           "yaxis": {
            "backgroundcolor": "white",
            "gridcolor": "#DFE8F3",
            "gridwidth": 2,
            "linecolor": "#EBF0F8",
            "showbackground": true,
            "ticks": "",
            "zerolinecolor": "#EBF0F8"
           },
           "zaxis": {
            "backgroundcolor": "white",
            "gridcolor": "#DFE8F3",
            "gridwidth": 2,
            "linecolor": "#EBF0F8",
            "showbackground": true,
            "ticks": "",
            "zerolinecolor": "#EBF0F8"
           }
          },
          "shapedefaults": {
           "line": {
            "color": "#2a3f5f"
           }
          },
          "ternary": {
           "aaxis": {
            "gridcolor": "#DFE8F3",
            "linecolor": "#A2B1C6",
            "ticks": ""
           },
           "baxis": {
            "gridcolor": "#DFE8F3",
            "linecolor": "#A2B1C6",
            "ticks": ""
           },
           "bgcolor": "white",
           "caxis": {
            "gridcolor": "#DFE8F3",
            "linecolor": "#A2B1C6",
            "ticks": ""
           }
          },
          "title": {
           "x": 0.05
          },
          "xaxis": {
           "automargin": true,
           "gridcolor": "#EBF0F8",
           "linecolor": "#EBF0F8",
           "ticks": "",
           "title": {
            "standoff": 15
           },
           "zerolinecolor": "#EBF0F8",
           "zerolinewidth": 2
          },
          "yaxis": {
           "automargin": true,
           "gridcolor": "#EBF0F8",
           "linecolor": "#EBF0F8",
           "ticks": "",
           "title": {
            "standoff": 15
           },
           "zerolinecolor": "#EBF0F8",
           "zerolinewidth": 2
          }
         }
        },
        "title": {
         "font": {
          "size": 16
         },
         "text": "Phosphorous Percentage Usage Over Time by State"
        },
        "xaxis": {
         "anchor": "y",
         "domain": [
          0,
          1
         ],
         "title": {
          "font": {
           "size": 14
          },
          "text": "Year"
         }
        },
        "yaxis": {
         "anchor": "x",
         "domain": [
          0,
          1
         ],
         "title": {
          "font": {
           "size": 14
          },
          "text": "Phosphorous Usage (%)"
         }
        }
       }
      }
     },
     "metadata": {},
     "output_type": "display_data"
    }
   ],
   "source": [
    "print(\"\\n=== PHOSPHOROUS ANALYSIS ===\")\n",
    "\n",
    "fig_phosphorous = px.scatter(df_cotton, x='Year', y='Phosphorous (Pounds/Acre)', \n",
    "                            color='State', size_max=10,\n",
    "                            title='Phosphorous Usage Over Time by State',\n",
    "                            labels={'Phosphorous (Pounds/Acre)': 'Phosphorous (lbs/acre)'},\n",
    "                            hover_data=['State', 'Phosphorous (%)'],\n",
    "                            trendline=\"ols\")\n",
    "\n",
    "fig_phosphorous.update_layout(\n",
    "    title_font_size=16,\n",
    "    xaxis_title_font_size=14,\n",
    "    yaxis_title_font_size=14,\n",
    "    height=600,\n",
    "    template='plotly_white'\n",
    ")\n",
    "\n",
    "fig_phosphorous.show()\n",
    "\n",
    "fig_phosphorous_pct = px.scatter(df_cotton, x='Year', y='Phosphorous (%)', \n",
    "                                color='State', size_max=10,\n",
    "                                title='Phosphorous Percentage Usage Over Time by State',\n",
    "                                labels={'Phosphorous (%)': 'Phosphorous Usage (%)'},\n",
    "                                hover_data=['State', 'Phosphorous (Pounds/Acre)'],\n",
    "                                trendline=\"ols\")\n",
    "\n",
    "fig_phosphorous_pct.update_layout(\n",
    "    title_font_size=16,\n",
    "    xaxis_title_font_size=14,\n",
    "    yaxis_title_font_size=14,\n",
    "    height=600,\n",
    "    template='plotly_white'\n",
    ")\n",
    "\n",
    "fig_phosphorous_pct.show()"
   ]
  },
  {
   "cell_type": "code",
   "execution_count": null,
   "id": "1393379a",
   "metadata": {},
   "outputs": [
    {
     "name": "stdout",
     "output_type": "stream",
     "text": [
      "\n",
      "=== POTASH ANALYSIS ===\n"
     ]
    },
    {
     "data": {
      "application/vnd.plotly.v1+json": {
       "config": {
        "plotlyServerURL": "https://plot.ly"
       },
       "data": [
        {
         "customdata": [
          [
           "Alabama",
           99
          ],
          [
           "Alabama",
           100
          ],
          [
           "Alabama",
           100
          ],
          [
           "Alabama",
           100
          ],
          [
           "Alabama",
           99
          ],
          [
           "Alabama",
           98
          ],
          [
           "Alabama",
           100
          ],
          [
           "Alabama",
           99
          ],
          [
           "Alabama",
           98
          ],
          [
           "Alabama",
           97
          ],
          [
           "Alabama",
           99
          ],
          [
           "Alabama",
           98
          ],
          [
           "Alabama",
           98
          ],
          [
           "Alabama",
           97
          ],
          [
           "Alabama",
           95
          ],
          [
           "Alabama",
           84
          ],
          [
           "Alabama",
           93
          ],
          [
           "Alabama",
           91
          ],
          [
           "Alabama",
           93
          ],
          [
           "Alabama",
           89
          ],
          [
           "Alabama",
           88
          ],
          [
           "Alabama",
           80
          ],
          [
           "Alabama",
           77
          ],
          [
           "Alabama",
           92.90322580645162
          ],
          [
           "Alabama",
           92.90322580645162
          ],
          [
           "Alabama",
           92.90322580645162
          ],
          [
           "Alabama",
           92.90322580645162
          ],
          [
           "Alabama",
           92.90322580645162
          ],
          [
           "Alabama",
           92.90322580645162
          ],
          [
           "Alabama",
           92.90322580645162
          ],
          [
           "Alabama",
           92.90322580645162
          ],
          [
           "Alabama",
           92.90322580645162
          ],
          [
           "Alabama",
           92.90322580645162
          ],
          [
           "Alabama",
           95
          ],
          [
           "Alabama",
           94
          ],
          [
           "Alabama",
           95
          ],
          [
           "Alabama",
           91
          ],
          [
           "Alabama",
           92.90322580645162
          ],
          [
           "Alabama",
           92.90322580645162
          ],
          [
           "Alabama",
           83
          ],
          [
           "Alabama",
           92.90322580645162
          ],
          [
           "Alabama",
           92.90322580645162
          ],
          [
           "Alabama",
           92.90322580645162
          ],
          [
           "Alabama",
           90
          ],
          [
           "Alabama",
           92.90322580645162
          ],
          [
           "Alabama",
           92.90322580645162
          ],
          [
           "Alabama",
           92.90322580645162
          ],
          [
           "Alabama",
           92.90322580645162
          ],
          [
           "Alabama",
           92.90322580645162
          ],
          [
           "Alabama",
           92.90322580645162
          ],
          [
           "Alabama",
           92.90322580645162
          ],
          [
           "Alabama",
           79
          ],
          [
           "Alabama",
           92.90322580645162
          ],
          [
           "Alabama",
           81
          ]
         ],
         "hovertemplate": "State=%{customdata[0]}<br>Year=%{x}<br>Potash (lbs/acre)=%{y}<br>Potash (%)=%{customdata[1]}<extra></extra>",
         "legendgroup": "Alabama",
         "marker": {
          "color": "#636efa",
          "symbol": "circle"
         },
         "mode": "markers",
         "name": "Alabama",
         "orientation": "v",
         "showlegend": true,
         "type": "scatter",
         "x": {
          "bdata": "rAetB64HrwewB7EHsgezB7QHtQe2B7cHuAe5B7oHuwe8B70Hvge/B8AHwQfCB8MHxAfFB8YHxwfIB8kHygfLB8wHzQfOB88H0AfRB9IH0wfUB9UH1gfXB9gH2QfaB9sH3AfdB94H3wfgB+EH",
          "dtype": "i2"
         },
         "xaxis": "x",
         "y": {
          "bdata": "AAAAAACAT0AAAAAAAIBQQAAAAAAAgFFAAAAAAABAUkAAAAAAAEBSQAAAAAAAwFFAAAAAAABAU0AAAAAAAEBSQAAAAAAAQFNAAAAAAADAVEAAAAAAAMBSQAAAAAAAgFBAAAAAAAAAVEAAAAAAAEBVQAAAAAAAQFFAAAAAAAAAUUAAAAAAAIBRQAAAAAAAAFFAAAAAAAAAUkAAAAAAAABSQAAAAAAAgFFAAAAAAABAUkAAAAAAAABPQBFCCCGEkFJAEUIIIYSQUkARQgghhJBSQBFCCCGEkFJAEUIIIYSQUkARQgghhJBSQBFCCCGEkFJAEUIIIYSQUkARQgghhJBSQBFCCCGEkFJAAAAAAADAU0AAAAAAAABTQAAAAAAAAFVAAAAAAADAVUARQgghhJBSQBFCCCGEkFJAAAAAAABAU0ARQgghhJBSQBFCCCGEkFJAEUIIIYSQUkAAAAAAAEBQQBFCCCGEkFJAEUIIIYSQUkARQgghhJBSQBFCCCGEkFJAEUIIIYSQUkARQgghhJBSQBFCCCGEkFJAAAAAAADAV0ARQgghhJBSQAAAAAAAwFRA",
          "dtype": "f8"
         },
         "yaxis": "y"
        },
        {
         "hovertemplate": "<b>OLS trendline</b><br>Potash (Pounds/Acre) = 0.124269 * Year + -173.099<br>R<sup>2</sup>=0.117505<br><br>State=Alabama<br>Year=%{x}<br>Potash (lbs/acre)=%{y} <b>(trend)</b><extra></extra>",
         "legendgroup": "Alabama",
         "marker": {
          "color": "#636efa",
          "symbol": "circle"
         },
         "mode": "lines",
         "name": "Alabama",
         "showlegend": false,
         "type": "scatter",
         "x": {
          "bdata": "rAetB64HrwewB7EHsgezB7QHtQe2B7cHuAe5B7oHuwe8B70Hvge/B8AHwQfCB8MHxAfFB8YHxwfIB8kHygfLB8wHzQfOB88H0AfRB9IH0wfUB9UH1gfXB9gH2QfaB9sH3AfdB94H3wfgB+EH",
          "dtype": "i2"
         },
         "xaxis": "x",
         "y": {
          "bdata": "ysOGksG9UUDIbOeXtcVRQMQVSJ2pzVFAwr6oop3VUUDAZwmokd1RQL4Qaq2F5VFAvLnKsnntUUC4Yiu4bfVRQLYLjL1h/VFAtLTswlUFUkCwXU3ISQ1SQK4Grs09FVJArK8O0zEdUkCqWG/YJSVSQKgB0N0ZLVJApKow4w01UkCiU5HoAT1SQKD88e31RFJAnKVS8+lMUkCaTrP43VRSQJj3E/7RXFJAlqB0A8ZkUkCUSdUIumxSQJDyNQ6udFJAjpuWE6J8UkCMRPcYloRSQIjtVx6KjFJAhpa4I36UUkCEPxkpcpxSQILoeS5mpFJAgJHaM1qsUkB8Ojs5TrRSQHrjmz5CvFJAeIz8QzbEUkB0NV1JKsxSQHLevU4e1FJAcIceVBLcUkBuMH9ZBuRSQGzZ317661JAaIJAZO7zUkBmK6Fp4vtSQGTUAW/WA1NAYH1idMoLU0BeJsN5vhNTQFzPI3+yG1NAWniEhKYjU0BYIeWJmitTQFTKRY+OM1NAUnOmlII7U0BQHAeadkNTQEzFZ59qS1NASm7IpF5TU0BIFymqUltTQEbAia9GY1NA",
          "dtype": "f8"
         },
         "yaxis": "y"
        },
        {
         "customdata": [
          [
           "Arizona",
           2
          ],
          [
           "Arizona",
           2
          ],
          [
           "Arizona",
           1
          ],
          [
           "Arizona",
           1
          ],
          [
           "Arizona",
           1
          ],
          [
           "Arizona",
           2
          ],
          [
           "Arizona",
           4
          ],
          [
           "Arizona",
           3
          ],
          [
           "Arizona",
           4
          ],
          [
           "Arizona",
           2
          ],
          [
           "Arizona",
           2
          ],
          [
           "Arizona",
           2
          ],
          [
           "Arizona",
           1
          ],
          [
           "Arizona",
           1
          ],
          [
           "Arizona",
           1
          ],
          [
           "Arizona",
           3
          ],
          [
           "Arizona",
           2
          ],
          [
           "Arizona",
           2
          ],
          [
           "Arizona",
           3
          ],
          [
           "Arizona",
           11
          ],
          [
           "Arizona",
           4
          ],
          [
           "Arizona",
           9
          ],
          [
           "Arizona",
           7
          ],
          [
           "Arizona",
           6.054054054054054
          ],
          [
           "Arizona",
           7
          ],
          [
           "Arizona",
           3
          ],
          [
           "Arizona",
           8
          ],
          [
           "Arizona",
           18
          ],
          [
           "Arizona",
           9
          ],
          [
           "Arizona",
           10
          ],
          [
           "Arizona",
           22
          ],
          [
           "Arizona",
           6.054054054054054
          ],
          [
           "Arizona",
           11
          ],
          [
           "Arizona",
           4
          ],
          [
           "Arizona",
           13
          ],
          [
           "Arizona",
           15
          ],
          [
           "Arizona",
           8
          ],
          [
           "Arizona",
           6.054054054054054
          ],
          [
           "Arizona",
           6.054054054054054
          ],
          [
           "Arizona",
           11
          ],
          [
           "Arizona",
           6.054054054054054
          ],
          [
           "Arizona",
           6.054054054054054
          ],
          [
           "Arizona",
           6.054054054054054
          ],
          [
           "Arizona",
           6.054054054054054
          ],
          [
           "Arizona",
           6.054054054054054
          ],
          [
           "Arizona",
           6.054054054054054
          ],
          [
           "Arizona",
           6.054054054054054
          ],
          [
           "Arizona",
           6.054054054054054
          ],
          [
           "Arizona",
           6.054054054054054
          ],
          [
           "Arizona",
           6.054054054054054
          ],
          [
           "Arizona",
           6.054054054054054
          ],
          [
           "Arizona",
           15
          ],
          [
           "Arizona",
           6.054054054054054
          ],
          [
           "Arizona",
           6.054054054054054
          ]
         ],
         "hovertemplate": "State=%{customdata[0]}<br>Year=%{x}<br>Potash (lbs/acre)=%{y}<br>Potash (%)=%{customdata[1]}<extra></extra>",
         "legendgroup": "Arizona",
         "marker": {
          "color": "#EF553B",
          "symbol": "circle"
         },
         "mode": "markers",
         "name": "Arizona",
         "orientation": "v",
         "showlegend": true,
         "type": "scatter",
         "x": {
          "bdata": "rAetB64HrwewB7EHsgezB7QHtQe2B7cHuAe5B7oHuwe8B70Hvge/B8AHwQfCB8MHxAfFB8YHxwfIB8kHygfLB8wHzQfOB88H0AfRB9IH0wfUB9UH1gfXB9gH2QfaB9sH3AfdB94H3wfgB+EH",
          "dtype": "i2"
         },
         "xaxis": "x",
         "y": {
          "bdata": "aWlpaWlpN0AAAAAAAAAgQAAAAAAAAC5AAAAAAAAAREAAAAAAAABCQAAAAAAAAChAAAAAAAAAMEAAAAAAAIBEQAAAAAAAgENAAAAAAAAAQUAAAAAAAAA7QAAAAAAAADZAAAAAAAAAMEAAAAAAAIBCQAAAAAAAADpAAAAAAACAS0AAAAAAAAAiQAAAAAAAABxAAAAAAAAAQUAAAAAAAAAsQAAAAAAAAD1AAAAAAAAAGEAAAAAAAAAoQGlpaWlpaTdAAAAAAAAALEBpaWlpaWk3QGlpaWlpaTdAAAAAAAAAJEAAAAAAAAA4QAAAAAAAABRAAAAAAAAAJEBpaWlpaWk3QAAAAAAAAEZAAAAAAAAAR0AAAAAAAAAiQAAAAAAAADJAAAAAAACAQ0BpaWlpaWk3QGlpaWlpaTdAAAAAAACAQEBpaWlpaWk3QGlpaWlpaTdAaWlpaWlpN0BpaWlpaWk3QGlpaWlpaTdAaWlpaWlpN0BpaWlpaWk3QGlpaWlpaTdAaWlpaWlpN0BpaWlpaWk3QGlpaWlpaTdAAAAAAAAAIkBpaWlpaWk3QGlpaWlpaTdA",
          "dtype": "f8"
         },
         "yaxis": "y"
        },
        {
         "hovertemplate": "<b>OLS trendline</b><br>Potash (Pounds/Acre) = -0.0501665 * Year + 123.268<br>R<sup>2</sup>=0.005083<br><br>State=Arizona<br>Year=%{x}<br>Potash (lbs/acre)=%{y} <b>(trend)</b><extra></extra>",
         "legendgroup": "Arizona",
         "marker": {
          "color": "#EF553B",
          "symbol": "circle"
         },
         "mode": "lines",
         "name": "Arizona",
         "showlegend": false,
         "type": "scatter",
         "x": {
          "bdata": "rAetB64HrwewB7EHsgezB7QHtQe2B7cHuAe5B7oHuwe8B70Hvge/B8AHwQfCB8MHxAfFB8YHxwfIB8kHygfLB8wHzQfOB88H0AfRB9IH0wfUB9UH1gfXB9gH2QfaB9sH3AfdB94H3wfgB+EH",
          "dtype": "i2"
         },
         "xaxis": "x",
         "y": {
          "bdata": "KL69vb29OECsitcH5rA4QDBX8VEOpDhAtCMLnDaXOEA48CTmXoo4QLy8PjCHfThAQIlYeq9wOEDEVXLE12M4QEgijA4AVzhAzO6lWChKOEBQu7+iUD04QNSH2ex4MDhAWFTzNqEjOEDcIA2ByRY4QGDtJsvxCThA6LlAFRr9N0BshlpfQvA3QPBSdKlq4zdAdB+O85LWN0D466c9u8k3QHy4wYfjvDdAAIXb0QuwN0CEUfUbNKM3QAgeD2ZcljdAjOoosISJN0AQt0L6rHw3QJSDXETVbzdAGFB2jv1iN0CcHJDYJVY3QCDpqSJOSTdApLXDbHY8N0Aogt22ni83QKxO9wDHIjdAMBsRS+8VN0C05yqVFwk3QDi0RN8//DZAvIBeKWjvNkBATXhzkOI2QMQZkr241TZASOarB+HINkDMssVRCbw2QFB/35sxrzZA1Ev55VmiNkBYGBMwgpU2QNzkLHqqiDZAYLFGxNJ7NkDkfWAO+242QGhKelgjYjZA7BaUoktVNkBw463sc0g2QPSvxzacOzZAeHzhgMQuNkD8SPvK7CE2QIAVFRUVFTZA",
          "dtype": "f8"
         },
         "yaxis": "y"
        },
        {
         "customdata": [
          [
           "Arkansas",
           65
          ],
          [
           "Arkansas",
           73
          ],
          [
           "Arkansas",
           76
          ],
          [
           "Arkansas",
           79
          ],
          [
           "Arkansas",
           61
          ],
          [
           "Arkansas",
           68
          ],
          [
           "Arkansas",
           63
          ],
          [
           "Arkansas",
           65
          ],
          [
           "Arkansas",
           70
          ],
          [
           "Arkansas",
           69
          ],
          [
           "Arkansas",
           75
          ],
          [
           "Arkansas",
           72
          ],
          [
           "Arkansas",
           77
          ],
          [
           "Arkansas",
           78
          ],
          [
           "Arkansas",
           74
          ],
          [
           "Arkansas",
           83
          ],
          [
           "Arkansas",
           85
          ],
          [
           "Arkansas",
           62
          ],
          [
           "Arkansas",
           72
          ],
          [
           "Arkansas",
           70
          ],
          [
           "Arkansas",
           82
          ],
          [
           "Arkansas",
           77
          ],
          [
           "Arkansas",
           81
          ],
          [
           "Arkansas",
           79
          ],
          [
           "Arkansas",
           75
          ],
          [
           "Arkansas",
           71
          ],
          [
           "Arkansas",
           87
          ],
          [
           "Arkansas",
           73
          ],
          [
           "Arkansas",
           74
          ],
          [
           "Arkansas",
           74
          ],
          [
           "Arkansas",
           81
          ],
          [
           "Arkansas",
           85
          ],
          [
           "Arkansas",
           71
          ],
          [
           "Arkansas",
           91
          ],
          [
           "Arkansas",
           88
          ],
          [
           "Arkansas",
           85
          ],
          [
           "Arkansas",
           84
          ],
          [
           "Arkansas",
           68
          ],
          [
           "Arkansas",
           76.34883720930233
          ],
          [
           "Arkansas",
           90
          ],
          [
           "Arkansas",
           76.34883720930233
          ],
          [
           "Arkansas",
           76.34883720930233
          ],
          [
           "Arkansas",
           76.34883720930233
          ],
          [
           "Arkansas",
           85
          ],
          [
           "Arkansas",
           76.34883720930233
          ],
          [
           "Arkansas",
           76.34883720930233
          ],
          [
           "Arkansas",
           86
          ],
          [
           "Arkansas",
           76.34883720930233
          ],
          [
           "Arkansas",
           76.34883720930233
          ],
          [
           "Arkansas",
           76.34883720930233
          ],
          [
           "Arkansas",
           76.34883720930233
          ],
          [
           "Arkansas",
           80
          ],
          [
           "Arkansas",
           76.34883720930233
          ],
          [
           "Arkansas",
           79
          ]
         ],
         "hovertemplate": "State=%{customdata[0]}<br>Year=%{x}<br>Potash (lbs/acre)=%{y}<br>Potash (%)=%{customdata[1]}<extra></extra>",
         "legendgroup": "Arkansas",
         "marker": {
          "color": "#00cc96",
          "symbol": "circle"
         },
         "mode": "markers",
         "name": "Arkansas",
         "orientation": "v",
         "showlegend": true,
         "type": "scatter",
         "x": {
          "bdata": "rAetB64HrwewB7EHsgezB7QHtQe2B7cHuAe5B7oHuwe8B70Hvge/B8AHwQfCB8MHxAfFB8YHxwfIB8kHygfLB8wHzQfOB88H0AfRB9IH0wfUB9UH1gfXB9gH2QfaB9sH3AfdB94H3wfgB+EH",
          "dtype": "i2"
         },
         "xaxis": "x",
         "y": {
          "bdata": "AAAAAAAASEAAAAAAAIBJQAAAAAAAgElAAAAAAACAR0AAAAAAAIBLQAAAAAAAAEtAAAAAAACASkAAAAAAAABJQAAAAAAAAEtAAAAAAAAASUAAAAAAAABHQAAAAAAAAEdAAAAAAACAS0AAAAAAAABOQAAAAAAAAElAAAAAAACASUAAAAAAAIBKQAAAAAAAAE1AAAAAAAAASEAAAAAAAABHQAAAAAAAgEpAAAAAAACASUAAAAAAAEBQQAAAAAAAgE9AAAAAAAAATUAAAAAAAABPQAAAAAAAgExAAAAAAACATkAAAAAAAIBQQAAAAAAAAFNAAAAAAABAUkAAAAAAAMBSQAAAAAAAgFFAAAAAAADAUEAAAAAAAABTQAAAAAAAQFNAAAAAAACAVEAAAAAAAEBSQOKOuCPuCE9AAAAAAADAVkDijrgj7ghPQOKOuCPuCE9A4o64I+4IT0AAAAAAAMBVQOKOuCPuCE9A4o64I+4IT0AAAAAAAIBSQOKOuCPuCE9A4o64I+4IT0Dijrgj7ghPQOKOuCPuCE9AAAAAAACAVUDijrgj7ghPQAAAAAAAAFlA",
          "dtype": "f8"
         },
         "yaxis": "y"
        },
        {
         "hovertemplate": "<b>OLS trendline</b><br>Potash (Pounds/Acre) = 0.545284 * Year + -1023.32<br>R<sup>2</sup>=0.487245<br><br>State=Arkansas<br>Year=%{x}<br>Potash (lbs/acre)=%{y} <b>(trend)</b><extra></extra>",
         "legendgroup": "Arkansas",
         "marker": {
          "color": "#00cc96",
          "symbol": "circle"
         },
         "mode": "lines",
         "name": "Arkansas",
         "showlegend": false,
         "type": "scatter",
         "x": {
          "bdata": "rAetB64HrwewB7EHsgezB7QHtQe2B7cHuAe5B7oHuwe8B70Hvge/B8AHwQfCB8MHxAfFB8YHxwfIB8kHygfLB8wHzQfOB88H0AfRB9IH0wfUB9UH1gfXB9gH2QfaB9sH3AfdB94H3wfgB+EH",
          "dtype": "i2"
         },
         "xaxis": "x",
         "y": {
          "bdata": "YAyKYlPPR0CgBzBDHxVIQOAC1iPrWkhAIP57BLegSEBg+SHlguZIQMD0x8VOLElAAPBtphpySUBA6xOH5rdJQIDmuWey/UlAwOFfSH5DSkAA3QUpSolKQEDYqwkWz0pAgNNR6uEUS0DAzvfKrVpLQADKnat5oEtAQMVDjEXmS0CAwOlsESxMQOC7j03dcUxAILc1Lqm3TEBgstsOdf1MQKCtge9AQ01A4Kgn0AyJTUAgpM2w2M5NQGCfc5GkFE5AoJoZcnBaTkDglb9SPKBOQCCRZTMI5k5AYIwLFNQrT0Cgh7H0n3FPQOCCV9Vrt09AQH79tTf9T0DAvFHLgSFQQGC6pLtnRFBAALj3q01nUECgtUqcM4pQQECznYwZrVBA4LDwfP/PUECArkNt5fJQQCCsll3LFVFAwKnpTbE4UUBgpzw+l1tRQACljy59flFAsKLiHmOhUUBQoDUPScRRQPCdiP8u51FAkJvb7xQKUkAwmS7g+ixSQNCWgdDgT1JAcJTUwMZyUkAQkiexrJVSQLCPeqGSuFJAUI3NkXjbUkDwiiCCXv5SQJCIc3JEIVNA",
          "dtype": "f8"
         },
         "yaxis": "y"
        },
        {
         "customdata": [
          [
           "California",
           8
          ],
          [
           "California",
           10.236842105263158
          ],
          [
           "California",
           4
          ],
          [
           "California",
           6
          ],
          [
           "California",
           6
          ],
          [
           "California",
           1
          ],
          [
           "California",
           9
          ],
          [
           "California",
           6
          ],
          [
           "California",
           12
          ],
          [
           "California",
           9
          ],
          [
           "California",
           10
          ],
          [
           "California",
           1
          ],
          [
           "California",
           7
          ],
          [
           "California",
           10
          ],
          [
           "California",
           8
          ],
          [
           "California",
           5
          ],
          [
           "California",
           3
          ],
          [
           "California",
           5
          ],
          [
           "California",
           4
          ],
          [
           "California",
           6
          ],
          [
           "California",
           2
          ],
          [
           "California",
           3
          ],
          [
           "California",
           2
          ],
          [
           "California",
           10.236842105263158
          ],
          [
           "California",
           16
          ],
          [
           "California",
           13
          ],
          [
           "California",
           3
          ],
          [
           "California",
           10
          ],
          [
           "California",
           5
          ],
          [
           "California",
           6
          ],
          [
           "California",
           24
          ],
          [
           "California",
           21
          ],
          [
           "California",
           16
          ],
          [
           "California",
           26
          ],
          [
           "California",
           13
          ],
          [
           "California",
           19
          ],
          [
           "California",
           12
          ],
          [
           "California",
           10.236842105263158
          ],
          [
           "California",
           10.236842105263158
          ],
          [
           "California",
           25
          ],
          [
           "California",
           10.236842105263158
          ],
          [
           "California",
           10.236842105263158
          ],
          [
           "California",
           10.236842105263158
          ],
          [
           "California",
           20
          ],
          [
           "California",
           10.236842105263158
          ],
          [
           "California",
           10.236842105263158
          ],
          [
           "California",
           10.236842105263158
          ],
          [
           "California",
           10.236842105263158
          ],
          [
           "California",
           10.236842105263158
          ],
          [
           "California",
           10.236842105263158
          ],
          [
           "California",
           10.236842105263158
          ],
          [
           "California",
           33
          ],
          [
           "California",
           10.236842105263158
          ],
          [
           "California",
           10.236842105263158
          ]
         ],
         "hovertemplate": "State=%{customdata[0]}<br>Year=%{x}<br>Potash (lbs/acre)=%{y}<br>Potash (%)=%{customdata[1]}<extra></extra>",
         "legendgroup": "California",
         "marker": {
          "color": "#ab63fa",
          "symbol": "circle"
         },
         "mode": "markers",
         "name": "California",
         "orientation": "v",
         "showlegend": true,
         "type": "scatter",
         "x": {
          "bdata": "rAetB64HrwewB7EHsgezB7QHtQe2B7cHuAe5B7oHuwe8B70Hvge/B8AHwQfCB8MHxAfFB8YHxwfIB8kHygfLB8wHzQfOB88H0AfRB9IH0wfUB9UH1gfXB9gH2QfaB9sH3AfdB94H3wfgB+EH",
          "dtype": "i2"
         },
         "xaxis": "x",
         "y": {
          "bdata": "AAAAAAAAOkB2gynyWTdKQAAAAAAAADBAAAAAAACAUkAAAAAAAABHQAAAAAAAAD9AAAAAAAAAOEAAAAAAAIBCQAAAAAAAgEhAAAAAAAAASUAAAAAAAAA2QAAAAAAAgEVAAAAAAACAUUAAAAAAAABJQAAAAAAAwFBAAAAAAAAARkAAAAAAAMBSQAAAAAAAAFVAAAAAAACAQ0AAAAAAAABDQAAAAAAAwFVAAAAAAAAAXEAAAAAAAAA4QHaDKfJZN0pAAAAAAACAQ0AAAAAAAAAsQAAAAAAAAERAAAAAAAAAQ0AAAAAAAABFQHaDKfJZN0pAAAAAAACAQ0AAAAAAAABSQAAAAAAAAE1AAAAAAAAAUkAAAAAAAMBUQAAAAAAAQFhAAAAAAAAATUB2gynyWTdKQHaDKfJZN0pAAAAAAAAAVUB2gynyWTdKQHaDKfJZN0pAdoMp8lk3SkAAAAAAAABIQHaDKfJZN0pAdoMp8lk3SkB2gynyWTdKQHaDKfJZN0pAdoMp8lk3SkB2gynyWTdKQHaDKfJZN0pAAAAAAAAASEB2gynyWTdKQHaDKfJZN0pA",
          "dtype": "f8"
         },
         "yaxis": "y"
        },
        {
         "hovertemplate": "<b>OLS trendline</b><br>Potash (Pounds/Acre) = 0.26159 * Year + -468.262<br>R<sup>2</sup>=0.044417<br><br>State=California<br>Year=%{x}<br>Potash (lbs/acre)=%{y} <b>(trend)</b><extra></extra>",
         "legendgroup": "California",
         "marker": {
          "color": "#ab63fa",
          "symbol": "circle"
         },
         "mode": "lines",
         "name": "California",
         "showlegend": false,
         "type": "scatter",
         "x": {
          "bdata": "rAetB64HrwewB7EHsgezB7QHtQe2B7cHuAe5B7oHuwe8B70Hvge/B8AHwQfCB8MHxAfFB8YHxwfIB8kHygfLB8wHzQfOB88H0AfRB9IH0wfUB9UH1gfXB9gH2QfaB9sH3AfdB94H3wfgB+EH",
          "dtype": "i2"
         },
         "xaxis": "x",
         "y": {
          "bdata": "cPsZ1wnARkAQDymeheFGQKAiOGUBA0dAQDZHLH0kR0DgSVbz+EVHQHBdZbp0Z0dAEHF0gfCIR0CwhINIbKpHQECYkg/oy0dA4Kuh1mPtR0Bwv7Cd3w5IQBDTv2RbMEhAsObOK9dRSEBA+t3yUnNIQOAN7bnOlEhAgCH8gEq2SEAQNQtIxtdIQLBIGg9C+UhAQFwp1r0aSUDgbzidOTxJQICDR2S1XUlAEJdWKzF/SUCwqmXyrKBJQFC+dLkowklA4NGDgKTjSUCA5ZJHIAVKQCD5oQ6cJkpAsAyx1RdISkBQIMCck2lKQOAzz2MPi0pAgEfeKousSkAgW+3xBs5KQLBu/LiC70pAUIILgP4QS0DwlRpHejJLQICpKQ72U0tAIL041XF1S0Cw0Eec7ZZLQFDkVmNpuEtA8PdlKuXZS0CAC3XxYPtLQCAfhLjcHExAwDKTf1g+TEBQRqJG1F9MQPBZsQ1QgUxAgG3A1MuiTEAggc+bR8RMQMCU3mLD5UxAUKjtKT8HTUDwu/zwuihNQJDPC7g2Sk1AIOMaf7JrTUDA9ilGLo1NQGAKOQ2qrk1A",
          "dtype": "f8"
         },
         "yaxis": "y"
        },
        {
         "customdata": [
          [
           "Georgia",
           100
          ],
          [
           "Georgia",
           99
          ],
          [
           "Georgia",
           100
          ],
          [
           "Georgia",
           100
          ],
          [
           "Georgia",
           100
          ],
          [
           "Georgia",
           98
          ],
          [
           "Georgia",
           100
          ],
          [
           "Georgia",
           100
          ],
          [
           "Georgia",
           98
          ],
          [
           "Georgia",
           100
          ],
          [
           "Georgia",
           100
          ],
          [
           "Georgia",
           100
          ],
          [
           "Georgia",
           98
          ],
          [
           "Georgia",
           100
          ],
          [
           "Georgia",
           100
          ],
          [
           "Georgia",
           99
          ],
          [
           "Georgia",
           98
          ],
          [
           "Georgia",
           85
          ],
          [
           "Georgia",
           100
          ],
          [
           "Georgia",
           100
          ],
          [
           "Georgia",
           98
          ],
          [
           "Georgia",
           100
          ],
          [
           "Georgia",
           90
          ],
          [
           "Georgia",
           97
          ],
          [
           "Georgia",
           97
          ],
          [
           "Georgia",
           97
          ],
          [
           "Georgia",
           97
          ],
          [
           "Georgia",
           97
          ],
          [
           "Georgia",
           97
          ],
          [
           "Georgia",
           97
          ],
          [
           "Georgia",
           97
          ],
          [
           "Georgia",
           97
          ],
          [
           "Georgia",
           97
          ],
          [
           "Georgia",
           99
          ],
          [
           "Georgia",
           92
          ],
          [
           "Georgia",
           100
          ],
          [
           "Georgia",
           93
          ],
          [
           "Georgia",
           93
          ],
          [
           "Georgia",
           97
          ],
          [
           "Georgia",
           91
          ],
          [
           "Georgia",
           97
          ],
          [
           "Georgia",
           97
          ],
          [
           "Georgia",
           97
          ],
          [
           "Georgia",
           91
          ],
          [
           "Georgia",
           97
          ],
          [
           "Georgia",
           97
          ],
          [
           "Georgia",
           91
          ],
          [
           "Georgia",
           97
          ],
          [
           "Georgia",
           97
          ],
          [
           "Georgia",
           97
          ],
          [
           "Georgia",
           97
          ],
          [
           "Georgia",
           97
          ],
          [
           "Georgia",
           97
          ],
          [
           "Georgia",
           91
          ]
         ],
         "hovertemplate": "State=%{customdata[0]}<br>Year=%{x}<br>Potash (lbs/acre)=%{y}<br>Potash (%)=%{customdata[1]}<extra></extra>",
         "legendgroup": "Georgia",
         "marker": {
          "color": "#FFA15A",
          "symbol": "circle"
         },
         "mode": "markers",
         "name": "Georgia",
         "orientation": "v",
         "showlegend": true,
         "type": "scatter",
         "x": {
          "bdata": "rAetB64HrwewB7EHsgezB7QHtQe2B7cHuAe5B7oHuwe8B70Hvge/B8AHwQfCB8MHxAfFB8YHxwfIB8kHygfLB8wHzQfOB88H0AfRB9IH0wfUB9UH1gfXB9gH2QfaB9sH3AfdB94H3wfgB+EH",
          "dtype": "i2"
         },
         "xaxis": "x",
         "y": {
          "bdata": "AAAAAABAVkAAAAAAAEBWQAAAAAAAAFpAAAAAAADAV0AAAAAAAIBXQAAAAAAAAFdAAAAAAABAVUAAAAAAAIBWQAAAAAAAwFZAAAAAAACAWUAAAAAAAMBZQAAAAAAAAFVAAAAAAAAAVkAAAAAAAIBbQAAAAAAAQFdAAAAAAADAU0AAAAAAAEBTQAAAAAAAwFRAAAAAAABAVkAAAAAAAEBSQAAAAAAAAFZAAAAAAACAVUAAAAAAAABWQMTDw8PD41ZAxMPDw8PjVkDEw8PDw+NWQMTDw8PD41ZAxMPDw8PjVkDEw8PDw+NWQMTDw8PD41ZAxMPDw8PjVkDEw8PDw+NWQAAAAAAAgFpAAAAAAABAV0AAAAAAAEBYQAAAAAAAQFtAAAAAAAAAVUAAAAAAAEBVQMTDw8PD41ZAAAAAAACAVkDEw8PDw+NWQMTDw8PD41ZAxMPDw8PjVkAAAAAAAMBVQMTDw8PD41ZAxMPDw8PjVkAAAAAAAEBaQMTDw8PD41ZAxMPDw8PjVkDEw8PDw+NWQMTDw8PD41ZAAAAAAAAAWEDEw8PDw+NWQAAAAAAAQFZA",
          "dtype": "f8"
         },
         "yaxis": "y"
        },
        {
         "hovertemplate": "<b>OLS trendline</b><br>Potash (Pounds/Acre) = 0.0261707 * Year + 39.4661<br>R<sup>2</sup>=0.003444<br><br>State=Georgia<br>Year=%{x}<br>Potash (lbs/acre)=%{y} <b>(trend)</b><extra></extra>",
         "legendgroup": "Georgia",
         "marker": {
          "color": "#FFA15A",
          "symbol": "circle"
         },
         "mode": "lines",
         "name": "Georgia",
         "showlegend": false,
         "type": "scatter",
         "x": {
          "bdata": "rAetB64HrwewB7EHsgezB7QHtQe2B7cHuAe5B7oHuwe8B70Hvge/B8AHwQfCB8MHxAfFB8YHxwfIB8kHygfLB8wHzQfOB88H0AfRB9IH0wfUB9UH1gfXB9gH2QfaB9sH3AfdB94H3wfgB+EH",
          "dtype": "i2"
         },
         "xaxis": "x",
         "y": {
          "bdata": "KhuAE2G3VkCKBFzbDblWQOvtN6O6ulZATNcTa2e8VkCswO8yFL5WQA2qy/rAv1ZAbpOnwm3BVkDOfIOKGsNWQC5mX1LHxFZAkE87GnTGVkDwOBfiIMhWQFAi86nNyVZAsgvPcXrLVkAS9ao5J81WQHLehgHUzlZA1MdiyYDQVkA0sT6RLdJWQJSaGlna01ZA9YP2IIfVVkBWbdLoM9dWQLZWrrDg2FZAF0CKeI3aVkB4KWZAOtxWQNgSQgjn3VZAOfwd0JPfVkCa5fmXQOFWQPrO1V/t4lZAW7ixJ5rkVkC8oY3vRuZWQByLabfz51ZAfXRFf6DpVkDeXSFHTetWQD5H/Q767FZAnzDZ1qbuVkAAGrWeU/BWQGADkWYA8lZAwexsLq3zVkAi1kj2WfVWQIK/JL4G91ZA46gAhrP4VkBEktxNYPpWQKR7uBUN/FZABWWU3bn9VkBmTnClZv9WQMY3TG0TAVdAJiEoNcACV0CICgT9bARXQOjz38QZBldASN27jMYHV0CqxpdUcwlXQAqwcxwgC1dAaplP5MwMV0DLgiuseQ5XQCxsB3QmEFdA",
          "dtype": "f8"
         },
         "yaxis": "y"
        },
        {
         "customdata": [
          [
           "Louisiana",
           69
          ],
          [
           "Louisiana",
           64
          ],
          [
           "Louisiana",
           58
          ],
          [
           "Louisiana",
           62
          ],
          [
           "Louisiana",
           51
          ],
          [
           "Louisiana",
           64
          ],
          [
           "Louisiana",
           56
          ],
          [
           "Louisiana",
           69
          ],
          [
           "Louisiana",
           70
          ],
          [
           "Louisiana",
           60
          ],
          [
           "Louisiana",
           59
          ],
          [
           "Louisiana",
           50
          ],
          [
           "Louisiana",
           63
          ],
          [
           "Louisiana",
           61
          ],
          [
           "Louisiana",
           81
          ],
          [
           "Louisiana",
           65
          ],
          [
           "Louisiana",
           92
          ],
          [
           "Louisiana",
           80
          ],
          [
           "Louisiana",
           72
          ],
          [
           "Louisiana",
           70
          ],
          [
           "Louisiana",
           77
          ],
          [
           "Louisiana",
           76
          ],
          [
           "Louisiana",
           73
          ],
          [
           "Louisiana",
           71
          ],
          [
           "Louisiana",
           65
          ],
          [
           "Louisiana",
           72
          ],
          [
           "Louisiana",
           62
          ],
          [
           "Louisiana",
           43
          ],
          [
           "Louisiana",
           59
          ],
          [
           "Louisiana",
           52
          ],
          [
           "Louisiana",
           40
          ],
          [
           "Louisiana",
           48
          ],
          [
           "Louisiana",
           67
          ],
          [
           "Louisiana",
           76
          ],
          [
           "Louisiana",
           73
          ],
          [
           "Louisiana",
           45
          ],
          [
           "Louisiana",
           66
          ],
          [
           "Louisiana",
           52
          ],
          [
           "Louisiana",
           63.875
          ],
          [
           "Louisiana",
           59
          ],
          [
           "Louisiana",
           63.875
          ],
          [
           "Louisiana",
           63.875
          ],
          [
           "Louisiana",
           63.875
          ],
          [
           "Louisiana",
           63
          ],
          [
           "Louisiana",
           63.875
          ],
          [
           "Louisiana",
           63.875
          ],
          [
           "Louisiana",
           63.875
          ],
          [
           "Louisiana",
           63.875
          ],
          [
           "Louisiana",
           63.875
          ],
          [
           "Louisiana",
           63.875
          ],
          [
           "Louisiana",
           63.875
          ],
          [
           "Louisiana",
           63.875
          ],
          [
           "Louisiana",
           63.875
          ],
          [
           "Louisiana",
           63.875
          ]
         ],
         "hovertemplate": "State=%{customdata[0]}<br>Year=%{x}<br>Potash (lbs/acre)=%{y}<br>Potash (%)=%{customdata[1]}<extra></extra>",
         "legendgroup": "Louisiana",
         "marker": {
          "color": "#19d3f3",
          "symbol": "circle"
         },
         "mode": "markers",
         "name": "Louisiana",
         "orientation": "v",
         "showlegend": true,
         "type": "scatter",
         "x": {
          "bdata": "rAetB64HrwewB7EHsgezB7QHtQe2B7cHuAe5B7oHuwe8B70Hvge/B8AHwQfCB8MHxAfFB8YHxwfIB8kHygfLB8wHzQfOB88H0AfRB9IH0wfUB9UH1gfXB9gH2QfaB9sH3AfdB94H3wfgB+EH",
          "dtype": "i2"
         },
         "xaxis": "x",
         "y": {
          "bdata": "AAAAAACAQUAAAAAAAIBEQAAAAAAAAEhAAAAAAAAASUAAAAAAAABHQAAAAAAAgEdAAAAAAAAASUAAAAAAAIBKQAAAAAAAAExAAAAAAAAATkAAAAAAAIBJQAAAAAAAgEZAAAAAAAAASkAAAAAAAIBIQAAAAAAAgEhAAAAAAACASkAAAAAAAABKQAAAAAAAgElAAAAAAACASkAAAAAAAABNQAAAAAAAgE1AAAAAAAAAUEAAAAAAAABIQAAAAAAAgEtAAAAAAAAATUAAAAAAAIBLQAAAAAAAAE9AAAAAAADAU0AAAAAAAMBSQAAAAAAAgFBAAAAAAACATUAAAAAAAEBSQAAAAAAAwFBAAAAAAACAUUAAAAAAAABTQAAAAAAAAFFAAAAAAACAUUAAAAAAAEBTQJqZmZmZ2UxAAAAAAAAASkCamZmZmdlMQJqZmZmZ2UxAmpmZmZnZTEAAAAAAAABTQJqZmZmZ2UxAmpmZmZnZTECamZmZmdlMQJqZmZmZ2UxAmpmZmZnZTECamZmZmdlMQJqZmZmZ2UxAmpmZmZnZTECamZmZmdlMQJqZmZmZ2UxA",
          "dtype": "f8"
         },
         "yaxis": "y"
        },
        {
         "hovertemplate": "<b>OLS trendline</b><br>Potash (Pounds/Acre) = 0.309472 * Year + -558.304<br>R<sup>2</sup>=0.273323<br><br>State=Louisiana<br>Year=%{x}<br>Potash (lbs/acre)=%{y} <b>(trend)</b><extra></extra>",
         "legendgroup": "Louisiana",
         "marker": {
          "color": "#19d3f3",
          "symbol": "circle"
         },
         "mode": "lines",
         "name": "Louisiana",
         "showlegend": false,
         "type": "scatter",
         "x": {
          "bdata": "rAetB64HrwewB7EHsgezB7QHtQe2B7cHuAe5B7oHuwe8B70Hvge/B8AHwQfCB8MHxAfFB8YHxwfIB8kHygfLB8wHzQfOB88H0AfRB9IH0wfUB9UH1gfXB9gH2QfaB9sH3AfdB94H3wfgB+EH",
          "dtype": "i2"
         },
         "xaxis": "x",
         "y": {
          "bdata": "QJmo5t6/SEBQX56ue+dIQGAllHYYD0lAcOuJPrU2SUCAsX8GUl5JQJB3dc7uhUlAoD1rloutSUCwA2FeKNVJQLDJVibF/ElAwI9M7mEkSkDQVUK2/ktKQOAbOH6bc0pA8OEtRjibSkAAqCMO1cJKQBBuGdZx6kpAIDQPng4SS0Aw+gRmqzlLQEDA+i1IYUtAUIbw9eSIS0BgTOa9gbBLQGAS3IUe2EtAcNjRTbv/S0CAnscVWCdMQJBkvd30TkxAoCqzpZF2TECw8KhtLp5MQMC2njXLxUxA0HyU/WftTEDgQorFBBVNQPAIgI2hPE1AAM91VT5kTUAQlWsd24tNQBBbYeV3s01AICFXrRTbTUAw50x1sQJOQECtQj1OKk5AUHM4BetRTkBgOS7Nh3lOQHD/I5UkoU5AgMUZXcHITkCQiw8lXvBOQKBRBe36F09AsBf7tJc/T0DA3fB8NGdPQMCj5kTRjk9A0GncDG62T0DgL9LUCt5PQPj6Y87TAlBAAN5eMqIWUEAIwVmWcCpQQBCkVPo+PlBAGIdPXg1SUEAgakrC22VQQChNRSaqeVBA",
          "dtype": "f8"
         },
         "yaxis": "y"
        },
        {
         "customdata": [
          [
           "Mississippi",
           59
          ],
          [
           "Mississippi",
           54
          ],
          [
           "Mississippi",
           72
          ],
          [
           "Mississippi",
           58
          ],
          [
           "Mississippi",
           62
          ],
          [
           "Mississippi",
           59
          ],
          [
           "Mississippi",
           42
          ],
          [
           "Mississippi",
           43
          ],
          [
           "Mississippi",
           47
          ],
          [
           "Mississippi",
           50
          ],
          [
           "Mississippi",
           46
          ],
          [
           "Mississippi",
           48
          ],
          [
           "Mississippi",
           40
          ],
          [
           "Mississippi",
           44
          ],
          [
           "Mississippi",
           38
          ],
          [
           "Mississippi",
           33
          ],
          [
           "Mississippi",
           34
          ],
          [
           "Mississippi",
           48
          ],
          [
           "Mississippi",
           41
          ],
          [
           "Mississippi",
           50
          ],
          [
           "Mississippi",
           46
          ],
          [
           "Mississippi",
           44
          ],
          [
           "Mississippi",
           49
          ],
          [
           "Mississippi",
           60
          ],
          [
           "Mississippi",
           56
          ],
          [
           "Mississippi",
           61
          ],
          [
           "Mississippi",
           56
          ],
          [
           "Mississippi",
           68
          ],
          [
           "Mississippi",
           73
          ],
          [
           "Mississippi",
           68
          ],
          [
           "Mississippi",
           66
          ],
          [
           "Mississippi",
           60
          ],
          [
           "Mississippi",
           56
          ],
          [
           "Mississippi",
           77
          ],
          [
           "Mississippi",
           67
          ],
          [
           "Mississippi",
           65
          ],
          [
           "Mississippi",
           68
          ],
          [
           "Mississippi",
           46
          ],
          [
           "Mississippi",
           54.7906976744186
          ],
          [
           "Mississippi",
           70
          ],
          [
           "Mississippi",
           54.7906976744186
          ],
          [
           "Mississippi",
           54.7906976744186
          ],
          [
           "Mississippi",
           54.7906976744186
          ],
          [
           "Mississippi",
           54
          ],
          [
           "Mississippi",
           54.7906976744186
          ],
          [
           "Mississippi",
           54.7906976744186
          ],
          [
           "Mississippi",
           53
          ],
          [
           "Mississippi",
           54.7906976744186
          ],
          [
           "Mississippi",
           54.7906976744186
          ],
          [
           "Mississippi",
           54.7906976744186
          ],
          [
           "Mississippi",
           54.7906976744186
          ],
          [
           "Mississippi",
           65
          ],
          [
           "Mississippi",
           54.7906976744186
          ],
          [
           "Mississippi",
           60
          ]
         ],
         "hovertemplate": "State=%{customdata[0]}<br>Year=%{x}<br>Potash (lbs/acre)=%{y}<br>Potash (%)=%{customdata[1]}<extra></extra>",
         "legendgroup": "Mississippi",
         "marker": {
          "color": "#FF6692",
          "symbol": "circle"
         },
         "mode": "markers",
         "name": "Mississippi",
         "orientation": "v",
         "showlegend": true,
         "type": "scatter",
         "x": {
          "bdata": "rAetB64HrwewB7EHsgezB7QHtQe2B7cHuAe5B7oHuwe8B70Hvge/B8AHwQfCB8MHxAfFB8YHxwfIB8kHygfLB8wHzQfOB88H0AfRB9IH0wfUB9UH1gfXB9gH2QfaB9sH3AfdB94H3wfgB+EH",
          "dtype": "i2"
         },
         "xaxis": "x",
         "y": {
          "bdata": "AAAAAAAASUAAAAAAAIBLQAAAAAAAgEtAAAAAAACATEAAAAAAAIBKQAAAAAAAgExAAAAAAACATkAAAAAAAIBPQAAAAAAAQFBAAAAAAABAUEAAAAAAAABQQAAAAAAAgFBAAAAAAAAAS0AAAAAAAIBMQAAAAAAAgE1AAAAAAACAT0AAAAAAAIBLQAAAAAAAgE1AAAAAAABAUEAAAAAAAIBPQAAAAAAAAFFAAAAAAACATUAAAAAAAIBPQAAAAAAAwFFAAAAAAACATUAAAAAAAEBQQAAAAAAAgFNAAAAAAAAAU0AAAAAAAIBYQAAAAAAAgFdAAAAAAABAWUAAAAAAAIBVQAAAAAAAAFlAAAAAAADAV0AAAAAAAMBYQAAAAAAAQFtAAAAAAABAWEAAAAAAAIBYQGvKmrKmrFJAAAAAAACAWkBrypqypqxSQGvKmrKmrFJAa8qasqasUkAAAAAAAIBaQGvKmrKmrFJAa8qasqasUkAAAAAAAMBWQGvKmrKmrFJAa8qasqasUkBrypqypqxSQGvKmrKmrFJAAAAAAAAAXUBrypqypqxSQAAAAAAAwFZA",
          "dtype": "f8"
         },
         "yaxis": "y"
        },
        {
         "hovertemplate": "<b>OLS trendline</b><br>Potash (Pounds/Acre) = 0.749737 * Year + -1417.65<br>R<sup>2</sup>=0.467765<br><br>State=Mississippi<br>Year=%{x}<br>Potash (lbs/acre)=%{y} <b>(trend)</b><extra></extra>",
         "legendgroup": "Mississippi",
         "marker": {
          "color": "#FF6692",
          "symbol": "circle"
         },
         "mode": "lines",
         "name": "Mississippi",
         "showlegend": false,
         "type": "scatter",
         "x": {
          "bdata": "rAetB64HrwewB7EHsgezB7QHtQe2B7cHuAe5B7oHuwe8B70Hvge/B8AHwQfCB8MHxAfFB8YHxwfIB8kHygfLB8wHzQfOB88H0AfRB9IH0wfUB9UH1gfXB9gH2QfaB9sH3AfdB94H3wfgB+EH",
          "dtype": "i2"
         },
         "xaxis": "x",
         "y": {
          "bdata": "wCYe0TFqS0Agz3oyKcpLQIB315MgKkxAwB809ReKTEAgyJBWD+pMQIBw7bcGSk1A4BhKGf6pTUBAwaZ69QlOQKBpA9zsaU5AABJgPeTJTkBgurye2ylPQMBiGQDTiU9AIAt2YcrpT0DAWWnh4CRQQPCtF5LcVFBAIALGQtiEUEBQVnTz07RQQICqIqTP5FBAsP7QVMsUUUDgUn8Fx0RRQBCnLbbCdFFAQPvbZr6kUUBwT4oXutRRQKCjOMi1BFJA0PfmeLE0UkAATJUprWRSQDCgQ9qolFJAYPTxiqTEUkCQSKA7oPRSQMCcTuybJFNA8PD8nJdUU0AgRatNk4RTQFCZWf6OtFNAgO0Hr4rkU0CwQbZfhhRUQOCVZBCCRFRAAOoSwX10VEAwPsFxeaRUQGCSbyJ11FRAkOYd03AEVUDAOsyDbDRVQPCOejRoZFVAIOMo5WOUVUBQN9eVX8RVQICLhUZb9FVAsN8z91YkVkDgM+KnUlRWQBCIkFhOhFZAQNw+CUq0VkBwMO25ReRWQKCEm2pBFFdA0NhJGz1EV0AALfjLOHRXQDCBpnw0pFdA",
          "dtype": "f8"
         },
         "yaxis": "y"
        },
        {
         "customdata": [
          [
           "Missouri",
           95
          ],
          [
           "Missouri",
           96
          ],
          [
           "Missouri",
           96
          ],
          [
           "Missouri",
           94
          ],
          [
           "Missouri",
           92
          ],
          [
           "Missouri",
           91
          ],
          [
           "Missouri",
           84
          ],
          [
           "Missouri",
           87
          ],
          [
           "Missouri",
           91
          ],
          [
           "Missouri",
           97
          ],
          [
           "Missouri",
           89
          ],
          [
           "Missouri",
           87
          ],
          [
           "Missouri",
           91
          ],
          [
           "Missouri",
           88
          ],
          [
           "Missouri",
           94
          ],
          [
           "Missouri",
           100
          ],
          [
           "Missouri",
           100
          ],
          [
           "Missouri",
           85
          ],
          [
           "Missouri",
           83
          ],
          [
           "Missouri",
           100
          ],
          [
           "Missouri",
           100
          ],
          [
           "Missouri",
           98
          ],
          [
           "Missouri",
           88
          ],
          [
           "Missouri",
           92.43333333333334
          ],
          [
           "Missouri",
           92.43333333333334
          ],
          [
           "Missouri",
           92.43333333333334
          ],
          [
           "Missouri",
           92.43333333333334
          ],
          [
           "Missouri",
           92.43333333333334
          ],
          [
           "Missouri",
           92.43333333333334
          ],
          [
           "Missouri",
           92.43333333333334
          ],
          [
           "Missouri",
           92.43333333333334
          ],
          [
           "Missouri",
           92.43333333333334
          ],
          [
           "Missouri",
           92.43333333333334
          ],
          [
           "Missouri",
           95
          ],
          [
           "Missouri",
           92.43333333333334
          ],
          [
           "Missouri",
           92.43333333333334
          ],
          [
           "Missouri",
           95
          ],
          [
           "Missouri",
           92.43333333333334
          ],
          [
           "Missouri",
           92.43333333333334
          ],
          [
           "Missouri",
           81
          ],
          [
           "Missouri",
           92.43333333333334
          ],
          [
           "Missouri",
           92.43333333333334
          ],
          [
           "Missouri",
           92.43333333333334
          ],
          [
           "Missouri",
           95
          ],
          [
           "Missouri",
           92.43333333333334
          ],
          [
           "Missouri",
           92.43333333333334
          ],
          [
           "Missouri",
           93
          ],
          [
           "Missouri",
           92.43333333333334
          ],
          [
           "Missouri",
           92.43333333333334
          ],
          [
           "Missouri",
           92.43333333333334
          ],
          [
           "Missouri",
           92.43333333333334
          ],
          [
           "Missouri",
           92
          ],
          [
           "Missouri",
           92.43333333333334
          ],
          [
           "Missouri",
           96
          ]
         ],
         "hovertemplate": "State=%{customdata[0]}<br>Year=%{x}<br>Potash (lbs/acre)=%{y}<br>Potash (%)=%{customdata[1]}<extra></extra>",
         "legendgroup": "Missouri",
         "marker": {
          "color": "#B6E880",
          "symbol": "circle"
         },
         "mode": "markers",
         "name": "Missouri",
         "orientation": "v",
         "showlegend": true,
         "type": "scatter",
         "x": {
          "bdata": "rAetB64HrwewB7EHsgezB7QHtQe2B7cHuAe5B7oHuwe8B70Hvge/B8AHwQfCB8MHxAfFB8YHxwfIB8kHygfLB8wHzQfOB88H0AfRB9IH0wfUB9UH1gfXB9gH2QfaB9sH3AfdB94H3wfgB+EH",
          "dtype": "i2"
         },
         "xaxis": "x",
         "y": {
          "bdata": "AAAAAACATUAAAAAAAIBIQAAAAAAAgE5AAAAAAAAATEAAAAAAAABKQAAAAAAAgExAAAAAAAAARkAAAAAAAABJQAAAAAAAAExAAAAAAABAU0AAAAAAAEBSQAAAAAAAAExAAAAAAACATEAAAAAAAABPQAAAAAAAgElAAAAAAAAASkAAAAAAAMBSQAAAAAAAwFBAAAAAAAAAVEAAAAAAAABRQAAAAAAAgFBAAAAAAAAAT0AAAAAAAIBPQM3MzMzMDFBAzczMzMwMUEDNzMzMzAxQQM3MzMzMDFBAzczMzMwMUEDNzMzMzAxQQM3MzMzMDFBAzczMzMwMUEDNzMzMzAxQQM3MzMzMDFBAAAAAAACAU0DNzMzMzAxQQM3MzMzMDFBAAAAAAAAAVkDNzMzMzAxQQM3MzMzMDFBAAAAAAAAAVEDNzMzMzAxQQM3MzMzMDFBAzczMzMwMUEAAAAAAAABRQM3MzMzMDFBAzczMzMwMUEAAAAAAAMBVQM3MzMzMDFBAzczMzMwMUEDNzMzMzAxQQM3MzMzMDFBAAAAAAAAAT0DNzMzMzAxQQAAAAAAAgFFA",
          "dtype": "f8"
         },
         "yaxis": "y"
        },
        {
         "hovertemplate": "<b>OLS trendline</b><br>Potash (Pounds/Acre) = 0.235502 * Year + -404.567<br>R<sup>2</sup>=0.187561<br><br>State=Missouri<br>Year=%{x}<br>Potash (lbs/acre)=%{y} <b>(trend)</b><extra></extra>",
         "legendgroup": "Missouri",
         "marker": {
          "color": "#B6E880",
          "symbol": "circle"
         },
         "mode": "lines",
         "name": "Missouri",
         "showlegend": false,
         "type": "scatter",
         "x": {
          "bdata": "rAetB64HrwewB7EHsgezB7QHtQe2B7cHuAe5B7oHuwe8B70Hvge/B8AHwQfCB8MHxAfFB8YHxwfIB8kHygfLB8wHzQfOB88H0AfRB9IH0wfUB9UH1gfXB9gH2QfaB9sH3AfdB94H3wfgB+EH",
          "dtype": "i2"
         },
         "xaxis": "x",
         "y": {
          "bdata": "EMIBzcb6TEBAkJO86xhNQGheJawQN01AkCy3mzVVTUDA+kiLWnNNQOjI2np/kU1AGJdsaqSvTUBAZf5Zyc1NQGgzkEnu601AmAEiORMKTkDAz7MoOChOQOidRRhdRk5AGGzXB4JkTkBAOmn3poJOQHAI++bLoE5AmNaM1vC+TkDApB7GFd1OQPBysLU6+05AGEFCpV8ZT0BAD9SUhDdPQHDdZYSpVU9AmKv3c85zT0DIeYlj85FPQPBHG1MYsE9AGBatQj3OT0BI5D4yYuxPQDhZ6JBDBVBATECxCFYUUEBkJ3qAaCNQQHgOQ/h6MlBAkPULcI1BUECk3NTnn1BQQLjDnV+yX1BA0Kpm18RuUEDkkS9P131QQPx4+MbpjFBAEGDBPvybUEAkR4q2DqtQQDwuUy4hulBAUBUcpjPJUEBk/OQdRthQQHzjrZVY51BAkMp2DWv2UECosT+FfQVRQLyYCP2PFFFA0H/RdKIjUUDoZprstDJRQPxNY2THQVFAEDUs3NlQUUAoHPVT7F9RQDwDvsv+blFAVOqGQxF+UUBo0U+7I41RQHy4GDM2nFFA",
          "dtype": "f8"
         },
         "yaxis": "y"
        },
        {
         "customdata": [
          [
           "New Mexico",
           8.842105263157896
          ],
          [
           "New Mexico",
           5
          ],
          [
           "New Mexico",
           9
          ],
          [
           "New Mexico",
           9
          ],
          [
           "New Mexico",
           13
          ],
          [
           "New Mexico",
           8.842105263157896
          ],
          [
           "New Mexico",
           6
          ],
          [
           "New Mexico",
           11
          ],
          [
           "New Mexico",
           9
          ],
          [
           "New Mexico",
           5
          ],
          [
           "New Mexico",
           16
          ],
          [
           "New Mexico",
           13
          ],
          [
           "New Mexico",
           8
          ],
          [
           "New Mexico",
           8.842105263157896
          ],
          [
           "New Mexico",
           8.842105263157896
          ],
          [
           "New Mexico",
           14
          ],
          [
           "New Mexico",
           2
          ],
          [
           "New Mexico",
           12
          ],
          [
           "New Mexico",
           8
          ],
          [
           "New Mexico",
           9
          ],
          [
           "New Mexico",
           14
          ],
          [
           "New Mexico",
           2
          ],
          [
           "New Mexico",
           3
          ],
          [
           "New Mexico",
           8.842105263157896
          ],
          [
           "New Mexico",
           8.842105263157896
          ],
          [
           "New Mexico",
           8.842105263157896
          ],
          [
           "New Mexico",
           8.842105263157896
          ],
          [
           "New Mexico",
           8.842105263157896
          ],
          [
           "New Mexico",
           8.842105263157896
          ],
          [
           "New Mexico",
           8.842105263157896
          ],
          [
           "New Mexico",
           8.842105263157896
          ],
          [
           "New Mexico",
           8.842105263157896
          ],
          [
           "New Mexico",
           8.842105263157896
          ],
          [
           "New Mexico",
           8.842105263157896
          ],
          [
           "New Mexico",
           8.842105263157896
          ],
          [
           "New Mexico",
           8.842105263157896
          ],
          [
           "New Mexico",
           8.842105263157896
          ],
          [
           "New Mexico",
           8.842105263157896
          ],
          [
           "New Mexico",
           8.842105263157896
          ],
          [
           "New Mexico",
           8.842105263157896
          ],
          [
           "New Mexico",
           8.842105263157896
          ],
          [
           "New Mexico",
           8.842105263157896
          ],
          [
           "New Mexico",
           8.842105263157896
          ],
          [
           "New Mexico",
           8.842105263157896
          ],
          [
           "New Mexico",
           8.842105263157896
          ],
          [
           "New Mexico",
           8.842105263157896
          ],
          [
           "New Mexico",
           8.842105263157896
          ],
          [
           "New Mexico",
           8.842105263157896
          ],
          [
           "New Mexico",
           8.842105263157896
          ],
          [
           "New Mexico",
           8.842105263157896
          ],
          [
           "New Mexico",
           8.842105263157896
          ],
          [
           "New Mexico",
           8.842105263157896
          ],
          [
           "New Mexico",
           8.842105263157896
          ],
          [
           "New Mexico",
           8.842105263157896
          ]
         ],
         "hovertemplate": "State=%{customdata[0]}<br>Year=%{x}<br>Potash (lbs/acre)=%{y}<br>Potash (%)=%{customdata[1]}<extra></extra>",
         "legendgroup": "New Mexico",
         "marker": {
          "color": "#FF97FF",
          "symbol": "circle"
         },
         "mode": "markers",
         "name": "New Mexico",
         "orientation": "v",
         "showlegend": true,
         "type": "scatter",
         "x": {
          "bdata": "rAetB64HrwewB7EHsgezB7QHtQe2B7cHuAe5B7oHuwe8B70Hvge/B8AHwQfCB8MHxAfFB8YHxwfIB8kHygfLB8wHzQfOB88H0AfRB9IH0wfUB9UH1gfXB9gH2QfaB9sH3AfdB94H3wfgB+EH",
          "dtype": "i2"
         },
         "xaxis": "x",
         "y": {
          "bdata": "XkN5DeU1NEAAAAAAAAA8QAAAAAAAADdAAAAAAAAAREAAAAAAAIBEQF5DeQ3lNTRAAAAAAAAAMUAAAAAAAAAoQAAAAAAAAD9AAAAAAAAAMkAAAAAAAAA6QAAAAAAAADJAAAAAAAAANkBeQ3kN5TU0QF5DeQ3lNTRAAAAAAAAALkAAAAAAAAAkQAAAAAAAADNAAAAAAACAQkAAAAAAAADwPwAAAAAAABhAAAAAAAAALEAAAAAAAAAYQF5DeQ3lNTRAXkN5DeU1NEBeQ3kN5TU0QF5DeQ3lNTRAXkN5DeU1NEBeQ3kN5TU0QF5DeQ3lNTRAXkN5DeU1NEBeQ3kN5TU0QF5DeQ3lNTRAXkN5DeU1NEBeQ3kN5TU0QF5DeQ3lNTRAXkN5DeU1NEBeQ3kN5TU0QF5DeQ3lNTRAXkN5DeU1NEBeQ3kN5TU0QF5DeQ3lNTRAXkN5DeU1NEBeQ3kN5TU0QF5DeQ3lNTRAXkN5DeU1NEBeQ3kN5TU0QF5DeQ3lNTRAXkN5DeU1NEBeQ3kN5TU0QF5DeQ3lNTRAXkN5DeU1NEBeQ3kN5TU0QF5DeQ3lNTRA",
          "dtype": "f8"
         },
         "yaxis": "y"
        },
        {
         "hovertemplate": "<b>OLS trendline</b><br>Potash (Pounds/Acre) = -0.0649153 * Year + 149.424<br>R<sup>2</sup>=0.023431<br><br>State=New Mexico<br>Year=%{x}<br>Potash (lbs/acre)=%{y} <b>(trend)</b><extra></extra>",
         "legendgroup": "New Mexico",
         "marker": {
          "color": "#FF97FF",
          "symbol": "circle"
         },
         "mode": "lines",
         "name": "New Mexico",
         "showlegend": false,
         "type": "scatter",
         "x": {
          "bdata": "rAetB64HrwewB7EHsgezB7QHtQe2B7cHuAe5B7oHuwe8B70Hvge/B8AHwQfCB8MHxAfFB8YHxwfIB8kHygfLB8wHzQfOB88H0AfRB9IH0wfUB9UH1gfXB9gH2QfaB9sH3AfdB94H3wfgB+EH",
          "dtype": "i2"
         },
         "xaxis": "x",
         "y": {
          "bdata": "XMxCskfuNUDAfmtoqd01QCQxlB4LzTVAiOO81Gy8NUDsleWKzqs1QFBIDkEwmzVAtPo295GKNUAYrV+t83k1QIBfiGNVaTVA4BGxGbdYNUBIxNnPGEg1QKh2AoZ6NzVAECkrPNwmNUBw21PyPRY1QNiNfKifBTVAOEClXgH1NECg8s0UY+Q0QAil9srE0zRAaFcfgSbDNEDQCUg3iLI0QDC8cO3poTRAmG6Zo0uRNED4IMJZrYA0QGDT6g8PcDRAwIUTxnBfNEAoODx80k40QIjqZDI0PjRA8JyN6JUtNEBYT7ae9xw0QLgB31RZDDRAILQHC7v7M0CAZjDBHOszQOgYWXd+2jNASMuBLeDJM0CwfarjQbkzQBAw05mjqDNAeOL7TwWYM0DYlCQGZ4czQEBHTbzIdjNAqPl1cipmM0AIrJ4ojFUzQHBex97tRDNA0BDwlE80M0A4wxhLsSMzQJh1QQETEzNAAChqt3QCM0Bg2pJt1vEyQMiMuyM44TJAKD/k2ZnQMkCQ8QyQ+78yQPCjNUZdrzJAWFZe/L6eMkDACIeyII4yQCC7r2iCfTJA",
          "dtype": "f8"
         },
         "yaxis": "y"
        },
        {
         "customdata": [
          [
           "North Carolina",
           100
          ],
          [
           "North Carolina",
           100
          ],
          [
           "North Carolina",
           98
          ],
          [
           "North Carolina",
           100
          ],
          [
           "North Carolina",
           100
          ],
          [
           "North Carolina",
           90
          ],
          [
           "North Carolina",
           100
          ],
          [
           "North Carolina",
           100
          ],
          [
           "North Carolina",
           100
          ],
          [
           "North Carolina",
           98
          ],
          [
           "North Carolina",
           100
          ],
          [
           "North Carolina",
           98
          ],
          [
           "North Carolina",
           100
          ],
          [
           "North Carolina",
           95.18181818181819
          ],
          [
           "North Carolina",
           95.18181818181819
          ],
          [
           "North Carolina",
           95.18181818181819
          ],
          [
           "North Carolina",
           95.18181818181819
          ],
          [
           "North Carolina",
           95.18181818181819
          ],
          [
           "North Carolina",
           95.18181818181819
          ],
          [
           "North Carolina",
           95.18181818181819
          ],
          [
           "North Carolina",
           95.18181818181819
          ],
          [
           "North Carolina",
           95.18181818181819
          ],
          [
           "North Carolina",
           95.18181818181819
          ],
          [
           "North Carolina",
           95.18181818181819
          ],
          [
           "North Carolina",
           95.18181818181819
          ],
          [
           "North Carolina",
           95.18181818181819
          ],
          [
           "North Carolina",
           95.18181818181819
          ],
          [
           "North Carolina",
           95.18181818181819
          ],
          [
           "North Carolina",
           95.18181818181819
          ],
          [
           "North Carolina",
           95.18181818181819
          ],
          [
           "North Carolina",
           95.18181818181819
          ],
          [
           "North Carolina",
           95.18181818181819
          ],
          [
           "North Carolina",
           95.18181818181819
          ],
          [
           "North Carolina",
           85
          ],
          [
           "North Carolina",
           93
          ],
          [
           "North Carolina",
           96
          ],
          [
           "North Carolina",
           91
          ],
          [
           "North Carolina",
           95.18181818181819
          ],
          [
           "North Carolina",
           95.18181818181819
          ],
          [
           "North Carolina",
           93
          ],
          [
           "North Carolina",
           95.18181818181819
          ],
          [
           "North Carolina",
           95.18181818181819
          ],
          [
           "North Carolina",
           95.18181818181819
          ],
          [
           "North Carolina",
           89
          ],
          [
           "North Carolina",
           95.18181818181819
          ],
          [
           "North Carolina",
           95.18181818181819
          ],
          [
           "North Carolina",
           87
          ],
          [
           "North Carolina",
           95.18181818181819
          ],
          [
           "North Carolina",
           95.18181818181819
          ],
          [
           "North Carolina",
           95.18181818181819
          ],
          [
           "North Carolina",
           95.18181818181819
          ],
          [
           "North Carolina",
           89
          ],
          [
           "North Carolina",
           95.18181818181819
          ],
          [
           "North Carolina",
           87
          ]
         ],
         "hovertemplate": "State=%{customdata[0]}<br>Year=%{x}<br>Potash (lbs/acre)=%{y}<br>Potash (%)=%{customdata[1]}<extra></extra>",
         "legendgroup": "North Carolina",
         "marker": {
          "color": "#FECB52",
          "symbol": "circle"
         },
         "mode": "markers",
         "name": "North Carolina",
         "orientation": "v",
         "showlegend": true,
         "type": "scatter",
         "x": {
          "bdata": "rAetB64HrwewB7EHsgezB7QHtQe2B7cHuAe5B7oHuwe8B70Hvge/B8AHwQfCB8MHxAfFB8YHxwfIB8kHygfLB8wHzQfOB88H0AfRB9IH0wfUB9UH1gfXB9gH2QfaB9sH3AfdB94H3wfgB+EH",
          "dtype": "i2"
         },
         "xaxis": "x",
         "y": {
          "bdata": "AAAAAABAUUAAAAAAAEBRQAAAAAAAAFFAAAAAAAAAVEAAAAAAAMBSQAAAAAAAgFFAAAAAAADAUkAAAAAAAIBRQAAAAAAAAFVAAAAAAAAAV0AAAAAAAIBWQAAAAAAAgFRAAAAAAABAVEAAAAAAAMBVQAAAAAAAwFVAAAAAAADAVUAAAAAAAMBVQAAAAAAAwFVAAAAAAADAVUAAAAAAAMBVQAAAAAAAwFVAAAAAAADAVUAAAAAAAMBVQAAAAAAAwFVAAAAAAADAVUAAAAAAAMBVQAAAAAAAwFVAAAAAAADAVUAAAAAAAMBVQAAAAAAAwFVAAAAAAADAVUAAAAAAAMBVQAAAAAAAwFVAAAAAAADAWEAAAAAAAABbQAAAAAAAwFpAAAAAAAAAXUAAAAAAAMBVQAAAAAAAwFVAAAAAAACAWkAAAAAAAMBVQAAAAAAAwFVAAAAAAADAVUAAAAAAAMBYQAAAAAAAwFVAAAAAAADAVUAAAAAAAABYQAAAAAAAwFVAAAAAAADAVUAAAAAAAMBVQAAAAAAAwFVAAAAAAAAAVEAAAAAAAMBVQAAAAAAAgFhA",
          "dtype": "f8"
         },
         "yaxis": "y"
        },
        {
         "hovertemplate": "<b>OLS trendline</b><br>Potash (Pounds/Acre) = 0.325824 * Year + -561.553<br>R<sup>2</sup>=0.302077<br><br>State=North Carolina<br>Year=%{x}<br>Potash (lbs/acre)=%{y} <b>(trend)</b><extra></extra>",
         "legendgroup": "North Carolina",
         "marker": {
          "color": "#FECB52",
          "symbol": "circle"
         },
         "mode": "lines",
         "name": "North Carolina",
         "showlegend": false,
         "type": "scatter",
         "x": {
          "bdata": "rAetB64HrwewB7EHsgezB7QHtQe2B7cHuAe5B7oHuwe8B70Hvge/B8AHwQfCB8MHxAfFB8YHxwfIB8kHygfLB8wHzQfOB88H0AfRB9IH0wfUB9UH1gfXB9gH2QfaB9sH3AfdB94H3wfgB+EH",
          "dtype": "i2"
         },
         "xaxis": "x",
         "y": {
          "bdata": "IMTL6maXU0DYDuE4QaxTQJBZ9oYbwVNASKQL1fXVU0D47iAj0OpTQLA5NnGq/1NAaIRLv4QUVEAgz2ANXylUQNgZdls5PlRAkGSLqRNTVEBIr6D37WdUQAD6tUXIfFRAuETLk6KRVEBwj+DhfKZUQCja9S9Xu1RA4CQLfjHQVECYbyDMC+VUQFC6NRrm+VRACAVLaMAOVUC4T2C2miNVQHCadQR1OFVAKOWKUk9NVUDgL6CgKWJVQJh6te4Dd1VAUMXKPN6LVUAIEOCKuKBVQMBa9diStVVAeKUKJ23KVUAw8B91R99VQOg6NcMh9FVAoIVKEfwIVkBY0F9f1h1WQBAbda2wMlZAwGWK+4pHVkB4sJ9JZVxWQDD7tJc/cVZA6EXK5RmGVkCgkN8z9JpWQFjb9IHOr1ZAECYK0KjEVkDIcB8eg9lWQIC7NGxd7lZAOAZKujcDV0DwUF8IEhhXQKibdFbsLFdAYOaJpMZBV0AYMZ/yoFZXQNB7tEB7a1dAgMbJjlWAV0A4Ed/cL5VXQPBb9CoKqldAqKYJeeS+V0Bg8R7HvtNXQBg8NBWZ6FdA",
          "dtype": "f8"
         },
         "yaxis": "y"
        },
        {
         "customdata": [
          [
           "Oklahoma",
           33
          ],
          [
           "Oklahoma",
           40
          ],
          [
           "Oklahoma",
           40
          ],
          [
           "Oklahoma",
           41
          ],
          [
           "Oklahoma",
           35
          ],
          [
           "Oklahoma",
           42
          ],
          [
           "Oklahoma",
           33
          ],
          [
           "Oklahoma",
           37
          ],
          [
           "Oklahoma",
           35
          ],
          [
           "Oklahoma",
           35
          ],
          [
           "Oklahoma",
           41
          ],
          [
           "Oklahoma",
           16
          ],
          [
           "Oklahoma",
           40
          ],
          [
           "Oklahoma",
           26
          ],
          [
           "Oklahoma",
           35
          ],
          [
           "Oklahoma",
           34
          ],
          [
           "Oklahoma",
           28
          ],
          [
           "Oklahoma",
           15
          ],
          [
           "Oklahoma",
           15
          ],
          [
           "Oklahoma",
           26
          ],
          [
           "Oklahoma",
           4
          ],
          [
           "Oklahoma",
           3
          ],
          [
           "Oklahoma",
           25
          ],
          [
           "Oklahoma",
           29.083333333333332
          ],
          [
           "Oklahoma",
           29.083333333333332
          ],
          [
           "Oklahoma",
           29.083333333333332
          ],
          [
           "Oklahoma",
           29.083333333333332
          ],
          [
           "Oklahoma",
           29.083333333333332
          ],
          [
           "Oklahoma",
           29.083333333333332
          ],
          [
           "Oklahoma",
           29.083333333333332
          ],
          [
           "Oklahoma",
           29.083333333333332
          ],
          [
           "Oklahoma",
           29.083333333333332
          ],
          [
           "Oklahoma",
           29.083333333333332
          ],
          [
           "Oklahoma",
           29.083333333333332
          ],
          [
           "Oklahoma",
           29.083333333333332
          ],
          [
           "Oklahoma",
           29.083333333333332
          ],
          [
           "Oklahoma",
           29.083333333333332
          ],
          [
           "Oklahoma",
           29.083333333333332
          ],
          [
           "Oklahoma",
           29.083333333333332
          ],
          [
           "Oklahoma",
           29.083333333333332
          ],
          [
           "Oklahoma",
           29.083333333333332
          ],
          [
           "Oklahoma",
           29.083333333333332
          ],
          [
           "Oklahoma",
           29.083333333333332
          ],
          [
           "Oklahoma",
           29.083333333333332
          ],
          [
           "Oklahoma",
           29.083333333333332
          ],
          [
           "Oklahoma",
           29.083333333333332
          ],
          [
           "Oklahoma",
           29.083333333333332
          ],
          [
           "Oklahoma",
           29.083333333333332
          ],
          [
           "Oklahoma",
           29.083333333333332
          ],
          [
           "Oklahoma",
           29.083333333333332
          ],
          [
           "Oklahoma",
           29.083333333333332
          ],
          [
           "Oklahoma",
           29.083333333333332
          ],
          [
           "Oklahoma",
           29.083333333333332
          ],
          [
           "Oklahoma",
           19
          ]
         ],
         "hovertemplate": "State=%{customdata[0]}<br>Year=%{x}<br>Potash (lbs/acre)=%{y}<br>Potash (%)=%{customdata[1]}<extra></extra>",
         "legendgroup": "Oklahoma",
         "marker": {
          "color": "#636efa",
          "symbol": "circle"
         },
         "mode": "markers",
         "name": "Oklahoma",
         "orientation": "v",
         "showlegend": true,
         "type": "scatter",
         "x": {
          "bdata": "rAetB64HrwewB7EHsgezB7QHtQe2B7cHuAe5B7oHuwe8B70Hvge/B8AHwQfCB8MHxAfFB8YHxwfIB8kHygfLB8wHzQfOB88H0AfRB9IH0wfUB9UH1gfXB9gH2QfaB9sH3AfdB94H3wfgB+EH",
          "dtype": "i2"
         },
         "xaxis": "x",
         "y": {
          "bdata": "AAAAAAAALEAAAAAAAAAsQAAAAAAAADNAAAAAAAAAKkAAAAAAAAAsQAAAAAAAADFAAAAAAAAAKkAAAAAAAAAuQAAAAAAAADpAAAAAAAAAMUAAAAAAAAAuQAAAAAAAADBAAAAAAAAALEAAAAAAAAAuQAAAAAAAAC5AAAAAAAAAN0AAAAAAAAAuQAAAAAAAADhAAAAAAAAAN0AAAAAAAAAyQAAAAAAAAChAAAAAAAAAJEAAAAAAAAAuQKuqqqqqijFAq6qqqqqKMUCrqqqqqooxQKuqqqqqijFAq6qqqqqKMUCrqqqqqooxQKuqqqqqijFAq6qqqqqKMUCrqqqqqooxQKuqqqqqijFAq6qqqqqKMUCrqqqqqooxQKuqqqqqijFAq6qqqqqKMUCrqqqqqooxQKuqqqqqijFAq6qqqqqKMUCrqqqqqooxQKuqqqqqijFAq6qqqqqKMUCrqqqqqooxQKuqqqqqijFAq6qqqqqKMUCrqqqqqooxQKuqqqqqijFAq6qqqqqKMUCrqqqqqooxQKuqqqqqijFAq6qqqqqKMUCrqqqqqooxQAAAAAAAAEZA",
          "dtype": "f8"
         },
         "yaxis": "y"
        },
        {
         "hovertemplate": "<b>OLS trendline</b><br>Potash (Pounds/Acre) = 0.0890604 * Year + -159.733<br>R<sup>2</sup>=0.094935<br><br>State=Oklahoma<br>Year=%{x}<br>Potash (lbs/acre)=%{y} <b>(trend)</b><extra></extra>",
         "legendgroup": "Oklahoma",
         "marker": {
          "color": "#636efa",
          "symbol": "circle"
         },
         "mode": "lines",
         "name": "Oklahoma",
         "showlegend": false,
         "type": "scatter",
         "x": {
          "bdata": "rAetB64HrwewB7EHsgezB7QHtQe2B7cHuAe5B7oHuwe8B70Hvge/B8AHwQfCB8MHxAfFB8YHxwfIB8kHygfLB8wHzQfOB88H0AfRB9IH0wfUB9UH1gfXB9gH2QfaB9sH3AfdB94H3wfgB+EH",
          "dtype": "i2"
         },
         "xaxis": "x",
         "y": {
          "bdata": "sA16LPZcLkBwuSGAj4ouQEBlydMouC5AABFxJ8LlLkDAvBh7WxMvQJBowM70QC9AUBRoIo5uL0AQwA92J5wvQNBrt8nAyS9AoBdfHVr3L0CwYYO4eRIwQJA3V2JGKTBAeA0rDBNAMEBY4/6131YwQDi50l+sbTBAII+mCXmEMEAAZXqzRZswQOA6Tl0SsjBAyBAiB9/IMECo5vWwq98wQIi8yVp49jBAaJKdBEUNMUBQaHGuESQxQDA+RVjeOjFAEBQZAqtRMUD46eyrd2gxQNi/wFVEfzFAuJWU/xCWMUCga2ip3awxQIBBPFOqwzFAYBcQ/XbaMUBI7eOmQ/ExQCjDt1AQCDJACJmL+tweMkDwbl+kqTUyQNBEM052TDJAsBoH+EJjMkCQ8NqhD3oyQHjGrkvckDJAWJyC9ainMkA4clafdb4yQCBIKklC1TJAAB7+8g7sMkDg89Gc2wIzQMjJpUaoGTNAqJ958HQwM0CIdU2aQUczQHBLIUQOXjNAUCH17dp0M0Aw98iXp4szQBDNnEF0ojNA+KJw60C5M0DYeESVDdAzQLhOGD/a5jNA",
          "dtype": "f8"
         },
         "yaxis": "y"
        },
        {
         "customdata": [
          [
           "South Carolina",
           100
          ],
          [
           "South Carolina",
           100
          ],
          [
           "South Carolina",
           100
          ],
          [
           "South Carolina",
           100
          ],
          [
           "South Carolina",
           100
          ],
          [
           "South Carolina",
           97
          ],
          [
           "South Carolina",
           100
          ],
          [
           "South Carolina",
           99
          ],
          [
           "South Carolina",
           99
          ],
          [
           "South Carolina",
           99
          ],
          [
           "South Carolina",
           99
          ],
          [
           "South Carolina",
           100
          ],
          [
           "South Carolina",
           100
          ],
          [
           "South Carolina",
           99
          ],
          [
           "South Carolina",
           97.23076923076923
          ],
          [
           "South Carolina",
           100
          ],
          [
           "South Carolina",
           92
          ],
          [
           "South Carolina",
           97
          ],
          [
           "South Carolina",
           86
          ],
          [
           "South Carolina",
           100
          ],
          [
           "South Carolina",
           98
          ],
          [
           "South Carolina",
           98
          ],
          [
           "South Carolina",
           85
          ],
          [
           "South Carolina",
           97.23076923076923
          ],
          [
           "South Carolina",
           97.23076923076923
          ],
          [
           "South Carolina",
           97.23076923076923
          ],
          [
           "South Carolina",
           97.23076923076923
          ],
          [
           "South Carolina",
           97.23076923076923
          ],
          [
           "South Carolina",
           97.23076923076923
          ],
          [
           "South Carolina",
           97.23076923076923
          ],
          [
           "South Carolina",
           97.23076923076923
          ],
          [
           "South Carolina",
           97.23076923076923
          ],
          [
           "South Carolina",
           97.23076923076923
          ],
          [
           "South Carolina",
           100
          ],
          [
           "South Carolina",
           97.23076923076923
          ],
          [
           "South Carolina",
           97.23076923076923
          ],
          [
           "South Carolina",
           97.23076923076923
          ],
          [
           "South Carolina",
           97.23076923076923
          ],
          [
           "South Carolina",
           97.23076923076923
          ],
          [
           "South Carolina",
           90
          ],
          [
           "South Carolina",
           97.23076923076923
          ],
          [
           "South Carolina",
           97.23076923076923
          ],
          [
           "South Carolina",
           97.23076923076923
          ],
          [
           "South Carolina",
           94
          ],
          [
           "South Carolina",
           97.23076923076923
          ],
          [
           "South Carolina",
           97.23076923076923
          ],
          [
           "South Carolina",
           97.23076923076923
          ],
          [
           "South Carolina",
           97.23076923076923
          ],
          [
           "South Carolina",
           97.23076923076923
          ],
          [
           "South Carolina",
           97.23076923076923
          ],
          [
           "South Carolina",
           97.23076923076923
          ],
          [
           "South Carolina",
           96
          ],
          [
           "South Carolina",
           97.23076923076923
          ],
          [
           "South Carolina",
           97.23076923076923
          ]
         ],
         "hovertemplate": "State=%{customdata[0]}<br>Year=%{x}<br>Potash (lbs/acre)=%{y}<br>Potash (%)=%{customdata[1]}<extra></extra>",
         "legendgroup": "South Carolina",
         "marker": {
          "color": "#EF553B",
          "symbol": "circle"
         },
         "mode": "markers",
         "name": "South Carolina",
         "orientation": "v",
         "showlegend": true,
         "type": "scatter",
         "x": {
          "bdata": "rAetB64HrwewB7EHsgezB7QHtQe2B7cHuAe5B7oHuwe8B70Hvge/B8AHwQfCB8MHxAfFB8YHxwfIB8kHygfLB8wHzQfOB88H0AfRB9IH0wfUB9UH1gfXB9gH2QfaB9sH3AfdB94H3wfgB+EH",
          "dtype": "i2"
         },
         "xaxis": "x",
         "y": {
          "bdata": "AAAAAAAAVkAAAAAAAEBWQAAAAAAAgFZAAAAAAABAVkAAAAAAAEBZQAAAAAAAgFhAAAAAAACAVkAAAAAAAABYQAAAAAAAgFlAAAAAAACAWUAAAAAAAABbQAAAAAAAwFhAAAAAAABAXEAAAAAAAIBbQLETO7ETu1hAAAAAAACAWUAAAAAAAEBYQAAAAAAAQFhAAAAAAAAAVUAAAAAAAIBZQAAAAAAAwFlAAAAAAACAVkAAAAAAAABYQLETO7ETu1hAsRM7sRO7WECxEzuxE7tYQLETO7ETu1hAsRM7sRO7WECxEzuxE7tYQLETO7ETu1hAsRM7sRO7WECxEzuxE7tYQLETO7ETu1hAAAAAAACAXUCxEzuxE7tYQLETO7ETu1hAsRM7sRO7WECxEzuxE7tYQLETO7ETu1hAAAAAAABAW0CxEzuxE7tYQLETO7ETu1hAsRM7sRO7WEAAAAAAAIBXQLETO7ETu1hAsRM7sRO7WECxEzuxE7tYQLETO7ETu1hAsRM7sRO7WECxEzuxE7tYQLETO7ETu1hAAAAAAABAWkCxEzuxE7tYQLETO7ETu1hA",
          "dtype": "f8"
         },
         "yaxis": "y"
        },
        {
         "hovertemplate": "<b>OLS trendline</b><br>Potash (Pounds/Acre) = 0.0802099 * Year + -60.7348<br>R<sup>2</sup>=0.047098<br><br>State=South Carolina<br>Year=%{x}<br>Potash (lbs/acre)=%{y} <b>(trend)</b><extra></extra>",
         "legendgroup": "South Carolina",
         "marker": {
          "color": "#EF553B",
          "symbol": "circle"
         },
         "mode": "lines",
         "name": "South Carolina",
         "showlegend": false,
         "type": "scatter",
         "x": {
          "bdata": "rAetB64HrwewB7EHsgezB7QHtQe2B7cHuAe5B7oHuwe8B70Hvge/B8AHwQfCB8MHxAfFB8YHxwfIB8kHygfLB8wHzQfOB88H0AfRB9IH0wfUB9UH1gfXB9gH2QfaB9sH3AfdB94H3wfgB+EH",
          "dtype": "i2"
         },
         "xaxis": "x",
         "y": {
          "bdata": "INx4dgozWECWt1SfLDhYQAyTMMhOPVhAhG4M8XBCWED6SegZk0dYQHAlxEK1TFhA6ACga9dRWEBe3HuU+VZYQNS3V70bXFhASpMz5j1hWEDCbg8PYGZYQDhK6zeCa1hAriXHYKRwWEAmAaOJxnVYQJzcfrLoelhAErha2wqAWECIkzYELYVYQABvEi1PilhAdkruVXGPWEDsJcp+k5RYQGQBpqe1mVhA2tyB0NeeWEBQuF35+aNYQMaTOSIcqVhAPm8VSz6uWEC0SvFzYLNYQComzZyCuFhAogGpxaS9WEAY3YTuxsJYQI64YBfpx1hABJQ8QAvNWEB8bxhpLdJYQPJK9JFP11hAaCbQunHcWEDgAazjk+FYQFbdhwy25lhAzLhjNdjrWEBElD9e+vBYQLpvG4cc9lhAMEv3rz77WECmJtPYYABZQB4CrwGDBVlAlN2KKqUKWUAKuWZTxw9ZQIKUQnzpFFlA+G8epQsaWUBuS/rNLR9ZQOQm1vZPJFlAXAKyH3IpWUDS3Y1IlC5ZQEi5aXG2M1lAwJRFmtg4WUA2cCHD+j1ZQKxL/escQ1lA",
          "dtype": "f8"
         },
         "yaxis": "y"
        },
        {
         "customdata": [
          [
           "Tennessee",
           98
          ],
          [
           "Tennessee",
           93
          ],
          [
           "Tennessee",
           90
          ],
          [
           "Tennessee",
           92
          ],
          [
           "Tennessee",
           90
          ],
          [
           "Tennessee",
           97
          ],
          [
           "Tennessee",
           96
          ],
          [
           "Tennessee",
           93
          ],
          [
           "Tennessee",
           95
          ],
          [
           "Tennessee",
           100
          ],
          [
           "Tennessee",
           98
          ],
          [
           "Tennessee",
           99
          ],
          [
           "Tennessee",
           91
          ],
          [
           "Tennessee",
           92
          ],
          [
           "Tennessee",
           95
          ],
          [
           "Tennessee",
           99
          ],
          [
           "Tennessee",
           94
          ],
          [
           "Tennessee",
           94.9375
          ],
          [
           "Tennessee",
           97
          ],
          [
           "Tennessee",
           100
          ],
          [
           "Tennessee",
           100
          ],
          [
           "Tennessee",
           94
          ],
          [
           "Tennessee",
           100
          ],
          [
           "Tennessee",
           94.9375
          ],
          [
           "Tennessee",
           94.9375
          ],
          [
           "Tennessee",
           94.9375
          ],
          [
           "Tennessee",
           94.9375
          ],
          [
           "Tennessee",
           94.9375
          ],
          [
           "Tennessee",
           94.9375
          ],
          [
           "Tennessee",
           94.9375
          ],
          [
           "Tennessee",
           94.9375
          ],
          [
           "Tennessee",
           94.9375
          ],
          [
           "Tennessee",
           99
          ],
          [
           "Tennessee",
           99
          ],
          [
           "Tennessee",
           100
          ],
          [
           "Tennessee",
           100
          ],
          [
           "Tennessee",
           98
          ],
          [
           "Tennessee",
           94.9375
          ],
          [
           "Tennessee",
           94.9375
          ],
          [
           "Tennessee",
           96
          ],
          [
           "Tennessee",
           94.9375
          ],
          [
           "Tennessee",
           94.9375
          ],
          [
           "Tennessee",
           94.9375
          ],
          [
           "Tennessee",
           100
          ],
          [
           "Tennessee",
           94.9375
          ],
          [
           "Tennessee",
           94.9375
          ],
          [
           "Tennessee",
           99
          ],
          [
           "Tennessee",
           94.9375
          ],
          [
           "Tennessee",
           94.9375
          ],
          [
           "Tennessee",
           94.9375
          ],
          [
           "Tennessee",
           94.9375
          ],
          [
           "Tennessee",
           49
          ],
          [
           "Tennessee",
           94.9375
          ],
          [
           "Tennessee",
           95
          ]
         ],
         "hovertemplate": "State=%{customdata[0]}<br>Year=%{x}<br>Potash (lbs/acre)=%{y}<br>Potash (%)=%{customdata[1]}<extra></extra>",
         "legendgroup": "Tennessee",
         "marker": {
          "color": "#00cc96",
          "symbol": "circle"
         },
         "mode": "markers",
         "name": "Tennessee",
         "orientation": "v",
         "showlegend": true,
         "type": "scatter",
         "x": {
          "bdata": "rAetB64HrwewB7EHsgezB7QHtQe2B7cHuAe5B7oHuwe8B70Hvge/B8AHwQfCB8MHxAfFB8YHxwfIB8kHygfLB8wHzQfOB88H0AfRB9IH0wfUB9UH1gfXB9gH2QfaB9sH3AfdB94H3wfgB+EH",
          "dtype": "i2"
         },
         "xaxis": "x",
         "y": {
          "bdata": "AAAAAAAATEAAAAAAAABPQAAAAAAAgFBAAAAAAACAT0AAAAAAAIBNQAAAAAAAAE5AAAAAAAAAUEAAAAAAAIBPQAAAAAAAAFBAAAAAAABAUUAAAAAAAIBOQAAAAAAAAE1AAAAAAAAAUEAAAAAAAEBRQAAAAAAAgFJAAAAAAADAU0AAAAAAAIBSQAAAAAAARlJAAAAAAAAAUUAAAAAAAMBRQAAAAAAAAFFAAAAAAADAUEAAAAAAAMBRQAAAAAAARlJAAAAAAABGUkAAAAAAAEZSQAAAAAAARlJAAAAAAABGUkAAAAAAAEZSQAAAAAAARlJAAAAAAABGUkAAAAAAAEZSQAAAAAAAAFZAAAAAAAAAVkAAAAAAAMBWQAAAAAAAQFZAAAAAAACAVkAAAAAAAEZSQAAAAAAARlJAAAAAAACAVUAAAAAAAEZSQAAAAAAARlJAAAAAAABGUkAAAAAAAABWQAAAAAAARlJAAAAAAABGUkAAAAAAAMBVQAAAAAAARlJAAAAAAABGUkAAAAAAAEZSQAAAAAAARlJAAAAAAADAVkAAAAAAAEZSQAAAAAAAwFZA",
          "dtype": "f8"
         },
         "yaxis": "y"
        },
        {
         "hovertemplate": "<b>OLS trendline</b><br>Potash (Pounds/Acre) = 0.399176 * Year + -721.466<br>R<sup>2</sup>=0.479755<br><br>State=Tennessee<br>Year=%{x}<br>Potash (lbs/acre)=%{y} <b>(trend)</b><extra></extra>",
         "legendgroup": "Tennessee",
         "marker": {
          "color": "#00cc96",
          "symbol": "circle"
         },
         "mode": "lines",
         "name": "Tennessee",
         "showlegend": false,
         "type": "scatter",
         "x": {
          "bdata": "rAetB64HrwewB7EHsgezB7QHtQe2B7cHuAe5B7oHuwe8B70Hvge/B8AHwQfCB8MHxAfFB8YHxwfIB8kHygfLB8wHzQfOB88H0AfRB9IH0wfUB9UH1gfXB9gH2QfaB9sH3AfdB94H3wfgB+EH",
          "dtype": "i2"
         },
         "xaxis": "x",
         "y": {
          "bdata": "wEU19/5BT0AgfdcnF3VPQIC0eVgvqE9A4OsbiUfbT0CgEd/cLwdQQEgtMPW7IFBA+EiBDUg6UECoZNIl1FNQQFiAIz5gbVBACJx0VuyGUEC4t8VueKBQQGjTFocEulBAEO9nn5DTUEDACrm3HO1QQHAmCtCoBlFAIEJb6DQgUUDQXawAwTlRQIB5/RhNU1FAMJVOMdlsUUDgsJ9JZYZRQIjM8GHxn1FAOOhBen25UUDoA5OSCdNRQJgf5KqV7FFASDs1wyEGUkD4VobbrR9SQKhy1/M5OVJAUI4oDMZSUkAAqnkkUmxSQLDFyjzehVJAYOEbVWqfUkAQ/Wxt9rhSQMAYvoWC0lJAcDQPng7sUkAgUGC2mgVTQMhrsc4mH1NAeIcC57I4U0Aoo1P/PlJTQNi+pBfLa1NAiNr1L1eFU0A49kZI455TQOgRmGBvuFNAmC3pePvRU0BASTqRh+tTQPBki6kTBVRAoIDcwZ8eVEBQnC3aKzhUQAC4fvK3UVRAsNPPCkRrVEBg7yAj0IRUQAgLcjtcnlRAuCbDU+i3VEBoQhRsdNFUQBheZYQA61RA",
          "dtype": "f8"
         },
         "yaxis": "y"
        },
        {
         "customdata": [
          [
           "Texas",
           10
          ],
          [
           "Texas",
           11
          ],
          [
           "Texas",
           14
          ],
          [
           "Texas",
           12
          ],
          [
           "Texas",
           18
          ],
          [
           "Texas",
           14
          ],
          [
           "Texas",
           13
          ],
          [
           "Texas",
           12
          ],
          [
           "Texas",
           11
          ],
          [
           "Texas",
           15
          ],
          [
           "Texas",
           24
          ],
          [
           "Texas",
           9
          ],
          [
           "Texas",
           13
          ],
          [
           "Texas",
           15
          ],
          [
           "Texas",
           9
          ],
          [
           "Texas",
           17
          ],
          [
           "Texas",
           18
          ],
          [
           "Texas",
           21
          ],
          [
           "Texas",
           13
          ],
          [
           "Texas",
           14
          ],
          [
           "Texas",
           18
          ],
          [
           "Texas",
           22
          ],
          [
           "Texas",
           18
          ],
          [
           "Texas",
           23
          ],
          [
           "Texas",
           22
          ],
          [
           "Texas",
           22
          ],
          [
           "Texas",
           20
          ],
          [
           "Texas",
           25
          ],
          [
           "Texas",
           27
          ],
          [
           "Texas",
           26
          ],
          [
           "Texas",
           25
          ],
          [
           "Texas",
           32
          ],
          [
           "Texas",
           20
          ],
          [
           "Texas",
           29
          ],
          [
           "Texas",
           27
          ],
          [
           "Texas",
           23
          ],
          [
           "Texas",
           26
          ],
          [
           "Texas",
           14
          ],
          [
           "Texas",
           19
          ],
          [
           "Texas",
           20
          ],
          [
           "Texas",
           19
          ],
          [
           "Texas",
           19
          ],
          [
           "Texas",
           19
          ],
          [
           "Texas",
           24
          ],
          [
           "Texas",
           19
          ],
          [
           "Texas",
           19
          ],
          [
           "Texas",
           30
          ],
          [
           "Texas",
           19
          ],
          [
           "Texas",
           19
          ],
          [
           "Texas",
           19
          ],
          [
           "Texas",
           19
          ],
          [
           "Texas",
           16
          ],
          [
           "Texas",
           19
          ],
          [
           "Texas",
           25
          ]
         ],
         "hovertemplate": "State=%{customdata[0]}<br>Year=%{x}<br>Potash (lbs/acre)=%{y}<br>Potash (%)=%{customdata[1]}<extra></extra>",
         "legendgroup": "Texas",
         "marker": {
          "color": "#ab63fa",
          "symbol": "circle"
         },
         "mode": "markers",
         "name": "Texas",
         "orientation": "v",
         "showlegend": true,
         "type": "scatter",
         "x": {
          "bdata": "rAetB64HrwewB7EHsgezB7QHtQe2B7cHuAe5B7oHuwe8B70Hvge/B8AHwQfCB8MHxAfFB8YHxwfIB8kHygfLB8wHzQfOB88H0AfRB9IH0wfUB9UH1gfXB9gH2QfaB9sH3AfdB94H3wfgB+EH",
          "dtype": "i2"
         },
         "xaxis": "x",
         "y": {
          "bdata": "AAAAAAAAMEAAAAAAAAAyQAAAAAAAADJAAAAAAAAANEAAAAAAAAAyQAAAAAAAADVAAAAAAAAANUAAAAAAAAAxQAAAAAAAADNAAAAAAAAALEAAAAAAAAAxQAAAAAAAAChAAAAAAAAAMEAAAAAAAAAsQAAAAAAAADBAAAAAAAAAMEAAAAAAAAAsQAAAAAAAADRAAAAAAAAANEAAAAAAAAA2QAAAAAAAAC5AAAAAAAAANUAAAAAAAAAqQAAAAAAAACxAAAAAAAAAKkAAAAAAAAAoQAAAAAAAADFAAAAAAAAAN0AAAAAAAAA0QAAAAAAAADVAAAAAAAAANEAAAAAAAAAuQAAAAAAAADVAAAAAAAAAMEAAAAAAAAAzQAAAAAAAADJAAAAAAAAAM0AAAAAAAAAzQGVNWVPWlDFAAAAAAAAAOUBlTVlT1pQxQGVNWVPWlDFAZU1ZU9aUMUAAAAAAAAAxQGVNWVPWlDFAZU1ZU9aUMUAAAAAAAAAuQGVNWVPWlDFAZU1ZU9aUMUBlTVlT1pQxQGVNWVPWlDFAAAAAAAAALEBlTVlT1pQxQAAAAAAAADRA",
          "dtype": "f8"
         },
         "yaxis": "y"
        },
        {
         "hovertemplate": "<b>OLS trendline</b><br>Potash (Pounds/Acre) = 0.0113128 * Year + -4.93669<br>R<sup>2</sup>=0.004110<br><br>State=Texas<br>Year=%{x}<br>Potash (lbs/acre)=%{y} <b>(trend)</b><extra></extra>",
         "legendgroup": "Texas",
         "marker": {
          "color": "#ab63fa",
          "symbol": "circle"
         },
         "mode": "lines",
         "name": "Texas",
         "showlegend": false,
         "type": "scatter",
         "x": {
          "bdata": "rAetB64HrwewB7EHsgezB7QHtQe2B7cHuAe5B7oHuwe8B70Hvge/B8AHwQfCB8MHxAfFB8YHxwfIB8kHygfLB8wHzQfOB88H0AfRB9IH0wfUB9UH1gfXB9gH2QfaB9sH3AfdB94H3wfgB+EH",
          "dtype": "i2"
         },
         "xaxis": "x",
         "y": {
          "bdata": "JGqHYRdIMUAJhm3G/EoxQO6hUyviTTFA0705kMdQMUC42R/1rFMxQJ31BVqSVjFAghHsvndZMUBnLdIjXVwxQExJuIhCXzFAMWWe7SdiMUAWgYRSDWUxQPucarfyZzFA4LhQHNhqMUDF1DaBvW0xQKrwHOaicDFAjwwDS4hzMUB0KOmvbXYxQFlEzxRTeTFAPmC1eTh8MUAjfJveHX8xQAiYgUMDgjFA7bNnqOiEMUDSz00NzocxQLfrM3KzijFAnAca15iNMUCBIwA8fpAxQGY/5qBjkzFAS1vMBUmWMUAwd7JqLpkxQBWTmM8TnDFA+q5+NPmeMUDfymSZ3qExQMTmSv7DpDFAqQIxY6mnMUCOHhfIjqoxQHM6/Sx0rTFAWFbjkVmwMUA9csn2PrMxQCKOr1sktjFAB6qVwAm5MUDsxXsl77sxQNHhYYrUvjFAtv1H77nBMUCbGS5Un8QxQIA1FLmExzFAZVH6HWrKMUBKbeCCT80xQC+Jxuc00DFAFKWsTBrTMUD5wJKx/9UxQN7ceBbl2DFAw/hee8rbMUCoFEXgr94xQI0wK0WV4TFA",
          "dtype": "f8"
         },
         "yaxis": "y"
        }
       ],
       "layout": {
        "height": 600,
        "legend": {
         "title": {
          "text": "State"
         },
         "tracegroupgap": 0
        },
        "template": {
         "data": {
          "bar": [
           {
            "error_x": {
             "color": "#2a3f5f"
            },
            "error_y": {
             "color": "#2a3f5f"
            },
            "marker": {
             "line": {
              "color": "white",
              "width": 0.5
             },
             "pattern": {
              "fillmode": "overlay",
              "size": 10,
              "solidity": 0.2
             }
            },
            "type": "bar"
           }
          ],
          "barpolar": [
           {
            "marker": {
             "line": {
              "color": "white",
              "width": 0.5
             },
             "pattern": {
              "fillmode": "overlay",
              "size": 10,
              "solidity": 0.2
             }
            },
            "type": "barpolar"
           }
          ],
          "carpet": [
           {
            "aaxis": {
             "endlinecolor": "#2a3f5f",
             "gridcolor": "#C8D4E3",
             "linecolor": "#C8D4E3",
             "minorgridcolor": "#C8D4E3",
             "startlinecolor": "#2a3f5f"
            },
            "baxis": {
             "endlinecolor": "#2a3f5f",
             "gridcolor": "#C8D4E3",
             "linecolor": "#C8D4E3",
             "minorgridcolor": "#C8D4E3",
             "startlinecolor": "#2a3f5f"
            },
            "type": "carpet"
           }
          ],
          "choropleth": [
           {
            "colorbar": {
             "outlinewidth": 0,
             "ticks": ""
            },
            "type": "choropleth"
           }
          ],
          "contour": [
           {
            "colorbar": {
             "outlinewidth": 0,
             "ticks": ""
            },
            "colorscale": [
             [
              0,
              "#0d0887"
             ],
             [
              0.1111111111111111,
              "#46039f"
             ],
             [
              0.2222222222222222,
              "#7201a8"
             ],
             [
              0.3333333333333333,
              "#9c179e"
             ],
             [
              0.4444444444444444,
              "#bd3786"
             ],
             [
              0.5555555555555556,
              "#d8576b"
             ],
             [
              0.6666666666666666,
              "#ed7953"
             ],
             [
              0.7777777777777778,
              "#fb9f3a"
             ],
             [
              0.8888888888888888,
              "#fdca26"
             ],
             [
              1,
              "#f0f921"
             ]
            ],
            "type": "contour"
           }
          ],
          "contourcarpet": [
           {
            "colorbar": {
             "outlinewidth": 0,
             "ticks": ""
            },
            "type": "contourcarpet"
           }
          ],
          "heatmap": [
           {
            "colorbar": {
             "outlinewidth": 0,
             "ticks": ""
            },
            "colorscale": [
             [
              0,
              "#0d0887"
             ],
             [
              0.1111111111111111,
              "#46039f"
             ],
             [
              0.2222222222222222,
              "#7201a8"
             ],
             [
              0.3333333333333333,
              "#9c179e"
             ],
             [
              0.4444444444444444,
              "#bd3786"
             ],
             [
              0.5555555555555556,
              "#d8576b"
             ],
             [
              0.6666666666666666,
              "#ed7953"
             ],
             [
              0.7777777777777778,
              "#fb9f3a"
             ],
             [
              0.8888888888888888,
              "#fdca26"
             ],
             [
              1,
              "#f0f921"
             ]
            ],
            "type": "heatmap"
           }
          ],
          "histogram": [
           {
            "marker": {
             "pattern": {
              "fillmode": "overlay",
              "size": 10,
              "solidity": 0.2
             }
            },
            "type": "histogram"
           }
          ],
          "histogram2d": [
           {
            "colorbar": {
             "outlinewidth": 0,
             "ticks": ""
            },
            "colorscale": [
             [
              0,
              "#0d0887"
             ],
             [
              0.1111111111111111,
              "#46039f"
             ],
             [
              0.2222222222222222,
              "#7201a8"
             ],
             [
              0.3333333333333333,
              "#9c179e"
             ],
             [
              0.4444444444444444,
              "#bd3786"
             ],
             [
              0.5555555555555556,
              "#d8576b"
             ],
             [
              0.6666666666666666,
              "#ed7953"
             ],
             [
              0.7777777777777778,
              "#fb9f3a"
             ],
             [
              0.8888888888888888,
              "#fdca26"
             ],
             [
              1,
              "#f0f921"
             ]
            ],
            "type": "histogram2d"
           }
          ],
          "histogram2dcontour": [
           {
            "colorbar": {
             "outlinewidth": 0,
             "ticks": ""
            },
            "colorscale": [
             [
              0,
              "#0d0887"
             ],
             [
              0.1111111111111111,
              "#46039f"
             ],
             [
              0.2222222222222222,
              "#7201a8"
             ],
             [
              0.3333333333333333,
              "#9c179e"
             ],
             [
              0.4444444444444444,
              "#bd3786"
             ],
             [
              0.5555555555555556,
              "#d8576b"
             ],
             [
              0.6666666666666666,
              "#ed7953"
             ],
             [
              0.7777777777777778,
              "#fb9f3a"
             ],
             [
              0.8888888888888888,
              "#fdca26"
             ],
             [
              1,
              "#f0f921"
             ]
            ],
            "type": "histogram2dcontour"
           }
          ],
          "mesh3d": [
           {
            "colorbar": {
             "outlinewidth": 0,
             "ticks": ""
            },
            "type": "mesh3d"
           }
          ],
          "parcoords": [
           {
            "line": {
             "colorbar": {
              "outlinewidth": 0,
              "ticks": ""
             }
            },
            "type": "parcoords"
           }
          ],
          "pie": [
           {
            "automargin": true,
            "type": "pie"
           }
          ],
          "scatter": [
           {
            "fillpattern": {
             "fillmode": "overlay",
             "size": 10,
             "solidity": 0.2
            },
            "type": "scatter"
           }
          ],
          "scatter3d": [
           {
            "line": {
             "colorbar": {
              "outlinewidth": 0,
              "ticks": ""
             }
            },
            "marker": {
             "colorbar": {
              "outlinewidth": 0,
              "ticks": ""
             }
            },
            "type": "scatter3d"
           }
          ],
          "scattercarpet": [
           {
            "marker": {
             "colorbar": {
              "outlinewidth": 0,
              "ticks": ""
             }
            },
            "type": "scattercarpet"
           }
          ],
          "scattergeo": [
           {
            "marker": {
             "colorbar": {
              "outlinewidth": 0,
              "ticks": ""
             }
            },
            "type": "scattergeo"
           }
          ],
          "scattergl": [
           {
            "marker": {
             "colorbar": {
              "outlinewidth": 0,
              "ticks": ""
             }
            },
            "type": "scattergl"
           }
          ],
          "scattermap": [
           {
            "marker": {
             "colorbar": {
              "outlinewidth": 0,
              "ticks": ""
             }
            },
            "type": "scattermap"
           }
          ],
          "scattermapbox": [
           {
            "marker": {
             "colorbar": {
              "outlinewidth": 0,
              "ticks": ""
             }
            },
            "type": "scattermapbox"
           }
          ],
          "scatterpolar": [
           {
            "marker": {
             "colorbar": {
              "outlinewidth": 0,
              "ticks": ""
             }
            },
            "type": "scatterpolar"
           }
          ],
          "scatterpolargl": [
           {
            "marker": {
             "colorbar": {
              "outlinewidth": 0,
              "ticks": ""
             }
            },
            "type": "scatterpolargl"
           }
          ],
          "scatterternary": [
           {
            "marker": {
             "colorbar": {
              "outlinewidth": 0,
              "ticks": ""
             }
            },
            "type": "scatterternary"
           }
          ],
          "surface": [
           {
            "colorbar": {
             "outlinewidth": 0,
             "ticks": ""
            },
            "colorscale": [
             [
              0,
              "#0d0887"
             ],
             [
              0.1111111111111111,
              "#46039f"
             ],
             [
              0.2222222222222222,
              "#7201a8"
             ],
             [
              0.3333333333333333,
              "#9c179e"
             ],
             [
              0.4444444444444444,
              "#bd3786"
             ],
             [
              0.5555555555555556,
              "#d8576b"
             ],
             [
              0.6666666666666666,
              "#ed7953"
             ],
             [
              0.7777777777777778,
              "#fb9f3a"
             ],
             [
              0.8888888888888888,
              "#fdca26"
             ],
             [
              1,
              "#f0f921"
             ]
            ],
            "type": "surface"
           }
          ],
          "table": [
           {
            "cells": {
             "fill": {
              "color": "#EBF0F8"
             },
             "line": {
              "color": "white"
             }
            },
            "header": {
             "fill": {
              "color": "#C8D4E3"
             },
             "line": {
              "color": "white"
             }
            },
            "type": "table"
           }
          ]
         },
         "layout": {
          "annotationdefaults": {
           "arrowcolor": "#2a3f5f",
           "arrowhead": 0,
           "arrowwidth": 1
          },
          "autotypenumbers": "strict",
          "coloraxis": {
           "colorbar": {
            "outlinewidth": 0,
            "ticks": ""
           }
          },
          "colorscale": {
           "diverging": [
            [
             0,
             "#8e0152"
            ],
            [
             0.1,
             "#c51b7d"
            ],
            [
             0.2,
             "#de77ae"
            ],
            [
             0.3,
             "#f1b6da"
            ],
            [
             0.4,
             "#fde0ef"
            ],
            [
             0.5,
             "#f7f7f7"
            ],
            [
             0.6,
             "#e6f5d0"
            ],
            [
             0.7,
             "#b8e186"
            ],
            [
             0.8,
             "#7fbc41"
            ],
            [
             0.9,
             "#4d9221"
            ],
            [
             1,
             "#276419"
            ]
           ],
           "sequential": [
            [
             0,
             "#0d0887"
            ],
            [
             0.1111111111111111,
             "#46039f"
            ],
            [
             0.2222222222222222,
             "#7201a8"
            ],
            [
             0.3333333333333333,
             "#9c179e"
            ],
            [
             0.4444444444444444,
             "#bd3786"
            ],
            [
             0.5555555555555556,
             "#d8576b"
            ],
            [
             0.6666666666666666,
             "#ed7953"
            ],
            [
             0.7777777777777778,
             "#fb9f3a"
            ],
            [
             0.8888888888888888,
             "#fdca26"
            ],
            [
             1,
             "#f0f921"
            ]
           ],
           "sequentialminus": [
            [
             0,
             "#0d0887"
            ],
            [
             0.1111111111111111,
             "#46039f"
            ],
            [
             0.2222222222222222,
             "#7201a8"
            ],
            [
             0.3333333333333333,
             "#9c179e"
            ],
            [
             0.4444444444444444,
             "#bd3786"
            ],
            [
             0.5555555555555556,
             "#d8576b"
            ],
            [
             0.6666666666666666,
             "#ed7953"
            ],
            [
             0.7777777777777778,
             "#fb9f3a"
            ],
            [
             0.8888888888888888,
             "#fdca26"
            ],
            [
             1,
             "#f0f921"
            ]
           ]
          },
          "colorway": [
           "#636efa",
           "#EF553B",
           "#00cc96",
           "#ab63fa",
           "#FFA15A",
           "#19d3f3",
           "#FF6692",
           "#B6E880",
           "#FF97FF",
           "#FECB52"
          ],
          "font": {
           "color": "#2a3f5f"
          },
          "geo": {
           "bgcolor": "white",
           "lakecolor": "white",
           "landcolor": "white",
           "showlakes": true,
           "showland": true,
           "subunitcolor": "#C8D4E3"
          },
          "hoverlabel": {
           "align": "left"
          },
          "hovermode": "closest",
          "mapbox": {
           "style": "light"
          },
          "paper_bgcolor": "white",
          "plot_bgcolor": "white",
          "polar": {
           "angularaxis": {
            "gridcolor": "#EBF0F8",
            "linecolor": "#EBF0F8",
            "ticks": ""
           },
           "bgcolor": "white",
           "radialaxis": {
            "gridcolor": "#EBF0F8",
            "linecolor": "#EBF0F8",
            "ticks": ""
           }
          },
          "scene": {
           "xaxis": {
            "backgroundcolor": "white",
            "gridcolor": "#DFE8F3",
            "gridwidth": 2,
            "linecolor": "#EBF0F8",
            "showbackground": true,
            "ticks": "",
            "zerolinecolor": "#EBF0F8"
           },
           "yaxis": {
            "backgroundcolor": "white",
            "gridcolor": "#DFE8F3",
            "gridwidth": 2,
            "linecolor": "#EBF0F8",
            "showbackground": true,
            "ticks": "",
            "zerolinecolor": "#EBF0F8"
           },
           "zaxis": {
            "backgroundcolor": "white",
            "gridcolor": "#DFE8F3",
            "gridwidth": 2,
            "linecolor": "#EBF0F8",
            "showbackground": true,
            "ticks": "",
            "zerolinecolor": "#EBF0F8"
           }
          },
          "shapedefaults": {
           "line": {
            "color": "#2a3f5f"
           }
          },
          "ternary": {
           "aaxis": {
            "gridcolor": "#DFE8F3",
            "linecolor": "#A2B1C6",
            "ticks": ""
           },
           "baxis": {
            "gridcolor": "#DFE8F3",
            "linecolor": "#A2B1C6",
            "ticks": ""
           },
           "bgcolor": "white",
           "caxis": {
            "gridcolor": "#DFE8F3",
            "linecolor": "#A2B1C6",
            "ticks": ""
           }
          },
          "title": {
           "x": 0.05
          },
          "xaxis": {
           "automargin": true,
           "gridcolor": "#EBF0F8",
           "linecolor": "#EBF0F8",
           "ticks": "",
           "title": {
            "standoff": 15
           },
           "zerolinecolor": "#EBF0F8",
           "zerolinewidth": 2
          },
          "yaxis": {
           "automargin": true,
           "gridcolor": "#EBF0F8",
           "linecolor": "#EBF0F8",
           "ticks": "",
           "title": {
            "standoff": 15
           },
           "zerolinecolor": "#EBF0F8",
           "zerolinewidth": 2
          }
         }
        },
        "title": {
         "font": {
          "size": 16
         },
         "text": "Potash Usage Over Time by State"
        },
        "xaxis": {
         "anchor": "y",
         "domain": [
          0,
          1
         ],
         "title": {
          "font": {
           "size": 14
          },
          "text": "Year"
         }
        },
        "yaxis": {
         "anchor": "x",
         "domain": [
          0,
          1
         ],
         "title": {
          "font": {
           "size": 14
          },
          "text": "Potash (lbs/acre)"
         }
        }
       }
      }
     },
     "metadata": {},
     "output_type": "display_data"
    },
    {
     "data": {
      "application/vnd.plotly.v1+json": {
       "config": {
        "plotlyServerURL": "https://plot.ly"
       },
       "data": [
        {
         "customdata": [
          [
           "Alabama",
           63
          ],
          [
           "Alabama",
           66
          ],
          [
           "Alabama",
           70
          ],
          [
           "Alabama",
           73
          ],
          [
           "Alabama",
           73
          ],
          [
           "Alabama",
           71
          ],
          [
           "Alabama",
           77
          ],
          [
           "Alabama",
           73
          ],
          [
           "Alabama",
           77
          ],
          [
           "Alabama",
           83
          ],
          [
           "Alabama",
           75
          ],
          [
           "Alabama",
           66
          ],
          [
           "Alabama",
           80
          ],
          [
           "Alabama",
           85
          ],
          [
           "Alabama",
           69
          ],
          [
           "Alabama",
           68
          ],
          [
           "Alabama",
           70
          ],
          [
           "Alabama",
           68
          ],
          [
           "Alabama",
           72
          ],
          [
           "Alabama",
           72
          ],
          [
           "Alabama",
           70
          ],
          [
           "Alabama",
           73
          ],
          [
           "Alabama",
           62
          ],
          [
           "Alabama",
           74.25806451612904
          ],
          [
           "Alabama",
           74.25806451612904
          ],
          [
           "Alabama",
           74.25806451612904
          ],
          [
           "Alabama",
           74.25806451612904
          ],
          [
           "Alabama",
           74.25806451612904
          ],
          [
           "Alabama",
           74.25806451612904
          ],
          [
           "Alabama",
           74.25806451612904
          ],
          [
           "Alabama",
           74.25806451612904
          ],
          [
           "Alabama",
           74.25806451612904
          ],
          [
           "Alabama",
           74.25806451612904
          ],
          [
           "Alabama",
           79
          ],
          [
           "Alabama",
           76
          ],
          [
           "Alabama",
           84
          ],
          [
           "Alabama",
           87
          ],
          [
           "Alabama",
           74.25806451612904
          ],
          [
           "Alabama",
           74.25806451612904
          ],
          [
           "Alabama",
           77
          ],
          [
           "Alabama",
           74.25806451612904
          ],
          [
           "Alabama",
           74.25806451612904
          ],
          [
           "Alabama",
           74.25806451612904
          ],
          [
           "Alabama",
           65
          ],
          [
           "Alabama",
           74.25806451612904
          ],
          [
           "Alabama",
           74.25806451612904
          ],
          [
           "Alabama",
           74.25806451612904
          ],
          [
           "Alabama",
           74.25806451612904
          ],
          [
           "Alabama",
           74.25806451612904
          ],
          [
           "Alabama",
           74.25806451612904
          ],
          [
           "Alabama",
           74.25806451612904
          ],
          [
           "Alabama",
           95
          ],
          [
           "Alabama",
           74.25806451612904
          ],
          [
           "Alabama",
           83
          ]
         ],
         "hovertemplate": "State=%{customdata[0]}<br>Year=%{x}<br>Potash Usage (%)=%{y}<br>Potash (Pounds/Acre)=%{customdata[1]}<extra></extra>",
         "legendgroup": "Alabama",
         "marker": {
          "color": "#636efa",
          "symbol": "circle"
         },
         "mode": "markers",
         "name": "Alabama",
         "orientation": "v",
         "showlegend": true,
         "type": "scatter",
         "x": {
          "bdata": "rAetB64HrwewB7EHsgezB7QHtQe2B7cHuAe5B7oHuwe8B70Hvge/B8AHwQfCB8MHxAfFB8YHxwfIB8kHygfLB8wHzQfOB88H0AfRB9IH0wfUB9UH1gfXB9gH2QfaB9sH3AfdB94H3wfgB+EH",
          "dtype": "i2"
         },
         "xaxis": "x",
         "y": {
          "bdata": "AAAAAADAWEAAAAAAAABZQAAAAAAAAFlAAAAAAAAAWUAAAAAAAMBYQAAAAAAAgFhAAAAAAAAAWUAAAAAAAMBYQAAAAAAAgFhAAAAAAABAWEAAAAAAAMBYQAAAAAAAgFhAAAAAAACAWEAAAAAAAEBYQAAAAAAAwFdAAAAAAAAAVUAAAAAAAEBXQAAAAAAAwFZAAAAAAABAV0AAAAAAAEBWQAAAAAAAAFZAAAAAAAAAVEAAAAAAAEBTQDrnnHPOOVdAOuecc845V0A655xzzjlXQDrnnHPOOVdAOuecc845V0A655xzzjlXQDrnnHPOOVdAOuecc845V0A655xzzjlXQDrnnHPOOVdAAAAAAADAV0AAAAAAAIBXQAAAAAAAwFdAAAAAAADAVkA655xzzjlXQDrnnHPOOVdAAAAAAADAVEA655xzzjlXQDrnnHPOOVdAOuecc845V0AAAAAAAIBWQDrnnHPOOVdAOuecc845V0A655xzzjlXQDrnnHPOOVdAOuecc845V0A655xzzjlXQDrnnHPOOVdAAAAAAADAU0A655xzzjlXQAAAAAAAQFRA",
          "dtype": "f8"
         },
         "yaxis": "y"
        },
        {
         "hovertemplate": "<b>OLS trendline</b><br>Potash (%) = -0.166126 * Year + 423.578<br>R<sup>2</sup>=0.243174<br><br>State=Alabama<br>Year=%{x}<br>Potash Usage (%)=%{y} <b>(trend)</b><extra></extra>",
         "legendgroup": "Alabama",
         "marker": {
          "color": "#636efa",
          "symbol": "circle"
         },
         "mode": "lines",
         "name": "Alabama",
         "showlegend": false,
         "type": "scatter",
         "x": {
          "bdata": "rAetB64HrwewB7EHsgezB7QHtQe2B7cHuAe5B7oHuwe8B70Hvge/B8AHwQfCB8MHxAfFB8YHxwfIB8kHygfLB8wHzQfOB88H0AfRB9IH0wfUB9UH1gfXB9gH2QfaB9sH3AfdB94H3wfgB+EH",
          "dtype": "i2"
         },
         "xaxis": "x",
         "y": {
          "bdata": "NOg4fY5TWEAYXCmt7EhYQADQGd1KPlhA6EMKDakzWEDQt/o8BylYQLQr62xlHlhAnJ/bnMMTWECEE8zMIQlYQGyHvPx//ldAUPusLN7zV0A4b51cPOlXQCDjjYya3ldABFd+vPjTV0Dsym7sVslXQNQ+Xxy1vldAvLJPTBO0V0CgJkB8calXQIiaMKzPnldAcA4h3C2UV0BYghEMjIlXQDz2ATzqfldAJGrya0h0V0AM3uKbpmlXQPRR08sEX1dA2MXD+2JUV0DAObQrwUlXQKitpFsfP1dAjCGVi300V0B0lYW72ylXQFwJdus5H1dARH1mG5gUV0Ao8VZL9glXQBBlR3tU/1ZA+Ng3q7L0VkDgTCjbEOpWQMTAGAtv31ZArDQJO83UVkCUqPlqK8pWQHgc6pqJv1ZAYJDayue0VkBIBMv6RapWQDB4uyqkn1ZAFOyrWgKVVkD8X5yKYIpWQOTTjLq+f1ZAzEd96hx1VkCwu20ae2pWQJgvXkrZX1ZAgKNOejdVVkBkFz+qlUpWQEyLL9rzP1ZANP8fClI1VkAccxA6sCpWQADnAGoOIFZA",
          "dtype": "f8"
         },
         "yaxis": "y"
        },
        {
         "customdata": [
          [
           "Arizona",
           23.41176470588235
          ],
          [
           "Arizona",
           8
          ],
          [
           "Arizona",
           15
          ],
          [
           "Arizona",
           40
          ],
          [
           "Arizona",
           36
          ],
          [
           "Arizona",
           12
          ],
          [
           "Arizona",
           16
          ],
          [
           "Arizona",
           41
          ],
          [
           "Arizona",
           39
          ],
          [
           "Arizona",
           34
          ],
          [
           "Arizona",
           27
          ],
          [
           "Arizona",
           22
          ],
          [
           "Arizona",
           16
          ],
          [
           "Arizona",
           37
          ],
          [
           "Arizona",
           26
          ],
          [
           "Arizona",
           55
          ],
          [
           "Arizona",
           9
          ],
          [
           "Arizona",
           7
          ],
          [
           "Arizona",
           34
          ],
          [
           "Arizona",
           14
          ],
          [
           "Arizona",
           29
          ],
          [
           "Arizona",
           6
          ],
          [
           "Arizona",
           12
          ],
          [
           "Arizona",
           23.41176470588235
          ],
          [
           "Arizona",
           14
          ],
          [
           "Arizona",
           23.41176470588235
          ],
          [
           "Arizona",
           23.41176470588235
          ],
          [
           "Arizona",
           10
          ],
          [
           "Arizona",
           24
          ],
          [
           "Arizona",
           5
          ],
          [
           "Arizona",
           10
          ],
          [
           "Arizona",
           23.41176470588235
          ],
          [
           "Arizona",
           44
          ],
          [
           "Arizona",
           46
          ],
          [
           "Arizona",
           9
          ],
          [
           "Arizona",
           18
          ],
          [
           "Arizona",
           39
          ],
          [
           "Arizona",
           23.41176470588235
          ],
          [
           "Arizona",
           23.41176470588235
          ],
          [
           "Arizona",
           33
          ],
          [
           "Arizona",
           23.41176470588235
          ],
          [
           "Arizona",
           23.41176470588235
          ],
          [
           "Arizona",
           23.41176470588235
          ],
          [
           "Arizona",
           23.41176470588235
          ],
          [
           "Arizona",
           23.41176470588235
          ],
          [
           "Arizona",
           23.41176470588235
          ],
          [
           "Arizona",
           23.41176470588235
          ],
          [
           "Arizona",
           23.41176470588235
          ],
          [
           "Arizona",
           23.41176470588235
          ],
          [
           "Arizona",
           23.41176470588235
          ],
          [
           "Arizona",
           23.41176470588235
          ],
          [
           "Arizona",
           9
          ],
          [
           "Arizona",
           23.41176470588235
          ],
          [
           "Arizona",
           23.41176470588235
          ]
         ],
         "hovertemplate": "State=%{customdata[0]}<br>Year=%{x}<br>Potash Usage (%)=%{y}<br>Potash (Pounds/Acre)=%{customdata[1]}<extra></extra>",
         "legendgroup": "Arizona",
         "marker": {
          "color": "#EF553B",
          "symbol": "circle"
         },
         "mode": "markers",
         "name": "Arizona",
         "orientation": "v",
         "showlegend": true,
         "type": "scatter",
         "x": {
          "bdata": "rAetB64HrwewB7EHsgezB7QHtQe2B7cHuAe5B7oHuwe8B70Hvge/B8AHwQfCB8MHxAfFB8YHxwfIB8kHygfLB8wHzQfOB88H0AfRB9IH0wfUB9UH1gfXB9gH2QfaB9sH3AfdB94H3wfgB+EH",
          "dtype": "i2"
         },
         "xaxis": "x",
         "y": {
          "bdata": "AAAAAAAAAEAAAAAAAAAAQAAAAAAAAPA/AAAAAAAA8D8AAAAAAADwPwAAAAAAAABAAAAAAAAAEEAAAAAAAAAIQAAAAAAAABBAAAAAAAAAAEAAAAAAAAAAQAAAAAAAAABAAAAAAAAA8D8AAAAAAADwPwAAAAAAAPA/AAAAAAAACEAAAAAAAAAAQAAAAAAAAABAAAAAAAAACEAAAAAAAAAmQAAAAAAAABBAAAAAAAAAIkAAAAAAAAAcQHaDKfJZNxhAAAAAAAAAHEAAAAAAAAAIQAAAAAAAACBAAAAAAAAAMkAAAAAAAAAiQAAAAAAAACRAAAAAAAAANkB2gynyWTcYQAAAAAAAACZAAAAAAAAAEEAAAAAAAAAqQAAAAAAAAC5AAAAAAAAAIEB2gynyWTcYQHaDKfJZNxhAAAAAAAAAJkB2gynyWTcYQHaDKfJZNxhAdoMp8lk3GEB2gynyWTcYQHaDKfJZNxhAdoMp8lk3GEB2gynyWTcYQHaDKfJZNxhAdoMp8lk3GEB2gynyWTcYQHaDKfJZNxhAAAAAAAAALkB2gynyWTcYQHaDKfJZNxhA",
          "dtype": "f8"
         },
         "yaxis": "y"
        },
        {
         "hovertemplate": "<b>OLS trendline</b><br>Potash (%) = 0.138445 * Year + -269.521<br>R<sup>2</sup>=0.237217<br><br>State=Arizona<br>Year=%{x}<br>Potash Usage (%)=%{y} <b>(trend)</b><extra></extra>",
         "legendgroup": "Arizona",
         "marker": {
          "color": "#EF553B",
          "symbol": "circle"
         },
         "mode": "lines",
         "name": "Arizona",
         "showlegend": false,
         "type": "scatter",
         "x": {
          "bdata": "rAetB64HrwewB7EHsgezB7QHtQe2B7cHuAe5B7oHuwe8B70Hvge/B8AHwQfCB8MHxAfFB8YHxwfIB8kHygfLB8wHzQfOB88H0AfRB9IH0wfUB9UH1gfXB9gH2QfaB9sH3AfdB94H3wfgB+EH",
          "dtype": "i2"
         },
         "xaxis": "x",
         "y": {
          "bdata": "gKV5IwIVA0CASOdCizAEQIDrVGIUTAVAgI7CgZ1nBkAAMjChJoMHQADVncCvnghAAHgL4Di6CUAAG3n/wdUKQAC+5h5L8QtAAGFUPtQMDUAABMJdXSgOQICnL33mQw9AQKVOzrcvEEDAdgVefL0QQEBIvO1ASxFAwBlzfQXZEUBA6ykNymYSQMC84JyO9BJAQI6XLFOCE0AAYE68FxAUQIAxBUzcnRRAAAO826ArFUCA1HJrZbkVQACmKfspRxZAgHfgiu7UFkAASZcas2IXQIAaTqp38BdAQOwEOjx+GEDAvbvJAAwZQECPclnFmRlAwGAp6YknGkBAMuB4TrUaQMADlwgTQxtAQNVNmNfQG0AApwQonF4cQIB4u7dg7BxAAEpyRyV6HUCAGynX6QceQADt32aulR5AgL6W9nIjH0AAkE2GN7EfQMAwAgt+HyBAoJndUmBmIEBgArmaQq0gQCBrlOIk9CBA4NNvKgc7IUCgPEty6YEhQGClJrrLyCFAIA4CAq4PIkDgdt1JkFYiQMDfuJFynSJAgEiU2VTkIkBAsW8hNysjQAAaS2kZciNA",
          "dtype": "f8"
         },
         "yaxis": "y"
        },
        {
         "customdata": [
          [
           "Arkansas",
           48
          ],
          [
           "Arkansas",
           51
          ],
          [
           "Arkansas",
           51
          ],
          [
           "Arkansas",
           47
          ],
          [
           "Arkansas",
           55
          ],
          [
           "Arkansas",
           54
          ],
          [
           "Arkansas",
           53
          ],
          [
           "Arkansas",
           50
          ],
          [
           "Arkansas",
           54
          ],
          [
           "Arkansas",
           50
          ],
          [
           "Arkansas",
           46
          ],
          [
           "Arkansas",
           46
          ],
          [
           "Arkansas",
           55
          ],
          [
           "Arkansas",
           60
          ],
          [
           "Arkansas",
           50
          ],
          [
           "Arkansas",
           51
          ],
          [
           "Arkansas",
           53
          ],
          [
           "Arkansas",
           58
          ],
          [
           "Arkansas",
           48
          ],
          [
           "Arkansas",
           46
          ],
          [
           "Arkansas",
           53
          ],
          [
           "Arkansas",
           51
          ],
          [
           "Arkansas",
           65
          ],
          [
           "Arkansas",
           63
          ],
          [
           "Arkansas",
           58
          ],
          [
           "Arkansas",
           62
          ],
          [
           "Arkansas",
           57
          ],
          [
           "Arkansas",
           61
          ],
          [
           "Arkansas",
           66
          ],
          [
           "Arkansas",
           76
          ],
          [
           "Arkansas",
           73
          ],
          [
           "Arkansas",
           75
          ],
          [
           "Arkansas",
           70
          ],
          [
           "Arkansas",
           67
          ],
          [
           "Arkansas",
           76
          ],
          [
           "Arkansas",
           77
          ],
          [
           "Arkansas",
           82
          ],
          [
           "Arkansas",
           73
          ],
          [
           "Arkansas",
           62.06976744186046
          ],
          [
           "Arkansas",
           91
          ],
          [
           "Arkansas",
           62.06976744186046
          ],
          [
           "Arkansas",
           62.06976744186046
          ],
          [
           "Arkansas",
           62.06976744186046
          ],
          [
           "Arkansas",
           87
          ],
          [
           "Arkansas",
           62.06976744186046
          ],
          [
           "Arkansas",
           62.06976744186046
          ],
          [
           "Arkansas",
           74
          ],
          [
           "Arkansas",
           62.06976744186046
          ],
          [
           "Arkansas",
           62.06976744186046
          ],
          [
           "Arkansas",
           62.06976744186046
          ],
          [
           "Arkansas",
           62.06976744186046
          ],
          [
           "Arkansas",
           86
          ],
          [
           "Arkansas",
           62.06976744186046
          ],
          [
           "Arkansas",
           100
          ]
         ],
         "hovertemplate": "State=%{customdata[0]}<br>Year=%{x}<br>Potash Usage (%)=%{y}<br>Potash (Pounds/Acre)=%{customdata[1]}<extra></extra>",
         "legendgroup": "Arkansas",
         "marker": {
          "color": "#00cc96",
          "symbol": "circle"
         },
         "mode": "markers",
         "name": "Arkansas",
         "orientation": "v",
         "showlegend": true,
         "type": "scatter",
         "x": {
          "bdata": "rAetB64HrwewB7EHsgezB7QHtQe2B7cHuAe5B7oHuwe8B70Hvge/B8AHwQfCB8MHxAfFB8YHxwfIB8kHygfLB8wHzQfOB88H0AfRB9IH0wfUB9UH1gfXB9gH2QfaB9sH3AfdB94H3wfgB+EH",
          "dtype": "i2"
         },
         "xaxis": "x",
         "y": {
          "bdata": "AAAAAABAUEAAAAAAAEBSQAAAAAAAAFNAAAAAAADAU0AAAAAAAIBOQAAAAAAAAFFAAAAAAACAT0AAAAAAAEBQQAAAAAAAgFFAAAAAAABAUUAAAAAAAMBSQAAAAAAAAFJAAAAAAABAU0AAAAAAAIBTQAAAAAAAgFJAAAAAAADAVEAAAAAAAEBVQAAAAAAAAE9AAAAAAAAAUkAAAAAAAIBRQAAAAAAAgFRAAAAAAABAU0AAAAAAAEBUQAAAAAAAwFNAAAAAAADAUkAAAAAAAMBRQAAAAAAAwFVAAAAAAABAUkAAAAAAAIBSQAAAAAAAgFJAAAAAAABAVEAAAAAAAEBVQAAAAAAAwFFAAAAAAADAVkAAAAAAAABWQAAAAAAAQFVAAAAAAAAAVUAAAAAAAABRQDZlTVlTFlNAAAAAAACAVkA2ZU1ZUxZTQDZlTVlTFlNANmVNWVMWU0AAAAAAAEBVQDZlTVlTFlNANmVNWVMWU0AAAAAAAIBVQDZlTVlTFlNANmVNWVMWU0A2ZU1ZUxZTQDZlTVlTFlNAAAAAAAAAVEA2ZU1ZUxZTQAAAAAAAwFNA",
          "dtype": "f8"
         },
         "yaxis": "y"
        },
        {
         "hovertemplate": "<b>OLS trendline</b><br>Potash (%) = 0.197586 * Year + -316.947<br>R<sup>2</sup>=0.201004<br><br>State=Arkansas<br>Year=%{x}<br>Potash Usage (%)=%{y} <b>(trend)</b><extra></extra>",
         "legendgroup": "Arkansas",
         "marker": {
          "color": "#00cc96",
          "symbol": "circle"
         },
         "mode": "lines",
         "name": "Arkansas",
         "showlegend": false,
         "type": "scatter",
         "x": {
          "bdata": "rAetB64HrwewB7EHsgezB7QHtQe2B7cHuAe5B7oHuwe8B70Hvge/B8AHwQfCB8MHxAfFB8YHxwfIB8kHygfLB8wHzQfOB88H0AfRB9IH0wfUB9UH1gfXB9gH2QfaB9sH3AfdB94H3wfgB+EH",
          "dtype": "i2"
         },
         "xaxis": "x",
         "y": {
          "bdata": "1O+8JzjHUUBQnWZo3dNRQNBKEKmC4FFATPi56SftUUDMpWMqzflRQExTDWtyBlJAyAC3qxcTUkBIrmDsvB9SQMRbCi1iLFJARAm0bQc5UkDEtl2urEVSQEBkB+9RUlJAwBGxL/deUkA8v1pwnGtSQLxsBLFBeFJAOBqu8eaEUkC4x1cyjJFSQDh1AXMxnlJAtCKrs9aqUkA00FT0e7dSQLB9/jQhxFJAMCuodcbQUkCw2FG2a91SQCyG+/YQ6lJArDOlN7b2UkAo4U54WwNTQKiO+LgAEFNAKDyi+aUcU0Ck6Us6SylTQCSX9XrwNVNAoESfu5VCU0Ag8kj8Ok9TQJyf8jzgW1NAHE2cfYVoU0Cc+kW+KnVTQBio7/7PgVNAmFWZP3WOU0AUA0OAGptTQJSw7MC/p1NAFF6WAWW0U0CQC0BCCsFTQBC56YKvzVNAjGaTw1TaU0AMFD0E+uZTQIzB5kSf81NACG+QhUQAVECIHDrG6QxUQATK4waPGVRAhHeNRzQmVEAAJTeI2TJUQIDS4Mh+P1RAAICKCSRMVEB8LTRKyVhUQPza3YpuZVRA",
          "dtype": "f8"
         },
         "yaxis": "y"
        },
        {
         "customdata": [
          [
           "California",
           26
          ],
          [
           "California",
           52.432432432432435
          ],
          [
           "California",
           16
          ],
          [
           "California",
           74
          ],
          [
           "California",
           46
          ],
          [
           "California",
           31
          ],
          [
           "California",
           24
          ],
          [
           "California",
           37
          ],
          [
           "California",
           49
          ],
          [
           "California",
           50
          ],
          [
           "California",
           22
          ],
          [
           "California",
           43
          ],
          [
           "California",
           70
          ],
          [
           "California",
           50
          ],
          [
           "California",
           67
          ],
          [
           "California",
           44
          ],
          [
           "California",
           75
          ],
          [
           "California",
           84
          ],
          [
           "California",
           39
          ],
          [
           "California",
           38
          ],
          [
           "California",
           87
          ],
          [
           "California",
           112
          ],
          [
           "California",
           24
          ],
          [
           "California",
           52.432432432432435
          ],
          [
           "California",
           39
          ],
          [
           "California",
           14
          ],
          [
           "California",
           40
          ],
          [
           "California",
           38
          ],
          [
           "California",
           42
          ],
          [
           "California",
           52.432432432432435
          ],
          [
           "California",
           39
          ],
          [
           "California",
           72
          ],
          [
           "California",
           58
          ],
          [
           "California",
           72
          ],
          [
           "California",
           83
          ],
          [
           "California",
           97
          ],
          [
           "California",
           58
          ],
          [
           "California",
           52.432432432432435
          ],
          [
           "California",
           52.432432432432435
          ],
          [
           "California",
           84
          ],
          [
           "California",
           52.432432432432435
          ],
          [
           "California",
           52.432432432432435
          ],
          [
           "California",
           52.432432432432435
          ],
          [
           "California",
           48
          ],
          [
           "California",
           52.432432432432435
          ],
          [
           "California",
           52.432432432432435
          ],
          [
           "California",
           52.432432432432435
          ],
          [
           "California",
           52.432432432432435
          ],
          [
           "California",
           52.432432432432435
          ],
          [
           "California",
           52.432432432432435
          ],
          [
           "California",
           52.432432432432435
          ],
          [
           "California",
           48
          ],
          [
           "California",
           52.432432432432435
          ],
          [
           "California",
           52.432432432432435
          ]
         ],
         "hovertemplate": "State=%{customdata[0]}<br>Year=%{x}<br>Potash Usage (%)=%{y}<br>Potash (Pounds/Acre)=%{customdata[1]}<extra></extra>",
         "legendgroup": "California",
         "marker": {
          "color": "#ab63fa",
          "symbol": "circle"
         },
         "mode": "markers",
         "name": "California",
         "orientation": "v",
         "showlegend": true,
         "type": "scatter",
         "x": {
          "bdata": "rAetB64HrwewB7EHsgezB7QHtQe2B7cHuAe5B7oHuwe8B70Hvge/B8AHwQfCB8MHxAfFB8YHxwfIB8kHygfLB8wHzQfOB88H0AfRB9IH0wfUB9UH1gfXB9gH2QfaB9sH3AfdB94H3wfgB+EH",
          "dtype": "i2"
         },
         "xaxis": "x",
         "y": {
          "bdata": "AAAAAAAAIECU11BeQ3kkQAAAAAAAABBAAAAAAAAAGEAAAAAAAAAYQAAAAAAAAPA/AAAAAAAAIkAAAAAAAAAYQAAAAAAAAChAAAAAAAAAIkAAAAAAAAAkQAAAAAAAAPA/AAAAAAAAHEAAAAAAAAAkQAAAAAAAACBAAAAAAAAAFEAAAAAAAAAIQAAAAAAAABRAAAAAAAAAEEAAAAAAAAAYQAAAAAAAAABAAAAAAAAACEAAAAAAAAAAQJTXUF5DeSRAAAAAAAAAMEAAAAAAAAAqQAAAAAAAAAhAAAAAAAAAJEAAAAAAAAAUQAAAAAAAABhAAAAAAAAAOEAAAAAAAAA1QAAAAAAAADBAAAAAAAAAOkAAAAAAAAAqQAAAAAAAADNAAAAAAAAAKECU11BeQ3kkQJTXUF5DeSRAAAAAAAAAOUCU11BeQ3kkQJTXUF5DeSRAlNdQXkN5JEAAAAAAAAA0QJTXUF5DeSRAlNdQXkN5JECU11BeQ3kkQJTXUF5DeSRAlNdQXkN5JECU11BeQ3kkQJTXUF5DeSRAAAAAAACAQECU11BeQ3kkQJTXUF5DeSRA",
          "dtype": "f8"
         },
         "yaxis": "y"
        },
        {
         "hovertemplate": "<b>OLS trendline</b><br>Potash (%) = 0.193745 * Year + -375.412<br>R<sup>2</sup>=0.215313<br><br>State=California<br>Year=%{x}<br>Potash Usage (%)=%{y} <b>(trend)</b><extra></extra>",
         "legendgroup": "California",
         "marker": {
          "color": "#ab63fa",
          "symbol": "circle"
         },
         "mode": "lines",
         "name": "California",
         "showlegend": false,
         "type": "scatter",
         "x": {
          "bdata": "rAetB64HrwewB7EHsgezB7QHtQe2B7cHuAe5B7oHuwe8B70Hvge/B8AHwQfCB8MHxAfFB8YHxwfIB8kHygfLB8wHzQfOB88H0AfRB9IH0wfUB9UH1gfXB9gH2QfaB9sH3AfdB94H3wfgB+EH",
          "dtype": "i2"
         },
         "xaxis": "x",
         "y": {
          "bdata": "QPXPSBFpFEAAWANSdi8VQAC7Nlvb9RVAwB1qZEC8FkCAgJ1tpYIXQEDj0HYKSRhAAEYEgG8PGUDAqDeJ1NUZQMALa5I5nBpAgG6em55iG0BA0dGkAykcQAA0Ba5o7xxAwJY4t821HUDA+WvAMnweQIBcn8mXQh9AoF9paX4EIEAAEQPusGcgQGDCnHLjyiBAwHM29xUuIUBAJdB7SJEhQKDWaQB79CFAAIgDha1XIkBgOZ0J4LoiQMDqNo4SHiNAIJzQEkWBI0CgTWqXd+QjQAD/AxyqRyRAYLCdoNyqJEDAYTclDw4lQCAT0alBcSVAoMRqLnTUJUAAdgSzpjcmQGAnnjfZmiZAwNg3vAv+JkAgitFAPmEnQIA7a8VwxCdAAO0ESqMnKEBgnp7O1YooQMBPOFMI7ihAIAHS1zpRKUCAsmtcbbQpQOBjBeGfFypAYBWfZdJ6KkDAxjjqBN4qQCB40m43QStAgCls82mkK0Dg2gV4nAcsQECMn/zOaixAwD05gQHOLEAg79IFNDEtQICgbIpmlC1A4FEGD5n3LUBAA6CTy1ouQMC0ORj+vS5A",
          "dtype": "f8"
         },
         "yaxis": "y"
        },
        {
         "customdata": [
          [
           "Georgia",
           89
          ],
          [
           "Georgia",
           89
          ],
          [
           "Georgia",
           104
          ],
          [
           "Georgia",
           95
          ],
          [
           "Georgia",
           94
          ],
          [
           "Georgia",
           92
          ],
          [
           "Georgia",
           85
          ],
          [
           "Georgia",
           90
          ],
          [
           "Georgia",
           91
          ],
          [
           "Georgia",
           102
          ],
          [
           "Georgia",
           103
          ],
          [
           "Georgia",
           84
          ],
          [
           "Georgia",
           88
          ],
          [
           "Georgia",
           110
          ],
          [
           "Georgia",
           93
          ],
          [
           "Georgia",
           79
          ],
          [
           "Georgia",
           77
          ],
          [
           "Georgia",
           83
          ],
          [
           "Georgia",
           89
          ],
          [
           "Georgia",
           73
          ],
          [
           "Georgia",
           88
          ],
          [
           "Georgia",
           86
          ],
          [
           "Georgia",
           88
          ],
          [
           "Georgia",
           91.55882352941177
          ],
          [
           "Georgia",
           91.55882352941177
          ],
          [
           "Georgia",
           91.55882352941177
          ],
          [
           "Georgia",
           91.55882352941177
          ],
          [
           "Georgia",
           91.55882352941177
          ],
          [
           "Georgia",
           91.55882352941177
          ],
          [
           "Georgia",
           91.55882352941177
          ],
          [
           "Georgia",
           91.55882352941177
          ],
          [
           "Georgia",
           91.55882352941177
          ],
          [
           "Georgia",
           106
          ],
          [
           "Georgia",
           93
          ],
          [
           "Georgia",
           97
          ],
          [
           "Georgia",
           109
          ],
          [
           "Georgia",
           84
          ],
          [
           "Georgia",
           85
          ],
          [
           "Georgia",
           91.55882352941177
          ],
          [
           "Georgia",
           90
          ],
          [
           "Georgia",
           91.55882352941177
          ],
          [
           "Georgia",
           91.55882352941177
          ],
          [
           "Georgia",
           91.55882352941177
          ],
          [
           "Georgia",
           87
          ],
          [
           "Georgia",
           91.55882352941177
          ],
          [
           "Georgia",
           91.55882352941177
          ],
          [
           "Georgia",
           105
          ],
          [
           "Georgia",
           91.55882352941177
          ],
          [
           "Georgia",
           91.55882352941177
          ],
          [
           "Georgia",
           91.55882352941177
          ],
          [
           "Georgia",
           91.55882352941177
          ],
          [
           "Georgia",
           96
          ],
          [
           "Georgia",
           91.55882352941177
          ],
          [
           "Georgia",
           89
          ]
         ],
         "hovertemplate": "State=%{customdata[0]}<br>Year=%{x}<br>Potash Usage (%)=%{y}<br>Potash (Pounds/Acre)=%{customdata[1]}<extra></extra>",
         "legendgroup": "Georgia",
         "marker": {
          "color": "#FFA15A",
          "symbol": "circle"
         },
         "mode": "markers",
         "name": "Georgia",
         "orientation": "v",
         "showlegend": true,
         "type": "scatter",
         "x": {
          "bdata": "rAetB64HrwewB7EHsgezB7QHtQe2B7cHuAe5B7oHuwe8B70Hvge/B8AHwQfCB8MHxAfFB8YHxwfIB8kHygfLB8wHzQfOB88H0AfRB9IH0wfUB9UH1gfXB9gH2QfaB9sH3AfdB94H3wfgB+EH",
          "dtype": "i2"
         },
         "xaxis": "x",
         "y": {
          "bdata": "AAAAAAAAWUAAAAAAAMBYQAAAAAAAAFlAAAAAAAAAWUAAAAAAAABZQAAAAAAAgFhAAAAAAAAAWUAAAAAAAABZQAAAAAAAgFhAAAAAAAAAWUAAAAAAAABZQAAAAAAAAFlAAAAAAACAWEAAAAAAAABZQAAAAAAAAFlAAAAAAADAWEAAAAAAAIBYQAAAAAAAQFVAAAAAAAAAWUAAAAAAAABZQAAAAAAAgFhAAAAAAAAAWUAAAAAAAIBWQAAAAAAAQFhAAAAAAABAWEAAAAAAAEBYQAAAAAAAQFhAAAAAAABAWEAAAAAAAEBYQAAAAAAAQFhAAAAAAABAWEAAAAAAAEBYQAAAAAAAQFhAAAAAAADAWEAAAAAAAABXQAAAAAAAAFlAAAAAAABAV0AAAAAAAEBXQAAAAAAAQFhAAAAAAADAVkAAAAAAAEBYQAAAAAAAQFhAAAAAAABAWEAAAAAAAMBWQAAAAAAAQFhAAAAAAABAWEAAAAAAAMBWQAAAAAAAQFhAAAAAAABAWEAAAAAAAEBYQAAAAAAAQFhAAAAAAABAWEAAAAAAAEBYQAAAAAAAwFZA",
          "dtype": "f8"
         },
         "yaxis": "y"
        },
        {
         "hovertemplate": "<b>OLS trendline</b><br>Potash (%) = -0.0938441 * Year + 283.797<br>R<sup>2</sup>=0.211579<br><br>State=Georgia<br>Year=%{x}<br>Potash Usage (%)=%{y} <b>(trend)</b><extra></extra>",
         "legendgroup": "Georgia",
         "marker": {
          "color": "#FFA15A",
          "symbol": "circle"
         },
         "mode": "lines",
         "name": "Georgia",
         "showlegend": false,
         "type": "scatter",
         "x": {
          "bdata": "rAetB64HrwewB7EHsgezB7QHtQe2B7cHuAe5B7oHuwe8B70Hvge/B8AHwQfCB8MHxAfFB8YHxwfIB8kHygfLB8wHzQfOB88H0AfRB9IH0wfUB9UH1gfXB9gH2QfaB9sH3AfdB94H3wfgB+EH",
          "dtype": "i2"
         },
         "xaxis": "x",
         "y": {
          "bdata": "BuNH2yjfWECOSZdQJ9lYQBSw5sUl01hAmhY2OyTNWEAifYWwIsdYQKjj1CUhwVhAMEokmx+7WEC2sHMQHrVYQD4Xw4Ucr1hAxH0S+xqpWEBK5GFwGaNYQNJKseUXnVhAWLEAWxaXWEDgF1DQFJFYQGZ+n0UTi1hA7uTuuhGFWEB0Sz4wEH9YQPyxjaUOeVhAghjdGg1zWEAIfyyQC21YQJDlewUKZ1hAFkzLeghhWECeshrwBltYQCQZamUFVVhArH+52gNPWEAy5ghQAklYQLpMWMUAQ1hAQLOnOv88WEDGGfev/TZYQE6ARiX8MFhA1OaVmvoqWEBcTeUP+SRYQOKzNIX3HlhAahqE+vUYWEDwgNNv9BJYQHbnIuXyDFhA/k1yWvEGWECEtMHP7wBYQAwbEUXu+ldAkoFguuz0V0Aa6K8v6+5XQKBO/6Tp6FdAKLVOGujiV0CuG56P5txXQDSC7QTl1ldAvOg8euPQV0BCT4zv4cpXQMq122TgxFdAUBwr2t6+V0DYgnpP3bhXQF7pycTbsldA5E8ZOtqsV0Bstmiv2KZXQPIcuCTXoFdA",
          "dtype": "f8"
         },
         "yaxis": "y"
        },
        {
         "customdata": [
          [
           "Louisiana",
           35
          ],
          [
           "Louisiana",
           41
          ],
          [
           "Louisiana",
           48
          ],
          [
           "Louisiana",
           50
          ],
          [
           "Louisiana",
           46
          ],
          [
           "Louisiana",
           47
          ],
          [
           "Louisiana",
           50
          ],
          [
           "Louisiana",
           53
          ],
          [
           "Louisiana",
           56
          ],
          [
           "Louisiana",
           60
          ],
          [
           "Louisiana",
           51
          ],
          [
           "Louisiana",
           45
          ],
          [
           "Louisiana",
           52
          ],
          [
           "Louisiana",
           49
          ],
          [
           "Louisiana",
           49
          ],
          [
           "Louisiana",
           53
          ],
          [
           "Louisiana",
           52
          ],
          [
           "Louisiana",
           51
          ],
          [
           "Louisiana",
           53
          ],
          [
           "Louisiana",
           58
          ],
          [
           "Louisiana",
           59
          ],
          [
           "Louisiana",
           64
          ],
          [
           "Louisiana",
           48
          ],
          [
           "Louisiana",
           55
          ],
          [
           "Louisiana",
           58
          ],
          [
           "Louisiana",
           55
          ],
          [
           "Louisiana",
           62
          ],
          [
           "Louisiana",
           79
          ],
          [
           "Louisiana",
           75
          ],
          [
           "Louisiana",
           66
          ],
          [
           "Louisiana",
           59
          ],
          [
           "Louisiana",
           73
          ],
          [
           "Louisiana",
           67
          ],
          [
           "Louisiana",
           70
          ],
          [
           "Louisiana",
           76
          ],
          [
           "Louisiana",
           68
          ],
          [
           "Louisiana",
           70
          ],
          [
           "Louisiana",
           77
          ],
          [
           "Louisiana",
           57.7
          ],
          [
           "Louisiana",
           52
          ],
          [
           "Louisiana",
           57.7
          ],
          [
           "Louisiana",
           57.7
          ],
          [
           "Louisiana",
           57.7
          ],
          [
           "Louisiana",
           76
          ],
          [
           "Louisiana",
           57.7
          ],
          [
           "Louisiana",
           57.7
          ],
          [
           "Louisiana",
           57.7
          ],
          [
           "Louisiana",
           57.7
          ],
          [
           "Louisiana",
           57.7
          ],
          [
           "Louisiana",
           57.7
          ],
          [
           "Louisiana",
           57.7
          ],
          [
           "Louisiana",
           57.7
          ],
          [
           "Louisiana",
           57.7
          ],
          [
           "Louisiana",
           57.7
          ]
         ],
         "hovertemplate": "State=%{customdata[0]}<br>Year=%{x}<br>Potash Usage (%)=%{y}<br>Potash (Pounds/Acre)=%{customdata[1]}<extra></extra>",
         "legendgroup": "Louisiana",
         "marker": {
          "color": "#19d3f3",
          "symbol": "circle"
         },
         "mode": "markers",
         "name": "Louisiana",
         "orientation": "v",
         "showlegend": true,
         "type": "scatter",
         "x": {
          "bdata": "rAetB64HrwewB7EHsgezB7QHtQe2B7cHuAe5B7oHuwe8B70Hvge/B8AHwQfCB8MHxAfFB8YHxwfIB8kHygfLB8wHzQfOB88H0AfRB9IH0wfUB9UH1gfXB9gH2QfaB9sH3AfdB94H3wfgB+EH",
          "dtype": "i2"
         },
         "xaxis": "x",
         "y": {
          "bdata": "AAAAAABAUUAAAAAAAABQQAAAAAAAAE1AAAAAAAAAT0AAAAAAAIBJQAAAAAAAAFBAAAAAAAAATEAAAAAAAEBRQAAAAAAAgFFAAAAAAAAATkAAAAAAAIBNQAAAAAAAAElAAAAAAACAT0AAAAAAAIBOQAAAAAAAQFRAAAAAAABAUEAAAAAAAABXQAAAAAAAAFRAAAAAAAAAUkAAAAAAAIBRQAAAAAAAQFNAAAAAAAAAU0AAAAAAAEBSQAAAAAAAwFFAAAAAAABAUEAAAAAAAABSQAAAAAAAAE9AAAAAAACARUAAAAAAAIBNQAAAAAAAAEpAAAAAAAAAREAAAAAAAABIQAAAAAAAwFBAAAAAAAAAU0AAAAAAAEBSQAAAAAAAgEZAAAAAAACAUEAAAAAAAABKQAAAAAAA8E9AAAAAAACATUAAAAAAAPBPQAAAAAAA8E9AAAAAAADwT0AAAAAAAIBPQAAAAAAA8E9AAAAAAADwT0AAAAAAAPBPQAAAAAAA8E9AAAAAAADwT0AAAAAAAPBPQAAAAAAA8E9AAAAAAADwT0AAAAAAAPBPQAAAAAAA8E9A",
          "dtype": "f8"
         },
         "yaxis": "y"
        },
        {
         "hovertemplate": "<b>OLS trendline</b><br>Potash (%) = -0.0535068 * Year + 170.38<br>R<sup>2</sup>=0.007892<br><br>State=Louisiana<br>Year=%{x}<br>Potash Usage (%)=%{y} <b>(trend)</b><extra></extra>",
         "legendgroup": "Louisiana",
         "marker": {
          "color": "#19d3f3",
          "symbol": "circle"
         },
         "mode": "lines",
         "name": "Louisiana",
         "showlegend": false,
         "type": "scatter",
         "x": {
          "bdata": "rAetB64HrwewB7EHsgezB7QHtQe2B7cHuAe5B7oHuwe8B70Hvge/B8AHwQfCB8MHxAfFB8YHxwfIB8kHygfLB8wHzQfOB88H0AfRB9IH0wfUB9UH1gfXB9gH2QfaB9sH3AfdB94H3wfgB+EH",
          "dtype": "i2"
         },
         "xaxis": "x",
         "y": {
          "bdata": "20qBWr9SUEBnBN2yUk9QQPS9OAvmS1BAgHeUY3lIUEAMMfC7DEVQQJjqSxSgQVBAJKSnbDM+UECwXQPFxjpQQDwXXx1aN1BAydC6de0zUEBVihbOgDBQQOFDciYULVBAbf3NfqcpUED5tinXOiZQQIVwhS/OIlBAESrhh2EfUECe4zzg9BtQQCqdmDiIGFBAtlb0kBsVUEBCEFDprhFQQM7Jq0FCDlBAWoMHmtUKUEDnPGPyaAdQQHP2vkr8A1BA/68ao48AUEAW0+z2RfpPQC5GpKds809ARrlbWJPsT0BeLBMJuuVPQHifyrng3k9AkBKCagfYT0CohTkbLtFPQMD48MtUyk9A2GuofHvDT0Dw3l8torxPQApSF97ItU9AIsXOju+uT0A6OIY/FqhPQFKrPfA8oU9Aah71oGOaT0CCkaxRipNPQJoEZAKxjE9AtHcbs9eFT0DM6tJj/n5PQORdihQleE9A/NBBxUtxT0AURPl1cmpPQCy3sCaZY09ARipo179cT0BenR+I5lVPQHYQ1zgNT09AjoOO6TNIT0Cm9kWaWkFPQL5p/UqBOk9A",
          "dtype": "f8"
         },
         "yaxis": "y"
        },
        {
         "customdata": [
          [
           "Mississippi",
           50
          ],
          [
           "Mississippi",
           55
          ],
          [
           "Mississippi",
           55
          ],
          [
           "Mississippi",
           57
          ],
          [
           "Mississippi",
           53
          ],
          [
           "Mississippi",
           57
          ],
          [
           "Mississippi",
           61
          ],
          [
           "Mississippi",
           63
          ],
          [
           "Mississippi",
           65
          ],
          [
           "Mississippi",
           65
          ],
          [
           "Mississippi",
           64
          ],
          [
           "Mississippi",
           66
          ],
          [
           "Mississippi",
           54
          ],
          [
           "Mississippi",
           57
          ],
          [
           "Mississippi",
           59
          ],
          [
           "Mississippi",
           63
          ],
          [
           "Mississippi",
           55
          ],
          [
           "Mississippi",
           59
          ],
          [
           "Mississippi",
           65
          ],
          [
           "Mississippi",
           63
          ],
          [
           "Mississippi",
           68
          ],
          [
           "Mississippi",
           59
          ],
          [
           "Mississippi",
           63
          ],
          [
           "Mississippi",
           71
          ],
          [
           "Mississippi",
           59
          ],
          [
           "Mississippi",
           65
          ],
          [
           "Mississippi",
           78
          ],
          [
           "Mississippi",
           76
          ],
          [
           "Mississippi",
           98
          ],
          [
           "Mississippi",
           94
          ],
          [
           "Mississippi",
           101
          ],
          [
           "Mississippi",
           86
          ],
          [
           "Mississippi",
           100
          ],
          [
           "Mississippi",
           95
          ],
          [
           "Mississippi",
           99
          ],
          [
           "Mississippi",
           109
          ],
          [
           "Mississippi",
           97
          ],
          [
           "Mississippi",
           98
          ],
          [
           "Mississippi",
           74.69767441860465
          ],
          [
           "Mississippi",
           106
          ],
          [
           "Mississippi",
           74.69767441860465
          ],
          [
           "Mississippi",
           74.69767441860465
          ],
          [
           "Mississippi",
           74.69767441860465
          ],
          [
           "Mississippi",
           106
          ],
          [
           "Mississippi",
           74.69767441860465
          ],
          [
           "Mississippi",
           74.69767441860465
          ],
          [
           "Mississippi",
           91
          ],
          [
           "Mississippi",
           74.69767441860465
          ],
          [
           "Mississippi",
           74.69767441860465
          ],
          [
           "Mississippi",
           74.69767441860465
          ],
          [
           "Mississippi",
           74.69767441860465
          ],
          [
           "Mississippi",
           116
          ],
          [
           "Mississippi",
           74.69767441860465
          ],
          [
           "Mississippi",
           91
          ]
         ],
         "hovertemplate": "State=%{customdata[0]}<br>Year=%{x}<br>Potash Usage (%)=%{y}<br>Potash (Pounds/Acre)=%{customdata[1]}<extra></extra>",
         "legendgroup": "Mississippi",
         "marker": {
          "color": "#FF6692",
          "symbol": "circle"
         },
         "mode": "markers",
         "name": "Mississippi",
         "orientation": "v",
         "showlegend": true,
         "type": "scatter",
         "x": {
          "bdata": "rAetB64HrwewB7EHsgezB7QHtQe2B7cHuAe5B7oHuwe8B70Hvge/B8AHwQfCB8MHxAfFB8YHxwfIB8kHygfLB8wHzQfOB88H0AfRB9IH0wfUB9UH1gfXB9gH2QfaB9sH3AfdB94H3wfgB+EH",
          "dtype": "i2"
         },
         "xaxis": "x",
         "y": {
          "bdata": "AAAAAACATUAAAAAAAABLQAAAAAAAAFJAAAAAAAAATUAAAAAAAABPQAAAAAAAgE1AAAAAAAAARUAAAAAAAIBFQAAAAAAAgEdAAAAAAAAASUAAAAAAAABHQAAAAAAAAEhAAAAAAAAAREAAAAAAAABGQAAAAAAAAENAAAAAAACAQEAAAAAAAABBQAAAAAAAAEhAAAAAAACAREAAAAAAAABJQAAAAAAAAEdAAAAAAAAARkAAAAAAAIBIQAAAAAAAAE5AAAAAAAAATEAAAAAAAIBOQAAAAAAAAExAAAAAAAAAUUAAAAAAAEBSQAAAAAAAAFFAAAAAAACAUEAAAAAAAABOQAAAAAAAAExAAAAAAABAU0AAAAAAAMBQQAAAAAAAQFBAAAAAAAAAUUAAAAAAAABHQFlT1pQ1ZUtAAAAAAACAUUBZU9aUNWVLQFlT1pQ1ZUtAWVPWlDVlS0AAAAAAAABLQFlT1pQ1ZUtAWVPWlDVlS0AAAAAAAIBKQFlT1pQ1ZUtAWVPWlDVlS0BZU9aUNWVLQFlT1pQ1ZUtAAAAAAABAUEBZU9aUNWVLQAAAAAAAAE5A",
          "dtype": "f8"
         },
         "yaxis": "y"
        },
        {
         "hovertemplate": "<b>OLS trendline</b><br>Potash (%) = 0.192087 * Year + -327.558<br>R<sup>2</sup>=0.093380<br><br>State=Mississippi<br>Year=%{x}<br>Potash Usage (%)=%{y} <b>(trend)</b><extra></extra>",
         "legendgroup": "Mississippi",
         "marker": {
          "color": "#FF6692",
          "symbol": "circle"
         },
         "mode": "lines",
         "name": "Mississippi",
         "showlegend": false,
         "type": "scatter",
         "x": {
          "bdata": "rAetB64HrwewB7EHsgezB7QHtQe2B7cHuAe5B7oHuwe8B70Hvge/B8AHwQfCB8MHxAfFB8YHxwfIB8kHygfLB8wHzQfOB88H0AfRB9IH0wfUB9UH1gfXB9gH2QfaB9sH3AfdB94H3wfgB+EH",
          "dtype": "i2"
         },
         "xaxis": "x",
         "y": {
          "bdata": "gJKGr6bZSEBQNM37PPJIQCjWE0jTCklAAHhalGkjSUDYGaHg/ztJQLC75yyWVElAgF0ueSxtSUBY/3TFwoVJQDChuxFZnklACEMCXu+2SUDg5Eiqhc9JQLCGj/Yb6ElAiCjWQrIASkBgyhyPSBlKQDhsY9veMUpAEA6qJ3VKSkDgr/BzC2NKQLhRN8Che0pAkPN9DDiUSkBolcRYzqxKQDg3C6VkxUpAENlR8frdSkDoepg9kfZKQMAc34knD0tAmL4l1r0nS0BoYGwiVEBLQEACs27qWEtAGKT5uoBxS0DwRUAHF4pLQMjnhlOtoktAmInNn0O7S0BwKxTs2dNLQEjNWjhw7EtAIG+hhAYFTED4EOjQnB1MQMiyLh0zNkxAoFR1aclOTEB49ru1X2dMQFCYAgL2f0xAIDpJToyYTED424+aIrFMQNB91ua4yUxAqB8dM0/iTECAwWN/5fpMQFBjqst7E01AKAXxFxIsTUAApzdkqERNQNhIfrA+XU1AsOrE/NR1TUCAjAtJa45NQFguUpUBp01AMNCY4Ze/TUAIct8tLthNQOATJnrE8E1A",
          "dtype": "f8"
         },
         "yaxis": "y"
        },
        {
         "customdata": [
          [
           "Missouri",
           59
          ],
          [
           "Missouri",
           49
          ],
          [
           "Missouri",
           61
          ],
          [
           "Missouri",
           56
          ],
          [
           "Missouri",
           52
          ],
          [
           "Missouri",
           57
          ],
          [
           "Missouri",
           44
          ],
          [
           "Missouri",
           50
          ],
          [
           "Missouri",
           56
          ],
          [
           "Missouri",
           77
          ],
          [
           "Missouri",
           73
          ],
          [
           "Missouri",
           56
          ],
          [
           "Missouri",
           57
          ],
          [
           "Missouri",
           62
          ],
          [
           "Missouri",
           51
          ],
          [
           "Missouri",
           52
          ],
          [
           "Missouri",
           75
          ],
          [
           "Missouri",
           67
          ],
          [
           "Missouri",
           80
          ],
          [
           "Missouri",
           68
          ],
          [
           "Missouri",
           66
          ],
          [
           "Missouri",
           62
          ],
          [
           "Missouri",
           63
          ],
          [
           "Missouri",
           64.2
          ],
          [
           "Missouri",
           64.2
          ],
          [
           "Missouri",
           64.2
          ],
          [
           "Missouri",
           64.2
          ],
          [
           "Missouri",
           64.2
          ],
          [
           "Missouri",
           64.2
          ],
          [
           "Missouri",
           64.2
          ],
          [
           "Missouri",
           64.2
          ],
          [
           "Missouri",
           64.2
          ],
          [
           "Missouri",
           64.2
          ],
          [
           "Missouri",
           78
          ],
          [
           "Missouri",
           64.2
          ],
          [
           "Missouri",
           64.2
          ],
          [
           "Missouri",
           88
          ],
          [
           "Missouri",
           64.2
          ],
          [
           "Missouri",
           64.2
          ],
          [
           "Missouri",
           80
          ],
          [
           "Missouri",
           64.2
          ],
          [
           "Missouri",
           64.2
          ],
          [
           "Missouri",
           64.2
          ],
          [
           "Missouri",
           68
          ],
          [
           "Missouri",
           64.2
          ],
          [
           "Missouri",
           64.2
          ],
          [
           "Missouri",
           87
          ],
          [
           "Missouri",
           64.2
          ],
          [
           "Missouri",
           64.2
          ],
          [
           "Missouri",
           64.2
          ],
          [
           "Missouri",
           64.2
          ],
          [
           "Missouri",
           62
          ],
          [
           "Missouri",
           64.2
          ],
          [
           "Missouri",
           70
          ]
         ],
         "hovertemplate": "State=%{customdata[0]}<br>Year=%{x}<br>Potash Usage (%)=%{y}<br>Potash (Pounds/Acre)=%{customdata[1]}<extra></extra>",
         "legendgroup": "Missouri",
         "marker": {
          "color": "#B6E880",
          "symbol": "circle"
         },
         "mode": "markers",
         "name": "Missouri",
         "orientation": "v",
         "showlegend": true,
         "type": "scatter",
         "x": {
          "bdata": "rAetB64HrwewB7EHsgezB7QHtQe2B7cHuAe5B7oHuwe8B70Hvge/B8AHwQfCB8MHxAfFB8YHxwfIB8kHygfLB8wHzQfOB88H0AfRB9IH0wfUB9UH1gfXB9gH2QfaB9sH3AfdB94H3wfgB+EH",
          "dtype": "i2"
         },
         "xaxis": "x",
         "y": {
          "bdata": "AAAAAADAV0AAAAAAAABYQAAAAAAAAFhAAAAAAACAV0AAAAAAAABXQAAAAAAAwFZAAAAAAAAAVUAAAAAAAMBVQAAAAAAAwFZAAAAAAABAWEAAAAAAAEBWQAAAAAAAwFVAAAAAAADAVkAAAAAAAABWQAAAAAAAgFdAAAAAAAAAWUAAAAAAAABZQAAAAAAAQFVAAAAAAADAVEAAAAAAAABZQAAAAAAAAFlAAAAAAACAWEAAAAAAAABWQLy7u7u7G1dAvLu7u7sbV0C8u7u7uxtXQLy7u7u7G1dAvLu7u7sbV0C8u7u7uxtXQLy7u7u7G1dAvLu7u7sbV0C8u7u7uxtXQLy7u7u7G1dAAAAAAADAV0C8u7u7uxtXQLy7u7u7G1dAAAAAAADAV0C8u7u7uxtXQLy7u7u7G1dAAAAAAABAVEC8u7u7uxtXQLy7u7u7G1dAvLu7u7sbV0AAAAAAAMBXQLy7u7u7G1dAvLu7u7sbV0AAAAAAAEBXQLy7u7u7G1dAvLu7u7sbV0C8u7u7uxtXQLy7u7u7G1dAAAAAAAAAV0C8u7u7uxtXQAAAAAAAAFhA",
          "dtype": "f8"
         },
         "yaxis": "y"
        },
        {
         "hovertemplate": "<b>OLS trendline</b><br>Potash (%) = 0.00670351 * Year + 79.09<br>R<sup>2</sup>=0.000725<br><br>State=Missouri<br>Year=%{x}<br>Potash Usage (%)=%{y} <b>(trend)</b><extra></extra>",
         "legendgroup": "Missouri",
         "marker": {
          "color": "#B6E880",
          "symbol": "circle"
         },
         "mode": "lines",
         "name": "Missouri",
         "showlegend": false,
         "type": "scatter",
         "x": {
          "bdata": "rAetB64HrwewB7EHsgezB7QHtQe2B7cHuAe5B7oHuwe8B70Hvge/B8AHwQfCB8MHxAfFB8YHxwfIB8kHygfLB8wHzQfOB88H0AfRB9IH0wfUB9UH1gfXB9gH2QfaB9sH3AfdB94H3wfgB+EH",
          "dtype": "i2"
         },
         "xaxis": "x",
         "y": {
          "bdata": "UwyUOl0QV0CKcyYPyxBXQMHauOM4EVdA+EFLuKYRV0Avqd2MFBJXQGYQcGGCEldAnXcCNvASV0DU3pQKXhNXQApGJ9/LE1dAQq25szkUV0B4FEyIpxRXQK973lwVFVdA5uJwMYMVV0AdSgMG8RVXQFSxldpeFldAixgor8wWV0DCf7qDOhdXQPnmTFioF1dAME7fLBYYV0BntXEBhBhXQJ4cBNbxGFdA1IOWql8ZV0AL6yh/zRlXQEJSu1M7GldAeblNKKkaV0CwIOD8FhtXQOeHctGEG1dAHu8EpvIbV0BVVpd6YBxXQIy9KU/OHFdAwyS8IzwdV0D6i074qR1XQDDz4MwXHldAZ1pzoYUeV0CewQV28x5XQNUomEphH1dADJAqH88fV0BD97zzPCBXQHpeT8iqIFdAscXhnBghV0DoLHRxhiFXQB+UBkb0IVdAVvuYGmIiV0CMYivvzyJXQMTJvcM9I1dA+jBQmKsjV0AxmOJsGSRXQGj/dEGHJFdAn2YHFvUkV0DWzZnqYiVXQA01LL/QJVdARJy+kz4mV0B7A1ForCZXQLJq4zwaJ1dA",
          "dtype": "f8"
         },
         "yaxis": "y"
        },
        {
         "customdata": [
          [
           "New Mexico",
           20.210526315789473
          ],
          [
           "New Mexico",
           28
          ],
          [
           "New Mexico",
           23
          ],
          [
           "New Mexico",
           40
          ],
          [
           "New Mexico",
           41
          ],
          [
           "New Mexico",
           20.210526315789473
          ],
          [
           "New Mexico",
           17
          ],
          [
           "New Mexico",
           12
          ],
          [
           "New Mexico",
           31
          ],
          [
           "New Mexico",
           18
          ],
          [
           "New Mexico",
           26
          ],
          [
           "New Mexico",
           18
          ],
          [
           "New Mexico",
           22
          ],
          [
           "New Mexico",
           20.210526315789473
          ],
          [
           "New Mexico",
           20.210526315789473
          ],
          [
           "New Mexico",
           15
          ],
          [
           "New Mexico",
           10
          ],
          [
           "New Mexico",
           19
          ],
          [
           "New Mexico",
           37
          ],
          [
           "New Mexico",
           1
          ],
          [
           "New Mexico",
           6
          ],
          [
           "New Mexico",
           14
          ],
          [
           "New Mexico",
           6
          ],
          [
           "New Mexico",
           20.210526315789473
          ],
          [
           "New Mexico",
           20.210526315789473
          ],
          [
           "New Mexico",
           20.210526315789473
          ],
          [
           "New Mexico",
           20.210526315789473
          ],
          [
           "New Mexico",
           20.210526315789473
          ],
          [
           "New Mexico",
           20.210526315789473
          ],
          [
           "New Mexico",
           20.210526315789473
          ],
          [
           "New Mexico",
           20.210526315789473
          ],
          [
           "New Mexico",
           20.210526315789473
          ],
          [
           "New Mexico",
           20.210526315789473
          ],
          [
           "New Mexico",
           20.210526315789473
          ],
          [
           "New Mexico",
           20.210526315789473
          ],
          [
           "New Mexico",
           20.210526315789473
          ],
          [
           "New Mexico",
           20.210526315789473
          ],
          [
           "New Mexico",
           20.210526315789473
          ],
          [
           "New Mexico",
           20.210526315789473
          ],
          [
           "New Mexico",
           20.210526315789473
          ],
          [
           "New Mexico",
           20.210526315789473
          ],
          [
           "New Mexico",
           20.210526315789473
          ],
          [
           "New Mexico",
           20.210526315789473
          ],
          [
           "New Mexico",
           20.210526315789473
          ],
          [
           "New Mexico",
           20.210526315789473
          ],
          [
           "New Mexico",
           20.210526315789473
          ],
          [
           "New Mexico",
           20.210526315789473
          ],
          [
           "New Mexico",
           20.210526315789473
          ],
          [
           "New Mexico",
           20.210526315789473
          ],
          [
           "New Mexico",
           20.210526315789473
          ],
          [
           "New Mexico",
           20.210526315789473
          ],
          [
           "New Mexico",
           20.210526315789473
          ],
          [
           "New Mexico",
           20.210526315789473
          ],
          [
           "New Mexico",
           20.210526315789473
          ]
         ],
         "hovertemplate": "State=%{customdata[0]}<br>Year=%{x}<br>Potash Usage (%)=%{y}<br>Potash (Pounds/Acre)=%{customdata[1]}<extra></extra>",
         "legendgroup": "New Mexico",
         "marker": {
          "color": "#FF97FF",
          "symbol": "circle"
         },
         "mode": "markers",
         "name": "New Mexico",
         "orientation": "v",
         "showlegend": true,
         "type": "scatter",
         "x": {
          "bdata": "rAetB64HrwewB7EHsgezB7QHtQe2B7cHuAe5B7oHuwe8B70Hvge/B8AHwQfCB8MHxAfFB8YHxwfIB8kHygfLB8wHzQfOB88H0AfRB9IH0wfUB9UH1gfXB9gH2QfaB9sH3AfdB94H3wfgB+EH",
          "dtype": "i2"
         },
         "xaxis": "x",
         "y": {
          "bdata": "8xrKayivIUAAAAAAAAAUQAAAAAAAACJAAAAAAAAAIkAAAAAAAAAqQPMaymsoryFAAAAAAAAAGEAAAAAAAAAmQAAAAAAAACJAAAAAAAAAFEAAAAAAAAAwQAAAAAAAACpAAAAAAAAAIEDzGsprKK8hQPMaymsoryFAAAAAAAAALEAAAAAAAAAAQAAAAAAAAChAAAAAAAAAIEAAAAAAAAAiQAAAAAAAACxAAAAAAAAAAEAAAAAAAAAIQPMaymsoryFA8xrKayivIUDzGsprKK8hQPMaymsoryFA8xrKayivIUDzGsprKK8hQPMaymsoryFA8xrKayivIUDzGsprKK8hQPMaymsoryFA8xrKayivIUDzGsprKK8hQPMaymsoryFA8xrKayivIUDzGsprKK8hQPMaymsoryFA8xrKayivIUDzGsprKK8hQPMaymsoryFA8xrKayivIUDzGsprKK8hQPMaymsoryFA8xrKayivIUDzGsprKK8hQPMaymsoryFA8xrKayivIUDzGsprKK8hQPMaymsoryFA8xrKayivIUDzGsprKK8hQPMaymsoryFA",
          "dtype": "f8"
         },
         "yaxis": "y"
        },
        {
         "hovertemplate": "<b>OLS trendline</b><br>Potash (%) = -0.00564934 * Year + 20.0871<br>R<sup>2</sup>=0.001306<br><br>State=New Mexico<br>Year=%{x}<br>Potash Usage (%)=%{y} <b>(trend)</b><extra></extra>",
         "legendgroup": "New Mexico",
         "marker": {
          "color": "#FF97FF",
          "symbol": "circle"
         },
         "mode": "lines",
         "name": "New Mexico",
         "showlegend": false,
         "type": "scatter",
         "x": {
          "bdata": "rAetB64HrwewB7EHsgezB7QHtQe2B7cHuAe5B7oHuwe8B70Hvge/B8AHwQfCB8MHxAfFB8YHxwfIB8kHygfLB8wHzQfOB88H0AfRB9IH0wfUB9UH1gfXB9gH2QfaB9sH3AfdB94H3wfgB+EH",
          "dtype": "i2"
         },
         "xaxis": "x",
         "y": {
          "bdata": "qx9a5c77IUCoGtds6vghQKUVVPQF9iFAoxDReyHzIUCgC04DPfAhQJ0Gy4pY7SFAmgFIEnTqIUCX/MSZj+chQJX3QSGr5CFAkvK+qMbhIUCP7Tsw4t4hQIzouLf92yFAieM1PxnZIUCH3rLGNNYhQITZL05Q0yFAgdSs1WvQIUB+zyldh80hQHvKpuSiyiFAecUjbL7HIUB2wKDz2cQhQHO7HXv1wSFAcLaaAhG/IUBtsReKLLwhQGuslBFIuSFAaKcRmWO2IUBloo4gf7MhQGKdC6iasCFAX5iIL7atIUBdkwW30aohQFqOgj7tpyFAV4n/xQilIUBUhHxNJKIhQFF/+dQ/nyFAT3p2XFucIUBMdfPjdpkhQElwcGuSliFARmvt8q2TIUBDZmp6yZAhQEFh5wHljSFAPlxkiQCLIUA7V+EQHIghQDhSXpg3hSFANU3bH1OCIUAzSFinbn8hQDBD1S6KfCFALT5StqV5IUAqOc89wXYhQCc0TMXccyFAJS/JTPhwIUAiKkbUE24hQB8lw1svayFAHCBA40poIUAaG71qZmUhQBcWOvKBYiFA",
          "dtype": "f8"
         },
         "yaxis": "y"
        },
        {
         "customdata": [
          [
           "North Carolina",
           69
          ],
          [
           "North Carolina",
           69
          ],
          [
           "North Carolina",
           68
          ],
          [
           "North Carolina",
           80
          ],
          [
           "North Carolina",
           75
          ],
          [
           "North Carolina",
           70
          ],
          [
           "North Carolina",
           75
          ],
          [
           "North Carolina",
           70
          ],
          [
           "North Carolina",
           84
          ],
          [
           "North Carolina",
           92
          ],
          [
           "North Carolina",
           90
          ],
          [
           "North Carolina",
           82
          ],
          [
           "North Carolina",
           81
          ],
          [
           "North Carolina",
           87
          ],
          [
           "North Carolina",
           87
          ],
          [
           "North Carolina",
           87
          ],
          [
           "North Carolina",
           87
          ],
          [
           "North Carolina",
           87
          ],
          [
           "North Carolina",
           87
          ],
          [
           "North Carolina",
           87
          ],
          [
           "North Carolina",
           87
          ],
          [
           "North Carolina",
           87
          ],
          [
           "North Carolina",
           87
          ],
          [
           "North Carolina",
           87
          ],
          [
           "North Carolina",
           87
          ],
          [
           "North Carolina",
           87
          ],
          [
           "North Carolina",
           87
          ],
          [
           "North Carolina",
           87
          ],
          [
           "North Carolina",
           87
          ],
          [
           "North Carolina",
           87
          ],
          [
           "North Carolina",
           87
          ],
          [
           "North Carolina",
           87
          ],
          [
           "North Carolina",
           87
          ],
          [
           "North Carolina",
           99
          ],
          [
           "North Carolina",
           108
          ],
          [
           "North Carolina",
           107
          ],
          [
           "North Carolina",
           116
          ],
          [
           "North Carolina",
           87
          ],
          [
           "North Carolina",
           87
          ],
          [
           "North Carolina",
           106
          ],
          [
           "North Carolina",
           87
          ],
          [
           "North Carolina",
           87
          ],
          [
           "North Carolina",
           87
          ],
          [
           "North Carolina",
           99
          ],
          [
           "North Carolina",
           87
          ],
          [
           "North Carolina",
           87
          ],
          [
           "North Carolina",
           96
          ],
          [
           "North Carolina",
           87
          ],
          [
           "North Carolina",
           87
          ],
          [
           "North Carolina",
           87
          ],
          [
           "North Carolina",
           87
          ],
          [
           "North Carolina",
           80
          ],
          [
           "North Carolina",
           87
          ],
          [
           "North Carolina",
           98
          ]
         ],
         "hovertemplate": "State=%{customdata[0]}<br>Year=%{x}<br>Potash Usage (%)=%{y}<br>Potash (Pounds/Acre)=%{customdata[1]}<extra></extra>",
         "legendgroup": "North Carolina",
         "marker": {
          "color": "#FECB52",
          "symbol": "circle"
         },
         "mode": "markers",
         "name": "North Carolina",
         "orientation": "v",
         "showlegend": true,
         "type": "scatter",
         "x": {
          "bdata": "rAetB64HrwewB7EHsgezB7QHtQe2B7cHuAe5B7oHuwe8B70Hvge/B8AHwQfCB8MHxAfFB8YHxwfIB8kHygfLB8wHzQfOB88H0AfRB9IH0wfUB9UH1gfXB9gH2QfaB9sH3AfdB94H3wfgB+EH",
          "dtype": "i2"
         },
         "xaxis": "x",
         "y": {
          "bdata": "AAAAAAAAWUAAAAAAAABZQAAAAAAAgFhAAAAAAAAAWUAAAAAAAABZQAAAAAAAgFZAAAAAAAAAWUAAAAAAAABZQAAAAAAAAFlAAAAAAACAWEAAAAAAAABZQAAAAAAAgFhAAAAAAAAAWUCMLrroostXQIwuuuiiy1dAjC666KLLV0CMLrroostXQIwuuuiiy1dAjC666KLLV0CMLrroostXQIwuuuiiy1dAjC666KLLV0CMLrroostXQIwuuuiiy1dAjC666KLLV0CMLrroostXQIwuuuiiy1dAjC666KLLV0CMLrroostXQIwuuuiiy1dAjC666KLLV0CMLrroostXQIwuuuiiy1dAAAAAAABAVUAAAAAAAEBXQAAAAAAAAFhAAAAAAADAVkCMLrroostXQIwuuuiiy1dAAAAAAABAV0CMLrroostXQIwuuuiiy1dAjC666KLLV0AAAAAAAEBWQIwuuuiiy1dAjC666KLLV0AAAAAAAMBVQIwuuuiiy1dAjC666KLLV0CMLrroostXQIwuuuiiy1dAAAAAAABAVkCMLrroostXQAAAAAAAwFVA",
          "dtype": "f8"
         },
         "yaxis": "y"
        },
        {
         "hovertemplate": "<b>OLS trendline</b><br>Potash (%) = -0.131615 * Year + 357.161<br>R<sup>2</sup>=0.377909<br><br>State=North Carolina<br>Year=%{x}<br>Potash Usage (%)=%{y} <b>(trend)</b><extra></extra>",
         "legendgroup": "North Carolina",
         "marker": {
          "color": "#FECB52",
          "symbol": "circle"
         },
         "mode": "lines",
         "name": "North Carolina",
         "showlegend": false,
         "type": "scatter",
         "x": {
          "bdata": "rAetB64HrwewB7EHsgezB7QHtQe2B7cHuAe5B7oHuwe8B70Hvge/B8AHwQfCB8MHxAfFB8YHxwfIB8kHygfLB8wHzQfOB88H0AfRB9IH0wfUB9UH1gfXB9gH2QfaB9sH3AfdB94H3wfgB+EH",
          "dtype": "i2"
         },
         "xaxis": "x",
         "y": {
          "bdata": "JOOGz9qqWEAsxN9vbqJYQDClOBACmlhAOIaRsJWRWEBAZ+pQKYlYQEhIQ/G8gFhAUCmckVB4WEBYCvUx5G9YQGDrTdJ3Z1hAaMymcgtfWEBsrf8Sn1ZYQHSOWLMyTlhAfG+xU8ZFWECEUAr0WT1YQIwxY5TtNFhAlBK8NIEsWECc8xTVFCRYQKTUbXWoG1hAqLXGFTwTWECwlh+2zwpYQLh3eFZjAlhAwFjR9vb5V0DIOSqXivFXQNAagzce6VdA2Pvb17HgV0Dg3DR4RdhXQOS9jRjZz1dA7J7muGzHV0D0fz9ZAL9XQPxgmPmTtldABELxmSeuV0AMI0o6u6VXQBQEo9pOnVdAHOX7euKUV0AgxlQbdoxXQCinrbsJhFdAMIgGXJ17V0A4aV/8MHNXQEBKuJzEaldASCsRPVhiV0BQDGrd61lXQFjtwn1/UVdAXM4bHhNJV0Bkr3S+pkBXQGyQzV46OFdAdHEm/80vV0B8Un+fYSdXQIQz2D/1HldAjBQx4IgWV0CQ9YmAHA5XQJjW4iCwBVdAoLc7wUP9VkComJRh1/RWQLB57QFr7FZA",
          "dtype": "f8"
         },
         "yaxis": "y"
        },
        {
         "customdata": [
          [
           "Oklahoma",
           14
          ],
          [
           "Oklahoma",
           14
          ],
          [
           "Oklahoma",
           19
          ],
          [
           "Oklahoma",
           13
          ],
          [
           "Oklahoma",
           14
          ],
          [
           "Oklahoma",
           17
          ],
          [
           "Oklahoma",
           13
          ],
          [
           "Oklahoma",
           15
          ],
          [
           "Oklahoma",
           26
          ],
          [
           "Oklahoma",
           17
          ],
          [
           "Oklahoma",
           15
          ],
          [
           "Oklahoma",
           16
          ],
          [
           "Oklahoma",
           14
          ],
          [
           "Oklahoma",
           15
          ],
          [
           "Oklahoma",
           15
          ],
          [
           "Oklahoma",
           23
          ],
          [
           "Oklahoma",
           15
          ],
          [
           "Oklahoma",
           24
          ],
          [
           "Oklahoma",
           23
          ],
          [
           "Oklahoma",
           18
          ],
          [
           "Oklahoma",
           12
          ],
          [
           "Oklahoma",
           10
          ],
          [
           "Oklahoma",
           15
          ],
          [
           "Oklahoma",
           17.541666666666668
          ],
          [
           "Oklahoma",
           17.541666666666668
          ],
          [
           "Oklahoma",
           17.541666666666668
          ],
          [
           "Oklahoma",
           17.541666666666668
          ],
          [
           "Oklahoma",
           17.541666666666668
          ],
          [
           "Oklahoma",
           17.541666666666668
          ],
          [
           "Oklahoma",
           17.541666666666668
          ],
          [
           "Oklahoma",
           17.541666666666668
          ],
          [
           "Oklahoma",
           17.541666666666668
          ],
          [
           "Oklahoma",
           17.541666666666668
          ],
          [
           "Oklahoma",
           17.541666666666668
          ],
          [
           "Oklahoma",
           17.541666666666668
          ],
          [
           "Oklahoma",
           17.541666666666668
          ],
          [
           "Oklahoma",
           17.541666666666668
          ],
          [
           "Oklahoma",
           17.541666666666668
          ],
          [
           "Oklahoma",
           17.541666666666668
          ],
          [
           "Oklahoma",
           17.541666666666668
          ],
          [
           "Oklahoma",
           17.541666666666668
          ],
          [
           "Oklahoma",
           17.541666666666668
          ],
          [
           "Oklahoma",
           17.541666666666668
          ],
          [
           "Oklahoma",
           17.541666666666668
          ],
          [
           "Oklahoma",
           17.541666666666668
          ],
          [
           "Oklahoma",
           17.541666666666668
          ],
          [
           "Oklahoma",
           17.541666666666668
          ],
          [
           "Oklahoma",
           17.541666666666668
          ],
          [
           "Oklahoma",
           17.541666666666668
          ],
          [
           "Oklahoma",
           17.541666666666668
          ],
          [
           "Oklahoma",
           17.541666666666668
          ],
          [
           "Oklahoma",
           17.541666666666668
          ],
          [
           "Oklahoma",
           17.541666666666668
          ],
          [
           "Oklahoma",
           44
          ]
         ],
         "hovertemplate": "State=%{customdata[0]}<br>Year=%{x}<br>Potash Usage (%)=%{y}<br>Potash (Pounds/Acre)=%{customdata[1]}<extra></extra>",
         "legendgroup": "Oklahoma",
         "marker": {
          "color": "#636efa",
          "symbol": "circle"
         },
         "mode": "markers",
         "name": "Oklahoma",
         "orientation": "v",
         "showlegend": true,
         "type": "scatter",
         "x": {
          "bdata": "rAetB64HrwewB7EHsgezB7QHtQe2B7cHuAe5B7oHuwe8B70Hvge/B8AHwQfCB8MHxAfFB8YHxwfIB8kHygfLB8wHzQfOB88H0AfRB9IH0wfUB9UH1gfXB9gH2QfaB9sH3AfdB94H3wfgB+EH",
          "dtype": "i2"
         },
         "xaxis": "x",
         "y": {
          "bdata": "AAAAAACAQEAAAAAAAABEQAAAAAAAAERAAAAAAACAREAAAAAAAIBBQAAAAAAAAEVAAAAAAACAQEAAAAAAAIBCQAAAAAAAgEFAAAAAAACAQUAAAAAAAIBEQAAAAAAAADBAAAAAAAAAREAAAAAAAAA6QAAAAAAAgEFAAAAAAAAAQUAAAAAAAAA8QAAAAAAAAC5AAAAAAAAALkAAAAAAAAA6QAAAAAAAABBAAAAAAAAACEAAAAAAAAA5QFVVVVVVFT1AVVVVVVUVPUBVVVVVVRU9QFVVVVVVFT1AVVVVVVUVPUBVVVVVVRU9QFVVVVVVFT1AVVVVVVUVPUBVVVVVVRU9QFVVVVVVFT1AVVVVVVUVPUBVVVVVVRU9QFVVVVVVFT1AVVVVVVUVPUBVVVVVVRU9QFVVVVVVFT1AVVVVVVUVPUBVVVVVVRU9QFVVVVVVFT1AVVVVVVUVPUBVVVVVVRU9QFVVVVVVFT1AVVVVVVUVPUBVVVVVVRU9QFVVVVVVFT1AVVVVVVUVPUBVVVVVVRU9QFVVVVVVFT1AVVVVVVUVPUBVVVVVVRU9QAAAAAAAADNA",
          "dtype": "f8"
         },
         "yaxis": "y"
        },
        {
         "hovertemplate": "<b>OLS trendline</b><br>Potash (%) = -0.12834 * Year + 284.544<br>R<sup>2</sup>=0.070108<br><br>State=Oklahoma<br>Year=%{x}<br>Potash Usage (%)=%{y} <b>(trend)</b><extra></extra>",
         "legendgroup": "Oklahoma",
         "marker": {
          "color": "#636efa",
          "symbol": "circle"
         },
         "mode": "lines",
         "name": "Oklahoma",
         "showlegend": false,
         "type": "scatter",
         "x": {
          "bdata": "rAetB64HrwewB7EHsgezB7QHtQe2B7cHuAe5B7oHuwe8B70Hvge/B8AHwQfCB8MHxAfFB8YHxwfIB8kHygfLB8wHzQfOB88H0AfRB9IH0wfUB9UH1gfXB9gH2QfaB9sH3AfdB94H3wfgB+EH",
          "dtype": "i2"
         },
         "xaxis": "x",
         "y": {
          "bdata": "7EQ19/49QEAIszmFkS1AQCQhPhMkHUBAQI9CobYMQEC4+o1ekvg/QPDWlnq31z9AKLOflty2P0Bgj6iyAZY/QJhrsc4mdT9AyEe66ktUP0AAJMMGcTM/QDgAzCKWEj9AcNzUPrvxPkCouN1a4NA+QOCU5nYFsD5AGHHvkiqPPkBQTfiuT24+QIgpAct0TT5AwAUK55ksPkD44RIDvws+QDC+Gx/k6j1AaJokOwnKPUCgdi1XLqk9QNhSNnNTiD1AEC8/j3hnPUBIC0irnUY9QIDnUMfCJT1AuMNZ4+cEPUDwn2L/DOQ8QCh8axsywzxAYFh0N1eiPECQNH1TfIE8QNAQhm+hYDxAAO2Oi8Y/PEBAyZen6x48QHCloMMQ/jtAsIGp3zXdO0DgXbL7Wrw7QCA6uxeAmztAUBbEM6V6O0CQ8sxPylk7QMDO1WvvODtAAKvehxQYO0Awh+ejOfc6QHBj8L9e1jpAoD/524O1OkDgGwL4qJQ6QBD4ChTOczpAUNQTMPNSOkCAsBxMGDI6QMCMJWg9ETpA8GguhGLwOUAwRTegh885QGAhQLysrjlA",
          "dtype": "f8"
         },
         "yaxis": "y"
        },
        {
         "customdata": [
          [
           "South Carolina",
           88
          ],
          [
           "South Carolina",
           89
          ],
          [
           "South Carolina",
           90
          ],
          [
           "South Carolina",
           89
          ],
          [
           "South Carolina",
           101
          ],
          [
           "South Carolina",
           98
          ],
          [
           "South Carolina",
           90
          ],
          [
           "South Carolina",
           96
          ],
          [
           "South Carolina",
           102
          ],
          [
           "South Carolina",
           102
          ],
          [
           "South Carolina",
           108
          ],
          [
           "South Carolina",
           99
          ],
          [
           "South Carolina",
           113
          ],
          [
           "South Carolina",
           110
          ],
          [
           "South Carolina",
           98.92307692307692
          ],
          [
           "South Carolina",
           102
          ],
          [
           "South Carolina",
           97
          ],
          [
           "South Carolina",
           97
          ],
          [
           "South Carolina",
           84
          ],
          [
           "South Carolina",
           102
          ],
          [
           "South Carolina",
           103
          ],
          [
           "South Carolina",
           90
          ],
          [
           "South Carolina",
           96
          ],
          [
           "South Carolina",
           98.92307692307692
          ],
          [
           "South Carolina",
           98.92307692307692
          ],
          [
           "South Carolina",
           98.92307692307692
          ],
          [
           "South Carolina",
           98.92307692307692
          ],
          [
           "South Carolina",
           98.92307692307692
          ],
          [
           "South Carolina",
           98.92307692307692
          ],
          [
           "South Carolina",
           98.92307692307692
          ],
          [
           "South Carolina",
           98.92307692307692
          ],
          [
           "South Carolina",
           98.92307692307692
          ],
          [
           "South Carolina",
           98.92307692307692
          ],
          [
           "South Carolina",
           118
          ],
          [
           "South Carolina",
           98.92307692307692
          ],
          [
           "South Carolina",
           98.92307692307692
          ],
          [
           "South Carolina",
           98.92307692307692
          ],
          [
           "South Carolina",
           98.92307692307692
          ],
          [
           "South Carolina",
           98.92307692307692
          ],
          [
           "South Carolina",
           109
          ],
          [
           "South Carolina",
           98.92307692307692
          ],
          [
           "South Carolina",
           98.92307692307692
          ],
          [
           "South Carolina",
           98.92307692307692
          ],
          [
           "South Carolina",
           94
          ],
          [
           "South Carolina",
           98.92307692307692
          ],
          [
           "South Carolina",
           98.92307692307692
          ],
          [
           "South Carolina",
           98.92307692307692
          ],
          [
           "South Carolina",
           98.92307692307692
          ],
          [
           "South Carolina",
           98.92307692307692
          ],
          [
           "South Carolina",
           98.92307692307692
          ],
          [
           "South Carolina",
           98.92307692307692
          ],
          [
           "South Carolina",
           105
          ],
          [
           "South Carolina",
           98.92307692307692
          ],
          [
           "South Carolina",
           98.92307692307692
          ]
         ],
         "hovertemplate": "State=%{customdata[0]}<br>Year=%{x}<br>Potash Usage (%)=%{y}<br>Potash (Pounds/Acre)=%{customdata[1]}<extra></extra>",
         "legendgroup": "South Carolina",
         "marker": {
          "color": "#EF553B",
          "symbol": "circle"
         },
         "mode": "markers",
         "name": "South Carolina",
         "orientation": "v",
         "showlegend": true,
         "type": "scatter",
         "x": {
          "bdata": "rAetB64HrwewB7EHsgezB7QHtQe2B7cHuAe5B7oHuwe8B70Hvge/B8AHwQfCB8MHxAfFB8YHxwfIB8kHygfLB8wHzQfOB88H0AfRB9IH0wfUB9UH1gfXB9gH2QfaB9sH3AfdB94H3wfgB+EH",
          "dtype": "i2"
         },
         "xaxis": "x",
         "y": {
          "bdata": "AAAAAAAAWUAAAAAAAABZQAAAAAAAAFlAAAAAAAAAWUAAAAAAAABZQAAAAAAAQFhAAAAAAAAAWUAAAAAAAMBYQAAAAAAAwFhAAAAAAADAWEAAAAAAAMBYQAAAAAAAAFlAAAAAAAAAWUAAAAAAAMBYQOzETuzETlhAAAAAAAAAWUAAAAAAAABXQAAAAAAAQFhAAAAAAACAVUAAAAAAAABZQAAAAAAAgFhAAAAAAACAWEAAAAAAAEBVQOzETuzETlhA7MRO7MROWEDsxE7sxE5YQOzETuzETlhA7MRO7MROWEDsxE7sxE5YQOzETuzETlhA7MRO7MROWEDsxE7sxE5YQOzETuzETlhAAAAAAAAAWUDsxE7sxE5YQOzETuzETlhA7MRO7MROWEDsxE7sxE5YQOzETuzETlhAAAAAAACAVkDsxE7sxE5YQOzETuzETlhA7MRO7MROWEAAAAAAAIBXQOzETuzETlhA7MRO7MROWEDsxE7sxE5YQOzETuzETlhA7MRO7MROWEDsxE7sxE5YQOzETuzETlhAAAAAAAAAWEDsxE7sxE5YQOzETuzETlhA",
          "dtype": "f8"
         },
         "yaxis": "y"
        },
        {
         "hovertemplate": "<b>OLS trendline</b><br>Potash (%) = -0.0484438 * Year + 193.658<br>R<sup>2</sup>=0.065692<br><br>State=South Carolina<br>Year=%{x}<br>Potash Usage (%)=%{y} <b>(trend)</b><extra></extra>",
         "legendgroup": "South Carolina",
         "marker": {
          "color": "#EF553B",
          "symbol": "circle"
         },
         "mode": "lines",
         "name": "South Carolina",
         "showlegend": false,
         "type": "scatter",
         "x": {
          "bdata": "rAetB64HrwewB7EHsgezB7QHtQe2B7cHuAe5B7oHuwe8B70Hvge/B8AHwQfCB8MHxAfFB8YHxwfIB8kHygfLB8wHzQfOB88H0AfRB9IH0wfUB9UH1gfXB9gH2QfaB9sH3AfdB94H3wfgB+EH",
          "dtype": "i2"
         },
         "xaxis": "x",
         "y": {
          "bdata": "ne3gDu6gWECmadta1J1YQK7l1aa6mlhAtmHQ8qCXWEC/3co+h5RYQMdZxYptkVhAz9W/1lOOWEDYUboiOotYQODNtG4giFhA6EmvugaFWEDxxakG7YFYQPlBpFLTflhAAb6enrl7WEAKOpnqn3hYQBK2kzaGdVhAGjKOgmxyWEAirojOUm9YQCsqgxo5bFhAM6Z9Zh9pWEA7IniyBWZYQESecv7rYlhATBptStJfWEBUlmeWuFxYQF0SYuKeWVhAZY5cLoVWWEBtCld6a1NYQHaGUcZRUFhAfgJMEjhNWECGfkZeHkpYQI/6QKoER1hAl3Y79upDWECf8jVC0UBYQKhuMI63PVhAsOoq2p06WEC4ZiUmhDdYQMDiH3JqNFhAyV4avlAxWEDR2hQKNy5YQNlWD1YdK1hA4tIJogMoWEDqTgTu6SRYQPLK/jnQIVhA+0b5hbYeWEADw/PRnBtYQAs/7h2DGFhAFLvoaWkVWEAcN+O1TxJYQCSz3QE2D1hALS/YTRwMWEA1q9KZAglYQD0nzeXoBVhARqPHMc8CWEBOH8J9tf9XQFabvMmb/FdA",
          "dtype": "f8"
         },
         "yaxis": "y"
        },
        {
         "customdata": [
          [
           "Tennessee",
           56
          ],
          [
           "Tennessee",
           62
          ],
          [
           "Tennessee",
           66
          ],
          [
           "Tennessee",
           63
          ],
          [
           "Tennessee",
           59
          ],
          [
           "Tennessee",
           60
          ],
          [
           "Tennessee",
           64
          ],
          [
           "Tennessee",
           63
          ],
          [
           "Tennessee",
           64
          ],
          [
           "Tennessee",
           69
          ],
          [
           "Tennessee",
           61
          ],
          [
           "Tennessee",
           58
          ],
          [
           "Tennessee",
           64
          ],
          [
           "Tennessee",
           69
          ],
          [
           "Tennessee",
           74
          ],
          [
           "Tennessee",
           79
          ],
          [
           "Tennessee",
           74
          ],
          [
           "Tennessee",
           73.09375
          ],
          [
           "Tennessee",
           68
          ],
          [
           "Tennessee",
           71
          ],
          [
           "Tennessee",
           68
          ],
          [
           "Tennessee",
           67
          ],
          [
           "Tennessee",
           71
          ],
          [
           "Tennessee",
           73.09375
          ],
          [
           "Tennessee",
           73.09375
          ],
          [
           "Tennessee",
           73.09375
          ],
          [
           "Tennessee",
           73.09375
          ],
          [
           "Tennessee",
           73.09375
          ],
          [
           "Tennessee",
           73.09375
          ],
          [
           "Tennessee",
           73.09375
          ],
          [
           "Tennessee",
           73.09375
          ],
          [
           "Tennessee",
           73.09375
          ],
          [
           "Tennessee",
           88
          ],
          [
           "Tennessee",
           88
          ],
          [
           "Tennessee",
           91
          ],
          [
           "Tennessee",
           89
          ],
          [
           "Tennessee",
           90
          ],
          [
           "Tennessee",
           73.09375
          ],
          [
           "Tennessee",
           73.09375
          ],
          [
           "Tennessee",
           86
          ],
          [
           "Tennessee",
           73.09375
          ],
          [
           "Tennessee",
           73.09375
          ],
          [
           "Tennessee",
           73.09375
          ],
          [
           "Tennessee",
           88
          ],
          [
           "Tennessee",
           73.09375
          ],
          [
           "Tennessee",
           73.09375
          ],
          [
           "Tennessee",
           87
          ],
          [
           "Tennessee",
           73.09375
          ],
          [
           "Tennessee",
           73.09375
          ],
          [
           "Tennessee",
           73.09375
          ],
          [
           "Tennessee",
           73.09375
          ],
          [
           "Tennessee",
           91
          ],
          [
           "Tennessee",
           73.09375
          ],
          [
           "Tennessee",
           91
          ]
         ],
         "hovertemplate": "State=%{customdata[0]}<br>Year=%{x}<br>Potash Usage (%)=%{y}<br>Potash (Pounds/Acre)=%{customdata[1]}<extra></extra>",
         "legendgroup": "Tennessee",
         "marker": {
          "color": "#00cc96",
          "symbol": "circle"
         },
         "mode": "markers",
         "name": "Tennessee",
         "orientation": "v",
         "showlegend": true,
         "type": "scatter",
         "x": {
          "bdata": "rAetB64HrwewB7EHsgezB7QHtQe2B7cHuAe5B7oHuwe8B70Hvge/B8AHwQfCB8MHxAfFB8YHxwfIB8kHygfLB8wHzQfOB88H0AfRB9IH0wfUB9UH1gfXB9gH2QfaB9sH3AfdB94H3wfgB+EH",
          "dtype": "i2"
         },
         "xaxis": "x",
         "y": {
          "bdata": "AAAAAACAWEAAAAAAAEBXQAAAAAAAgFZAAAAAAAAAV0AAAAAAAIBWQAAAAAAAQFhAAAAAAAAAWEAAAAAAAEBXQAAAAAAAwFdAAAAAAAAAWUAAAAAAAIBYQAAAAAAAwFhAAAAAAADAVkAAAAAAAABXQAAAAAAAwFdAAAAAAADAWEAAAAAAAIBXQAAAAAAAvFdAAAAAAABAWEAAAAAAAABZQAAAAAAAAFlAAAAAAACAV0AAAAAAAABZQAAAAAAAvFdAAAAAAAC8V0AAAAAAALxXQAAAAAAAvFdAAAAAAAC8V0AAAAAAALxXQAAAAAAAvFdAAAAAAAC8V0AAAAAAALxXQAAAAAAAwFhAAAAAAADAWEAAAAAAAABZQAAAAAAAAFlAAAAAAACAWEAAAAAAALxXQAAAAAAAvFdAAAAAAAAAWEAAAAAAALxXQAAAAAAAvFdAAAAAAAC8V0AAAAAAAABZQAAAAAAAvFdAAAAAAAC8V0AAAAAAAMBYQAAAAAAAvFdAAAAAAAC8V0AAAAAAALxXQAAAAAAAvFdAAAAAAACASEAAAAAAALxXQAAAAAAAwFdA",
          "dtype": "f8"
         },
         "yaxis": "y"
        },
        {
         "hovertemplate": "<b>OLS trendline</b><br>Potash (%) = -0.0608443 * Year + 216.048<br>R<sup>2</sup>=0.019410<br><br>State=Tennessee<br>Year=%{x}<br>Potash Usage (%)=%{y} <b>(trend)</b><extra></extra>",
         "legendgroup": "Tennessee",
         "marker": {
          "color": "#00cc96",
          "symbol": "circle"
         },
         "mode": "lines",
         "name": "Tennessee",
         "showlegend": false,
         "type": "scatter",
         "x": {
          "bdata": "rAetB64HrwewB7EHsgezB7QHtQe2B7cHuAe5B7oHuwe8B70Hvge/B8AHwQfCB8MHxAfFB8YHxwfIB8kHygfLB8wHzQfOB88H0AfRB9IH0wfUB9UH1gfXB9gH2QfaB9sH3AfdB94H3wfgB+EH",
          "dtype": "i2"
         },
         "xaxis": "x",
         "y": {
          "bdata": "57ydITEjWEDzsChCTB9YQP+ks2JnG1hAC5k+g4IXWEAXjcmjnRNYQCOBVMS4D1hAL3Xf5NMLWEA7aWoF7wdYQEdd9SUKBFhAUlGARiUAWEBeRQtnQPxXQGo5lodb+FdAdi0hqHb0V0CCIazIkfBXQI4VN+ms7FdAmgnCCcjoV0Cm/Uwq4+RXQLLx10r+4FdAvuViaxndV0DK2e2LNNlXQNbNeKxP1VdA4cEDzWrRV0DttY7thc1XQPmpGQ6hyVdABZ6kLrzFV0ARki9P18FXQB2Gum/yvVdAKXpFkA26V0A1btCwKLZXQEFiW9FDsldATVbm8V6uV0BZSnESeqpXQGQ+/DKVpldAcDKHU7CiV0B8JhJ0y55XQIganZTmmldAlA4otQGXV0CgArPVHJNXQKz2PfY3j1dAuOrIFlOLV0DE3lM3bodXQNDS3leJg1dA3MZpeKR/V0DouvSYv3tXQPOuf7nad1dA/6IK2vVzV0ALl5X6EHBXQBeLIBssbFdAI3+rO0doV0AvczZcYmRXQDtnwXx9YFdAR1tMnZhcV0BTT9e9s1hXQF9DYt7OVFdA",
          "dtype": "f8"
         },
         "yaxis": "y"
        },
        {
         "customdata": [
          [
           "Texas",
           16
          ],
          [
           "Texas",
           18
          ],
          [
           "Texas",
           18
          ],
          [
           "Texas",
           20
          ],
          [
           "Texas",
           18
          ],
          [
           "Texas",
           21
          ],
          [
           "Texas",
           21
          ],
          [
           "Texas",
           17
          ],
          [
           "Texas",
           19
          ],
          [
           "Texas",
           14
          ],
          [
           "Texas",
           17
          ],
          [
           "Texas",
           12
          ],
          [
           "Texas",
           16
          ],
          [
           "Texas",
           14
          ],
          [
           "Texas",
           16
          ],
          [
           "Texas",
           16
          ],
          [
           "Texas",
           14
          ],
          [
           "Texas",
           20
          ],
          [
           "Texas",
           20
          ],
          [
           "Texas",
           22
          ],
          [
           "Texas",
           15
          ],
          [
           "Texas",
           21
          ],
          [
           "Texas",
           13
          ],
          [
           "Texas",
           14
          ],
          [
           "Texas",
           13
          ],
          [
           "Texas",
           12
          ],
          [
           "Texas",
           17
          ],
          [
           "Texas",
           23
          ],
          [
           "Texas",
           20
          ],
          [
           "Texas",
           21
          ],
          [
           "Texas",
           20
          ],
          [
           "Texas",
           15
          ],
          [
           "Texas",
           21
          ],
          [
           "Texas",
           16
          ],
          [
           "Texas",
           19
          ],
          [
           "Texas",
           18
          ],
          [
           "Texas",
           19
          ],
          [
           "Texas",
           19
          ],
          [
           "Texas",
           17.58139534883721
          ],
          [
           "Texas",
           25
          ],
          [
           "Texas",
           17.58139534883721
          ],
          [
           "Texas",
           17.58139534883721
          ],
          [
           "Texas",
           17.58139534883721
          ],
          [
           "Texas",
           17
          ],
          [
           "Texas",
           17.58139534883721
          ],
          [
           "Texas",
           17.58139534883721
          ],
          [
           "Texas",
           15
          ],
          [
           "Texas",
           17.58139534883721
          ],
          [
           "Texas",
           17.58139534883721
          ],
          [
           "Texas",
           17.58139534883721
          ],
          [
           "Texas",
           17.58139534883721
          ],
          [
           "Texas",
           14
          ],
          [
           "Texas",
           17.58139534883721
          ],
          [
           "Texas",
           20
          ]
         ],
         "hovertemplate": "State=%{customdata[0]}<br>Year=%{x}<br>Potash Usage (%)=%{y}<br>Potash (Pounds/Acre)=%{customdata[1]}<extra></extra>",
         "legendgroup": "Texas",
         "marker": {
          "color": "#ab63fa",
          "symbol": "circle"
         },
         "mode": "markers",
         "name": "Texas",
         "orientation": "v",
         "showlegend": true,
         "type": "scatter",
         "x": {
          "bdata": "rAetB64HrwewB7EHsgezB7QHtQe2B7cHuAe5B7oHuwe8B70Hvge/B8AHwQfCB8MHxAfFB8YHxwfIB8kHygfLB8wHzQfOB88H0AfRB9IH0wfUB9UH1gfXB9gH2QfaB9sH3AfdB94H3wfgB+EH",
          "dtype": "i2"
         },
         "xaxis": "x",
         "y": {
          "bdata": "AAAAAAAAJEAAAAAAAAAmQAAAAAAAACxAAAAAAAAAKEAAAAAAAAAyQAAAAAAAACxAAAAAAAAAKkAAAAAAAAAoQAAAAAAAACZAAAAAAAAALkAAAAAAAAA4QAAAAAAAACJAAAAAAAAAKkAAAAAAAAAuQAAAAAAAACJAAAAAAAAAMUAAAAAAAAAyQAAAAAAAADVAAAAAAAAAKkAAAAAAAAAsQAAAAAAAADJAAAAAAAAANkAAAAAAAAAyQAAAAAAAADdAAAAAAAAANkAAAAAAAAA2QAAAAAAAADRAAAAAAAAAOUAAAAAAAAA7QAAAAAAAADpAAAAAAAAAOUAAAAAAAABAQAAAAAAAADRAAAAAAAAAPUAAAAAAAAA7QAAAAAAAADdAAAAAAAAAOkAAAAAAAAAsQAAAAAAAADNAAAAAAAAANEAAAAAAAAAzQAAAAAAAADNAAAAAAAAAM0AAAAAAAAA4QAAAAAAAADNAAAAAAAAAM0AAAAAAAAA+QAAAAAAAADNAAAAAAAAAM0AAAAAAAAAzQAAAAAAAADNAAAAAAAAAMEAAAAAAAAAzQAAAAAAAADlA",
          "dtype": "f8"
         },
         "yaxis": "y"
        },
        {
         "hovertemplate": "<b>OLS trendline</b><br>Potash (%) = 0.185401 * Year + -350.041<br>R<sup>2</sup>=0.281107<br><br>State=Texas<br>Year=%{x}<br>Potash Usage (%)=%{y} <b>(trend)</b><extra></extra>",
         "legendgroup": "Texas",
         "marker": {
          "color": "#ab63fa",
          "symbol": "circle"
         },
         "mode": "lines",
         "name": "Texas",
         "showlegend": false,
         "type": "scatter",
         "x": {
          "bdata": "rAetB64HrwewB7EHsgezB7QHtQe2B7cHuAe5B7oHuwe8B70Hvge/B8AHwQfCB8MHxAfFB8YHxwfIB8kHygfLB8wHzQfOB88H0AfRB9IH0wfUB9UH1gfXB9gH2QfaB9sH3AfdB94H3wfgB+EH",
          "dtype": "i2"
         },
         "xaxis": "x",
         "y": {
          "bdata": "gEtyDXosLEBgwcn0ZossQEA3IdxT6ixAQK14w0BJLUAgI9CqLagtQACZJ5IaBy5A4A5/eQdmLkDghNZg9MQuQMD6LUjhIy9AoHCFL86CL0CA5twWu+EvQDAuGv9TIDBAMOnFcspPMEAgpHHmQH8wQBBfHVq3rjBAABrJzS3eMEAA1XRBpA0xQPCPILUaPTFA4ErMKJFsMUDQBXicB5wxQNDAIxB+yzFAwHvPg/T6MUCwNnv3aioyQKDxJmvhWTJAoKzS3leJMkCQZ35SzrgyQIAiKsZE6DJAcN3VObsXM0BwmIGtMUczQGBTLSGodjNAUA7ZlB6mM0BAyYQIldUzQECEMHwLBTRAMD/c74E0NEAg+odj+GM0QBC1M9dukzRAAHDfSuXCNEAAK4u+W/I0QPDlNjLSITVA4KDipUhRNUDQW44Zv4A1QNAWOo01sDVAwNHlAKzfNUCwjJF0Ig82QKBHPeiYPjZAoALpWw9uNkCQvZTPhZ02QIB4QEP8zDZAcDPstnL8NkBw7pcq6Ss3QGCpQ55fWzdAUGTvEdaKN0BAH5uFTLo3QEDaRvnC6TdA",
          "dtype": "f8"
         },
         "yaxis": "y"
        }
       ],
       "layout": {
        "height": 600,
        "legend": {
         "title": {
          "text": "State"
         },
         "tracegroupgap": 0
        },
        "template": {
         "data": {
          "bar": [
           {
            "error_x": {
             "color": "#2a3f5f"
            },
            "error_y": {
             "color": "#2a3f5f"
            },
            "marker": {
             "line": {
              "color": "white",
              "width": 0.5
             },
             "pattern": {
              "fillmode": "overlay",
              "size": 10,
              "solidity": 0.2
             }
            },
            "type": "bar"
           }
          ],
          "barpolar": [
           {
            "marker": {
             "line": {
              "color": "white",
              "width": 0.5
             },
             "pattern": {
              "fillmode": "overlay",
              "size": 10,
              "solidity": 0.2
             }
            },
            "type": "barpolar"
           }
          ],
          "carpet": [
           {
            "aaxis": {
             "endlinecolor": "#2a3f5f",
             "gridcolor": "#C8D4E3",
             "linecolor": "#C8D4E3",
             "minorgridcolor": "#C8D4E3",
             "startlinecolor": "#2a3f5f"
            },
            "baxis": {
             "endlinecolor": "#2a3f5f",
             "gridcolor": "#C8D4E3",
             "linecolor": "#C8D4E3",
             "minorgridcolor": "#C8D4E3",
             "startlinecolor": "#2a3f5f"
            },
            "type": "carpet"
           }
          ],
          "choropleth": [
           {
            "colorbar": {
             "outlinewidth": 0,
             "ticks": ""
            },
            "type": "choropleth"
           }
          ],
          "contour": [
           {
            "colorbar": {
             "outlinewidth": 0,
             "ticks": ""
            },
            "colorscale": [
             [
              0,
              "#0d0887"
             ],
             [
              0.1111111111111111,
              "#46039f"
             ],
             [
              0.2222222222222222,
              "#7201a8"
             ],
             [
              0.3333333333333333,
              "#9c179e"
             ],
             [
              0.4444444444444444,
              "#bd3786"
             ],
             [
              0.5555555555555556,
              "#d8576b"
             ],
             [
              0.6666666666666666,
              "#ed7953"
             ],
             [
              0.7777777777777778,
              "#fb9f3a"
             ],
             [
              0.8888888888888888,
              "#fdca26"
             ],
             [
              1,
              "#f0f921"
             ]
            ],
            "type": "contour"
           }
          ],
          "contourcarpet": [
           {
            "colorbar": {
             "outlinewidth": 0,
             "ticks": ""
            },
            "type": "contourcarpet"
           }
          ],
          "heatmap": [
           {
            "colorbar": {
             "outlinewidth": 0,
             "ticks": ""
            },
            "colorscale": [
             [
              0,
              "#0d0887"
             ],
             [
              0.1111111111111111,
              "#46039f"
             ],
             [
              0.2222222222222222,
              "#7201a8"
             ],
             [
              0.3333333333333333,
              "#9c179e"
             ],
             [
              0.4444444444444444,
              "#bd3786"
             ],
             [
              0.5555555555555556,
              "#d8576b"
             ],
             [
              0.6666666666666666,
              "#ed7953"
             ],
             [
              0.7777777777777778,
              "#fb9f3a"
             ],
             [
              0.8888888888888888,
              "#fdca26"
             ],
             [
              1,
              "#f0f921"
             ]
            ],
            "type": "heatmap"
           }
          ],
          "histogram": [
           {
            "marker": {
             "pattern": {
              "fillmode": "overlay",
              "size": 10,
              "solidity": 0.2
             }
            },
            "type": "histogram"
           }
          ],
          "histogram2d": [
           {
            "colorbar": {
             "outlinewidth": 0,
             "ticks": ""
            },
            "colorscale": [
             [
              0,
              "#0d0887"
             ],
             [
              0.1111111111111111,
              "#46039f"
             ],
             [
              0.2222222222222222,
              "#7201a8"
             ],
             [
              0.3333333333333333,
              "#9c179e"
             ],
             [
              0.4444444444444444,
              "#bd3786"
             ],
             [
              0.5555555555555556,
              "#d8576b"
             ],
             [
              0.6666666666666666,
              "#ed7953"
             ],
             [
              0.7777777777777778,
              "#fb9f3a"
             ],
             [
              0.8888888888888888,
              "#fdca26"
             ],
             [
              1,
              "#f0f921"
             ]
            ],
            "type": "histogram2d"
           }
          ],
          "histogram2dcontour": [
           {
            "colorbar": {
             "outlinewidth": 0,
             "ticks": ""
            },
            "colorscale": [
             [
              0,
              "#0d0887"
             ],
             [
              0.1111111111111111,
              "#46039f"
             ],
             [
              0.2222222222222222,
              "#7201a8"
             ],
             [
              0.3333333333333333,
              "#9c179e"
             ],
             [
              0.4444444444444444,
              "#bd3786"
             ],
             [
              0.5555555555555556,
              "#d8576b"
             ],
             [
              0.6666666666666666,
              "#ed7953"
             ],
             [
              0.7777777777777778,
              "#fb9f3a"
             ],
             [
              0.8888888888888888,
              "#fdca26"
             ],
             [
              1,
              "#f0f921"
             ]
            ],
            "type": "histogram2dcontour"
           }
          ],
          "mesh3d": [
           {
            "colorbar": {
             "outlinewidth": 0,
             "ticks": ""
            },
            "type": "mesh3d"
           }
          ],
          "parcoords": [
           {
            "line": {
             "colorbar": {
              "outlinewidth": 0,
              "ticks": ""
             }
            },
            "type": "parcoords"
           }
          ],
          "pie": [
           {
            "automargin": true,
            "type": "pie"
           }
          ],
          "scatter": [
           {
            "fillpattern": {
             "fillmode": "overlay",
             "size": 10,
             "solidity": 0.2
            },
            "type": "scatter"
           }
          ],
          "scatter3d": [
           {
            "line": {
             "colorbar": {
              "outlinewidth": 0,
              "ticks": ""
             }
            },
            "marker": {
             "colorbar": {
              "outlinewidth": 0,
              "ticks": ""
             }
            },
            "type": "scatter3d"
           }
          ],
          "scattercarpet": [
           {
            "marker": {
             "colorbar": {
              "outlinewidth": 0,
              "ticks": ""
             }
            },
            "type": "scattercarpet"
           }
          ],
          "scattergeo": [
           {
            "marker": {
             "colorbar": {
              "outlinewidth": 0,
              "ticks": ""
             }
            },
            "type": "scattergeo"
           }
          ],
          "scattergl": [
           {
            "marker": {
             "colorbar": {
              "outlinewidth": 0,
              "ticks": ""
             }
            },
            "type": "scattergl"
           }
          ],
          "scattermap": [
           {
            "marker": {
             "colorbar": {
              "outlinewidth": 0,
              "ticks": ""
             }
            },
            "type": "scattermap"
           }
          ],
          "scattermapbox": [
           {
            "marker": {
             "colorbar": {
              "outlinewidth": 0,
              "ticks": ""
             }
            },
            "type": "scattermapbox"
           }
          ],
          "scatterpolar": [
           {
            "marker": {
             "colorbar": {
              "outlinewidth": 0,
              "ticks": ""
             }
            },
            "type": "scatterpolar"
           }
          ],
          "scatterpolargl": [
           {
            "marker": {
             "colorbar": {
              "outlinewidth": 0,
              "ticks": ""
             }
            },
            "type": "scatterpolargl"
           }
          ],
          "scatterternary": [
           {
            "marker": {
             "colorbar": {
              "outlinewidth": 0,
              "ticks": ""
             }
            },
            "type": "scatterternary"
           }
          ],
          "surface": [
           {
            "colorbar": {
             "outlinewidth": 0,
             "ticks": ""
            },
            "colorscale": [
             [
              0,
              "#0d0887"
             ],
             [
              0.1111111111111111,
              "#46039f"
             ],
             [
              0.2222222222222222,
              "#7201a8"
             ],
             [
              0.3333333333333333,
              "#9c179e"
             ],
             [
              0.4444444444444444,
              "#bd3786"
             ],
             [
              0.5555555555555556,
              "#d8576b"
             ],
             [
              0.6666666666666666,
              "#ed7953"
             ],
             [
              0.7777777777777778,
              "#fb9f3a"
             ],
             [
              0.8888888888888888,
              "#fdca26"
             ],
             [
              1,
              "#f0f921"
             ]
            ],
            "type": "surface"
           }
          ],
          "table": [
           {
            "cells": {
             "fill": {
              "color": "#EBF0F8"
             },
             "line": {
              "color": "white"
             }
            },
            "header": {
             "fill": {
              "color": "#C8D4E3"
             },
             "line": {
              "color": "white"
             }
            },
            "type": "table"
           }
          ]
         },
         "layout": {
          "annotationdefaults": {
           "arrowcolor": "#2a3f5f",
           "arrowhead": 0,
           "arrowwidth": 1
          },
          "autotypenumbers": "strict",
          "coloraxis": {
           "colorbar": {
            "outlinewidth": 0,
            "ticks": ""
           }
          },
          "colorscale": {
           "diverging": [
            [
             0,
             "#8e0152"
            ],
            [
             0.1,
             "#c51b7d"
            ],
            [
             0.2,
             "#de77ae"
            ],
            [
             0.3,
             "#f1b6da"
            ],
            [
             0.4,
             "#fde0ef"
            ],
            [
             0.5,
             "#f7f7f7"
            ],
            [
             0.6,
             "#e6f5d0"
            ],
            [
             0.7,
             "#b8e186"
            ],
            [
             0.8,
             "#7fbc41"
            ],
            [
             0.9,
             "#4d9221"
            ],
            [
             1,
             "#276419"
            ]
           ],
           "sequential": [
            [
             0,
             "#0d0887"
            ],
            [
             0.1111111111111111,
             "#46039f"
            ],
            [
             0.2222222222222222,
             "#7201a8"
            ],
            [
             0.3333333333333333,
             "#9c179e"
            ],
            [
             0.4444444444444444,
             "#bd3786"
            ],
            [
             0.5555555555555556,
             "#d8576b"
            ],
            [
             0.6666666666666666,
             "#ed7953"
            ],
            [
             0.7777777777777778,
             "#fb9f3a"
            ],
            [
             0.8888888888888888,
             "#fdca26"
            ],
            [
             1,
             "#f0f921"
            ]
           ],
           "sequentialminus": [
            [
             0,
             "#0d0887"
            ],
            [
             0.1111111111111111,
             "#46039f"
            ],
            [
             0.2222222222222222,
             "#7201a8"
            ],
            [
             0.3333333333333333,
             "#9c179e"
            ],
            [
             0.4444444444444444,
             "#bd3786"
            ],
            [
             0.5555555555555556,
             "#d8576b"
            ],
            [
             0.6666666666666666,
             "#ed7953"
            ],
            [
             0.7777777777777778,
             "#fb9f3a"
            ],
            [
             0.8888888888888888,
             "#fdca26"
            ],
            [
             1,
             "#f0f921"
            ]
           ]
          },
          "colorway": [
           "#636efa",
           "#EF553B",
           "#00cc96",
           "#ab63fa",
           "#FFA15A",
           "#19d3f3",
           "#FF6692",
           "#B6E880",
           "#FF97FF",
           "#FECB52"
          ],
          "font": {
           "color": "#2a3f5f"
          },
          "geo": {
           "bgcolor": "white",
           "lakecolor": "white",
           "landcolor": "white",
           "showlakes": true,
           "showland": true,
           "subunitcolor": "#C8D4E3"
          },
          "hoverlabel": {
           "align": "left"
          },
          "hovermode": "closest",
          "mapbox": {
           "style": "light"
          },
          "paper_bgcolor": "white",
          "plot_bgcolor": "white",
          "polar": {
           "angularaxis": {
            "gridcolor": "#EBF0F8",
            "linecolor": "#EBF0F8",
            "ticks": ""
           },
           "bgcolor": "white",
           "radialaxis": {
            "gridcolor": "#EBF0F8",
            "linecolor": "#EBF0F8",
            "ticks": ""
           }
          },
          "scene": {
           "xaxis": {
            "backgroundcolor": "white",
            "gridcolor": "#DFE8F3",
            "gridwidth": 2,
            "linecolor": "#EBF0F8",
            "showbackground": true,
            "ticks": "",
            "zerolinecolor": "#EBF0F8"
           },
           "yaxis": {
            "backgroundcolor": "white",
            "gridcolor": "#DFE8F3",
            "gridwidth": 2,
            "linecolor": "#EBF0F8",
            "showbackground": true,
            "ticks": "",
            "zerolinecolor": "#EBF0F8"
           },
           "zaxis": {
            "backgroundcolor": "white",
            "gridcolor": "#DFE8F3",
            "gridwidth": 2,
            "linecolor": "#EBF0F8",
            "showbackground": true,
            "ticks": "",
            "zerolinecolor": "#EBF0F8"
           }
          },
          "shapedefaults": {
           "line": {
            "color": "#2a3f5f"
           }
          },
          "ternary": {
           "aaxis": {
            "gridcolor": "#DFE8F3",
            "linecolor": "#A2B1C6",
            "ticks": ""
           },
           "baxis": {
            "gridcolor": "#DFE8F3",
            "linecolor": "#A2B1C6",
            "ticks": ""
           },
           "bgcolor": "white",
           "caxis": {
            "gridcolor": "#DFE8F3",
            "linecolor": "#A2B1C6",
            "ticks": ""
           }
          },
          "title": {
           "x": 0.05
          },
          "xaxis": {
           "automargin": true,
           "gridcolor": "#EBF0F8",
           "linecolor": "#EBF0F8",
           "ticks": "",
           "title": {
            "standoff": 15
           },
           "zerolinecolor": "#EBF0F8",
           "zerolinewidth": 2
          },
          "yaxis": {
           "automargin": true,
           "gridcolor": "#EBF0F8",
           "linecolor": "#EBF0F8",
           "ticks": "",
           "title": {
            "standoff": 15
           },
           "zerolinecolor": "#EBF0F8",
           "zerolinewidth": 2
          }
         }
        },
        "title": {
         "font": {
          "size": 16
         },
         "text": "Potash Percentage Usage Over Time by State"
        },
        "xaxis": {
         "anchor": "y",
         "domain": [
          0,
          1
         ],
         "title": {
          "font": {
           "size": 14
          },
          "text": "Year"
         }
        },
        "yaxis": {
         "anchor": "x",
         "domain": [
          0,
          1
         ],
         "title": {
          "font": {
           "size": 14
          },
          "text": "Potash Usage (%)"
         }
        }
       }
      }
     },
     "metadata": {},
     "output_type": "display_data"
    }
   ],
   "source": [
    "print(\"\\n=== POTASH ANALYSIS ===\")\n",
    "\n",
    "fig_potash = px.scatter(df_cotton, x='Year', y='Potash (Pounds/Acre)', \n",
    "                       color='State', size_max=10,\n",
    "                       title='Potash Usage Over Time by State',\n",
    "                       labels={'Potash (Pounds/Acre)': 'Potash (lbs/acre)'},\n",
    "                       hover_data=['State', 'Potash (%)'],\n",
    "                       trendline=\"ols\")\n",
    "\n",
    "fig_potash.update_layout(\n",
    "    title_font_size=16,\n",
    "    xaxis_title_font_size=14,\n",
    "    yaxis_title_font_size=14,\n",
    "    height=600,\n",
    "    template='plotly_white'\n",
    ")\n",
    "\n",
    "fig_potash.show()\n",
    "\n",
    "fig_potash_pct = px.scatter(df_cotton, x='Year', y='Potash (%)', \n",
    "                           color='State', size_max=10,\n",
    "                           title='Potash Percentage Usage Over Time by State',\n",
    "                           labels={'Potash (%)': 'Potash Usage (%)'},\n",
    "                           hover_data=['State', 'Potash (Pounds/Acre)'],\n",
    "                           trendline=\"ols\")\n",
    "\n",
    "fig_potash_pct.update_layout(\n",
    "    title_font_size=16,\n",
    "    xaxis_title_font_size=14,\n",
    "    yaxis_title_font_size=14,\n",
    "    height=600,\n",
    "    template='plotly_white'\n",
    ")\n",
    "\n",
    "fig_potash_pct.show()"
   ]
  },
  {
   "cell_type": "code",
   "execution_count": null,
   "id": "28ffb055",
   "metadata": {},
   "outputs": [],
   "source": [
    "print(\"\\n=== COMPARATIVE NUTRIENT ANALYSIS ===\")\n",
    "\n",
    "nutrients_summary = df_cotton.groupby('State')[['Nitrogen (Pounds/Acre)', \n",
    "                                               'Phosphorous (Pounds/Acre)', \n",
    "                                               'Potash (Pounds/Acre)']].agg(['mean', 'std']).round(2)\n",
    "\n",
    "print(\"Nutrient Usage Statistics by State (lbs/acre):\")\n",
    "print(nutrients_summary)\n",
    "\n",
    "from plotly.subplots import make_subplots\n",
    "import plotly.graph_objects as go\n",
    "\n",
    "fig_comparison = make_subplots(\n",
    "    rows=2, cols=2,\n",
    "    subplot_titles=('Nitrogen (lbs/acre)', 'Phosphorous (lbs/acre)', \n",
    "                   'Potash (lbs/acre)', 'All Nutrients Comparison'),\n",
    "    specs=[[{\"secondary_y\": False}, {\"secondary_y\": False}],\n",
    "           [{\"secondary_y\": False}, {\"secondary_y\": False}]]\n",
    ")\n",
    "\n",
    "states = df_cotton['State'].unique()\n",
    "colors = px.colors.qualitative.Set1[:len(states)]\n",
    "\n",
    "for i, state in enumerate(states):\n",
    "    state_data = df_cotton[df_cotton['State'] == state]\n",
    "    \n",
    "    fig_comparison.add_trace(\n",
    "        go.Scatter(x=state_data['Year'], y=state_data['Nitrogen (Pounds/Acre)'],\n",
    "                  mode='lines+markers', name=state, legendgroup=state,\n",
    "                  line=dict(color=colors[i % len(colors)]), showlegend=True),\n",
    "        row=1, col=1\n",
    "    )\n",
    "    \n",
    "    fig_comparison.add_trace(\n",
    "        go.Scatter(x=state_data['Year'], y=state_data['Phosphorous (Pounds/Acre)'],\n",
    "                  mode='lines+markers', name=state, legendgroup=state,\n",
    "                  line=dict(color=colors[i % len(colors)]), showlegend=False),\n",
    "        row=1, col=2\n",
    "    )\n",
    "    \n",
    "    fig_comparison.add_trace(\n",
    "        go.Scatter(x=state_data['Year'], y=state_data['Potash (Pounds/Acre)'],\n",
    "                  mode='lines+markers', name=state, legendgroup=state,\n",
    "                  line=dict(color=colors[i % len(colors)]), showlegend=False),\n",
    "        row=2, col=1\n",
    "    )\n",
    "\n",
    "fig_comparison.update_layout(\n",
    "    title_text=\"Nutrient Usage Trends Comparison by State\",\n",
    "    title_font_size=18,\n",
    "    height=800,\n",
    "    template='plotly_white'\n",
    ")\n",
    "\n",
    "fig_comparison.show()"
   ]
  },
  {
   "cell_type": "code",
   "execution_count": null,
   "id": "7d4c500e",
   "metadata": {},
   "outputs": [],
   "source": [
    "print(\"\\n=== NUTRIENT-YIELD CORRELATION ANALYSIS ===\")\n",
    "\n",
    "nutrients_cols = ['Nitrogen (Pounds/Acre)', 'Phosphorous (Pounds/Acre)', 'Potash (Pounds/Acre)']\n",
    "yield_col = 'Lint Yield (Pounds/Harvested Acre)'\n",
    "\n",
    "correlations = df_cotton[nutrients_cols + [yield_col]].corr()\n",
    "print(\"Correlation Matrix:\")\n",
    "print(correlations.round(3))\n",
    "\n",
    "fig_corr = px.imshow(correlations, \n",
    "                     text_auto=True, \n",
    "                     aspect=\"auto\",\n",
    "                     title=\"Correlation Heatmap: Nutrients vs Lint Yield\",\n",
    "                     color_continuous_scale=\"RdBu_r\")\n",
    "\n",
    "fig_corr.update_layout(\n",
    "    title_font_size=16,\n",
    "    height=500,\n",
    "    template='plotly_white'\n",
    ")\n",
    "\n",
    "fig_corr.show()\n",
    "\n",
    "fig_nutrient_yield = make_subplots(\n",
    "    rows=1, cols=3,\n",
    "    subplot_titles=('Nitrogen vs Yield', 'Phosphorous vs Yield', 'Potash vs Yield')\n",
    ")\n",
    "\n",
    "fig_nutrient_yield.add_trace(\n",
    "    go.Scatter(x=df_cotton['Nitrogen (Pounds/Acre)'], \n",
    "              y=df_cotton['Lint Yield (Pounds/Harvested Acre)'],\n",
    "              mode='markers', name='Nitrogen',\n",
    "              marker=dict(color='blue', opacity=0.6)),\n",
    "    row=1, col=1\n",
    ")\n",
    "\n",
    "fig_nutrient_yield.add_trace(\n",
    "    go.Scatter(x=df_cotton['Phosphorous (Pounds/Acre)'], \n",
    "              y=df_cotton['Lint Yield (Pounds/Harvested Acre)'],\n",
    "              mode='markers', name='Phosphorous',\n",
    "              marker=dict(color='green', opacity=0.6)),\n",
    "    row=1, col=2\n",
    ")\n",
    "\n",
    "fig_nutrient_yield.add_trace(\n",
    "    go.Scatter(x=df_cotton['Potash (Pounds/Acre)'], \n",
    "              y=df_cotton['Lint Yield (Pounds/Harvested Acre)'],\n",
    "              mode='markers', name='Potash',\n",
    "              marker=dict(color='red', opacity=0.6)),\n",
    "    row=1, col=3\n",
    ")\n",
    "\n",
    "fig_nutrient_yield.update_layout(\n",
    "    title_text=\"Nutrient Usage vs Cotton Lint Yield\",\n",
    "    title_font_size=16,\n",
    "    height=500,\n",
    "    template='plotly_white',\n",
    "    showlegend=False\n",
    ")\n",
    "\n",
    "fig_nutrient_yield.update_xaxes(title_text=\"Nitrogen (lbs/acre)\", row=1, col=1)\n",
    "fig_nutrient_yield.update_xaxes(title_text=\"Phosphorous (lbs/acre)\", row=1, col=2)\n",
    "fig_nutrient_yield.update_xaxes(title_text=\"Potash (lbs/acre)\", row=1, col=3)\n",
    "fig_nutrient_yield.update_yaxes(title_text=\"Lint Yield (lbs/acre)\", row=1, col=1)\n",
    "\n",
    "fig_nutrient_yield.show()"
   ]
  },
  {
   "cell_type": "code",
   "execution_count": null,
   "id": "0e80e20f",
   "metadata": {},
   "outputs": [],
   "source": [
    "print(\"\\n=== INTER-NUTRIENT CORRELATION ANALYSIS ===\")\n",
    "\n",
    "nutrient_corr = df_cotton[nutrients_cols].corr()\n",
    "print(\"Correlation Matrix - Nutrients Only:\")\n",
    "print(nutrient_corr.round(3))\n",
    "\n",
    "fig_nutrient_corr = px.imshow(nutrient_corr, \n",
    "                             text_auto=True, \n",
    "                             aspect=\"auto\",\n",
    "                             title=\"Inter-Nutrient Correlation Heatmap\",\n",
    "                             color_continuous_scale=\"RdBu_r\",\n",
    "                             zmin=-1, zmax=1)\n",
    "\n",
    "fig_nutrient_corr.update_layout(\n",
    "    title_font_size=16,\n",
    "    height=400,\n",
    "    width=500,\n",
    "    template='plotly_white'\n",
    ")\n",
    "\n",
    "fig_nutrient_corr.show()\n",
    "\n",
    "fig_pairwise = make_subplots(\n",
    "    rows=2, cols=2,\n",
    "    subplot_titles=('Nitrogen vs Phosphorous', 'Nitrogen vs Potash', \n",
    "                   'Phosphorous vs Potash', 'All Nutrients Distribution'),\n",
    "    specs=[[{\"secondary_y\": False}, {\"secondary_y\": False}],\n",
    "           [{\"secondary_y\": False}, {\"type\": \"xy\"}]]\n",
    ")\n",
    "\n",
    "fig_pairwise.add_trace(\n",
    "    go.Scatter(x=df_cotton['Nitrogen (Pounds/Acre)'], \n",
    "              y=df_cotton['Phosphorous (Pounds/Acre)'],\n",
    "              mode='markers', name='N vs P',\n",
    "              marker=dict(color='purple', opacity=0.6, size=4)),\n",
    "    row=1, col=1\n",
    ")\n",
    "\n",
    "fig_pairwise.add_trace(\n",
    "    go.Scatter(x=df_cotton['Nitrogen (Pounds/Acre)'], \n",
    "              y=df_cotton['Potash (Pounds/Acre)'],\n",
    "              mode='markers', name='N vs K',\n",
    "              marker=dict(color='orange', opacity=0.6, size=4)),\n",
    "    row=1, col=2\n",
    ")\n",
    "\n",
    "fig_pairwise.add_trace(\n",
    "    go.Scatter(x=df_cotton['Phosphorous (Pounds/Acre)'], \n",
    "              y=df_cotton['Potash (Pounds/Acre)'],\n",
    "              mode='markers', name='P vs K',\n",
    "              marker=dict(color='brown', opacity=0.6, size=4)),\n",
    "    row=2, col=1\n",
    ")\n",
    "\n",
    "fig_pairwise.update_layout(\n",
    "    title_text=\"Pairwise Nutrient Relationships\",\n",
    "    title_font_size=16,\n",
    "    height=600,\n",
    "    template='plotly_white',\n",
    "    showlegend=False\n",
    ")\n",
    "\n",
    "fig_pairwise.update_xaxes(title_text=\"Nitrogen (lbs/acre)\", row=1, col=1)\n",
    "fig_pairwise.update_yaxes(title_text=\"Phosphorous (lbs/acre)\", row=1, col=1)\n",
    "fig_pairwise.update_xaxes(title_text=\"Nitrogen (lbs/acre)\", row=1, col=2)\n",
    "fig_pairwise.update_yaxes(title_text=\"Potash (lbs/acre)\", row=1, col=2)\n",
    "fig_pairwise.update_xaxes(title_text=\"Phosphorous (lbs/acre)\", row=2, col=1)\n",
    "fig_pairwise.update_yaxes(title_text=\"Potash (lbs/acre)\", row=2, col=1)\n",
    "\n",
    "fig_pairwise.show()\n",
    "\n",
    "print(\"\\nSpecific Nutrient Correlations:\")\n",
    "n_p_corr = df_cotton['Nitrogen (Pounds/Acre)'].corr(df_cotton['Phosphorous (Pounds/Acre)'])\n",
    "n_k_corr = df_cotton['Nitrogen (Pounds/Acre)'].corr(df_cotton['Potash (Pounds/Acre)'])\n",
    "p_k_corr = df_cotton['Phosphorous (Pounds/Acre)'].corr(df_cotton['Potash (Pounds/Acre)'])\n",
    "\n",
    "print(f\"Nitrogen ↔ Phosphorous: {n_p_corr:.3f}\")\n",
    "print(f\"Nitrogen ↔ Potash: {n_k_corr:.3f}\")\n",
    "print(f\"Phosphorous ↔ Potash: {p_k_corr:.3f}\")\n",
    "\n",
    "print(\"\\nCorrelation Interpretation:\")\n",
    "if n_p_corr > 0.7:\n",
    "    print(\"Strong positive correlation between Nitrogen and Phosphorous usage\")\n",
    "elif n_p_corr > 0.3:\n",
    "    print(\"Moderate positive correlation between Nitrogen and Phosphorous usage\")\n",
    "else:\n",
    "    print(\"Weak correlation between Nitrogen and Phosphorous usage\")\n",
    "\n",
    "if n_k_corr > 0.7:\n",
    "    print(\"Strong positive correlation between Nitrogen and Potash usage\")\n",
    "elif n_k_corr > 0.3:\n",
    "    print(\"Moderate positive correlation between Nitrogen and Potash usage\")\n",
    "else:\n",
    "    print(\"Weak correlation between Nitrogen and Potash usage\")\n",
    "\n",
    "if p_k_corr > 0.7:\n",
    "    print(\"Strong positive correlation between Phosphorous and Potash usage\")\n",
    "elif p_k_corr > 0.3:\n",
    "    print(\"Moderate positive correlation between Phosphorous and Potash usage\")\n",
    "else:\n",
    "    print(\"Weak correlation between Phosphorous and Potash usage\")"
   ]
  },
  {
   "cell_type": "code",
   "execution_count": null,
   "id": "63e44bb3",
   "metadata": {},
   "outputs": [],
   "source": [
    "print(\"\\n=== CORRELATION ANALYSIS BY STATE ===\")\n",
    "\n",
    "state_correlations = {}\n",
    "for state in df_cotton['State'].unique():\n",
    "    state_data = df_cotton[df_cotton['State'] == state]\n",
    "    if len(state_data) > 3:\n",
    "        state_corr = state_data[nutrients_cols].corr()\n",
    "        state_correlations[state] = {\n",
    "            'N-P': state_corr.loc['Nitrogen (Pounds/Acre)', 'Phosphorous (Pounds/Acre)'],\n",
    "            'N-K': state_corr.loc['Nitrogen (Pounds/Acre)', 'Potash (Pounds/Acre)'],\n",
    "            'P-K': state_corr.loc['Phosphorous (Pounds/Acre)', 'Potash (Pounds/Acre)']\n",
    "        }\n",
    "\n",
    "corr_by_state = pd.DataFrame(state_correlations).T\n",
    "print(\"Nutrient Correlations by State:\")\n",
    "print(corr_by_state.round(3))\n",
    "\n",
    "fig_state_corr = px.bar(corr_by_state.reset_index(), \n",
    "                       x='index', \n",
    "                       y=['N-P', 'N-K', 'P-K'],\n",
    "                       title='Nutrient Correlations by State',\n",
    "                       labels={'index': 'State', 'value': 'Correlation Coefficient'},\n",
    "                       barmode='group')\n",
    "\n",
    "fig_state_corr.update_layout(\n",
    "    title_font_size=16,\n",
    "    xaxis_title_font_size=14,\n",
    "    yaxis_title_font_size=14,\n",
    "    height=500,\n",
    "    template='plotly_white',\n",
    "    xaxis_tickangle=-45\n",
    ")\n",
    "\n",
    "fig_state_corr.show()\n",
    "\n",
    "print(\"\\n=== CORRELATION TRENDS OVER TIME ===\")\n",
    "\n",
    "df_sorted = df_cotton.sort_values('Year')\n",
    "rolling_window = 10\n",
    "\n",
    "if len(df_sorted) >= rolling_window:\n",
    "    rolling_corr_data = []\n",
    "    \n",
    "    for i in range(rolling_window, len(df_sorted) + 1):\n",
    "        window_data = df_sorted.iloc[i-rolling_window:i]\n",
    "        \n",
    "        n_p_corr = window_data['Nitrogen (Pounds/Acre)'].corr(window_data['Phosphorous (Pounds/Acre)'])\n",
    "        n_k_corr = window_data['Nitrogen (Pounds/Acre)'].corr(window_data['Potash (Pounds/Acre)'])\n",
    "        p_k_corr = window_data['Phosphorous (Pounds/Acre)'].corr(window_data['Potash (Pounds/Acre)'])\n",
    "        \n",
    "        year = window_data['Year'].iloc[-1]\n",
    "        \n",
    "        rolling_corr_data.append({\n",
    "            'Year': year,\n",
    "            'N-P Correlation': n_p_corr,\n",
    "            'N-K Correlation': n_k_corr,\n",
    "            'P-K Correlation': p_k_corr\n",
    "        })\n",
    "    \n",
    "    rolling_corr_df = pd.DataFrame(rolling_corr_data)\n",
    "    \n",
    "    fig_rolling = px.line(rolling_corr_df, x='Year', \n",
    "                         y=['N-P Correlation', 'N-K Correlation', 'P-K Correlation'],\n",
    "                         title=f'Rolling {rolling_window}-Year Nutrient Correlations',\n",
    "                         labels={'value': 'Correlation Coefficient'})\n",
    "    \n",
    "    fig_rolling.update_layout(\n",
    "        title_font_size=16,\n",
    "        xaxis_title_font_size=14,\n",
    "        yaxis_title_font_size=14,\n",
    "        height=500,\n",
    "        template='plotly_white'\n",
    "    )\n",
    "    \n",
    "    fig_rolling.show()\n",
    "    \n",
    "    print(f\"Rolling correlation analysis shows trends over {rolling_window}-year windows\")\n",
    "else:\n",
    "    print(f\"Not enough data for rolling correlation analysis (need at least {rolling_window} data points)\")"
   ]
  },
  {
   "cell_type": "code",
   "execution_count": null,
   "id": "a805f06d",
   "metadata": {},
   "outputs": [],
   "source": [
    "print(\"\\n=== YIELD PREDICTION MODELING ===\")\n",
    "\n",
    "from sklearn.model_selection import train_test_split, cross_val_score, GridSearchCV\n",
    "from sklearn.linear_model import LinearRegression, Ridge, Lasso\n",
    "from sklearn.ensemble import RandomForestRegressor, GradientBoostingRegressor\n",
    "from sklearn.preprocessing import StandardScaler\n",
    "from sklearn.metrics import mean_absolute_error, r2_score\n",
    "import warnings\n",
    "warnings.filterwarnings('ignore')\n",
    "\n",
    "feature_cols = ['Nitrogen (Pounds/Acre)', 'Phosphorous (Pounds/Acre)', 'Potash (Pounds/Acre)', 'Year']\n",
    "target_col = 'Lint Yield (Pounds/Harvested Acre)'\n",
    "\n",
    "model_data = df_cotton[feature_cols + [target_col, 'State']].dropna()\n",
    "\n",
    "print(f\"Dataset for modeling: {len(model_data)} observations\")\n",
    "print(f\"Features: {feature_cols}\")\n",
    "print(f\"Target: {target_col}\")\n",
    "\n",
    "print(\"\\nFeature Statistics:\")\n",
    "print(model_data[feature_cols + [target_col]].describe().round(2))\n",
    "\n",
    "print(\"\\nCorrelation with Lint Yield:\")\n",
    "correlations_with_yield = model_data[feature_cols].corrwith(model_data[target_col])\n",
    "for feature in feature_cols:\n",
    "    corr_val = correlations_with_yield[feature]\n",
    "    print(f\"{feature}: {corr_val:.3f}\")\n",
    "\n",
    "fig_yield_corr = px.bar(\n",
    "    x=feature_cols,\n",
    "    y=[correlations_with_yield[col] for col in feature_cols],\n",
    "    title='Correlation of Features with Cotton Lint Yield',\n",
    "    labels={'x': 'Features', 'y': 'Correlation Coefficient'},\n",
    "    color=[abs(correlations_with_yield[col]) for col in feature_cols],\n",
    "    color_continuous_scale='Viridis'\n",
    ")\n",
    "\n",
    "fig_yield_corr.update_layout(\n",
    "    title_font_size=16,\n",
    "    xaxis_title_font_size=14,\n",
    "    yaxis_title_font_size=14,\n",
    "    height=500,\n",
    "    template='plotly_white',\n",
    "    xaxis_tickangle=-45\n",
    ")\n",
    "\n",
    "fig_yield_corr.show()"
   ]
  },
  {
   "cell_type": "code",
   "execution_count": null,
   "id": "10b01484",
   "metadata": {},
   "outputs": [],
   "source": [
    "print(\"\\n=== MACHINE LEARNING MODEL TRAINING ===\")\n",
    "\n",
    "X = model_data[feature_cols]\n",
    "y = model_data[target_col]\n",
    "\n",
    "X_train, X_test, y_train, y_test = train_test_split(X, y, test_size=0.2, random_state=42)\n",
    "\n",
    "print(f\"Training set: {len(X_train)} samples\")\n",
    "print(f\"Test set: {len(X_test)} samples\")\n",
    "\n",
    "scaler = StandardScaler()\n",
    "X_train_scaled = scaler.fit_transform(X_train)\n",
    "X_test_scaled = scaler.transform(X_test)\n",
    "\n",
    "models = {\n",
    "    'Linear Regression': LinearRegression(),\n",
    "    'Ridge Regression': Ridge(alpha=1.0),\n",
    "    'Lasso Regression': Lasso(alpha=1.0),\n",
    "    'Random Forest': RandomForestRegressor(n_estimators=100, random_state=42),\n",
    "    'Gradient Boosting': GradientBoostingRegressor(n_estimators=100, random_state=42)\n",
    "}\n",
    "\n",
    "model_results = {}\n",
    "model_predictions = {}\n",
    "\n",
    "for name, model in models.items():\n",
    "    print(f\"\\nTraining {name}...\")\n",
    "    \n",
    "    if 'Regression' in name:\n",
    "        model.fit(X_train_scaled, y_train)\n",
    "        y_pred = model.predict(X_test_scaled)\n",
    "        cv_scores = cross_val_score(model, X_train_scaled, y_train, cv=5, scoring='r2')\n",
    "    else:\n",
    "        model.fit(X_train, y_train)\n",
    "        y_pred = model.predict(X_test)\n",
    "        cv_scores = cross_val_score(model, X_train, y_train, cv=5, scoring='r2')\n",
    "    \n",
    "    mse = mean_squared_error(y_test, y_pred)\n",
    "    mae = mean_absolute_error(y_test, y_pred)\n",
    "    r2 = r2_score(y_test, y_pred)\n",
    "    \n",
    "    model_results[name] = {\n",
    "        'MSE': mse,\n",
    "        'MAE': mae,\n",
    "        'R2': r2,\n",
    "        'CV_R2_mean': cv_scores.mean(),\n",
    "        'CV_R2_std': cv_scores.std()\n",
    "    }\n",
    "    \n",
    "    model_predictions[name] = y_pred\n",
    "    \n",
    "    print(f\"  R2 Score: {r2:.3f}\")\n",
    "    print(f\"  MAE: {mae:.2f}\")\n",
    "    print(f\"  Cross-validation R2: {cv_scores.mean():.3f} ± {cv_scores.std():.3f}\")\n",
    "\n",
    "results_df = pd.DataFrame(model_results).T\n",
    "print(\"\\n=== MODEL PERFORMANCE SUMMARY ===\")\n",
    "print(results_df.round(3))"
   ]
  },
  {
   "cell_type": "code",
   "execution_count": null,
   "id": "8bea6624",
   "metadata": {},
   "outputs": [],
   "source": [
    "print(\"\\n=== MODEL PERFORMANCE VISUALIZATION ===\")\n",
    "\n",
    "fig_performance = px.bar(\n",
    "    results_df.reset_index(),\n",
    "    x='index',\n",
    "    y=['R2', 'CV_R2_mean'],\n",
    "    title='Model Performance Comparison',\n",
    "    labels={'index': 'Model', 'value': 'R2 Score'},\n",
    "    barmode='group'\n",
    ")\n",
    "\n",
    "fig_performance.update_layout(\n",
    "    title_font_size=16,\n",
    "    xaxis_title_font_size=14,\n",
    "    yaxis_title_font_size=14,\n",
    "    height=500,\n",
    "    template='plotly_white',\n",
    "    xaxis_tickangle=-45\n",
    ")\n",
    "\n",
    "fig_performance.show()\n",
    "\n",
    "best_model_name = results_df['R2'].idxmax()\n",
    "print(f\"\\nBest performing model: {best_model_name} (R2 = {results_df.loc[best_model_name, 'R2']:.3f})\")\n",
    "\n",
    "fig_pred = make_subplots(\n",
    "    rows=2, cols=3,\n",
    "    subplot_titles=list(models.keys()),\n",
    "    shared_xaxes=True,\n",
    "    shared_yaxes=True\n",
    ")\n",
    "\n",
    "positions = [(1,1), (1,2), (1,3), (2,1), (2,2), (2,3)]\n",
    "\n",
    "for i, (name, _) in enumerate(models.items()):\n",
    "    row, col = positions[i]\n",
    "    y_pred = model_predictions[name]\n",
    "    \n",
    "    fig_pred.add_trace(\n",
    "        go.Scatter(\n",
    "            x=y_test,\n",
    "            y=y_pred,\n",
    "            mode='markers',\n",
    "            name=name,\n",
    "            marker=dict(opacity=0.6),\n",
    "            showlegend=False\n",
    "        ),\n",
    "        row=row, col=col\n",
    "    )\n",
    "    \n",
    "    min_val = min(y_test.min(), y_pred.min())\n",
    "    max_val = max(y_test.max(), y_pred.max())\n",
    "    \n",
    "    fig_pred.add_trace(\n",
    "        go.Scatter(\n",
    "            x=[min_val, max_val],\n",
    "            y=[min_val, max_val],\n",
    "            mode='lines',\n",
    "            line=dict(dash='dash', color='red'),\n",
    "            name='Perfect Prediction',\n",
    "            showlegend=(i == 0)\n",
    "        ),\n",
    "        row=row, col=col\n",
    "    )\n",
    "\n",
    "fig_pred.update_layout(\n",
    "    title_text=\"Actual vs Predicted Yield for All Models\",\n",
    "    title_font_size=16,\n",
    "    height=800,\n",
    "    template='plotly_white'\n",
    ")\n",
    "\n",
    "fig_pred.update_xaxes(title_text=\"Actual Yield (lbs/acre)\")\n",
    "fig_pred.update_yaxes(title_text=\"Predicted Yield (lbs/acre)\")\n",
    "\n",
    "fig_pred.show()"
   ]
  },
  {
   "cell_type": "code",
   "execution_count": null,
   "id": "d6c0dfe5",
   "metadata": {},
   "outputs": [],
   "source": [
    "print(\"\\n=== FEATURE IMPORTANCE ANALYSIS ===\")\n",
    "\n",
    "lr_model = models['Linear Regression']\n",
    "if hasattr(lr_model, 'coef_'):\n",
    "    feature_importance_lr = pd.DataFrame({\n",
    "        'Feature': feature_cols,\n",
    "        'Coefficient': lr_model.coef_,\n",
    "        'Abs_Coefficient': np.abs(lr_model.coef_)\n",
    "    }).sort_values('Abs_Coefficient', ascending=False)\n",
    "    \n",
    "    print(\"Linear Regression Coefficients:\")\n",
    "    print(feature_importance_lr.round(3))\n",
    "\n",
    "rf_model = models['Random Forest']\n",
    "if hasattr(rf_model, 'feature_importances_'):\n",
    "    feature_importance_rf = pd.DataFrame({\n",
    "        'Feature': feature_cols,\n",
    "        'Importance': rf_model.feature_importances_\n",
    "    }).sort_values('Importance', ascending=False)\n",
    "    \n",
    "    print(\"\\nRandom Forest Feature Importance:\")\n",
    "    print(feature_importance_rf.round(3))\n",
    "\n",
    "fig_importance = make_subplots(\n",
    "    rows=1, cols=2,\n",
    "    subplot_titles=('Linear Regression Coefficients', 'Random Forest Importance')\n",
    ")\n",
    "\n",
    "fig_importance.add_trace(\n",
    "    go.Bar(\n",
    "        x=feature_importance_lr['Feature'],\n",
    "        y=feature_importance_lr['Coefficient'],\n",
    "        name='LR Coefficients',\n",
    "        marker_color='blue'\n",
    "    ),\n",
    "    row=1, col=1\n",
    ")\n",
    "\n",
    "fig_importance.add_trace(\n",
    "    go.Bar(\n",
    "        x=feature_importance_rf['Feature'],\n",
    "        y=feature_importance_rf['Importance'],\n",
    "        name='RF Importance',\n",
    "        marker_color='green'\n",
    "    ),\n",
    "    row=1, col=2\n",
    ")\n",
    "\n",
    "fig_importance.update_layout(\n",
    "    title_text=\"Feature Importance Comparison\",\n",
    "    title_font_size=16,\n",
    "    height=500,\n",
    "    template='plotly_white',\n",
    "    showlegend=False\n",
    ")\n",
    "\n",
    "fig_importance.update_xaxes(tickangle=-45)\n",
    "\n",
    "fig_importance.show()\n",
    "\n",
    "print(f\"\\n=== RESIDUAL ANALYSIS FOR {best_model_name.upper()} ===\")\n",
    "\n",
    "best_predictions = model_predictions[best_model_name]\n",
    "residuals = y_test - best_predictions\n",
    "\n",
    "fig_residuals = make_subplots(\n",
    "    rows=1, cols=2,\n",
    "    subplot_titles=('Residuals vs Predicted', 'Residual Distribution')\n",
    ")\n",
    "\n",
    "fig_residuals.add_trace(\n",
    "    go.Scatter(\n",
    "        x=best_predictions,\n",
    "        y=residuals,\n",
    "        mode='markers',\n",
    "        name='Residuals',\n",
    "        marker=dict(opacity=0.6)\n",
    "    ),\n",
    "    row=1, col=1\n",
    ")\n",
    "\n",
    "fig_residuals.add_hline(y=0, line_dash=\"dash\", line_color=\"red\", row=1, col=1)\n",
    "\n",
    "fig_residuals.add_trace(\n",
    "    go.Histogram(\n",
    "        x=residuals,\n",
    "        name='Residual Distribution',\n",
    "        nbinsx=20,\n",
    "        opacity=0.7\n",
    "    ),\n",
    "    row=1, col=2\n",
    ")\n",
    "\n",
    "fig_residuals.update_layout(\n",
    "    title_text=f\"Residual Analysis - {best_model_name}\",\n",
    "    title_font_size=16,\n",
    "    height=400,\n",
    "    template='plotly_white',\n",
    "    showlegend=False\n",
    ")\n",
    "\n",
    "fig_residuals.update_xaxes(title_text=\"Predicted Yield\", row=1, col=1)\n",
    "fig_residuals.update_yaxes(title_text=\"Residuals\", row=1, col=1)\n",
    "fig_residuals.update_xaxes(title_text=\"Residuals\", row=1, col=2)\n",
    "fig_residuals.update_yaxes(title_text=\"Frequency\", row=1, col=2)\n",
    "\n",
    "fig_residuals.show()\n",
    "\n",
    "print(f\"Residual Statistics:\")\n",
    "print(f\"Mean: {residuals.mean():.3f}\")\n",
    "print(f\"Std: {residuals.std():.3f}\")\n",
    "print(f\"Min: {residuals.min():.3f}\")\n",
    "print(f\"Max: {residuals.max():.3f}\")"
   ]
  },
  {
   "cell_type": "code",
   "execution_count": null,
   "id": "facd5f32",
   "metadata": {},
   "outputs": [],
   "source": [
    "print(\"\\n=== MODEL OPTIMIZATION ===\")\n",
    "\n",
    "if 'Random Forest' in best_model_name:\n",
    "    param_grid = {\n",
    "        'n_estimators': [50, 100, 200],\n",
    "        'max_depth': [5, 10, 15, None],\n",
    "        'min_samples_split': [2, 5, 10]\n",
    "    }\n",
    "    \n",
    "    grid_search = GridSearchCV(\n",
    "        RandomForestRegressor(random_state=42),\n",
    "        param_grid,\n",
    "        cv=5,\n",
    "        scoring='r2',\n",
    "        n_jobs=-1\n",
    "    )\n",
    "    \n",
    "    grid_search.fit(X_train, y_train)\n",
    "    \n",
    "    print(\"Best Random Forest parameters:\")\n",
    "    print(grid_search.best_params_)\n",
    "    print(f\"Best cross-validation score: {grid_search.best_score_:.3f}\")\n",
    "    \n",
    "    optimized_model = grid_search.best_estimator_\n",
    "    y_pred_optimized = optimized_model.predict(X_test)\n",
    "    \n",
    "    r2_optimized = r2_score(y_test, y_pred_optimized)\n",
    "    mae_optimized = mean_absolute_error(y_test, y_pred_optimized)\n",
    "    \n",
    "    print(f\"Optimized model R2: {r2_optimized:.3f}\")\n",
    "    print(f\"Optimized model MAE: {mae_optimized:.2f}\")\n",
    "    \n",
    "    original_r2 = model_results[best_model_name]['R2']\n",
    "    print(f\"Improvement in R2: {r2_optimized - original_r2:.3f}\")\n",
    "\n",
    "print(\"\\n=== PREDICTION EXAMPLES ===\")\n",
    "\n",
    "best_model = models[best_model_name]\n",
    "\n",
    "example_scenarios = pd.DataFrame({\n",
    "    'Scenario': ['Low Fertilizer', 'Medium Fertilizer', 'High Fertilizer', 'Nitrogen Focus', 'Balanced NPK'],\n",
    "    'Nitrogen (Pounds/Acre)': [50, 100, 150, 180, 120],\n",
    "    'Phosphorous (Pounds/Acre)': [30, 60, 90, 60, 80],\n",
    "    'Potash (Pounds/Acre)': [40, 80, 120, 70, 100],\n",
    "    'Year': [2020, 2020, 2020, 2020, 2020]\n",
    "})\n",
    "\n",
    "print(\"Prediction Examples:\")\n",
    "print(example_scenarios)\n",
    "\n",
    "if 'Regression' in best_model_name:\n",
    "    example_scaled = scaler.transform(example_scenarios[feature_cols])\n",
    "    predictions = best_model.predict(example_scaled)\n",
    "else:\n",
    "    predictions = best_model.predict(example_scenarios[feature_cols])\n",
    "\n",
    "example_scenarios['Predicted_Yield'] = predictions\n",
    "example_scenarios['Predicted_Yield'] = example_scenarios['Predicted_Yield'].round(1)\n",
    "\n",
    "print(\"\\nPredicted Yields:\")\n",
    "print(example_scenarios[['Scenario', 'Predicted_Yield']])\n",
    "\n",
    "fig_examples = px.bar(\n",
    "    example_scenarios,\n",
    "    x='Scenario',\n",
    "    y='Predicted_Yield',\n",
    "    title='Predicted Cotton Yield for Different Nutrient Scenarios',\n",
    "    labels={'Predicted_Yield': 'Predicted Yield (lbs/acre)'},\n",
    "    color='Predicted_Yield',\n",
    "    color_continuous_scale='Viridis'\n",
    ")\n",
    "\n",
    "fig_examples.update_layout(\n",
    "    title_font_size=16,\n",
    "    xaxis_title_font_size=14,\n",
    "    yaxis_title_font_size=14,\n",
    "    height=500,\n",
    "    template='plotly_white',\n",
    "    xaxis_tickangle=-45\n",
    ")\n",
    "\n",
    "fig_examples.show()\n",
    "\n",
    "print(\"\\n=== MODEL INSIGHTS AND RECOMMENDATIONS ===\")\n",
    "print(f\"Best Model: {best_model_name}\")\n",
    "print(f\"Model R2 Score: {model_results[best_model_name]['R2']:.3f}\")\n",
    "print(f\"Model explains {model_results[best_model_name]['R2']*100:.1f}% of yield variance\")\n",
    "\n",
    "if hasattr(rf_model, 'feature_importances_'):\n",
    "    top_feature = feature_importance_rf.iloc[0]['Feature']\n",
    "    top_importance = feature_importance_rf.iloc[0]['Importance']\n",
    "    print(f\"\\nMost important feature: {top_feature} ({top_importance:.3f} importance)\")\n",
    "\n",
    "print(\"\\nKey Findings:\")\n",
    "print(\"Nutrient application has a measurable impact on cotton yield\")\n",
    "print(\"Machine learning models can predict yield with reasonable accuracy\")\n",
    "print(\"Feature importance reveals which nutrients matter most\")\n",
    "print(\"Year trend shows technological/climatic effects over time\")"
   ]
  }
 ],
 "metadata": {
  "kernelspec": {
   "display_name": ".venv (3.12.3)",
   "language": "python",
   "name": "python3"
  },
  "language_info": {
   "codemirror_mode": {
    "name": "ipython",
    "version": 3
   },
   "file_extension": ".py",
   "mimetype": "text/x-python",
   "name": "python",
   "nbconvert_exporter": "python",
   "pygments_lexer": "ipython3",
   "version": "3.12.3"
  }
 },
 "nbformat": 4,
 "nbformat_minor": 5
}
